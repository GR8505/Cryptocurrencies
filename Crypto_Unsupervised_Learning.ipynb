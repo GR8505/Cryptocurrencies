{
 "cells": [
  {
   "cell_type": "markdown",
   "metadata": {},
   "source": [
    "## Cryptocurrency Unsupervised Learning"
   ]
  },
  {
   "cell_type": "code",
   "execution_count": 250,
   "metadata": {},
   "outputs": [],
   "source": [
    "# Import Dependencies\n",
    "import pandas as pd\n",
    "from sklearn.preprocessing import StandardScaler\n",
    "from sklearn.cluster import KMeans\n",
    "import hvplot.pandas"
   ]
  },
  {
   "cell_type": "code",
   "execution_count": 251,
   "metadata": {},
   "outputs": [
    {
     "data": {
      "text/html": [
       "<div>\n",
       "<style scoped>\n",
       "    .dataframe tbody tr th:only-of-type {\n",
       "        vertical-align: middle;\n",
       "    }\n",
       "\n",
       "    .dataframe tbody tr th {\n",
       "        vertical-align: top;\n",
       "    }\n",
       "\n",
       "    .dataframe thead th {\n",
       "        text-align: right;\n",
       "    }\n",
       "</style>\n",
       "<table border=\"1\" class=\"dataframe\">\n",
       "  <thead>\n",
       "    <tr style=\"text-align: right;\">\n",
       "      <th></th>\n",
       "      <th>Unnamed: 0</th>\n",
       "      <th>CoinName</th>\n",
       "      <th>Algorithm</th>\n",
       "      <th>IsTrading</th>\n",
       "      <th>ProofType</th>\n",
       "      <th>TotalCoinsMined</th>\n",
       "      <th>TotalCoinSupply</th>\n",
       "    </tr>\n",
       "  </thead>\n",
       "  <tbody>\n",
       "    <tr>\n",
       "      <th>0</th>\n",
       "      <td>42</td>\n",
       "      <td>42 Coin</td>\n",
       "      <td>Scrypt</td>\n",
       "      <td>True</td>\n",
       "      <td>PoW/PoS</td>\n",
       "      <td>4.199995e+01</td>\n",
       "      <td>42</td>\n",
       "    </tr>\n",
       "    <tr>\n",
       "      <th>1</th>\n",
       "      <td>365</td>\n",
       "      <td>365Coin</td>\n",
       "      <td>X11</td>\n",
       "      <td>True</td>\n",
       "      <td>PoW/PoS</td>\n",
       "      <td>NaN</td>\n",
       "      <td>2300000000</td>\n",
       "    </tr>\n",
       "    <tr>\n",
       "      <th>2</th>\n",
       "      <td>404</td>\n",
       "      <td>404Coin</td>\n",
       "      <td>Scrypt</td>\n",
       "      <td>True</td>\n",
       "      <td>PoW/PoS</td>\n",
       "      <td>1.055185e+09</td>\n",
       "      <td>532000000</td>\n",
       "    </tr>\n",
       "    <tr>\n",
       "      <th>3</th>\n",
       "      <td>611</td>\n",
       "      <td>SixEleven</td>\n",
       "      <td>SHA-256</td>\n",
       "      <td>True</td>\n",
       "      <td>PoW</td>\n",
       "      <td>NaN</td>\n",
       "      <td>611000</td>\n",
       "    </tr>\n",
       "    <tr>\n",
       "      <th>4</th>\n",
       "      <td>808</td>\n",
       "      <td>808</td>\n",
       "      <td>SHA-256</td>\n",
       "      <td>True</td>\n",
       "      <td>PoW/PoS</td>\n",
       "      <td>0.000000e+00</td>\n",
       "      <td>0</td>\n",
       "    </tr>\n",
       "  </tbody>\n",
       "</table>\n",
       "</div>"
      ],
      "text/plain": [
       "  Unnamed: 0   CoinName Algorithm  IsTrading ProofType  TotalCoinsMined  \\\n",
       "0         42    42 Coin    Scrypt       True   PoW/PoS     4.199995e+01   \n",
       "1        365    365Coin       X11       True   PoW/PoS              NaN   \n",
       "2        404    404Coin    Scrypt       True   PoW/PoS     1.055185e+09   \n",
       "3        611  SixEleven   SHA-256       True       PoW              NaN   \n",
       "4        808        808   SHA-256       True   PoW/PoS     0.000000e+00   \n",
       "\n",
       "  TotalCoinSupply  \n",
       "0              42  \n",
       "1      2300000000  \n",
       "2       532000000  \n",
       "3          611000  \n",
       "4               0  "
      ]
     },
     "execution_count": 251,
     "metadata": {},
     "output_type": "execute_result"
    }
   ],
   "source": [
    "# Loading the dataset\n",
    "file = \"Resources/crypto_data.csv\"\n",
    "crypto_df = pd.read_csv(file)\n",
    "crypto_df.head()"
   ]
  },
  {
   "cell_type": "markdown",
   "metadata": {},
   "source": [
    "#### Data Preprocessing Tasks"
   ]
  },
  {
   "cell_type": "code",
   "execution_count": 252,
   "metadata": {
    "scrolled": true
   },
   "outputs": [
    {
     "data": {
      "text/plain": [
       "Unnamed: 0         1252\n",
       "CoinName           1252\n",
       "Algorithm          1252\n",
       "IsTrading          1252\n",
       "ProofType          1252\n",
       "TotalCoinsMined     744\n",
       "TotalCoinSupply    1252\n",
       "dtype: int64"
      ]
     },
     "execution_count": 252,
     "metadata": {},
     "output_type": "execute_result"
    }
   ],
   "source": [
    "crypto_df.count()"
   ]
  },
  {
   "cell_type": "code",
   "execution_count": 253,
   "metadata": {
    "scrolled": true
   },
   "outputs": [],
   "source": [
    "# crypto_df.set_index('Unnamed: 0', inplace=True)\n",
    "# crypto_df.index.name=None\n",
    "# # crypto_df.reset_index(drop=True, inplace=True)\n",
    "# crypto_df.head()"
   ]
  },
  {
   "cell_type": "code",
   "execution_count": 254,
   "metadata": {},
   "outputs": [
    {
     "data": {
      "text/plain": [
       "Unnamed: 0         1144\n",
       "CoinName           1144\n",
       "Algorithm          1144\n",
       "IsTrading          1144\n",
       "ProofType          1144\n",
       "TotalCoinsMined     685\n",
       "TotalCoinSupply    1144\n",
       "dtype: int64"
      ]
     },
     "execution_count": 254,
     "metadata": {},
     "output_type": "execute_result"
    }
   ],
   "source": [
    "# Removing all cryptocurrencies that are not trading\n",
    "crypto_df = crypto_df[crypto_df.IsTrading == True]\n",
    "crypto_df.count()"
   ]
  },
  {
   "cell_type": "code",
   "execution_count": 255,
   "metadata": {},
   "outputs": [
    {
     "data": {
      "text/plain": [
       "1144"
      ]
     },
     "execution_count": 255,
     "metadata": {},
     "output_type": "execute_result"
    }
   ],
   "source": [
    "# Removing all cryptocurrencies that have no defined algorithm\n",
    "crypto_df[\"Algorithm\"].isnull().count()\n",
    "# There are all defined\n",
    "# But the following syntax will remove rows with non-null values in Algorithm column\n",
    "# crypto_df = crypto_df[crypto_df.Algorithm.notnull()]"
   ]
  },
  {
   "cell_type": "code",
   "execution_count": 256,
   "metadata": {},
   "outputs": [],
   "source": [
    "# Removing the IsTrading column\n",
    "crypto_df.drop('IsTrading', axis=1, inplace=True)"
   ]
  },
  {
   "cell_type": "code",
   "execution_count": 257,
   "metadata": {},
   "outputs": [],
   "source": [
    "# Removing all cryptocurrencies with at least one null value\n",
    "crypto_df = crypto_df.dropna()"
   ]
  },
  {
   "cell_type": "code",
   "execution_count": 258,
   "metadata": {},
   "outputs": [
    {
     "data": {
      "text/html": [
       "<div>\n",
       "<style scoped>\n",
       "    .dataframe tbody tr th:only-of-type {\n",
       "        vertical-align: middle;\n",
       "    }\n",
       "\n",
       "    .dataframe tbody tr th {\n",
       "        vertical-align: top;\n",
       "    }\n",
       "\n",
       "    .dataframe thead th {\n",
       "        text-align: right;\n",
       "    }\n",
       "</style>\n",
       "<table border=\"1\" class=\"dataframe\">\n",
       "  <thead>\n",
       "    <tr style=\"text-align: right;\">\n",
       "      <th></th>\n",
       "      <th>Unnamed: 0</th>\n",
       "      <th>CoinName</th>\n",
       "      <th>Algorithm</th>\n",
       "      <th>ProofType</th>\n",
       "      <th>TotalCoinsMined</th>\n",
       "      <th>TotalCoinSupply</th>\n",
       "    </tr>\n",
       "  </thead>\n",
       "  <tbody>\n",
       "    <tr>\n",
       "      <th>0</th>\n",
       "      <td>42</td>\n",
       "      <td>42 Coin</td>\n",
       "      <td>Scrypt</td>\n",
       "      <td>PoW/PoS</td>\n",
       "      <td>4.199995e+01</td>\n",
       "      <td>42</td>\n",
       "    </tr>\n",
       "    <tr>\n",
       "      <th>2</th>\n",
       "      <td>404</td>\n",
       "      <td>404Coin</td>\n",
       "      <td>Scrypt</td>\n",
       "      <td>PoW/PoS</td>\n",
       "      <td>1.055185e+09</td>\n",
       "      <td>532000000</td>\n",
       "    </tr>\n",
       "    <tr>\n",
       "      <th>5</th>\n",
       "      <td>1337</td>\n",
       "      <td>EliteCoin</td>\n",
       "      <td>X13</td>\n",
       "      <td>PoW/PoS</td>\n",
       "      <td>2.927942e+10</td>\n",
       "      <td>314159265359</td>\n",
       "    </tr>\n",
       "    <tr>\n",
       "      <th>7</th>\n",
       "      <td>BTC</td>\n",
       "      <td>Bitcoin</td>\n",
       "      <td>SHA-256</td>\n",
       "      <td>PoW</td>\n",
       "      <td>1.792718e+07</td>\n",
       "      <td>21000000</td>\n",
       "    </tr>\n",
       "    <tr>\n",
       "      <th>8</th>\n",
       "      <td>ETH</td>\n",
       "      <td>Ethereum</td>\n",
       "      <td>Ethash</td>\n",
       "      <td>PoW</td>\n",
       "      <td>1.076842e+08</td>\n",
       "      <td>0</td>\n",
       "    </tr>\n",
       "  </tbody>\n",
       "</table>\n",
       "</div>"
      ],
      "text/plain": [
       "  Unnamed: 0   CoinName Algorithm ProofType  TotalCoinsMined TotalCoinSupply\n",
       "0         42    42 Coin    Scrypt   PoW/PoS     4.199995e+01              42\n",
       "2        404    404Coin    Scrypt   PoW/PoS     1.055185e+09       532000000\n",
       "5       1337  EliteCoin       X13   PoW/PoS     2.927942e+10    314159265359\n",
       "7        BTC    Bitcoin   SHA-256       PoW     1.792718e+07        21000000\n",
       "8        ETH   Ethereum    Ethash       PoW     1.076842e+08               0"
      ]
     },
     "execution_count": 258,
     "metadata": {},
     "output_type": "execute_result"
    }
   ],
   "source": [
    "# Removing all cryptocurrencies without coins mined\n",
    "crypto_df= crypto_df[crypto_df.TotalCoinsMined != 0]\n",
    "crypto_df.head()"
   ]
  },
  {
   "cell_type": "code",
   "execution_count": 259,
   "metadata": {},
   "outputs": [
    {
     "data": {
      "text/html": [
       "<div>\n",
       "<style scoped>\n",
       "    .dataframe tbody tr th:only-of-type {\n",
       "        vertical-align: middle;\n",
       "    }\n",
       "\n",
       "    .dataframe tbody tr th {\n",
       "        vertical-align: top;\n",
       "    }\n",
       "\n",
       "    .dataframe thead th {\n",
       "        text-align: right;\n",
       "    }\n",
       "</style>\n",
       "<table border=\"1\" class=\"dataframe\">\n",
       "  <thead>\n",
       "    <tr style=\"text-align: right;\">\n",
       "      <th></th>\n",
       "      <th>CoinName</th>\n",
       "    </tr>\n",
       "  </thead>\n",
       "  <tbody>\n",
       "    <tr>\n",
       "      <th>42</th>\n",
       "      <td>42 Coin</td>\n",
       "    </tr>\n",
       "    <tr>\n",
       "      <th>404</th>\n",
       "      <td>404Coin</td>\n",
       "    </tr>\n",
       "    <tr>\n",
       "      <th>1337</th>\n",
       "      <td>EliteCoin</td>\n",
       "    </tr>\n",
       "    <tr>\n",
       "      <th>BTC</th>\n",
       "      <td>Bitcoin</td>\n",
       "    </tr>\n",
       "    <tr>\n",
       "      <th>ETH</th>\n",
       "      <td>Ethereum</td>\n",
       "    </tr>\n",
       "  </tbody>\n",
       "</table>\n",
       "</div>"
      ],
      "text/plain": [
       "       CoinName\n",
       "42      42 Coin\n",
       "404     404Coin\n",
       "1337  EliteCoin\n",
       "BTC     Bitcoin\n",
       "ETH    Ethereum"
      ]
     },
     "execution_count": 259,
     "metadata": {},
     "output_type": "execute_result"
    }
   ],
   "source": [
    "# Creating a DataFrame for all the names of cryptocurrencies\n",
    "coins_name = pd.DataFrame(crypto_df, columns = ['Unnamed: 0','CoinName'])\n",
    "# pcs_df.set_index('Unnamed: 0', inplace=True)\n",
    "coins_name.set_index('Unnamed: 0', inplace=True)\n",
    "coins_name.index.name=None\n",
    "# coins_name = crypto_df.filter(['Unnamed: 0','CoinName'], axis=1)\n",
    "# coins_name.set_index('Unnamed: 0')\n",
    "coins_name.head()"
   ]
  },
  {
   "cell_type": "code",
   "execution_count": 260,
   "metadata": {},
   "outputs": [
    {
     "data": {
      "text/html": [
       "<div>\n",
       "<style scoped>\n",
       "    .dataframe tbody tr th:only-of-type {\n",
       "        vertical-align: middle;\n",
       "    }\n",
       "\n",
       "    .dataframe tbody tr th {\n",
       "        vertical-align: top;\n",
       "    }\n",
       "\n",
       "    .dataframe thead th {\n",
       "        text-align: right;\n",
       "    }\n",
       "</style>\n",
       "<table border=\"1\" class=\"dataframe\">\n",
       "  <thead>\n",
       "    <tr style=\"text-align: right;\">\n",
       "      <th></th>\n",
       "      <th>Algorithm</th>\n",
       "      <th>ProofType</th>\n",
       "      <th>TotalCoinsMined</th>\n",
       "      <th>TotalCoinSupply</th>\n",
       "    </tr>\n",
       "  </thead>\n",
       "  <tbody>\n",
       "    <tr>\n",
       "      <th>42</th>\n",
       "      <td>Scrypt</td>\n",
       "      <td>PoW/PoS</td>\n",
       "      <td>4.199995e+01</td>\n",
       "      <td>42</td>\n",
       "    </tr>\n",
       "    <tr>\n",
       "      <th>404</th>\n",
       "      <td>Scrypt</td>\n",
       "      <td>PoW/PoS</td>\n",
       "      <td>1.055185e+09</td>\n",
       "      <td>532000000</td>\n",
       "    </tr>\n",
       "    <tr>\n",
       "      <th>1337</th>\n",
       "      <td>X13</td>\n",
       "      <td>PoW/PoS</td>\n",
       "      <td>2.927942e+10</td>\n",
       "      <td>314159265359</td>\n",
       "    </tr>\n",
       "    <tr>\n",
       "      <th>BTC</th>\n",
       "      <td>SHA-256</td>\n",
       "      <td>PoW</td>\n",
       "      <td>1.792718e+07</td>\n",
       "      <td>21000000</td>\n",
       "    </tr>\n",
       "    <tr>\n",
       "      <th>ETH</th>\n",
       "      <td>Ethash</td>\n",
       "      <td>PoW</td>\n",
       "      <td>1.076842e+08</td>\n",
       "      <td>0</td>\n",
       "    </tr>\n",
       "  </tbody>\n",
       "</table>\n",
       "</div>"
      ],
      "text/plain": [
       "     Algorithm ProofType  TotalCoinsMined TotalCoinSupply\n",
       "42      Scrypt   PoW/PoS     4.199995e+01              42\n",
       "404     Scrypt   PoW/PoS     1.055185e+09       532000000\n",
       "1337       X13   PoW/PoS     2.927942e+10    314159265359\n",
       "BTC    SHA-256       PoW     1.792718e+07        21000000\n",
       "ETH     Ethash       PoW     1.076842e+08               0"
      ]
     },
     "execution_count": 260,
     "metadata": {},
     "output_type": "execute_result"
    }
   ],
   "source": [
    "# Removing the CoinName column in the crypto_df\n",
    "# drop_coin = crypto_df.drop('CoinName', axis=1)\n",
    "crypto_df = pd.DataFrame(crypto_df, columns = ['Unnamed: 0','Algorithm','ProofType',\n",
    "                                               'TotalCoinsMined', 'TotalCoinSupply'])\n",
    "crypto_df.set_index('Unnamed: 0', inplace=True)\n",
    "crypto_df.index.name=None\n",
    "crypto_df.head()"
   ]
  },
  {
   "cell_type": "code",
   "execution_count": 261,
   "metadata": {},
   "outputs": [
    {
     "data": {
      "text/html": [
       "<div>\n",
       "<style scoped>\n",
       "    .dataframe tbody tr th:only-of-type {\n",
       "        vertical-align: middle;\n",
       "    }\n",
       "\n",
       "    .dataframe tbody tr th {\n",
       "        vertical-align: top;\n",
       "    }\n",
       "\n",
       "    .dataframe thead th {\n",
       "        text-align: right;\n",
       "    }\n",
       "</style>\n",
       "<table border=\"1\" class=\"dataframe\">\n",
       "  <thead>\n",
       "    <tr style=\"text-align: right;\">\n",
       "      <th></th>\n",
       "      <th>TotalCoinsMined</th>\n",
       "      <th>TotalCoinSupply</th>\n",
       "      <th>Algorithm_1GB AES Pattern Search</th>\n",
       "      <th>Algorithm_536</th>\n",
       "      <th>Algorithm_Argon2d</th>\n",
       "      <th>Algorithm_BLAKE256</th>\n",
       "      <th>Algorithm_Blake</th>\n",
       "      <th>Algorithm_Blake2S</th>\n",
       "      <th>Algorithm_Blake2b</th>\n",
       "      <th>Algorithm_C11</th>\n",
       "      <th>...</th>\n",
       "      <th>ProofType_PoW/PoS</th>\n",
       "      <th>ProofType_PoW/PoS</th>\n",
       "      <th>ProofType_PoW/PoW</th>\n",
       "      <th>ProofType_PoW/nPoS</th>\n",
       "      <th>ProofType_Pos</th>\n",
       "      <th>ProofType_Proof of Authority</th>\n",
       "      <th>ProofType_Proof of Trust</th>\n",
       "      <th>ProofType_TPoS</th>\n",
       "      <th>ProofType_Zero-Knowledge Proof</th>\n",
       "      <th>ProofType_dPoW/PoW</th>\n",
       "    </tr>\n",
       "  </thead>\n",
       "  <tbody>\n",
       "    <tr>\n",
       "      <th>42</th>\n",
       "      <td>4.199995e+01</td>\n",
       "      <td>42</td>\n",
       "      <td>0</td>\n",
       "      <td>0</td>\n",
       "      <td>0</td>\n",
       "      <td>0</td>\n",
       "      <td>0</td>\n",
       "      <td>0</td>\n",
       "      <td>0</td>\n",
       "      <td>0</td>\n",
       "      <td>...</td>\n",
       "      <td>1</td>\n",
       "      <td>0</td>\n",
       "      <td>0</td>\n",
       "      <td>0</td>\n",
       "      <td>0</td>\n",
       "      <td>0</td>\n",
       "      <td>0</td>\n",
       "      <td>0</td>\n",
       "      <td>0</td>\n",
       "      <td>0</td>\n",
       "    </tr>\n",
       "    <tr>\n",
       "      <th>404</th>\n",
       "      <td>1.055185e+09</td>\n",
       "      <td>532000000</td>\n",
       "      <td>0</td>\n",
       "      <td>0</td>\n",
       "      <td>0</td>\n",
       "      <td>0</td>\n",
       "      <td>0</td>\n",
       "      <td>0</td>\n",
       "      <td>0</td>\n",
       "      <td>0</td>\n",
       "      <td>...</td>\n",
       "      <td>1</td>\n",
       "      <td>0</td>\n",
       "      <td>0</td>\n",
       "      <td>0</td>\n",
       "      <td>0</td>\n",
       "      <td>0</td>\n",
       "      <td>0</td>\n",
       "      <td>0</td>\n",
       "      <td>0</td>\n",
       "      <td>0</td>\n",
       "    </tr>\n",
       "    <tr>\n",
       "      <th>1337</th>\n",
       "      <td>2.927942e+10</td>\n",
       "      <td>314159265359</td>\n",
       "      <td>0</td>\n",
       "      <td>0</td>\n",
       "      <td>0</td>\n",
       "      <td>0</td>\n",
       "      <td>0</td>\n",
       "      <td>0</td>\n",
       "      <td>0</td>\n",
       "      <td>0</td>\n",
       "      <td>...</td>\n",
       "      <td>1</td>\n",
       "      <td>0</td>\n",
       "      <td>0</td>\n",
       "      <td>0</td>\n",
       "      <td>0</td>\n",
       "      <td>0</td>\n",
       "      <td>0</td>\n",
       "      <td>0</td>\n",
       "      <td>0</td>\n",
       "      <td>0</td>\n",
       "    </tr>\n",
       "    <tr>\n",
       "      <th>BTC</th>\n",
       "      <td>1.792718e+07</td>\n",
       "      <td>21000000</td>\n",
       "      <td>0</td>\n",
       "      <td>0</td>\n",
       "      <td>0</td>\n",
       "      <td>0</td>\n",
       "      <td>0</td>\n",
       "      <td>0</td>\n",
       "      <td>0</td>\n",
       "      <td>0</td>\n",
       "      <td>...</td>\n",
       "      <td>0</td>\n",
       "      <td>0</td>\n",
       "      <td>0</td>\n",
       "      <td>0</td>\n",
       "      <td>0</td>\n",
       "      <td>0</td>\n",
       "      <td>0</td>\n",
       "      <td>0</td>\n",
       "      <td>0</td>\n",
       "      <td>0</td>\n",
       "    </tr>\n",
       "    <tr>\n",
       "      <th>ETH</th>\n",
       "      <td>1.076842e+08</td>\n",
       "      <td>0</td>\n",
       "      <td>0</td>\n",
       "      <td>0</td>\n",
       "      <td>0</td>\n",
       "      <td>0</td>\n",
       "      <td>0</td>\n",
       "      <td>0</td>\n",
       "      <td>0</td>\n",
       "      <td>0</td>\n",
       "      <td>...</td>\n",
       "      <td>0</td>\n",
       "      <td>0</td>\n",
       "      <td>0</td>\n",
       "      <td>0</td>\n",
       "      <td>0</td>\n",
       "      <td>0</td>\n",
       "      <td>0</td>\n",
       "      <td>0</td>\n",
       "      <td>0</td>\n",
       "      <td>0</td>\n",
       "    </tr>\n",
       "  </tbody>\n",
       "</table>\n",
       "<p>5 rows × 100 columns</p>\n",
       "</div>"
      ],
      "text/plain": [
       "      TotalCoinsMined TotalCoinSupply  Algorithm_1GB AES Pattern Search  \\\n",
       "42       4.199995e+01              42                                 0   \n",
       "404      1.055185e+09       532000000                                 0   \n",
       "1337     2.927942e+10    314159265359                                 0   \n",
       "BTC      1.792718e+07        21000000                                 0   \n",
       "ETH      1.076842e+08               0                                 0   \n",
       "\n",
       "      Algorithm_536  Algorithm_Argon2d  Algorithm_BLAKE256  Algorithm_Blake  \\\n",
       "42                0                  0                   0                0   \n",
       "404               0                  0                   0                0   \n",
       "1337              0                  0                   0                0   \n",
       "BTC               0                  0                   0                0   \n",
       "ETH               0                  0                   0                0   \n",
       "\n",
       "      Algorithm_Blake2S  Algorithm_Blake2b  Algorithm_C11  ...  \\\n",
       "42                    0                  0              0  ...   \n",
       "404                   0                  0              0  ...   \n",
       "1337                  0                  0              0  ...   \n",
       "BTC                   0                  0              0  ...   \n",
       "ETH                   0                  0              0  ...   \n",
       "\n",
       "      ProofType_PoW/PoS  ProofType_PoW/PoS   ProofType_PoW/PoW  \\\n",
       "42                    1                   0                  0   \n",
       "404                   1                   0                  0   \n",
       "1337                  1                   0                  0   \n",
       "BTC                   0                   0                  0   \n",
       "ETH                   0                   0                  0   \n",
       "\n",
       "      ProofType_PoW/nPoS  ProofType_Pos  ProofType_Proof of Authority  \\\n",
       "42                     0              0                             0   \n",
       "404                    0              0                             0   \n",
       "1337                   0              0                             0   \n",
       "BTC                    0              0                             0   \n",
       "ETH                    0              0                             0   \n",
       "\n",
       "      ProofType_Proof of Trust  ProofType_TPoS  \\\n",
       "42                           0               0   \n",
       "404                          0               0   \n",
       "1337                         0               0   \n",
       "BTC                          0               0   \n",
       "ETH                          0               0   \n",
       "\n",
       "      ProofType_Zero-Knowledge Proof  ProofType_dPoW/PoW  \n",
       "42                                 0                   0  \n",
       "404                                0                   0  \n",
       "1337                               0                   0  \n",
       "BTC                                0                   0  \n",
       "ETH                                0                   0  \n",
       "\n",
       "[5 rows x 100 columns]"
      ]
     },
     "execution_count": 261,
     "metadata": {},
     "output_type": "execute_result"
    }
   ],
   "source": [
    "# Creating dummy variables for all of the text features\n",
    "X = pd.get_dummies(crypto_df, columns=[\"Algorithm\", \"ProofType\"])\n",
    "X.head()"
   ]
  },
  {
   "cell_type": "code",
   "execution_count": 262,
   "metadata": {},
   "outputs": [
    {
     "name": "stdout",
     "output_type": "stream",
     "text": [
      "[[-0.11674788 -0.15286468 -0.0433555  ... -0.0433555  -0.0433555\n",
      "  -0.0433555 ]\n",
      " [-0.09358885 -0.14499604 -0.0433555  ... -0.0433555  -0.0433555\n",
      "  -0.0433555 ]\n",
      " [ 0.52587231  4.4937636  -0.0433555  ... -0.0433555  -0.0433555\n",
      "  -0.0433555 ]\n",
      " ...\n",
      " [ 3.92312182  2.57553368 -0.0433555  ... -0.0433555  -0.0433555\n",
      "  -0.0433555 ]\n",
      " [ 0.03483681 -0.00495791 -0.0433555  ... -0.0433555  -0.0433555\n",
      "  -0.0433555 ]\n",
      " [-0.0769557  -0.12093438 -0.0433555  ... -0.0433555  -0.0433555\n",
      "  -0.0433555 ]]\n"
     ]
    }
   ],
   "source": [
    "# Standardizing Data from X dataframe\n",
    "crypto_scaled = StandardScaler().fit_transform(X)\n",
    "print(crypto_scaled[0:101])\n"
   ]
  },
  {
   "cell_type": "markdown",
   "metadata": {},
   "source": [
    "### Reducing Data Dimensions Using PCA"
   ]
  },
  {
   "cell_type": "code",
   "execution_count": 263,
   "metadata": {},
   "outputs": [],
   "source": [
    "from sklearn.decomposition import PCA\n",
    "\n",
    "# Reducing to three principal components\n",
    "pca = PCA(n_components=3)"
   ]
  },
  {
   "cell_type": "code",
   "execution_count": 264,
   "metadata": {},
   "outputs": [],
   "source": [
    "# Applying Dimensionality Reduction\n",
    "crypto_pca = pca.fit_transform(crypto_scaled)"
   ]
  },
  {
   "cell_type": "code",
   "execution_count": 265,
   "metadata": {},
   "outputs": [
    {
     "data": {
      "text/html": [
       "<div>\n",
       "<style scoped>\n",
       "    .dataframe tbody tr th:only-of-type {\n",
       "        vertical-align: middle;\n",
       "    }\n",
       "\n",
       "    .dataframe tbody tr th {\n",
       "        vertical-align: top;\n",
       "    }\n",
       "\n",
       "    .dataframe thead th {\n",
       "        text-align: right;\n",
       "    }\n",
       "</style>\n",
       "<table border=\"1\" class=\"dataframe\">\n",
       "  <thead>\n",
       "    <tr style=\"text-align: right;\">\n",
       "      <th></th>\n",
       "      <th>PC 1</th>\n",
       "      <th>PC 2</th>\n",
       "      <th>PC 3</th>\n",
       "    </tr>\n",
       "  </thead>\n",
       "  <tbody>\n",
       "    <tr>\n",
       "      <th>42</th>\n",
       "      <td>-0.335767</td>\n",
       "      <td>0.982322</td>\n",
       "      <td>-0.581368</td>\n",
       "    </tr>\n",
       "    <tr>\n",
       "      <th>404</th>\n",
       "      <td>-0.319085</td>\n",
       "      <td>0.982300</td>\n",
       "      <td>-0.581721</td>\n",
       "    </tr>\n",
       "    <tr>\n",
       "      <th>1337</th>\n",
       "      <td>2.309817</td>\n",
       "      <td>1.626677</td>\n",
       "      <td>-0.713184</td>\n",
       "    </tr>\n",
       "    <tr>\n",
       "      <th>BTC</th>\n",
       "      <td>-0.141259</td>\n",
       "      <td>-1.339585</td>\n",
       "      <td>0.116826</td>\n",
       "    </tr>\n",
       "    <tr>\n",
       "      <th>ETH</th>\n",
       "      <td>-0.149832</td>\n",
       "      <td>-1.993421</td>\n",
       "      <td>0.423413</td>\n",
       "    </tr>\n",
       "    <tr>\n",
       "      <th>LTC</th>\n",
       "      <td>-0.167522</td>\n",
       "      <td>-1.147759</td>\n",
       "      <td>0.017639</td>\n",
       "    </tr>\n",
       "    <tr>\n",
       "      <th>DASH</th>\n",
       "      <td>-0.388745</td>\n",
       "      <td>1.257660</td>\n",
       "      <td>-0.524275</td>\n",
       "    </tr>\n",
       "    <tr>\n",
       "      <th>XMR</th>\n",
       "      <td>-0.152339</td>\n",
       "      <td>-2.167252</td>\n",
       "      <td>0.528433</td>\n",
       "    </tr>\n",
       "    <tr>\n",
       "      <th>ETC</th>\n",
       "      <td>-0.148272</td>\n",
       "      <td>-1.993535</td>\n",
       "      <td>0.423409</td>\n",
       "    </tr>\n",
       "    <tr>\n",
       "      <th>ZEC</th>\n",
       "      <td>-0.150117</td>\n",
       "      <td>-2.016246</td>\n",
       "      <td>0.380269</td>\n",
       "    </tr>\n",
       "  </tbody>\n",
       "</table>\n",
       "</div>"
      ],
      "text/plain": [
       "          PC 1      PC 2      PC 3\n",
       "42   -0.335767  0.982322 -0.581368\n",
       "404  -0.319085  0.982300 -0.581721\n",
       "1337  2.309817  1.626677 -0.713184\n",
       "BTC  -0.141259 -1.339585  0.116826\n",
       "ETH  -0.149832 -1.993421  0.423413\n",
       "LTC  -0.167522 -1.147759  0.017639\n",
       "DASH -0.388745  1.257660 -0.524275\n",
       "XMR  -0.152339 -2.167252  0.528433\n",
       "ETC  -0.148272 -1.993535  0.423409\n",
       "ZEC  -0.150117 -2.016246  0.380269"
      ]
     },
     "execution_count": 265,
     "metadata": {},
     "output_type": "execute_result"
    }
   ],
   "source": [
    "# Transforming PCA data to a DataFrame\n",
    "pcs_df = pd.DataFrame(\n",
    "    data=crypto_pca, columns=[\"PC 1\", \"PC 2\", \"PC 3\"]\n",
    ")\n",
    "pcs_df.set_index(X.index, inplace=True)\n",
    "pcs_df.index.name=None\n",
    "pcs_df.head(10)"
   ]
  },
  {
   "cell_type": "markdown",
   "metadata": {},
   "source": [
    "### Clustering Using K-means"
   ]
  },
  {
   "cell_type": "code",
   "execution_count": 266,
   "metadata": {},
   "outputs": [
    {
     "data": {
      "text/plain": [
       "array([0.02737284, 0.02094369, 0.02009693])"
      ]
     },
     "execution_count": 266,
     "metadata": {},
     "output_type": "execute_result"
    }
   ],
   "source": [
    "# Attaining the Explained Variance Ratio\n",
    "pca.explained_variance_ratio_"
   ]
  },
  {
   "cell_type": "markdown",
   "metadata": {},
   "source": [
    "### Elbow Curve"
   ]
  },
  {
   "cell_type": "code",
   "execution_count": 267,
   "metadata": {},
   "outputs": [
    {
     "data": {},
     "metadata": {},
     "output_type": "display_data"
    },
    {
     "data": {
      "application/vnd.holoviews_exec.v0+json": "",
      "text/html": [
       "<div id='1928'>\n",
       "\n",
       "\n",
       "\n",
       "\n",
       "\n",
       "  <div class=\"bk-root\" id=\"b6526932-31d0-42c4-b425-9bd0c6495405\" data-root-id=\"1928\"></div>\n",
       "</div>\n",
       "<script type=\"application/javascript\">(function(root) {\n",
       "  function embed_document(root) {\n",
       "  var docs_json = {\"4f6dab25-d5ce-42a0-8f04-b137b90dfeaf\":{\"roots\":{\"references\":[{\"attributes\":{\"source\":{\"id\":\"1963\"}},\"id\":\"1970\",\"type\":\"CDSView\"},{\"attributes\":{\"children\":[{\"id\":\"1929\"},{\"id\":\"1933\"},{\"id\":\"1992\"}],\"margin\":[0,0,0,0],\"name\":\"Row03375\",\"tags\":[\"embedded\"]},\"id\":\"1928\",\"type\":\"Row\"},{\"attributes\":{},\"id\":\"1938\",\"type\":\"LinearScale\"},{\"attributes\":{\"bottom_units\":\"screen\",\"fill_alpha\":0.5,\"fill_color\":\"lightgrey\",\"left_units\":\"screen\",\"level\":\"overlay\",\"line_alpha\":1.0,\"line_color\":\"black\",\"line_dash\":[4,4],\"line_width\":2,\"right_units\":\"screen\",\"top_units\":\"screen\"},\"id\":\"1955\",\"type\":\"BoxAnnotation\"},{\"attributes\":{\"margin\":[5,5,5,5],\"name\":\"HSpacer03379\",\"sizing_mode\":\"stretch_width\"},\"id\":\"1929\",\"type\":\"Spacer\"},{\"attributes\":{\"data\":{\"inertia\":{\"__ndarray__\":\"bls+o998rECvF2RXH12jQArcs17QapdAB2pVW30dgkCPXHemSkZ4QFg+mkmjRnJAaKxcCxyebEAvwvYPFyxmQK4kx295y2FA7zbno52XXkA=\",\"dtype\":\"float64\",\"order\":\"little\",\"shape\":[10]},\"k\":[1,2,3,4,5,6,7,8,9,10]},\"selected\":{\"id\":\"1964\"},\"selection_policy\":{\"id\":\"1983\"}},\"id\":\"1963\",\"type\":\"ColumnDataSource\"},{\"attributes\":{},\"id\":\"1954\",\"type\":\"ResetTool\"},{\"attributes\":{\"callback\":null,\"renderers\":[{\"id\":\"1969\"}],\"tags\":[\"hv_created\"],\"tooltips\":[[\"k\",\"@{k}\"],[\"inertia\",\"@{inertia}\"]]},\"id\":\"1932\",\"type\":\"HoverTool\"},{\"attributes\":{\"margin\":[5,5,5,5],\"name\":\"HSpacer03380\",\"sizing_mode\":\"stretch_width\"},\"id\":\"1992\",\"type\":\"Spacer\"},{\"attributes\":{\"axis_label\":\"k\",\"bounds\":\"auto\",\"formatter\":{\"id\":\"1973\"},\"major_label_orientation\":\"horizontal\",\"ticker\":{\"id\":\"1971\"}},\"id\":\"1942\",\"type\":\"LinearAxis\"},{\"attributes\":{\"end\":3998.8435718974565,\"reset_end\":3998.8435718974565,\"reset_start\":-230.03778297566515,\"start\":-230.03778297566515,\"tags\":[[[\"inertia\",\"inertia\",null]]]},\"id\":\"1931\",\"type\":\"Range1d\"},{\"attributes\":{},\"id\":\"1952\",\"type\":\"WheelZoomTool\"},{\"attributes\":{},\"id\":\"1964\",\"type\":\"Selection\"},{\"attributes\":{\"axis\":{\"id\":\"1946\"},\"dimension\":1,\"grid_line_color\":null,\"ticker\":null},\"id\":\"1949\",\"type\":\"Grid\"},{\"attributes\":{\"active_drag\":\"auto\",\"active_inspect\":\"auto\",\"active_multi\":null,\"active_scroll\":\"auto\",\"active_tap\":\"auto\",\"tools\":[{\"id\":\"1932\"},{\"id\":\"1950\"},{\"id\":\"1951\"},{\"id\":\"1952\"},{\"id\":\"1953\"},{\"id\":\"1954\"}]},\"id\":\"1956\",\"type\":\"Toolbar\"},{\"attributes\":{\"line_alpha\":0.1,\"line_color\":\"#1f77b3\",\"line_width\":2,\"x\":{\"field\":\"k\"},\"y\":{\"field\":\"inertia\"}},\"id\":\"1967\",\"type\":\"Line\"},{\"attributes\":{},\"id\":\"1983\",\"type\":\"UnionRenderers\"},{\"attributes\":{},\"id\":\"1940\",\"type\":\"LinearScale\"},{\"attributes\":{\"line_alpha\":0.2,\"line_color\":\"#1f77b3\",\"line_width\":2,\"x\":{\"field\":\"k\"},\"y\":{\"field\":\"inertia\"}},\"id\":\"1968\",\"type\":\"Line\"},{\"attributes\":{\"line_color\":\"#1f77b3\",\"line_width\":2,\"x\":{\"field\":\"k\"},\"y\":{\"field\":\"inertia\"}},\"id\":\"1966\",\"type\":\"Line\"},{\"attributes\":{\"ticks\":[1,2,3,4,5,6,7,8,9,10]},\"id\":\"1971\",\"type\":\"FixedTicker\"},{\"attributes\":{\"axis\":{\"id\":\"1942\"},\"grid_line_color\":null,\"ticker\":null},\"id\":\"1945\",\"type\":\"Grid\"},{\"attributes\":{\"text\":\"Elbow Curve\",\"text_color\":{\"value\":\"black\"},\"text_font_size\":{\"value\":\"12pt\"}},\"id\":\"1934\",\"type\":\"Title\"},{\"attributes\":{},\"id\":\"1977\",\"type\":\"BasicTickFormatter\"},{\"attributes\":{},\"id\":\"1947\",\"type\":\"BasicTicker\"},{\"attributes\":{\"axis_label\":\"inertia\",\"bounds\":\"auto\",\"formatter\":{\"id\":\"1977\"},\"major_label_orientation\":\"horizontal\",\"ticker\":{\"id\":\"1947\"}},\"id\":\"1946\",\"type\":\"LinearAxis\"},{\"attributes\":{\"end\":10.0,\"reset_end\":10.0,\"reset_start\":1.0,\"start\":1.0,\"tags\":[[[\"k\",\"k\",null]]]},\"id\":\"1930\",\"type\":\"Range1d\"},{\"attributes\":{},\"id\":\"1950\",\"type\":\"SaveTool\"},{\"attributes\":{\"data_source\":{\"id\":\"1963\"},\"glyph\":{\"id\":\"1966\"},\"hover_glyph\":null,\"muted_glyph\":{\"id\":\"1968\"},\"nonselection_glyph\":{\"id\":\"1967\"},\"selection_glyph\":null,\"view\":{\"id\":\"1970\"}},\"id\":\"1969\",\"type\":\"GlyphRenderer\"},{\"attributes\":{\"align\":null,\"below\":[{\"id\":\"1942\"}],\"center\":[{\"id\":\"1945\"},{\"id\":\"1949\"}],\"left\":[{\"id\":\"1946\"}],\"margin\":null,\"min_border_bottom\":10,\"min_border_left\":10,\"min_border_right\":10,\"min_border_top\":10,\"plot_height\":300,\"plot_width\":700,\"renderers\":[{\"id\":\"1969\"}],\"sizing_mode\":\"fixed\",\"title\":{\"id\":\"1934\"},\"toolbar\":{\"id\":\"1956\"},\"x_range\":{\"id\":\"1930\"},\"x_scale\":{\"id\":\"1938\"},\"y_range\":{\"id\":\"1931\"},\"y_scale\":{\"id\":\"1940\"}},\"id\":\"1933\",\"subtype\":\"Figure\",\"type\":\"Plot\"},{\"attributes\":{},\"id\":\"1951\",\"type\":\"PanTool\"},{\"attributes\":{\"overlay\":{\"id\":\"1955\"}},\"id\":\"1953\",\"type\":\"BoxZoomTool\"},{\"attributes\":{},\"id\":\"1973\",\"type\":\"BasicTickFormatter\"}],\"root_ids\":[\"1928\"]},\"title\":\"Bokeh Application\",\"version\":\"2.1.0\"}};\n",
       "  var render_items = [{\"docid\":\"4f6dab25-d5ce-42a0-8f04-b137b90dfeaf\",\"root_ids\":[\"1928\"],\"roots\":{\"1928\":\"b6526932-31d0-42c4-b425-9bd0c6495405\"}}];\n",
       "  root.Bokeh.embed.embed_items_notebook(docs_json, render_items);\n",
       "  }\n",
       "if (root.Bokeh !== undefined) {\n",
       "    embed_document(root);\n",
       "  } else {\n",
       "    var attempts = 0;\n",
       "    var timer = setInterval(function(root) {\n",
       "      if (root.Bokeh !== undefined) {\n",
       "        clearInterval(timer);\n",
       "        embed_document(root);\n",
       "      } else if (document.readyState == \"complete\") {\n",
       "        attempts++;\n",
       "        if (attempts > 100) {\n",
       "          clearInterval(timer);\n",
       "          console.log(\"Bokeh: ERROR: Unable to run BokehJS code because BokehJS library is missing\");\n",
       "        }\n",
       "      }\n",
       "    }, 10, root)\n",
       "  }\n",
       "})(window);</script>"
      ],
      "text/plain": [
       ":Curve   [k]   (inertia)"
      ]
     },
     "execution_count": 267,
     "metadata": {
      "application/vnd.holoviews_exec.v0+json": {
       "id": "1928"
      }
     },
     "output_type": "execute_result"
    }
   ],
   "source": [
    "# Finding the best value for K\n",
    "inertia = []\n",
    "k = list(range(1, 11))\n",
    "\n",
    "# Calculating the inertia for the range of K values\n",
    "for i in k:\n",
    "    km = KMeans(n_clusters=i, random_state=0)\n",
    "    km.fit(pcs_df)\n",
    "    inertia.append(km.inertia_)\n",
    "    \n",
    "# Creating Elbow Curve\n",
    "elbow_data = {\"k\": k, \"inertia\": inertia}\n",
    "df_elbow = pd.DataFrame(elbow_data)\n",
    "df_elbow.hvplot.line(x=\"k\", y=\"inertia\", xticks=k, title=\"Elbow Curve\")"
   ]
  },
  {
   "cell_type": "markdown",
   "metadata": {},
   "source": [
    "### Function to Determine Best Value for K"
   ]
  },
  {
   "cell_type": "code",
   "execution_count": 268,
   "metadata": {},
   "outputs": [],
   "source": [
    "def test_k_value(k, data):\n",
    "    data=data.copy()\n",
    "    model=KMeans(n_clusters=k, random_state=0)\n",
    "    \n",
    "    model.fit(data)\n",
    "    predictions=model.predict(data)\n",
    "    \n",
    "    data[\"class\"]=model.labels_\n",
    "    \n",
    "    return data"
   ]
  },
  {
   "cell_type": "markdown",
   "metadata": {},
   "source": [
    "#### Testing K=4"
   ]
  },
  {
   "cell_type": "code",
   "execution_count": 269,
   "metadata": {},
   "outputs": [
    {
     "data": {
      "text/html": [
       "<div>\n",
       "<style scoped>\n",
       "    .dataframe tbody tr th:only-of-type {\n",
       "        vertical-align: middle;\n",
       "    }\n",
       "\n",
       "    .dataframe tbody tr th {\n",
       "        vertical-align: top;\n",
       "    }\n",
       "\n",
       "    .dataframe thead th {\n",
       "        text-align: right;\n",
       "    }\n",
       "</style>\n",
       "<table border=\"1\" class=\"dataframe\">\n",
       "  <thead>\n",
       "    <tr style=\"text-align: right;\">\n",
       "      <th></th>\n",
       "      <th>PC 1</th>\n",
       "      <th>PC 2</th>\n",
       "      <th>PC 3</th>\n",
       "      <th>class</th>\n",
       "    </tr>\n",
       "  </thead>\n",
       "  <tbody>\n",
       "    <tr>\n",
       "      <th>42</th>\n",
       "      <td>-0.335767</td>\n",
       "      <td>0.982322</td>\n",
       "      <td>-0.581368</td>\n",
       "      <td>0</td>\n",
       "    </tr>\n",
       "    <tr>\n",
       "      <th>404</th>\n",
       "      <td>-0.319085</td>\n",
       "      <td>0.982300</td>\n",
       "      <td>-0.581721</td>\n",
       "      <td>0</td>\n",
       "    </tr>\n",
       "    <tr>\n",
       "      <th>1337</th>\n",
       "      <td>2.309817</td>\n",
       "      <td>1.626677</td>\n",
       "      <td>-0.713184</td>\n",
       "      <td>0</td>\n",
       "    </tr>\n",
       "    <tr>\n",
       "      <th>BTC</th>\n",
       "      <td>-0.141259</td>\n",
       "      <td>-1.339585</td>\n",
       "      <td>0.116826</td>\n",
       "      <td>2</td>\n",
       "    </tr>\n",
       "    <tr>\n",
       "      <th>ETH</th>\n",
       "      <td>-0.149832</td>\n",
       "      <td>-1.993421</td>\n",
       "      <td>0.423413</td>\n",
       "      <td>2</td>\n",
       "    </tr>\n",
       "  </tbody>\n",
       "</table>\n",
       "</div>"
      ],
      "text/plain": [
       "          PC 1      PC 2      PC 3  class\n",
       "42   -0.335767  0.982322 -0.581368      0\n",
       "404  -0.319085  0.982300 -0.581721      0\n",
       "1337  2.309817  1.626677 -0.713184      0\n",
       "BTC  -0.141259 -1.339585  0.116826      2\n",
       "ETH  -0.149832 -1.993421  0.423413      2"
      ]
     },
     "execution_count": 269,
     "metadata": {},
     "output_type": "execute_result"
    }
   ],
   "source": [
    "four_clusters=test_k_value(4, pcs_df)\n",
    "four_clusters.head()"
   ]
  },
  {
   "cell_type": "code",
   "execution_count": 270,
   "metadata": {
    "scrolled": true
   },
   "outputs": [
    {
     "data": {
      "application/vnd.plotly.v1+json": {
       "config": {
        "plotlyServerURL": "https://plot.ly"
       },
       "data": [
        {
         "hovertemplate": "class=%{marker.color}<br>PC 1=%{x}<br>PC 2=%{y}<br>PC 3=%{z}<extra></extra>",
         "legendgroup": "0",
         "marker": {
          "color": [
           0,
           0,
           0,
           0,
           0,
           0,
           0,
           0,
           0,
           0,
           0,
           0,
           0,
           0,
           0,
           0,
           0,
           0,
           0,
           0,
           0,
           0,
           0,
           0,
           0,
           0,
           0,
           0,
           0,
           0,
           0,
           0,
           0,
           0,
           0,
           0,
           0,
           0,
           0,
           0,
           0,
           0,
           0,
           0,
           0,
           0,
           0,
           0,
           0,
           0,
           0,
           0,
           0,
           0,
           0,
           0,
           0,
           0,
           0,
           0,
           0,
           0,
           0,
           0,
           0,
           0,
           0,
           0,
           0,
           0,
           0,
           0,
           0,
           0,
           0,
           0,
           0,
           0,
           0,
           0,
           0,
           0,
           0,
           0,
           0,
           0,
           0,
           0,
           0,
           0,
           0,
           0,
           0,
           0,
           0,
           0,
           0,
           0,
           0,
           0,
           0,
           0,
           0,
           0,
           0,
           0,
           0,
           0,
           0,
           0,
           0,
           0,
           0,
           0,
           0,
           0,
           0,
           0,
           0,
           0,
           0,
           0,
           0,
           0,
           0,
           0,
           0,
           0,
           0,
           0,
           0,
           0,
           0,
           0,
           0,
           0,
           0,
           0,
           0,
           0,
           0,
           0,
           0,
           0,
           0,
           0,
           0,
           0,
           0,
           0,
           0,
           0,
           0,
           0,
           0,
           0,
           0,
           0,
           0,
           0,
           0,
           0,
           0,
           0,
           0,
           0,
           0,
           0,
           0,
           0,
           0,
           0,
           0,
           0,
           0,
           0,
           0,
           0,
           0,
           0,
           0,
           0,
           0,
           0,
           0,
           0,
           0,
           0,
           0,
           0,
           0,
           0,
           0,
           0,
           0,
           0,
           0,
           0,
           0,
           0,
           0,
           0,
           0,
           0,
           0,
           0,
           0,
           0,
           0,
           0,
           0,
           0,
           0,
           0,
           0,
           0,
           0,
           0,
           0,
           0,
           0,
           0,
           0,
           0,
           0,
           0,
           0,
           0,
           0,
           0,
           0,
           0,
           0,
           0,
           0,
           0,
           0,
           0,
           0,
           0,
           0,
           0,
           0,
           0,
           0,
           0,
           0,
           0,
           0,
           0,
           0,
           0,
           0,
           0,
           0,
           0,
           0,
           0,
           0,
           0,
           0,
           0,
           0,
           0,
           0,
           0,
           0,
           0,
           0,
           0,
           0,
           0,
           0,
           0,
           0,
           0,
           0,
           0,
           0,
           0,
           0,
           0,
           0,
           0,
           0,
           0,
           0,
           0
          ],
          "coloraxis": "coloraxis",
          "symbol": "circle"
         },
         "mode": "markers",
         "name": "0",
         "scene": "scene",
         "showlegend": true,
         "type": "scatter3d",
         "x": [
          -0.3357667788775343,
          -0.3190853915560137,
          2.3098167034099713,
          -0.3887450865824849,
          -0.2550030985217202,
          -0.30833260055645917,
          -0.26366347524062667,
          -0.23772583773782416,
          -0.3354259828606137,
          -0.3279943020021651,
          -0.3342614808235963,
          -0.3357627114792302,
          -0.3357469744998666,
          0.6135645230416797,
          -0.3647075722006168,
          -0.34576779849777556,
          -0.2824988343322098,
          -0.3338234992842274,
          -0.3238744920568285,
          -0.38863965176802034,
          -0.4315892046749954,
          -0.03069483936873717,
          -0.27160043515700755,
          -0.2908485090045438,
          -0.27640398396840254,
          -0.2770269664799226,
          -0.34290499741598307,
          -0.3300632025294052,
          -0.3341668266154646,
          0.022819971149395525,
          -0.3437858233481856,
          -0.38901162020034485,
          -0.24482612297137954,
          -0.3055386987100119,
          -0.3889231797584271,
          -0.3109728240031836,
          -0.3344428288160075,
          -0.29272113340474054,
          -0.3888875982497231,
          -0.24529414575804934,
          -0.27680755745427393,
          -0.32686181008012527,
          -0.12815084692705161,
          -0.34135542892515336,
          -0.307543472057252,
          -0.3641284029559801,
          -0.2908286957608967,
          -0.27710248265742327,
          -0.28547757184723777,
          -0.3357488251215741,
          -0.2770546027125307,
          -0.34423128042312817,
          -0.3354829360429517,
          -0.38899312613019904,
          -0.45894574493447304,
          -0.4226295789200501,
          -0.37593668536126745,
          -0.28922854365253864,
          -0.2765757643664102,
          -0.3008829856053869,
          -0.2401693555595093,
          -0.07864778114244268,
          -0.30830347834867533,
          -0.06613929145671119,
          -0.30836721771638487,
          -0.23252522918722615,
          -0.33535872755543306,
          -0.2890977866023498,
          -0.38615995280315973,
          0.8634505283594122,
          -0.30816711991820683,
          -0.11800028499530084,
          -0.34545073807987753,
          -0.3868336645103141,
          -0.30690964666741877,
          -0.30457588298175664,
          -0.35403500455771625,
          -0.3877271605414353,
          -0.34848411556402337,
          -0.3116315505126865,
          -0.33539687955806496,
          -0.33383410806911373,
          -0.23112668239035036,
          -0.33170842473119266,
          -0.3884665270994677,
          -0.3346002528113328,
          -0.30834817735836384,
          -0.38898231323451765,
          -0.33558620719611476,
          -0.33574305105083607,
          -0.289086692330405,
          -0.24898912199541073,
          0.03845247321945524,
          -0.3444066818817441,
          -0.3353567283278162,
          -0.3751319671078966,
          -0.3437343850840336,
          -0.23255847486989234,
          -0.40893011810108765,
          -0.34348379247029576,
          -0.2764271320555866,
          3.7236659229017484,
          -0.3885744304137321,
          0.8565168107726033,
          -0.3889371695390656,
          -0.3448709365938339,
          -0.3352843084127476,
          -0.33543883666881474,
          -0.34545073807987753,
          -0.3885117144848364,
          -0.308210676627587,
          -0.3352850286062306,
          -0.36188411594639913,
          -0.33543258750839317,
          -0.3310170000250208,
          -0.38896620287458333,
          -0.33464265655326,
          0.35312521156237925,
          -0.33563206643890564,
          -0.33570269637627154,
          -0.3522722214232762,
          -0.3487710521997268,
          -0.33192625658799607,
          -0.3083245617374091,
          -0.3888760554831248,
          -0.3354802816349369,
          -0.3356073983362851,
          -0.29073525421724394,
          -0.29598740581946487,
          -0.23232607637443445,
          -0.3164400634878126,
          -0.2904760015771606,
          -0.38814115957277556,
          -0.41687398130161235,
          -0.38687799203301143,
          -0.34369538242092984,
          -0.3880389178699556,
          -0.338089199407717,
          -0.38397605543843144,
          -0.33555061222543453,
          -0.335549823320497,
          -0.32866590429778164,
          0.269437941038022,
          -0.38851781171297384,
          -0.2733616121752662,
          -0.34548510486958667,
          -0.3347605704725838,
          0.895346284150642,
          -0.26235282037863,
          -0.3472611472562883,
          0.5850228414147286,
          -0.35557232286985846,
          -0.3540730187572213,
          -0.4098082484329738,
          -0.27673936530877624,
          0.12960839541633948,
          -0.2768101923612561,
          -0.34486656850720987,
          -0.4093125185323108,
          -0.38879044321549644,
          -0.29080943601556863,
          4.405296886623415,
          -0.3453513076452235,
          -0.33518543596197975,
          -0.3356856074812122,
          -0.3131288642509308,
          0.6545674802171171,
          -0.3887312497999988,
          -0.33789921031620096,
          -0.33564120205664805,
          -0.31149296983223074,
          0.4343563786820108,
          -0.30666901321859463,
          -0.3403237982484762,
          -0.3857791558550758,
          -0.33559149485085904,
          -0.3953182459311068,
          -0.350512503074459,
          -0.3354617144856782,
          -0.08995844046057008,
          -0.3875227527752455,
          3.728526845838476,
          0.20452566593460744,
          -0.2734774787350899,
          -0.33291941462175506,
          -0.3107300520817904,
          -0.3521579983842703,
          0.07904845002632657,
          -0.3345995800119216,
          -0.38810433468654765,
          -0.3513219961204617,
          -0.32215213150300825,
          -0.33570776588429135,
          -0.3442031780118484,
          -0.348766356996316,
          -0.2733896015404709,
          -0.2925741323718298,
          -0.33124816613046737,
          -0.2241139800274363,
          -0.36614539283268993,
          -0.3888077559393785,
          -0.3354540360319385,
          -0.28996869380971824,
          -0.32674408315360187,
          -0.3551709042156957,
          -0.335735151605826,
          -0.3357168458416637,
          -0.28434426193985757,
          -0.3423173899850624,
          -0.344945340110492,
          -0.33543307902880676,
          3.917957461240905,
          -0.3939846195839928,
          -0.34513421962137397,
          -0.3143663504929544,
          -0.28225217383340107,
          -0.32253154159958,
          -0.29050329150713305,
          -0.13863427443451168,
          -0.290755716028024,
          -0.3418013188377254,
          -0.3349066177090244,
          -0.19490691097887305,
          2.2309396267751365,
          -0.3478624769020929,
          -0.2624804082624272,
          1.0193661573968318,
          -0.35830775614654325,
          -0.3522716742925239,
          -0.3970039081239129,
          -0.1713889305285608,
          -0.35602681656191904,
          -0.3509898516379992,
          -0.328605921197553,
          -0.343780161694904,
          -0.3882805126381946,
          -0.2879984148495659,
          -0.344233283856504,
          -0.34402336152455254,
          -0.3436415007846391,
          -0.19509579774424987,
          -0.2762713324796249,
          -0.2908415245209565,
          0.4559339808285665,
          -0.13389503389962457,
          -0.3962978060342763,
          -0.27171881936838893,
          -0.3354370313959574,
          -0.3967543875112782,
          -0.3523887736354847,
          0.571979977100294,
          -0.3442575565997306,
          -0.33491949565339285,
          -0.3299040676631025,
          -0.29647931466689653,
          -0.3858432230960761,
          -0.3885079723904797,
          3.7407822709606586,
          0.09992976458941703,
          -0.38604448571904354,
          -0.334304561540688,
          -0.3351301543279874,
          -0.26369617029051323,
          -0.3356489712671226,
          -0.380126803306365,
          -0.24927552793646937,
          -0.08771850472970871,
          -0.37587135180912157,
          -0.33492644089076035,
          -0.3279832942663299,
          -0.3850728519823853,
          -0.3333641198715605,
          -0.3457266782564009,
          -0.36371009139721555,
          -0.30684606642988405,
          3.7240581206434986,
          -0.097828373666583,
          -0.33055583069370287,
          -0.3425305560840557,
          -0.2772097851149582,
          3.7339388112660328,
          3.7351844863494215,
          -0.2445721699498165,
          -0.3456624643204235,
          -0.32969173675233393,
          2.4771947892908335,
          -0.33381045392461883,
          -0.2911525508229962
         ],
         "y": [
          0.9823215849155886,
          0.9823001446175911,
          1.6266767993722404,
          1.2576597533313538,
          1.704909974880763,
          0.7904607083811569,
          0.5459944968763013,
          1.8207095145146983,
          0.9823170321006696,
          0.9824844732328452,
          0.9823531315711111,
          0.9823213214701756,
          0.9823213025556186,
          0.3894347310878186,
          0.9169212422335181,
          1.45137646372917,
          0.20007822809430117,
          0.9822786186756182,
          1.0136256231761784,
          1.2576619629354167,
          2.555252868894055,
          0.7433060260435385,
          0.7895586254493385,
          0.7378426847539397,
          1.7915815734319098,
          1.7915685175481346,
          0.5445011226291782,
          0.9821481941962361,
          0.9822867670218307,
          0.9898365100756974,
          1.013208340150807,
          1.2576695103508369,
          0.09583193341244796,
          1.4435731928765632,
          1.2576643901916666,
          0.9817253040574786,
          0.982279587964607,
          0.23511840342233864,
          1.2576682743144219,
          0.09589186811458913,
          1.7915731157169197,
          0.9818107760855441,
          0.8261178740466819,
          1.4215878062342888,
          0.7904451643776845,
          0.9169364346670288,
          0.7378543844125204,
          1.791558565780618,
          0.7376178128278315,
          0.9823219612028742,
          1.7915609640653458,
          1.0131850560617608,
          0.9823135848400225,
          1.2576698986296624,
          3.545406141326197,
          1.9004612856192733,
          1.2647181573258819,
          0.7378181758159597,
          1.7915431018766816,
          0.7899347430582401,
          1.8208840653192622,
          0.9848600107064015,
          0.7904613186971017,
          1.2459191776818226,
          0.7904680033619504,
          1.5005533124657935,
          0.9823008444063849,
          0.7377364902594427,
          1.2574614601745842,
          0.6929990325548173,
          0.7904516226139924,
          0.4005027940047302,
          1.451369159767302,
          1.2576628472891003,
          0.7903505375077816,
          0.7901886304297321,
          1.4979440556649448,
          1.257599486661914,
          1.4392360273013918,
          0.9814325267437156,
          0.9822984175140383,
          0.9822923449636822,
          1.5469819957518538,
          1.0130032348854459,
          1.2576460630561581,
          0.9822832631285298,
          0.790461079367989,
          1.2576680329436432,
          0.9823107231491016,
          0.9823220822104387,
          0.7378908916882546,
          0.2430713399634198,
          1.9113849832779208,
          1.451353378852874,
          0.982330178400105,
          1.2569142415354213,
          1.45139118093936,
          1.5470897320933517,
          1.8906661991095703,
          1.4512144031010774,
          1.913499732599487,
          2.094794119036662,
          1.2576577503366353,
          1.8147314497389075,
          1.257668383886494,
          1.4513603877780472,
          0.9823048171237985,
          0.9822991655546447,
          1.451369159767302,
          1.2576381417527545,
          0.7904646584103256,
          0.9823086657975778,
          0.9131533986056138,
          0.9823090605506203,
          0.9819673361181465,
          1.2576669757077683,
          0.9822447132046328,
          0.7286728608601993,
          0.9823153415208743,
          0.9823206153923517,
          1.3829199934636878,
          0.6393257042557943,
          0.9820533555867027,
          0.7904615742820464,
          1.2576658283184055,
          0.9823136404686186,
          0.9823096281098119,
          0.7378179839759869,
          0.22082518077246743,
          1.547086216067342,
          0.9820291852860172,
          0.7378377657972466,
          1.257618010261335,
          1.913186155982719,
          1.2576375082345947,
          1.4513429758139866,
          1.2576201529471474,
          1.4512584122737036,
          1.2574263262705385,
          0.9823113211754171,
          0.9823061851738029,
          0.9817729675692686,
          0.5048681408633391,
          1.2576519625897982,
          0.736825581480762,
          1.4513614652318034,
          0.9822694418784155,
          1.781930702543771,
          0.5458911373444736,
          1.4392152779736782,
          1.9446797720471487,
          1.4979676324562958,
          1.497922336073411,
          1.936286387290539,
          1.7915536218984554,
          0.9572029392205494,
          1.7915598803179151,
          1.4852946017497337,
          1.9362967763333252,
          1.2576675156041728,
          0.7378426486346917,
          2.9638624521600136,
          1.451342230438161,
          0.9823001157515495,
          0.9823203568493717,
          1.7061392410254261,
          1.33164979437267,
          1.2576565561554254,
          0.5443296861986096,
          0.9823132437543947,
          0.6663265580004168,
          0.9810253332195765,
          0.7904411726794432,
          1.4974572540344895,
          1.688862804438734,
          0.9823106123353877,
          1.6272978212800076,
          1.4438114580171166,
          0.9823176643986518,
          0.5433666844614384,
          1.2576002832940993,
          2.0946344531356815,
          1.4887896900752833,
          1.7914964439077117,
          0.982234796858223,
          1.2534860682095648,
          1.3829189000888589,
          0.9561433512569794,
          0.9822414313773143,
          1.2576536535453933,
          1.3828666771558233,
          0.9819792202016435,
          0.9823200319604914,
          1.013184947574914,
          1.439236040512141,
          -0.1078729818497005,
          0.2125209267343877,
          0.9822544778394925,
          1.546710502886303,
          1.030565191879035,
          1.257656347673142,
          1.7554309420780394,
          0.737785926102,
          1.5289981718145085,
          1.4979481477782657,
          0.9823201554670504,
          0.9823191442404005,
          0.7376415636750207,
          1.2982651576905344,
          1.4513323261264839,
          0.9823076553880924,
          2.197872983245262,
          1.627325770171455,
          1.4513339472134807,
          0.6641303461347018,
          0.9798708870942675,
          1.7625035934556623,
          0.7378430707278348,
          0.9793391085809966,
          0.7378252268958996,
          1.9172948545342778,
          0.9822810272051631,
          1.576379234710429,
          0.15078407601008412,
          1.3825695401667037,
          0.5459580824161613,
          1.7552272185633344,
          0.9085922479673809,
          1.3829158203448302,
          1.6273983884552106,
          0.7285848583232983,
          0.9107823533609452,
          1.382887586545723,
          0.9817742246388824,
          1.0131701001055755,
          1.257649961372952,
          0.7377323667665422,
          1.4512621621703632,
          0.7650048542810046,
          1.0131416216426787,
          0.9727158802318661,
          2.28186156688162,
          1.5109638928295326,
          1.9463276659476678,
          1.017607034659837,
          1.6273791174815404,
          -0.1307140881550453,
          0.9823138494357515,
          1.6273939338477412,
          1.3829186876839157,
          0.9491774632237985,
          1.0131847146195263,
          0.982280757321271,
          1.7552403835402512,
          1.9148272594590332,
          1.2574429903883582,
          1.2576591431016193,
          2.094542575426766,
          0.967042425061739,
          1.2577316934726839,
          0.9822127425554222,
          0.9822970868344094,
          0.5459878835218371,
          0.9823240538463988,
          1.257506995290183,
          0.9768111635993523,
          0.7949669635149845,
          1.2572474616295763,
          0.9823287344982757,
          0.9822057315818913,
          1.2576069904449698,
          0.9822603486848583,
          1.4513710486109948,
          0.7505415173118022,
          0.7904339750098709,
          2.0947779851800066,
          0.734918633568542,
          0.9822215618589649,
          0.5444696360134673,
          1.79156460251477,
          2.0950965874623555,
          2.095122693153624,
          0.5457058815988022,
          1.4513726495085515,
          1.571931452759519,
          0.8850159803478462,
          0.9821882260572918,
          0.7378468999307114
         ],
         "z": [
          -0.5813680889341539,
          -0.5817207363499338,
          -0.713183849272852,
          -0.5242749067855212,
          -0.11389481118914437,
          -0.48219746737111246,
          -0.17323983296209922,
          -0.6887705518975453,
          -0.5813742023739391,
          -0.5815782394567348,
          -0.5814087888585715,
          -0.5813681064526888,
          -0.5813684394830125,
          -0.11788500066441313,
          -0.4161060212163482,
          -0.10907833178587638,
          -0.3370877365442849,
          -0.5813984398703083,
          -0.2158657868099901,
          -0.5242777575087746,
          -0.7033067135580434,
          -0.2794494115765594,
          -0.4827473206155914,
          -0.27241244196666536,
          -0.7013541826288165,
          -0.701337338565127,
          -0.3782166002219906,
          -0.5814446323530637,
          -0.5813932254183684,
          -0.5910634783694224,
          -0.21532742862783438,
          -0.5242717684801377,
          0.07312455985456634,
          -0.2836865321554235,
          -0.5242723106451772,
          -0.5817425819367047,
          -0.5813853930811602,
          -0.32198605762587046,
          -0.524274104854027,
          0.07311872162100026,
          -0.7013432708979515,
          -0.581423934219388,
          0.29505670400983863,
          -0.11419262724531941,
          -0.48221029708937174,
          -0.4161224906394268,
          -0.2724159697641952,
          -0.7013330776717331,
          -0.2724681896198544,
          -0.5813685743716149,
          -0.7013347420897269,
          -0.21531168595164807,
          -0.5813720649157753,
          -0.5242722687036508,
          -0.5587925994084423,
          -0.5842845782542917,
          -0.09801367030105797,
          -0.2724407417934325,
          -0.7013402918031143,
          -0.48221803146908354,
          -0.6887643452926024,
          -0.5093408030804984,
          -0.482198254770941,
          -0.5280917526272969,
          -0.4821986580409773,
          -0.5852134172623404,
          -0.5813713548807656,
          -0.272421891478925,
          -0.5242778601021885,
          -0.2853175116403095,
          -0.4821986129446245,
          -0.10510500089546741,
          -0.10908320588941703,
          -0.5243167863526546,
          -0.4821988217527423,
          -0.48220602324406187,
          -0.5819114194888134,
          -0.5242807929846491,
          -0.13555388456211845,
          -0.5816508013130605,
          -0.5813698918430221,
          -0.5814018515384045,
          -0.3923742501041908,
          -0.21553247874207832,
          -0.5242772605068506,
          -0.5813829859389494,
          -0.4821972311342838,
          -0.5242720062844264,
          -0.5813690877678179,
          -0.5813687304896655,
          -0.2724630696685874,
          -0.37327791633179164,
          -0.876573103979842,
          -0.109101448884119,
          -0.5813791757982113,
          -0.5243696557068379,
          -0.1091259137757985,
          -0.3923720603396653,
          -0.6023964851362801,
          -0.10908442372037519,
          -0.8703699154373656,
          -0.028881845891918678,
          -0.5242780415469288,
          -0.7318286585973033,
          -0.5242730690679894,
          -0.10909333467494553,
          -0.5813740068506772,
          -0.5813691889082335,
          -0.10908320588941703,
          -0.5242741894872545,
          -0.4822011337740078,
          -0.5813750118644297,
          -0.25589300121519476,
          -0.5813719468259111,
          -0.5813761889470744,
          -0.5242720720221755,
          -0.5813718534695121,
          -0.28381422253255206,
          -0.5813693272381626,
          -0.5813692084171639,
          -0.2985853177161537,
          -0.42888497648267515,
          -0.581379465484173,
          -0.48219786964823236,
          -0.5242737042426814,
          -0.5813721366850736,
          -0.581368342209557,
          -0.2724083253243119,
          -0.18179009079657654,
          -0.39237612020252205,
          -0.5817057151042632,
          -0.2724191395149746,
          -0.5242768114570444,
          -0.7404762359601841,
          -0.5243091154492341,
          -0.10911396989716482,
          -0.5242795758456457,
          -0.10921197393221915,
          -0.5243154565020031,
          -0.581370010950241,
          -0.5813686660747083,
          -0.5813751555179926,
          -0.17378662519215463,
          -0.5242777231378268,
          -0.27251839030807307,
          -0.10908042743469933,
          -0.5813758774258365,
          -0.7028277524156646,
          -0.17324058109384924,
          -0.13557465337666344,
          -0.7752305171318425,
          -0.5818846478398134,
          -0.5819048439101532,
          -0.773440544461052,
          -0.7013395669030132,
          -0.5847045350196893,
          -0.7013397049028255,
          -0.23952955724669198,
          -0.7734539478967264,
          -0.5242759906645976,
          -0.27241327171521773,
          4.204735652426439,
          -0.10907820138139401,
          -0.581374884147633,
          -0.5813695069499494,
          -0.11297215602665277,
          -0.22769591051613017,
          -0.5242743562748761,
          -0.37827867263587456,
          -0.5813685747689095,
          -0.15257891038888802,
          -0.5975673763521174,
          -0.4822280229047779,
          -0.5820768729722137,
          -0.5920983862144901,
          -0.5813689448013755,
          -0.607554382775825,
          -0.14141734643897255,
          -0.5813736024792054,
          -0.17627441519542214,
          -0.52428539509021,
          -0.028943927464730686,
          -0.591482543810582,
          -0.7013944745177497,
          -0.5814062410345667,
          -0.2729266619504234,
          -0.2985874814269595,
          -0.5833375063719424,
          -0.581371908611708,
          -0.5242870533853959,
          -0.2985915925413043,
          -0.5815697660000033,
          -0.5813689448209971,
          -0.2153122608531395,
          -0.1355478252456317,
          0.13338035538921683,
          -0.23778889636255032,
          -0.5814473595258355,
          -0.3924529028209391,
          -0.3879846493423309,
          -0.5242726575693683,
          -0.4840350701866854,
          -0.2724162915694943,
          -0.11102391212720533,
          -0.581888104296652,
          -0.5813683892972047,
          -0.5813685143938091,
          -0.2724988318030728,
          -0.12945708565066263,
          -0.10908429580752521,
          -0.5813715636856824,
          -0.04668267542867187,
          -0.6075904410707427,
          -0.10908066832741717,
          -0.08593414606798785,
          -0.5818678266387411,
          -0.0577800622594568,
          -0.2724199599147044,
          -0.5848118759997102,
          -0.2724098062607314,
          -0.8699718994013775,
          -0.5813758120642674,
          -0.37980921601685136,
          -0.21329142429346518,
          -0.2985871198474603,
          -0.17325559101357574,
          -0.08576839343369716,
          -0.39490626988128685,
          -0.2985842229575295,
          -0.6075448387239563,
          -0.2725238166504682,
          -0.461536688849688,
          -0.29860427149661656,
          -0.5813767773278212,
          -0.21531741081464334,
          -0.5242822899248115,
          -0.2724444136959382,
          -0.10908098734031477,
          -0.5771537487839246,
          -0.2153128382590578,
          -0.5818428644186568,
          0.009115780200557493,
          -0.17507599752876032,
          -0.1451107685266628,
          -0.2210024094819687,
          -0.6075548967402815,
          0.09019855400984078,
          -0.581373121150188,
          -0.6075490175195638,
          -0.2985824678314019,
          -0.5920791326983283,
          -0.21531103097977394,
          -0.5813754638732492,
          -0.484103761873093,
          -0.8702911717602696,
          -0.5242797664591786,
          -0.5242798384242979,
          -0.029182824293079546,
          -0.5866759703086561,
          -0.5243519933924903,
          -0.5813706389908365,
          -0.5813752685267237,
          -0.17323737709546982,
          -0.5813712741980999,
          -0.5244195317318388,
          -0.5817649046085471,
          -0.4881313151659941,
          -0.5244421270384555,
          -0.5813880359354334,
          -0.5815045669598442,
          -0.5243397997478334,
          -0.581403463457347,
          -0.10907777925815317,
          -0.08178478922519618,
          -0.4822223111525964,
          -0.028885992752187267,
          -0.27578338291569854,
          -0.5814535038179396,
          -0.37821629483999286,
          -0.701332373364174,
          -0.029182717643877438,
          -0.02921639793193227,
          -0.17357340572442773,
          -0.10907958311715758,
          0.1425896583433107,
          -0.11699397888833483,
          -0.5813747522983354,
          -0.27240702851717846
         ]
        },
        {
         "hovertemplate": "class=%{marker.color}<br>PC 1=%{x}<br>PC 2=%{y}<br>PC 3=%{z}<extra></extra>",
         "legendgroup": "2",
         "marker": {
          "color": [
           2,
           2,
           2,
           2,
           2,
           2,
           2,
           2,
           2,
           2,
           2,
           2,
           2,
           2,
           2,
           2,
           2,
           2,
           2,
           2,
           2,
           2,
           2,
           2,
           2,
           2,
           2,
           2,
           2,
           2,
           2,
           2,
           2,
           2,
           2,
           2,
           2,
           2,
           2,
           2,
           2,
           2,
           2,
           2,
           2,
           2,
           2,
           2,
           2,
           2,
           2,
           2,
           2,
           2,
           2,
           2,
           2,
           2,
           2,
           2,
           2,
           2,
           2,
           2,
           2,
           2,
           2,
           2,
           2,
           2,
           2,
           2,
           2,
           2,
           2,
           2,
           2,
           2,
           2,
           2,
           2,
           2,
           2,
           2,
           2,
           2,
           2,
           2,
           2,
           2,
           2,
           2,
           2,
           2,
           2,
           2,
           2,
           2,
           2,
           2,
           2,
           2,
           2,
           2,
           2,
           2,
           2,
           2,
           2,
           2,
           2,
           2,
           2,
           2,
           2,
           2,
           2,
           2,
           2,
           2,
           2,
           2,
           2,
           2,
           2,
           2,
           2,
           2,
           2,
           2,
           2,
           2,
           2,
           2,
           2,
           2,
           2,
           2,
           2,
           2,
           2,
           2,
           2,
           2,
           2,
           2,
           2,
           2,
           2,
           2,
           2,
           2,
           2,
           2,
           2,
           2,
           2,
           2,
           2,
           2,
           2,
           2,
           2,
           2,
           2,
           2,
           2,
           2,
           2,
           2,
           2,
           2,
           2,
           2,
           2,
           2,
           2,
           2,
           2,
           2,
           2,
           2,
           2,
           2,
           2,
           2,
           2,
           2,
           2,
           2,
           2,
           2,
           2,
           2,
           2,
           2,
           2,
           2,
           2,
           2,
           2,
           2,
           2,
           2,
           2,
           2,
           2,
           2,
           2,
           2,
           2,
           2,
           2,
           2,
           2,
           2,
           2,
           2,
           2,
           2,
           2,
           2,
           2,
           2,
           2,
           2,
           2,
           2,
           2,
           2,
           2,
           2,
           2,
           2,
           2,
           2,
           2,
           2
          ],
          "coloraxis": "coloraxis",
          "symbol": "diamond"
         },
         "mode": "markers",
         "name": "2",
         "scene": "scene",
         "showlegend": true,
         "type": "scatter3d",
         "x": [
          -0.14125871947216712,
          -0.14983179174489358,
          -0.1675222698804856,
          -0.15233892840352006,
          -0.1482724700381986,
          -0.15011741450371238,
          0.1642648781906438,
          -0.16866977530486404,
          -0.22185590672133745,
          -0.16828595760631312,
          -0.08940527727546749,
          2.5554982927289123,
          -0.13834040226284572,
          -0.16553843297480855,
          -0.16808984680193287,
          -0.22530810585426594,
          -0.19669957493705,
          -0.16813852360101203,
          -0.16865201882581493,
          -0.16873856018150787,
          -0.2219453563852833,
          0.18805762375176852,
          0.23700396751584266,
          0.08026662103925054,
          -0.1684845569503438,
          -0.16408513602765898,
          -0.16842380682232302,
          -0.1687956297308864,
          -0.1711574118885389,
          -0.14799585093441772,
          -0.16758938393331094,
          -0.16786719032887362,
          1.5820592159872053,
          -0.14122003989645437,
          -0.16515372514392002,
          -0.16851102908229448,
          -0.16886623675509974,
          -0.16812466946054597,
          -0.14598150805420207,
          -0.16874737859368955,
          -0.03352631096444509,
          -0.14129774889408883,
          -0.16240424029067949,
          -0.16872682701765618,
          -0.16681943406144745,
          -0.1682130098025566,
          -0.12843613926047517,
          -0.14076091499098048,
          -0.14104846918163416,
          -0.14103154686437563,
          -0.14162276261557424,
          -0.2221194172103095,
          -0.1684429627920891,
          -0.188463004150459,
          -0.16554319931807235,
          -0.14082828908602585,
          3.864799952828006,
          0.4599790203782894,
          -0.16730936754547668,
          -0.15189346853001218,
          -0.16602674432506678,
          -0.16886845271513642,
          -0.16589159327239664,
          -0.15210028216294993,
          -0.12782388004303802,
          -0.12344898603899124,
          -0.182744796899695,
          -0.16874137156082594,
          -0.041548241341374026,
          -0.11935063196461651,
          -0.1688773504957016,
          -0.14132556167279503,
          0.4838296220499973,
          -0.22150592500256455,
          -0.1512340378276881,
          -0.14106519247058047,
          -0.2217911492515873,
          -0.16699938340979403,
          -0.1661907198213563,
          -0.1509006558973488,
          0.3762649340569876,
          -0.2218265758638795,
          -0.1412211636724273,
          -0.16483071256889698,
          -0.1444625039507597,
          -0.16743913102303393,
          0.27772865696593646,
          -0.2209864376494836,
          -0.15176127963098604,
          -0.16768712581829176,
          -0.14996106417421337,
          -0.16866705394761664,
          -0.22178979984162253,
          -0.16887740905565174,
          -0.2219399613675306,
          -0.26346123330160875,
          0.3047169762954113,
          -0.14148154489106035,
          -0.10349978105134071,
          -0.1660411253087616,
          -0.14144012475277293,
          -0.16854047061488697,
          -0.1524255985541629,
          -0.15064251348842475,
          -0.15013905902769903,
          -0.09554062054145997,
          -0.2085076728739071,
          -0.21976596808693483,
          0.30471129961726323,
          -0.16885913007765266,
          0.30484216952362353,
          -0.15177499971229838,
          0.493910097859488,
          -0.15110262532158805,
          -0.16882737887833207,
          -0.21466775094870608,
          -0.15015143739497427,
          -0.16695856677377002,
          -0.15149305538953897,
          -0.1461827448442898,
          -0.13972626518050188,
          -0.18835067503414324,
          -0.16838929791034735,
          -0.10777146483909975,
          -0.1682112477768263,
          -0.1509599367300508,
          -0.14797005479037692,
          -0.02454788992899842,
          -0.15223540354941878,
          0.3408731877715193,
          -0.22099489060896407,
          -0.1685307542552715,
          -0.16829400401472744,
          -0.22138995033359055,
          -0.22196801099293967,
          0.3051066886128635,
          -0.15512366805862565,
          3.244545466387664,
          -0.1169140165980899,
          -0.21283183290325833,
          -0.1412578826271628,
          -0.09438841401715292,
          1.5803620817568456,
          -0.1686287283605225,
          -0.16807986967199387,
          -0.16778051362624796,
          -0.1677674279408067,
          0.3052904253899686,
          0.0623807282506248,
          -0.17630240428392022,
          -0.17585116594055977,
          -0.14999730519123003,
          -0.15051918368417033,
          -0.1669567736523559,
          -0.21750778636355686,
          -0.1756964363133915,
          -0.149006412538,
          -0.17579672850506467,
          -0.1136704004488973,
          1.1434593014850074,
          0.3046940733404268,
          -0.07382986062838472,
          -0.21724964292343502,
          -0.14006089736181315,
          -0.08492558753631424,
          1.0945378099366327,
          -0.22194197929698029,
          -0.17584870316267304,
          -0.16887918706719504,
          -0.1678789116746357,
          -0.2218673017016284,
          -0.14123725129086123,
          -0.19923383625028154,
          8.049313926200343,
          -0.14915868724522838,
          0.30857244036338305,
          0.024377839043256896,
          -0.15002159566046003,
          -0.17400579959470844,
          -0.16845329243725968,
          0.13895723273228053,
          -0.21600222168389743,
          -0.10200425949319047,
          0.31262426137834914,
          -0.1686905463643962,
          -0.16051364268464738,
          -0.14898726340621035,
          -0.15020714563611193,
          -0.22103571493370788,
          0.3048768062037494,
          -0.1884101286297118,
          -0.15162009124392273,
          -0.1493826958844127,
          -0.15251004898168302,
          0.3088082355191078,
          0.5823637225108627,
          2.1150988614935486,
          -0.14548285852655607,
          0.318496051622881,
          -0.1922115724461848,
          -0.15901045478424683,
          -0.22192412049065185,
          -0.1687151628870458,
          -0.13994292674558567,
          -0.14710917615771602,
          -0.16733711965278056,
          3.1075648372667337,
          -0.10104088982674365,
          -0.22189546194452067,
          -0.19163880602231168,
          -0.044632841226148114,
          -0.15190726060809495,
          -0.1412579202404297,
          0.3847137356314348,
          -0.14555575905301377,
          -0.1459480369657321,
          -0.15423474553195202,
          -0.1676063507058694,
          -0.14805568270012115,
          -0.14982994159127733,
          -0.1819550731395465,
          -0.1405332732974134,
          -0.11030568779336887,
          -0.13940009048545235,
          0.5277862450654969,
          -0.10093126293185753,
          -0.0963718505021588,
          -0.15225105998989952,
          -0.1410478388311601,
          0.5477187267082986,
          -0.19626008067913311,
          -0.1687920465284532,
          -0.16674569951027282,
          -0.12418481564504738,
          -0.12966348008808345,
          -0.1506757089583667,
          0.3264746280099413,
          -0.15011847279732377
         ],
         "y": [
          -1.339584756354776,
          -1.9934210138264439,
          -1.147758628490489,
          -2.167252072049355,
          -1.9935347955020197,
          -2.016245664907861,
          -1.7983095947399446,
          -1.1477387386903453,
          -0.8723888847688953,
          -1.147760684525268,
          -1.7903745899966101,
          -1.3584469778069224,
          -1.3396273716307041,
          -1.147832826616779,
          -1.1477816821294444,
          -0.5027195847719615,
          -1.2131608730460233,
          -1.1477465516214131,
          -1.1477383665666947,
          -1.1477346984128465,
          -0.8723893645094387,
          -1.7947108885341962,
          -1.3462888832148336,
          -1.1519224333886344,
          -1.147734857057611,
          -1.1478370965774227,
          -1.1477412556527187,
          -1.1477345663842298,
          -1.5856787998708233,
          -1.1482816048791775,
          -1.147750270971992,
          -1.1477576591986052,
          -1.1742211899645765,
          -1.339583945744465,
          -1.1478355192121905,
          -1.1477347144048973,
          -1.1477291514291053,
          -1.1477419609206851,
          -2.2336216950681567,
          -1.1477326932879914,
          -1.1553533453176705,
          -1.3395855742968283,
          -1.14782781962719,
          -1.1477399343266876,
          -1.1478596726373245,
          -1.1477502286386407,
          -1.339920705281369,
          -1.339592465383873,
          -1.3395949961740665,
          -1.3396211439043693,
          -1.339577913939705,
          -0.8723804585577897,
          -1.147735380227917,
          -1.2192755103559556,
          -1.1478436814470165,
          -1.339592474138475,
          -2.3529025028038943,
          -2.302578573950377,
          -1.1477688964224155,
          -1.148544194354779,
          -1.1477847452052843,
          -1.1477300891857483,
          -1.1477774590427312,
          -1.1480742755818192,
          -2.0638267531719654,
          -1.789693184443936,
          -1.490687430969908,
          -1.1477279443641422,
          -1.152034307158799,
          -2.1677197082259796,
          -1.147728874851888,
          -1.3395861571709848,
          -1.1982132600057127,
          -0.8723906167810218,
          -2.1301920169457853,
          -1.339603548431906,
          -0.8723882250733699,
          -1.1478357139964923,
          -1.147846496633352,
          -1.9934552051227497,
          -2.1825921808176156,
          -0.8723854803568581,
          -1.3395839692955083,
          -1.1477900976415312,
          -2.3154008269617483,
          -1.1477568861442045,
          -1.345872200324094,
          -0.872415298825255,
          -2.220226272613635,
          -1.1478209125857852,
          -2.0452643409676177,
          -1.1477379842278381,
          -0.8723909865171079,
          -1.1477288739659164,
          -0.8723941334616749,
          -1.4135286891548167,
          -2.29886507618751,
          -1.33958157026001,
          -1.7901120247194267,
          -1.147808490029123,
          -1.3395813315060228,
          -1.1477423057214715,
          -2.1797945559267053,
          -1.9934562807245366,
          -2.016246118513516,
          -1.1531658288541566,
          -0.8724439117994102,
          -0.872490151410353,
          -2.2988728668933827,
          -1.1477299539891657,
          -2.298872913967909,
          -2.1301644448778716,
          -0.9271176680535955,
          -2.1673551874753167,
          -1.1477297389181442,
          -0.8729217243700039,
          -2.016243588204332,
          -1.1477579738225616,
          -2.1301662078929904,
          -2.000507822601104,
          -1.1499072450834404,
          -0.6321021110783056,
          -1.147742987682845,
          -1.3406118929298145,
          -1.147764698273476,
          -2.1672964026733528,
          -2.1536160254503556,
          -2.1912293638640477,
          -2.3842087507002954,
          -2.299495235579113,
          -0.8724266348680905,
          -1.1477346234045993,
          -1.1477685248937277,
          -0.8724070169255729,
          -0.8723904669712466,
          -2.2988875959193837,
          -2.079749833837049,
          -1.2156792959877598,
          -1.3670150354523276,
          -0.8729529920049552,
          -1.3395847388169588,
          -1.1534903974153352,
          -1.1110695217297026,
          -1.147737181036093,
          -1.1477703141444717,
          -1.1477751994145766,
          -1.1477749251770417,
          -2.2989080779230413,
          -2.0264237297736267,
          -0.8726756440623789,
          -1.5855616610372103,
          -2.016243147769427,
          -2.2202883321427542,
          -1.1477579362440034,
          -0.8725279131175219,
          -1.585570972113992,
          -1.9935989969409023,
          -1.5855638678565314,
          -1.7899485583714074,
          -2.3405621484967227,
          -2.298867299743311,
          -1.9988025450829756,
          -0.8726619893595545,
          -2.16769182982381,
          -1.1494562146778449,
          -1.186855135539068,
          -0.8723905491111195,
          -1.5855574248395072,
          -1.5857454336293053,
          -1.1477521540380116,
          -0.8723912158667713,
          -1.3395837247874116,
          -1.0994869243152114,
          -2.8339849471882186,
          -2.1168992443062056,
          -2.2990116394416584,
          -1.150652690135243,
          -2.220238634106603,
          -1.2196811195540396,
          -1.1477474530314253,
          -1.1541147296688423,
          -0.8726009755313856,
          -1.9969519897547876,
          -2.299389819258837,
          -1.1477391739907499,
          -2.0962532543062906,
          -2.0162561543717943,
          -2.179942367904365,
          -0.8724274904260383,
          -2.2988675850411986,
          -0.63208435066548,
          -2.1301725526263002,
          -2.154907554808622,
          -2.179788723763354,
          -2.2991908199738886,
          -2.192987426353054,
          -2.389245091311466,
          -2.290581195853467,
          -2.2992667637804396,
          -1.2214322296189275,
          -2.1799936509922926,
          -0.8723910117600113,
          -1.1477404607252828,
          -2.168212792251845,
          -2.114134699128869,
          -0.374697975760086,
          -2.268617081991741,
          -1.34019186750412,
          -0.8723932008844608,
          -1.2214745729278014,
          -2.019320846481109,
          -2.1798273522570173,
          -1.3395847396052218,
          -2.302816846032944,
          -2.151687944843054,
          -2.151640447247326,
          -2.1275540394226216,
          -1.1477854980883107,
          -2.016371095844447,
          -2.0162465351213115,
          -1.4907406237644627,
          -1.3395995426601774,
          -0.33848649873411774,
          -1.3396483272851352,
          -1.2015463864822262,
          -1.5867624526804989,
          -2.15546589660157,
          -1.1480774354422456,
          -1.3395949829637717,
          -1.1675822362302541,
          -1.2131663085850382,
          -1.1477301422424577,
          -1.1478107020797557,
          -1.7897105580777726,
          -2.2256203248099853,
          -1.9934557785003488,
          -2.299378683847861,
          -2.016245687086588
         ],
         "z": [
          0.11682557106188221,
          0.42341271231248995,
          0.017639016962688697,
          0.5284327073663967,
          0.4234093860300916,
          0.3802685732676729,
          0.3593019714206965,
          0.017658392667014095,
          0.07475294063307622,
          0.017655966876842018,
          0.36264706833648375,
          0.015010370839742895,
          0.11677418231442845,
          0.017616076018632815,
          0.01765732178712986,
          -0.008601857851018689,
          0.1829066694675029,
          0.01764905248147272,
          0.017657912571251502,
          0.017658798944442135,
          0.07475498930274556,
          0.35783667543938275,
          0.11047773594602452,
          0.0134203134821893,
          0.017653384774011873,
          0.017585989981871265,
          0.01765377640379918,
          0.01765998984596624,
          0.22074169428055432,
          0.017358238894878964,
          0.017638242623389925,
          0.017646169178172313,
          -0.012927082396780214,
          0.1168245252520401,
          0.01760852606931321,
          0.017653915596370577,
          0.017660070766132862,
          0.01764753764685465,
          0.23554209706897444,
          0.01765845670927018,
          0.016774409626156124,
          0.11682662633077213,
          0.017547422909830895,
          0.0176599352186366,
          0.017650711443369247,
          0.01765162748632756,
          0.11663920720594398,
          0.1168169218052401,
          0.11682376979229386,
          0.11683033941196772,
          0.11683157678000236,
          0.07475636686545424,
          0.017652630010946427,
          0.13747911300055637,
          0.017619056586099222,
          0.11681837138736229,
          0.4360692544552466,
          0.49586460705001095,
          0.017637166178758115,
          0.0175115896654467,
          0.017613816528804976,
          0.01766036701531007,
          0.01760898141147146,
          0.017391432240062094,
          0.4507415270053001,
          0.3631976840144022,
          0.1701519937270887,
          0.017657068484920227,
          0.016066678289410986,
          0.5541255045172458,
          0.01766023616499624,
          0.11682737832654622,
          0.01702550247288224,
          0.07474588193353801,
          0.41075868835035917,
          0.1168263966744663,
          0.07475137466020146,
          0.0176482242440559,
          0.017633712406467324,
          0.4234447384462116,
          0.4760116684446347,
          0.07475140789060773,
          0.11682455563644664,
          0.017589543818289338,
          0.27287099523108255,
          0.017636769072611014,
          0.10949244579772455,
          0.07474126733961385,
          0.48573499150732175,
          0.017659072990966987,
          0.44561940806284106,
          0.01765813416225333,
          0.07475207787636882,
          0.017660237188003445,
          0.07475613791057435,
          0.34862569638617613,
          0.4982151441528659,
          0.11682951276776014,
          0.36288021217647254,
          0.017620421437839814,
          0.11682855971693198,
          0.017656560883073342,
          0.4779966330117342,
          0.42343947849537855,
          0.38026915848753534,
          0.017526512325171387,
          0.0744807981774546,
          0.07473489779665425,
          0.4982173318159816,
          0.01766013090835963,
          0.4982145330855447,
          0.4107629979419699,
          0.07388904922988702,
          0.5284334916577015,
          0.017659391835295874,
          0.07473981566129093,
          0.3802687534698823,
          0.017626734487337523,
          0.41075740897211005,
          0.25318329597678835,
          0.01761164221130898,
          0.01714165399638681,
          0.017653494370491622,
          0.11637857988860097,
          0.017655426291389043,
          0.528414839650722,
          0.21460227296336976,
          0.48691168396312595,
          0.3770491510101539,
          0.4976055618396733,
          0.07474445469373184,
          0.017654315183265448,
          0.017658218612202004,
          0.07474773921923686,
          0.07475576826580234,
          0.4982127439105921,
          0.42341827694720896,
          -0.03764619055482413,
          0.021103192808425555,
          0.0747086690446667,
          0.11682554843544336,
          0.017587821871423038,
          -0.029635428203617243,
          0.017657097923485757,
          0.01765409322282685,
          0.017648958104977918,
          0.017648604297102022,
          0.49821422791437453,
          0.3784026433239922,
          0.07385044212646802,
          0.22081146104801402,
          0.38026532577858163,
          0.48572476530212244,
          0.01762668600531649,
          0.07469640246456503,
          0.2208106061579679,
          0.4234421749767443,
          0.22081087682210385,
          0.36305534347547397,
          0.4912542158191092,
          0.4982162257111691,
          0.42320704190885533,
          0.07472640790000046,
          0.528285566095404,
          0.016314878884435786,
          0.07911878778853806,
          0.07475523085932433,
          0.22081028490814475,
          0.22071042389037537,
          0.017644961258753124,
          0.0747538035039513,
          0.1168248363822207,
          0.2110436396267932,
          0.4737418954194168,
          0.39649621037143745,
          0.49817118661520077,
          0.014284183474112621,
          0.4857008990872598,
          0.13727610640258525,
          0.01765605303178239,
          0.012740874411838484,
          0.07468343413455775,
          0.42332157652466784,
          0.49818442477449953,
          0.017658954270338867,
          0.3448130269972548,
          0.38024707783155615,
          0.4779881711609334,
          0.07474555849281678,
          0.49821237607962315,
          0.017138221905199567,
          0.4107618201451167,
          0.3721917542932176,
          0.4779969006779458,
          0.4982136316138698,
          0.3369667204952029,
          0.48329084488304863,
          0.4989263083804505,
          0.4980256646054383,
          0.20413220565023643,
          0.5120181035449525,
          0.07475496990722408,
          0.017659824237542966,
          0.5284211662907667,
          0.30803017502841396,
          0.11498769060905008,
          0.30277632196694626,
          0.11612262996484905,
          0.07475493474499334,
          0.20413112949291587,
          0.37881805352930525,
          0.4779941946287502,
          0.11682554945242248,
          0.49754455662843095,
          0.3677123062494996,
          0.367708138668432,
          0.549745175839897,
          0.017647947632445753,
          0.38025754355659436,
          0.38026262881004974,
          0.17014913388071468,
          0.11681390839634008,
          -0.10230419327786702,
          0.11680250188112151,
          0.016965057353275765,
          0.21952050147405638,
          0.3676575203623769,
          0.01739550893767918,
          0.11682375274901677,
          0.007531220187372524,
          0.18289866995011397,
          0.017658739804514344,
          0.017636142904167734,
          0.36321809700378627,
          0.3143632303242705,
          0.423440058400393,
          0.4978839529053491,
          0.3802686018815805
         ]
        },
        {
         "hovertemplate": "class=%{marker.color}<br>PC 1=%{x}<br>PC 2=%{y}<br>PC 3=%{z}<extra></extra>",
         "legendgroup": "3",
         "marker": {
          "color": [
           3,
           3,
           3,
           3,
           3,
           3
          ],
          "coloraxis": "coloraxis",
          "symbol": "square"
         },
         "mode": "markers",
         "name": "3",
         "scene": "scene",
         "showlegend": true,
         "type": "scatter3d",
         "x": [
          -0.14142887529511353,
          -0.33834483011955335,
          -0.40858341994507597,
          -0.3468546175758138,
          -0.5767250750856991,
          -0.4160792973787225
         ],
         "y": [
          1.6863418207544232,
          1.1872657698229652,
          2.3180226931290693,
          3.6570874458325493,
          4.094535615252636,
          4.221992281118503
         ],
         "z": [
          6.657961550432589,
          6.555360934497298,
          16.607474202877295,
          15.116210313534252,
          16.31423830161207,
          10.646512730751084
         ]
        },
        {
         "hovertemplate": "class=%{marker.color}<br>PC 1=%{x}<br>PC 2=%{y}<br>PC 3=%{z}<extra></extra>",
         "legendgroup": "1",
         "marker": {
          "color": [
           1
          ],
          "coloraxis": "coloraxis",
          "symbol": "x"
         },
         "mode": "markers",
         "name": "1",
         "scene": "scene",
         "showlegend": true,
         "type": "scatter3d",
         "x": [
          34.10077268192604
         ],
         "y": [
          1.505643043013418
         ],
         "z": [
          -0.7448382789737324
         ]
        }
       ],
       "layout": {
        "coloraxis": {
         "colorbar": {
          "title": {
           "text": "class"
          }
         },
         "colorscale": [
          [
           0,
           "#0d0887"
          ],
          [
           0.1111111111111111,
           "#46039f"
          ],
          [
           0.2222222222222222,
           "#7201a8"
          ],
          [
           0.3333333333333333,
           "#9c179e"
          ],
          [
           0.4444444444444444,
           "#bd3786"
          ],
          [
           0.5555555555555556,
           "#d8576b"
          ],
          [
           0.6666666666666666,
           "#ed7953"
          ],
          [
           0.7777777777777778,
           "#fb9f3a"
          ],
          [
           0.8888888888888888,
           "#fdca26"
          ],
          [
           1,
           "#f0f921"
          ]
         ]
        },
        "legend": {
         "title": {
          "text": "class"
         },
         "tracegroupgap": 0,
         "x": 0,
         "y": 1
        },
        "margin": {
         "t": 60
        },
        "scene": {
         "domain": {
          "x": [
           0,
           1
          ],
          "y": [
           0,
           1
          ]
         },
         "xaxis": {
          "title": {
           "text": "PC 1"
          }
         },
         "yaxis": {
          "title": {
           "text": "PC 2"
          }
         },
         "zaxis": {
          "title": {
           "text": "PC 3"
          }
         }
        },
        "template": {
         "data": {
          "bar": [
           {
            "error_x": {
             "color": "#2a3f5f"
            },
            "error_y": {
             "color": "#2a3f5f"
            },
            "marker": {
             "line": {
              "color": "#E5ECF6",
              "width": 0.5
             }
            },
            "type": "bar"
           }
          ],
          "barpolar": [
           {
            "marker": {
             "line": {
              "color": "#E5ECF6",
              "width": 0.5
             }
            },
            "type": "barpolar"
           }
          ],
          "carpet": [
           {
            "aaxis": {
             "endlinecolor": "#2a3f5f",
             "gridcolor": "white",
             "linecolor": "white",
             "minorgridcolor": "white",
             "startlinecolor": "#2a3f5f"
            },
            "baxis": {
             "endlinecolor": "#2a3f5f",
             "gridcolor": "white",
             "linecolor": "white",
             "minorgridcolor": "white",
             "startlinecolor": "#2a3f5f"
            },
            "type": "carpet"
           }
          ],
          "choropleth": [
           {
            "colorbar": {
             "outlinewidth": 0,
             "ticks": ""
            },
            "type": "choropleth"
           }
          ],
          "contour": [
           {
            "colorbar": {
             "outlinewidth": 0,
             "ticks": ""
            },
            "colorscale": [
             [
              0,
              "#0d0887"
             ],
             [
              0.1111111111111111,
              "#46039f"
             ],
             [
              0.2222222222222222,
              "#7201a8"
             ],
             [
              0.3333333333333333,
              "#9c179e"
             ],
             [
              0.4444444444444444,
              "#bd3786"
             ],
             [
              0.5555555555555556,
              "#d8576b"
             ],
             [
              0.6666666666666666,
              "#ed7953"
             ],
             [
              0.7777777777777778,
              "#fb9f3a"
             ],
             [
              0.8888888888888888,
              "#fdca26"
             ],
             [
              1,
              "#f0f921"
             ]
            ],
            "type": "contour"
           }
          ],
          "contourcarpet": [
           {
            "colorbar": {
             "outlinewidth": 0,
             "ticks": ""
            },
            "type": "contourcarpet"
           }
          ],
          "heatmap": [
           {
            "colorbar": {
             "outlinewidth": 0,
             "ticks": ""
            },
            "colorscale": [
             [
              0,
              "#0d0887"
             ],
             [
              0.1111111111111111,
              "#46039f"
             ],
             [
              0.2222222222222222,
              "#7201a8"
             ],
             [
              0.3333333333333333,
              "#9c179e"
             ],
             [
              0.4444444444444444,
              "#bd3786"
             ],
             [
              0.5555555555555556,
              "#d8576b"
             ],
             [
              0.6666666666666666,
              "#ed7953"
             ],
             [
              0.7777777777777778,
              "#fb9f3a"
             ],
             [
              0.8888888888888888,
              "#fdca26"
             ],
             [
              1,
              "#f0f921"
             ]
            ],
            "type": "heatmap"
           }
          ],
          "heatmapgl": [
           {
            "colorbar": {
             "outlinewidth": 0,
             "ticks": ""
            },
            "colorscale": [
             [
              0,
              "#0d0887"
             ],
             [
              0.1111111111111111,
              "#46039f"
             ],
             [
              0.2222222222222222,
              "#7201a8"
             ],
             [
              0.3333333333333333,
              "#9c179e"
             ],
             [
              0.4444444444444444,
              "#bd3786"
             ],
             [
              0.5555555555555556,
              "#d8576b"
             ],
             [
              0.6666666666666666,
              "#ed7953"
             ],
             [
              0.7777777777777778,
              "#fb9f3a"
             ],
             [
              0.8888888888888888,
              "#fdca26"
             ],
             [
              1,
              "#f0f921"
             ]
            ],
            "type": "heatmapgl"
           }
          ],
          "histogram": [
           {
            "marker": {
             "colorbar": {
              "outlinewidth": 0,
              "ticks": ""
             }
            },
            "type": "histogram"
           }
          ],
          "histogram2d": [
           {
            "colorbar": {
             "outlinewidth": 0,
             "ticks": ""
            },
            "colorscale": [
             [
              0,
              "#0d0887"
             ],
             [
              0.1111111111111111,
              "#46039f"
             ],
             [
              0.2222222222222222,
              "#7201a8"
             ],
             [
              0.3333333333333333,
              "#9c179e"
             ],
             [
              0.4444444444444444,
              "#bd3786"
             ],
             [
              0.5555555555555556,
              "#d8576b"
             ],
             [
              0.6666666666666666,
              "#ed7953"
             ],
             [
              0.7777777777777778,
              "#fb9f3a"
             ],
             [
              0.8888888888888888,
              "#fdca26"
             ],
             [
              1,
              "#f0f921"
             ]
            ],
            "type": "histogram2d"
           }
          ],
          "histogram2dcontour": [
           {
            "colorbar": {
             "outlinewidth": 0,
             "ticks": ""
            },
            "colorscale": [
             [
              0,
              "#0d0887"
             ],
             [
              0.1111111111111111,
              "#46039f"
             ],
             [
              0.2222222222222222,
              "#7201a8"
             ],
             [
              0.3333333333333333,
              "#9c179e"
             ],
             [
              0.4444444444444444,
              "#bd3786"
             ],
             [
              0.5555555555555556,
              "#d8576b"
             ],
             [
              0.6666666666666666,
              "#ed7953"
             ],
             [
              0.7777777777777778,
              "#fb9f3a"
             ],
             [
              0.8888888888888888,
              "#fdca26"
             ],
             [
              1,
              "#f0f921"
             ]
            ],
            "type": "histogram2dcontour"
           }
          ],
          "mesh3d": [
           {
            "colorbar": {
             "outlinewidth": 0,
             "ticks": ""
            },
            "type": "mesh3d"
           }
          ],
          "parcoords": [
           {
            "line": {
             "colorbar": {
              "outlinewidth": 0,
              "ticks": ""
             }
            },
            "type": "parcoords"
           }
          ],
          "pie": [
           {
            "automargin": true,
            "type": "pie"
           }
          ],
          "scatter": [
           {
            "marker": {
             "colorbar": {
              "outlinewidth": 0,
              "ticks": ""
             }
            },
            "type": "scatter"
           }
          ],
          "scatter3d": [
           {
            "line": {
             "colorbar": {
              "outlinewidth": 0,
              "ticks": ""
             }
            },
            "marker": {
             "colorbar": {
              "outlinewidth": 0,
              "ticks": ""
             }
            },
            "type": "scatter3d"
           }
          ],
          "scattercarpet": [
           {
            "marker": {
             "colorbar": {
              "outlinewidth": 0,
              "ticks": ""
             }
            },
            "type": "scattercarpet"
           }
          ],
          "scattergeo": [
           {
            "marker": {
             "colorbar": {
              "outlinewidth": 0,
              "ticks": ""
             }
            },
            "type": "scattergeo"
           }
          ],
          "scattergl": [
           {
            "marker": {
             "colorbar": {
              "outlinewidth": 0,
              "ticks": ""
             }
            },
            "type": "scattergl"
           }
          ],
          "scattermapbox": [
           {
            "marker": {
             "colorbar": {
              "outlinewidth": 0,
              "ticks": ""
             }
            },
            "type": "scattermapbox"
           }
          ],
          "scatterpolar": [
           {
            "marker": {
             "colorbar": {
              "outlinewidth": 0,
              "ticks": ""
             }
            },
            "type": "scatterpolar"
           }
          ],
          "scatterpolargl": [
           {
            "marker": {
             "colorbar": {
              "outlinewidth": 0,
              "ticks": ""
             }
            },
            "type": "scatterpolargl"
           }
          ],
          "scatterternary": [
           {
            "marker": {
             "colorbar": {
              "outlinewidth": 0,
              "ticks": ""
             }
            },
            "type": "scatterternary"
           }
          ],
          "surface": [
           {
            "colorbar": {
             "outlinewidth": 0,
             "ticks": ""
            },
            "colorscale": [
             [
              0,
              "#0d0887"
             ],
             [
              0.1111111111111111,
              "#46039f"
             ],
             [
              0.2222222222222222,
              "#7201a8"
             ],
             [
              0.3333333333333333,
              "#9c179e"
             ],
             [
              0.4444444444444444,
              "#bd3786"
             ],
             [
              0.5555555555555556,
              "#d8576b"
             ],
             [
              0.6666666666666666,
              "#ed7953"
             ],
             [
              0.7777777777777778,
              "#fb9f3a"
             ],
             [
              0.8888888888888888,
              "#fdca26"
             ],
             [
              1,
              "#f0f921"
             ]
            ],
            "type": "surface"
           }
          ],
          "table": [
           {
            "cells": {
             "fill": {
              "color": "#EBF0F8"
             },
             "line": {
              "color": "white"
             }
            },
            "header": {
             "fill": {
              "color": "#C8D4E3"
             },
             "line": {
              "color": "white"
             }
            },
            "type": "table"
           }
          ]
         },
         "layout": {
          "annotationdefaults": {
           "arrowcolor": "#2a3f5f",
           "arrowhead": 0,
           "arrowwidth": 1
          },
          "coloraxis": {
           "colorbar": {
            "outlinewidth": 0,
            "ticks": ""
           }
          },
          "colorscale": {
           "diverging": [
            [
             0,
             "#8e0152"
            ],
            [
             0.1,
             "#c51b7d"
            ],
            [
             0.2,
             "#de77ae"
            ],
            [
             0.3,
             "#f1b6da"
            ],
            [
             0.4,
             "#fde0ef"
            ],
            [
             0.5,
             "#f7f7f7"
            ],
            [
             0.6,
             "#e6f5d0"
            ],
            [
             0.7,
             "#b8e186"
            ],
            [
             0.8,
             "#7fbc41"
            ],
            [
             0.9,
             "#4d9221"
            ],
            [
             1,
             "#276419"
            ]
           ],
           "sequential": [
            [
             0,
             "#0d0887"
            ],
            [
             0.1111111111111111,
             "#46039f"
            ],
            [
             0.2222222222222222,
             "#7201a8"
            ],
            [
             0.3333333333333333,
             "#9c179e"
            ],
            [
             0.4444444444444444,
             "#bd3786"
            ],
            [
             0.5555555555555556,
             "#d8576b"
            ],
            [
             0.6666666666666666,
             "#ed7953"
            ],
            [
             0.7777777777777778,
             "#fb9f3a"
            ],
            [
             0.8888888888888888,
             "#fdca26"
            ],
            [
             1,
             "#f0f921"
            ]
           ],
           "sequentialminus": [
            [
             0,
             "#0d0887"
            ],
            [
             0.1111111111111111,
             "#46039f"
            ],
            [
             0.2222222222222222,
             "#7201a8"
            ],
            [
             0.3333333333333333,
             "#9c179e"
            ],
            [
             0.4444444444444444,
             "#bd3786"
            ],
            [
             0.5555555555555556,
             "#d8576b"
            ],
            [
             0.6666666666666666,
             "#ed7953"
            ],
            [
             0.7777777777777778,
             "#fb9f3a"
            ],
            [
             0.8888888888888888,
             "#fdca26"
            ],
            [
             1,
             "#f0f921"
            ]
           ]
          },
          "colorway": [
           "#636efa",
           "#EF553B",
           "#00cc96",
           "#ab63fa",
           "#FFA15A",
           "#19d3f3",
           "#FF6692",
           "#B6E880",
           "#FF97FF",
           "#FECB52"
          ],
          "font": {
           "color": "#2a3f5f"
          },
          "geo": {
           "bgcolor": "white",
           "lakecolor": "white",
           "landcolor": "#E5ECF6",
           "showlakes": true,
           "showland": true,
           "subunitcolor": "white"
          },
          "hoverlabel": {
           "align": "left"
          },
          "hovermode": "closest",
          "mapbox": {
           "style": "light"
          },
          "paper_bgcolor": "white",
          "plot_bgcolor": "#E5ECF6",
          "polar": {
           "angularaxis": {
            "gridcolor": "white",
            "linecolor": "white",
            "ticks": ""
           },
           "bgcolor": "#E5ECF6",
           "radialaxis": {
            "gridcolor": "white",
            "linecolor": "white",
            "ticks": ""
           }
          },
          "scene": {
           "xaxis": {
            "backgroundcolor": "#E5ECF6",
            "gridcolor": "white",
            "gridwidth": 2,
            "linecolor": "white",
            "showbackground": true,
            "ticks": "",
            "zerolinecolor": "white"
           },
           "yaxis": {
            "backgroundcolor": "#E5ECF6",
            "gridcolor": "white",
            "gridwidth": 2,
            "linecolor": "white",
            "showbackground": true,
            "ticks": "",
            "zerolinecolor": "white"
           },
           "zaxis": {
            "backgroundcolor": "#E5ECF6",
            "gridcolor": "white",
            "gridwidth": 2,
            "linecolor": "white",
            "showbackground": true,
            "ticks": "",
            "zerolinecolor": "white"
           }
          },
          "shapedefaults": {
           "line": {
            "color": "#2a3f5f"
           }
          },
          "ternary": {
           "aaxis": {
            "gridcolor": "white",
            "linecolor": "white",
            "ticks": ""
           },
           "baxis": {
            "gridcolor": "white",
            "linecolor": "white",
            "ticks": ""
           },
           "bgcolor": "#E5ECF6",
           "caxis": {
            "gridcolor": "white",
            "linecolor": "white",
            "ticks": ""
           }
          },
          "title": {
           "x": 0.05
          },
          "xaxis": {
           "automargin": true,
           "gridcolor": "white",
           "linecolor": "white",
           "ticks": "",
           "title": {
            "standoff": 15
           },
           "zerolinecolor": "white",
           "zerolinewidth": 2
          },
          "yaxis": {
           "automargin": true,
           "gridcolor": "white",
           "linecolor": "white",
           "ticks": "",
           "title": {
            "standoff": 15
           },
           "zerolinecolor": "white",
           "zerolinewidth": 2
          }
         }
        },
        "width": 800
       }
      },
      "text/html": [
       "<div>                            <div id=\"9384465c-963a-4471-86da-7a5f21274e10\" class=\"plotly-graph-div\" style=\"height:525px; width:800px;\"></div>            <script type=\"text/javascript\">                require([\"plotly\"], function(Plotly) {                    window.PLOTLYENV=window.PLOTLYENV || {};                                    if (document.getElementById(\"9384465c-963a-4471-86da-7a5f21274e10\")) {                    Plotly.newPlot(                        \"9384465c-963a-4471-86da-7a5f21274e10\",                        [{\"hovertemplate\": \"class=%{marker.color}<br>PC 1=%{x}<br>PC 2=%{y}<br>PC 3=%{z}<extra></extra>\", \"legendgroup\": \"0\", \"marker\": {\"color\": [0, 0, 0, 0, 0, 0, 0, 0, 0, 0, 0, 0, 0, 0, 0, 0, 0, 0, 0, 0, 0, 0, 0, 0, 0, 0, 0, 0, 0, 0, 0, 0, 0, 0, 0, 0, 0, 0, 0, 0, 0, 0, 0, 0, 0, 0, 0, 0, 0, 0, 0, 0, 0, 0, 0, 0, 0, 0, 0, 0, 0, 0, 0, 0, 0, 0, 0, 0, 0, 0, 0, 0, 0, 0, 0, 0, 0, 0, 0, 0, 0, 0, 0, 0, 0, 0, 0, 0, 0, 0, 0, 0, 0, 0, 0, 0, 0, 0, 0, 0, 0, 0, 0, 0, 0, 0, 0, 0, 0, 0, 0, 0, 0, 0, 0, 0, 0, 0, 0, 0, 0, 0, 0, 0, 0, 0, 0, 0, 0, 0, 0, 0, 0, 0, 0, 0, 0, 0, 0, 0, 0, 0, 0, 0, 0, 0, 0, 0, 0, 0, 0, 0, 0, 0, 0, 0, 0, 0, 0, 0, 0, 0, 0, 0, 0, 0, 0, 0, 0, 0, 0, 0, 0, 0, 0, 0, 0, 0, 0, 0, 0, 0, 0, 0, 0, 0, 0, 0, 0, 0, 0, 0, 0, 0, 0, 0, 0, 0, 0, 0, 0, 0, 0, 0, 0, 0, 0, 0, 0, 0, 0, 0, 0, 0, 0, 0, 0, 0, 0, 0, 0, 0, 0, 0, 0, 0, 0, 0, 0, 0, 0, 0, 0, 0, 0, 0, 0, 0, 0, 0, 0, 0, 0, 0, 0, 0, 0, 0, 0, 0, 0, 0, 0, 0, 0, 0, 0, 0, 0, 0, 0, 0, 0, 0, 0, 0, 0, 0, 0, 0, 0, 0, 0, 0, 0, 0, 0, 0, 0, 0, 0, 0, 0, 0, 0, 0, 0, 0], \"coloraxis\": \"coloraxis\", \"symbol\": \"circle\"}, \"mode\": \"markers\", \"name\": \"0\", \"scene\": \"scene\", \"showlegend\": true, \"type\": \"scatter3d\", \"x\": [-0.3357667788775343, -0.3190853915560137, 2.3098167034099713, -0.3887450865824849, -0.2550030985217202, -0.30833260055645917, -0.26366347524062667, -0.23772583773782416, -0.3354259828606137, -0.3279943020021651, -0.3342614808235963, -0.3357627114792302, -0.3357469744998666, 0.6135645230416797, -0.3647075722006168, -0.34576779849777556, -0.2824988343322098, -0.3338234992842274, -0.3238744920568285, -0.38863965176802034, -0.4315892046749954, -0.03069483936873717, -0.27160043515700755, -0.2908485090045438, -0.27640398396840254, -0.2770269664799226, -0.34290499741598307, -0.3300632025294052, -0.3341668266154646, 0.022819971149395525, -0.3437858233481856, -0.38901162020034485, -0.24482612297137954, -0.3055386987100119, -0.3889231797584271, -0.3109728240031836, -0.3344428288160075, -0.29272113340474054, -0.3888875982497231, -0.24529414575804934, -0.27680755745427393, -0.32686181008012527, -0.12815084692705161, -0.34135542892515336, -0.307543472057252, -0.3641284029559801, -0.2908286957608967, -0.27710248265742327, -0.28547757184723777, -0.3357488251215741, -0.2770546027125307, -0.34423128042312817, -0.3354829360429517, -0.38899312613019904, -0.45894574493447304, -0.4226295789200501, -0.37593668536126745, -0.28922854365253864, -0.2765757643664102, -0.3008829856053869, -0.2401693555595093, -0.07864778114244268, -0.30830347834867533, -0.06613929145671119, -0.30836721771638487, -0.23252522918722615, -0.33535872755543306, -0.2890977866023498, -0.38615995280315973, 0.8634505283594122, -0.30816711991820683, -0.11800028499530084, -0.34545073807987753, -0.3868336645103141, -0.30690964666741877, -0.30457588298175664, -0.35403500455771625, -0.3877271605414353, -0.34848411556402337, -0.3116315505126865, -0.33539687955806496, -0.33383410806911373, -0.23112668239035036, -0.33170842473119266, -0.3884665270994677, -0.3346002528113328, -0.30834817735836384, -0.38898231323451765, -0.33558620719611476, -0.33574305105083607, -0.289086692330405, -0.24898912199541073, 0.03845247321945524, -0.3444066818817441, -0.3353567283278162, -0.3751319671078966, -0.3437343850840336, -0.23255847486989234, -0.40893011810108765, -0.34348379247029576, -0.2764271320555866, 3.7236659229017484, -0.3885744304137321, 0.8565168107726033, -0.3889371695390656, -0.3448709365938339, -0.3352843084127476, -0.33543883666881474, -0.34545073807987753, -0.3885117144848364, -0.308210676627587, -0.3352850286062306, -0.36188411594639913, -0.33543258750839317, -0.3310170000250208, -0.38896620287458333, -0.33464265655326, 0.35312521156237925, -0.33563206643890564, -0.33570269637627154, -0.3522722214232762, -0.3487710521997268, -0.33192625658799607, -0.3083245617374091, -0.3888760554831248, -0.3354802816349369, -0.3356073983362851, -0.29073525421724394, -0.29598740581946487, -0.23232607637443445, -0.3164400634878126, -0.2904760015771606, -0.38814115957277556, -0.41687398130161235, -0.38687799203301143, -0.34369538242092984, -0.3880389178699556, -0.338089199407717, -0.38397605543843144, -0.33555061222543453, -0.335549823320497, -0.32866590429778164, 0.269437941038022, -0.38851781171297384, -0.2733616121752662, -0.34548510486958667, -0.3347605704725838, 0.895346284150642, -0.26235282037863, -0.3472611472562883, 0.5850228414147286, -0.35557232286985846, -0.3540730187572213, -0.4098082484329738, -0.27673936530877624, 0.12960839541633948, -0.2768101923612561, -0.34486656850720987, -0.4093125185323108, -0.38879044321549644, -0.29080943601556863, 4.405296886623415, -0.3453513076452235, -0.33518543596197975, -0.3356856074812122, -0.3131288642509308, 0.6545674802171171, -0.3887312497999988, -0.33789921031620096, -0.33564120205664805, -0.31149296983223074, 0.4343563786820108, -0.30666901321859463, -0.3403237982484762, -0.3857791558550758, -0.33559149485085904, -0.3953182459311068, -0.350512503074459, -0.3354617144856782, -0.08995844046057008, -0.3875227527752455, 3.728526845838476, 0.20452566593460744, -0.2734774787350899, -0.33291941462175506, -0.3107300520817904, -0.3521579983842703, 0.07904845002632657, -0.3345995800119216, -0.38810433468654765, -0.3513219961204617, -0.32215213150300825, -0.33570776588429135, -0.3442031780118484, -0.348766356996316, -0.2733896015404709, -0.2925741323718298, -0.33124816613046737, -0.2241139800274363, -0.36614539283268993, -0.3888077559393785, -0.3354540360319385, -0.28996869380971824, -0.32674408315360187, -0.3551709042156957, -0.335735151605826, -0.3357168458416637, -0.28434426193985757, -0.3423173899850624, -0.344945340110492, -0.33543307902880676, 3.917957461240905, -0.3939846195839928, -0.34513421962137397, -0.3143663504929544, -0.28225217383340107, -0.32253154159958, -0.29050329150713305, -0.13863427443451168, -0.290755716028024, -0.3418013188377254, -0.3349066177090244, -0.19490691097887305, 2.2309396267751365, -0.3478624769020929, -0.2624804082624272, 1.0193661573968318, -0.35830775614654325, -0.3522716742925239, -0.3970039081239129, -0.1713889305285608, -0.35602681656191904, -0.3509898516379992, -0.328605921197553, -0.343780161694904, -0.3882805126381946, -0.2879984148495659, -0.344233283856504, -0.34402336152455254, -0.3436415007846391, -0.19509579774424987, -0.2762713324796249, -0.2908415245209565, 0.4559339808285665, -0.13389503389962457, -0.3962978060342763, -0.27171881936838893, -0.3354370313959574, -0.3967543875112782, -0.3523887736354847, 0.571979977100294, -0.3442575565997306, -0.33491949565339285, -0.3299040676631025, -0.29647931466689653, -0.3858432230960761, -0.3885079723904797, 3.7407822709606586, 0.09992976458941703, -0.38604448571904354, -0.334304561540688, -0.3351301543279874, -0.26369617029051323, -0.3356489712671226, -0.380126803306365, -0.24927552793646937, -0.08771850472970871, -0.37587135180912157, -0.33492644089076035, -0.3279832942663299, -0.3850728519823853, -0.3333641198715605, -0.3457266782564009, -0.36371009139721555, -0.30684606642988405, 3.7240581206434986, -0.097828373666583, -0.33055583069370287, -0.3425305560840557, -0.2772097851149582, 3.7339388112660328, 3.7351844863494215, -0.2445721699498165, -0.3456624643204235, -0.32969173675233393, 2.4771947892908335, -0.33381045392461883, -0.2911525508229962], \"y\": [0.9823215849155886, 0.9823001446175911, 1.6266767993722404, 1.2576597533313538, 1.704909974880763, 0.7904607083811569, 0.5459944968763013, 1.8207095145146983, 0.9823170321006696, 0.9824844732328452, 0.9823531315711111, 0.9823213214701756, 0.9823213025556186, 0.3894347310878186, 0.9169212422335181, 1.45137646372917, 0.20007822809430117, 0.9822786186756182, 1.0136256231761784, 1.2576619629354167, 2.555252868894055, 0.7433060260435385, 0.7895586254493385, 0.7378426847539397, 1.7915815734319098, 1.7915685175481346, 0.5445011226291782, 0.9821481941962361, 0.9822867670218307, 0.9898365100756974, 1.013208340150807, 1.2576695103508369, 0.09583193341244796, 1.4435731928765632, 1.2576643901916666, 0.9817253040574786, 0.982279587964607, 0.23511840342233864, 1.2576682743144219, 0.09589186811458913, 1.7915731157169197, 0.9818107760855441, 0.8261178740466819, 1.4215878062342888, 0.7904451643776845, 0.9169364346670288, 0.7378543844125204, 1.791558565780618, 0.7376178128278315, 0.9823219612028742, 1.7915609640653458, 1.0131850560617608, 0.9823135848400225, 1.2576698986296624, 3.545406141326197, 1.9004612856192733, 1.2647181573258819, 0.7378181758159597, 1.7915431018766816, 0.7899347430582401, 1.8208840653192622, 0.9848600107064015, 0.7904613186971017, 1.2459191776818226, 0.7904680033619504, 1.5005533124657935, 0.9823008444063849, 0.7377364902594427, 1.2574614601745842, 0.6929990325548173, 0.7904516226139924, 0.4005027940047302, 1.451369159767302, 1.2576628472891003, 0.7903505375077816, 0.7901886304297321, 1.4979440556649448, 1.257599486661914, 1.4392360273013918, 0.9814325267437156, 0.9822984175140383, 0.9822923449636822, 1.5469819957518538, 1.0130032348854459, 1.2576460630561581, 0.9822832631285298, 0.790461079367989, 1.2576680329436432, 0.9823107231491016, 0.9823220822104387, 0.7378908916882546, 0.2430713399634198, 1.9113849832779208, 1.451353378852874, 0.982330178400105, 1.2569142415354213, 1.45139118093936, 1.5470897320933517, 1.8906661991095703, 1.4512144031010774, 1.913499732599487, 2.094794119036662, 1.2576577503366353, 1.8147314497389075, 1.257668383886494, 1.4513603877780472, 0.9823048171237985, 0.9822991655546447, 1.451369159767302, 1.2576381417527545, 0.7904646584103256, 0.9823086657975778, 0.9131533986056138, 0.9823090605506203, 0.9819673361181465, 1.2576669757077683, 0.9822447132046328, 0.7286728608601993, 0.9823153415208743, 0.9823206153923517, 1.3829199934636878, 0.6393257042557943, 0.9820533555867027, 0.7904615742820464, 1.2576658283184055, 0.9823136404686186, 0.9823096281098119, 0.7378179839759869, 0.22082518077246743, 1.547086216067342, 0.9820291852860172, 0.7378377657972466, 1.257618010261335, 1.913186155982719, 1.2576375082345947, 1.4513429758139866, 1.2576201529471474, 1.4512584122737036, 1.2574263262705385, 0.9823113211754171, 0.9823061851738029, 0.9817729675692686, 0.5048681408633391, 1.2576519625897982, 0.736825581480762, 1.4513614652318034, 0.9822694418784155, 1.781930702543771, 0.5458911373444736, 1.4392152779736782, 1.9446797720471487, 1.4979676324562958, 1.497922336073411, 1.936286387290539, 1.7915536218984554, 0.9572029392205494, 1.7915598803179151, 1.4852946017497337, 1.9362967763333252, 1.2576675156041728, 0.7378426486346917, 2.9638624521600136, 1.451342230438161, 0.9823001157515495, 0.9823203568493717, 1.7061392410254261, 1.33164979437267, 1.2576565561554254, 0.5443296861986096, 0.9823132437543947, 0.6663265580004168, 0.9810253332195765, 0.7904411726794432, 1.4974572540344895, 1.688862804438734, 0.9823106123353877, 1.6272978212800076, 1.4438114580171166, 0.9823176643986518, 0.5433666844614384, 1.2576002832940993, 2.0946344531356815, 1.4887896900752833, 1.7914964439077117, 0.982234796858223, 1.2534860682095648, 1.3829189000888589, 0.9561433512569794, 0.9822414313773143, 1.2576536535453933, 1.3828666771558233, 0.9819792202016435, 0.9823200319604914, 1.013184947574914, 1.439236040512141, -0.1078729818497005, 0.2125209267343877, 0.9822544778394925, 1.546710502886303, 1.030565191879035, 1.257656347673142, 1.7554309420780394, 0.737785926102, 1.5289981718145085, 1.4979481477782657, 0.9823201554670504, 0.9823191442404005, 0.7376415636750207, 1.2982651576905344, 1.4513323261264839, 0.9823076553880924, 2.197872983245262, 1.627325770171455, 1.4513339472134807, 0.6641303461347018, 0.9798708870942675, 1.7625035934556623, 0.7378430707278348, 0.9793391085809966, 0.7378252268958996, 1.9172948545342778, 0.9822810272051631, 1.576379234710429, 0.15078407601008412, 1.3825695401667037, 0.5459580824161613, 1.7552272185633344, 0.9085922479673809, 1.3829158203448302, 1.6273983884552106, 0.7285848583232983, 0.9107823533609452, 1.382887586545723, 0.9817742246388824, 1.0131701001055755, 1.257649961372952, 0.7377323667665422, 1.4512621621703632, 0.7650048542810046, 1.0131416216426787, 0.9727158802318661, 2.28186156688162, 1.5109638928295326, 1.9463276659476678, 1.017607034659837, 1.6273791174815404, -0.1307140881550453, 0.9823138494357515, 1.6273939338477412, 1.3829186876839157, 0.9491774632237985, 1.0131847146195263, 0.982280757321271, 1.7552403835402512, 1.9148272594590332, 1.2574429903883582, 1.2576591431016193, 2.094542575426766, 0.967042425061739, 1.2577316934726839, 0.9822127425554222, 0.9822970868344094, 0.5459878835218371, 0.9823240538463988, 1.257506995290183, 0.9768111635993523, 0.7949669635149845, 1.2572474616295763, 0.9823287344982757, 0.9822057315818913, 1.2576069904449698, 0.9822603486848583, 1.4513710486109948, 0.7505415173118022, 0.7904339750098709, 2.0947779851800066, 0.734918633568542, 0.9822215618589649, 0.5444696360134673, 1.79156460251477, 2.0950965874623555, 2.095122693153624, 0.5457058815988022, 1.4513726495085515, 1.571931452759519, 0.8850159803478462, 0.9821882260572918, 0.7378468999307114], \"z\": [-0.5813680889341539, -0.5817207363499338, -0.713183849272852, -0.5242749067855212, -0.11389481118914437, -0.48219746737111246, -0.17323983296209922, -0.6887705518975453, -0.5813742023739391, -0.5815782394567348, -0.5814087888585715, -0.5813681064526888, -0.5813684394830125, -0.11788500066441313, -0.4161060212163482, -0.10907833178587638, -0.3370877365442849, -0.5813984398703083, -0.2158657868099901, -0.5242777575087746, -0.7033067135580434, -0.2794494115765594, -0.4827473206155914, -0.27241244196666536, -0.7013541826288165, -0.701337338565127, -0.3782166002219906, -0.5814446323530637, -0.5813932254183684, -0.5910634783694224, -0.21532742862783438, -0.5242717684801377, 0.07312455985456634, -0.2836865321554235, -0.5242723106451772, -0.5817425819367047, -0.5813853930811602, -0.32198605762587046, -0.524274104854027, 0.07311872162100026, -0.7013432708979515, -0.581423934219388, 0.29505670400983863, -0.11419262724531941, -0.48221029708937174, -0.4161224906394268, -0.2724159697641952, -0.7013330776717331, -0.2724681896198544, -0.5813685743716149, -0.7013347420897269, -0.21531168595164807, -0.5813720649157753, -0.5242722687036508, -0.5587925994084423, -0.5842845782542917, -0.09801367030105797, -0.2724407417934325, -0.7013402918031143, -0.48221803146908354, -0.6887643452926024, -0.5093408030804984, -0.482198254770941, -0.5280917526272969, -0.4821986580409773, -0.5852134172623404, -0.5813713548807656, -0.272421891478925, -0.5242778601021885, -0.2853175116403095, -0.4821986129446245, -0.10510500089546741, -0.10908320588941703, -0.5243167863526546, -0.4821988217527423, -0.48220602324406187, -0.5819114194888134, -0.5242807929846491, -0.13555388456211845, -0.5816508013130605, -0.5813698918430221, -0.5814018515384045, -0.3923742501041908, -0.21553247874207832, -0.5242772605068506, -0.5813829859389494, -0.4821972311342838, -0.5242720062844264, -0.5813690877678179, -0.5813687304896655, -0.2724630696685874, -0.37327791633179164, -0.876573103979842, -0.109101448884119, -0.5813791757982113, -0.5243696557068379, -0.1091259137757985, -0.3923720603396653, -0.6023964851362801, -0.10908442372037519, -0.8703699154373656, -0.028881845891918678, -0.5242780415469288, -0.7318286585973033, -0.5242730690679894, -0.10909333467494553, -0.5813740068506772, -0.5813691889082335, -0.10908320588941703, -0.5242741894872545, -0.4822011337740078, -0.5813750118644297, -0.25589300121519476, -0.5813719468259111, -0.5813761889470744, -0.5242720720221755, -0.5813718534695121, -0.28381422253255206, -0.5813693272381626, -0.5813692084171639, -0.2985853177161537, -0.42888497648267515, -0.581379465484173, -0.48219786964823236, -0.5242737042426814, -0.5813721366850736, -0.581368342209557, -0.2724083253243119, -0.18179009079657654, -0.39237612020252205, -0.5817057151042632, -0.2724191395149746, -0.5242768114570444, -0.7404762359601841, -0.5243091154492341, -0.10911396989716482, -0.5242795758456457, -0.10921197393221915, -0.5243154565020031, -0.581370010950241, -0.5813686660747083, -0.5813751555179926, -0.17378662519215463, -0.5242777231378268, -0.27251839030807307, -0.10908042743469933, -0.5813758774258365, -0.7028277524156646, -0.17324058109384924, -0.13557465337666344, -0.7752305171318425, -0.5818846478398134, -0.5819048439101532, -0.773440544461052, -0.7013395669030132, -0.5847045350196893, -0.7013397049028255, -0.23952955724669198, -0.7734539478967264, -0.5242759906645976, -0.27241327171521773, 4.204735652426439, -0.10907820138139401, -0.581374884147633, -0.5813695069499494, -0.11297215602665277, -0.22769591051613017, -0.5242743562748761, -0.37827867263587456, -0.5813685747689095, -0.15257891038888802, -0.5975673763521174, -0.4822280229047779, -0.5820768729722137, -0.5920983862144901, -0.5813689448013755, -0.607554382775825, -0.14141734643897255, -0.5813736024792054, -0.17627441519542214, -0.52428539509021, -0.028943927464730686, -0.591482543810582, -0.7013944745177497, -0.5814062410345667, -0.2729266619504234, -0.2985874814269595, -0.5833375063719424, -0.581371908611708, -0.5242870533853959, -0.2985915925413043, -0.5815697660000033, -0.5813689448209971, -0.2153122608531395, -0.1355478252456317, 0.13338035538921683, -0.23778889636255032, -0.5814473595258355, -0.3924529028209391, -0.3879846493423309, -0.5242726575693683, -0.4840350701866854, -0.2724162915694943, -0.11102391212720533, -0.581888104296652, -0.5813683892972047, -0.5813685143938091, -0.2724988318030728, -0.12945708565066263, -0.10908429580752521, -0.5813715636856824, -0.04668267542867187, -0.6075904410707427, -0.10908066832741717, -0.08593414606798785, -0.5818678266387411, -0.0577800622594568, -0.2724199599147044, -0.5848118759997102, -0.2724098062607314, -0.8699718994013775, -0.5813758120642674, -0.37980921601685136, -0.21329142429346518, -0.2985871198474603, -0.17325559101357574, -0.08576839343369716, -0.39490626988128685, -0.2985842229575295, -0.6075448387239563, -0.2725238166504682, -0.461536688849688, -0.29860427149661656, -0.5813767773278212, -0.21531741081464334, -0.5242822899248115, -0.2724444136959382, -0.10908098734031477, -0.5771537487839246, -0.2153128382590578, -0.5818428644186568, 0.009115780200557493, -0.17507599752876032, -0.1451107685266628, -0.2210024094819687, -0.6075548967402815, 0.09019855400984078, -0.581373121150188, -0.6075490175195638, -0.2985824678314019, -0.5920791326983283, -0.21531103097977394, -0.5813754638732492, -0.484103761873093, -0.8702911717602696, -0.5242797664591786, -0.5242798384242979, -0.029182824293079546, -0.5866759703086561, -0.5243519933924903, -0.5813706389908365, -0.5813752685267237, -0.17323737709546982, -0.5813712741980999, -0.5244195317318388, -0.5817649046085471, -0.4881313151659941, -0.5244421270384555, -0.5813880359354334, -0.5815045669598442, -0.5243397997478334, -0.581403463457347, -0.10907777925815317, -0.08178478922519618, -0.4822223111525964, -0.028885992752187267, -0.27578338291569854, -0.5814535038179396, -0.37821629483999286, -0.701332373364174, -0.029182717643877438, -0.02921639793193227, -0.17357340572442773, -0.10907958311715758, 0.1425896583433107, -0.11699397888833483, -0.5813747522983354, -0.27240702851717846]}, {\"hovertemplate\": \"class=%{marker.color}<br>PC 1=%{x}<br>PC 2=%{y}<br>PC 3=%{z}<extra></extra>\", \"legendgroup\": \"2\", \"marker\": {\"color\": [2, 2, 2, 2, 2, 2, 2, 2, 2, 2, 2, 2, 2, 2, 2, 2, 2, 2, 2, 2, 2, 2, 2, 2, 2, 2, 2, 2, 2, 2, 2, 2, 2, 2, 2, 2, 2, 2, 2, 2, 2, 2, 2, 2, 2, 2, 2, 2, 2, 2, 2, 2, 2, 2, 2, 2, 2, 2, 2, 2, 2, 2, 2, 2, 2, 2, 2, 2, 2, 2, 2, 2, 2, 2, 2, 2, 2, 2, 2, 2, 2, 2, 2, 2, 2, 2, 2, 2, 2, 2, 2, 2, 2, 2, 2, 2, 2, 2, 2, 2, 2, 2, 2, 2, 2, 2, 2, 2, 2, 2, 2, 2, 2, 2, 2, 2, 2, 2, 2, 2, 2, 2, 2, 2, 2, 2, 2, 2, 2, 2, 2, 2, 2, 2, 2, 2, 2, 2, 2, 2, 2, 2, 2, 2, 2, 2, 2, 2, 2, 2, 2, 2, 2, 2, 2, 2, 2, 2, 2, 2, 2, 2, 2, 2, 2, 2, 2, 2, 2, 2, 2, 2, 2, 2, 2, 2, 2, 2, 2, 2, 2, 2, 2, 2, 2, 2, 2, 2, 2, 2, 2, 2, 2, 2, 2, 2, 2, 2, 2, 2, 2, 2, 2, 2, 2, 2, 2, 2, 2, 2, 2, 2, 2, 2, 2, 2, 2, 2, 2, 2, 2, 2, 2, 2, 2, 2, 2, 2, 2, 2, 2, 2, 2, 2, 2, 2, 2, 2], \"coloraxis\": \"coloraxis\", \"symbol\": \"diamond\"}, \"mode\": \"markers\", \"name\": \"2\", \"scene\": \"scene\", \"showlegend\": true, \"type\": \"scatter3d\", \"x\": [-0.14125871947216712, -0.14983179174489358, -0.1675222698804856, -0.15233892840352006, -0.1482724700381986, -0.15011741450371238, 0.1642648781906438, -0.16866977530486404, -0.22185590672133745, -0.16828595760631312, -0.08940527727546749, 2.5554982927289123, -0.13834040226284572, -0.16553843297480855, -0.16808984680193287, -0.22530810585426594, -0.19669957493705, -0.16813852360101203, -0.16865201882581493, -0.16873856018150787, -0.2219453563852833, 0.18805762375176852, 0.23700396751584266, 0.08026662103925054, -0.1684845569503438, -0.16408513602765898, -0.16842380682232302, -0.1687956297308864, -0.1711574118885389, -0.14799585093441772, -0.16758938393331094, -0.16786719032887362, 1.5820592159872053, -0.14122003989645437, -0.16515372514392002, -0.16851102908229448, -0.16886623675509974, -0.16812466946054597, -0.14598150805420207, -0.16874737859368955, -0.03352631096444509, -0.14129774889408883, -0.16240424029067949, -0.16872682701765618, -0.16681943406144745, -0.1682130098025566, -0.12843613926047517, -0.14076091499098048, -0.14104846918163416, -0.14103154686437563, -0.14162276261557424, -0.2221194172103095, -0.1684429627920891, -0.188463004150459, -0.16554319931807235, -0.14082828908602585, 3.864799952828006, 0.4599790203782894, -0.16730936754547668, -0.15189346853001218, -0.16602674432506678, -0.16886845271513642, -0.16589159327239664, -0.15210028216294993, -0.12782388004303802, -0.12344898603899124, -0.182744796899695, -0.16874137156082594, -0.041548241341374026, -0.11935063196461651, -0.1688773504957016, -0.14132556167279503, 0.4838296220499973, -0.22150592500256455, -0.1512340378276881, -0.14106519247058047, -0.2217911492515873, -0.16699938340979403, -0.1661907198213563, -0.1509006558973488, 0.3762649340569876, -0.2218265758638795, -0.1412211636724273, -0.16483071256889698, -0.1444625039507597, -0.16743913102303393, 0.27772865696593646, -0.2209864376494836, -0.15176127963098604, -0.16768712581829176, -0.14996106417421337, -0.16866705394761664, -0.22178979984162253, -0.16887740905565174, -0.2219399613675306, -0.26346123330160875, 0.3047169762954113, -0.14148154489106035, -0.10349978105134071, -0.1660411253087616, -0.14144012475277293, -0.16854047061488697, -0.1524255985541629, -0.15064251348842475, -0.15013905902769903, -0.09554062054145997, -0.2085076728739071, -0.21976596808693483, 0.30471129961726323, -0.16885913007765266, 0.30484216952362353, -0.15177499971229838, 0.493910097859488, -0.15110262532158805, -0.16882737887833207, -0.21466775094870608, -0.15015143739497427, -0.16695856677377002, -0.15149305538953897, -0.1461827448442898, -0.13972626518050188, -0.18835067503414324, -0.16838929791034735, -0.10777146483909975, -0.1682112477768263, -0.1509599367300508, -0.14797005479037692, -0.02454788992899842, -0.15223540354941878, 0.3408731877715193, -0.22099489060896407, -0.1685307542552715, -0.16829400401472744, -0.22138995033359055, -0.22196801099293967, 0.3051066886128635, -0.15512366805862565, 3.244545466387664, -0.1169140165980899, -0.21283183290325833, -0.1412578826271628, -0.09438841401715292, 1.5803620817568456, -0.1686287283605225, -0.16807986967199387, -0.16778051362624796, -0.1677674279408067, 0.3052904253899686, 0.0623807282506248, -0.17630240428392022, -0.17585116594055977, -0.14999730519123003, -0.15051918368417033, -0.1669567736523559, -0.21750778636355686, -0.1756964363133915, -0.149006412538, -0.17579672850506467, -0.1136704004488973, 1.1434593014850074, 0.3046940733404268, -0.07382986062838472, -0.21724964292343502, -0.14006089736181315, -0.08492558753631424, 1.0945378099366327, -0.22194197929698029, -0.17584870316267304, -0.16887918706719504, -0.1678789116746357, -0.2218673017016284, -0.14123725129086123, -0.19923383625028154, 8.049313926200343, -0.14915868724522838, 0.30857244036338305, 0.024377839043256896, -0.15002159566046003, -0.17400579959470844, -0.16845329243725968, 0.13895723273228053, -0.21600222168389743, -0.10200425949319047, 0.31262426137834914, -0.1686905463643962, -0.16051364268464738, -0.14898726340621035, -0.15020714563611193, -0.22103571493370788, 0.3048768062037494, -0.1884101286297118, -0.15162009124392273, -0.1493826958844127, -0.15251004898168302, 0.3088082355191078, 0.5823637225108627, 2.1150988614935486, -0.14548285852655607, 0.318496051622881, -0.1922115724461848, -0.15901045478424683, -0.22192412049065185, -0.1687151628870458, -0.13994292674558567, -0.14710917615771602, -0.16733711965278056, 3.1075648372667337, -0.10104088982674365, -0.22189546194452067, -0.19163880602231168, -0.044632841226148114, -0.15190726060809495, -0.1412579202404297, 0.3847137356314348, -0.14555575905301377, -0.1459480369657321, -0.15423474553195202, -0.1676063507058694, -0.14805568270012115, -0.14982994159127733, -0.1819550731395465, -0.1405332732974134, -0.11030568779336887, -0.13940009048545235, 0.5277862450654969, -0.10093126293185753, -0.0963718505021588, -0.15225105998989952, -0.1410478388311601, 0.5477187267082986, -0.19626008067913311, -0.1687920465284532, -0.16674569951027282, -0.12418481564504738, -0.12966348008808345, -0.1506757089583667, 0.3264746280099413, -0.15011847279732377], \"y\": [-1.339584756354776, -1.9934210138264439, -1.147758628490489, -2.167252072049355, -1.9935347955020197, -2.016245664907861, -1.7983095947399446, -1.1477387386903453, -0.8723888847688953, -1.147760684525268, -1.7903745899966101, -1.3584469778069224, -1.3396273716307041, -1.147832826616779, -1.1477816821294444, -0.5027195847719615, -1.2131608730460233, -1.1477465516214131, -1.1477383665666947, -1.1477346984128465, -0.8723893645094387, -1.7947108885341962, -1.3462888832148336, -1.1519224333886344, -1.147734857057611, -1.1478370965774227, -1.1477412556527187, -1.1477345663842298, -1.5856787998708233, -1.1482816048791775, -1.147750270971992, -1.1477576591986052, -1.1742211899645765, -1.339583945744465, -1.1478355192121905, -1.1477347144048973, -1.1477291514291053, -1.1477419609206851, -2.2336216950681567, -1.1477326932879914, -1.1553533453176705, -1.3395855742968283, -1.14782781962719, -1.1477399343266876, -1.1478596726373245, -1.1477502286386407, -1.339920705281369, -1.339592465383873, -1.3395949961740665, -1.3396211439043693, -1.339577913939705, -0.8723804585577897, -1.147735380227917, -1.2192755103559556, -1.1478436814470165, -1.339592474138475, -2.3529025028038943, -2.302578573950377, -1.1477688964224155, -1.148544194354779, -1.1477847452052843, -1.1477300891857483, -1.1477774590427312, -1.1480742755818192, -2.0638267531719654, -1.789693184443936, -1.490687430969908, -1.1477279443641422, -1.152034307158799, -2.1677197082259796, -1.147728874851888, -1.3395861571709848, -1.1982132600057127, -0.8723906167810218, -2.1301920169457853, -1.339603548431906, -0.8723882250733699, -1.1478357139964923, -1.147846496633352, -1.9934552051227497, -2.1825921808176156, -0.8723854803568581, -1.3395839692955083, -1.1477900976415312, -2.3154008269617483, -1.1477568861442045, -1.345872200324094, -0.872415298825255, -2.220226272613635, -1.1478209125857852, -2.0452643409676177, -1.1477379842278381, -0.8723909865171079, -1.1477288739659164, -0.8723941334616749, -1.4135286891548167, -2.29886507618751, -1.33958157026001, -1.7901120247194267, -1.147808490029123, -1.3395813315060228, -1.1477423057214715, -2.1797945559267053, -1.9934562807245366, -2.016246118513516, -1.1531658288541566, -0.8724439117994102, -0.872490151410353, -2.2988728668933827, -1.1477299539891657, -2.298872913967909, -2.1301644448778716, -0.9271176680535955, -2.1673551874753167, -1.1477297389181442, -0.8729217243700039, -2.016243588204332, -1.1477579738225616, -2.1301662078929904, -2.000507822601104, -1.1499072450834404, -0.6321021110783056, -1.147742987682845, -1.3406118929298145, -1.147764698273476, -2.1672964026733528, -2.1536160254503556, -2.1912293638640477, -2.3842087507002954, -2.299495235579113, -0.8724266348680905, -1.1477346234045993, -1.1477685248937277, -0.8724070169255729, -0.8723904669712466, -2.2988875959193837, -2.079749833837049, -1.2156792959877598, -1.3670150354523276, -0.8729529920049552, -1.3395847388169588, -1.1534903974153352, -1.1110695217297026, -1.147737181036093, -1.1477703141444717, -1.1477751994145766, -1.1477749251770417, -2.2989080779230413, -2.0264237297736267, -0.8726756440623789, -1.5855616610372103, -2.016243147769427, -2.2202883321427542, -1.1477579362440034, -0.8725279131175219, -1.585570972113992, -1.9935989969409023, -1.5855638678565314, -1.7899485583714074, -2.3405621484967227, -2.298867299743311, -1.9988025450829756, -0.8726619893595545, -2.16769182982381, -1.1494562146778449, -1.186855135539068, -0.8723905491111195, -1.5855574248395072, -1.5857454336293053, -1.1477521540380116, -0.8723912158667713, -1.3395837247874116, -1.0994869243152114, -2.8339849471882186, -2.1168992443062056, -2.2990116394416584, -1.150652690135243, -2.220238634106603, -1.2196811195540396, -1.1477474530314253, -1.1541147296688423, -0.8726009755313856, -1.9969519897547876, -2.299389819258837, -1.1477391739907499, -2.0962532543062906, -2.0162561543717943, -2.179942367904365, -0.8724274904260383, -2.2988675850411986, -0.63208435066548, -2.1301725526263002, -2.154907554808622, -2.179788723763354, -2.2991908199738886, -2.192987426353054, -2.389245091311466, -2.290581195853467, -2.2992667637804396, -1.2214322296189275, -2.1799936509922926, -0.8723910117600113, -1.1477404607252828, -2.168212792251845, -2.114134699128869, -0.374697975760086, -2.268617081991741, -1.34019186750412, -0.8723932008844608, -1.2214745729278014, -2.019320846481109, -2.1798273522570173, -1.3395847396052218, -2.302816846032944, -2.151687944843054, -2.151640447247326, -2.1275540394226216, -1.1477854980883107, -2.016371095844447, -2.0162465351213115, -1.4907406237644627, -1.3395995426601774, -0.33848649873411774, -1.3396483272851352, -1.2015463864822262, -1.5867624526804989, -2.15546589660157, -1.1480774354422456, -1.3395949829637717, -1.1675822362302541, -1.2131663085850382, -1.1477301422424577, -1.1478107020797557, -1.7897105580777726, -2.2256203248099853, -1.9934557785003488, -2.299378683847861, -2.016245687086588], \"z\": [0.11682557106188221, 0.42341271231248995, 0.017639016962688697, 0.5284327073663967, 0.4234093860300916, 0.3802685732676729, 0.3593019714206965, 0.017658392667014095, 0.07475294063307622, 0.017655966876842018, 0.36264706833648375, 0.015010370839742895, 0.11677418231442845, 0.017616076018632815, 0.01765732178712986, -0.008601857851018689, 0.1829066694675029, 0.01764905248147272, 0.017657912571251502, 0.017658798944442135, 0.07475498930274556, 0.35783667543938275, 0.11047773594602452, 0.0134203134821893, 0.017653384774011873, 0.017585989981871265, 0.01765377640379918, 0.01765998984596624, 0.22074169428055432, 0.017358238894878964, 0.017638242623389925, 0.017646169178172313, -0.012927082396780214, 0.1168245252520401, 0.01760852606931321, 0.017653915596370577, 0.017660070766132862, 0.01764753764685465, 0.23554209706897444, 0.01765845670927018, 0.016774409626156124, 0.11682662633077213, 0.017547422909830895, 0.0176599352186366, 0.017650711443369247, 0.01765162748632756, 0.11663920720594398, 0.1168169218052401, 0.11682376979229386, 0.11683033941196772, 0.11683157678000236, 0.07475636686545424, 0.017652630010946427, 0.13747911300055637, 0.017619056586099222, 0.11681837138736229, 0.4360692544552466, 0.49586460705001095, 0.017637166178758115, 0.0175115896654467, 0.017613816528804976, 0.01766036701531007, 0.01760898141147146, 0.017391432240062094, 0.4507415270053001, 0.3631976840144022, 0.1701519937270887, 0.017657068484920227, 0.016066678289410986, 0.5541255045172458, 0.01766023616499624, 0.11682737832654622, 0.01702550247288224, 0.07474588193353801, 0.41075868835035917, 0.1168263966744663, 0.07475137466020146, 0.0176482242440559, 0.017633712406467324, 0.4234447384462116, 0.4760116684446347, 0.07475140789060773, 0.11682455563644664, 0.017589543818289338, 0.27287099523108255, 0.017636769072611014, 0.10949244579772455, 0.07474126733961385, 0.48573499150732175, 0.017659072990966987, 0.44561940806284106, 0.01765813416225333, 0.07475207787636882, 0.017660237188003445, 0.07475613791057435, 0.34862569638617613, 0.4982151441528659, 0.11682951276776014, 0.36288021217647254, 0.017620421437839814, 0.11682855971693198, 0.017656560883073342, 0.4779966330117342, 0.42343947849537855, 0.38026915848753534, 0.017526512325171387, 0.0744807981774546, 0.07473489779665425, 0.4982173318159816, 0.01766013090835963, 0.4982145330855447, 0.4107629979419699, 0.07388904922988702, 0.5284334916577015, 0.017659391835295874, 0.07473981566129093, 0.3802687534698823, 0.017626734487337523, 0.41075740897211005, 0.25318329597678835, 0.01761164221130898, 0.01714165399638681, 0.017653494370491622, 0.11637857988860097, 0.017655426291389043, 0.528414839650722, 0.21460227296336976, 0.48691168396312595, 0.3770491510101539, 0.4976055618396733, 0.07474445469373184, 0.017654315183265448, 0.017658218612202004, 0.07474773921923686, 0.07475576826580234, 0.4982127439105921, 0.42341827694720896, -0.03764619055482413, 0.021103192808425555, 0.0747086690446667, 0.11682554843544336, 0.017587821871423038, -0.029635428203617243, 0.017657097923485757, 0.01765409322282685, 0.017648958104977918, 0.017648604297102022, 0.49821422791437453, 0.3784026433239922, 0.07385044212646802, 0.22081146104801402, 0.38026532577858163, 0.48572476530212244, 0.01762668600531649, 0.07469640246456503, 0.2208106061579679, 0.4234421749767443, 0.22081087682210385, 0.36305534347547397, 0.4912542158191092, 0.4982162257111691, 0.42320704190885533, 0.07472640790000046, 0.528285566095404, 0.016314878884435786, 0.07911878778853806, 0.07475523085932433, 0.22081028490814475, 0.22071042389037537, 0.017644961258753124, 0.0747538035039513, 0.1168248363822207, 0.2110436396267932, 0.4737418954194168, 0.39649621037143745, 0.49817118661520077, 0.014284183474112621, 0.4857008990872598, 0.13727610640258525, 0.01765605303178239, 0.012740874411838484, 0.07468343413455775, 0.42332157652466784, 0.49818442477449953, 0.017658954270338867, 0.3448130269972548, 0.38024707783155615, 0.4779881711609334, 0.07474555849281678, 0.49821237607962315, 0.017138221905199567, 0.4107618201451167, 0.3721917542932176, 0.4779969006779458, 0.4982136316138698, 0.3369667204952029, 0.48329084488304863, 0.4989263083804505, 0.4980256646054383, 0.20413220565023643, 0.5120181035449525, 0.07475496990722408, 0.017659824237542966, 0.5284211662907667, 0.30803017502841396, 0.11498769060905008, 0.30277632196694626, 0.11612262996484905, 0.07475493474499334, 0.20413112949291587, 0.37881805352930525, 0.4779941946287502, 0.11682554945242248, 0.49754455662843095, 0.3677123062494996, 0.367708138668432, 0.549745175839897, 0.017647947632445753, 0.38025754355659436, 0.38026262881004974, 0.17014913388071468, 0.11681390839634008, -0.10230419327786702, 0.11680250188112151, 0.016965057353275765, 0.21952050147405638, 0.3676575203623769, 0.01739550893767918, 0.11682375274901677, 0.007531220187372524, 0.18289866995011397, 0.017658739804514344, 0.017636142904167734, 0.36321809700378627, 0.3143632303242705, 0.423440058400393, 0.4978839529053491, 0.3802686018815805]}, {\"hovertemplate\": \"class=%{marker.color}<br>PC 1=%{x}<br>PC 2=%{y}<br>PC 3=%{z}<extra></extra>\", \"legendgroup\": \"3\", \"marker\": {\"color\": [3, 3, 3, 3, 3, 3], \"coloraxis\": \"coloraxis\", \"symbol\": \"square\"}, \"mode\": \"markers\", \"name\": \"3\", \"scene\": \"scene\", \"showlegend\": true, \"type\": \"scatter3d\", \"x\": [-0.14142887529511353, -0.33834483011955335, -0.40858341994507597, -0.3468546175758138, -0.5767250750856991, -0.4160792973787225], \"y\": [1.6863418207544232, 1.1872657698229652, 2.3180226931290693, 3.6570874458325493, 4.094535615252636, 4.221992281118503], \"z\": [6.657961550432589, 6.555360934497298, 16.607474202877295, 15.116210313534252, 16.31423830161207, 10.646512730751084]}, {\"hovertemplate\": \"class=%{marker.color}<br>PC 1=%{x}<br>PC 2=%{y}<br>PC 3=%{z}<extra></extra>\", \"legendgroup\": \"1\", \"marker\": {\"color\": [1], \"coloraxis\": \"coloraxis\", \"symbol\": \"x\"}, \"mode\": \"markers\", \"name\": \"1\", \"scene\": \"scene\", \"showlegend\": true, \"type\": \"scatter3d\", \"x\": [34.10077268192604], \"y\": [1.505643043013418], \"z\": [-0.7448382789737324]}],                        {\"coloraxis\": {\"colorbar\": {\"title\": {\"text\": \"class\"}}, \"colorscale\": [[0.0, \"#0d0887\"], [0.1111111111111111, \"#46039f\"], [0.2222222222222222, \"#7201a8\"], [0.3333333333333333, \"#9c179e\"], [0.4444444444444444, \"#bd3786\"], [0.5555555555555556, \"#d8576b\"], [0.6666666666666666, \"#ed7953\"], [0.7777777777777778, \"#fb9f3a\"], [0.8888888888888888, \"#fdca26\"], [1.0, \"#f0f921\"]]}, \"legend\": {\"title\": {\"text\": \"class\"}, \"tracegroupgap\": 0, \"x\": 0, \"y\": 1}, \"margin\": {\"t\": 60}, \"scene\": {\"domain\": {\"x\": [0.0, 1.0], \"y\": [0.0, 1.0]}, \"xaxis\": {\"title\": {\"text\": \"PC 1\"}}, \"yaxis\": {\"title\": {\"text\": \"PC 2\"}}, \"zaxis\": {\"title\": {\"text\": \"PC 3\"}}}, \"template\": {\"data\": {\"bar\": [{\"error_x\": {\"color\": \"#2a3f5f\"}, \"error_y\": {\"color\": \"#2a3f5f\"}, \"marker\": {\"line\": {\"color\": \"#E5ECF6\", \"width\": 0.5}}, \"type\": \"bar\"}], \"barpolar\": [{\"marker\": {\"line\": {\"color\": \"#E5ECF6\", \"width\": 0.5}}, \"type\": \"barpolar\"}], \"carpet\": [{\"aaxis\": {\"endlinecolor\": \"#2a3f5f\", \"gridcolor\": \"white\", \"linecolor\": \"white\", \"minorgridcolor\": \"white\", \"startlinecolor\": \"#2a3f5f\"}, \"baxis\": {\"endlinecolor\": \"#2a3f5f\", \"gridcolor\": \"white\", \"linecolor\": \"white\", \"minorgridcolor\": \"white\", \"startlinecolor\": \"#2a3f5f\"}, \"type\": \"carpet\"}], \"choropleth\": [{\"colorbar\": {\"outlinewidth\": 0, \"ticks\": \"\"}, \"type\": \"choropleth\"}], \"contour\": [{\"colorbar\": {\"outlinewidth\": 0, \"ticks\": \"\"}, \"colorscale\": [[0.0, \"#0d0887\"], [0.1111111111111111, \"#46039f\"], [0.2222222222222222, \"#7201a8\"], [0.3333333333333333, \"#9c179e\"], [0.4444444444444444, \"#bd3786\"], [0.5555555555555556, \"#d8576b\"], [0.6666666666666666, \"#ed7953\"], [0.7777777777777778, \"#fb9f3a\"], [0.8888888888888888, \"#fdca26\"], [1.0, \"#f0f921\"]], \"type\": \"contour\"}], \"contourcarpet\": [{\"colorbar\": {\"outlinewidth\": 0, \"ticks\": \"\"}, \"type\": \"contourcarpet\"}], \"heatmap\": [{\"colorbar\": {\"outlinewidth\": 0, \"ticks\": \"\"}, \"colorscale\": [[0.0, \"#0d0887\"], [0.1111111111111111, \"#46039f\"], [0.2222222222222222, \"#7201a8\"], [0.3333333333333333, \"#9c179e\"], [0.4444444444444444, \"#bd3786\"], [0.5555555555555556, \"#d8576b\"], [0.6666666666666666, \"#ed7953\"], [0.7777777777777778, \"#fb9f3a\"], [0.8888888888888888, \"#fdca26\"], [1.0, \"#f0f921\"]], \"type\": \"heatmap\"}], \"heatmapgl\": [{\"colorbar\": {\"outlinewidth\": 0, \"ticks\": \"\"}, \"colorscale\": [[0.0, \"#0d0887\"], [0.1111111111111111, \"#46039f\"], [0.2222222222222222, \"#7201a8\"], [0.3333333333333333, \"#9c179e\"], [0.4444444444444444, \"#bd3786\"], [0.5555555555555556, \"#d8576b\"], [0.6666666666666666, \"#ed7953\"], [0.7777777777777778, \"#fb9f3a\"], [0.8888888888888888, \"#fdca26\"], [1.0, \"#f0f921\"]], \"type\": \"heatmapgl\"}], \"histogram\": [{\"marker\": {\"colorbar\": {\"outlinewidth\": 0, \"ticks\": \"\"}}, \"type\": \"histogram\"}], \"histogram2d\": [{\"colorbar\": {\"outlinewidth\": 0, \"ticks\": \"\"}, \"colorscale\": [[0.0, \"#0d0887\"], [0.1111111111111111, \"#46039f\"], [0.2222222222222222, \"#7201a8\"], [0.3333333333333333, \"#9c179e\"], [0.4444444444444444, \"#bd3786\"], [0.5555555555555556, \"#d8576b\"], [0.6666666666666666, \"#ed7953\"], [0.7777777777777778, \"#fb9f3a\"], [0.8888888888888888, \"#fdca26\"], [1.0, \"#f0f921\"]], \"type\": \"histogram2d\"}], \"histogram2dcontour\": [{\"colorbar\": {\"outlinewidth\": 0, \"ticks\": \"\"}, \"colorscale\": [[0.0, \"#0d0887\"], [0.1111111111111111, \"#46039f\"], [0.2222222222222222, \"#7201a8\"], [0.3333333333333333, \"#9c179e\"], [0.4444444444444444, \"#bd3786\"], [0.5555555555555556, \"#d8576b\"], [0.6666666666666666, \"#ed7953\"], [0.7777777777777778, \"#fb9f3a\"], [0.8888888888888888, \"#fdca26\"], [1.0, \"#f0f921\"]], \"type\": \"histogram2dcontour\"}], \"mesh3d\": [{\"colorbar\": {\"outlinewidth\": 0, \"ticks\": \"\"}, \"type\": \"mesh3d\"}], \"parcoords\": [{\"line\": {\"colorbar\": {\"outlinewidth\": 0, \"ticks\": \"\"}}, \"type\": \"parcoords\"}], \"pie\": [{\"automargin\": true, \"type\": \"pie\"}], \"scatter\": [{\"marker\": {\"colorbar\": {\"outlinewidth\": 0, \"ticks\": \"\"}}, \"type\": \"scatter\"}], \"scatter3d\": [{\"line\": {\"colorbar\": {\"outlinewidth\": 0, \"ticks\": \"\"}}, \"marker\": {\"colorbar\": {\"outlinewidth\": 0, \"ticks\": \"\"}}, \"type\": \"scatter3d\"}], \"scattercarpet\": [{\"marker\": {\"colorbar\": {\"outlinewidth\": 0, \"ticks\": \"\"}}, \"type\": \"scattercarpet\"}], \"scattergeo\": [{\"marker\": {\"colorbar\": {\"outlinewidth\": 0, \"ticks\": \"\"}}, \"type\": \"scattergeo\"}], \"scattergl\": [{\"marker\": {\"colorbar\": {\"outlinewidth\": 0, \"ticks\": \"\"}}, \"type\": \"scattergl\"}], \"scattermapbox\": [{\"marker\": {\"colorbar\": {\"outlinewidth\": 0, \"ticks\": \"\"}}, \"type\": \"scattermapbox\"}], \"scatterpolar\": [{\"marker\": {\"colorbar\": {\"outlinewidth\": 0, \"ticks\": \"\"}}, \"type\": \"scatterpolar\"}], \"scatterpolargl\": [{\"marker\": {\"colorbar\": {\"outlinewidth\": 0, \"ticks\": \"\"}}, \"type\": \"scatterpolargl\"}], \"scatterternary\": [{\"marker\": {\"colorbar\": {\"outlinewidth\": 0, \"ticks\": \"\"}}, \"type\": \"scatterternary\"}], \"surface\": [{\"colorbar\": {\"outlinewidth\": 0, \"ticks\": \"\"}, \"colorscale\": [[0.0, \"#0d0887\"], [0.1111111111111111, \"#46039f\"], [0.2222222222222222, \"#7201a8\"], [0.3333333333333333, \"#9c179e\"], [0.4444444444444444, \"#bd3786\"], [0.5555555555555556, \"#d8576b\"], [0.6666666666666666, \"#ed7953\"], [0.7777777777777778, \"#fb9f3a\"], [0.8888888888888888, \"#fdca26\"], [1.0, \"#f0f921\"]], \"type\": \"surface\"}], \"table\": [{\"cells\": {\"fill\": {\"color\": \"#EBF0F8\"}, \"line\": {\"color\": \"white\"}}, \"header\": {\"fill\": {\"color\": \"#C8D4E3\"}, \"line\": {\"color\": \"white\"}}, \"type\": \"table\"}]}, \"layout\": {\"annotationdefaults\": {\"arrowcolor\": \"#2a3f5f\", \"arrowhead\": 0, \"arrowwidth\": 1}, \"coloraxis\": {\"colorbar\": {\"outlinewidth\": 0, \"ticks\": \"\"}}, \"colorscale\": {\"diverging\": [[0, \"#8e0152\"], [0.1, \"#c51b7d\"], [0.2, \"#de77ae\"], [0.3, \"#f1b6da\"], [0.4, \"#fde0ef\"], [0.5, \"#f7f7f7\"], [0.6, \"#e6f5d0\"], [0.7, \"#b8e186\"], [0.8, \"#7fbc41\"], [0.9, \"#4d9221\"], [1, \"#276419\"]], \"sequential\": [[0.0, \"#0d0887\"], [0.1111111111111111, \"#46039f\"], [0.2222222222222222, \"#7201a8\"], [0.3333333333333333, \"#9c179e\"], [0.4444444444444444, \"#bd3786\"], [0.5555555555555556, \"#d8576b\"], [0.6666666666666666, \"#ed7953\"], [0.7777777777777778, \"#fb9f3a\"], [0.8888888888888888, \"#fdca26\"], [1.0, \"#f0f921\"]], \"sequentialminus\": [[0.0, \"#0d0887\"], [0.1111111111111111, \"#46039f\"], [0.2222222222222222, \"#7201a8\"], [0.3333333333333333, \"#9c179e\"], [0.4444444444444444, \"#bd3786\"], [0.5555555555555556, \"#d8576b\"], [0.6666666666666666, \"#ed7953\"], [0.7777777777777778, \"#fb9f3a\"], [0.8888888888888888, \"#fdca26\"], [1.0, \"#f0f921\"]]}, \"colorway\": [\"#636efa\", \"#EF553B\", \"#00cc96\", \"#ab63fa\", \"#FFA15A\", \"#19d3f3\", \"#FF6692\", \"#B6E880\", \"#FF97FF\", \"#FECB52\"], \"font\": {\"color\": \"#2a3f5f\"}, \"geo\": {\"bgcolor\": \"white\", \"lakecolor\": \"white\", \"landcolor\": \"#E5ECF6\", \"showlakes\": true, \"showland\": true, \"subunitcolor\": \"white\"}, \"hoverlabel\": {\"align\": \"left\"}, \"hovermode\": \"closest\", \"mapbox\": {\"style\": \"light\"}, \"paper_bgcolor\": \"white\", \"plot_bgcolor\": \"#E5ECF6\", \"polar\": {\"angularaxis\": {\"gridcolor\": \"white\", \"linecolor\": \"white\", \"ticks\": \"\"}, \"bgcolor\": \"#E5ECF6\", \"radialaxis\": {\"gridcolor\": \"white\", \"linecolor\": \"white\", \"ticks\": \"\"}}, \"scene\": {\"xaxis\": {\"backgroundcolor\": \"#E5ECF6\", \"gridcolor\": \"white\", \"gridwidth\": 2, \"linecolor\": \"white\", \"showbackground\": true, \"ticks\": \"\", \"zerolinecolor\": \"white\"}, \"yaxis\": {\"backgroundcolor\": \"#E5ECF6\", \"gridcolor\": \"white\", \"gridwidth\": 2, \"linecolor\": \"white\", \"showbackground\": true, \"ticks\": \"\", \"zerolinecolor\": \"white\"}, \"zaxis\": {\"backgroundcolor\": \"#E5ECF6\", \"gridcolor\": \"white\", \"gridwidth\": 2, \"linecolor\": \"white\", \"showbackground\": true, \"ticks\": \"\", \"zerolinecolor\": \"white\"}}, \"shapedefaults\": {\"line\": {\"color\": \"#2a3f5f\"}}, \"ternary\": {\"aaxis\": {\"gridcolor\": \"white\", \"linecolor\": \"white\", \"ticks\": \"\"}, \"baxis\": {\"gridcolor\": \"white\", \"linecolor\": \"white\", \"ticks\": \"\"}, \"bgcolor\": \"#E5ECF6\", \"caxis\": {\"gridcolor\": \"white\", \"linecolor\": \"white\", \"ticks\": \"\"}}, \"title\": {\"x\": 0.05}, \"xaxis\": {\"automargin\": true, \"gridcolor\": \"white\", \"linecolor\": \"white\", \"ticks\": \"\", \"title\": {\"standoff\": 15}, \"zerolinecolor\": \"white\", \"zerolinewidth\": 2}, \"yaxis\": {\"automargin\": true, \"gridcolor\": \"white\", \"linecolor\": \"white\", \"ticks\": \"\", \"title\": {\"standoff\": 15}, \"zerolinecolor\": \"white\", \"zerolinewidth\": 2}}}, \"width\": 800},                        {\"responsive\": true}                    ).then(function(){\n",
       "                            \n",
       "var gd = document.getElementById('9384465c-963a-4471-86da-7a5f21274e10');\n",
       "var x = new MutationObserver(function (mutations, observer) {{\n",
       "        var display = window.getComputedStyle(gd).display;\n",
       "        if (!display || display === 'none') {{\n",
       "            console.log([gd, 'removed!']);\n",
       "            Plotly.purge(gd);\n",
       "            observer.disconnect();\n",
       "        }}\n",
       "}});\n",
       "\n",
       "// Listen for the removal of the full notebook cells\n",
       "var notebookContainer = gd.closest('#notebook-container');\n",
       "if (notebookContainer) {{\n",
       "    x.observe(notebookContainer, {childList: true});\n",
       "}}\n",
       "\n",
       "// Listen for the clearing of the current output cell\n",
       "var outputEl = gd.closest('.output');\n",
       "if (outputEl) {{\n",
       "    x.observe(outputEl, {childList: true});\n",
       "}}\n",
       "\n",
       "                        })                };                });            </script>        </div>"
      ]
     },
     "metadata": {},
     "output_type": "display_data"
    }
   ],
   "source": [
    "# Plotting the clusters on 3D plot for K=4\n",
    "import plotly.express as px\n",
    "fig=px.scatter_3d(\n",
    "    four_clusters,\n",
    "    x=\"PC 1\",\n",
    "    y=\"PC 2\",\n",
    "    z=\"PC 3\",\n",
    "    color=\"class\",\n",
    "    symbol=\"class\",\n",
    "    width=800,\n",
    ")\n",
    "\n",
    "fig.update_layout(legend=dict(x=0, y=1))\n",
    "fig.show()"
   ]
  },
  {
   "cell_type": "markdown",
   "metadata": {},
   "source": [
    "#### Testing K=5"
   ]
  },
  {
   "cell_type": "code",
   "execution_count": 271,
   "metadata": {},
   "outputs": [
    {
     "data": {
      "text/html": [
       "<div>\n",
       "<style scoped>\n",
       "    .dataframe tbody tr th:only-of-type {\n",
       "        vertical-align: middle;\n",
       "    }\n",
       "\n",
       "    .dataframe tbody tr th {\n",
       "        vertical-align: top;\n",
       "    }\n",
       "\n",
       "    .dataframe thead th {\n",
       "        text-align: right;\n",
       "    }\n",
       "</style>\n",
       "<table border=\"1\" class=\"dataframe\">\n",
       "  <thead>\n",
       "    <tr style=\"text-align: right;\">\n",
       "      <th></th>\n",
       "      <th>PC 1</th>\n",
       "      <th>PC 2</th>\n",
       "      <th>PC 3</th>\n",
       "      <th>class</th>\n",
       "    </tr>\n",
       "  </thead>\n",
       "  <tbody>\n",
       "    <tr>\n",
       "      <th>42</th>\n",
       "      <td>-0.335767</td>\n",
       "      <td>0.982322</td>\n",
       "      <td>-0.581368</td>\n",
       "      <td>0</td>\n",
       "    </tr>\n",
       "    <tr>\n",
       "      <th>404</th>\n",
       "      <td>-0.319085</td>\n",
       "      <td>0.982300</td>\n",
       "      <td>-0.581721</td>\n",
       "      <td>0</td>\n",
       "    </tr>\n",
       "    <tr>\n",
       "      <th>1337</th>\n",
       "      <td>2.309817</td>\n",
       "      <td>1.626677</td>\n",
       "      <td>-0.713184</td>\n",
       "      <td>4</td>\n",
       "    </tr>\n",
       "    <tr>\n",
       "      <th>BTC</th>\n",
       "      <td>-0.141259</td>\n",
       "      <td>-1.339585</td>\n",
       "      <td>0.116826</td>\n",
       "      <td>2</td>\n",
       "    </tr>\n",
       "    <tr>\n",
       "      <th>ETH</th>\n",
       "      <td>-0.149832</td>\n",
       "      <td>-1.993421</td>\n",
       "      <td>0.423413</td>\n",
       "      <td>2</td>\n",
       "    </tr>\n",
       "  </tbody>\n",
       "</table>\n",
       "</div>"
      ],
      "text/plain": [
       "          PC 1      PC 2      PC 3  class\n",
       "42   -0.335767  0.982322 -0.581368      0\n",
       "404  -0.319085  0.982300 -0.581721      0\n",
       "1337  2.309817  1.626677 -0.713184      4\n",
       "BTC  -0.141259 -1.339585  0.116826      2\n",
       "ETH  -0.149832 -1.993421  0.423413      2"
      ]
     },
     "execution_count": 271,
     "metadata": {},
     "output_type": "execute_result"
    }
   ],
   "source": [
    "five_clusters=test_k_value(5, pcs_df)\n",
    "five_clusters.head()"
   ]
  },
  {
   "cell_type": "code",
   "execution_count": 272,
   "metadata": {},
   "outputs": [
    {
     "data": {
      "application/vnd.plotly.v1+json": {
       "config": {
        "plotlyServerURL": "https://plot.ly"
       },
       "data": [
        {
         "hovertemplate": "class=%{marker.color}<br>PC 1=%{x}<br>PC 2=%{y}<br>PC 3=%{z}<extra></extra>",
         "legendgroup": "0",
         "marker": {
          "color": [
           0,
           0,
           0,
           0,
           0,
           0,
           0,
           0,
           0,
           0,
           0,
           0,
           0,
           0,
           0,
           0,
           0,
           0,
           0,
           0,
           0,
           0,
           0,
           0,
           0,
           0,
           0,
           0,
           0,
           0,
           0,
           0,
           0,
           0,
           0,
           0,
           0,
           0,
           0,
           0,
           0,
           0,
           0,
           0,
           0,
           0,
           0,
           0,
           0,
           0,
           0,
           0,
           0,
           0,
           0,
           0,
           0,
           0,
           0,
           0,
           0,
           0,
           0,
           0,
           0,
           0,
           0,
           0,
           0,
           0,
           0,
           0,
           0,
           0,
           0,
           0,
           0,
           0,
           0,
           0,
           0,
           0,
           0,
           0,
           0,
           0,
           0,
           0,
           0,
           0,
           0,
           0,
           0,
           0,
           0,
           0,
           0,
           0,
           0,
           0,
           0,
           0,
           0,
           0,
           0,
           0,
           0,
           0,
           0,
           0,
           0,
           0,
           0,
           0,
           0,
           0,
           0,
           0,
           0,
           0,
           0,
           0,
           0,
           0,
           0,
           0,
           0,
           0,
           0,
           0,
           0,
           0,
           0,
           0,
           0,
           0,
           0,
           0,
           0,
           0,
           0,
           0,
           0,
           0,
           0,
           0,
           0,
           0,
           0,
           0,
           0,
           0,
           0,
           0,
           0,
           0,
           0,
           0,
           0,
           0,
           0,
           0,
           0,
           0,
           0,
           0,
           0,
           0,
           0,
           0,
           0,
           0,
           0,
           0,
           0,
           0,
           0,
           0,
           0,
           0,
           0,
           0,
           0,
           0,
           0,
           0,
           0,
           0,
           0,
           0,
           0,
           0,
           0,
           0,
           0,
           0,
           0,
           0,
           0,
           0,
           0,
           0,
           0,
           0,
           0,
           0,
           0,
           0,
           0,
           0,
           0,
           0,
           0,
           0,
           0,
           0,
           0,
           0,
           0,
           0,
           0,
           0,
           0,
           0,
           0,
           0,
           0,
           0,
           0,
           0,
           0,
           0,
           0,
           0,
           0,
           0,
           0,
           0,
           0,
           0,
           0,
           0,
           0,
           0,
           0,
           0,
           0,
           0,
           0,
           0,
           0,
           0,
           0,
           0,
           0,
           0,
           0,
           0,
           0,
           0,
           0,
           0,
           0,
           0,
           0,
           0,
           0,
           0,
           0,
           0,
           0,
           0,
           0,
           0,
           0,
           0
          ],
          "coloraxis": "coloraxis",
          "symbol": "circle"
         },
         "mode": "markers",
         "name": "0",
         "scene": "scene",
         "showlegend": true,
         "type": "scatter3d",
         "x": [
          -0.3357667788775343,
          -0.3190853915560137,
          -0.3887450865824849,
          -0.2550030985217202,
          -0.30833260055645917,
          -0.26366347524062667,
          -0.23772583773782416,
          -0.3354259828606137,
          -0.3279943020021651,
          -0.3342614808235963,
          -0.3357627114792302,
          -0.3357469744998666,
          0.6135645230416797,
          -0.3647075722006168,
          -0.34576779849777556,
          -0.2824988343322098,
          -0.3338234992842274,
          -0.3238744920568285,
          -0.38863965176802034,
          -0.4315892046749954,
          -0.03069483936873717,
          -0.27160043515700755,
          -0.2908485090045438,
          -0.27640398396840254,
          -0.2770269664799226,
          -0.34290499741598307,
          -0.3300632025294052,
          -0.3341668266154646,
          0.022819971149395525,
          -0.3437858233481856,
          -0.38901162020034485,
          -0.24482612297137954,
          -0.3055386987100119,
          -0.3889231797584271,
          -0.3109728240031836,
          -0.3344428288160075,
          -0.29272113340474054,
          -0.3888875982497231,
          -0.24529414575804934,
          -0.27680755745427393,
          -0.32686181008012527,
          -0.12815084692705161,
          -0.34135542892515336,
          -0.307543472057252,
          -0.3641284029559801,
          -0.2908286957608967,
          -0.27710248265742327,
          -0.28547757184723777,
          -0.3357488251215741,
          -0.2770546027125307,
          -0.34423128042312817,
          -0.3354829360429517,
          -0.38899312613019904,
          -0.45894574493447304,
          -0.4226295789200501,
          -0.37593668536126745,
          -0.28922854365253864,
          -0.2765757643664102,
          -0.3008829856053869,
          -0.2401693555595093,
          -0.07864778114244268,
          -0.30830347834867533,
          -0.06613929145671119,
          -0.30836721771638487,
          -0.23252522918722615,
          -0.33535872755543306,
          -0.2890977866023498,
          -0.38615995280315973,
          0.8634505283594122,
          -0.30816711991820683,
          -0.11800028499530084,
          -0.34545073807987753,
          -0.3868336645103141,
          -0.30690964666741877,
          -0.30457588298175664,
          -0.35403500455771625,
          -0.3877271605414353,
          -0.34848411556402337,
          -0.3116315505126865,
          -0.33539687955806496,
          -0.33383410806911373,
          -0.23112668239035036,
          -0.33170842473119266,
          -0.3884665270994677,
          -0.3346002528113328,
          -0.30834817735836384,
          -0.38898231323451765,
          -0.33558620719611476,
          -0.33574305105083607,
          -0.289086692330405,
          -0.24898912199541073,
          0.03845247321945524,
          -0.3444066818817441,
          -0.3353567283278162,
          -0.3751319671078966,
          -0.3437343850840336,
          -0.23255847486989234,
          -0.40893011810108765,
          -0.34348379247029576,
          -0.2764271320555866,
          -0.3885744304137321,
          0.8565168107726033,
          -0.3889371695390656,
          -0.3448709365938339,
          -0.3352843084127476,
          -0.33543883666881474,
          -0.34545073807987753,
          -0.3885117144848364,
          -0.308210676627587,
          -0.3352850286062306,
          -0.36188411594639913,
          -0.33543258750839317,
          -0.3310170000250208,
          -0.38896620287458333,
          -0.33464265655326,
          0.35312521156237925,
          -0.33563206643890564,
          -0.33570269637627154,
          -0.3522722214232762,
          -0.3487710521997268,
          -0.33192625658799607,
          -0.3083245617374091,
          -0.3888760554831248,
          -0.3354802816349369,
          -0.3356073983362851,
          -0.29073525421724394,
          -0.29598740581946487,
          -0.23232607637443445,
          -0.3164400634878126,
          -0.2904760015771606,
          -0.38814115957277556,
          -0.41687398130161235,
          -0.38687799203301143,
          -0.34369538242092984,
          -0.3880389178699556,
          -0.338089199407717,
          -0.38397605543843144,
          -0.33555061222543453,
          -0.335549823320497,
          -0.32866590429778164,
          0.269437941038022,
          -0.38851781171297384,
          -0.2733616121752662,
          -0.34548510486958667,
          -0.3347605704725838,
          0.895346284150642,
          -0.26235282037863,
          -0.3472611472562883,
          0.5850228414147286,
          -0.35557232286985846,
          -0.3540730187572213,
          -0.4098082484329738,
          -0.27673936530877624,
          0.12960839541633948,
          -0.2768101923612561,
          -0.34486656850720987,
          -0.4093125185323108,
          -0.38879044321549644,
          -0.29080943601556863,
          -0.3453513076452235,
          -0.33518543596197975,
          -0.3356856074812122,
          -0.3131288642509308,
          0.6545674802171171,
          -0.3887312497999988,
          -0.33789921031620096,
          -0.33564120205664805,
          -0.31149296983223074,
          0.4343563786820108,
          -0.30666901321859463,
          -0.3403237982484762,
          -0.3857791558550758,
          -0.33559149485085904,
          -0.3953182459311068,
          -0.350512503074459,
          -0.3354617144856782,
          -0.08995844046057008,
          -0.3875227527752455,
          0.20452566593460744,
          -0.2734774787350899,
          -0.33291941462175506,
          -0.3107300520817904,
          -0.3521579983842703,
          0.07904845002632657,
          -0.3345995800119216,
          -0.38810433468654765,
          -0.3513219961204617,
          -0.32215213150300825,
          -0.33570776588429135,
          -0.3442031780118484,
          -0.348766356996316,
          -0.2733896015404709,
          -0.2925741323718298,
          -0.33124816613046737,
          -0.2241139800274363,
          -0.36614539283268993,
          -0.3888077559393785,
          -0.3354540360319385,
          -0.28996869380971824,
          -0.32674408315360187,
          -0.3551709042156957,
          -0.335735151605826,
          -0.3357168458416637,
          -0.28434426193985757,
          -0.3423173899850624,
          -0.344945340110492,
          -0.33543307902880676,
          -0.3939846195839928,
          -0.34513421962137397,
          -0.3143663504929544,
          -0.28225217383340107,
          -0.32253154159958,
          -0.29050329150713305,
          -0.13863427443451168,
          -0.290755716028024,
          -0.3418013188377254,
          -0.3349066177090244,
          -0.19490691097887305,
          -0.3478624769020929,
          -0.2624804082624272,
          1.0193661573968318,
          -0.35830775614654325,
          -0.3522716742925239,
          -0.3970039081239129,
          -0.1713889305285608,
          -0.35602681656191904,
          -0.3509898516379992,
          -0.328605921197553,
          -0.343780161694904,
          -0.3882805126381946,
          -0.2879984148495659,
          -0.344233283856504,
          -0.34402336152455254,
          -0.3436415007846391,
          -0.19509579774424987,
          -0.2762713324796249,
          -0.2908415245209565,
          0.4559339808285665,
          -0.13389503389962457,
          -0.3962978060342763,
          -0.3354370313959574,
          -0.3967543875112782,
          -0.3523887736354847,
          0.571979977100294,
          -0.3442575565997306,
          -0.33491949565339285,
          -0.3299040676631025,
          -0.29647931466689653,
          -0.3858432230960761,
          -0.3885079723904797,
          0.09992976458941703,
          -0.38604448571904354,
          -0.334304561540688,
          -0.3351301543279874,
          -0.26369617029051323,
          -0.3356489712671226,
          -0.380126803306365,
          -0.24927552793646937,
          -0.08771850472970871,
          -0.37587135180912157,
          -0.33492644089076035,
          -0.3279832942663299,
          -0.3850728519823853,
          -0.3333641198715605,
          -0.3457266782564009,
          -0.36371009139721555,
          -0.30684606642988405,
          -0.097828373666583,
          -0.33055583069370287,
          -0.3425305560840557,
          -0.2772097851149582,
          -0.2445721699498165,
          -0.3456624643204235,
          -0.32969173675233393,
          -0.33381045392461883,
          -0.2911525508229962
         ],
         "y": [
          0.9823215849155886,
          0.9823001446175911,
          1.2576597533313538,
          1.704909974880763,
          0.7904607083811569,
          0.5459944968763013,
          1.8207095145146983,
          0.9823170321006696,
          0.9824844732328452,
          0.9823531315711111,
          0.9823213214701756,
          0.9823213025556186,
          0.3894347310878186,
          0.9169212422335181,
          1.45137646372917,
          0.20007822809430117,
          0.9822786186756182,
          1.0136256231761784,
          1.2576619629354167,
          2.555252868894055,
          0.7433060260435385,
          0.7895586254493385,
          0.7378426847539397,
          1.7915815734319098,
          1.7915685175481346,
          0.5445011226291782,
          0.9821481941962361,
          0.9822867670218307,
          0.9898365100756974,
          1.013208340150807,
          1.2576695103508369,
          0.09583193341244796,
          1.4435731928765632,
          1.2576643901916666,
          0.9817253040574786,
          0.982279587964607,
          0.23511840342233864,
          1.2576682743144219,
          0.09589186811458913,
          1.7915731157169197,
          0.9818107760855441,
          0.8261178740466819,
          1.4215878062342888,
          0.7904451643776845,
          0.9169364346670288,
          0.7378543844125204,
          1.791558565780618,
          0.7376178128278315,
          0.9823219612028742,
          1.7915609640653458,
          1.0131850560617608,
          0.9823135848400225,
          1.2576698986296624,
          3.545406141326197,
          1.9004612856192733,
          1.2647181573258819,
          0.7378181758159597,
          1.7915431018766816,
          0.7899347430582401,
          1.8208840653192622,
          0.9848600107064015,
          0.7904613186971017,
          1.2459191776818226,
          0.7904680033619504,
          1.5005533124657935,
          0.9823008444063849,
          0.7377364902594427,
          1.2574614601745842,
          0.6929990325548173,
          0.7904516226139924,
          0.4005027940047302,
          1.451369159767302,
          1.2576628472891003,
          0.7903505375077816,
          0.7901886304297321,
          1.4979440556649448,
          1.257599486661914,
          1.4392360273013918,
          0.9814325267437156,
          0.9822984175140383,
          0.9822923449636822,
          1.5469819957518538,
          1.0130032348854459,
          1.2576460630561581,
          0.9822832631285298,
          0.790461079367989,
          1.2576680329436432,
          0.9823107231491016,
          0.9823220822104387,
          0.7378908916882546,
          0.2430713399634198,
          1.9113849832779208,
          1.451353378852874,
          0.982330178400105,
          1.2569142415354213,
          1.45139118093936,
          1.5470897320933517,
          1.8906661991095703,
          1.4512144031010774,
          1.913499732599487,
          1.2576577503366353,
          1.8147314497389075,
          1.257668383886494,
          1.4513603877780472,
          0.9823048171237985,
          0.9822991655546447,
          1.451369159767302,
          1.2576381417527545,
          0.7904646584103256,
          0.9823086657975778,
          0.9131533986056138,
          0.9823090605506203,
          0.9819673361181465,
          1.2576669757077683,
          0.9822447132046328,
          0.7286728608601993,
          0.9823153415208743,
          0.9823206153923517,
          1.3829199934636878,
          0.6393257042557943,
          0.9820533555867027,
          0.7904615742820464,
          1.2576658283184055,
          0.9823136404686186,
          0.9823096281098119,
          0.7378179839759869,
          0.22082518077246743,
          1.547086216067342,
          0.9820291852860172,
          0.7378377657972466,
          1.257618010261335,
          1.913186155982719,
          1.2576375082345947,
          1.4513429758139866,
          1.2576201529471474,
          1.4512584122737036,
          1.2574263262705385,
          0.9823113211754171,
          0.9823061851738029,
          0.9817729675692686,
          0.5048681408633391,
          1.2576519625897982,
          0.736825581480762,
          1.4513614652318034,
          0.9822694418784155,
          1.781930702543771,
          0.5458911373444736,
          1.4392152779736782,
          1.9446797720471487,
          1.4979676324562958,
          1.497922336073411,
          1.936286387290539,
          1.7915536218984554,
          0.9572029392205494,
          1.7915598803179151,
          1.4852946017497337,
          1.9362967763333252,
          1.2576675156041728,
          0.7378426486346917,
          1.451342230438161,
          0.9823001157515495,
          0.9823203568493717,
          1.7061392410254261,
          1.33164979437267,
          1.2576565561554254,
          0.5443296861986096,
          0.9823132437543947,
          0.6663265580004168,
          0.9810253332195765,
          0.7904411726794432,
          1.4974572540344895,
          1.688862804438734,
          0.9823106123353877,
          1.6272978212800076,
          1.4438114580171166,
          0.9823176643986518,
          0.5433666844614384,
          1.2576002832940993,
          1.4887896900752833,
          1.7914964439077117,
          0.982234796858223,
          1.2534860682095648,
          1.3829189000888589,
          0.9561433512569794,
          0.9822414313773143,
          1.2576536535453933,
          1.3828666771558233,
          0.9819792202016435,
          0.9823200319604914,
          1.013184947574914,
          1.439236040512141,
          -0.1078729818497005,
          0.2125209267343877,
          0.9822544778394925,
          1.546710502886303,
          1.030565191879035,
          1.257656347673142,
          1.7554309420780394,
          0.737785926102,
          1.5289981718145085,
          1.4979481477782657,
          0.9823201554670504,
          0.9823191442404005,
          0.7376415636750207,
          1.2982651576905344,
          1.4513323261264839,
          0.9823076553880924,
          1.627325770171455,
          1.4513339472134807,
          0.6641303461347018,
          0.9798708870942675,
          1.7625035934556623,
          0.7378430707278348,
          0.9793391085809966,
          0.7378252268958996,
          1.9172948545342778,
          0.9822810272051631,
          1.576379234710429,
          1.3825695401667037,
          0.5459580824161613,
          1.7552272185633344,
          0.9085922479673809,
          1.3829158203448302,
          1.6273983884552106,
          0.7285848583232983,
          0.9107823533609452,
          1.382887586545723,
          0.9817742246388824,
          1.0131701001055755,
          1.257649961372952,
          0.7377323667665422,
          1.4512621621703632,
          0.7650048542810046,
          1.0131416216426787,
          0.9727158802318661,
          2.28186156688162,
          1.5109638928295326,
          1.9463276659476678,
          1.017607034659837,
          1.6273791174815404,
          0.9823138494357515,
          1.6273939338477412,
          1.3829186876839157,
          0.9491774632237985,
          1.0131847146195263,
          0.982280757321271,
          1.7552403835402512,
          1.9148272594590332,
          1.2574429903883582,
          1.2576591431016193,
          0.967042425061739,
          1.2577316934726839,
          0.9822127425554222,
          0.9822970868344094,
          0.5459878835218371,
          0.9823240538463988,
          1.257506995290183,
          0.9768111635993523,
          0.7949669635149845,
          1.2572474616295763,
          0.9823287344982757,
          0.9822057315818913,
          1.2576069904449698,
          0.9822603486848583,
          1.4513710486109948,
          0.7505415173118022,
          0.7904339750098709,
          0.734918633568542,
          0.9822215618589649,
          0.5444696360134673,
          1.79156460251477,
          0.5457058815988022,
          1.4513726495085515,
          1.571931452759519,
          0.9821882260572918,
          0.7378468999307114
         ],
         "z": [
          -0.5813680889341539,
          -0.5817207363499338,
          -0.5242749067855212,
          -0.11389481118914437,
          -0.48219746737111246,
          -0.17323983296209922,
          -0.6887705518975453,
          -0.5813742023739391,
          -0.5815782394567348,
          -0.5814087888585715,
          -0.5813681064526888,
          -0.5813684394830125,
          -0.11788500066441313,
          -0.4161060212163482,
          -0.10907833178587638,
          -0.3370877365442849,
          -0.5813984398703083,
          -0.2158657868099901,
          -0.5242777575087746,
          -0.7033067135580434,
          -0.2794494115765594,
          -0.4827473206155914,
          -0.27241244196666536,
          -0.7013541826288165,
          -0.701337338565127,
          -0.3782166002219906,
          -0.5814446323530637,
          -0.5813932254183684,
          -0.5910634783694224,
          -0.21532742862783438,
          -0.5242717684801377,
          0.07312455985456634,
          -0.2836865321554235,
          -0.5242723106451772,
          -0.5817425819367047,
          -0.5813853930811602,
          -0.32198605762587046,
          -0.524274104854027,
          0.07311872162100026,
          -0.7013432708979515,
          -0.581423934219388,
          0.29505670400983863,
          -0.11419262724531941,
          -0.48221029708937174,
          -0.4161224906394268,
          -0.2724159697641952,
          -0.7013330776717331,
          -0.2724681896198544,
          -0.5813685743716149,
          -0.7013347420897269,
          -0.21531168595164807,
          -0.5813720649157753,
          -0.5242722687036508,
          -0.5587925994084423,
          -0.5842845782542917,
          -0.09801367030105797,
          -0.2724407417934325,
          -0.7013402918031143,
          -0.48221803146908354,
          -0.6887643452926024,
          -0.5093408030804984,
          -0.482198254770941,
          -0.5280917526272969,
          -0.4821986580409773,
          -0.5852134172623404,
          -0.5813713548807656,
          -0.272421891478925,
          -0.5242778601021885,
          -0.2853175116403095,
          -0.4821986129446245,
          -0.10510500089546741,
          -0.10908320588941703,
          -0.5243167863526546,
          -0.4821988217527423,
          -0.48220602324406187,
          -0.5819114194888134,
          -0.5242807929846491,
          -0.13555388456211845,
          -0.5816508013130605,
          -0.5813698918430221,
          -0.5814018515384045,
          -0.3923742501041908,
          -0.21553247874207832,
          -0.5242772605068506,
          -0.5813829859389494,
          -0.4821972311342838,
          -0.5242720062844264,
          -0.5813690877678179,
          -0.5813687304896655,
          -0.2724630696685874,
          -0.37327791633179164,
          -0.876573103979842,
          -0.109101448884119,
          -0.5813791757982113,
          -0.5243696557068379,
          -0.1091259137757985,
          -0.3923720603396653,
          -0.6023964851362801,
          -0.10908442372037519,
          -0.8703699154373656,
          -0.5242780415469288,
          -0.7318286585973033,
          -0.5242730690679894,
          -0.10909333467494553,
          -0.5813740068506772,
          -0.5813691889082335,
          -0.10908320588941703,
          -0.5242741894872545,
          -0.4822011337740078,
          -0.5813750118644297,
          -0.25589300121519476,
          -0.5813719468259111,
          -0.5813761889470744,
          -0.5242720720221755,
          -0.5813718534695121,
          -0.28381422253255206,
          -0.5813693272381626,
          -0.5813692084171639,
          -0.2985853177161537,
          -0.42888497648267515,
          -0.581379465484173,
          -0.48219786964823236,
          -0.5242737042426814,
          -0.5813721366850736,
          -0.581368342209557,
          -0.2724083253243119,
          -0.18179009079657654,
          -0.39237612020252205,
          -0.5817057151042632,
          -0.2724191395149746,
          -0.5242768114570444,
          -0.7404762359601841,
          -0.5243091154492341,
          -0.10911396989716482,
          -0.5242795758456457,
          -0.10921197393221915,
          -0.5243154565020031,
          -0.581370010950241,
          -0.5813686660747083,
          -0.5813751555179926,
          -0.17378662519215463,
          -0.5242777231378268,
          -0.27251839030807307,
          -0.10908042743469933,
          -0.5813758774258365,
          -0.7028277524156646,
          -0.17324058109384924,
          -0.13557465337666344,
          -0.7752305171318425,
          -0.5818846478398134,
          -0.5819048439101532,
          -0.773440544461052,
          -0.7013395669030132,
          -0.5847045350196893,
          -0.7013397049028255,
          -0.23952955724669198,
          -0.7734539478967264,
          -0.5242759906645976,
          -0.27241327171521773,
          -0.10907820138139401,
          -0.581374884147633,
          -0.5813695069499494,
          -0.11297215602665277,
          -0.22769591051613017,
          -0.5242743562748761,
          -0.37827867263587456,
          -0.5813685747689095,
          -0.15257891038888802,
          -0.5975673763521174,
          -0.4822280229047779,
          -0.5820768729722137,
          -0.5920983862144901,
          -0.5813689448013755,
          -0.607554382775825,
          -0.14141734643897255,
          -0.5813736024792054,
          -0.17627441519542214,
          -0.52428539509021,
          -0.591482543810582,
          -0.7013944745177497,
          -0.5814062410345667,
          -0.2729266619504234,
          -0.2985874814269595,
          -0.5833375063719424,
          -0.581371908611708,
          -0.5242870533853959,
          -0.2985915925413043,
          -0.5815697660000033,
          -0.5813689448209971,
          -0.2153122608531395,
          -0.1355478252456317,
          0.13338035538921683,
          -0.23778889636255032,
          -0.5814473595258355,
          -0.3924529028209391,
          -0.3879846493423309,
          -0.5242726575693683,
          -0.4840350701866854,
          -0.2724162915694943,
          -0.11102391212720533,
          -0.581888104296652,
          -0.5813683892972047,
          -0.5813685143938091,
          -0.2724988318030728,
          -0.12945708565066263,
          -0.10908429580752521,
          -0.5813715636856824,
          -0.6075904410707427,
          -0.10908066832741717,
          -0.08593414606798785,
          -0.5818678266387411,
          -0.0577800622594568,
          -0.2724199599147044,
          -0.5848118759997102,
          -0.2724098062607314,
          -0.8699718994013775,
          -0.5813758120642674,
          -0.37980921601685136,
          -0.2985871198474603,
          -0.17325559101357574,
          -0.08576839343369716,
          -0.39490626988128685,
          -0.2985842229575295,
          -0.6075448387239563,
          -0.2725238166504682,
          -0.461536688849688,
          -0.29860427149661656,
          -0.5813767773278212,
          -0.21531741081464334,
          -0.5242822899248115,
          -0.2724444136959382,
          -0.10908098734031477,
          -0.5771537487839246,
          -0.2153128382590578,
          -0.5818428644186568,
          0.009115780200557493,
          -0.17507599752876032,
          -0.1451107685266628,
          -0.2210024094819687,
          -0.6075548967402815,
          -0.581373121150188,
          -0.6075490175195638,
          -0.2985824678314019,
          -0.5920791326983283,
          -0.21531103097977394,
          -0.5813754638732492,
          -0.484103761873093,
          -0.8702911717602696,
          -0.5242797664591786,
          -0.5242798384242979,
          -0.5866759703086561,
          -0.5243519933924903,
          -0.5813706389908365,
          -0.5813752685267237,
          -0.17323737709546982,
          -0.5813712741980999,
          -0.5244195317318388,
          -0.5817649046085471,
          -0.4881313151659941,
          -0.5244421270384555,
          -0.5813880359354334,
          -0.5815045669598442,
          -0.5243397997478334,
          -0.581403463457347,
          -0.10907777925815317,
          -0.08178478922519618,
          -0.4822223111525964,
          -0.27578338291569854,
          -0.5814535038179396,
          -0.37821629483999286,
          -0.701332373364174,
          -0.17357340572442773,
          -0.10907958311715758,
          0.1425896583433107,
          -0.5813747522983354,
          -0.27240702851717846
         ]
        },
        {
         "hovertemplate": "class=%{marker.color}<br>PC 1=%{x}<br>PC 2=%{y}<br>PC 3=%{z}<extra></extra>",
         "legendgroup": "4",
         "marker": {
          "color": [
           4,
           4,
           4,
           4,
           4,
           4,
           4,
           4,
           4,
           4,
           4,
           4,
           4,
           4,
           4,
           4
          ],
          "coloraxis": "coloraxis",
          "symbol": "diamond"
         },
         "mode": "markers",
         "name": "4",
         "scene": "scene",
         "showlegend": true,
         "type": "scatter3d",
         "x": [
          2.3098167034099713,
          2.5554982927289123,
          3.864799952828006,
          3.7236659229017484,
          3.244545466387664,
          4.405296886623415,
          3.728526845838476,
          8.049313926200343,
          3.917957461240905,
          2.2309396267751365,
          3.1075648372667337,
          3.7407822709606586,
          3.7240581206434986,
          3.7339388112660328,
          3.7351844863494215,
          2.4771947892908335
         ],
         "y": [
          1.6266767993722404,
          -1.3584469778069224,
          -2.3529025028038943,
          2.094794119036662,
          -1.2156792959877598,
          2.9638624521600136,
          2.0946344531356815,
          -2.8339849471882186,
          2.197872983245262,
          0.15078407601008412,
          -2.268617081991741,
          2.094542575426766,
          2.0947779851800066,
          2.0950965874623555,
          2.095122693153624,
          0.8850159803478462
         ],
         "z": [
          -0.713183849272852,
          0.015010370839742895,
          0.4360692544552466,
          -0.028881845891918678,
          -0.03764619055482413,
          4.204735652426439,
          -0.028943927464730686,
          0.4737418954194168,
          -0.04668267542867187,
          -0.21329142429346518,
          0.30277632196694626,
          -0.029182824293079546,
          -0.028885992752187267,
          -0.029182717643877438,
          -0.02921639793193227,
          -0.11699397888833483
         ]
        },
        {
         "hovertemplate": "class=%{marker.color}<br>PC 1=%{x}<br>PC 2=%{y}<br>PC 3=%{z}<extra></extra>",
         "legendgroup": "2",
         "marker": {
          "color": [
           2,
           2,
           2,
           2,
           2,
           2,
           2,
           2,
           2,
           2,
           2,
           2,
           2,
           2,
           2,
           2,
           2,
           2,
           2,
           2,
           2,
           2,
           2,
           2,
           2,
           2,
           2,
           2,
           2,
           2,
           2,
           2,
           2,
           2,
           2,
           2,
           2,
           2,
           2,
           2,
           2,
           2,
           2,
           2,
           2,
           2,
           2,
           2,
           2,
           2,
           2,
           2,
           2,
           2,
           2,
           2,
           2,
           2,
           2,
           2,
           2,
           2,
           2,
           2,
           2,
           2,
           2,
           2,
           2,
           2,
           2,
           2,
           2,
           2,
           2,
           2,
           2,
           2,
           2,
           2,
           2,
           2,
           2,
           2,
           2,
           2,
           2,
           2,
           2,
           2,
           2,
           2,
           2,
           2,
           2,
           2,
           2,
           2,
           2,
           2,
           2,
           2,
           2,
           2,
           2,
           2,
           2,
           2,
           2,
           2,
           2,
           2,
           2,
           2,
           2,
           2,
           2,
           2,
           2,
           2,
           2,
           2,
           2,
           2,
           2,
           2,
           2,
           2,
           2,
           2,
           2,
           2,
           2,
           2,
           2,
           2,
           2,
           2,
           2,
           2,
           2,
           2,
           2,
           2,
           2,
           2,
           2,
           2,
           2,
           2,
           2,
           2,
           2,
           2,
           2,
           2,
           2,
           2,
           2,
           2,
           2,
           2,
           2,
           2,
           2,
           2,
           2,
           2,
           2,
           2,
           2,
           2,
           2,
           2,
           2,
           2,
           2,
           2,
           2,
           2,
           2,
           2,
           2,
           2,
           2,
           2,
           2,
           2,
           2,
           2,
           2,
           2,
           2,
           2,
           2,
           2,
           2,
           2,
           2,
           2,
           2,
           2,
           2,
           2,
           2,
           2,
           2,
           2,
           2,
           2,
           2,
           2,
           2,
           2,
           2,
           2,
           2,
           2,
           2,
           2,
           2,
           2,
           2,
           2,
           2,
           2,
           2,
           2,
           2,
           2,
           2,
           2,
           2,
           2
          ],
          "coloraxis": "coloraxis",
          "symbol": "square"
         },
         "mode": "markers",
         "name": "2",
         "scene": "scene",
         "showlegend": true,
         "type": "scatter3d",
         "x": [
          -0.14125871947216712,
          -0.14983179174489358,
          -0.1675222698804856,
          -0.15233892840352006,
          -0.1482724700381986,
          -0.15011741450371238,
          0.1642648781906438,
          -0.16866977530486404,
          -0.22185590672133745,
          -0.16828595760631312,
          -0.08940527727546749,
          -0.13834040226284572,
          -0.16553843297480855,
          -0.16808984680193287,
          -0.22530810585426594,
          -0.19669957493705,
          -0.16813852360101203,
          -0.16865201882581493,
          -0.16873856018150787,
          -0.2219453563852833,
          0.18805762375176852,
          0.23700396751584266,
          0.08026662103925054,
          -0.1684845569503438,
          -0.16408513602765898,
          -0.16842380682232302,
          -0.1687956297308864,
          -0.1711574118885389,
          -0.14799585093441772,
          -0.16758938393331094,
          -0.16786719032887362,
          1.5820592159872053,
          -0.14122003989645437,
          -0.16515372514392002,
          -0.16851102908229448,
          -0.16886623675509974,
          -0.16812466946054597,
          -0.14598150805420207,
          -0.16874737859368955,
          -0.03352631096444509,
          -0.14129774889408883,
          -0.16240424029067949,
          -0.16872682701765618,
          -0.16681943406144745,
          -0.1682130098025566,
          -0.12843613926047517,
          -0.14076091499098048,
          -0.14104846918163416,
          -0.14103154686437563,
          -0.14162276261557424,
          -0.2221194172103095,
          -0.1684429627920891,
          -0.188463004150459,
          -0.16554319931807235,
          -0.14082828908602585,
          0.4599790203782894,
          -0.16730936754547668,
          -0.15189346853001218,
          -0.16602674432506678,
          -0.16886845271513642,
          -0.16589159327239664,
          -0.15210028216294993,
          -0.12782388004303802,
          -0.12344898603899124,
          -0.182744796899695,
          -0.16874137156082594,
          -0.041548241341374026,
          -0.11935063196461651,
          -0.1688773504957016,
          -0.14132556167279503,
          0.4838296220499973,
          -0.22150592500256455,
          -0.1512340378276881,
          -0.14106519247058047,
          -0.2217911492515873,
          -0.16699938340979403,
          -0.1661907198213563,
          -0.1509006558973488,
          0.3762649340569876,
          -0.2218265758638795,
          -0.1412211636724273,
          -0.16483071256889698,
          -0.1444625039507597,
          -0.16743913102303393,
          0.27772865696593646,
          -0.2209864376494836,
          -0.15176127963098604,
          -0.16768712581829176,
          -0.14996106417421337,
          -0.16866705394761664,
          -0.22178979984162253,
          -0.16887740905565174,
          -0.2219399613675306,
          -0.26346123330160875,
          0.3047169762954113,
          -0.14148154489106035,
          -0.10349978105134071,
          -0.1660411253087616,
          -0.14144012475277293,
          -0.16854047061488697,
          -0.1524255985541629,
          -0.15064251348842475,
          -0.15013905902769903,
          -0.09554062054145997,
          -0.2085076728739071,
          -0.21976596808693483,
          0.30471129961726323,
          -0.16885913007765266,
          0.30484216952362353,
          -0.15177499971229838,
          0.493910097859488,
          -0.15110262532158805,
          -0.16882737887833207,
          -0.21466775094870608,
          -0.15015143739497427,
          -0.16695856677377002,
          -0.15149305538953897,
          -0.1461827448442898,
          -0.13972626518050188,
          -0.18835067503414324,
          -0.16838929791034735,
          -0.10777146483909975,
          -0.1682112477768263,
          -0.1509599367300508,
          -0.14797005479037692,
          -0.02454788992899842,
          -0.15223540354941878,
          0.3408731877715193,
          -0.22099489060896407,
          -0.1685307542552715,
          -0.16829400401472744,
          -0.22138995033359055,
          -0.22196801099293967,
          0.3051066886128635,
          -0.15512366805862565,
          -0.1169140165980899,
          -0.21283183290325833,
          -0.1412578826271628,
          -0.09438841401715292,
          1.5803620817568456,
          -0.1686287283605225,
          -0.16807986967199387,
          -0.16778051362624796,
          -0.1677674279408067,
          0.3052904253899686,
          0.0623807282506248,
          -0.17630240428392022,
          -0.17585116594055977,
          -0.14999730519123003,
          -0.15051918368417033,
          -0.1669567736523559,
          -0.21750778636355686,
          -0.1756964363133915,
          -0.149006412538,
          -0.17579672850506467,
          -0.1136704004488973,
          1.1434593014850074,
          0.3046940733404268,
          -0.07382986062838472,
          -0.21724964292343502,
          -0.14006089736181315,
          -0.08492558753631424,
          1.0945378099366327,
          -0.22194197929698029,
          -0.17584870316267304,
          -0.16887918706719504,
          -0.1678789116746357,
          -0.2218673017016284,
          -0.14123725129086123,
          -0.19923383625028154,
          -0.14915868724522838,
          0.30857244036338305,
          0.024377839043256896,
          -0.15002159566046003,
          -0.17400579959470844,
          -0.16845329243725968,
          0.13895723273228053,
          -0.21600222168389743,
          -0.10200425949319047,
          0.31262426137834914,
          -0.1686905463643962,
          -0.16051364268464738,
          -0.14898726340621035,
          -0.15020714563611193,
          -0.22103571493370788,
          0.3048768062037494,
          -0.1884101286297118,
          -0.15162009124392273,
          -0.1493826958844127,
          -0.15251004898168302,
          0.3088082355191078,
          0.5823637225108627,
          2.1150988614935486,
          -0.14548285852655607,
          0.318496051622881,
          -0.1922115724461848,
          -0.15901045478424683,
          -0.22192412049065185,
          -0.1687151628870458,
          -0.13994292674558567,
          -0.14710917615771602,
          -0.16733711965278056,
          -0.10104088982674365,
          -0.22189546194452067,
          -0.19163880602231168,
          -0.044632841226148114,
          -0.15190726060809495,
          -0.1412579202404297,
          0.3847137356314348,
          -0.14555575905301377,
          -0.1459480369657321,
          -0.27171881936838893,
          -0.15423474553195202,
          -0.1676063507058694,
          -0.14805568270012115,
          -0.14982994159127733,
          -0.1819550731395465,
          -0.1405332732974134,
          -0.11030568779336887,
          -0.13940009048545235,
          0.5277862450654969,
          -0.10093126293185753,
          -0.0963718505021588,
          -0.15225105998989952,
          -0.1410478388311601,
          0.5477187267082986,
          -0.19626008067913311,
          -0.1687920465284532,
          -0.16674569951027282,
          -0.12418481564504738,
          -0.12966348008808345,
          -0.1506757089583667,
          0.3264746280099413,
          -0.15011847279732377
         ],
         "y": [
          -1.339584756354776,
          -1.9934210138264439,
          -1.147758628490489,
          -2.167252072049355,
          -1.9935347955020197,
          -2.016245664907861,
          -1.7983095947399446,
          -1.1477387386903453,
          -0.8723888847688953,
          -1.147760684525268,
          -1.7903745899966101,
          -1.3396273716307041,
          -1.147832826616779,
          -1.1477816821294444,
          -0.5027195847719615,
          -1.2131608730460233,
          -1.1477465516214131,
          -1.1477383665666947,
          -1.1477346984128465,
          -0.8723893645094387,
          -1.7947108885341962,
          -1.3462888832148336,
          -1.1519224333886344,
          -1.147734857057611,
          -1.1478370965774227,
          -1.1477412556527187,
          -1.1477345663842298,
          -1.5856787998708233,
          -1.1482816048791775,
          -1.147750270971992,
          -1.1477576591986052,
          -1.1742211899645765,
          -1.339583945744465,
          -1.1478355192121905,
          -1.1477347144048973,
          -1.1477291514291053,
          -1.1477419609206851,
          -2.2336216950681567,
          -1.1477326932879914,
          -1.1553533453176705,
          -1.3395855742968283,
          -1.14782781962719,
          -1.1477399343266876,
          -1.1478596726373245,
          -1.1477502286386407,
          -1.339920705281369,
          -1.339592465383873,
          -1.3395949961740665,
          -1.3396211439043693,
          -1.339577913939705,
          -0.8723804585577897,
          -1.147735380227917,
          -1.2192755103559556,
          -1.1478436814470165,
          -1.339592474138475,
          -2.302578573950377,
          -1.1477688964224155,
          -1.148544194354779,
          -1.1477847452052843,
          -1.1477300891857483,
          -1.1477774590427312,
          -1.1480742755818192,
          -2.0638267531719654,
          -1.789693184443936,
          -1.490687430969908,
          -1.1477279443641422,
          -1.152034307158799,
          -2.1677197082259796,
          -1.147728874851888,
          -1.3395861571709848,
          -1.1982132600057127,
          -0.8723906167810218,
          -2.1301920169457853,
          -1.339603548431906,
          -0.8723882250733699,
          -1.1478357139964923,
          -1.147846496633352,
          -1.9934552051227497,
          -2.1825921808176156,
          -0.8723854803568581,
          -1.3395839692955083,
          -1.1477900976415312,
          -2.3154008269617483,
          -1.1477568861442045,
          -1.345872200324094,
          -0.872415298825255,
          -2.220226272613635,
          -1.1478209125857852,
          -2.0452643409676177,
          -1.1477379842278381,
          -0.8723909865171079,
          -1.1477288739659164,
          -0.8723941334616749,
          -1.4135286891548167,
          -2.29886507618751,
          -1.33958157026001,
          -1.7901120247194267,
          -1.147808490029123,
          -1.3395813315060228,
          -1.1477423057214715,
          -2.1797945559267053,
          -1.9934562807245366,
          -2.016246118513516,
          -1.1531658288541566,
          -0.8724439117994102,
          -0.872490151410353,
          -2.2988728668933827,
          -1.1477299539891657,
          -2.298872913967909,
          -2.1301644448778716,
          -0.9271176680535955,
          -2.1673551874753167,
          -1.1477297389181442,
          -0.8729217243700039,
          -2.016243588204332,
          -1.1477579738225616,
          -2.1301662078929904,
          -2.000507822601104,
          -1.1499072450834404,
          -0.6321021110783056,
          -1.147742987682845,
          -1.3406118929298145,
          -1.147764698273476,
          -2.1672964026733528,
          -2.1536160254503556,
          -2.1912293638640477,
          -2.3842087507002954,
          -2.299495235579113,
          -0.8724266348680905,
          -1.1477346234045993,
          -1.1477685248937277,
          -0.8724070169255729,
          -0.8723904669712466,
          -2.2988875959193837,
          -2.079749833837049,
          -1.3670150354523276,
          -0.8729529920049552,
          -1.3395847388169588,
          -1.1534903974153352,
          -1.1110695217297026,
          -1.147737181036093,
          -1.1477703141444717,
          -1.1477751994145766,
          -1.1477749251770417,
          -2.2989080779230413,
          -2.0264237297736267,
          -0.8726756440623789,
          -1.5855616610372103,
          -2.016243147769427,
          -2.2202883321427542,
          -1.1477579362440034,
          -0.8725279131175219,
          -1.585570972113992,
          -1.9935989969409023,
          -1.5855638678565314,
          -1.7899485583714074,
          -2.3405621484967227,
          -2.298867299743311,
          -1.9988025450829756,
          -0.8726619893595545,
          -2.16769182982381,
          -1.1494562146778449,
          -1.186855135539068,
          -0.8723905491111195,
          -1.5855574248395072,
          -1.5857454336293053,
          -1.1477521540380116,
          -0.8723912158667713,
          -1.3395837247874116,
          -1.0994869243152114,
          -2.1168992443062056,
          -2.2990116394416584,
          -1.150652690135243,
          -2.220238634106603,
          -1.2196811195540396,
          -1.1477474530314253,
          -1.1541147296688423,
          -0.8726009755313856,
          -1.9969519897547876,
          -2.299389819258837,
          -1.1477391739907499,
          -2.0962532543062906,
          -2.0162561543717943,
          -2.179942367904365,
          -0.8724274904260383,
          -2.2988675850411986,
          -0.63208435066548,
          -2.1301725526263002,
          -2.154907554808622,
          -2.179788723763354,
          -2.2991908199738886,
          -2.192987426353054,
          -2.389245091311466,
          -2.290581195853467,
          -2.2992667637804396,
          -1.2214322296189275,
          -2.1799936509922926,
          -0.8723910117600113,
          -1.1477404607252828,
          -2.168212792251845,
          -2.114134699128869,
          -0.374697975760086,
          -1.34019186750412,
          -0.8723932008844608,
          -1.2214745729278014,
          -2.019320846481109,
          -2.1798273522570173,
          -1.3395847396052218,
          -2.302816846032944,
          -2.151687944843054,
          -2.151640447247326,
          -0.1307140881550453,
          -2.1275540394226216,
          -1.1477854980883107,
          -2.016371095844447,
          -2.0162465351213115,
          -1.4907406237644627,
          -1.3395995426601774,
          -0.33848649873411774,
          -1.3396483272851352,
          -1.2015463864822262,
          -1.5867624526804989,
          -2.15546589660157,
          -1.1480774354422456,
          -1.3395949829637717,
          -1.1675822362302541,
          -1.2131663085850382,
          -1.1477301422424577,
          -1.1478107020797557,
          -1.7897105580777726,
          -2.2256203248099853,
          -1.9934557785003488,
          -2.299378683847861,
          -2.016245687086588
         ],
         "z": [
          0.11682557106188221,
          0.42341271231248995,
          0.017639016962688697,
          0.5284327073663967,
          0.4234093860300916,
          0.3802685732676729,
          0.3593019714206965,
          0.017658392667014095,
          0.07475294063307622,
          0.017655966876842018,
          0.36264706833648375,
          0.11677418231442845,
          0.017616076018632815,
          0.01765732178712986,
          -0.008601857851018689,
          0.1829066694675029,
          0.01764905248147272,
          0.017657912571251502,
          0.017658798944442135,
          0.07475498930274556,
          0.35783667543938275,
          0.11047773594602452,
          0.0134203134821893,
          0.017653384774011873,
          0.017585989981871265,
          0.01765377640379918,
          0.01765998984596624,
          0.22074169428055432,
          0.017358238894878964,
          0.017638242623389925,
          0.017646169178172313,
          -0.012927082396780214,
          0.1168245252520401,
          0.01760852606931321,
          0.017653915596370577,
          0.017660070766132862,
          0.01764753764685465,
          0.23554209706897444,
          0.01765845670927018,
          0.016774409626156124,
          0.11682662633077213,
          0.017547422909830895,
          0.0176599352186366,
          0.017650711443369247,
          0.01765162748632756,
          0.11663920720594398,
          0.1168169218052401,
          0.11682376979229386,
          0.11683033941196772,
          0.11683157678000236,
          0.07475636686545424,
          0.017652630010946427,
          0.13747911300055637,
          0.017619056586099222,
          0.11681837138736229,
          0.49586460705001095,
          0.017637166178758115,
          0.0175115896654467,
          0.017613816528804976,
          0.01766036701531007,
          0.01760898141147146,
          0.017391432240062094,
          0.4507415270053001,
          0.3631976840144022,
          0.1701519937270887,
          0.017657068484920227,
          0.016066678289410986,
          0.5541255045172458,
          0.01766023616499624,
          0.11682737832654622,
          0.01702550247288224,
          0.07474588193353801,
          0.41075868835035917,
          0.1168263966744663,
          0.07475137466020146,
          0.0176482242440559,
          0.017633712406467324,
          0.4234447384462116,
          0.4760116684446347,
          0.07475140789060773,
          0.11682455563644664,
          0.017589543818289338,
          0.27287099523108255,
          0.017636769072611014,
          0.10949244579772455,
          0.07474126733961385,
          0.48573499150732175,
          0.017659072990966987,
          0.44561940806284106,
          0.01765813416225333,
          0.07475207787636882,
          0.017660237188003445,
          0.07475613791057435,
          0.34862569638617613,
          0.4982151441528659,
          0.11682951276776014,
          0.36288021217647254,
          0.017620421437839814,
          0.11682855971693198,
          0.017656560883073342,
          0.4779966330117342,
          0.42343947849537855,
          0.38026915848753534,
          0.017526512325171387,
          0.0744807981774546,
          0.07473489779665425,
          0.4982173318159816,
          0.01766013090835963,
          0.4982145330855447,
          0.4107629979419699,
          0.07388904922988702,
          0.5284334916577015,
          0.017659391835295874,
          0.07473981566129093,
          0.3802687534698823,
          0.017626734487337523,
          0.41075740897211005,
          0.25318329597678835,
          0.01761164221130898,
          0.01714165399638681,
          0.017653494370491622,
          0.11637857988860097,
          0.017655426291389043,
          0.528414839650722,
          0.21460227296336976,
          0.48691168396312595,
          0.3770491510101539,
          0.4976055618396733,
          0.07474445469373184,
          0.017654315183265448,
          0.017658218612202004,
          0.07474773921923686,
          0.07475576826580234,
          0.4982127439105921,
          0.42341827694720896,
          0.021103192808425555,
          0.0747086690446667,
          0.11682554843544336,
          0.017587821871423038,
          -0.029635428203617243,
          0.017657097923485757,
          0.01765409322282685,
          0.017648958104977918,
          0.017648604297102022,
          0.49821422791437453,
          0.3784026433239922,
          0.07385044212646802,
          0.22081146104801402,
          0.38026532577858163,
          0.48572476530212244,
          0.01762668600531649,
          0.07469640246456503,
          0.2208106061579679,
          0.4234421749767443,
          0.22081087682210385,
          0.36305534347547397,
          0.4912542158191092,
          0.4982162257111691,
          0.42320704190885533,
          0.07472640790000046,
          0.528285566095404,
          0.016314878884435786,
          0.07911878778853806,
          0.07475523085932433,
          0.22081028490814475,
          0.22071042389037537,
          0.017644961258753124,
          0.0747538035039513,
          0.1168248363822207,
          0.2110436396267932,
          0.39649621037143745,
          0.49817118661520077,
          0.014284183474112621,
          0.4857008990872598,
          0.13727610640258525,
          0.01765605303178239,
          0.012740874411838484,
          0.07468343413455775,
          0.42332157652466784,
          0.49818442477449953,
          0.017658954270338867,
          0.3448130269972548,
          0.38024707783155615,
          0.4779881711609334,
          0.07474555849281678,
          0.49821237607962315,
          0.017138221905199567,
          0.4107618201451167,
          0.3721917542932176,
          0.4779969006779458,
          0.4982136316138698,
          0.3369667204952029,
          0.48329084488304863,
          0.4989263083804505,
          0.4980256646054383,
          0.20413220565023643,
          0.5120181035449525,
          0.07475496990722408,
          0.017659824237542966,
          0.5284211662907667,
          0.30803017502841396,
          0.11498769060905008,
          0.11612262996484905,
          0.07475493474499334,
          0.20413112949291587,
          0.37881805352930525,
          0.4779941946287502,
          0.11682554945242248,
          0.49754455662843095,
          0.3677123062494996,
          0.367708138668432,
          0.09019855400984078,
          0.549745175839897,
          0.017647947632445753,
          0.38025754355659436,
          0.38026262881004974,
          0.17014913388071468,
          0.11681390839634008,
          -0.10230419327786702,
          0.11680250188112151,
          0.016965057353275765,
          0.21952050147405638,
          0.3676575203623769,
          0.01739550893767918,
          0.11682375274901677,
          0.007531220187372524,
          0.18289866995011397,
          0.017658739804514344,
          0.017636142904167734,
          0.36321809700378627,
          0.3143632303242705,
          0.423440058400393,
          0.4978839529053491,
          0.3802686018815805
         ]
        },
        {
         "hovertemplate": "class=%{marker.color}<br>PC 1=%{x}<br>PC 2=%{y}<br>PC 3=%{z}<extra></extra>",
         "legendgroup": "3",
         "marker": {
          "color": [
           3,
           3,
           3,
           3,
           3,
           3
          ],
          "coloraxis": "coloraxis",
          "symbol": "x"
         },
         "mode": "markers",
         "name": "3",
         "scene": "scene",
         "showlegend": true,
         "type": "scatter3d",
         "x": [
          -0.14142887529511353,
          -0.33834483011955335,
          -0.40858341994507597,
          -0.3468546175758138,
          -0.5767250750856991,
          -0.4160792973787225
         ],
         "y": [
          1.6863418207544232,
          1.1872657698229652,
          2.3180226931290693,
          3.6570874458325493,
          4.094535615252636,
          4.221992281118503
         ],
         "z": [
          6.657961550432589,
          6.555360934497298,
          16.607474202877295,
          15.116210313534252,
          16.31423830161207,
          10.646512730751084
         ]
        },
        {
         "hovertemplate": "class=%{marker.color}<br>PC 1=%{x}<br>PC 2=%{y}<br>PC 3=%{z}<extra></extra>",
         "legendgroup": "1",
         "marker": {
          "color": [
           1
          ],
          "coloraxis": "coloraxis",
          "symbol": "cross"
         },
         "mode": "markers",
         "name": "1",
         "scene": "scene",
         "showlegend": true,
         "type": "scatter3d",
         "x": [
          34.10077268192604
         ],
         "y": [
          1.505643043013418
         ],
         "z": [
          -0.7448382789737324
         ]
        }
       ],
       "layout": {
        "coloraxis": {
         "colorbar": {
          "title": {
           "text": "class"
          }
         },
         "colorscale": [
          [
           0,
           "#0d0887"
          ],
          [
           0.1111111111111111,
           "#46039f"
          ],
          [
           0.2222222222222222,
           "#7201a8"
          ],
          [
           0.3333333333333333,
           "#9c179e"
          ],
          [
           0.4444444444444444,
           "#bd3786"
          ],
          [
           0.5555555555555556,
           "#d8576b"
          ],
          [
           0.6666666666666666,
           "#ed7953"
          ],
          [
           0.7777777777777778,
           "#fb9f3a"
          ],
          [
           0.8888888888888888,
           "#fdca26"
          ],
          [
           1,
           "#f0f921"
          ]
         ]
        },
        "legend": {
         "title": {
          "text": "class"
         },
         "tracegroupgap": 0,
         "x": 0,
         "y": 1
        },
        "margin": {
         "t": 60
        },
        "scene": {
         "domain": {
          "x": [
           0,
           1
          ],
          "y": [
           0,
           1
          ]
         },
         "xaxis": {
          "title": {
           "text": "PC 1"
          }
         },
         "yaxis": {
          "title": {
           "text": "PC 2"
          }
         },
         "zaxis": {
          "title": {
           "text": "PC 3"
          }
         }
        },
        "template": {
         "data": {
          "bar": [
           {
            "error_x": {
             "color": "#2a3f5f"
            },
            "error_y": {
             "color": "#2a3f5f"
            },
            "marker": {
             "line": {
              "color": "#E5ECF6",
              "width": 0.5
             }
            },
            "type": "bar"
           }
          ],
          "barpolar": [
           {
            "marker": {
             "line": {
              "color": "#E5ECF6",
              "width": 0.5
             }
            },
            "type": "barpolar"
           }
          ],
          "carpet": [
           {
            "aaxis": {
             "endlinecolor": "#2a3f5f",
             "gridcolor": "white",
             "linecolor": "white",
             "minorgridcolor": "white",
             "startlinecolor": "#2a3f5f"
            },
            "baxis": {
             "endlinecolor": "#2a3f5f",
             "gridcolor": "white",
             "linecolor": "white",
             "minorgridcolor": "white",
             "startlinecolor": "#2a3f5f"
            },
            "type": "carpet"
           }
          ],
          "choropleth": [
           {
            "colorbar": {
             "outlinewidth": 0,
             "ticks": ""
            },
            "type": "choropleth"
           }
          ],
          "contour": [
           {
            "colorbar": {
             "outlinewidth": 0,
             "ticks": ""
            },
            "colorscale": [
             [
              0,
              "#0d0887"
             ],
             [
              0.1111111111111111,
              "#46039f"
             ],
             [
              0.2222222222222222,
              "#7201a8"
             ],
             [
              0.3333333333333333,
              "#9c179e"
             ],
             [
              0.4444444444444444,
              "#bd3786"
             ],
             [
              0.5555555555555556,
              "#d8576b"
             ],
             [
              0.6666666666666666,
              "#ed7953"
             ],
             [
              0.7777777777777778,
              "#fb9f3a"
             ],
             [
              0.8888888888888888,
              "#fdca26"
             ],
             [
              1,
              "#f0f921"
             ]
            ],
            "type": "contour"
           }
          ],
          "contourcarpet": [
           {
            "colorbar": {
             "outlinewidth": 0,
             "ticks": ""
            },
            "type": "contourcarpet"
           }
          ],
          "heatmap": [
           {
            "colorbar": {
             "outlinewidth": 0,
             "ticks": ""
            },
            "colorscale": [
             [
              0,
              "#0d0887"
             ],
             [
              0.1111111111111111,
              "#46039f"
             ],
             [
              0.2222222222222222,
              "#7201a8"
             ],
             [
              0.3333333333333333,
              "#9c179e"
             ],
             [
              0.4444444444444444,
              "#bd3786"
             ],
             [
              0.5555555555555556,
              "#d8576b"
             ],
             [
              0.6666666666666666,
              "#ed7953"
             ],
             [
              0.7777777777777778,
              "#fb9f3a"
             ],
             [
              0.8888888888888888,
              "#fdca26"
             ],
             [
              1,
              "#f0f921"
             ]
            ],
            "type": "heatmap"
           }
          ],
          "heatmapgl": [
           {
            "colorbar": {
             "outlinewidth": 0,
             "ticks": ""
            },
            "colorscale": [
             [
              0,
              "#0d0887"
             ],
             [
              0.1111111111111111,
              "#46039f"
             ],
             [
              0.2222222222222222,
              "#7201a8"
             ],
             [
              0.3333333333333333,
              "#9c179e"
             ],
             [
              0.4444444444444444,
              "#bd3786"
             ],
             [
              0.5555555555555556,
              "#d8576b"
             ],
             [
              0.6666666666666666,
              "#ed7953"
             ],
             [
              0.7777777777777778,
              "#fb9f3a"
             ],
             [
              0.8888888888888888,
              "#fdca26"
             ],
             [
              1,
              "#f0f921"
             ]
            ],
            "type": "heatmapgl"
           }
          ],
          "histogram": [
           {
            "marker": {
             "colorbar": {
              "outlinewidth": 0,
              "ticks": ""
             }
            },
            "type": "histogram"
           }
          ],
          "histogram2d": [
           {
            "colorbar": {
             "outlinewidth": 0,
             "ticks": ""
            },
            "colorscale": [
             [
              0,
              "#0d0887"
             ],
             [
              0.1111111111111111,
              "#46039f"
             ],
             [
              0.2222222222222222,
              "#7201a8"
             ],
             [
              0.3333333333333333,
              "#9c179e"
             ],
             [
              0.4444444444444444,
              "#bd3786"
             ],
             [
              0.5555555555555556,
              "#d8576b"
             ],
             [
              0.6666666666666666,
              "#ed7953"
             ],
             [
              0.7777777777777778,
              "#fb9f3a"
             ],
             [
              0.8888888888888888,
              "#fdca26"
             ],
             [
              1,
              "#f0f921"
             ]
            ],
            "type": "histogram2d"
           }
          ],
          "histogram2dcontour": [
           {
            "colorbar": {
             "outlinewidth": 0,
             "ticks": ""
            },
            "colorscale": [
             [
              0,
              "#0d0887"
             ],
             [
              0.1111111111111111,
              "#46039f"
             ],
             [
              0.2222222222222222,
              "#7201a8"
             ],
             [
              0.3333333333333333,
              "#9c179e"
             ],
             [
              0.4444444444444444,
              "#bd3786"
             ],
             [
              0.5555555555555556,
              "#d8576b"
             ],
             [
              0.6666666666666666,
              "#ed7953"
             ],
             [
              0.7777777777777778,
              "#fb9f3a"
             ],
             [
              0.8888888888888888,
              "#fdca26"
             ],
             [
              1,
              "#f0f921"
             ]
            ],
            "type": "histogram2dcontour"
           }
          ],
          "mesh3d": [
           {
            "colorbar": {
             "outlinewidth": 0,
             "ticks": ""
            },
            "type": "mesh3d"
           }
          ],
          "parcoords": [
           {
            "line": {
             "colorbar": {
              "outlinewidth": 0,
              "ticks": ""
             }
            },
            "type": "parcoords"
           }
          ],
          "pie": [
           {
            "automargin": true,
            "type": "pie"
           }
          ],
          "scatter": [
           {
            "marker": {
             "colorbar": {
              "outlinewidth": 0,
              "ticks": ""
             }
            },
            "type": "scatter"
           }
          ],
          "scatter3d": [
           {
            "line": {
             "colorbar": {
              "outlinewidth": 0,
              "ticks": ""
             }
            },
            "marker": {
             "colorbar": {
              "outlinewidth": 0,
              "ticks": ""
             }
            },
            "type": "scatter3d"
           }
          ],
          "scattercarpet": [
           {
            "marker": {
             "colorbar": {
              "outlinewidth": 0,
              "ticks": ""
             }
            },
            "type": "scattercarpet"
           }
          ],
          "scattergeo": [
           {
            "marker": {
             "colorbar": {
              "outlinewidth": 0,
              "ticks": ""
             }
            },
            "type": "scattergeo"
           }
          ],
          "scattergl": [
           {
            "marker": {
             "colorbar": {
              "outlinewidth": 0,
              "ticks": ""
             }
            },
            "type": "scattergl"
           }
          ],
          "scattermapbox": [
           {
            "marker": {
             "colorbar": {
              "outlinewidth": 0,
              "ticks": ""
             }
            },
            "type": "scattermapbox"
           }
          ],
          "scatterpolar": [
           {
            "marker": {
             "colorbar": {
              "outlinewidth": 0,
              "ticks": ""
             }
            },
            "type": "scatterpolar"
           }
          ],
          "scatterpolargl": [
           {
            "marker": {
             "colorbar": {
              "outlinewidth": 0,
              "ticks": ""
             }
            },
            "type": "scatterpolargl"
           }
          ],
          "scatterternary": [
           {
            "marker": {
             "colorbar": {
              "outlinewidth": 0,
              "ticks": ""
             }
            },
            "type": "scatterternary"
           }
          ],
          "surface": [
           {
            "colorbar": {
             "outlinewidth": 0,
             "ticks": ""
            },
            "colorscale": [
             [
              0,
              "#0d0887"
             ],
             [
              0.1111111111111111,
              "#46039f"
             ],
             [
              0.2222222222222222,
              "#7201a8"
             ],
             [
              0.3333333333333333,
              "#9c179e"
             ],
             [
              0.4444444444444444,
              "#bd3786"
             ],
             [
              0.5555555555555556,
              "#d8576b"
             ],
             [
              0.6666666666666666,
              "#ed7953"
             ],
             [
              0.7777777777777778,
              "#fb9f3a"
             ],
             [
              0.8888888888888888,
              "#fdca26"
             ],
             [
              1,
              "#f0f921"
             ]
            ],
            "type": "surface"
           }
          ],
          "table": [
           {
            "cells": {
             "fill": {
              "color": "#EBF0F8"
             },
             "line": {
              "color": "white"
             }
            },
            "header": {
             "fill": {
              "color": "#C8D4E3"
             },
             "line": {
              "color": "white"
             }
            },
            "type": "table"
           }
          ]
         },
         "layout": {
          "annotationdefaults": {
           "arrowcolor": "#2a3f5f",
           "arrowhead": 0,
           "arrowwidth": 1
          },
          "coloraxis": {
           "colorbar": {
            "outlinewidth": 0,
            "ticks": ""
           }
          },
          "colorscale": {
           "diverging": [
            [
             0,
             "#8e0152"
            ],
            [
             0.1,
             "#c51b7d"
            ],
            [
             0.2,
             "#de77ae"
            ],
            [
             0.3,
             "#f1b6da"
            ],
            [
             0.4,
             "#fde0ef"
            ],
            [
             0.5,
             "#f7f7f7"
            ],
            [
             0.6,
             "#e6f5d0"
            ],
            [
             0.7,
             "#b8e186"
            ],
            [
             0.8,
             "#7fbc41"
            ],
            [
             0.9,
             "#4d9221"
            ],
            [
             1,
             "#276419"
            ]
           ],
           "sequential": [
            [
             0,
             "#0d0887"
            ],
            [
             0.1111111111111111,
             "#46039f"
            ],
            [
             0.2222222222222222,
             "#7201a8"
            ],
            [
             0.3333333333333333,
             "#9c179e"
            ],
            [
             0.4444444444444444,
             "#bd3786"
            ],
            [
             0.5555555555555556,
             "#d8576b"
            ],
            [
             0.6666666666666666,
             "#ed7953"
            ],
            [
             0.7777777777777778,
             "#fb9f3a"
            ],
            [
             0.8888888888888888,
             "#fdca26"
            ],
            [
             1,
             "#f0f921"
            ]
           ],
           "sequentialminus": [
            [
             0,
             "#0d0887"
            ],
            [
             0.1111111111111111,
             "#46039f"
            ],
            [
             0.2222222222222222,
             "#7201a8"
            ],
            [
             0.3333333333333333,
             "#9c179e"
            ],
            [
             0.4444444444444444,
             "#bd3786"
            ],
            [
             0.5555555555555556,
             "#d8576b"
            ],
            [
             0.6666666666666666,
             "#ed7953"
            ],
            [
             0.7777777777777778,
             "#fb9f3a"
            ],
            [
             0.8888888888888888,
             "#fdca26"
            ],
            [
             1,
             "#f0f921"
            ]
           ]
          },
          "colorway": [
           "#636efa",
           "#EF553B",
           "#00cc96",
           "#ab63fa",
           "#FFA15A",
           "#19d3f3",
           "#FF6692",
           "#B6E880",
           "#FF97FF",
           "#FECB52"
          ],
          "font": {
           "color": "#2a3f5f"
          },
          "geo": {
           "bgcolor": "white",
           "lakecolor": "white",
           "landcolor": "#E5ECF6",
           "showlakes": true,
           "showland": true,
           "subunitcolor": "white"
          },
          "hoverlabel": {
           "align": "left"
          },
          "hovermode": "closest",
          "mapbox": {
           "style": "light"
          },
          "paper_bgcolor": "white",
          "plot_bgcolor": "#E5ECF6",
          "polar": {
           "angularaxis": {
            "gridcolor": "white",
            "linecolor": "white",
            "ticks": ""
           },
           "bgcolor": "#E5ECF6",
           "radialaxis": {
            "gridcolor": "white",
            "linecolor": "white",
            "ticks": ""
           }
          },
          "scene": {
           "xaxis": {
            "backgroundcolor": "#E5ECF6",
            "gridcolor": "white",
            "gridwidth": 2,
            "linecolor": "white",
            "showbackground": true,
            "ticks": "",
            "zerolinecolor": "white"
           },
           "yaxis": {
            "backgroundcolor": "#E5ECF6",
            "gridcolor": "white",
            "gridwidth": 2,
            "linecolor": "white",
            "showbackground": true,
            "ticks": "",
            "zerolinecolor": "white"
           },
           "zaxis": {
            "backgroundcolor": "#E5ECF6",
            "gridcolor": "white",
            "gridwidth": 2,
            "linecolor": "white",
            "showbackground": true,
            "ticks": "",
            "zerolinecolor": "white"
           }
          },
          "shapedefaults": {
           "line": {
            "color": "#2a3f5f"
           }
          },
          "ternary": {
           "aaxis": {
            "gridcolor": "white",
            "linecolor": "white",
            "ticks": ""
           },
           "baxis": {
            "gridcolor": "white",
            "linecolor": "white",
            "ticks": ""
           },
           "bgcolor": "#E5ECF6",
           "caxis": {
            "gridcolor": "white",
            "linecolor": "white",
            "ticks": ""
           }
          },
          "title": {
           "x": 0.05
          },
          "xaxis": {
           "automargin": true,
           "gridcolor": "white",
           "linecolor": "white",
           "ticks": "",
           "title": {
            "standoff": 15
           },
           "zerolinecolor": "white",
           "zerolinewidth": 2
          },
          "yaxis": {
           "automargin": true,
           "gridcolor": "white",
           "linecolor": "white",
           "ticks": "",
           "title": {
            "standoff": 15
           },
           "zerolinecolor": "white",
           "zerolinewidth": 2
          }
         }
        },
        "width": 800
       }
      },
      "text/html": [
       "<div>                            <div id=\"99d6b2fa-5e50-4423-9b03-e619176f6559\" class=\"plotly-graph-div\" style=\"height:525px; width:800px;\"></div>            <script type=\"text/javascript\">                require([\"plotly\"], function(Plotly) {                    window.PLOTLYENV=window.PLOTLYENV || {};                                    if (document.getElementById(\"99d6b2fa-5e50-4423-9b03-e619176f6559\")) {                    Plotly.newPlot(                        \"99d6b2fa-5e50-4423-9b03-e619176f6559\",                        [{\"hovertemplate\": \"class=%{marker.color}<br>PC 1=%{x}<br>PC 2=%{y}<br>PC 3=%{z}<extra></extra>\", \"legendgroup\": \"0\", \"marker\": {\"color\": [0, 0, 0, 0, 0, 0, 0, 0, 0, 0, 0, 0, 0, 0, 0, 0, 0, 0, 0, 0, 0, 0, 0, 0, 0, 0, 0, 0, 0, 0, 0, 0, 0, 0, 0, 0, 0, 0, 0, 0, 0, 0, 0, 0, 0, 0, 0, 0, 0, 0, 0, 0, 0, 0, 0, 0, 0, 0, 0, 0, 0, 0, 0, 0, 0, 0, 0, 0, 0, 0, 0, 0, 0, 0, 0, 0, 0, 0, 0, 0, 0, 0, 0, 0, 0, 0, 0, 0, 0, 0, 0, 0, 0, 0, 0, 0, 0, 0, 0, 0, 0, 0, 0, 0, 0, 0, 0, 0, 0, 0, 0, 0, 0, 0, 0, 0, 0, 0, 0, 0, 0, 0, 0, 0, 0, 0, 0, 0, 0, 0, 0, 0, 0, 0, 0, 0, 0, 0, 0, 0, 0, 0, 0, 0, 0, 0, 0, 0, 0, 0, 0, 0, 0, 0, 0, 0, 0, 0, 0, 0, 0, 0, 0, 0, 0, 0, 0, 0, 0, 0, 0, 0, 0, 0, 0, 0, 0, 0, 0, 0, 0, 0, 0, 0, 0, 0, 0, 0, 0, 0, 0, 0, 0, 0, 0, 0, 0, 0, 0, 0, 0, 0, 0, 0, 0, 0, 0, 0, 0, 0, 0, 0, 0, 0, 0, 0, 0, 0, 0, 0, 0, 0, 0, 0, 0, 0, 0, 0, 0, 0, 0, 0, 0, 0, 0, 0, 0, 0, 0, 0, 0, 0, 0, 0, 0, 0, 0, 0, 0, 0, 0, 0, 0, 0, 0, 0, 0, 0, 0, 0, 0, 0, 0, 0, 0, 0, 0, 0, 0, 0, 0, 0, 0, 0, 0, 0], \"coloraxis\": \"coloraxis\", \"symbol\": \"circle\"}, \"mode\": \"markers\", \"name\": \"0\", \"scene\": \"scene\", \"showlegend\": true, \"type\": \"scatter3d\", \"x\": [-0.3357667788775343, -0.3190853915560137, -0.3887450865824849, -0.2550030985217202, -0.30833260055645917, -0.26366347524062667, -0.23772583773782416, -0.3354259828606137, -0.3279943020021651, -0.3342614808235963, -0.3357627114792302, -0.3357469744998666, 0.6135645230416797, -0.3647075722006168, -0.34576779849777556, -0.2824988343322098, -0.3338234992842274, -0.3238744920568285, -0.38863965176802034, -0.4315892046749954, -0.03069483936873717, -0.27160043515700755, -0.2908485090045438, -0.27640398396840254, -0.2770269664799226, -0.34290499741598307, -0.3300632025294052, -0.3341668266154646, 0.022819971149395525, -0.3437858233481856, -0.38901162020034485, -0.24482612297137954, -0.3055386987100119, -0.3889231797584271, -0.3109728240031836, -0.3344428288160075, -0.29272113340474054, -0.3888875982497231, -0.24529414575804934, -0.27680755745427393, -0.32686181008012527, -0.12815084692705161, -0.34135542892515336, -0.307543472057252, -0.3641284029559801, -0.2908286957608967, -0.27710248265742327, -0.28547757184723777, -0.3357488251215741, -0.2770546027125307, -0.34423128042312817, -0.3354829360429517, -0.38899312613019904, -0.45894574493447304, -0.4226295789200501, -0.37593668536126745, -0.28922854365253864, -0.2765757643664102, -0.3008829856053869, -0.2401693555595093, -0.07864778114244268, -0.30830347834867533, -0.06613929145671119, -0.30836721771638487, -0.23252522918722615, -0.33535872755543306, -0.2890977866023498, -0.38615995280315973, 0.8634505283594122, -0.30816711991820683, -0.11800028499530084, -0.34545073807987753, -0.3868336645103141, -0.30690964666741877, -0.30457588298175664, -0.35403500455771625, -0.3877271605414353, -0.34848411556402337, -0.3116315505126865, -0.33539687955806496, -0.33383410806911373, -0.23112668239035036, -0.33170842473119266, -0.3884665270994677, -0.3346002528113328, -0.30834817735836384, -0.38898231323451765, -0.33558620719611476, -0.33574305105083607, -0.289086692330405, -0.24898912199541073, 0.03845247321945524, -0.3444066818817441, -0.3353567283278162, -0.3751319671078966, -0.3437343850840336, -0.23255847486989234, -0.40893011810108765, -0.34348379247029576, -0.2764271320555866, -0.3885744304137321, 0.8565168107726033, -0.3889371695390656, -0.3448709365938339, -0.3352843084127476, -0.33543883666881474, -0.34545073807987753, -0.3885117144848364, -0.308210676627587, -0.3352850286062306, -0.36188411594639913, -0.33543258750839317, -0.3310170000250208, -0.38896620287458333, -0.33464265655326, 0.35312521156237925, -0.33563206643890564, -0.33570269637627154, -0.3522722214232762, -0.3487710521997268, -0.33192625658799607, -0.3083245617374091, -0.3888760554831248, -0.3354802816349369, -0.3356073983362851, -0.29073525421724394, -0.29598740581946487, -0.23232607637443445, -0.3164400634878126, -0.2904760015771606, -0.38814115957277556, -0.41687398130161235, -0.38687799203301143, -0.34369538242092984, -0.3880389178699556, -0.338089199407717, -0.38397605543843144, -0.33555061222543453, -0.335549823320497, -0.32866590429778164, 0.269437941038022, -0.38851781171297384, -0.2733616121752662, -0.34548510486958667, -0.3347605704725838, 0.895346284150642, -0.26235282037863, -0.3472611472562883, 0.5850228414147286, -0.35557232286985846, -0.3540730187572213, -0.4098082484329738, -0.27673936530877624, 0.12960839541633948, -0.2768101923612561, -0.34486656850720987, -0.4093125185323108, -0.38879044321549644, -0.29080943601556863, -0.3453513076452235, -0.33518543596197975, -0.3356856074812122, -0.3131288642509308, 0.6545674802171171, -0.3887312497999988, -0.33789921031620096, -0.33564120205664805, -0.31149296983223074, 0.4343563786820108, -0.30666901321859463, -0.3403237982484762, -0.3857791558550758, -0.33559149485085904, -0.3953182459311068, -0.350512503074459, -0.3354617144856782, -0.08995844046057008, -0.3875227527752455, 0.20452566593460744, -0.2734774787350899, -0.33291941462175506, -0.3107300520817904, -0.3521579983842703, 0.07904845002632657, -0.3345995800119216, -0.38810433468654765, -0.3513219961204617, -0.32215213150300825, -0.33570776588429135, -0.3442031780118484, -0.348766356996316, -0.2733896015404709, -0.2925741323718298, -0.33124816613046737, -0.2241139800274363, -0.36614539283268993, -0.3888077559393785, -0.3354540360319385, -0.28996869380971824, -0.32674408315360187, -0.3551709042156957, -0.335735151605826, -0.3357168458416637, -0.28434426193985757, -0.3423173899850624, -0.344945340110492, -0.33543307902880676, -0.3939846195839928, -0.34513421962137397, -0.3143663504929544, -0.28225217383340107, -0.32253154159958, -0.29050329150713305, -0.13863427443451168, -0.290755716028024, -0.3418013188377254, -0.3349066177090244, -0.19490691097887305, -0.3478624769020929, -0.2624804082624272, 1.0193661573968318, -0.35830775614654325, -0.3522716742925239, -0.3970039081239129, -0.1713889305285608, -0.35602681656191904, -0.3509898516379992, -0.328605921197553, -0.343780161694904, -0.3882805126381946, -0.2879984148495659, -0.344233283856504, -0.34402336152455254, -0.3436415007846391, -0.19509579774424987, -0.2762713324796249, -0.2908415245209565, 0.4559339808285665, -0.13389503389962457, -0.3962978060342763, -0.3354370313959574, -0.3967543875112782, -0.3523887736354847, 0.571979977100294, -0.3442575565997306, -0.33491949565339285, -0.3299040676631025, -0.29647931466689653, -0.3858432230960761, -0.3885079723904797, 0.09992976458941703, -0.38604448571904354, -0.334304561540688, -0.3351301543279874, -0.26369617029051323, -0.3356489712671226, -0.380126803306365, -0.24927552793646937, -0.08771850472970871, -0.37587135180912157, -0.33492644089076035, -0.3279832942663299, -0.3850728519823853, -0.3333641198715605, -0.3457266782564009, -0.36371009139721555, -0.30684606642988405, -0.097828373666583, -0.33055583069370287, -0.3425305560840557, -0.2772097851149582, -0.2445721699498165, -0.3456624643204235, -0.32969173675233393, -0.33381045392461883, -0.2911525508229962], \"y\": [0.9823215849155886, 0.9823001446175911, 1.2576597533313538, 1.704909974880763, 0.7904607083811569, 0.5459944968763013, 1.8207095145146983, 0.9823170321006696, 0.9824844732328452, 0.9823531315711111, 0.9823213214701756, 0.9823213025556186, 0.3894347310878186, 0.9169212422335181, 1.45137646372917, 0.20007822809430117, 0.9822786186756182, 1.0136256231761784, 1.2576619629354167, 2.555252868894055, 0.7433060260435385, 0.7895586254493385, 0.7378426847539397, 1.7915815734319098, 1.7915685175481346, 0.5445011226291782, 0.9821481941962361, 0.9822867670218307, 0.9898365100756974, 1.013208340150807, 1.2576695103508369, 0.09583193341244796, 1.4435731928765632, 1.2576643901916666, 0.9817253040574786, 0.982279587964607, 0.23511840342233864, 1.2576682743144219, 0.09589186811458913, 1.7915731157169197, 0.9818107760855441, 0.8261178740466819, 1.4215878062342888, 0.7904451643776845, 0.9169364346670288, 0.7378543844125204, 1.791558565780618, 0.7376178128278315, 0.9823219612028742, 1.7915609640653458, 1.0131850560617608, 0.9823135848400225, 1.2576698986296624, 3.545406141326197, 1.9004612856192733, 1.2647181573258819, 0.7378181758159597, 1.7915431018766816, 0.7899347430582401, 1.8208840653192622, 0.9848600107064015, 0.7904613186971017, 1.2459191776818226, 0.7904680033619504, 1.5005533124657935, 0.9823008444063849, 0.7377364902594427, 1.2574614601745842, 0.6929990325548173, 0.7904516226139924, 0.4005027940047302, 1.451369159767302, 1.2576628472891003, 0.7903505375077816, 0.7901886304297321, 1.4979440556649448, 1.257599486661914, 1.4392360273013918, 0.9814325267437156, 0.9822984175140383, 0.9822923449636822, 1.5469819957518538, 1.0130032348854459, 1.2576460630561581, 0.9822832631285298, 0.790461079367989, 1.2576680329436432, 0.9823107231491016, 0.9823220822104387, 0.7378908916882546, 0.2430713399634198, 1.9113849832779208, 1.451353378852874, 0.982330178400105, 1.2569142415354213, 1.45139118093936, 1.5470897320933517, 1.8906661991095703, 1.4512144031010774, 1.913499732599487, 1.2576577503366353, 1.8147314497389075, 1.257668383886494, 1.4513603877780472, 0.9823048171237985, 0.9822991655546447, 1.451369159767302, 1.2576381417527545, 0.7904646584103256, 0.9823086657975778, 0.9131533986056138, 0.9823090605506203, 0.9819673361181465, 1.2576669757077683, 0.9822447132046328, 0.7286728608601993, 0.9823153415208743, 0.9823206153923517, 1.3829199934636878, 0.6393257042557943, 0.9820533555867027, 0.7904615742820464, 1.2576658283184055, 0.9823136404686186, 0.9823096281098119, 0.7378179839759869, 0.22082518077246743, 1.547086216067342, 0.9820291852860172, 0.7378377657972466, 1.257618010261335, 1.913186155982719, 1.2576375082345947, 1.4513429758139866, 1.2576201529471474, 1.4512584122737036, 1.2574263262705385, 0.9823113211754171, 0.9823061851738029, 0.9817729675692686, 0.5048681408633391, 1.2576519625897982, 0.736825581480762, 1.4513614652318034, 0.9822694418784155, 1.781930702543771, 0.5458911373444736, 1.4392152779736782, 1.9446797720471487, 1.4979676324562958, 1.497922336073411, 1.936286387290539, 1.7915536218984554, 0.9572029392205494, 1.7915598803179151, 1.4852946017497337, 1.9362967763333252, 1.2576675156041728, 0.7378426486346917, 1.451342230438161, 0.9823001157515495, 0.9823203568493717, 1.7061392410254261, 1.33164979437267, 1.2576565561554254, 0.5443296861986096, 0.9823132437543947, 0.6663265580004168, 0.9810253332195765, 0.7904411726794432, 1.4974572540344895, 1.688862804438734, 0.9823106123353877, 1.6272978212800076, 1.4438114580171166, 0.9823176643986518, 0.5433666844614384, 1.2576002832940993, 1.4887896900752833, 1.7914964439077117, 0.982234796858223, 1.2534860682095648, 1.3829189000888589, 0.9561433512569794, 0.9822414313773143, 1.2576536535453933, 1.3828666771558233, 0.9819792202016435, 0.9823200319604914, 1.013184947574914, 1.439236040512141, -0.1078729818497005, 0.2125209267343877, 0.9822544778394925, 1.546710502886303, 1.030565191879035, 1.257656347673142, 1.7554309420780394, 0.737785926102, 1.5289981718145085, 1.4979481477782657, 0.9823201554670504, 0.9823191442404005, 0.7376415636750207, 1.2982651576905344, 1.4513323261264839, 0.9823076553880924, 1.627325770171455, 1.4513339472134807, 0.6641303461347018, 0.9798708870942675, 1.7625035934556623, 0.7378430707278348, 0.9793391085809966, 0.7378252268958996, 1.9172948545342778, 0.9822810272051631, 1.576379234710429, 1.3825695401667037, 0.5459580824161613, 1.7552272185633344, 0.9085922479673809, 1.3829158203448302, 1.6273983884552106, 0.7285848583232983, 0.9107823533609452, 1.382887586545723, 0.9817742246388824, 1.0131701001055755, 1.257649961372952, 0.7377323667665422, 1.4512621621703632, 0.7650048542810046, 1.0131416216426787, 0.9727158802318661, 2.28186156688162, 1.5109638928295326, 1.9463276659476678, 1.017607034659837, 1.6273791174815404, 0.9823138494357515, 1.6273939338477412, 1.3829186876839157, 0.9491774632237985, 1.0131847146195263, 0.982280757321271, 1.7552403835402512, 1.9148272594590332, 1.2574429903883582, 1.2576591431016193, 0.967042425061739, 1.2577316934726839, 0.9822127425554222, 0.9822970868344094, 0.5459878835218371, 0.9823240538463988, 1.257506995290183, 0.9768111635993523, 0.7949669635149845, 1.2572474616295763, 0.9823287344982757, 0.9822057315818913, 1.2576069904449698, 0.9822603486848583, 1.4513710486109948, 0.7505415173118022, 0.7904339750098709, 0.734918633568542, 0.9822215618589649, 0.5444696360134673, 1.79156460251477, 0.5457058815988022, 1.4513726495085515, 1.571931452759519, 0.9821882260572918, 0.7378468999307114], \"z\": [-0.5813680889341539, -0.5817207363499338, -0.5242749067855212, -0.11389481118914437, -0.48219746737111246, -0.17323983296209922, -0.6887705518975453, -0.5813742023739391, -0.5815782394567348, -0.5814087888585715, -0.5813681064526888, -0.5813684394830125, -0.11788500066441313, -0.4161060212163482, -0.10907833178587638, -0.3370877365442849, -0.5813984398703083, -0.2158657868099901, -0.5242777575087746, -0.7033067135580434, -0.2794494115765594, -0.4827473206155914, -0.27241244196666536, -0.7013541826288165, -0.701337338565127, -0.3782166002219906, -0.5814446323530637, -0.5813932254183684, -0.5910634783694224, -0.21532742862783438, -0.5242717684801377, 0.07312455985456634, -0.2836865321554235, -0.5242723106451772, -0.5817425819367047, -0.5813853930811602, -0.32198605762587046, -0.524274104854027, 0.07311872162100026, -0.7013432708979515, -0.581423934219388, 0.29505670400983863, -0.11419262724531941, -0.48221029708937174, -0.4161224906394268, -0.2724159697641952, -0.7013330776717331, -0.2724681896198544, -0.5813685743716149, -0.7013347420897269, -0.21531168595164807, -0.5813720649157753, -0.5242722687036508, -0.5587925994084423, -0.5842845782542917, -0.09801367030105797, -0.2724407417934325, -0.7013402918031143, -0.48221803146908354, -0.6887643452926024, -0.5093408030804984, -0.482198254770941, -0.5280917526272969, -0.4821986580409773, -0.5852134172623404, -0.5813713548807656, -0.272421891478925, -0.5242778601021885, -0.2853175116403095, -0.4821986129446245, -0.10510500089546741, -0.10908320588941703, -0.5243167863526546, -0.4821988217527423, -0.48220602324406187, -0.5819114194888134, -0.5242807929846491, -0.13555388456211845, -0.5816508013130605, -0.5813698918430221, -0.5814018515384045, -0.3923742501041908, -0.21553247874207832, -0.5242772605068506, -0.5813829859389494, -0.4821972311342838, -0.5242720062844264, -0.5813690877678179, -0.5813687304896655, -0.2724630696685874, -0.37327791633179164, -0.876573103979842, -0.109101448884119, -0.5813791757982113, -0.5243696557068379, -0.1091259137757985, -0.3923720603396653, -0.6023964851362801, -0.10908442372037519, -0.8703699154373656, -0.5242780415469288, -0.7318286585973033, -0.5242730690679894, -0.10909333467494553, -0.5813740068506772, -0.5813691889082335, -0.10908320588941703, -0.5242741894872545, -0.4822011337740078, -0.5813750118644297, -0.25589300121519476, -0.5813719468259111, -0.5813761889470744, -0.5242720720221755, -0.5813718534695121, -0.28381422253255206, -0.5813693272381626, -0.5813692084171639, -0.2985853177161537, -0.42888497648267515, -0.581379465484173, -0.48219786964823236, -0.5242737042426814, -0.5813721366850736, -0.581368342209557, -0.2724083253243119, -0.18179009079657654, -0.39237612020252205, -0.5817057151042632, -0.2724191395149746, -0.5242768114570444, -0.7404762359601841, -0.5243091154492341, -0.10911396989716482, -0.5242795758456457, -0.10921197393221915, -0.5243154565020031, -0.581370010950241, -0.5813686660747083, -0.5813751555179926, -0.17378662519215463, -0.5242777231378268, -0.27251839030807307, -0.10908042743469933, -0.5813758774258365, -0.7028277524156646, -0.17324058109384924, -0.13557465337666344, -0.7752305171318425, -0.5818846478398134, -0.5819048439101532, -0.773440544461052, -0.7013395669030132, -0.5847045350196893, -0.7013397049028255, -0.23952955724669198, -0.7734539478967264, -0.5242759906645976, -0.27241327171521773, -0.10907820138139401, -0.581374884147633, -0.5813695069499494, -0.11297215602665277, -0.22769591051613017, -0.5242743562748761, -0.37827867263587456, -0.5813685747689095, -0.15257891038888802, -0.5975673763521174, -0.4822280229047779, -0.5820768729722137, -0.5920983862144901, -0.5813689448013755, -0.607554382775825, -0.14141734643897255, -0.5813736024792054, -0.17627441519542214, -0.52428539509021, -0.591482543810582, -0.7013944745177497, -0.5814062410345667, -0.2729266619504234, -0.2985874814269595, -0.5833375063719424, -0.581371908611708, -0.5242870533853959, -0.2985915925413043, -0.5815697660000033, -0.5813689448209971, -0.2153122608531395, -0.1355478252456317, 0.13338035538921683, -0.23778889636255032, -0.5814473595258355, -0.3924529028209391, -0.3879846493423309, -0.5242726575693683, -0.4840350701866854, -0.2724162915694943, -0.11102391212720533, -0.581888104296652, -0.5813683892972047, -0.5813685143938091, -0.2724988318030728, -0.12945708565066263, -0.10908429580752521, -0.5813715636856824, -0.6075904410707427, -0.10908066832741717, -0.08593414606798785, -0.5818678266387411, -0.0577800622594568, -0.2724199599147044, -0.5848118759997102, -0.2724098062607314, -0.8699718994013775, -0.5813758120642674, -0.37980921601685136, -0.2985871198474603, -0.17325559101357574, -0.08576839343369716, -0.39490626988128685, -0.2985842229575295, -0.6075448387239563, -0.2725238166504682, -0.461536688849688, -0.29860427149661656, -0.5813767773278212, -0.21531741081464334, -0.5242822899248115, -0.2724444136959382, -0.10908098734031477, -0.5771537487839246, -0.2153128382590578, -0.5818428644186568, 0.009115780200557493, -0.17507599752876032, -0.1451107685266628, -0.2210024094819687, -0.6075548967402815, -0.581373121150188, -0.6075490175195638, -0.2985824678314019, -0.5920791326983283, -0.21531103097977394, -0.5813754638732492, -0.484103761873093, -0.8702911717602696, -0.5242797664591786, -0.5242798384242979, -0.5866759703086561, -0.5243519933924903, -0.5813706389908365, -0.5813752685267237, -0.17323737709546982, -0.5813712741980999, -0.5244195317318388, -0.5817649046085471, -0.4881313151659941, -0.5244421270384555, -0.5813880359354334, -0.5815045669598442, -0.5243397997478334, -0.581403463457347, -0.10907777925815317, -0.08178478922519618, -0.4822223111525964, -0.27578338291569854, -0.5814535038179396, -0.37821629483999286, -0.701332373364174, -0.17357340572442773, -0.10907958311715758, 0.1425896583433107, -0.5813747522983354, -0.27240702851717846]}, {\"hovertemplate\": \"class=%{marker.color}<br>PC 1=%{x}<br>PC 2=%{y}<br>PC 3=%{z}<extra></extra>\", \"legendgroup\": \"4\", \"marker\": {\"color\": [4, 4, 4, 4, 4, 4, 4, 4, 4, 4, 4, 4, 4, 4, 4, 4], \"coloraxis\": \"coloraxis\", \"symbol\": \"diamond\"}, \"mode\": \"markers\", \"name\": \"4\", \"scene\": \"scene\", \"showlegend\": true, \"type\": \"scatter3d\", \"x\": [2.3098167034099713, 2.5554982927289123, 3.864799952828006, 3.7236659229017484, 3.244545466387664, 4.405296886623415, 3.728526845838476, 8.049313926200343, 3.917957461240905, 2.2309396267751365, 3.1075648372667337, 3.7407822709606586, 3.7240581206434986, 3.7339388112660328, 3.7351844863494215, 2.4771947892908335], \"y\": [1.6266767993722404, -1.3584469778069224, -2.3529025028038943, 2.094794119036662, -1.2156792959877598, 2.9638624521600136, 2.0946344531356815, -2.8339849471882186, 2.197872983245262, 0.15078407601008412, -2.268617081991741, 2.094542575426766, 2.0947779851800066, 2.0950965874623555, 2.095122693153624, 0.8850159803478462], \"z\": [-0.713183849272852, 0.015010370839742895, 0.4360692544552466, -0.028881845891918678, -0.03764619055482413, 4.204735652426439, -0.028943927464730686, 0.4737418954194168, -0.04668267542867187, -0.21329142429346518, 0.30277632196694626, -0.029182824293079546, -0.028885992752187267, -0.029182717643877438, -0.02921639793193227, -0.11699397888833483]}, {\"hovertemplate\": \"class=%{marker.color}<br>PC 1=%{x}<br>PC 2=%{y}<br>PC 3=%{z}<extra></extra>\", \"legendgroup\": \"2\", \"marker\": {\"color\": [2, 2, 2, 2, 2, 2, 2, 2, 2, 2, 2, 2, 2, 2, 2, 2, 2, 2, 2, 2, 2, 2, 2, 2, 2, 2, 2, 2, 2, 2, 2, 2, 2, 2, 2, 2, 2, 2, 2, 2, 2, 2, 2, 2, 2, 2, 2, 2, 2, 2, 2, 2, 2, 2, 2, 2, 2, 2, 2, 2, 2, 2, 2, 2, 2, 2, 2, 2, 2, 2, 2, 2, 2, 2, 2, 2, 2, 2, 2, 2, 2, 2, 2, 2, 2, 2, 2, 2, 2, 2, 2, 2, 2, 2, 2, 2, 2, 2, 2, 2, 2, 2, 2, 2, 2, 2, 2, 2, 2, 2, 2, 2, 2, 2, 2, 2, 2, 2, 2, 2, 2, 2, 2, 2, 2, 2, 2, 2, 2, 2, 2, 2, 2, 2, 2, 2, 2, 2, 2, 2, 2, 2, 2, 2, 2, 2, 2, 2, 2, 2, 2, 2, 2, 2, 2, 2, 2, 2, 2, 2, 2, 2, 2, 2, 2, 2, 2, 2, 2, 2, 2, 2, 2, 2, 2, 2, 2, 2, 2, 2, 2, 2, 2, 2, 2, 2, 2, 2, 2, 2, 2, 2, 2, 2, 2, 2, 2, 2, 2, 2, 2, 2, 2, 2, 2, 2, 2, 2, 2, 2, 2, 2, 2, 2, 2, 2, 2, 2, 2, 2, 2, 2, 2, 2, 2, 2, 2, 2, 2, 2, 2, 2, 2, 2], \"coloraxis\": \"coloraxis\", \"symbol\": \"square\"}, \"mode\": \"markers\", \"name\": \"2\", \"scene\": \"scene\", \"showlegend\": true, \"type\": \"scatter3d\", \"x\": [-0.14125871947216712, -0.14983179174489358, -0.1675222698804856, -0.15233892840352006, -0.1482724700381986, -0.15011741450371238, 0.1642648781906438, -0.16866977530486404, -0.22185590672133745, -0.16828595760631312, -0.08940527727546749, -0.13834040226284572, -0.16553843297480855, -0.16808984680193287, -0.22530810585426594, -0.19669957493705, -0.16813852360101203, -0.16865201882581493, -0.16873856018150787, -0.2219453563852833, 0.18805762375176852, 0.23700396751584266, 0.08026662103925054, -0.1684845569503438, -0.16408513602765898, -0.16842380682232302, -0.1687956297308864, -0.1711574118885389, -0.14799585093441772, -0.16758938393331094, -0.16786719032887362, 1.5820592159872053, -0.14122003989645437, -0.16515372514392002, -0.16851102908229448, -0.16886623675509974, -0.16812466946054597, -0.14598150805420207, -0.16874737859368955, -0.03352631096444509, -0.14129774889408883, -0.16240424029067949, -0.16872682701765618, -0.16681943406144745, -0.1682130098025566, -0.12843613926047517, -0.14076091499098048, -0.14104846918163416, -0.14103154686437563, -0.14162276261557424, -0.2221194172103095, -0.1684429627920891, -0.188463004150459, -0.16554319931807235, -0.14082828908602585, 0.4599790203782894, -0.16730936754547668, -0.15189346853001218, -0.16602674432506678, -0.16886845271513642, -0.16589159327239664, -0.15210028216294993, -0.12782388004303802, -0.12344898603899124, -0.182744796899695, -0.16874137156082594, -0.041548241341374026, -0.11935063196461651, -0.1688773504957016, -0.14132556167279503, 0.4838296220499973, -0.22150592500256455, -0.1512340378276881, -0.14106519247058047, -0.2217911492515873, -0.16699938340979403, -0.1661907198213563, -0.1509006558973488, 0.3762649340569876, -0.2218265758638795, -0.1412211636724273, -0.16483071256889698, -0.1444625039507597, -0.16743913102303393, 0.27772865696593646, -0.2209864376494836, -0.15176127963098604, -0.16768712581829176, -0.14996106417421337, -0.16866705394761664, -0.22178979984162253, -0.16887740905565174, -0.2219399613675306, -0.26346123330160875, 0.3047169762954113, -0.14148154489106035, -0.10349978105134071, -0.1660411253087616, -0.14144012475277293, -0.16854047061488697, -0.1524255985541629, -0.15064251348842475, -0.15013905902769903, -0.09554062054145997, -0.2085076728739071, -0.21976596808693483, 0.30471129961726323, -0.16885913007765266, 0.30484216952362353, -0.15177499971229838, 0.493910097859488, -0.15110262532158805, -0.16882737887833207, -0.21466775094870608, -0.15015143739497427, -0.16695856677377002, -0.15149305538953897, -0.1461827448442898, -0.13972626518050188, -0.18835067503414324, -0.16838929791034735, -0.10777146483909975, -0.1682112477768263, -0.1509599367300508, -0.14797005479037692, -0.02454788992899842, -0.15223540354941878, 0.3408731877715193, -0.22099489060896407, -0.1685307542552715, -0.16829400401472744, -0.22138995033359055, -0.22196801099293967, 0.3051066886128635, -0.15512366805862565, -0.1169140165980899, -0.21283183290325833, -0.1412578826271628, -0.09438841401715292, 1.5803620817568456, -0.1686287283605225, -0.16807986967199387, -0.16778051362624796, -0.1677674279408067, 0.3052904253899686, 0.0623807282506248, -0.17630240428392022, -0.17585116594055977, -0.14999730519123003, -0.15051918368417033, -0.1669567736523559, -0.21750778636355686, -0.1756964363133915, -0.149006412538, -0.17579672850506467, -0.1136704004488973, 1.1434593014850074, 0.3046940733404268, -0.07382986062838472, -0.21724964292343502, -0.14006089736181315, -0.08492558753631424, 1.0945378099366327, -0.22194197929698029, -0.17584870316267304, -0.16887918706719504, -0.1678789116746357, -0.2218673017016284, -0.14123725129086123, -0.19923383625028154, -0.14915868724522838, 0.30857244036338305, 0.024377839043256896, -0.15002159566046003, -0.17400579959470844, -0.16845329243725968, 0.13895723273228053, -0.21600222168389743, -0.10200425949319047, 0.31262426137834914, -0.1686905463643962, -0.16051364268464738, -0.14898726340621035, -0.15020714563611193, -0.22103571493370788, 0.3048768062037494, -0.1884101286297118, -0.15162009124392273, -0.1493826958844127, -0.15251004898168302, 0.3088082355191078, 0.5823637225108627, 2.1150988614935486, -0.14548285852655607, 0.318496051622881, -0.1922115724461848, -0.15901045478424683, -0.22192412049065185, -0.1687151628870458, -0.13994292674558567, -0.14710917615771602, -0.16733711965278056, -0.10104088982674365, -0.22189546194452067, -0.19163880602231168, -0.044632841226148114, -0.15190726060809495, -0.1412579202404297, 0.3847137356314348, -0.14555575905301377, -0.1459480369657321, -0.27171881936838893, -0.15423474553195202, -0.1676063507058694, -0.14805568270012115, -0.14982994159127733, -0.1819550731395465, -0.1405332732974134, -0.11030568779336887, -0.13940009048545235, 0.5277862450654969, -0.10093126293185753, -0.0963718505021588, -0.15225105998989952, -0.1410478388311601, 0.5477187267082986, -0.19626008067913311, -0.1687920465284532, -0.16674569951027282, -0.12418481564504738, -0.12966348008808345, -0.1506757089583667, 0.3264746280099413, -0.15011847279732377], \"y\": [-1.339584756354776, -1.9934210138264439, -1.147758628490489, -2.167252072049355, -1.9935347955020197, -2.016245664907861, -1.7983095947399446, -1.1477387386903453, -0.8723888847688953, -1.147760684525268, -1.7903745899966101, -1.3396273716307041, -1.147832826616779, -1.1477816821294444, -0.5027195847719615, -1.2131608730460233, -1.1477465516214131, -1.1477383665666947, -1.1477346984128465, -0.8723893645094387, -1.7947108885341962, -1.3462888832148336, -1.1519224333886344, -1.147734857057611, -1.1478370965774227, -1.1477412556527187, -1.1477345663842298, -1.5856787998708233, -1.1482816048791775, -1.147750270971992, -1.1477576591986052, -1.1742211899645765, -1.339583945744465, -1.1478355192121905, -1.1477347144048973, -1.1477291514291053, -1.1477419609206851, -2.2336216950681567, -1.1477326932879914, -1.1553533453176705, -1.3395855742968283, -1.14782781962719, -1.1477399343266876, -1.1478596726373245, -1.1477502286386407, -1.339920705281369, -1.339592465383873, -1.3395949961740665, -1.3396211439043693, -1.339577913939705, -0.8723804585577897, -1.147735380227917, -1.2192755103559556, -1.1478436814470165, -1.339592474138475, -2.302578573950377, -1.1477688964224155, -1.148544194354779, -1.1477847452052843, -1.1477300891857483, -1.1477774590427312, -1.1480742755818192, -2.0638267531719654, -1.789693184443936, -1.490687430969908, -1.1477279443641422, -1.152034307158799, -2.1677197082259796, -1.147728874851888, -1.3395861571709848, -1.1982132600057127, -0.8723906167810218, -2.1301920169457853, -1.339603548431906, -0.8723882250733699, -1.1478357139964923, -1.147846496633352, -1.9934552051227497, -2.1825921808176156, -0.8723854803568581, -1.3395839692955083, -1.1477900976415312, -2.3154008269617483, -1.1477568861442045, -1.345872200324094, -0.872415298825255, -2.220226272613635, -1.1478209125857852, -2.0452643409676177, -1.1477379842278381, -0.8723909865171079, -1.1477288739659164, -0.8723941334616749, -1.4135286891548167, -2.29886507618751, -1.33958157026001, -1.7901120247194267, -1.147808490029123, -1.3395813315060228, -1.1477423057214715, -2.1797945559267053, -1.9934562807245366, -2.016246118513516, -1.1531658288541566, -0.8724439117994102, -0.872490151410353, -2.2988728668933827, -1.1477299539891657, -2.298872913967909, -2.1301644448778716, -0.9271176680535955, -2.1673551874753167, -1.1477297389181442, -0.8729217243700039, -2.016243588204332, -1.1477579738225616, -2.1301662078929904, -2.000507822601104, -1.1499072450834404, -0.6321021110783056, -1.147742987682845, -1.3406118929298145, -1.147764698273476, -2.1672964026733528, -2.1536160254503556, -2.1912293638640477, -2.3842087507002954, -2.299495235579113, -0.8724266348680905, -1.1477346234045993, -1.1477685248937277, -0.8724070169255729, -0.8723904669712466, -2.2988875959193837, -2.079749833837049, -1.3670150354523276, -0.8729529920049552, -1.3395847388169588, -1.1534903974153352, -1.1110695217297026, -1.147737181036093, -1.1477703141444717, -1.1477751994145766, -1.1477749251770417, -2.2989080779230413, -2.0264237297736267, -0.8726756440623789, -1.5855616610372103, -2.016243147769427, -2.2202883321427542, -1.1477579362440034, -0.8725279131175219, -1.585570972113992, -1.9935989969409023, -1.5855638678565314, -1.7899485583714074, -2.3405621484967227, -2.298867299743311, -1.9988025450829756, -0.8726619893595545, -2.16769182982381, -1.1494562146778449, -1.186855135539068, -0.8723905491111195, -1.5855574248395072, -1.5857454336293053, -1.1477521540380116, -0.8723912158667713, -1.3395837247874116, -1.0994869243152114, -2.1168992443062056, -2.2990116394416584, -1.150652690135243, -2.220238634106603, -1.2196811195540396, -1.1477474530314253, -1.1541147296688423, -0.8726009755313856, -1.9969519897547876, -2.299389819258837, -1.1477391739907499, -2.0962532543062906, -2.0162561543717943, -2.179942367904365, -0.8724274904260383, -2.2988675850411986, -0.63208435066548, -2.1301725526263002, -2.154907554808622, -2.179788723763354, -2.2991908199738886, -2.192987426353054, -2.389245091311466, -2.290581195853467, -2.2992667637804396, -1.2214322296189275, -2.1799936509922926, -0.8723910117600113, -1.1477404607252828, -2.168212792251845, -2.114134699128869, -0.374697975760086, -1.34019186750412, -0.8723932008844608, -1.2214745729278014, -2.019320846481109, -2.1798273522570173, -1.3395847396052218, -2.302816846032944, -2.151687944843054, -2.151640447247326, -0.1307140881550453, -2.1275540394226216, -1.1477854980883107, -2.016371095844447, -2.0162465351213115, -1.4907406237644627, -1.3395995426601774, -0.33848649873411774, -1.3396483272851352, -1.2015463864822262, -1.5867624526804989, -2.15546589660157, -1.1480774354422456, -1.3395949829637717, -1.1675822362302541, -1.2131663085850382, -1.1477301422424577, -1.1478107020797557, -1.7897105580777726, -2.2256203248099853, -1.9934557785003488, -2.299378683847861, -2.016245687086588], \"z\": [0.11682557106188221, 0.42341271231248995, 0.017639016962688697, 0.5284327073663967, 0.4234093860300916, 0.3802685732676729, 0.3593019714206965, 0.017658392667014095, 0.07475294063307622, 0.017655966876842018, 0.36264706833648375, 0.11677418231442845, 0.017616076018632815, 0.01765732178712986, -0.008601857851018689, 0.1829066694675029, 0.01764905248147272, 0.017657912571251502, 0.017658798944442135, 0.07475498930274556, 0.35783667543938275, 0.11047773594602452, 0.0134203134821893, 0.017653384774011873, 0.017585989981871265, 0.01765377640379918, 0.01765998984596624, 0.22074169428055432, 0.017358238894878964, 0.017638242623389925, 0.017646169178172313, -0.012927082396780214, 0.1168245252520401, 0.01760852606931321, 0.017653915596370577, 0.017660070766132862, 0.01764753764685465, 0.23554209706897444, 0.01765845670927018, 0.016774409626156124, 0.11682662633077213, 0.017547422909830895, 0.0176599352186366, 0.017650711443369247, 0.01765162748632756, 0.11663920720594398, 0.1168169218052401, 0.11682376979229386, 0.11683033941196772, 0.11683157678000236, 0.07475636686545424, 0.017652630010946427, 0.13747911300055637, 0.017619056586099222, 0.11681837138736229, 0.49586460705001095, 0.017637166178758115, 0.0175115896654467, 0.017613816528804976, 0.01766036701531007, 0.01760898141147146, 0.017391432240062094, 0.4507415270053001, 0.3631976840144022, 0.1701519937270887, 0.017657068484920227, 0.016066678289410986, 0.5541255045172458, 0.01766023616499624, 0.11682737832654622, 0.01702550247288224, 0.07474588193353801, 0.41075868835035917, 0.1168263966744663, 0.07475137466020146, 0.0176482242440559, 0.017633712406467324, 0.4234447384462116, 0.4760116684446347, 0.07475140789060773, 0.11682455563644664, 0.017589543818289338, 0.27287099523108255, 0.017636769072611014, 0.10949244579772455, 0.07474126733961385, 0.48573499150732175, 0.017659072990966987, 0.44561940806284106, 0.01765813416225333, 0.07475207787636882, 0.017660237188003445, 0.07475613791057435, 0.34862569638617613, 0.4982151441528659, 0.11682951276776014, 0.36288021217647254, 0.017620421437839814, 0.11682855971693198, 0.017656560883073342, 0.4779966330117342, 0.42343947849537855, 0.38026915848753534, 0.017526512325171387, 0.0744807981774546, 0.07473489779665425, 0.4982173318159816, 0.01766013090835963, 0.4982145330855447, 0.4107629979419699, 0.07388904922988702, 0.5284334916577015, 0.017659391835295874, 0.07473981566129093, 0.3802687534698823, 0.017626734487337523, 0.41075740897211005, 0.25318329597678835, 0.01761164221130898, 0.01714165399638681, 0.017653494370491622, 0.11637857988860097, 0.017655426291389043, 0.528414839650722, 0.21460227296336976, 0.48691168396312595, 0.3770491510101539, 0.4976055618396733, 0.07474445469373184, 0.017654315183265448, 0.017658218612202004, 0.07474773921923686, 0.07475576826580234, 0.4982127439105921, 0.42341827694720896, 0.021103192808425555, 0.0747086690446667, 0.11682554843544336, 0.017587821871423038, -0.029635428203617243, 0.017657097923485757, 0.01765409322282685, 0.017648958104977918, 0.017648604297102022, 0.49821422791437453, 0.3784026433239922, 0.07385044212646802, 0.22081146104801402, 0.38026532577858163, 0.48572476530212244, 0.01762668600531649, 0.07469640246456503, 0.2208106061579679, 0.4234421749767443, 0.22081087682210385, 0.36305534347547397, 0.4912542158191092, 0.4982162257111691, 0.42320704190885533, 0.07472640790000046, 0.528285566095404, 0.016314878884435786, 0.07911878778853806, 0.07475523085932433, 0.22081028490814475, 0.22071042389037537, 0.017644961258753124, 0.0747538035039513, 0.1168248363822207, 0.2110436396267932, 0.39649621037143745, 0.49817118661520077, 0.014284183474112621, 0.4857008990872598, 0.13727610640258525, 0.01765605303178239, 0.012740874411838484, 0.07468343413455775, 0.42332157652466784, 0.49818442477449953, 0.017658954270338867, 0.3448130269972548, 0.38024707783155615, 0.4779881711609334, 0.07474555849281678, 0.49821237607962315, 0.017138221905199567, 0.4107618201451167, 0.3721917542932176, 0.4779969006779458, 0.4982136316138698, 0.3369667204952029, 0.48329084488304863, 0.4989263083804505, 0.4980256646054383, 0.20413220565023643, 0.5120181035449525, 0.07475496990722408, 0.017659824237542966, 0.5284211662907667, 0.30803017502841396, 0.11498769060905008, 0.11612262996484905, 0.07475493474499334, 0.20413112949291587, 0.37881805352930525, 0.4779941946287502, 0.11682554945242248, 0.49754455662843095, 0.3677123062494996, 0.367708138668432, 0.09019855400984078, 0.549745175839897, 0.017647947632445753, 0.38025754355659436, 0.38026262881004974, 0.17014913388071468, 0.11681390839634008, -0.10230419327786702, 0.11680250188112151, 0.016965057353275765, 0.21952050147405638, 0.3676575203623769, 0.01739550893767918, 0.11682375274901677, 0.007531220187372524, 0.18289866995011397, 0.017658739804514344, 0.017636142904167734, 0.36321809700378627, 0.3143632303242705, 0.423440058400393, 0.4978839529053491, 0.3802686018815805]}, {\"hovertemplate\": \"class=%{marker.color}<br>PC 1=%{x}<br>PC 2=%{y}<br>PC 3=%{z}<extra></extra>\", \"legendgroup\": \"3\", \"marker\": {\"color\": [3, 3, 3, 3, 3, 3], \"coloraxis\": \"coloraxis\", \"symbol\": \"x\"}, \"mode\": \"markers\", \"name\": \"3\", \"scene\": \"scene\", \"showlegend\": true, \"type\": \"scatter3d\", \"x\": [-0.14142887529511353, -0.33834483011955335, -0.40858341994507597, -0.3468546175758138, -0.5767250750856991, -0.4160792973787225], \"y\": [1.6863418207544232, 1.1872657698229652, 2.3180226931290693, 3.6570874458325493, 4.094535615252636, 4.221992281118503], \"z\": [6.657961550432589, 6.555360934497298, 16.607474202877295, 15.116210313534252, 16.31423830161207, 10.646512730751084]}, {\"hovertemplate\": \"class=%{marker.color}<br>PC 1=%{x}<br>PC 2=%{y}<br>PC 3=%{z}<extra></extra>\", \"legendgroup\": \"1\", \"marker\": {\"color\": [1], \"coloraxis\": \"coloraxis\", \"symbol\": \"cross\"}, \"mode\": \"markers\", \"name\": \"1\", \"scene\": \"scene\", \"showlegend\": true, \"type\": \"scatter3d\", \"x\": [34.10077268192604], \"y\": [1.505643043013418], \"z\": [-0.7448382789737324]}],                        {\"coloraxis\": {\"colorbar\": {\"title\": {\"text\": \"class\"}}, \"colorscale\": [[0.0, \"#0d0887\"], [0.1111111111111111, \"#46039f\"], [0.2222222222222222, \"#7201a8\"], [0.3333333333333333, \"#9c179e\"], [0.4444444444444444, \"#bd3786\"], [0.5555555555555556, \"#d8576b\"], [0.6666666666666666, \"#ed7953\"], [0.7777777777777778, \"#fb9f3a\"], [0.8888888888888888, \"#fdca26\"], [1.0, \"#f0f921\"]]}, \"legend\": {\"title\": {\"text\": \"class\"}, \"tracegroupgap\": 0, \"x\": 0, \"y\": 1}, \"margin\": {\"t\": 60}, \"scene\": {\"domain\": {\"x\": [0.0, 1.0], \"y\": [0.0, 1.0]}, \"xaxis\": {\"title\": {\"text\": \"PC 1\"}}, \"yaxis\": {\"title\": {\"text\": \"PC 2\"}}, \"zaxis\": {\"title\": {\"text\": \"PC 3\"}}}, \"template\": {\"data\": {\"bar\": [{\"error_x\": {\"color\": \"#2a3f5f\"}, \"error_y\": {\"color\": \"#2a3f5f\"}, \"marker\": {\"line\": {\"color\": \"#E5ECF6\", \"width\": 0.5}}, \"type\": \"bar\"}], \"barpolar\": [{\"marker\": {\"line\": {\"color\": \"#E5ECF6\", \"width\": 0.5}}, \"type\": \"barpolar\"}], \"carpet\": [{\"aaxis\": {\"endlinecolor\": \"#2a3f5f\", \"gridcolor\": \"white\", \"linecolor\": \"white\", \"minorgridcolor\": \"white\", \"startlinecolor\": \"#2a3f5f\"}, \"baxis\": {\"endlinecolor\": \"#2a3f5f\", \"gridcolor\": \"white\", \"linecolor\": \"white\", \"minorgridcolor\": \"white\", \"startlinecolor\": \"#2a3f5f\"}, \"type\": \"carpet\"}], \"choropleth\": [{\"colorbar\": {\"outlinewidth\": 0, \"ticks\": \"\"}, \"type\": \"choropleth\"}], \"contour\": [{\"colorbar\": {\"outlinewidth\": 0, \"ticks\": \"\"}, \"colorscale\": [[0.0, \"#0d0887\"], [0.1111111111111111, \"#46039f\"], [0.2222222222222222, \"#7201a8\"], [0.3333333333333333, \"#9c179e\"], [0.4444444444444444, \"#bd3786\"], [0.5555555555555556, \"#d8576b\"], [0.6666666666666666, \"#ed7953\"], [0.7777777777777778, \"#fb9f3a\"], [0.8888888888888888, \"#fdca26\"], [1.0, \"#f0f921\"]], \"type\": \"contour\"}], \"contourcarpet\": [{\"colorbar\": {\"outlinewidth\": 0, \"ticks\": \"\"}, \"type\": \"contourcarpet\"}], \"heatmap\": [{\"colorbar\": {\"outlinewidth\": 0, \"ticks\": \"\"}, \"colorscale\": [[0.0, \"#0d0887\"], [0.1111111111111111, \"#46039f\"], [0.2222222222222222, \"#7201a8\"], [0.3333333333333333, \"#9c179e\"], [0.4444444444444444, \"#bd3786\"], [0.5555555555555556, \"#d8576b\"], [0.6666666666666666, \"#ed7953\"], [0.7777777777777778, \"#fb9f3a\"], [0.8888888888888888, \"#fdca26\"], [1.0, \"#f0f921\"]], \"type\": \"heatmap\"}], \"heatmapgl\": [{\"colorbar\": {\"outlinewidth\": 0, \"ticks\": \"\"}, \"colorscale\": [[0.0, \"#0d0887\"], [0.1111111111111111, \"#46039f\"], [0.2222222222222222, \"#7201a8\"], [0.3333333333333333, \"#9c179e\"], [0.4444444444444444, \"#bd3786\"], [0.5555555555555556, \"#d8576b\"], [0.6666666666666666, \"#ed7953\"], [0.7777777777777778, \"#fb9f3a\"], [0.8888888888888888, \"#fdca26\"], [1.0, \"#f0f921\"]], \"type\": \"heatmapgl\"}], \"histogram\": [{\"marker\": {\"colorbar\": {\"outlinewidth\": 0, \"ticks\": \"\"}}, \"type\": \"histogram\"}], \"histogram2d\": [{\"colorbar\": {\"outlinewidth\": 0, \"ticks\": \"\"}, \"colorscale\": [[0.0, \"#0d0887\"], [0.1111111111111111, \"#46039f\"], [0.2222222222222222, \"#7201a8\"], [0.3333333333333333, \"#9c179e\"], [0.4444444444444444, \"#bd3786\"], [0.5555555555555556, \"#d8576b\"], [0.6666666666666666, \"#ed7953\"], [0.7777777777777778, \"#fb9f3a\"], [0.8888888888888888, \"#fdca26\"], [1.0, \"#f0f921\"]], \"type\": \"histogram2d\"}], \"histogram2dcontour\": [{\"colorbar\": {\"outlinewidth\": 0, \"ticks\": \"\"}, \"colorscale\": [[0.0, \"#0d0887\"], [0.1111111111111111, \"#46039f\"], [0.2222222222222222, \"#7201a8\"], [0.3333333333333333, \"#9c179e\"], [0.4444444444444444, \"#bd3786\"], [0.5555555555555556, \"#d8576b\"], [0.6666666666666666, \"#ed7953\"], [0.7777777777777778, \"#fb9f3a\"], [0.8888888888888888, \"#fdca26\"], [1.0, \"#f0f921\"]], \"type\": \"histogram2dcontour\"}], \"mesh3d\": [{\"colorbar\": {\"outlinewidth\": 0, \"ticks\": \"\"}, \"type\": \"mesh3d\"}], \"parcoords\": [{\"line\": {\"colorbar\": {\"outlinewidth\": 0, \"ticks\": \"\"}}, \"type\": \"parcoords\"}], \"pie\": [{\"automargin\": true, \"type\": \"pie\"}], \"scatter\": [{\"marker\": {\"colorbar\": {\"outlinewidth\": 0, \"ticks\": \"\"}}, \"type\": \"scatter\"}], \"scatter3d\": [{\"line\": {\"colorbar\": {\"outlinewidth\": 0, \"ticks\": \"\"}}, \"marker\": {\"colorbar\": {\"outlinewidth\": 0, \"ticks\": \"\"}}, \"type\": \"scatter3d\"}], \"scattercarpet\": [{\"marker\": {\"colorbar\": {\"outlinewidth\": 0, \"ticks\": \"\"}}, \"type\": \"scattercarpet\"}], \"scattergeo\": [{\"marker\": {\"colorbar\": {\"outlinewidth\": 0, \"ticks\": \"\"}}, \"type\": \"scattergeo\"}], \"scattergl\": [{\"marker\": {\"colorbar\": {\"outlinewidth\": 0, \"ticks\": \"\"}}, \"type\": \"scattergl\"}], \"scattermapbox\": [{\"marker\": {\"colorbar\": {\"outlinewidth\": 0, \"ticks\": \"\"}}, \"type\": \"scattermapbox\"}], \"scatterpolar\": [{\"marker\": {\"colorbar\": {\"outlinewidth\": 0, \"ticks\": \"\"}}, \"type\": \"scatterpolar\"}], \"scatterpolargl\": [{\"marker\": {\"colorbar\": {\"outlinewidth\": 0, \"ticks\": \"\"}}, \"type\": \"scatterpolargl\"}], \"scatterternary\": [{\"marker\": {\"colorbar\": {\"outlinewidth\": 0, \"ticks\": \"\"}}, \"type\": \"scatterternary\"}], \"surface\": [{\"colorbar\": {\"outlinewidth\": 0, \"ticks\": \"\"}, \"colorscale\": [[0.0, \"#0d0887\"], [0.1111111111111111, \"#46039f\"], [0.2222222222222222, \"#7201a8\"], [0.3333333333333333, \"#9c179e\"], [0.4444444444444444, \"#bd3786\"], [0.5555555555555556, \"#d8576b\"], [0.6666666666666666, \"#ed7953\"], [0.7777777777777778, \"#fb9f3a\"], [0.8888888888888888, \"#fdca26\"], [1.0, \"#f0f921\"]], \"type\": \"surface\"}], \"table\": [{\"cells\": {\"fill\": {\"color\": \"#EBF0F8\"}, \"line\": {\"color\": \"white\"}}, \"header\": {\"fill\": {\"color\": \"#C8D4E3\"}, \"line\": {\"color\": \"white\"}}, \"type\": \"table\"}]}, \"layout\": {\"annotationdefaults\": {\"arrowcolor\": \"#2a3f5f\", \"arrowhead\": 0, \"arrowwidth\": 1}, \"coloraxis\": {\"colorbar\": {\"outlinewidth\": 0, \"ticks\": \"\"}}, \"colorscale\": {\"diverging\": [[0, \"#8e0152\"], [0.1, \"#c51b7d\"], [0.2, \"#de77ae\"], [0.3, \"#f1b6da\"], [0.4, \"#fde0ef\"], [0.5, \"#f7f7f7\"], [0.6, \"#e6f5d0\"], [0.7, \"#b8e186\"], [0.8, \"#7fbc41\"], [0.9, \"#4d9221\"], [1, \"#276419\"]], \"sequential\": [[0.0, \"#0d0887\"], [0.1111111111111111, \"#46039f\"], [0.2222222222222222, \"#7201a8\"], [0.3333333333333333, \"#9c179e\"], [0.4444444444444444, \"#bd3786\"], [0.5555555555555556, \"#d8576b\"], [0.6666666666666666, \"#ed7953\"], [0.7777777777777778, \"#fb9f3a\"], [0.8888888888888888, \"#fdca26\"], [1.0, \"#f0f921\"]], \"sequentialminus\": [[0.0, \"#0d0887\"], [0.1111111111111111, \"#46039f\"], [0.2222222222222222, \"#7201a8\"], [0.3333333333333333, \"#9c179e\"], [0.4444444444444444, \"#bd3786\"], [0.5555555555555556, \"#d8576b\"], [0.6666666666666666, \"#ed7953\"], [0.7777777777777778, \"#fb9f3a\"], [0.8888888888888888, \"#fdca26\"], [1.0, \"#f0f921\"]]}, \"colorway\": [\"#636efa\", \"#EF553B\", \"#00cc96\", \"#ab63fa\", \"#FFA15A\", \"#19d3f3\", \"#FF6692\", \"#B6E880\", \"#FF97FF\", \"#FECB52\"], \"font\": {\"color\": \"#2a3f5f\"}, \"geo\": {\"bgcolor\": \"white\", \"lakecolor\": \"white\", \"landcolor\": \"#E5ECF6\", \"showlakes\": true, \"showland\": true, \"subunitcolor\": \"white\"}, \"hoverlabel\": {\"align\": \"left\"}, \"hovermode\": \"closest\", \"mapbox\": {\"style\": \"light\"}, \"paper_bgcolor\": \"white\", \"plot_bgcolor\": \"#E5ECF6\", \"polar\": {\"angularaxis\": {\"gridcolor\": \"white\", \"linecolor\": \"white\", \"ticks\": \"\"}, \"bgcolor\": \"#E5ECF6\", \"radialaxis\": {\"gridcolor\": \"white\", \"linecolor\": \"white\", \"ticks\": \"\"}}, \"scene\": {\"xaxis\": {\"backgroundcolor\": \"#E5ECF6\", \"gridcolor\": \"white\", \"gridwidth\": 2, \"linecolor\": \"white\", \"showbackground\": true, \"ticks\": \"\", \"zerolinecolor\": \"white\"}, \"yaxis\": {\"backgroundcolor\": \"#E5ECF6\", \"gridcolor\": \"white\", \"gridwidth\": 2, \"linecolor\": \"white\", \"showbackground\": true, \"ticks\": \"\", \"zerolinecolor\": \"white\"}, \"zaxis\": {\"backgroundcolor\": \"#E5ECF6\", \"gridcolor\": \"white\", \"gridwidth\": 2, \"linecolor\": \"white\", \"showbackground\": true, \"ticks\": \"\", \"zerolinecolor\": \"white\"}}, \"shapedefaults\": {\"line\": {\"color\": \"#2a3f5f\"}}, \"ternary\": {\"aaxis\": {\"gridcolor\": \"white\", \"linecolor\": \"white\", \"ticks\": \"\"}, \"baxis\": {\"gridcolor\": \"white\", \"linecolor\": \"white\", \"ticks\": \"\"}, \"bgcolor\": \"#E5ECF6\", \"caxis\": {\"gridcolor\": \"white\", \"linecolor\": \"white\", \"ticks\": \"\"}}, \"title\": {\"x\": 0.05}, \"xaxis\": {\"automargin\": true, \"gridcolor\": \"white\", \"linecolor\": \"white\", \"ticks\": \"\", \"title\": {\"standoff\": 15}, \"zerolinecolor\": \"white\", \"zerolinewidth\": 2}, \"yaxis\": {\"automargin\": true, \"gridcolor\": \"white\", \"linecolor\": \"white\", \"ticks\": \"\", \"title\": {\"standoff\": 15}, \"zerolinecolor\": \"white\", \"zerolinewidth\": 2}}}, \"width\": 800},                        {\"responsive\": true}                    ).then(function(){\n",
       "                            \n",
       "var gd = document.getElementById('99d6b2fa-5e50-4423-9b03-e619176f6559');\n",
       "var x = new MutationObserver(function (mutations, observer) {{\n",
       "        var display = window.getComputedStyle(gd).display;\n",
       "        if (!display || display === 'none') {{\n",
       "            console.log([gd, 'removed!']);\n",
       "            Plotly.purge(gd);\n",
       "            observer.disconnect();\n",
       "        }}\n",
       "}});\n",
       "\n",
       "// Listen for the removal of the full notebook cells\n",
       "var notebookContainer = gd.closest('#notebook-container');\n",
       "if (notebookContainer) {{\n",
       "    x.observe(notebookContainer, {childList: true});\n",
       "}}\n",
       "\n",
       "// Listen for the clearing of the current output cell\n",
       "var outputEl = gd.closest('.output');\n",
       "if (outputEl) {{\n",
       "    x.observe(outputEl, {childList: true});\n",
       "}}\n",
       "\n",
       "                        })                };                });            </script>        </div>"
      ]
     },
     "metadata": {},
     "output_type": "display_data"
    }
   ],
   "source": [
    "# Plotting the clusters on 3D plot for K=5\n",
    "fig=px.scatter_3d(\n",
    "    five_clusters,\n",
    "    x=\"PC 1\",\n",
    "    y=\"PC 2\",\n",
    "    z=\"PC 3\",\n",
    "    color=\"class\",\n",
    "    symbol=\"class\",\n",
    "    width=800,\n",
    ")\n",
    "\n",
    "fig.update_layout(legend=dict(x=0, y=1))\n",
    "fig.show()"
   ]
  },
  {
   "cell_type": "markdown",
   "metadata": {},
   "source": [
    "#### Testing K=6"
   ]
  },
  {
   "cell_type": "code",
   "execution_count": 273,
   "metadata": {},
   "outputs": [
    {
     "data": {
      "text/html": [
       "<div>\n",
       "<style scoped>\n",
       "    .dataframe tbody tr th:only-of-type {\n",
       "        vertical-align: middle;\n",
       "    }\n",
       "\n",
       "    .dataframe tbody tr th {\n",
       "        vertical-align: top;\n",
       "    }\n",
       "\n",
       "    .dataframe thead th {\n",
       "        text-align: right;\n",
       "    }\n",
       "</style>\n",
       "<table border=\"1\" class=\"dataframe\">\n",
       "  <thead>\n",
       "    <tr style=\"text-align: right;\">\n",
       "      <th></th>\n",
       "      <th>PC 1</th>\n",
       "      <th>PC 2</th>\n",
       "      <th>PC 3</th>\n",
       "      <th>class</th>\n",
       "    </tr>\n",
       "  </thead>\n",
       "  <tbody>\n",
       "    <tr>\n",
       "      <th>42</th>\n",
       "      <td>-0.335767</td>\n",
       "      <td>0.982322</td>\n",
       "      <td>-0.581368</td>\n",
       "      <td>1</td>\n",
       "    </tr>\n",
       "    <tr>\n",
       "      <th>404</th>\n",
       "      <td>-0.319085</td>\n",
       "      <td>0.982300</td>\n",
       "      <td>-0.581721</td>\n",
       "      <td>1</td>\n",
       "    </tr>\n",
       "    <tr>\n",
       "      <th>1337</th>\n",
       "      <td>2.309817</td>\n",
       "      <td>1.626677</td>\n",
       "      <td>-0.713184</td>\n",
       "      <td>5</td>\n",
       "    </tr>\n",
       "    <tr>\n",
       "      <th>BTC</th>\n",
       "      <td>-0.141259</td>\n",
       "      <td>-1.339585</td>\n",
       "      <td>0.116826</td>\n",
       "      <td>0</td>\n",
       "    </tr>\n",
       "    <tr>\n",
       "      <th>ETH</th>\n",
       "      <td>-0.149832</td>\n",
       "      <td>-1.993421</td>\n",
       "      <td>0.423413</td>\n",
       "      <td>0</td>\n",
       "    </tr>\n",
       "  </tbody>\n",
       "</table>\n",
       "</div>"
      ],
      "text/plain": [
       "          PC 1      PC 2      PC 3  class\n",
       "42   -0.335767  0.982322 -0.581368      1\n",
       "404  -0.319085  0.982300 -0.581721      1\n",
       "1337  2.309817  1.626677 -0.713184      5\n",
       "BTC  -0.141259 -1.339585  0.116826      0\n",
       "ETH  -0.149832 -1.993421  0.423413      0"
      ]
     },
     "execution_count": 273,
     "metadata": {},
     "output_type": "execute_result"
    }
   ],
   "source": [
    "six_clusters=test_k_value(6, pcs_df)\n",
    "six_clusters.head()"
   ]
  },
  {
   "cell_type": "code",
   "execution_count": 274,
   "metadata": {
    "scrolled": true
   },
   "outputs": [
    {
     "data": {
      "application/vnd.plotly.v1+json": {
       "config": {
        "plotlyServerURL": "https://plot.ly"
       },
       "data": [
        {
         "hovertemplate": "class=%{marker.color}<br>PC 1=%{x}<br>PC 2=%{y}<br>PC 3=%{z}<extra></extra>",
         "legendgroup": "1",
         "marker": {
          "color": [
           1,
           1,
           1,
           1,
           1,
           1,
           1,
           1,
           1,
           1,
           1,
           1,
           1,
           1,
           1,
           1,
           1,
           1,
           1,
           1,
           1,
           1,
           1,
           1,
           1,
           1,
           1,
           1,
           1,
           1,
           1,
           1,
           1,
           1,
           1,
           1,
           1,
           1,
           1,
           1,
           1,
           1,
           1,
           1,
           1,
           1,
           1,
           1,
           1,
           1,
           1,
           1,
           1,
           1,
           1,
           1,
           1,
           1,
           1,
           1,
           1,
           1,
           1,
           1,
           1,
           1,
           1,
           1,
           1,
           1,
           1,
           1,
           1,
           1,
           1,
           1,
           1,
           1,
           1,
           1,
           1,
           1,
           1,
           1,
           1,
           1,
           1,
           1,
           1,
           1,
           1,
           1,
           1,
           1,
           1,
           1,
           1,
           1,
           1,
           1,
           1,
           1,
           1,
           1,
           1,
           1,
           1,
           1,
           1,
           1,
           1,
           1,
           1,
           1,
           1,
           1,
           1,
           1,
           1,
           1,
           1,
           1,
           1,
           1,
           1,
           1,
           1,
           1,
           1,
           1,
           1,
           1,
           1,
           1,
           1,
           1,
           1,
           1,
           1,
           1,
           1,
           1,
           1,
           1,
           1,
           1,
           1,
           1,
           1,
           1,
           1,
           1,
           1,
           1,
           1,
           1,
           1,
           1,
           1,
           1,
           1,
           1,
           1,
           1,
           1,
           1,
           1,
           1,
           1,
           1,
           1,
           1,
           1,
           1,
           1,
           1,
           1,
           1,
           1,
           1,
           1,
           1,
           1,
           1,
           1,
           1,
           1,
           1,
           1,
           1,
           1,
           1,
           1,
           1,
           1,
           1,
           1,
           1,
           1,
           1,
           1,
           1,
           1,
           1,
           1,
           1,
           1,
           1,
           1,
           1,
           1,
           1,
           1,
           1,
           1,
           1,
           1,
           1,
           1,
           1,
           1,
           1,
           1,
           1,
           1,
           1,
           1,
           1,
           1,
           1,
           1,
           1,
           1,
           1,
           1,
           1,
           1,
           1,
           1,
           1,
           1,
           1,
           1,
           1,
           1,
           1,
           1,
           1,
           1,
           1,
           1,
           1,
           1,
           1,
           1,
           1,
           1,
           1,
           1,
           1,
           1,
           1,
           1,
           1,
           1,
           1,
           1,
           1,
           1,
           1,
           1,
           1,
           1,
           1,
           1,
           1
          ],
          "coloraxis": "coloraxis",
          "symbol": "circle"
         },
         "mode": "markers",
         "name": "1",
         "scene": "scene",
         "showlegend": true,
         "type": "scatter3d",
         "x": [
          -0.3357667788775343,
          -0.3190853915560137,
          -0.3887450865824849,
          -0.2550030985217202,
          -0.30833260055645917,
          -0.26366347524062667,
          -0.23772583773782416,
          -0.3354259828606137,
          -0.3279943020021651,
          -0.3342614808235963,
          -0.3357627114792302,
          -0.3357469744998666,
          0.6135645230416797,
          -0.3647075722006168,
          -0.34576779849777556,
          -0.2824988343322098,
          -0.3338234992842274,
          -0.3238744920568285,
          -0.38863965176802034,
          -0.4315892046749954,
          -0.03069483936873717,
          -0.27160043515700755,
          -0.2908485090045438,
          -0.27640398396840254,
          -0.2770269664799226,
          -0.34290499741598307,
          -0.3300632025294052,
          -0.3341668266154646,
          0.022819971149395525,
          -0.3437858233481856,
          -0.38901162020034485,
          -0.24482612297137954,
          -0.3055386987100119,
          -0.3889231797584271,
          -0.3109728240031836,
          -0.3344428288160075,
          -0.29272113340474054,
          -0.3888875982497231,
          -0.24529414575804934,
          -0.27680755745427393,
          -0.32686181008012527,
          -0.12815084692705161,
          -0.34135542892515336,
          -0.307543472057252,
          -0.3641284029559801,
          -0.2908286957608967,
          -0.27710248265742327,
          -0.28547757184723777,
          -0.3357488251215741,
          -0.2770546027125307,
          -0.34423128042312817,
          -0.3354829360429517,
          -0.38899312613019904,
          -0.45894574493447304,
          -0.4226295789200501,
          -0.37593668536126745,
          -0.28922854365253864,
          -0.2765757643664102,
          -0.3008829856053869,
          -0.2401693555595093,
          -0.07864778114244268,
          -0.30830347834867533,
          -0.06613929145671119,
          -0.30836721771638487,
          -0.23252522918722615,
          -0.33535872755543306,
          -0.2890977866023498,
          -0.38615995280315973,
          0.8634505283594122,
          -0.30816711991820683,
          -0.11800028499530084,
          -0.34545073807987753,
          -0.3868336645103141,
          -0.30690964666741877,
          -0.30457588298175664,
          -0.35403500455771625,
          -0.3877271605414353,
          -0.34848411556402337,
          -0.3116315505126865,
          -0.33539687955806496,
          -0.33383410806911373,
          -0.23112668239035036,
          -0.33170842473119266,
          -0.3884665270994677,
          -0.3346002528113328,
          -0.30834817735836384,
          -0.38898231323451765,
          -0.33558620719611476,
          -0.33574305105083607,
          -0.289086692330405,
          -0.24898912199541073,
          0.03845247321945524,
          -0.3444066818817441,
          -0.3353567283278162,
          -0.3751319671078966,
          -0.3437343850840336,
          -0.23255847486989234,
          -0.40893011810108765,
          -0.34348379247029576,
          -0.2764271320555866,
          -0.3885744304137321,
          0.8565168107726033,
          -0.3889371695390656,
          -0.3448709365938339,
          -0.3352843084127476,
          -0.33543883666881474,
          -0.34545073807987753,
          -0.3885117144848364,
          -0.308210676627587,
          -0.3352850286062306,
          -0.36188411594639913,
          -0.33543258750839317,
          -0.3310170000250208,
          -0.38896620287458333,
          -0.33464265655326,
          0.35312521156237925,
          -0.33563206643890564,
          -0.33570269637627154,
          -0.3522722214232762,
          -0.3487710521997268,
          -0.33192625658799607,
          -0.3083245617374091,
          -0.3888760554831248,
          -0.3354802816349369,
          -0.3356073983362851,
          -0.29073525421724394,
          -0.29598740581946487,
          -0.23232607637443445,
          -0.3164400634878126,
          -0.2904760015771606,
          -0.38814115957277556,
          -0.41687398130161235,
          -0.38687799203301143,
          -0.34369538242092984,
          -0.3880389178699556,
          -0.338089199407717,
          -0.38397605543843144,
          -0.33555061222543453,
          -0.335549823320497,
          -0.32866590429778164,
          0.269437941038022,
          -0.38851781171297384,
          -0.2733616121752662,
          -0.34548510486958667,
          -0.3347605704725838,
          0.895346284150642,
          -0.26235282037863,
          -0.3472611472562883,
          0.5850228414147286,
          -0.35557232286985846,
          -0.3540730187572213,
          -0.4098082484329738,
          -0.27673936530877624,
          0.12960839541633948,
          -0.2768101923612561,
          -0.34486656850720987,
          -0.4093125185323108,
          -0.38879044321549644,
          -0.29080943601556863,
          -0.3453513076452235,
          -0.33518543596197975,
          -0.3356856074812122,
          -0.3131288642509308,
          0.6545674802171171,
          -0.3887312497999988,
          -0.33789921031620096,
          -0.33564120205664805,
          -0.31149296983223074,
          0.4343563786820108,
          -0.30666901321859463,
          -0.3403237982484762,
          -0.3857791558550758,
          -0.33559149485085904,
          -0.3953182459311068,
          -0.350512503074459,
          -0.3354617144856782,
          -0.08995844046057008,
          -0.3875227527752455,
          0.20452566593460744,
          -0.2734774787350899,
          -0.33291941462175506,
          -0.3107300520817904,
          -0.3521579983842703,
          0.07904845002632657,
          -0.3345995800119216,
          -0.38810433468654765,
          -0.3513219961204617,
          -0.32215213150300825,
          -0.33570776588429135,
          -0.3442031780118484,
          -0.348766356996316,
          -0.2733896015404709,
          -0.2925741323718298,
          -0.33124816613046737,
          -0.2241139800274363,
          -0.36614539283268993,
          -0.3888077559393785,
          -0.3354540360319385,
          -0.28996869380971824,
          -0.32674408315360187,
          -0.3551709042156957,
          -0.335735151605826,
          -0.3357168458416637,
          -0.28434426193985757,
          -0.3423173899850624,
          -0.344945340110492,
          -0.33543307902880676,
          -0.3939846195839928,
          -0.34513421962137397,
          -0.3143663504929544,
          -0.28225217383340107,
          -0.32253154159958,
          -0.29050329150713305,
          -0.13863427443451168,
          -0.290755716028024,
          -0.3418013188377254,
          -0.3349066177090244,
          -0.19490691097887305,
          -0.3478624769020929,
          -0.2624804082624272,
          1.0193661573968318,
          -0.35830775614654325,
          -0.3522716742925239,
          -0.3970039081239129,
          -0.1713889305285608,
          -0.35602681656191904,
          -0.3509898516379992,
          -0.328605921197553,
          -0.343780161694904,
          -0.3882805126381946,
          -0.2879984148495659,
          -0.344233283856504,
          -0.34402336152455254,
          -0.3436415007846391,
          -0.19509579774424987,
          -0.2762713324796249,
          -0.2908415245209565,
          0.4559339808285665,
          -0.13389503389962457,
          -0.3962978060342763,
          -0.3354370313959574,
          -0.3967543875112782,
          -0.3523887736354847,
          0.571979977100294,
          -0.3442575565997306,
          -0.33491949565339285,
          -0.3299040676631025,
          -0.29647931466689653,
          -0.3858432230960761,
          -0.3885079723904797,
          0.09992976458941703,
          -0.38604448571904354,
          -0.334304561540688,
          -0.3351301543279874,
          -0.26369617029051323,
          -0.3356489712671226,
          -0.380126803306365,
          -0.24927552793646937,
          -0.08771850472970871,
          -0.37587135180912157,
          -0.33492644089076035,
          -0.3279832942663299,
          -0.3850728519823853,
          -0.3333641198715605,
          -0.3457266782564009,
          -0.36371009139721555,
          -0.30684606642988405,
          -0.097828373666583,
          -0.33055583069370287,
          -0.3425305560840557,
          -0.2772097851149582,
          -0.2445721699498165,
          -0.3456624643204235,
          -0.32969173675233393,
          -0.33381045392461883,
          -0.2911525508229962
         ],
         "y": [
          0.9823215849155886,
          0.9823001446175911,
          1.2576597533313538,
          1.704909974880763,
          0.7904607083811569,
          0.5459944968763013,
          1.8207095145146983,
          0.9823170321006696,
          0.9824844732328452,
          0.9823531315711111,
          0.9823213214701756,
          0.9823213025556186,
          0.3894347310878186,
          0.9169212422335181,
          1.45137646372917,
          0.20007822809430117,
          0.9822786186756182,
          1.0136256231761784,
          1.2576619629354167,
          2.555252868894055,
          0.7433060260435385,
          0.7895586254493385,
          0.7378426847539397,
          1.7915815734319098,
          1.7915685175481346,
          0.5445011226291782,
          0.9821481941962361,
          0.9822867670218307,
          0.9898365100756974,
          1.013208340150807,
          1.2576695103508369,
          0.09583193341244796,
          1.4435731928765632,
          1.2576643901916666,
          0.9817253040574786,
          0.982279587964607,
          0.23511840342233864,
          1.2576682743144219,
          0.09589186811458913,
          1.7915731157169197,
          0.9818107760855441,
          0.8261178740466819,
          1.4215878062342888,
          0.7904451643776845,
          0.9169364346670288,
          0.7378543844125204,
          1.791558565780618,
          0.7376178128278315,
          0.9823219612028742,
          1.7915609640653458,
          1.0131850560617608,
          0.9823135848400225,
          1.2576698986296624,
          3.545406141326197,
          1.9004612856192733,
          1.2647181573258819,
          0.7378181758159597,
          1.7915431018766816,
          0.7899347430582401,
          1.8208840653192622,
          0.9848600107064015,
          0.7904613186971017,
          1.2459191776818226,
          0.7904680033619504,
          1.5005533124657935,
          0.9823008444063849,
          0.7377364902594427,
          1.2574614601745842,
          0.6929990325548173,
          0.7904516226139924,
          0.4005027940047302,
          1.451369159767302,
          1.2576628472891003,
          0.7903505375077816,
          0.7901886304297321,
          1.4979440556649448,
          1.257599486661914,
          1.4392360273013918,
          0.9814325267437156,
          0.9822984175140383,
          0.9822923449636822,
          1.5469819957518538,
          1.0130032348854459,
          1.2576460630561581,
          0.9822832631285298,
          0.790461079367989,
          1.2576680329436432,
          0.9823107231491016,
          0.9823220822104387,
          0.7378908916882546,
          0.2430713399634198,
          1.9113849832779208,
          1.451353378852874,
          0.982330178400105,
          1.2569142415354213,
          1.45139118093936,
          1.5470897320933517,
          1.8906661991095703,
          1.4512144031010774,
          1.913499732599487,
          1.2576577503366353,
          1.8147314497389075,
          1.257668383886494,
          1.4513603877780472,
          0.9823048171237985,
          0.9822991655546447,
          1.451369159767302,
          1.2576381417527545,
          0.7904646584103256,
          0.9823086657975778,
          0.9131533986056138,
          0.9823090605506203,
          0.9819673361181465,
          1.2576669757077683,
          0.9822447132046328,
          0.7286728608601993,
          0.9823153415208743,
          0.9823206153923517,
          1.3829199934636878,
          0.6393257042557943,
          0.9820533555867027,
          0.7904615742820464,
          1.2576658283184055,
          0.9823136404686186,
          0.9823096281098119,
          0.7378179839759869,
          0.22082518077246743,
          1.547086216067342,
          0.9820291852860172,
          0.7378377657972466,
          1.257618010261335,
          1.913186155982719,
          1.2576375082345947,
          1.4513429758139866,
          1.2576201529471474,
          1.4512584122737036,
          1.2574263262705385,
          0.9823113211754171,
          0.9823061851738029,
          0.9817729675692686,
          0.5048681408633391,
          1.2576519625897982,
          0.736825581480762,
          1.4513614652318034,
          0.9822694418784155,
          1.781930702543771,
          0.5458911373444736,
          1.4392152779736782,
          1.9446797720471487,
          1.4979676324562958,
          1.497922336073411,
          1.936286387290539,
          1.7915536218984554,
          0.9572029392205494,
          1.7915598803179151,
          1.4852946017497337,
          1.9362967763333252,
          1.2576675156041728,
          0.7378426486346917,
          1.451342230438161,
          0.9823001157515495,
          0.9823203568493717,
          1.7061392410254261,
          1.33164979437267,
          1.2576565561554254,
          0.5443296861986096,
          0.9823132437543947,
          0.6663265580004168,
          0.9810253332195765,
          0.7904411726794432,
          1.4974572540344895,
          1.688862804438734,
          0.9823106123353877,
          1.6272978212800076,
          1.4438114580171166,
          0.9823176643986518,
          0.5433666844614384,
          1.2576002832940993,
          1.4887896900752833,
          1.7914964439077117,
          0.982234796858223,
          1.2534860682095648,
          1.3829189000888589,
          0.9561433512569794,
          0.9822414313773143,
          1.2576536535453933,
          1.3828666771558233,
          0.9819792202016435,
          0.9823200319604914,
          1.013184947574914,
          1.439236040512141,
          -0.1078729818497005,
          0.2125209267343877,
          0.9822544778394925,
          1.546710502886303,
          1.030565191879035,
          1.257656347673142,
          1.7554309420780394,
          0.737785926102,
          1.5289981718145085,
          1.4979481477782657,
          0.9823201554670504,
          0.9823191442404005,
          0.7376415636750207,
          1.2982651576905344,
          1.4513323261264839,
          0.9823076553880924,
          1.627325770171455,
          1.4513339472134807,
          0.6641303461347018,
          0.9798708870942675,
          1.7625035934556623,
          0.7378430707278348,
          0.9793391085809966,
          0.7378252268958996,
          1.9172948545342778,
          0.9822810272051631,
          1.576379234710429,
          1.3825695401667037,
          0.5459580824161613,
          1.7552272185633344,
          0.9085922479673809,
          1.3829158203448302,
          1.6273983884552106,
          0.7285848583232983,
          0.9107823533609452,
          1.382887586545723,
          0.9817742246388824,
          1.0131701001055755,
          1.257649961372952,
          0.7377323667665422,
          1.4512621621703632,
          0.7650048542810046,
          1.0131416216426787,
          0.9727158802318661,
          2.28186156688162,
          1.5109638928295326,
          1.9463276659476678,
          1.017607034659837,
          1.6273791174815404,
          0.9823138494357515,
          1.6273939338477412,
          1.3829186876839157,
          0.9491774632237985,
          1.0131847146195263,
          0.982280757321271,
          1.7552403835402512,
          1.9148272594590332,
          1.2574429903883582,
          1.2576591431016193,
          0.967042425061739,
          1.2577316934726839,
          0.9822127425554222,
          0.9822970868344094,
          0.5459878835218371,
          0.9823240538463988,
          1.257506995290183,
          0.9768111635993523,
          0.7949669635149845,
          1.2572474616295763,
          0.9823287344982757,
          0.9822057315818913,
          1.2576069904449698,
          0.9822603486848583,
          1.4513710486109948,
          0.7505415173118022,
          0.7904339750098709,
          0.734918633568542,
          0.9822215618589649,
          0.5444696360134673,
          1.79156460251477,
          0.5457058815988022,
          1.4513726495085515,
          1.571931452759519,
          0.9821882260572918,
          0.7378468999307114
         ],
         "z": [
          -0.5813680889341539,
          -0.5817207363499338,
          -0.5242749067855212,
          -0.11389481118914437,
          -0.48219746737111246,
          -0.17323983296209922,
          -0.6887705518975453,
          -0.5813742023739391,
          -0.5815782394567348,
          -0.5814087888585715,
          -0.5813681064526888,
          -0.5813684394830125,
          -0.11788500066441313,
          -0.4161060212163482,
          -0.10907833178587638,
          -0.3370877365442849,
          -0.5813984398703083,
          -0.2158657868099901,
          -0.5242777575087746,
          -0.7033067135580434,
          -0.2794494115765594,
          -0.4827473206155914,
          -0.27241244196666536,
          -0.7013541826288165,
          -0.701337338565127,
          -0.3782166002219906,
          -0.5814446323530637,
          -0.5813932254183684,
          -0.5910634783694224,
          -0.21532742862783438,
          -0.5242717684801377,
          0.07312455985456634,
          -0.2836865321554235,
          -0.5242723106451772,
          -0.5817425819367047,
          -0.5813853930811602,
          -0.32198605762587046,
          -0.524274104854027,
          0.07311872162100026,
          -0.7013432708979515,
          -0.581423934219388,
          0.29505670400983863,
          -0.11419262724531941,
          -0.48221029708937174,
          -0.4161224906394268,
          -0.2724159697641952,
          -0.7013330776717331,
          -0.2724681896198544,
          -0.5813685743716149,
          -0.7013347420897269,
          -0.21531168595164807,
          -0.5813720649157753,
          -0.5242722687036508,
          -0.5587925994084423,
          -0.5842845782542917,
          -0.09801367030105797,
          -0.2724407417934325,
          -0.7013402918031143,
          -0.48221803146908354,
          -0.6887643452926024,
          -0.5093408030804984,
          -0.482198254770941,
          -0.5280917526272969,
          -0.4821986580409773,
          -0.5852134172623404,
          -0.5813713548807656,
          -0.272421891478925,
          -0.5242778601021885,
          -0.2853175116403095,
          -0.4821986129446245,
          -0.10510500089546741,
          -0.10908320588941703,
          -0.5243167863526546,
          -0.4821988217527423,
          -0.48220602324406187,
          -0.5819114194888134,
          -0.5242807929846491,
          -0.13555388456211845,
          -0.5816508013130605,
          -0.5813698918430221,
          -0.5814018515384045,
          -0.3923742501041908,
          -0.21553247874207832,
          -0.5242772605068506,
          -0.5813829859389494,
          -0.4821972311342838,
          -0.5242720062844264,
          -0.5813690877678179,
          -0.5813687304896655,
          -0.2724630696685874,
          -0.37327791633179164,
          -0.876573103979842,
          -0.109101448884119,
          -0.5813791757982113,
          -0.5243696557068379,
          -0.1091259137757985,
          -0.3923720603396653,
          -0.6023964851362801,
          -0.10908442372037519,
          -0.8703699154373656,
          -0.5242780415469288,
          -0.7318286585973033,
          -0.5242730690679894,
          -0.10909333467494553,
          -0.5813740068506772,
          -0.5813691889082335,
          -0.10908320588941703,
          -0.5242741894872545,
          -0.4822011337740078,
          -0.5813750118644297,
          -0.25589300121519476,
          -0.5813719468259111,
          -0.5813761889470744,
          -0.5242720720221755,
          -0.5813718534695121,
          -0.28381422253255206,
          -0.5813693272381626,
          -0.5813692084171639,
          -0.2985853177161537,
          -0.42888497648267515,
          -0.581379465484173,
          -0.48219786964823236,
          -0.5242737042426814,
          -0.5813721366850736,
          -0.581368342209557,
          -0.2724083253243119,
          -0.18179009079657654,
          -0.39237612020252205,
          -0.5817057151042632,
          -0.2724191395149746,
          -0.5242768114570444,
          -0.7404762359601841,
          -0.5243091154492341,
          -0.10911396989716482,
          -0.5242795758456457,
          -0.10921197393221915,
          -0.5243154565020031,
          -0.581370010950241,
          -0.5813686660747083,
          -0.5813751555179926,
          -0.17378662519215463,
          -0.5242777231378268,
          -0.27251839030807307,
          -0.10908042743469933,
          -0.5813758774258365,
          -0.7028277524156646,
          -0.17324058109384924,
          -0.13557465337666344,
          -0.7752305171318425,
          -0.5818846478398134,
          -0.5819048439101532,
          -0.773440544461052,
          -0.7013395669030132,
          -0.5847045350196893,
          -0.7013397049028255,
          -0.23952955724669198,
          -0.7734539478967264,
          -0.5242759906645976,
          -0.27241327171521773,
          -0.10907820138139401,
          -0.581374884147633,
          -0.5813695069499494,
          -0.11297215602665277,
          -0.22769591051613017,
          -0.5242743562748761,
          -0.37827867263587456,
          -0.5813685747689095,
          -0.15257891038888802,
          -0.5975673763521174,
          -0.4822280229047779,
          -0.5820768729722137,
          -0.5920983862144901,
          -0.5813689448013755,
          -0.607554382775825,
          -0.14141734643897255,
          -0.5813736024792054,
          -0.17627441519542214,
          -0.52428539509021,
          -0.591482543810582,
          -0.7013944745177497,
          -0.5814062410345667,
          -0.2729266619504234,
          -0.2985874814269595,
          -0.5833375063719424,
          -0.581371908611708,
          -0.5242870533853959,
          -0.2985915925413043,
          -0.5815697660000033,
          -0.5813689448209971,
          -0.2153122608531395,
          -0.1355478252456317,
          0.13338035538921683,
          -0.23778889636255032,
          -0.5814473595258355,
          -0.3924529028209391,
          -0.3879846493423309,
          -0.5242726575693683,
          -0.4840350701866854,
          -0.2724162915694943,
          -0.11102391212720533,
          -0.581888104296652,
          -0.5813683892972047,
          -0.5813685143938091,
          -0.2724988318030728,
          -0.12945708565066263,
          -0.10908429580752521,
          -0.5813715636856824,
          -0.6075904410707427,
          -0.10908066832741717,
          -0.08593414606798785,
          -0.5818678266387411,
          -0.0577800622594568,
          -0.2724199599147044,
          -0.5848118759997102,
          -0.2724098062607314,
          -0.8699718994013775,
          -0.5813758120642674,
          -0.37980921601685136,
          -0.2985871198474603,
          -0.17325559101357574,
          -0.08576839343369716,
          -0.39490626988128685,
          -0.2985842229575295,
          -0.6075448387239563,
          -0.2725238166504682,
          -0.461536688849688,
          -0.29860427149661656,
          -0.5813767773278212,
          -0.21531741081464334,
          -0.5242822899248115,
          -0.2724444136959382,
          -0.10908098734031477,
          -0.5771537487839246,
          -0.2153128382590578,
          -0.5818428644186568,
          0.009115780200557493,
          -0.17507599752876032,
          -0.1451107685266628,
          -0.2210024094819687,
          -0.6075548967402815,
          -0.581373121150188,
          -0.6075490175195638,
          -0.2985824678314019,
          -0.5920791326983283,
          -0.21531103097977394,
          -0.5813754638732492,
          -0.484103761873093,
          -0.8702911717602696,
          -0.5242797664591786,
          -0.5242798384242979,
          -0.5866759703086561,
          -0.5243519933924903,
          -0.5813706389908365,
          -0.5813752685267237,
          -0.17323737709546982,
          -0.5813712741980999,
          -0.5244195317318388,
          -0.5817649046085471,
          -0.4881313151659941,
          -0.5244421270384555,
          -0.5813880359354334,
          -0.5815045669598442,
          -0.5243397997478334,
          -0.581403463457347,
          -0.10907777925815317,
          -0.08178478922519618,
          -0.4822223111525964,
          -0.27578338291569854,
          -0.5814535038179396,
          -0.37821629483999286,
          -0.701332373364174,
          -0.17357340572442773,
          -0.10907958311715758,
          0.1425896583433107,
          -0.5813747522983354,
          -0.27240702851717846
         ]
        },
        {
         "hovertemplate": "class=%{marker.color}<br>PC 1=%{x}<br>PC 2=%{y}<br>PC 3=%{z}<extra></extra>",
         "legendgroup": "5",
         "marker": {
          "color": [
           5,
           5,
           5,
           5,
           5,
           5,
           5,
           5,
           5,
           5,
           5,
           5,
           5,
           5,
           5
          ],
          "coloraxis": "coloraxis",
          "symbol": "diamond"
         },
         "mode": "markers",
         "name": "5",
         "scene": "scene",
         "showlegend": true,
         "type": "scatter3d",
         "x": [
          2.3098167034099713,
          2.5554982927289123,
          3.864799952828006,
          3.7236659229017484,
          3.244545466387664,
          3.728526845838476,
          8.049313926200343,
          3.917957461240905,
          2.2309396267751365,
          3.1075648372667337,
          3.7407822709606586,
          3.7240581206434986,
          3.7339388112660328,
          3.7351844863494215,
          2.4771947892908335
         ],
         "y": [
          1.6266767993722404,
          -1.3584469778069224,
          -2.3529025028038943,
          2.094794119036662,
          -1.2156792959877598,
          2.0946344531356815,
          -2.8339849471882186,
          2.197872983245262,
          0.15078407601008412,
          -2.268617081991741,
          2.094542575426766,
          2.0947779851800066,
          2.0950965874623555,
          2.095122693153624,
          0.8850159803478462
         ],
         "z": [
          -0.713183849272852,
          0.015010370839742895,
          0.4360692544552466,
          -0.028881845891918678,
          -0.03764619055482413,
          -0.028943927464730686,
          0.4737418954194168,
          -0.04668267542867187,
          -0.21329142429346518,
          0.30277632196694626,
          -0.029182824293079546,
          -0.028885992752187267,
          -0.029182717643877438,
          -0.02921639793193227,
          -0.11699397888833483
         ]
        },
        {
         "hovertemplate": "class=%{marker.color}<br>PC 1=%{x}<br>PC 2=%{y}<br>PC 3=%{z}<extra></extra>",
         "legendgroup": "0",
         "marker": {
          "color": [
           0,
           0,
           0,
           0,
           0,
           0,
           0,
           0,
           0,
           0,
           0,
           0,
           0,
           0,
           0,
           0,
           0,
           0,
           0,
           0,
           0,
           0,
           0,
           0,
           0,
           0,
           0,
           0,
           0,
           0,
           0,
           0,
           0,
           0,
           0,
           0,
           0,
           0,
           0,
           0,
           0,
           0,
           0,
           0,
           0,
           0,
           0,
           0,
           0,
           0,
           0,
           0,
           0,
           0,
           0,
           0,
           0,
           0,
           0,
           0,
           0,
           0,
           0,
           0,
           0,
           0,
           0,
           0,
           0,
           0,
           0,
           0,
           0,
           0,
           0,
           0,
           0,
           0,
           0,
           0,
           0,
           0,
           0,
           0,
           0,
           0,
           0,
           0,
           0,
           0,
           0,
           0,
           0,
           0,
           0,
           0,
           0,
           0,
           0,
           0,
           0,
           0,
           0,
           0,
           0,
           0,
           0,
           0,
           0,
           0,
           0,
           0,
           0,
           0,
           0,
           0,
           0,
           0,
           0,
           0,
           0,
           0,
           0,
           0,
           0,
           0,
           0,
           0,
           0,
           0,
           0,
           0,
           0,
           0,
           0,
           0,
           0,
           0,
           0,
           0,
           0,
           0,
           0,
           0,
           0,
           0,
           0,
           0,
           0,
           0,
           0,
           0,
           0,
           0,
           0,
           0,
           0,
           0,
           0,
           0,
           0,
           0,
           0,
           0,
           0,
           0,
           0,
           0,
           0,
           0,
           0,
           0,
           0,
           0,
           0,
           0,
           0,
           0,
           0,
           0,
           0,
           0,
           0,
           0,
           0,
           0,
           0,
           0,
           0,
           0,
           0,
           0,
           0,
           0,
           0,
           0,
           0,
           0,
           0,
           0,
           0,
           0,
           0,
           0,
           0,
           0,
           0,
           0,
           0,
           0,
           0,
           0,
           0,
           0,
           0,
           0,
           0,
           0,
           0,
           0,
           0,
           0,
           0,
           0,
           0,
           0,
           0,
           0,
           0,
           0,
           0,
           0,
           0,
           0
          ],
          "coloraxis": "coloraxis",
          "symbol": "square"
         },
         "mode": "markers",
         "name": "0",
         "scene": "scene",
         "showlegend": true,
         "type": "scatter3d",
         "x": [
          -0.14125871947216712,
          -0.14983179174489358,
          -0.1675222698804856,
          -0.15233892840352006,
          -0.1482724700381986,
          -0.15011741450371238,
          0.1642648781906438,
          -0.16866977530486404,
          -0.22185590672133745,
          -0.16828595760631312,
          -0.08940527727546749,
          -0.13834040226284572,
          -0.16553843297480855,
          -0.16808984680193287,
          -0.22530810585426594,
          -0.19669957493705,
          -0.16813852360101203,
          -0.16865201882581493,
          -0.16873856018150787,
          -0.2219453563852833,
          0.18805762375176852,
          0.23700396751584266,
          0.08026662103925054,
          -0.1684845569503438,
          -0.16408513602765898,
          -0.16842380682232302,
          -0.1687956297308864,
          -0.1711574118885389,
          -0.14799585093441772,
          -0.16758938393331094,
          -0.16786719032887362,
          1.5820592159872053,
          -0.14122003989645437,
          -0.16515372514392002,
          -0.16851102908229448,
          -0.16886623675509974,
          -0.16812466946054597,
          -0.14598150805420207,
          -0.16874737859368955,
          -0.03352631096444509,
          -0.14129774889408883,
          -0.16240424029067949,
          -0.16872682701765618,
          -0.16681943406144745,
          -0.1682130098025566,
          -0.12843613926047517,
          -0.14076091499098048,
          -0.14104846918163416,
          -0.14103154686437563,
          -0.14162276261557424,
          -0.2221194172103095,
          -0.1684429627920891,
          -0.188463004150459,
          -0.16554319931807235,
          -0.14082828908602585,
          0.4599790203782894,
          -0.16730936754547668,
          -0.15189346853001218,
          -0.16602674432506678,
          -0.16886845271513642,
          -0.16589159327239664,
          -0.15210028216294993,
          -0.12782388004303802,
          -0.12344898603899124,
          -0.182744796899695,
          -0.16874137156082594,
          -0.041548241341374026,
          -0.11935063196461651,
          -0.1688773504957016,
          -0.14132556167279503,
          0.4838296220499973,
          -0.22150592500256455,
          -0.1512340378276881,
          -0.14106519247058047,
          -0.2217911492515873,
          -0.16699938340979403,
          -0.1661907198213563,
          -0.1509006558973488,
          0.3762649340569876,
          -0.2218265758638795,
          -0.1412211636724273,
          -0.16483071256889698,
          -0.1444625039507597,
          -0.16743913102303393,
          0.27772865696593646,
          -0.2209864376494836,
          -0.15176127963098604,
          -0.16768712581829176,
          -0.14996106417421337,
          -0.16866705394761664,
          -0.22178979984162253,
          -0.16887740905565174,
          -0.2219399613675306,
          -0.26346123330160875,
          0.3047169762954113,
          -0.14148154489106035,
          -0.10349978105134071,
          -0.1660411253087616,
          -0.14144012475277293,
          -0.16854047061488697,
          -0.1524255985541629,
          -0.15064251348842475,
          -0.15013905902769903,
          -0.09554062054145997,
          -0.2085076728739071,
          -0.21976596808693483,
          0.30471129961726323,
          -0.16885913007765266,
          0.30484216952362353,
          -0.15177499971229838,
          0.493910097859488,
          -0.15110262532158805,
          -0.16882737887833207,
          -0.21466775094870608,
          -0.15015143739497427,
          -0.16695856677377002,
          -0.15149305538953897,
          -0.1461827448442898,
          -0.13972626518050188,
          -0.18835067503414324,
          -0.16838929791034735,
          -0.10777146483909975,
          -0.1682112477768263,
          -0.1509599367300508,
          -0.14797005479037692,
          -0.02454788992899842,
          -0.15223540354941878,
          0.3408731877715193,
          -0.22099489060896407,
          -0.1685307542552715,
          -0.16829400401472744,
          -0.22138995033359055,
          -0.22196801099293967,
          0.3051066886128635,
          -0.15512366805862565,
          -0.1169140165980899,
          -0.21283183290325833,
          -0.1412578826271628,
          -0.09438841401715292,
          1.5803620817568456,
          -0.1686287283605225,
          -0.16807986967199387,
          -0.16778051362624796,
          -0.1677674279408067,
          0.3052904253899686,
          0.0623807282506248,
          -0.17630240428392022,
          -0.17585116594055977,
          -0.14999730519123003,
          -0.15051918368417033,
          -0.1669567736523559,
          -0.21750778636355686,
          -0.1756964363133915,
          -0.149006412538,
          -0.17579672850506467,
          -0.1136704004488973,
          1.1434593014850074,
          0.3046940733404268,
          -0.07382986062838472,
          -0.21724964292343502,
          -0.14006089736181315,
          -0.08492558753631424,
          1.0945378099366327,
          -0.22194197929698029,
          -0.17584870316267304,
          -0.16887918706719504,
          -0.1678789116746357,
          -0.2218673017016284,
          -0.14123725129086123,
          -0.19923383625028154,
          -0.14915868724522838,
          0.30857244036338305,
          0.024377839043256896,
          -0.15002159566046003,
          -0.17400579959470844,
          -0.16845329243725968,
          0.13895723273228053,
          -0.21600222168389743,
          -0.10200425949319047,
          0.31262426137834914,
          -0.1686905463643962,
          -0.16051364268464738,
          -0.14898726340621035,
          -0.15020714563611193,
          -0.22103571493370788,
          0.3048768062037494,
          -0.1884101286297118,
          -0.15162009124392273,
          -0.1493826958844127,
          -0.15251004898168302,
          0.3088082355191078,
          0.5823637225108627,
          2.1150988614935486,
          -0.14548285852655607,
          0.318496051622881,
          -0.1922115724461848,
          -0.15901045478424683,
          -0.22192412049065185,
          -0.1687151628870458,
          -0.13994292674558567,
          -0.14710917615771602,
          -0.16733711965278056,
          -0.10104088982674365,
          -0.22189546194452067,
          -0.19163880602231168,
          -0.044632841226148114,
          -0.15190726060809495,
          -0.1412579202404297,
          0.3847137356314348,
          -0.14555575905301377,
          -0.1459480369657321,
          -0.27171881936838893,
          -0.15423474553195202,
          -0.1676063507058694,
          -0.14805568270012115,
          -0.14982994159127733,
          -0.1819550731395465,
          -0.1405332732974134,
          -0.11030568779336887,
          -0.13940009048545235,
          0.5277862450654969,
          -0.10093126293185753,
          -0.0963718505021588,
          -0.15225105998989952,
          -0.1410478388311601,
          0.5477187267082986,
          -0.19626008067913311,
          -0.1687920465284532,
          -0.16674569951027282,
          -0.12418481564504738,
          -0.12966348008808345,
          -0.1506757089583667,
          0.3264746280099413,
          -0.15011847279732377
         ],
         "y": [
          -1.339584756354776,
          -1.9934210138264439,
          -1.147758628490489,
          -2.167252072049355,
          -1.9935347955020197,
          -2.016245664907861,
          -1.7983095947399446,
          -1.1477387386903453,
          -0.8723888847688953,
          -1.147760684525268,
          -1.7903745899966101,
          -1.3396273716307041,
          -1.147832826616779,
          -1.1477816821294444,
          -0.5027195847719615,
          -1.2131608730460233,
          -1.1477465516214131,
          -1.1477383665666947,
          -1.1477346984128465,
          -0.8723893645094387,
          -1.7947108885341962,
          -1.3462888832148336,
          -1.1519224333886344,
          -1.147734857057611,
          -1.1478370965774227,
          -1.1477412556527187,
          -1.1477345663842298,
          -1.5856787998708233,
          -1.1482816048791775,
          -1.147750270971992,
          -1.1477576591986052,
          -1.1742211899645765,
          -1.339583945744465,
          -1.1478355192121905,
          -1.1477347144048973,
          -1.1477291514291053,
          -1.1477419609206851,
          -2.2336216950681567,
          -1.1477326932879914,
          -1.1553533453176705,
          -1.3395855742968283,
          -1.14782781962719,
          -1.1477399343266876,
          -1.1478596726373245,
          -1.1477502286386407,
          -1.339920705281369,
          -1.339592465383873,
          -1.3395949961740665,
          -1.3396211439043693,
          -1.339577913939705,
          -0.8723804585577897,
          -1.147735380227917,
          -1.2192755103559556,
          -1.1478436814470165,
          -1.339592474138475,
          -2.302578573950377,
          -1.1477688964224155,
          -1.148544194354779,
          -1.1477847452052843,
          -1.1477300891857483,
          -1.1477774590427312,
          -1.1480742755818192,
          -2.0638267531719654,
          -1.789693184443936,
          -1.490687430969908,
          -1.1477279443641422,
          -1.152034307158799,
          -2.1677197082259796,
          -1.147728874851888,
          -1.3395861571709848,
          -1.1982132600057127,
          -0.8723906167810218,
          -2.1301920169457853,
          -1.339603548431906,
          -0.8723882250733699,
          -1.1478357139964923,
          -1.147846496633352,
          -1.9934552051227497,
          -2.1825921808176156,
          -0.8723854803568581,
          -1.3395839692955083,
          -1.1477900976415312,
          -2.3154008269617483,
          -1.1477568861442045,
          -1.345872200324094,
          -0.872415298825255,
          -2.220226272613635,
          -1.1478209125857852,
          -2.0452643409676177,
          -1.1477379842278381,
          -0.8723909865171079,
          -1.1477288739659164,
          -0.8723941334616749,
          -1.4135286891548167,
          -2.29886507618751,
          -1.33958157026001,
          -1.7901120247194267,
          -1.147808490029123,
          -1.3395813315060228,
          -1.1477423057214715,
          -2.1797945559267053,
          -1.9934562807245366,
          -2.016246118513516,
          -1.1531658288541566,
          -0.8724439117994102,
          -0.872490151410353,
          -2.2988728668933827,
          -1.1477299539891657,
          -2.298872913967909,
          -2.1301644448778716,
          -0.9271176680535955,
          -2.1673551874753167,
          -1.1477297389181442,
          -0.8729217243700039,
          -2.016243588204332,
          -1.1477579738225616,
          -2.1301662078929904,
          -2.000507822601104,
          -1.1499072450834404,
          -0.6321021110783056,
          -1.147742987682845,
          -1.3406118929298145,
          -1.147764698273476,
          -2.1672964026733528,
          -2.1536160254503556,
          -2.1912293638640477,
          -2.3842087507002954,
          -2.299495235579113,
          -0.8724266348680905,
          -1.1477346234045993,
          -1.1477685248937277,
          -0.8724070169255729,
          -0.8723904669712466,
          -2.2988875959193837,
          -2.079749833837049,
          -1.3670150354523276,
          -0.8729529920049552,
          -1.3395847388169588,
          -1.1534903974153352,
          -1.1110695217297026,
          -1.147737181036093,
          -1.1477703141444717,
          -1.1477751994145766,
          -1.1477749251770417,
          -2.2989080779230413,
          -2.0264237297736267,
          -0.8726756440623789,
          -1.5855616610372103,
          -2.016243147769427,
          -2.2202883321427542,
          -1.1477579362440034,
          -0.8725279131175219,
          -1.585570972113992,
          -1.9935989969409023,
          -1.5855638678565314,
          -1.7899485583714074,
          -2.3405621484967227,
          -2.298867299743311,
          -1.9988025450829756,
          -0.8726619893595545,
          -2.16769182982381,
          -1.1494562146778449,
          -1.186855135539068,
          -0.8723905491111195,
          -1.5855574248395072,
          -1.5857454336293053,
          -1.1477521540380116,
          -0.8723912158667713,
          -1.3395837247874116,
          -1.0994869243152114,
          -2.1168992443062056,
          -2.2990116394416584,
          -1.150652690135243,
          -2.220238634106603,
          -1.2196811195540396,
          -1.1477474530314253,
          -1.1541147296688423,
          -0.8726009755313856,
          -1.9969519897547876,
          -2.299389819258837,
          -1.1477391739907499,
          -2.0962532543062906,
          -2.0162561543717943,
          -2.179942367904365,
          -0.8724274904260383,
          -2.2988675850411986,
          -0.63208435066548,
          -2.1301725526263002,
          -2.154907554808622,
          -2.179788723763354,
          -2.2991908199738886,
          -2.192987426353054,
          -2.389245091311466,
          -2.290581195853467,
          -2.2992667637804396,
          -1.2214322296189275,
          -2.1799936509922926,
          -0.8723910117600113,
          -1.1477404607252828,
          -2.168212792251845,
          -2.114134699128869,
          -0.374697975760086,
          -1.34019186750412,
          -0.8723932008844608,
          -1.2214745729278014,
          -2.019320846481109,
          -2.1798273522570173,
          -1.3395847396052218,
          -2.302816846032944,
          -2.151687944843054,
          -2.151640447247326,
          -0.1307140881550453,
          -2.1275540394226216,
          -1.1477854980883107,
          -2.016371095844447,
          -2.0162465351213115,
          -1.4907406237644627,
          -1.3395995426601774,
          -0.33848649873411774,
          -1.3396483272851352,
          -1.2015463864822262,
          -1.5867624526804989,
          -2.15546589660157,
          -1.1480774354422456,
          -1.3395949829637717,
          -1.1675822362302541,
          -1.2131663085850382,
          -1.1477301422424577,
          -1.1478107020797557,
          -1.7897105580777726,
          -2.2256203248099853,
          -1.9934557785003488,
          -2.299378683847861,
          -2.016245687086588
         ],
         "z": [
          0.11682557106188221,
          0.42341271231248995,
          0.017639016962688697,
          0.5284327073663967,
          0.4234093860300916,
          0.3802685732676729,
          0.3593019714206965,
          0.017658392667014095,
          0.07475294063307622,
          0.017655966876842018,
          0.36264706833648375,
          0.11677418231442845,
          0.017616076018632815,
          0.01765732178712986,
          -0.008601857851018689,
          0.1829066694675029,
          0.01764905248147272,
          0.017657912571251502,
          0.017658798944442135,
          0.07475498930274556,
          0.35783667543938275,
          0.11047773594602452,
          0.0134203134821893,
          0.017653384774011873,
          0.017585989981871265,
          0.01765377640379918,
          0.01765998984596624,
          0.22074169428055432,
          0.017358238894878964,
          0.017638242623389925,
          0.017646169178172313,
          -0.012927082396780214,
          0.1168245252520401,
          0.01760852606931321,
          0.017653915596370577,
          0.017660070766132862,
          0.01764753764685465,
          0.23554209706897444,
          0.01765845670927018,
          0.016774409626156124,
          0.11682662633077213,
          0.017547422909830895,
          0.0176599352186366,
          0.017650711443369247,
          0.01765162748632756,
          0.11663920720594398,
          0.1168169218052401,
          0.11682376979229386,
          0.11683033941196772,
          0.11683157678000236,
          0.07475636686545424,
          0.017652630010946427,
          0.13747911300055637,
          0.017619056586099222,
          0.11681837138736229,
          0.49586460705001095,
          0.017637166178758115,
          0.0175115896654467,
          0.017613816528804976,
          0.01766036701531007,
          0.01760898141147146,
          0.017391432240062094,
          0.4507415270053001,
          0.3631976840144022,
          0.1701519937270887,
          0.017657068484920227,
          0.016066678289410986,
          0.5541255045172458,
          0.01766023616499624,
          0.11682737832654622,
          0.01702550247288224,
          0.07474588193353801,
          0.41075868835035917,
          0.1168263966744663,
          0.07475137466020146,
          0.0176482242440559,
          0.017633712406467324,
          0.4234447384462116,
          0.4760116684446347,
          0.07475140789060773,
          0.11682455563644664,
          0.017589543818289338,
          0.27287099523108255,
          0.017636769072611014,
          0.10949244579772455,
          0.07474126733961385,
          0.48573499150732175,
          0.017659072990966987,
          0.44561940806284106,
          0.01765813416225333,
          0.07475207787636882,
          0.017660237188003445,
          0.07475613791057435,
          0.34862569638617613,
          0.4982151441528659,
          0.11682951276776014,
          0.36288021217647254,
          0.017620421437839814,
          0.11682855971693198,
          0.017656560883073342,
          0.4779966330117342,
          0.42343947849537855,
          0.38026915848753534,
          0.017526512325171387,
          0.0744807981774546,
          0.07473489779665425,
          0.4982173318159816,
          0.01766013090835963,
          0.4982145330855447,
          0.4107629979419699,
          0.07388904922988702,
          0.5284334916577015,
          0.017659391835295874,
          0.07473981566129093,
          0.3802687534698823,
          0.017626734487337523,
          0.41075740897211005,
          0.25318329597678835,
          0.01761164221130898,
          0.01714165399638681,
          0.017653494370491622,
          0.11637857988860097,
          0.017655426291389043,
          0.528414839650722,
          0.21460227296336976,
          0.48691168396312595,
          0.3770491510101539,
          0.4976055618396733,
          0.07474445469373184,
          0.017654315183265448,
          0.017658218612202004,
          0.07474773921923686,
          0.07475576826580234,
          0.4982127439105921,
          0.42341827694720896,
          0.021103192808425555,
          0.0747086690446667,
          0.11682554843544336,
          0.017587821871423038,
          -0.029635428203617243,
          0.017657097923485757,
          0.01765409322282685,
          0.017648958104977918,
          0.017648604297102022,
          0.49821422791437453,
          0.3784026433239922,
          0.07385044212646802,
          0.22081146104801402,
          0.38026532577858163,
          0.48572476530212244,
          0.01762668600531649,
          0.07469640246456503,
          0.2208106061579679,
          0.4234421749767443,
          0.22081087682210385,
          0.36305534347547397,
          0.4912542158191092,
          0.4982162257111691,
          0.42320704190885533,
          0.07472640790000046,
          0.528285566095404,
          0.016314878884435786,
          0.07911878778853806,
          0.07475523085932433,
          0.22081028490814475,
          0.22071042389037537,
          0.017644961258753124,
          0.0747538035039513,
          0.1168248363822207,
          0.2110436396267932,
          0.39649621037143745,
          0.49817118661520077,
          0.014284183474112621,
          0.4857008990872598,
          0.13727610640258525,
          0.01765605303178239,
          0.012740874411838484,
          0.07468343413455775,
          0.42332157652466784,
          0.49818442477449953,
          0.017658954270338867,
          0.3448130269972548,
          0.38024707783155615,
          0.4779881711609334,
          0.07474555849281678,
          0.49821237607962315,
          0.017138221905199567,
          0.4107618201451167,
          0.3721917542932176,
          0.4779969006779458,
          0.4982136316138698,
          0.3369667204952029,
          0.48329084488304863,
          0.4989263083804505,
          0.4980256646054383,
          0.20413220565023643,
          0.5120181035449525,
          0.07475496990722408,
          0.017659824237542966,
          0.5284211662907667,
          0.30803017502841396,
          0.11498769060905008,
          0.11612262996484905,
          0.07475493474499334,
          0.20413112949291587,
          0.37881805352930525,
          0.4779941946287502,
          0.11682554945242248,
          0.49754455662843095,
          0.3677123062494996,
          0.367708138668432,
          0.09019855400984078,
          0.549745175839897,
          0.017647947632445753,
          0.38025754355659436,
          0.38026262881004974,
          0.17014913388071468,
          0.11681390839634008,
          -0.10230419327786702,
          0.11680250188112151,
          0.016965057353275765,
          0.21952050147405638,
          0.3676575203623769,
          0.01739550893767918,
          0.11682375274901677,
          0.007531220187372524,
          0.18289866995011397,
          0.017658739804514344,
          0.017636142904167734,
          0.36321809700378627,
          0.3143632303242705,
          0.423440058400393,
          0.4978839529053491,
          0.3802686018815805
         ]
        },
        {
         "hovertemplate": "class=%{marker.color}<br>PC 1=%{x}<br>PC 2=%{y}<br>PC 3=%{z}<extra></extra>",
         "legendgroup": "4",
         "marker": {
          "color": [
           4,
           4,
           4
          ],
          "coloraxis": "coloraxis",
          "symbol": "x"
         },
         "mode": "markers",
         "name": "4",
         "scene": "scene",
         "showlegend": true,
         "type": "scatter3d",
         "x": [
          4.405296886623415,
          -0.14142887529511353,
          -0.33834483011955335
         ],
         "y": [
          2.9638624521600136,
          1.6863418207544232,
          1.1872657698229652
         ],
         "z": [
          4.204735652426439,
          6.657961550432589,
          6.555360934497298
         ]
        },
        {
         "hovertemplate": "class=%{marker.color}<br>PC 1=%{x}<br>PC 2=%{y}<br>PC 3=%{z}<extra></extra>",
         "legendgroup": "3",
         "marker": {
          "color": [
           3,
           3,
           3,
           3
          ],
          "coloraxis": "coloraxis",
          "symbol": "cross"
         },
         "mode": "markers",
         "name": "3",
         "scene": "scene",
         "showlegend": true,
         "type": "scatter3d",
         "x": [
          -0.40858341994507597,
          -0.3468546175758138,
          -0.5767250750856991,
          -0.4160792973787225
         ],
         "y": [
          2.3180226931290693,
          3.6570874458325493,
          4.094535615252636,
          4.221992281118503
         ],
         "z": [
          16.607474202877295,
          15.116210313534252,
          16.31423830161207,
          10.646512730751084
         ]
        },
        {
         "hovertemplate": "class=%{marker.color}<br>PC 1=%{x}<br>PC 2=%{y}<br>PC 3=%{z}<extra></extra>",
         "legendgroup": "2",
         "marker": {
          "color": [
           2
          ],
          "coloraxis": "coloraxis",
          "symbol": "circle"
         },
         "mode": "markers",
         "name": "2",
         "scene": "scene",
         "showlegend": true,
         "type": "scatter3d",
         "x": [
          34.10077268192604
         ],
         "y": [
          1.505643043013418
         ],
         "z": [
          -0.7448382789737324
         ]
        }
       ],
       "layout": {
        "coloraxis": {
         "colorbar": {
          "title": {
           "text": "class"
          }
         },
         "colorscale": [
          [
           0,
           "#0d0887"
          ],
          [
           0.1111111111111111,
           "#46039f"
          ],
          [
           0.2222222222222222,
           "#7201a8"
          ],
          [
           0.3333333333333333,
           "#9c179e"
          ],
          [
           0.4444444444444444,
           "#bd3786"
          ],
          [
           0.5555555555555556,
           "#d8576b"
          ],
          [
           0.6666666666666666,
           "#ed7953"
          ],
          [
           0.7777777777777778,
           "#fb9f3a"
          ],
          [
           0.8888888888888888,
           "#fdca26"
          ],
          [
           1,
           "#f0f921"
          ]
         ]
        },
        "legend": {
         "title": {
          "text": "class"
         },
         "tracegroupgap": 0,
         "x": 0,
         "y": 1
        },
        "margin": {
         "t": 60
        },
        "scene": {
         "domain": {
          "x": [
           0,
           1
          ],
          "y": [
           0,
           1
          ]
         },
         "xaxis": {
          "title": {
           "text": "PC 1"
          }
         },
         "yaxis": {
          "title": {
           "text": "PC 2"
          }
         },
         "zaxis": {
          "title": {
           "text": "PC 3"
          }
         }
        },
        "template": {
         "data": {
          "bar": [
           {
            "error_x": {
             "color": "#2a3f5f"
            },
            "error_y": {
             "color": "#2a3f5f"
            },
            "marker": {
             "line": {
              "color": "#E5ECF6",
              "width": 0.5
             }
            },
            "type": "bar"
           }
          ],
          "barpolar": [
           {
            "marker": {
             "line": {
              "color": "#E5ECF6",
              "width": 0.5
             }
            },
            "type": "barpolar"
           }
          ],
          "carpet": [
           {
            "aaxis": {
             "endlinecolor": "#2a3f5f",
             "gridcolor": "white",
             "linecolor": "white",
             "minorgridcolor": "white",
             "startlinecolor": "#2a3f5f"
            },
            "baxis": {
             "endlinecolor": "#2a3f5f",
             "gridcolor": "white",
             "linecolor": "white",
             "minorgridcolor": "white",
             "startlinecolor": "#2a3f5f"
            },
            "type": "carpet"
           }
          ],
          "choropleth": [
           {
            "colorbar": {
             "outlinewidth": 0,
             "ticks": ""
            },
            "type": "choropleth"
           }
          ],
          "contour": [
           {
            "colorbar": {
             "outlinewidth": 0,
             "ticks": ""
            },
            "colorscale": [
             [
              0,
              "#0d0887"
             ],
             [
              0.1111111111111111,
              "#46039f"
             ],
             [
              0.2222222222222222,
              "#7201a8"
             ],
             [
              0.3333333333333333,
              "#9c179e"
             ],
             [
              0.4444444444444444,
              "#bd3786"
             ],
             [
              0.5555555555555556,
              "#d8576b"
             ],
             [
              0.6666666666666666,
              "#ed7953"
             ],
             [
              0.7777777777777778,
              "#fb9f3a"
             ],
             [
              0.8888888888888888,
              "#fdca26"
             ],
             [
              1,
              "#f0f921"
             ]
            ],
            "type": "contour"
           }
          ],
          "contourcarpet": [
           {
            "colorbar": {
             "outlinewidth": 0,
             "ticks": ""
            },
            "type": "contourcarpet"
           }
          ],
          "heatmap": [
           {
            "colorbar": {
             "outlinewidth": 0,
             "ticks": ""
            },
            "colorscale": [
             [
              0,
              "#0d0887"
             ],
             [
              0.1111111111111111,
              "#46039f"
             ],
             [
              0.2222222222222222,
              "#7201a8"
             ],
             [
              0.3333333333333333,
              "#9c179e"
             ],
             [
              0.4444444444444444,
              "#bd3786"
             ],
             [
              0.5555555555555556,
              "#d8576b"
             ],
             [
              0.6666666666666666,
              "#ed7953"
             ],
             [
              0.7777777777777778,
              "#fb9f3a"
             ],
             [
              0.8888888888888888,
              "#fdca26"
             ],
             [
              1,
              "#f0f921"
             ]
            ],
            "type": "heatmap"
           }
          ],
          "heatmapgl": [
           {
            "colorbar": {
             "outlinewidth": 0,
             "ticks": ""
            },
            "colorscale": [
             [
              0,
              "#0d0887"
             ],
             [
              0.1111111111111111,
              "#46039f"
             ],
             [
              0.2222222222222222,
              "#7201a8"
             ],
             [
              0.3333333333333333,
              "#9c179e"
             ],
             [
              0.4444444444444444,
              "#bd3786"
             ],
             [
              0.5555555555555556,
              "#d8576b"
             ],
             [
              0.6666666666666666,
              "#ed7953"
             ],
             [
              0.7777777777777778,
              "#fb9f3a"
             ],
             [
              0.8888888888888888,
              "#fdca26"
             ],
             [
              1,
              "#f0f921"
             ]
            ],
            "type": "heatmapgl"
           }
          ],
          "histogram": [
           {
            "marker": {
             "colorbar": {
              "outlinewidth": 0,
              "ticks": ""
             }
            },
            "type": "histogram"
           }
          ],
          "histogram2d": [
           {
            "colorbar": {
             "outlinewidth": 0,
             "ticks": ""
            },
            "colorscale": [
             [
              0,
              "#0d0887"
             ],
             [
              0.1111111111111111,
              "#46039f"
             ],
             [
              0.2222222222222222,
              "#7201a8"
             ],
             [
              0.3333333333333333,
              "#9c179e"
             ],
             [
              0.4444444444444444,
              "#bd3786"
             ],
             [
              0.5555555555555556,
              "#d8576b"
             ],
             [
              0.6666666666666666,
              "#ed7953"
             ],
             [
              0.7777777777777778,
              "#fb9f3a"
             ],
             [
              0.8888888888888888,
              "#fdca26"
             ],
             [
              1,
              "#f0f921"
             ]
            ],
            "type": "histogram2d"
           }
          ],
          "histogram2dcontour": [
           {
            "colorbar": {
             "outlinewidth": 0,
             "ticks": ""
            },
            "colorscale": [
             [
              0,
              "#0d0887"
             ],
             [
              0.1111111111111111,
              "#46039f"
             ],
             [
              0.2222222222222222,
              "#7201a8"
             ],
             [
              0.3333333333333333,
              "#9c179e"
             ],
             [
              0.4444444444444444,
              "#bd3786"
             ],
             [
              0.5555555555555556,
              "#d8576b"
             ],
             [
              0.6666666666666666,
              "#ed7953"
             ],
             [
              0.7777777777777778,
              "#fb9f3a"
             ],
             [
              0.8888888888888888,
              "#fdca26"
             ],
             [
              1,
              "#f0f921"
             ]
            ],
            "type": "histogram2dcontour"
           }
          ],
          "mesh3d": [
           {
            "colorbar": {
             "outlinewidth": 0,
             "ticks": ""
            },
            "type": "mesh3d"
           }
          ],
          "parcoords": [
           {
            "line": {
             "colorbar": {
              "outlinewidth": 0,
              "ticks": ""
             }
            },
            "type": "parcoords"
           }
          ],
          "pie": [
           {
            "automargin": true,
            "type": "pie"
           }
          ],
          "scatter": [
           {
            "marker": {
             "colorbar": {
              "outlinewidth": 0,
              "ticks": ""
             }
            },
            "type": "scatter"
           }
          ],
          "scatter3d": [
           {
            "line": {
             "colorbar": {
              "outlinewidth": 0,
              "ticks": ""
             }
            },
            "marker": {
             "colorbar": {
              "outlinewidth": 0,
              "ticks": ""
             }
            },
            "type": "scatter3d"
           }
          ],
          "scattercarpet": [
           {
            "marker": {
             "colorbar": {
              "outlinewidth": 0,
              "ticks": ""
             }
            },
            "type": "scattercarpet"
           }
          ],
          "scattergeo": [
           {
            "marker": {
             "colorbar": {
              "outlinewidth": 0,
              "ticks": ""
             }
            },
            "type": "scattergeo"
           }
          ],
          "scattergl": [
           {
            "marker": {
             "colorbar": {
              "outlinewidth": 0,
              "ticks": ""
             }
            },
            "type": "scattergl"
           }
          ],
          "scattermapbox": [
           {
            "marker": {
             "colorbar": {
              "outlinewidth": 0,
              "ticks": ""
             }
            },
            "type": "scattermapbox"
           }
          ],
          "scatterpolar": [
           {
            "marker": {
             "colorbar": {
              "outlinewidth": 0,
              "ticks": ""
             }
            },
            "type": "scatterpolar"
           }
          ],
          "scatterpolargl": [
           {
            "marker": {
             "colorbar": {
              "outlinewidth": 0,
              "ticks": ""
             }
            },
            "type": "scatterpolargl"
           }
          ],
          "scatterternary": [
           {
            "marker": {
             "colorbar": {
              "outlinewidth": 0,
              "ticks": ""
             }
            },
            "type": "scatterternary"
           }
          ],
          "surface": [
           {
            "colorbar": {
             "outlinewidth": 0,
             "ticks": ""
            },
            "colorscale": [
             [
              0,
              "#0d0887"
             ],
             [
              0.1111111111111111,
              "#46039f"
             ],
             [
              0.2222222222222222,
              "#7201a8"
             ],
             [
              0.3333333333333333,
              "#9c179e"
             ],
             [
              0.4444444444444444,
              "#bd3786"
             ],
             [
              0.5555555555555556,
              "#d8576b"
             ],
             [
              0.6666666666666666,
              "#ed7953"
             ],
             [
              0.7777777777777778,
              "#fb9f3a"
             ],
             [
              0.8888888888888888,
              "#fdca26"
             ],
             [
              1,
              "#f0f921"
             ]
            ],
            "type": "surface"
           }
          ],
          "table": [
           {
            "cells": {
             "fill": {
              "color": "#EBF0F8"
             },
             "line": {
              "color": "white"
             }
            },
            "header": {
             "fill": {
              "color": "#C8D4E3"
             },
             "line": {
              "color": "white"
             }
            },
            "type": "table"
           }
          ]
         },
         "layout": {
          "annotationdefaults": {
           "arrowcolor": "#2a3f5f",
           "arrowhead": 0,
           "arrowwidth": 1
          },
          "coloraxis": {
           "colorbar": {
            "outlinewidth": 0,
            "ticks": ""
           }
          },
          "colorscale": {
           "diverging": [
            [
             0,
             "#8e0152"
            ],
            [
             0.1,
             "#c51b7d"
            ],
            [
             0.2,
             "#de77ae"
            ],
            [
             0.3,
             "#f1b6da"
            ],
            [
             0.4,
             "#fde0ef"
            ],
            [
             0.5,
             "#f7f7f7"
            ],
            [
             0.6,
             "#e6f5d0"
            ],
            [
             0.7,
             "#b8e186"
            ],
            [
             0.8,
             "#7fbc41"
            ],
            [
             0.9,
             "#4d9221"
            ],
            [
             1,
             "#276419"
            ]
           ],
           "sequential": [
            [
             0,
             "#0d0887"
            ],
            [
             0.1111111111111111,
             "#46039f"
            ],
            [
             0.2222222222222222,
             "#7201a8"
            ],
            [
             0.3333333333333333,
             "#9c179e"
            ],
            [
             0.4444444444444444,
             "#bd3786"
            ],
            [
             0.5555555555555556,
             "#d8576b"
            ],
            [
             0.6666666666666666,
             "#ed7953"
            ],
            [
             0.7777777777777778,
             "#fb9f3a"
            ],
            [
             0.8888888888888888,
             "#fdca26"
            ],
            [
             1,
             "#f0f921"
            ]
           ],
           "sequentialminus": [
            [
             0,
             "#0d0887"
            ],
            [
             0.1111111111111111,
             "#46039f"
            ],
            [
             0.2222222222222222,
             "#7201a8"
            ],
            [
             0.3333333333333333,
             "#9c179e"
            ],
            [
             0.4444444444444444,
             "#bd3786"
            ],
            [
             0.5555555555555556,
             "#d8576b"
            ],
            [
             0.6666666666666666,
             "#ed7953"
            ],
            [
             0.7777777777777778,
             "#fb9f3a"
            ],
            [
             0.8888888888888888,
             "#fdca26"
            ],
            [
             1,
             "#f0f921"
            ]
           ]
          },
          "colorway": [
           "#636efa",
           "#EF553B",
           "#00cc96",
           "#ab63fa",
           "#FFA15A",
           "#19d3f3",
           "#FF6692",
           "#B6E880",
           "#FF97FF",
           "#FECB52"
          ],
          "font": {
           "color": "#2a3f5f"
          },
          "geo": {
           "bgcolor": "white",
           "lakecolor": "white",
           "landcolor": "#E5ECF6",
           "showlakes": true,
           "showland": true,
           "subunitcolor": "white"
          },
          "hoverlabel": {
           "align": "left"
          },
          "hovermode": "closest",
          "mapbox": {
           "style": "light"
          },
          "paper_bgcolor": "white",
          "plot_bgcolor": "#E5ECF6",
          "polar": {
           "angularaxis": {
            "gridcolor": "white",
            "linecolor": "white",
            "ticks": ""
           },
           "bgcolor": "#E5ECF6",
           "radialaxis": {
            "gridcolor": "white",
            "linecolor": "white",
            "ticks": ""
           }
          },
          "scene": {
           "xaxis": {
            "backgroundcolor": "#E5ECF6",
            "gridcolor": "white",
            "gridwidth": 2,
            "linecolor": "white",
            "showbackground": true,
            "ticks": "",
            "zerolinecolor": "white"
           },
           "yaxis": {
            "backgroundcolor": "#E5ECF6",
            "gridcolor": "white",
            "gridwidth": 2,
            "linecolor": "white",
            "showbackground": true,
            "ticks": "",
            "zerolinecolor": "white"
           },
           "zaxis": {
            "backgroundcolor": "#E5ECF6",
            "gridcolor": "white",
            "gridwidth": 2,
            "linecolor": "white",
            "showbackground": true,
            "ticks": "",
            "zerolinecolor": "white"
           }
          },
          "shapedefaults": {
           "line": {
            "color": "#2a3f5f"
           }
          },
          "ternary": {
           "aaxis": {
            "gridcolor": "white",
            "linecolor": "white",
            "ticks": ""
           },
           "baxis": {
            "gridcolor": "white",
            "linecolor": "white",
            "ticks": ""
           },
           "bgcolor": "#E5ECF6",
           "caxis": {
            "gridcolor": "white",
            "linecolor": "white",
            "ticks": ""
           }
          },
          "title": {
           "x": 0.05
          },
          "xaxis": {
           "automargin": true,
           "gridcolor": "white",
           "linecolor": "white",
           "ticks": "",
           "title": {
            "standoff": 15
           },
           "zerolinecolor": "white",
           "zerolinewidth": 2
          },
          "yaxis": {
           "automargin": true,
           "gridcolor": "white",
           "linecolor": "white",
           "ticks": "",
           "title": {
            "standoff": 15
           },
           "zerolinecolor": "white",
           "zerolinewidth": 2
          }
         }
        },
        "width": 800
       }
      },
      "text/html": [
       "<div>                            <div id=\"710cb1dc-719e-4970-ae34-f7ac6c0bfc95\" class=\"plotly-graph-div\" style=\"height:525px; width:800px;\"></div>            <script type=\"text/javascript\">                require([\"plotly\"], function(Plotly) {                    window.PLOTLYENV=window.PLOTLYENV || {};                                    if (document.getElementById(\"710cb1dc-719e-4970-ae34-f7ac6c0bfc95\")) {                    Plotly.newPlot(                        \"710cb1dc-719e-4970-ae34-f7ac6c0bfc95\",                        [{\"hovertemplate\": \"class=%{marker.color}<br>PC 1=%{x}<br>PC 2=%{y}<br>PC 3=%{z}<extra></extra>\", \"legendgroup\": \"1\", \"marker\": {\"color\": [1, 1, 1, 1, 1, 1, 1, 1, 1, 1, 1, 1, 1, 1, 1, 1, 1, 1, 1, 1, 1, 1, 1, 1, 1, 1, 1, 1, 1, 1, 1, 1, 1, 1, 1, 1, 1, 1, 1, 1, 1, 1, 1, 1, 1, 1, 1, 1, 1, 1, 1, 1, 1, 1, 1, 1, 1, 1, 1, 1, 1, 1, 1, 1, 1, 1, 1, 1, 1, 1, 1, 1, 1, 1, 1, 1, 1, 1, 1, 1, 1, 1, 1, 1, 1, 1, 1, 1, 1, 1, 1, 1, 1, 1, 1, 1, 1, 1, 1, 1, 1, 1, 1, 1, 1, 1, 1, 1, 1, 1, 1, 1, 1, 1, 1, 1, 1, 1, 1, 1, 1, 1, 1, 1, 1, 1, 1, 1, 1, 1, 1, 1, 1, 1, 1, 1, 1, 1, 1, 1, 1, 1, 1, 1, 1, 1, 1, 1, 1, 1, 1, 1, 1, 1, 1, 1, 1, 1, 1, 1, 1, 1, 1, 1, 1, 1, 1, 1, 1, 1, 1, 1, 1, 1, 1, 1, 1, 1, 1, 1, 1, 1, 1, 1, 1, 1, 1, 1, 1, 1, 1, 1, 1, 1, 1, 1, 1, 1, 1, 1, 1, 1, 1, 1, 1, 1, 1, 1, 1, 1, 1, 1, 1, 1, 1, 1, 1, 1, 1, 1, 1, 1, 1, 1, 1, 1, 1, 1, 1, 1, 1, 1, 1, 1, 1, 1, 1, 1, 1, 1, 1, 1, 1, 1, 1, 1, 1, 1, 1, 1, 1, 1, 1, 1, 1, 1, 1, 1, 1, 1, 1, 1, 1, 1, 1, 1, 1, 1, 1, 1, 1, 1, 1, 1, 1, 1], \"coloraxis\": \"coloraxis\", \"symbol\": \"circle\"}, \"mode\": \"markers\", \"name\": \"1\", \"scene\": \"scene\", \"showlegend\": true, \"type\": \"scatter3d\", \"x\": [-0.3357667788775343, -0.3190853915560137, -0.3887450865824849, -0.2550030985217202, -0.30833260055645917, -0.26366347524062667, -0.23772583773782416, -0.3354259828606137, -0.3279943020021651, -0.3342614808235963, -0.3357627114792302, -0.3357469744998666, 0.6135645230416797, -0.3647075722006168, -0.34576779849777556, -0.2824988343322098, -0.3338234992842274, -0.3238744920568285, -0.38863965176802034, -0.4315892046749954, -0.03069483936873717, -0.27160043515700755, -0.2908485090045438, -0.27640398396840254, -0.2770269664799226, -0.34290499741598307, -0.3300632025294052, -0.3341668266154646, 0.022819971149395525, -0.3437858233481856, -0.38901162020034485, -0.24482612297137954, -0.3055386987100119, -0.3889231797584271, -0.3109728240031836, -0.3344428288160075, -0.29272113340474054, -0.3888875982497231, -0.24529414575804934, -0.27680755745427393, -0.32686181008012527, -0.12815084692705161, -0.34135542892515336, -0.307543472057252, -0.3641284029559801, -0.2908286957608967, -0.27710248265742327, -0.28547757184723777, -0.3357488251215741, -0.2770546027125307, -0.34423128042312817, -0.3354829360429517, -0.38899312613019904, -0.45894574493447304, -0.4226295789200501, -0.37593668536126745, -0.28922854365253864, -0.2765757643664102, -0.3008829856053869, -0.2401693555595093, -0.07864778114244268, -0.30830347834867533, -0.06613929145671119, -0.30836721771638487, -0.23252522918722615, -0.33535872755543306, -0.2890977866023498, -0.38615995280315973, 0.8634505283594122, -0.30816711991820683, -0.11800028499530084, -0.34545073807987753, -0.3868336645103141, -0.30690964666741877, -0.30457588298175664, -0.35403500455771625, -0.3877271605414353, -0.34848411556402337, -0.3116315505126865, -0.33539687955806496, -0.33383410806911373, -0.23112668239035036, -0.33170842473119266, -0.3884665270994677, -0.3346002528113328, -0.30834817735836384, -0.38898231323451765, -0.33558620719611476, -0.33574305105083607, -0.289086692330405, -0.24898912199541073, 0.03845247321945524, -0.3444066818817441, -0.3353567283278162, -0.3751319671078966, -0.3437343850840336, -0.23255847486989234, -0.40893011810108765, -0.34348379247029576, -0.2764271320555866, -0.3885744304137321, 0.8565168107726033, -0.3889371695390656, -0.3448709365938339, -0.3352843084127476, -0.33543883666881474, -0.34545073807987753, -0.3885117144848364, -0.308210676627587, -0.3352850286062306, -0.36188411594639913, -0.33543258750839317, -0.3310170000250208, -0.38896620287458333, -0.33464265655326, 0.35312521156237925, -0.33563206643890564, -0.33570269637627154, -0.3522722214232762, -0.3487710521997268, -0.33192625658799607, -0.3083245617374091, -0.3888760554831248, -0.3354802816349369, -0.3356073983362851, -0.29073525421724394, -0.29598740581946487, -0.23232607637443445, -0.3164400634878126, -0.2904760015771606, -0.38814115957277556, -0.41687398130161235, -0.38687799203301143, -0.34369538242092984, -0.3880389178699556, -0.338089199407717, -0.38397605543843144, -0.33555061222543453, -0.335549823320497, -0.32866590429778164, 0.269437941038022, -0.38851781171297384, -0.2733616121752662, -0.34548510486958667, -0.3347605704725838, 0.895346284150642, -0.26235282037863, -0.3472611472562883, 0.5850228414147286, -0.35557232286985846, -0.3540730187572213, -0.4098082484329738, -0.27673936530877624, 0.12960839541633948, -0.2768101923612561, -0.34486656850720987, -0.4093125185323108, -0.38879044321549644, -0.29080943601556863, -0.3453513076452235, -0.33518543596197975, -0.3356856074812122, -0.3131288642509308, 0.6545674802171171, -0.3887312497999988, -0.33789921031620096, -0.33564120205664805, -0.31149296983223074, 0.4343563786820108, -0.30666901321859463, -0.3403237982484762, -0.3857791558550758, -0.33559149485085904, -0.3953182459311068, -0.350512503074459, -0.3354617144856782, -0.08995844046057008, -0.3875227527752455, 0.20452566593460744, -0.2734774787350899, -0.33291941462175506, -0.3107300520817904, -0.3521579983842703, 0.07904845002632657, -0.3345995800119216, -0.38810433468654765, -0.3513219961204617, -0.32215213150300825, -0.33570776588429135, -0.3442031780118484, -0.348766356996316, -0.2733896015404709, -0.2925741323718298, -0.33124816613046737, -0.2241139800274363, -0.36614539283268993, -0.3888077559393785, -0.3354540360319385, -0.28996869380971824, -0.32674408315360187, -0.3551709042156957, -0.335735151605826, -0.3357168458416637, -0.28434426193985757, -0.3423173899850624, -0.344945340110492, -0.33543307902880676, -0.3939846195839928, -0.34513421962137397, -0.3143663504929544, -0.28225217383340107, -0.32253154159958, -0.29050329150713305, -0.13863427443451168, -0.290755716028024, -0.3418013188377254, -0.3349066177090244, -0.19490691097887305, -0.3478624769020929, -0.2624804082624272, 1.0193661573968318, -0.35830775614654325, -0.3522716742925239, -0.3970039081239129, -0.1713889305285608, -0.35602681656191904, -0.3509898516379992, -0.328605921197553, -0.343780161694904, -0.3882805126381946, -0.2879984148495659, -0.344233283856504, -0.34402336152455254, -0.3436415007846391, -0.19509579774424987, -0.2762713324796249, -0.2908415245209565, 0.4559339808285665, -0.13389503389962457, -0.3962978060342763, -0.3354370313959574, -0.3967543875112782, -0.3523887736354847, 0.571979977100294, -0.3442575565997306, -0.33491949565339285, -0.3299040676631025, -0.29647931466689653, -0.3858432230960761, -0.3885079723904797, 0.09992976458941703, -0.38604448571904354, -0.334304561540688, -0.3351301543279874, -0.26369617029051323, -0.3356489712671226, -0.380126803306365, -0.24927552793646937, -0.08771850472970871, -0.37587135180912157, -0.33492644089076035, -0.3279832942663299, -0.3850728519823853, -0.3333641198715605, -0.3457266782564009, -0.36371009139721555, -0.30684606642988405, -0.097828373666583, -0.33055583069370287, -0.3425305560840557, -0.2772097851149582, -0.2445721699498165, -0.3456624643204235, -0.32969173675233393, -0.33381045392461883, -0.2911525508229962], \"y\": [0.9823215849155886, 0.9823001446175911, 1.2576597533313538, 1.704909974880763, 0.7904607083811569, 0.5459944968763013, 1.8207095145146983, 0.9823170321006696, 0.9824844732328452, 0.9823531315711111, 0.9823213214701756, 0.9823213025556186, 0.3894347310878186, 0.9169212422335181, 1.45137646372917, 0.20007822809430117, 0.9822786186756182, 1.0136256231761784, 1.2576619629354167, 2.555252868894055, 0.7433060260435385, 0.7895586254493385, 0.7378426847539397, 1.7915815734319098, 1.7915685175481346, 0.5445011226291782, 0.9821481941962361, 0.9822867670218307, 0.9898365100756974, 1.013208340150807, 1.2576695103508369, 0.09583193341244796, 1.4435731928765632, 1.2576643901916666, 0.9817253040574786, 0.982279587964607, 0.23511840342233864, 1.2576682743144219, 0.09589186811458913, 1.7915731157169197, 0.9818107760855441, 0.8261178740466819, 1.4215878062342888, 0.7904451643776845, 0.9169364346670288, 0.7378543844125204, 1.791558565780618, 0.7376178128278315, 0.9823219612028742, 1.7915609640653458, 1.0131850560617608, 0.9823135848400225, 1.2576698986296624, 3.545406141326197, 1.9004612856192733, 1.2647181573258819, 0.7378181758159597, 1.7915431018766816, 0.7899347430582401, 1.8208840653192622, 0.9848600107064015, 0.7904613186971017, 1.2459191776818226, 0.7904680033619504, 1.5005533124657935, 0.9823008444063849, 0.7377364902594427, 1.2574614601745842, 0.6929990325548173, 0.7904516226139924, 0.4005027940047302, 1.451369159767302, 1.2576628472891003, 0.7903505375077816, 0.7901886304297321, 1.4979440556649448, 1.257599486661914, 1.4392360273013918, 0.9814325267437156, 0.9822984175140383, 0.9822923449636822, 1.5469819957518538, 1.0130032348854459, 1.2576460630561581, 0.9822832631285298, 0.790461079367989, 1.2576680329436432, 0.9823107231491016, 0.9823220822104387, 0.7378908916882546, 0.2430713399634198, 1.9113849832779208, 1.451353378852874, 0.982330178400105, 1.2569142415354213, 1.45139118093936, 1.5470897320933517, 1.8906661991095703, 1.4512144031010774, 1.913499732599487, 1.2576577503366353, 1.8147314497389075, 1.257668383886494, 1.4513603877780472, 0.9823048171237985, 0.9822991655546447, 1.451369159767302, 1.2576381417527545, 0.7904646584103256, 0.9823086657975778, 0.9131533986056138, 0.9823090605506203, 0.9819673361181465, 1.2576669757077683, 0.9822447132046328, 0.7286728608601993, 0.9823153415208743, 0.9823206153923517, 1.3829199934636878, 0.6393257042557943, 0.9820533555867027, 0.7904615742820464, 1.2576658283184055, 0.9823136404686186, 0.9823096281098119, 0.7378179839759869, 0.22082518077246743, 1.547086216067342, 0.9820291852860172, 0.7378377657972466, 1.257618010261335, 1.913186155982719, 1.2576375082345947, 1.4513429758139866, 1.2576201529471474, 1.4512584122737036, 1.2574263262705385, 0.9823113211754171, 0.9823061851738029, 0.9817729675692686, 0.5048681408633391, 1.2576519625897982, 0.736825581480762, 1.4513614652318034, 0.9822694418784155, 1.781930702543771, 0.5458911373444736, 1.4392152779736782, 1.9446797720471487, 1.4979676324562958, 1.497922336073411, 1.936286387290539, 1.7915536218984554, 0.9572029392205494, 1.7915598803179151, 1.4852946017497337, 1.9362967763333252, 1.2576675156041728, 0.7378426486346917, 1.451342230438161, 0.9823001157515495, 0.9823203568493717, 1.7061392410254261, 1.33164979437267, 1.2576565561554254, 0.5443296861986096, 0.9823132437543947, 0.6663265580004168, 0.9810253332195765, 0.7904411726794432, 1.4974572540344895, 1.688862804438734, 0.9823106123353877, 1.6272978212800076, 1.4438114580171166, 0.9823176643986518, 0.5433666844614384, 1.2576002832940993, 1.4887896900752833, 1.7914964439077117, 0.982234796858223, 1.2534860682095648, 1.3829189000888589, 0.9561433512569794, 0.9822414313773143, 1.2576536535453933, 1.3828666771558233, 0.9819792202016435, 0.9823200319604914, 1.013184947574914, 1.439236040512141, -0.1078729818497005, 0.2125209267343877, 0.9822544778394925, 1.546710502886303, 1.030565191879035, 1.257656347673142, 1.7554309420780394, 0.737785926102, 1.5289981718145085, 1.4979481477782657, 0.9823201554670504, 0.9823191442404005, 0.7376415636750207, 1.2982651576905344, 1.4513323261264839, 0.9823076553880924, 1.627325770171455, 1.4513339472134807, 0.6641303461347018, 0.9798708870942675, 1.7625035934556623, 0.7378430707278348, 0.9793391085809966, 0.7378252268958996, 1.9172948545342778, 0.9822810272051631, 1.576379234710429, 1.3825695401667037, 0.5459580824161613, 1.7552272185633344, 0.9085922479673809, 1.3829158203448302, 1.6273983884552106, 0.7285848583232983, 0.9107823533609452, 1.382887586545723, 0.9817742246388824, 1.0131701001055755, 1.257649961372952, 0.7377323667665422, 1.4512621621703632, 0.7650048542810046, 1.0131416216426787, 0.9727158802318661, 2.28186156688162, 1.5109638928295326, 1.9463276659476678, 1.017607034659837, 1.6273791174815404, 0.9823138494357515, 1.6273939338477412, 1.3829186876839157, 0.9491774632237985, 1.0131847146195263, 0.982280757321271, 1.7552403835402512, 1.9148272594590332, 1.2574429903883582, 1.2576591431016193, 0.967042425061739, 1.2577316934726839, 0.9822127425554222, 0.9822970868344094, 0.5459878835218371, 0.9823240538463988, 1.257506995290183, 0.9768111635993523, 0.7949669635149845, 1.2572474616295763, 0.9823287344982757, 0.9822057315818913, 1.2576069904449698, 0.9822603486848583, 1.4513710486109948, 0.7505415173118022, 0.7904339750098709, 0.734918633568542, 0.9822215618589649, 0.5444696360134673, 1.79156460251477, 0.5457058815988022, 1.4513726495085515, 1.571931452759519, 0.9821882260572918, 0.7378468999307114], \"z\": [-0.5813680889341539, -0.5817207363499338, -0.5242749067855212, -0.11389481118914437, -0.48219746737111246, -0.17323983296209922, -0.6887705518975453, -0.5813742023739391, -0.5815782394567348, -0.5814087888585715, -0.5813681064526888, -0.5813684394830125, -0.11788500066441313, -0.4161060212163482, -0.10907833178587638, -0.3370877365442849, -0.5813984398703083, -0.2158657868099901, -0.5242777575087746, -0.7033067135580434, -0.2794494115765594, -0.4827473206155914, -0.27241244196666536, -0.7013541826288165, -0.701337338565127, -0.3782166002219906, -0.5814446323530637, -0.5813932254183684, -0.5910634783694224, -0.21532742862783438, -0.5242717684801377, 0.07312455985456634, -0.2836865321554235, -0.5242723106451772, -0.5817425819367047, -0.5813853930811602, -0.32198605762587046, -0.524274104854027, 0.07311872162100026, -0.7013432708979515, -0.581423934219388, 0.29505670400983863, -0.11419262724531941, -0.48221029708937174, -0.4161224906394268, -0.2724159697641952, -0.7013330776717331, -0.2724681896198544, -0.5813685743716149, -0.7013347420897269, -0.21531168595164807, -0.5813720649157753, -0.5242722687036508, -0.5587925994084423, -0.5842845782542917, -0.09801367030105797, -0.2724407417934325, -0.7013402918031143, -0.48221803146908354, -0.6887643452926024, -0.5093408030804984, -0.482198254770941, -0.5280917526272969, -0.4821986580409773, -0.5852134172623404, -0.5813713548807656, -0.272421891478925, -0.5242778601021885, -0.2853175116403095, -0.4821986129446245, -0.10510500089546741, -0.10908320588941703, -0.5243167863526546, -0.4821988217527423, -0.48220602324406187, -0.5819114194888134, -0.5242807929846491, -0.13555388456211845, -0.5816508013130605, -0.5813698918430221, -0.5814018515384045, -0.3923742501041908, -0.21553247874207832, -0.5242772605068506, -0.5813829859389494, -0.4821972311342838, -0.5242720062844264, -0.5813690877678179, -0.5813687304896655, -0.2724630696685874, -0.37327791633179164, -0.876573103979842, -0.109101448884119, -0.5813791757982113, -0.5243696557068379, -0.1091259137757985, -0.3923720603396653, -0.6023964851362801, -0.10908442372037519, -0.8703699154373656, -0.5242780415469288, -0.7318286585973033, -0.5242730690679894, -0.10909333467494553, -0.5813740068506772, -0.5813691889082335, -0.10908320588941703, -0.5242741894872545, -0.4822011337740078, -0.5813750118644297, -0.25589300121519476, -0.5813719468259111, -0.5813761889470744, -0.5242720720221755, -0.5813718534695121, -0.28381422253255206, -0.5813693272381626, -0.5813692084171639, -0.2985853177161537, -0.42888497648267515, -0.581379465484173, -0.48219786964823236, -0.5242737042426814, -0.5813721366850736, -0.581368342209557, -0.2724083253243119, -0.18179009079657654, -0.39237612020252205, -0.5817057151042632, -0.2724191395149746, -0.5242768114570444, -0.7404762359601841, -0.5243091154492341, -0.10911396989716482, -0.5242795758456457, -0.10921197393221915, -0.5243154565020031, -0.581370010950241, -0.5813686660747083, -0.5813751555179926, -0.17378662519215463, -0.5242777231378268, -0.27251839030807307, -0.10908042743469933, -0.5813758774258365, -0.7028277524156646, -0.17324058109384924, -0.13557465337666344, -0.7752305171318425, -0.5818846478398134, -0.5819048439101532, -0.773440544461052, -0.7013395669030132, -0.5847045350196893, -0.7013397049028255, -0.23952955724669198, -0.7734539478967264, -0.5242759906645976, -0.27241327171521773, -0.10907820138139401, -0.581374884147633, -0.5813695069499494, -0.11297215602665277, -0.22769591051613017, -0.5242743562748761, -0.37827867263587456, -0.5813685747689095, -0.15257891038888802, -0.5975673763521174, -0.4822280229047779, -0.5820768729722137, -0.5920983862144901, -0.5813689448013755, -0.607554382775825, -0.14141734643897255, -0.5813736024792054, -0.17627441519542214, -0.52428539509021, -0.591482543810582, -0.7013944745177497, -0.5814062410345667, -0.2729266619504234, -0.2985874814269595, -0.5833375063719424, -0.581371908611708, -0.5242870533853959, -0.2985915925413043, -0.5815697660000033, -0.5813689448209971, -0.2153122608531395, -0.1355478252456317, 0.13338035538921683, -0.23778889636255032, -0.5814473595258355, -0.3924529028209391, -0.3879846493423309, -0.5242726575693683, -0.4840350701866854, -0.2724162915694943, -0.11102391212720533, -0.581888104296652, -0.5813683892972047, -0.5813685143938091, -0.2724988318030728, -0.12945708565066263, -0.10908429580752521, -0.5813715636856824, -0.6075904410707427, -0.10908066832741717, -0.08593414606798785, -0.5818678266387411, -0.0577800622594568, -0.2724199599147044, -0.5848118759997102, -0.2724098062607314, -0.8699718994013775, -0.5813758120642674, -0.37980921601685136, -0.2985871198474603, -0.17325559101357574, -0.08576839343369716, -0.39490626988128685, -0.2985842229575295, -0.6075448387239563, -0.2725238166504682, -0.461536688849688, -0.29860427149661656, -0.5813767773278212, -0.21531741081464334, -0.5242822899248115, -0.2724444136959382, -0.10908098734031477, -0.5771537487839246, -0.2153128382590578, -0.5818428644186568, 0.009115780200557493, -0.17507599752876032, -0.1451107685266628, -0.2210024094819687, -0.6075548967402815, -0.581373121150188, -0.6075490175195638, -0.2985824678314019, -0.5920791326983283, -0.21531103097977394, -0.5813754638732492, -0.484103761873093, -0.8702911717602696, -0.5242797664591786, -0.5242798384242979, -0.5866759703086561, -0.5243519933924903, -0.5813706389908365, -0.5813752685267237, -0.17323737709546982, -0.5813712741980999, -0.5244195317318388, -0.5817649046085471, -0.4881313151659941, -0.5244421270384555, -0.5813880359354334, -0.5815045669598442, -0.5243397997478334, -0.581403463457347, -0.10907777925815317, -0.08178478922519618, -0.4822223111525964, -0.27578338291569854, -0.5814535038179396, -0.37821629483999286, -0.701332373364174, -0.17357340572442773, -0.10907958311715758, 0.1425896583433107, -0.5813747522983354, -0.27240702851717846]}, {\"hovertemplate\": \"class=%{marker.color}<br>PC 1=%{x}<br>PC 2=%{y}<br>PC 3=%{z}<extra></extra>\", \"legendgroup\": \"5\", \"marker\": {\"color\": [5, 5, 5, 5, 5, 5, 5, 5, 5, 5, 5, 5, 5, 5, 5], \"coloraxis\": \"coloraxis\", \"symbol\": \"diamond\"}, \"mode\": \"markers\", \"name\": \"5\", \"scene\": \"scene\", \"showlegend\": true, \"type\": \"scatter3d\", \"x\": [2.3098167034099713, 2.5554982927289123, 3.864799952828006, 3.7236659229017484, 3.244545466387664, 3.728526845838476, 8.049313926200343, 3.917957461240905, 2.2309396267751365, 3.1075648372667337, 3.7407822709606586, 3.7240581206434986, 3.7339388112660328, 3.7351844863494215, 2.4771947892908335], \"y\": [1.6266767993722404, -1.3584469778069224, -2.3529025028038943, 2.094794119036662, -1.2156792959877598, 2.0946344531356815, -2.8339849471882186, 2.197872983245262, 0.15078407601008412, -2.268617081991741, 2.094542575426766, 2.0947779851800066, 2.0950965874623555, 2.095122693153624, 0.8850159803478462], \"z\": [-0.713183849272852, 0.015010370839742895, 0.4360692544552466, -0.028881845891918678, -0.03764619055482413, -0.028943927464730686, 0.4737418954194168, -0.04668267542867187, -0.21329142429346518, 0.30277632196694626, -0.029182824293079546, -0.028885992752187267, -0.029182717643877438, -0.02921639793193227, -0.11699397888833483]}, {\"hovertemplate\": \"class=%{marker.color}<br>PC 1=%{x}<br>PC 2=%{y}<br>PC 3=%{z}<extra></extra>\", \"legendgroup\": \"0\", \"marker\": {\"color\": [0, 0, 0, 0, 0, 0, 0, 0, 0, 0, 0, 0, 0, 0, 0, 0, 0, 0, 0, 0, 0, 0, 0, 0, 0, 0, 0, 0, 0, 0, 0, 0, 0, 0, 0, 0, 0, 0, 0, 0, 0, 0, 0, 0, 0, 0, 0, 0, 0, 0, 0, 0, 0, 0, 0, 0, 0, 0, 0, 0, 0, 0, 0, 0, 0, 0, 0, 0, 0, 0, 0, 0, 0, 0, 0, 0, 0, 0, 0, 0, 0, 0, 0, 0, 0, 0, 0, 0, 0, 0, 0, 0, 0, 0, 0, 0, 0, 0, 0, 0, 0, 0, 0, 0, 0, 0, 0, 0, 0, 0, 0, 0, 0, 0, 0, 0, 0, 0, 0, 0, 0, 0, 0, 0, 0, 0, 0, 0, 0, 0, 0, 0, 0, 0, 0, 0, 0, 0, 0, 0, 0, 0, 0, 0, 0, 0, 0, 0, 0, 0, 0, 0, 0, 0, 0, 0, 0, 0, 0, 0, 0, 0, 0, 0, 0, 0, 0, 0, 0, 0, 0, 0, 0, 0, 0, 0, 0, 0, 0, 0, 0, 0, 0, 0, 0, 0, 0, 0, 0, 0, 0, 0, 0, 0, 0, 0, 0, 0, 0, 0, 0, 0, 0, 0, 0, 0, 0, 0, 0, 0, 0, 0, 0, 0, 0, 0, 0, 0, 0, 0, 0, 0, 0, 0, 0, 0, 0, 0, 0, 0, 0, 0, 0, 0], \"coloraxis\": \"coloraxis\", \"symbol\": \"square\"}, \"mode\": \"markers\", \"name\": \"0\", \"scene\": \"scene\", \"showlegend\": true, \"type\": \"scatter3d\", \"x\": [-0.14125871947216712, -0.14983179174489358, -0.1675222698804856, -0.15233892840352006, -0.1482724700381986, -0.15011741450371238, 0.1642648781906438, -0.16866977530486404, -0.22185590672133745, -0.16828595760631312, -0.08940527727546749, -0.13834040226284572, -0.16553843297480855, -0.16808984680193287, -0.22530810585426594, -0.19669957493705, -0.16813852360101203, -0.16865201882581493, -0.16873856018150787, -0.2219453563852833, 0.18805762375176852, 0.23700396751584266, 0.08026662103925054, -0.1684845569503438, -0.16408513602765898, -0.16842380682232302, -0.1687956297308864, -0.1711574118885389, -0.14799585093441772, -0.16758938393331094, -0.16786719032887362, 1.5820592159872053, -0.14122003989645437, -0.16515372514392002, -0.16851102908229448, -0.16886623675509974, -0.16812466946054597, -0.14598150805420207, -0.16874737859368955, -0.03352631096444509, -0.14129774889408883, -0.16240424029067949, -0.16872682701765618, -0.16681943406144745, -0.1682130098025566, -0.12843613926047517, -0.14076091499098048, -0.14104846918163416, -0.14103154686437563, -0.14162276261557424, -0.2221194172103095, -0.1684429627920891, -0.188463004150459, -0.16554319931807235, -0.14082828908602585, 0.4599790203782894, -0.16730936754547668, -0.15189346853001218, -0.16602674432506678, -0.16886845271513642, -0.16589159327239664, -0.15210028216294993, -0.12782388004303802, -0.12344898603899124, -0.182744796899695, -0.16874137156082594, -0.041548241341374026, -0.11935063196461651, -0.1688773504957016, -0.14132556167279503, 0.4838296220499973, -0.22150592500256455, -0.1512340378276881, -0.14106519247058047, -0.2217911492515873, -0.16699938340979403, -0.1661907198213563, -0.1509006558973488, 0.3762649340569876, -0.2218265758638795, -0.1412211636724273, -0.16483071256889698, -0.1444625039507597, -0.16743913102303393, 0.27772865696593646, -0.2209864376494836, -0.15176127963098604, -0.16768712581829176, -0.14996106417421337, -0.16866705394761664, -0.22178979984162253, -0.16887740905565174, -0.2219399613675306, -0.26346123330160875, 0.3047169762954113, -0.14148154489106035, -0.10349978105134071, -0.1660411253087616, -0.14144012475277293, -0.16854047061488697, -0.1524255985541629, -0.15064251348842475, -0.15013905902769903, -0.09554062054145997, -0.2085076728739071, -0.21976596808693483, 0.30471129961726323, -0.16885913007765266, 0.30484216952362353, -0.15177499971229838, 0.493910097859488, -0.15110262532158805, -0.16882737887833207, -0.21466775094870608, -0.15015143739497427, -0.16695856677377002, -0.15149305538953897, -0.1461827448442898, -0.13972626518050188, -0.18835067503414324, -0.16838929791034735, -0.10777146483909975, -0.1682112477768263, -0.1509599367300508, -0.14797005479037692, -0.02454788992899842, -0.15223540354941878, 0.3408731877715193, -0.22099489060896407, -0.1685307542552715, -0.16829400401472744, -0.22138995033359055, -0.22196801099293967, 0.3051066886128635, -0.15512366805862565, -0.1169140165980899, -0.21283183290325833, -0.1412578826271628, -0.09438841401715292, 1.5803620817568456, -0.1686287283605225, -0.16807986967199387, -0.16778051362624796, -0.1677674279408067, 0.3052904253899686, 0.0623807282506248, -0.17630240428392022, -0.17585116594055977, -0.14999730519123003, -0.15051918368417033, -0.1669567736523559, -0.21750778636355686, -0.1756964363133915, -0.149006412538, -0.17579672850506467, -0.1136704004488973, 1.1434593014850074, 0.3046940733404268, -0.07382986062838472, -0.21724964292343502, -0.14006089736181315, -0.08492558753631424, 1.0945378099366327, -0.22194197929698029, -0.17584870316267304, -0.16887918706719504, -0.1678789116746357, -0.2218673017016284, -0.14123725129086123, -0.19923383625028154, -0.14915868724522838, 0.30857244036338305, 0.024377839043256896, -0.15002159566046003, -0.17400579959470844, -0.16845329243725968, 0.13895723273228053, -0.21600222168389743, -0.10200425949319047, 0.31262426137834914, -0.1686905463643962, -0.16051364268464738, -0.14898726340621035, -0.15020714563611193, -0.22103571493370788, 0.3048768062037494, -0.1884101286297118, -0.15162009124392273, -0.1493826958844127, -0.15251004898168302, 0.3088082355191078, 0.5823637225108627, 2.1150988614935486, -0.14548285852655607, 0.318496051622881, -0.1922115724461848, -0.15901045478424683, -0.22192412049065185, -0.1687151628870458, -0.13994292674558567, -0.14710917615771602, -0.16733711965278056, -0.10104088982674365, -0.22189546194452067, -0.19163880602231168, -0.044632841226148114, -0.15190726060809495, -0.1412579202404297, 0.3847137356314348, -0.14555575905301377, -0.1459480369657321, -0.27171881936838893, -0.15423474553195202, -0.1676063507058694, -0.14805568270012115, -0.14982994159127733, -0.1819550731395465, -0.1405332732974134, -0.11030568779336887, -0.13940009048545235, 0.5277862450654969, -0.10093126293185753, -0.0963718505021588, -0.15225105998989952, -0.1410478388311601, 0.5477187267082986, -0.19626008067913311, -0.1687920465284532, -0.16674569951027282, -0.12418481564504738, -0.12966348008808345, -0.1506757089583667, 0.3264746280099413, -0.15011847279732377], \"y\": [-1.339584756354776, -1.9934210138264439, -1.147758628490489, -2.167252072049355, -1.9935347955020197, -2.016245664907861, -1.7983095947399446, -1.1477387386903453, -0.8723888847688953, -1.147760684525268, -1.7903745899966101, -1.3396273716307041, -1.147832826616779, -1.1477816821294444, -0.5027195847719615, -1.2131608730460233, -1.1477465516214131, -1.1477383665666947, -1.1477346984128465, -0.8723893645094387, -1.7947108885341962, -1.3462888832148336, -1.1519224333886344, -1.147734857057611, -1.1478370965774227, -1.1477412556527187, -1.1477345663842298, -1.5856787998708233, -1.1482816048791775, -1.147750270971992, -1.1477576591986052, -1.1742211899645765, -1.339583945744465, -1.1478355192121905, -1.1477347144048973, -1.1477291514291053, -1.1477419609206851, -2.2336216950681567, -1.1477326932879914, -1.1553533453176705, -1.3395855742968283, -1.14782781962719, -1.1477399343266876, -1.1478596726373245, -1.1477502286386407, -1.339920705281369, -1.339592465383873, -1.3395949961740665, -1.3396211439043693, -1.339577913939705, -0.8723804585577897, -1.147735380227917, -1.2192755103559556, -1.1478436814470165, -1.339592474138475, -2.302578573950377, -1.1477688964224155, -1.148544194354779, -1.1477847452052843, -1.1477300891857483, -1.1477774590427312, -1.1480742755818192, -2.0638267531719654, -1.789693184443936, -1.490687430969908, -1.1477279443641422, -1.152034307158799, -2.1677197082259796, -1.147728874851888, -1.3395861571709848, -1.1982132600057127, -0.8723906167810218, -2.1301920169457853, -1.339603548431906, -0.8723882250733699, -1.1478357139964923, -1.147846496633352, -1.9934552051227497, -2.1825921808176156, -0.8723854803568581, -1.3395839692955083, -1.1477900976415312, -2.3154008269617483, -1.1477568861442045, -1.345872200324094, -0.872415298825255, -2.220226272613635, -1.1478209125857852, -2.0452643409676177, -1.1477379842278381, -0.8723909865171079, -1.1477288739659164, -0.8723941334616749, -1.4135286891548167, -2.29886507618751, -1.33958157026001, -1.7901120247194267, -1.147808490029123, -1.3395813315060228, -1.1477423057214715, -2.1797945559267053, -1.9934562807245366, -2.016246118513516, -1.1531658288541566, -0.8724439117994102, -0.872490151410353, -2.2988728668933827, -1.1477299539891657, -2.298872913967909, -2.1301644448778716, -0.9271176680535955, -2.1673551874753167, -1.1477297389181442, -0.8729217243700039, -2.016243588204332, -1.1477579738225616, -2.1301662078929904, -2.000507822601104, -1.1499072450834404, -0.6321021110783056, -1.147742987682845, -1.3406118929298145, -1.147764698273476, -2.1672964026733528, -2.1536160254503556, -2.1912293638640477, -2.3842087507002954, -2.299495235579113, -0.8724266348680905, -1.1477346234045993, -1.1477685248937277, -0.8724070169255729, -0.8723904669712466, -2.2988875959193837, -2.079749833837049, -1.3670150354523276, -0.8729529920049552, -1.3395847388169588, -1.1534903974153352, -1.1110695217297026, -1.147737181036093, -1.1477703141444717, -1.1477751994145766, -1.1477749251770417, -2.2989080779230413, -2.0264237297736267, -0.8726756440623789, -1.5855616610372103, -2.016243147769427, -2.2202883321427542, -1.1477579362440034, -0.8725279131175219, -1.585570972113992, -1.9935989969409023, -1.5855638678565314, -1.7899485583714074, -2.3405621484967227, -2.298867299743311, -1.9988025450829756, -0.8726619893595545, -2.16769182982381, -1.1494562146778449, -1.186855135539068, -0.8723905491111195, -1.5855574248395072, -1.5857454336293053, -1.1477521540380116, -0.8723912158667713, -1.3395837247874116, -1.0994869243152114, -2.1168992443062056, -2.2990116394416584, -1.150652690135243, -2.220238634106603, -1.2196811195540396, -1.1477474530314253, -1.1541147296688423, -0.8726009755313856, -1.9969519897547876, -2.299389819258837, -1.1477391739907499, -2.0962532543062906, -2.0162561543717943, -2.179942367904365, -0.8724274904260383, -2.2988675850411986, -0.63208435066548, -2.1301725526263002, -2.154907554808622, -2.179788723763354, -2.2991908199738886, -2.192987426353054, -2.389245091311466, -2.290581195853467, -2.2992667637804396, -1.2214322296189275, -2.1799936509922926, -0.8723910117600113, -1.1477404607252828, -2.168212792251845, -2.114134699128869, -0.374697975760086, -1.34019186750412, -0.8723932008844608, -1.2214745729278014, -2.019320846481109, -2.1798273522570173, -1.3395847396052218, -2.302816846032944, -2.151687944843054, -2.151640447247326, -0.1307140881550453, -2.1275540394226216, -1.1477854980883107, -2.016371095844447, -2.0162465351213115, -1.4907406237644627, -1.3395995426601774, -0.33848649873411774, -1.3396483272851352, -1.2015463864822262, -1.5867624526804989, -2.15546589660157, -1.1480774354422456, -1.3395949829637717, -1.1675822362302541, -1.2131663085850382, -1.1477301422424577, -1.1478107020797557, -1.7897105580777726, -2.2256203248099853, -1.9934557785003488, -2.299378683847861, -2.016245687086588], \"z\": [0.11682557106188221, 0.42341271231248995, 0.017639016962688697, 0.5284327073663967, 0.4234093860300916, 0.3802685732676729, 0.3593019714206965, 0.017658392667014095, 0.07475294063307622, 0.017655966876842018, 0.36264706833648375, 0.11677418231442845, 0.017616076018632815, 0.01765732178712986, -0.008601857851018689, 0.1829066694675029, 0.01764905248147272, 0.017657912571251502, 0.017658798944442135, 0.07475498930274556, 0.35783667543938275, 0.11047773594602452, 0.0134203134821893, 0.017653384774011873, 0.017585989981871265, 0.01765377640379918, 0.01765998984596624, 0.22074169428055432, 0.017358238894878964, 0.017638242623389925, 0.017646169178172313, -0.012927082396780214, 0.1168245252520401, 0.01760852606931321, 0.017653915596370577, 0.017660070766132862, 0.01764753764685465, 0.23554209706897444, 0.01765845670927018, 0.016774409626156124, 0.11682662633077213, 0.017547422909830895, 0.0176599352186366, 0.017650711443369247, 0.01765162748632756, 0.11663920720594398, 0.1168169218052401, 0.11682376979229386, 0.11683033941196772, 0.11683157678000236, 0.07475636686545424, 0.017652630010946427, 0.13747911300055637, 0.017619056586099222, 0.11681837138736229, 0.49586460705001095, 0.017637166178758115, 0.0175115896654467, 0.017613816528804976, 0.01766036701531007, 0.01760898141147146, 0.017391432240062094, 0.4507415270053001, 0.3631976840144022, 0.1701519937270887, 0.017657068484920227, 0.016066678289410986, 0.5541255045172458, 0.01766023616499624, 0.11682737832654622, 0.01702550247288224, 0.07474588193353801, 0.41075868835035917, 0.1168263966744663, 0.07475137466020146, 0.0176482242440559, 0.017633712406467324, 0.4234447384462116, 0.4760116684446347, 0.07475140789060773, 0.11682455563644664, 0.017589543818289338, 0.27287099523108255, 0.017636769072611014, 0.10949244579772455, 0.07474126733961385, 0.48573499150732175, 0.017659072990966987, 0.44561940806284106, 0.01765813416225333, 0.07475207787636882, 0.017660237188003445, 0.07475613791057435, 0.34862569638617613, 0.4982151441528659, 0.11682951276776014, 0.36288021217647254, 0.017620421437839814, 0.11682855971693198, 0.017656560883073342, 0.4779966330117342, 0.42343947849537855, 0.38026915848753534, 0.017526512325171387, 0.0744807981774546, 0.07473489779665425, 0.4982173318159816, 0.01766013090835963, 0.4982145330855447, 0.4107629979419699, 0.07388904922988702, 0.5284334916577015, 0.017659391835295874, 0.07473981566129093, 0.3802687534698823, 0.017626734487337523, 0.41075740897211005, 0.25318329597678835, 0.01761164221130898, 0.01714165399638681, 0.017653494370491622, 0.11637857988860097, 0.017655426291389043, 0.528414839650722, 0.21460227296336976, 0.48691168396312595, 0.3770491510101539, 0.4976055618396733, 0.07474445469373184, 0.017654315183265448, 0.017658218612202004, 0.07474773921923686, 0.07475576826580234, 0.4982127439105921, 0.42341827694720896, 0.021103192808425555, 0.0747086690446667, 0.11682554843544336, 0.017587821871423038, -0.029635428203617243, 0.017657097923485757, 0.01765409322282685, 0.017648958104977918, 0.017648604297102022, 0.49821422791437453, 0.3784026433239922, 0.07385044212646802, 0.22081146104801402, 0.38026532577858163, 0.48572476530212244, 0.01762668600531649, 0.07469640246456503, 0.2208106061579679, 0.4234421749767443, 0.22081087682210385, 0.36305534347547397, 0.4912542158191092, 0.4982162257111691, 0.42320704190885533, 0.07472640790000046, 0.528285566095404, 0.016314878884435786, 0.07911878778853806, 0.07475523085932433, 0.22081028490814475, 0.22071042389037537, 0.017644961258753124, 0.0747538035039513, 0.1168248363822207, 0.2110436396267932, 0.39649621037143745, 0.49817118661520077, 0.014284183474112621, 0.4857008990872598, 0.13727610640258525, 0.01765605303178239, 0.012740874411838484, 0.07468343413455775, 0.42332157652466784, 0.49818442477449953, 0.017658954270338867, 0.3448130269972548, 0.38024707783155615, 0.4779881711609334, 0.07474555849281678, 0.49821237607962315, 0.017138221905199567, 0.4107618201451167, 0.3721917542932176, 0.4779969006779458, 0.4982136316138698, 0.3369667204952029, 0.48329084488304863, 0.4989263083804505, 0.4980256646054383, 0.20413220565023643, 0.5120181035449525, 0.07475496990722408, 0.017659824237542966, 0.5284211662907667, 0.30803017502841396, 0.11498769060905008, 0.11612262996484905, 0.07475493474499334, 0.20413112949291587, 0.37881805352930525, 0.4779941946287502, 0.11682554945242248, 0.49754455662843095, 0.3677123062494996, 0.367708138668432, 0.09019855400984078, 0.549745175839897, 0.017647947632445753, 0.38025754355659436, 0.38026262881004974, 0.17014913388071468, 0.11681390839634008, -0.10230419327786702, 0.11680250188112151, 0.016965057353275765, 0.21952050147405638, 0.3676575203623769, 0.01739550893767918, 0.11682375274901677, 0.007531220187372524, 0.18289866995011397, 0.017658739804514344, 0.017636142904167734, 0.36321809700378627, 0.3143632303242705, 0.423440058400393, 0.4978839529053491, 0.3802686018815805]}, {\"hovertemplate\": \"class=%{marker.color}<br>PC 1=%{x}<br>PC 2=%{y}<br>PC 3=%{z}<extra></extra>\", \"legendgroup\": \"4\", \"marker\": {\"color\": [4, 4, 4], \"coloraxis\": \"coloraxis\", \"symbol\": \"x\"}, \"mode\": \"markers\", \"name\": \"4\", \"scene\": \"scene\", \"showlegend\": true, \"type\": \"scatter3d\", \"x\": [4.405296886623415, -0.14142887529511353, -0.33834483011955335], \"y\": [2.9638624521600136, 1.6863418207544232, 1.1872657698229652], \"z\": [4.204735652426439, 6.657961550432589, 6.555360934497298]}, {\"hovertemplate\": \"class=%{marker.color}<br>PC 1=%{x}<br>PC 2=%{y}<br>PC 3=%{z}<extra></extra>\", \"legendgroup\": \"3\", \"marker\": {\"color\": [3, 3, 3, 3], \"coloraxis\": \"coloraxis\", \"symbol\": \"cross\"}, \"mode\": \"markers\", \"name\": \"3\", \"scene\": \"scene\", \"showlegend\": true, \"type\": \"scatter3d\", \"x\": [-0.40858341994507597, -0.3468546175758138, -0.5767250750856991, -0.4160792973787225], \"y\": [2.3180226931290693, 3.6570874458325493, 4.094535615252636, 4.221992281118503], \"z\": [16.607474202877295, 15.116210313534252, 16.31423830161207, 10.646512730751084]}, {\"hovertemplate\": \"class=%{marker.color}<br>PC 1=%{x}<br>PC 2=%{y}<br>PC 3=%{z}<extra></extra>\", \"legendgroup\": \"2\", \"marker\": {\"color\": [2], \"coloraxis\": \"coloraxis\", \"symbol\": \"circle\"}, \"mode\": \"markers\", \"name\": \"2\", \"scene\": \"scene\", \"showlegend\": true, \"type\": \"scatter3d\", \"x\": [34.10077268192604], \"y\": [1.505643043013418], \"z\": [-0.7448382789737324]}],                        {\"coloraxis\": {\"colorbar\": {\"title\": {\"text\": \"class\"}}, \"colorscale\": [[0.0, \"#0d0887\"], [0.1111111111111111, \"#46039f\"], [0.2222222222222222, \"#7201a8\"], [0.3333333333333333, \"#9c179e\"], [0.4444444444444444, \"#bd3786\"], [0.5555555555555556, \"#d8576b\"], [0.6666666666666666, \"#ed7953\"], [0.7777777777777778, \"#fb9f3a\"], [0.8888888888888888, \"#fdca26\"], [1.0, \"#f0f921\"]]}, \"legend\": {\"title\": {\"text\": \"class\"}, \"tracegroupgap\": 0, \"x\": 0, \"y\": 1}, \"margin\": {\"t\": 60}, \"scene\": {\"domain\": {\"x\": [0.0, 1.0], \"y\": [0.0, 1.0]}, \"xaxis\": {\"title\": {\"text\": \"PC 1\"}}, \"yaxis\": {\"title\": {\"text\": \"PC 2\"}}, \"zaxis\": {\"title\": {\"text\": \"PC 3\"}}}, \"template\": {\"data\": {\"bar\": [{\"error_x\": {\"color\": \"#2a3f5f\"}, \"error_y\": {\"color\": \"#2a3f5f\"}, \"marker\": {\"line\": {\"color\": \"#E5ECF6\", \"width\": 0.5}}, \"type\": \"bar\"}], \"barpolar\": [{\"marker\": {\"line\": {\"color\": \"#E5ECF6\", \"width\": 0.5}}, \"type\": \"barpolar\"}], \"carpet\": [{\"aaxis\": {\"endlinecolor\": \"#2a3f5f\", \"gridcolor\": \"white\", \"linecolor\": \"white\", \"minorgridcolor\": \"white\", \"startlinecolor\": \"#2a3f5f\"}, \"baxis\": {\"endlinecolor\": \"#2a3f5f\", \"gridcolor\": \"white\", \"linecolor\": \"white\", \"minorgridcolor\": \"white\", \"startlinecolor\": \"#2a3f5f\"}, \"type\": \"carpet\"}], \"choropleth\": [{\"colorbar\": {\"outlinewidth\": 0, \"ticks\": \"\"}, \"type\": \"choropleth\"}], \"contour\": [{\"colorbar\": {\"outlinewidth\": 0, \"ticks\": \"\"}, \"colorscale\": [[0.0, \"#0d0887\"], [0.1111111111111111, \"#46039f\"], [0.2222222222222222, \"#7201a8\"], [0.3333333333333333, \"#9c179e\"], [0.4444444444444444, \"#bd3786\"], [0.5555555555555556, \"#d8576b\"], [0.6666666666666666, \"#ed7953\"], [0.7777777777777778, \"#fb9f3a\"], [0.8888888888888888, \"#fdca26\"], [1.0, \"#f0f921\"]], \"type\": \"contour\"}], \"contourcarpet\": [{\"colorbar\": {\"outlinewidth\": 0, \"ticks\": \"\"}, \"type\": \"contourcarpet\"}], \"heatmap\": [{\"colorbar\": {\"outlinewidth\": 0, \"ticks\": \"\"}, \"colorscale\": [[0.0, \"#0d0887\"], [0.1111111111111111, \"#46039f\"], [0.2222222222222222, \"#7201a8\"], [0.3333333333333333, \"#9c179e\"], [0.4444444444444444, \"#bd3786\"], [0.5555555555555556, \"#d8576b\"], [0.6666666666666666, \"#ed7953\"], [0.7777777777777778, \"#fb9f3a\"], [0.8888888888888888, \"#fdca26\"], [1.0, \"#f0f921\"]], \"type\": \"heatmap\"}], \"heatmapgl\": [{\"colorbar\": {\"outlinewidth\": 0, \"ticks\": \"\"}, \"colorscale\": [[0.0, \"#0d0887\"], [0.1111111111111111, \"#46039f\"], [0.2222222222222222, \"#7201a8\"], [0.3333333333333333, \"#9c179e\"], [0.4444444444444444, \"#bd3786\"], [0.5555555555555556, \"#d8576b\"], [0.6666666666666666, \"#ed7953\"], [0.7777777777777778, \"#fb9f3a\"], [0.8888888888888888, \"#fdca26\"], [1.0, \"#f0f921\"]], \"type\": \"heatmapgl\"}], \"histogram\": [{\"marker\": {\"colorbar\": {\"outlinewidth\": 0, \"ticks\": \"\"}}, \"type\": \"histogram\"}], \"histogram2d\": [{\"colorbar\": {\"outlinewidth\": 0, \"ticks\": \"\"}, \"colorscale\": [[0.0, \"#0d0887\"], [0.1111111111111111, \"#46039f\"], [0.2222222222222222, \"#7201a8\"], [0.3333333333333333, \"#9c179e\"], [0.4444444444444444, \"#bd3786\"], [0.5555555555555556, \"#d8576b\"], [0.6666666666666666, \"#ed7953\"], [0.7777777777777778, \"#fb9f3a\"], [0.8888888888888888, \"#fdca26\"], [1.0, \"#f0f921\"]], \"type\": \"histogram2d\"}], \"histogram2dcontour\": [{\"colorbar\": {\"outlinewidth\": 0, \"ticks\": \"\"}, \"colorscale\": [[0.0, \"#0d0887\"], [0.1111111111111111, \"#46039f\"], [0.2222222222222222, \"#7201a8\"], [0.3333333333333333, \"#9c179e\"], [0.4444444444444444, \"#bd3786\"], [0.5555555555555556, \"#d8576b\"], [0.6666666666666666, \"#ed7953\"], [0.7777777777777778, \"#fb9f3a\"], [0.8888888888888888, \"#fdca26\"], [1.0, \"#f0f921\"]], \"type\": \"histogram2dcontour\"}], \"mesh3d\": [{\"colorbar\": {\"outlinewidth\": 0, \"ticks\": \"\"}, \"type\": \"mesh3d\"}], \"parcoords\": [{\"line\": {\"colorbar\": {\"outlinewidth\": 0, \"ticks\": \"\"}}, \"type\": \"parcoords\"}], \"pie\": [{\"automargin\": true, \"type\": \"pie\"}], \"scatter\": [{\"marker\": {\"colorbar\": {\"outlinewidth\": 0, \"ticks\": \"\"}}, \"type\": \"scatter\"}], \"scatter3d\": [{\"line\": {\"colorbar\": {\"outlinewidth\": 0, \"ticks\": \"\"}}, \"marker\": {\"colorbar\": {\"outlinewidth\": 0, \"ticks\": \"\"}}, \"type\": \"scatter3d\"}], \"scattercarpet\": [{\"marker\": {\"colorbar\": {\"outlinewidth\": 0, \"ticks\": \"\"}}, \"type\": \"scattercarpet\"}], \"scattergeo\": [{\"marker\": {\"colorbar\": {\"outlinewidth\": 0, \"ticks\": \"\"}}, \"type\": \"scattergeo\"}], \"scattergl\": [{\"marker\": {\"colorbar\": {\"outlinewidth\": 0, \"ticks\": \"\"}}, \"type\": \"scattergl\"}], \"scattermapbox\": [{\"marker\": {\"colorbar\": {\"outlinewidth\": 0, \"ticks\": \"\"}}, \"type\": \"scattermapbox\"}], \"scatterpolar\": [{\"marker\": {\"colorbar\": {\"outlinewidth\": 0, \"ticks\": \"\"}}, \"type\": \"scatterpolar\"}], \"scatterpolargl\": [{\"marker\": {\"colorbar\": {\"outlinewidth\": 0, \"ticks\": \"\"}}, \"type\": \"scatterpolargl\"}], \"scatterternary\": [{\"marker\": {\"colorbar\": {\"outlinewidth\": 0, \"ticks\": \"\"}}, \"type\": \"scatterternary\"}], \"surface\": [{\"colorbar\": {\"outlinewidth\": 0, \"ticks\": \"\"}, \"colorscale\": [[0.0, \"#0d0887\"], [0.1111111111111111, \"#46039f\"], [0.2222222222222222, \"#7201a8\"], [0.3333333333333333, \"#9c179e\"], [0.4444444444444444, \"#bd3786\"], [0.5555555555555556, \"#d8576b\"], [0.6666666666666666, \"#ed7953\"], [0.7777777777777778, \"#fb9f3a\"], [0.8888888888888888, \"#fdca26\"], [1.0, \"#f0f921\"]], \"type\": \"surface\"}], \"table\": [{\"cells\": {\"fill\": {\"color\": \"#EBF0F8\"}, \"line\": {\"color\": \"white\"}}, \"header\": {\"fill\": {\"color\": \"#C8D4E3\"}, \"line\": {\"color\": \"white\"}}, \"type\": \"table\"}]}, \"layout\": {\"annotationdefaults\": {\"arrowcolor\": \"#2a3f5f\", \"arrowhead\": 0, \"arrowwidth\": 1}, \"coloraxis\": {\"colorbar\": {\"outlinewidth\": 0, \"ticks\": \"\"}}, \"colorscale\": {\"diverging\": [[0, \"#8e0152\"], [0.1, \"#c51b7d\"], [0.2, \"#de77ae\"], [0.3, \"#f1b6da\"], [0.4, \"#fde0ef\"], [0.5, \"#f7f7f7\"], [0.6, \"#e6f5d0\"], [0.7, \"#b8e186\"], [0.8, \"#7fbc41\"], [0.9, \"#4d9221\"], [1, \"#276419\"]], \"sequential\": [[0.0, \"#0d0887\"], [0.1111111111111111, \"#46039f\"], [0.2222222222222222, \"#7201a8\"], [0.3333333333333333, \"#9c179e\"], [0.4444444444444444, \"#bd3786\"], [0.5555555555555556, \"#d8576b\"], [0.6666666666666666, \"#ed7953\"], [0.7777777777777778, \"#fb9f3a\"], [0.8888888888888888, \"#fdca26\"], [1.0, \"#f0f921\"]], \"sequentialminus\": [[0.0, \"#0d0887\"], [0.1111111111111111, \"#46039f\"], [0.2222222222222222, \"#7201a8\"], [0.3333333333333333, \"#9c179e\"], [0.4444444444444444, \"#bd3786\"], [0.5555555555555556, \"#d8576b\"], [0.6666666666666666, \"#ed7953\"], [0.7777777777777778, \"#fb9f3a\"], [0.8888888888888888, \"#fdca26\"], [1.0, \"#f0f921\"]]}, \"colorway\": [\"#636efa\", \"#EF553B\", \"#00cc96\", \"#ab63fa\", \"#FFA15A\", \"#19d3f3\", \"#FF6692\", \"#B6E880\", \"#FF97FF\", \"#FECB52\"], \"font\": {\"color\": \"#2a3f5f\"}, \"geo\": {\"bgcolor\": \"white\", \"lakecolor\": \"white\", \"landcolor\": \"#E5ECF6\", \"showlakes\": true, \"showland\": true, \"subunitcolor\": \"white\"}, \"hoverlabel\": {\"align\": \"left\"}, \"hovermode\": \"closest\", \"mapbox\": {\"style\": \"light\"}, \"paper_bgcolor\": \"white\", \"plot_bgcolor\": \"#E5ECF6\", \"polar\": {\"angularaxis\": {\"gridcolor\": \"white\", \"linecolor\": \"white\", \"ticks\": \"\"}, \"bgcolor\": \"#E5ECF6\", \"radialaxis\": {\"gridcolor\": \"white\", \"linecolor\": \"white\", \"ticks\": \"\"}}, \"scene\": {\"xaxis\": {\"backgroundcolor\": \"#E5ECF6\", \"gridcolor\": \"white\", \"gridwidth\": 2, \"linecolor\": \"white\", \"showbackground\": true, \"ticks\": \"\", \"zerolinecolor\": \"white\"}, \"yaxis\": {\"backgroundcolor\": \"#E5ECF6\", \"gridcolor\": \"white\", \"gridwidth\": 2, \"linecolor\": \"white\", \"showbackground\": true, \"ticks\": \"\", \"zerolinecolor\": \"white\"}, \"zaxis\": {\"backgroundcolor\": \"#E5ECF6\", \"gridcolor\": \"white\", \"gridwidth\": 2, \"linecolor\": \"white\", \"showbackground\": true, \"ticks\": \"\", \"zerolinecolor\": \"white\"}}, \"shapedefaults\": {\"line\": {\"color\": \"#2a3f5f\"}}, \"ternary\": {\"aaxis\": {\"gridcolor\": \"white\", \"linecolor\": \"white\", \"ticks\": \"\"}, \"baxis\": {\"gridcolor\": \"white\", \"linecolor\": \"white\", \"ticks\": \"\"}, \"bgcolor\": \"#E5ECF6\", \"caxis\": {\"gridcolor\": \"white\", \"linecolor\": \"white\", \"ticks\": \"\"}}, \"title\": {\"x\": 0.05}, \"xaxis\": {\"automargin\": true, \"gridcolor\": \"white\", \"linecolor\": \"white\", \"ticks\": \"\", \"title\": {\"standoff\": 15}, \"zerolinecolor\": \"white\", \"zerolinewidth\": 2}, \"yaxis\": {\"automargin\": true, \"gridcolor\": \"white\", \"linecolor\": \"white\", \"ticks\": \"\", \"title\": {\"standoff\": 15}, \"zerolinecolor\": \"white\", \"zerolinewidth\": 2}}}, \"width\": 800},                        {\"responsive\": true}                    ).then(function(){\n",
       "                            \n",
       "var gd = document.getElementById('710cb1dc-719e-4970-ae34-f7ac6c0bfc95');\n",
       "var x = new MutationObserver(function (mutations, observer) {{\n",
       "        var display = window.getComputedStyle(gd).display;\n",
       "        if (!display || display === 'none') {{\n",
       "            console.log([gd, 'removed!']);\n",
       "            Plotly.purge(gd);\n",
       "            observer.disconnect();\n",
       "        }}\n",
       "}});\n",
       "\n",
       "// Listen for the removal of the full notebook cells\n",
       "var notebookContainer = gd.closest('#notebook-container');\n",
       "if (notebookContainer) {{\n",
       "    x.observe(notebookContainer, {childList: true});\n",
       "}}\n",
       "\n",
       "// Listen for the clearing of the current output cell\n",
       "var outputEl = gd.closest('.output');\n",
       "if (outputEl) {{\n",
       "    x.observe(outputEl, {childList: true});\n",
       "}}\n",
       "\n",
       "                        })                };                });            </script>        </div>"
      ]
     },
     "metadata": {},
     "output_type": "display_data"
    }
   ],
   "source": [
    "# Plotting the clusters on 3D plot for K=6\n",
    "fig=px.scatter_3d(\n",
    "    six_clusters,\n",
    "    x=\"PC 1\",\n",
    "    y=\"PC 2\",\n",
    "    z=\"PC 3\",\n",
    "    color=\"class\",\n",
    "    symbol=\"class\",\n",
    "    width=800,\n",
    ")\n",
    "\n",
    "fig.update_layout(legend=dict(x=0, y=1))\n",
    "fig.show()"
   ]
  },
  {
   "cell_type": "markdown",
   "metadata": {},
   "source": [
    "#### Based on the above 3D plots for K=4, K=5 & K=6, it seems that K=4 is the best option."
   ]
  },
  {
   "cell_type": "code",
   "execution_count": 275,
   "metadata": {},
   "outputs": [
    {
     "data": {
      "text/html": [
       "<div>\n",
       "<style scoped>\n",
       "    .dataframe tbody tr th:only-of-type {\n",
       "        vertical-align: middle;\n",
       "    }\n",
       "\n",
       "    .dataframe tbody tr th {\n",
       "        vertical-align: top;\n",
       "    }\n",
       "\n",
       "    .dataframe thead th {\n",
       "        text-align: right;\n",
       "    }\n",
       "</style>\n",
       "<table border=\"1\" class=\"dataframe\">\n",
       "  <thead>\n",
       "    <tr style=\"text-align: right;\">\n",
       "      <th></th>\n",
       "      <th>Algorithm</th>\n",
       "      <th>ProofType</th>\n",
       "      <th>TotalCoinsMined</th>\n",
       "      <th>TotalCoinSupply</th>\n",
       "      <th>PC 1</th>\n",
       "      <th>PC 2</th>\n",
       "      <th>PC 3</th>\n",
       "      <th>CoinName</th>\n",
       "      <th>Class</th>\n",
       "    </tr>\n",
       "  </thead>\n",
       "  <tbody>\n",
       "    <tr>\n",
       "      <th>42</th>\n",
       "      <td>Scrypt</td>\n",
       "      <td>PoW/PoS</td>\n",
       "      <td>4.199995e+01</td>\n",
       "      <td>42</td>\n",
       "      <td>-0.335767</td>\n",
       "      <td>0.982322</td>\n",
       "      <td>-0.581368</td>\n",
       "      <td>42 Coin</td>\n",
       "      <td>0</td>\n",
       "    </tr>\n",
       "    <tr>\n",
       "      <th>404</th>\n",
       "      <td>Scrypt</td>\n",
       "      <td>PoW/PoS</td>\n",
       "      <td>1.055185e+09</td>\n",
       "      <td>532000000</td>\n",
       "      <td>-0.319085</td>\n",
       "      <td>0.982300</td>\n",
       "      <td>-0.581721</td>\n",
       "      <td>404Coin</td>\n",
       "      <td>0</td>\n",
       "    </tr>\n",
       "    <tr>\n",
       "      <th>1337</th>\n",
       "      <td>X13</td>\n",
       "      <td>PoW/PoS</td>\n",
       "      <td>2.927942e+10</td>\n",
       "      <td>314159265359</td>\n",
       "      <td>2.309817</td>\n",
       "      <td>1.626677</td>\n",
       "      <td>-0.713184</td>\n",
       "      <td>EliteCoin</td>\n",
       "      <td>0</td>\n",
       "    </tr>\n",
       "    <tr>\n",
       "      <th>BTC</th>\n",
       "      <td>SHA-256</td>\n",
       "      <td>PoW</td>\n",
       "      <td>1.792718e+07</td>\n",
       "      <td>21000000</td>\n",
       "      <td>-0.141259</td>\n",
       "      <td>-1.339585</td>\n",
       "      <td>0.116826</td>\n",
       "      <td>Bitcoin</td>\n",
       "      <td>2</td>\n",
       "    </tr>\n",
       "    <tr>\n",
       "      <th>ETH</th>\n",
       "      <td>Ethash</td>\n",
       "      <td>PoW</td>\n",
       "      <td>1.076842e+08</td>\n",
       "      <td>0</td>\n",
       "      <td>-0.149832</td>\n",
       "      <td>-1.993421</td>\n",
       "      <td>0.423413</td>\n",
       "      <td>Ethereum</td>\n",
       "      <td>2</td>\n",
       "    </tr>\n",
       "  </tbody>\n",
       "</table>\n",
       "</div>"
      ],
      "text/plain": [
       "     Algorithm ProofType  TotalCoinsMined TotalCoinSupply      PC 1      PC 2  \\\n",
       "42      Scrypt   PoW/PoS     4.199995e+01              42 -0.335767  0.982322   \n",
       "404     Scrypt   PoW/PoS     1.055185e+09       532000000 -0.319085  0.982300   \n",
       "1337       X13   PoW/PoS     2.927942e+10    314159265359  2.309817  1.626677   \n",
       "BTC    SHA-256       PoW     1.792718e+07        21000000 -0.141259 -1.339585   \n",
       "ETH     Ethash       PoW     1.076842e+08               0 -0.149832 -1.993421   \n",
       "\n",
       "          PC 3   CoinName  Class  \n",
       "42   -0.581368    42 Coin      0  \n",
       "404  -0.581721    404Coin      0  \n",
       "1337 -0.713184  EliteCoin      0  \n",
       "BTC   0.116826    Bitcoin      2  \n",
       "ETH   0.423413   Ethereum      2  "
      ]
     },
     "execution_count": 275,
     "metadata": {},
     "output_type": "execute_result"
    }
   ],
   "source": [
    "# Creating DataFrame with results\n",
    "df1 = pd.merge(crypto_df, four_clusters, left_index=True, right_index=True)\n",
    "clustered_df = pd.merge(df1, coins_name, left_index=True, right_index=True)\n",
    "clustered_df =clustered_df[['Algorithm','ProofType','TotalCoinsMined','TotalCoinSupply','PC 1',\n",
    "                           'PC 2', 'PC 3','CoinName','class']]\n",
    "clustered_df.rename(columns = {'class':'Class'}, inplace = True) \n",
    "clustered_df.head()"
   ]
  },
  {
   "cell_type": "markdown",
   "metadata": {},
   "source": [
    "### Visualizing Results"
   ]
  },
  {
   "cell_type": "code",
   "execution_count": 283,
   "metadata": {},
   "outputs": [
    {
     "data": {
      "application/vnd.plotly.v1+json": {
       "config": {
        "plotlyServerURL": "https://plot.ly"
       },
       "data": [
        {
         "customdata": [
          [
           "Scrypt"
          ],
          [
           "Scrypt"
          ],
          [
           "X13"
          ],
          [
           "X11"
          ],
          [
           "SHA-512"
          ],
          [
           "SHA-256"
          ],
          [
           "SHA-256"
          ],
          [
           "X15"
          ],
          [
           "Scrypt"
          ],
          [
           "Scrypt"
          ],
          [
           "Scrypt"
          ],
          [
           "Scrypt"
          ],
          [
           "Scrypt"
          ],
          [
           "Scrypt"
          ],
          [
           "Groestl"
          ],
          [
           "PoS"
          ],
          [
           "Scrypt"
          ],
          [
           "Scrypt"
          ],
          [
           "X11"
          ],
          [
           "X11"
          ],
          [
           "SHA3"
          ],
          [
           "Scrypt"
          ],
          [
           "SHA-256"
          ],
          [
           "Scrypt"
          ],
          [
           "X13"
          ],
          [
           "X13"
          ],
          [
           "NeoScrypt"
          ],
          [
           "Scrypt"
          ],
          [
           "Scrypt"
          ],
          [
           "Scrypt"
          ],
          [
           "X11"
          ],
          [
           "X11"
          ],
          [
           "Multiple"
          ],
          [
           "PHI1612"
          ],
          [
           "X11"
          ],
          [
           "Scrypt"
          ],
          [
           "Scrypt"
          ],
          [
           "Scrypt"
          ],
          [
           "X11"
          ],
          [
           "Multiple"
          ],
          [
           "X13"
          ],
          [
           "Scrypt"
          ],
          [
           "Shabal256"
          ],
          [
           "Counterparty"
          ],
          [
           "SHA-256"
          ],
          [
           "Groestl"
          ],
          [
           "Scrypt"
          ],
          [
           "X13"
          ],
          [
           "Scrypt"
          ],
          [
           "Scrypt"
          ],
          [
           "X13"
          ],
          [
           "X11"
          ],
          [
           "Scrypt"
          ],
          [
           "X11"
          ],
          [
           "SHA3"
          ],
          [
           "QUAIT"
          ],
          [
           "X11"
          ],
          [
           "Scrypt"
          ],
          [
           "X13"
          ],
          [
           "SHA-256"
          ],
          [
           "X15"
          ],
          [
           "BLAKE256"
          ],
          [
           "SHA-256"
          ],
          [
           "X11"
          ],
          [
           "SHA-256"
          ],
          [
           "NIST5"
          ],
          [
           "Scrypt"
          ],
          [
           "Scrypt"
          ],
          [
           "X11"
          ],
          [
           "Scrypt"
          ],
          [
           "SHA-256"
          ],
          [
           "Scrypt"
          ],
          [
           "PoS"
          ],
          [
           "X11"
          ],
          [
           "SHA-256"
          ],
          [
           "SHA-256"
          ],
          [
           "NIST5"
          ],
          [
           "X11"
          ],
          [
           "POS 3.0"
          ],
          [
           "Scrypt"
          ],
          [
           "Scrypt"
          ],
          [
           "Scrypt"
          ],
          [
           "X13"
          ],
          [
           "X11"
          ],
          [
           "X11"
          ],
          [
           "Scrypt"
          ],
          [
           "SHA-256"
          ],
          [
           "X11"
          ],
          [
           "Scrypt"
          ],
          [
           "Scrypt"
          ],
          [
           "Scrypt"
          ],
          [
           "Scrypt"
          ],
          [
           "SHA-256D"
          ],
          [
           "PoS"
          ],
          [
           "Scrypt"
          ],
          [
           "X11"
          ],
          [
           "PoS"
          ],
          [
           "X13"
          ],
          [
           "X14"
          ],
          [
           "PoS"
          ],
          [
           "SHA-256D"
          ],
          [
           "DPoS"
          ],
          [
           "X11"
          ],
          [
           "X13"
          ],
          [
           "X11"
          ],
          [
           "PoS"
          ],
          [
           "Scrypt"
          ],
          [
           "Scrypt"
          ],
          [
           "PoS"
          ],
          [
           "X11"
          ],
          [
           "SHA-256"
          ],
          [
           "Scrypt"
          ],
          [
           "X11"
          ],
          [
           "Scrypt"
          ],
          [
           "Scrypt"
          ],
          [
           "X11"
          ],
          [
           "Scrypt"
          ],
          [
           "Scrypt"
          ],
          [
           "Scrypt"
          ],
          [
           "Scrypt"
          ],
          [
           "Quark"
          ],
          [
           "QuBit"
          ],
          [
           "Scrypt"
          ],
          [
           "SHA-256"
          ],
          [
           "X11"
          ],
          [
           "Scrypt"
          ],
          [
           "Scrypt"
          ],
          [
           "Scrypt"
          ],
          [
           "Scrypt"
          ],
          [
           "X13"
          ],
          [
           "Scrypt"
          ],
          [
           "Scrypt"
          ],
          [
           "X11"
          ],
          [
           "Blake2S"
          ],
          [
           "X11"
          ],
          [
           "PoS"
          ],
          [
           "X11"
          ],
          [
           "PoS"
          ],
          [
           "X11"
          ],
          [
           "Scrypt"
          ],
          [
           "Scrypt"
          ],
          [
           "Scrypt"
          ],
          [
           "SHA-256"
          ],
          [
           "X11"
          ],
          [
           "Scrypt"
          ],
          [
           "PoS"
          ],
          [
           "Scrypt"
          ],
          [
           "X15"
          ],
          [
           "SHA-256"
          ],
          [
           "POS 3.0"
          ],
          [
           "536"
          ],
          [
           "NIST5"
          ],
          [
           "NIST5"
          ],
          [
           "Skein"
          ],
          [
           "X13"
          ],
          [
           "Scrypt"
          ],
          [
           "X13"
          ],
          [
           "SkunkHash v2 Raptor"
          ],
          [
           "Skein"
          ],
          [
           "X11"
          ],
          [
           "Scrypt"
          ],
          [
           "VeChainThor Authority"
          ],
          [
           "PoS"
          ],
          [
           "Scrypt"
          ],
          [
           "Scrypt"
          ],
          [
           "SHA-512"
          ],
          [
           "Ouroboros"
          ],
          [
           "X11"
          ],
          [
           "NeoScrypt"
          ],
          [
           "Scrypt"
          ],
          [
           "Lyra2REv2"
          ],
          [
           "Scrypt"
          ],
          [
           "SHA-256"
          ],
          [
           "NIST5"
          ],
          [
           "PHI1612"
          ],
          [
           "Scrypt"
          ],
          [
           "Quark"
          ],
          [
           "POS 2.0"
          ],
          [
           "Scrypt"
          ],
          [
           "SHA-256"
          ],
          [
           "X11"
          ],
          [
           "DPoS"
          ],
          [
           "NIST5"
          ],
          [
           "X13"
          ],
          [
           "Scrypt"
          ],
          [
           "NIST5"
          ],
          [
           "Quark"
          ],
          [
           "Scrypt"
          ],
          [
           "Scrypt"
          ],
          [
           "X11"
          ],
          [
           "Quark"
          ],
          [
           "Scrypt"
          ],
          [
           "Scrypt"
          ],
          [
           "X11"
          ],
          [
           "POS 3.0"
          ],
          [
           "Ethash"
          ],
          [
           "Scrypt"
          ],
          [
           "Scrypt"
          ],
          [
           "X13"
          ],
          [
           "C11"
          ],
          [
           "X11"
          ],
          [
           "XEVAN"
          ],
          [
           "Scrypt"
          ],
          [
           "VBFT"
          ],
          [
           "NIST5"
          ],
          [
           "Scrypt"
          ],
          [
           "Scrypt"
          ],
          [
           "Scrypt"
          ],
          [
           "Green Protocol"
          ],
          [
           "PoS"
          ],
          [
           "Scrypt"
          ],
          [
           "Semux BFT consensus"
          ],
          [
           "Quark"
          ],
          [
           "PoS"
          ],
          [
           "X16R"
          ],
          [
           "Scrypt"
          ],
          [
           "XEVAN"
          ],
          [
           "Scrypt"
          ],
          [
           "Scrypt"
          ],
          [
           "Scrypt"
          ],
          [
           "SHA-256D"
          ],
          [
           "Scrypt"
          ],
          [
           "X15"
          ],
          [
           "Scrypt"
          ],
          [
           "Quark"
          ],
          [
           "SHA-256"
          ],
          [
           "DPoS"
          ],
          [
           "X16R"
          ],
          [
           "Quark"
          ],
          [
           "Quark"
          ],
          [
           "Scrypt"
          ],
          [
           "Lyra2REv2"
          ],
          [
           "Quark"
          ],
          [
           "Scrypt"
          ],
          [
           "X11"
          ],
          [
           "X11"
          ],
          [
           "Scrypt"
          ],
          [
           "PoS"
          ],
          [
           "Keccak"
          ],
          [
           "X11"
          ],
          [
           "Scrypt"
          ],
          [
           "SHA-512"
          ],
          [
           "XEVAN"
          ],
          [
           "XEVAN"
          ],
          [
           "X11"
          ],
          [
           "Quark"
          ],
          [
           "Equihash"
          ],
          [
           "Scrypt"
          ],
          [
           "Quark"
          ],
          [
           "Quark"
          ],
          [
           "Scrypt"
          ],
          [
           "X11"
          ],
          [
           "Scrypt"
          ],
          [
           "XEVAN"
          ],
          [
           "SHA-256D"
          ],
          [
           "X11"
          ],
          [
           "X11"
          ],
          [
           "DPoS"
          ],
          [
           "Scrypt"
          ],
          [
           "X11"
          ],
          [
           "Scrypt"
          ],
          [
           "Scrypt"
          ],
          [
           "SHA-256"
          ],
          [
           "Scrypt"
          ],
          [
           "X11"
          ],
          [
           "Scrypt"
          ],
          [
           "SHA-256"
          ],
          [
           "X11"
          ],
          [
           "Scrypt"
          ],
          [
           "Scrypt"
          ],
          [
           "X11"
          ],
          [
           "Scrypt"
          ],
          [
           "PoS"
          ],
          [
           "X11"
          ],
          [
           "SHA-256"
          ],
          [
           "DPoS"
          ],
          [
           "Scrypt"
          ],
          [
           "Scrypt"
          ],
          [
           "NeoScrypt"
          ],
          [
           "X13"
          ],
          [
           "DPoS"
          ],
          [
           "DPoS"
          ],
          [
           "SHA-256"
          ],
          [
           "PoS"
          ],
          [
           "PoS"
          ],
          [
           "SHA-256"
          ],
          [
           "Scrypt"
          ],
          [
           "Scrypt"
          ]
         ],
         "hovertemplate": "<b>%{hovertext}</b><br><br>Class=%{marker.color}<br>PC 1=%{x}<br>PC 2=%{y}<br>PC 3=%{z}<br>Algorithm=%{customdata[0]}<extra></extra>",
         "hovertext": [
          "42 Coin",
          "404Coin",
          "EliteCoin",
          "Dash",
          "Bitshares",
          "BitcoinDark",
          "PayCoin",
          "KoboCoin",
          "Aurora Coin",
          "BlueCoin",
          "EnergyCoin",
          "BitBar",
          "CryptoBullion",
          "CasinoCoin",
          "Diamond",
          "Exclusive Coin",
          "FlutterCoin",
          "HoboNickels",
          "HyperStake",
          "IOCoin",
          "MaxCoin",
          "MintCoin",
          "MazaCoin",
          "Nautilus Coin",
          "NavCoin",
          "OpalCoin",
          "Orbitcoin",
          "PotCoin",
          "PhoenixCoin",
          "Reddcoin",
          "SuperCoin",
          "SyncCoin",
          "TeslaCoin",
          "TittieCoin",
          "TorCoin",
          "UnitaryStatus Dollar",
          "UltraCoin",
          "VeriCoin",
          "X11 Coin",
          "Crypti",
          "StealthCoin",
          "ZCC Coin",
          "BurstCoin",
          "StorjCoin",
          "Neutron",
          "FairCoin",
          "RubyCoin",
          "Kore",
          "Dnotes",
          "8BIT Coin",
          "Sativa Coin",
          "Ucoin",
          "Vtorrent",
          "IslaCoin",
          "Nexus",
          "Droidz",
          "Squall Coin",
          "Diggits",
          "Paycon",
          "Emercoin",
          "EverGreenCoin",
          "Decred",
          "EDRCoin",
          "Hitcoin",
          "DubaiCoin",
          "PWR Coin",
          "BillaryCoin",
          "GPU Coin",
          "EuropeCoin",
          "ZeitCoin",
          "SwingCoin",
          "SafeExchangeCoin",
          "Nebuchadnezzar",
          "Ratecoin",
          "Revenu",
          "Clockcoin",
          "VIP Tokens",
          "BitSend",
          "Let it Ride",
          "PutinCoin",
          "iBankCoin",
          "Frankywillcoin",
          "MudraCoin",
          "Lutetium Coin",
          "GoldBlocks",
          "CarterCoin",
          "BitTokens",
          "MustangCoin",
          "ZoneCoin",
          "RootCoin",
          "BitCurrency",
          "Swiscoin",
          "BuzzCoin",
          "Opair",
          "PesoBit",
          "Halloween Coin",
          "CoffeeCoin",
          "RoyalCoin",
          "GanjaCoin V2",
          "TeamUP",
          "LanaCoin",
          "ARK",
          "InsaneCoin",
          "EmberCoin",
          "XenixCoin",
          "FreeCoin",
          "PLNCoin",
          "AquariusCoin",
          "Creatio",
          "Eternity",
          "Eurocoin",
          "BitcoinFast",
          "Stakenet",
          "BitConnect Coin",
          "MoneyCoin",
          "Enigma",
          "Russiacoin",
          "PandaCoin",
          "GameUnits",
          "GAKHcoin",
          "Allsafe",
          "LiteCreed",
          "Klingon Empire Darsek",
          "Internet of People",
          "KushCoin",
          "Printerium",
          "Impeach",
          "Zilbercoin",
          "FirstCoin",
          "FindCoin",
          "OpenChat",
          "RenosCoin",
          "VirtacoinPlus",
          "TajCoin",
          "Impact",
          "Atmos",
          "HappyCoin",
          "MacronCoin",
          "Condensate",
          "Independent Money System",
          "ArgusCoin",
          "LomoCoin",
          "ProCurrency",
          "GoldReserve",
          "GrowthCoin",
          "Phreak",
          "Degas Coin",
          "HTML5 Coin",
          "Ultimate Secure Cash",
          "QTUM",
          "Espers",
          "Denarius",
          "Virta Unique Coin",
          "Bitcoin Planet",
          "BritCoin",
          "Linda",
          "DeepOnion",
          "Signatum",
          "Cream",
          "Monoeci",
          "Draftcoin",
          "Vechain",
          "Stakecoin",
          "CoinonatX",
          "Ethereum Dark",
          "Obsidian",
          "Cardano",
          "Regalcoin",
          "TrezarCoin",
          "TerraNovaCoin",
          "Rupee",
          "WomenCoin",
          "Theresa May Coin",
          "NamoCoin",
          "LUXCoin",
          "Xios",
          "Bitcloud 2.0",
          "KekCoin",
          "BlackholeCoin",
          "Infinity Economics",
          "Magnet",
          "Lamden Tau",
          "Electra",
          "Bitcoin Diamond",
          "Cash & Back Coin",
          "Bulwark",
          "Kalkulus",
          "GermanCoin",
          "LiteCoin Ultra",
          "PhantomX",
          "Digiwage",
          "Trollcoin",
          "Litecoin Plus",
          "Monkey Project",
          "TokenPay",
          "1717 Masonic Commemorative Token",
          "My Big Coin",
          "Unified Society USDEX",
          "Tokyo Coin",
          "Stipend",
          "Pushi",
          "Ellerium",
          "Velox",
          "Ontology",
          "Bitspace",
          "Briacoin",
          "Ignition",
          "MedicCoin",
          "Bitcoin Green",
          "Deviant Coin",
          "Abjcoin",
          "Semux",
          "Carebit",
          "Zealium",
          "Proton",
          "iDealCash",
          "Bitcoin Incognito",
          "HollyWoodCoin",
          "Swisscoin",
          "Xt3ch",
          "TheVig",
          "EmaratCoin",
          "Dekado",
          "Lynx",
          "Poseidon Quark",
          "BitcoinWSpectrum",
          "Muse",
          "Trivechain",
          "Dystem",
          "Giant",
          "Peony Coin",
          "Absolute Coin",
          "Vitae",
          "TPCash",
          "ARENON",
          "EUNO",
          "MMOCoin",
          "Ketan",
          "XDNA",
          "PAXEX",
          "ThunderStake",
          "Kcash",
          "Bettex coin",
          "BitMoney",
          "Junson Ming Chan Coin",
          "HerbCoin",
          "PirateCash",
          "Oduwa",
          "Galilel",
          "Crypto Sports",
          "Credit",
          "Dash Platinum",
          "Nasdacoin",
          "Beetle Coin",
          "Titan Coin",
          "Award",
          "Insane Coin",
          "ALAX",
          "LiteDoge",
          "TruckCoin",
          "OrangeCoin",
          "BitstarCoin",
          "NeosCoin",
          "HyperCoin",
          "PinkCoin",
          "AudioCoin",
          "IncaKoin",
          "Piggy Coin",
          "Genstake",
          "XiaoMiCoin",
          "CapriCoin",
          " ClubCoin",
          "Radium",
          "Creditbit ",
          "OKCash",
          "Lisk",
          "HiCoin",
          "WhiteCoin",
          "FriendshipCoin",
          "Triangles Coin",
          "EOS",
          "Oxycoin",
          "TigerCash",
          "Particl",
          "Nxt",
          "ZEPHYR",
          "Gapcoin",
          "BitcoinPlus"
         ],
         "legendgroup": "0",
         "marker": {
          "color": [
           0,
           0,
           0,
           0,
           0,
           0,
           0,
           0,
           0,
           0,
           0,
           0,
           0,
           0,
           0,
           0,
           0,
           0,
           0,
           0,
           0,
           0,
           0,
           0,
           0,
           0,
           0,
           0,
           0,
           0,
           0,
           0,
           0,
           0,
           0,
           0,
           0,
           0,
           0,
           0,
           0,
           0,
           0,
           0,
           0,
           0,
           0,
           0,
           0,
           0,
           0,
           0,
           0,
           0,
           0,
           0,
           0,
           0,
           0,
           0,
           0,
           0,
           0,
           0,
           0,
           0,
           0,
           0,
           0,
           0,
           0,
           0,
           0,
           0,
           0,
           0,
           0,
           0,
           0,
           0,
           0,
           0,
           0,
           0,
           0,
           0,
           0,
           0,
           0,
           0,
           0,
           0,
           0,
           0,
           0,
           0,
           0,
           0,
           0,
           0,
           0,
           0,
           0,
           0,
           0,
           0,
           0,
           0,
           0,
           0,
           0,
           0,
           0,
           0,
           0,
           0,
           0,
           0,
           0,
           0,
           0,
           0,
           0,
           0,
           0,
           0,
           0,
           0,
           0,
           0,
           0,
           0,
           0,
           0,
           0,
           0,
           0,
           0,
           0,
           0,
           0,
           0,
           0,
           0,
           0,
           0,
           0,
           0,
           0,
           0,
           0,
           0,
           0,
           0,
           0,
           0,
           0,
           0,
           0,
           0,
           0,
           0,
           0,
           0,
           0,
           0,
           0,
           0,
           0,
           0,
           0,
           0,
           0,
           0,
           0,
           0,
           0,
           0,
           0,
           0,
           0,
           0,
           0,
           0,
           0,
           0,
           0,
           0,
           0,
           0,
           0,
           0,
           0,
           0,
           0,
           0,
           0,
           0,
           0,
           0,
           0,
           0,
           0,
           0,
           0,
           0,
           0,
           0,
           0,
           0,
           0,
           0,
           0,
           0,
           0,
           0,
           0,
           0,
           0,
           0,
           0,
           0,
           0,
           0,
           0,
           0,
           0,
           0,
           0,
           0,
           0,
           0,
           0,
           0,
           0,
           0,
           0,
           0,
           0,
           0,
           0,
           0,
           0,
           0,
           0,
           0,
           0,
           0,
           0,
           0,
           0,
           0,
           0,
           0,
           0,
           0,
           0,
           0,
           0,
           0,
           0,
           0,
           0,
           0,
           0,
           0,
           0,
           0,
           0,
           0,
           0,
           0,
           0,
           0,
           0,
           0,
           0,
           0,
           0,
           0,
           0,
           0,
           0,
           0,
           0,
           0,
           0,
           0
          ],
          "coloraxis": "coloraxis",
          "symbol": "circle"
         },
         "mode": "markers",
         "name": "0",
         "scene": "scene",
         "showlegend": true,
         "type": "scatter3d",
         "x": [
          -0.3357667788775343,
          -0.3190853915560137,
          2.3098167034099713,
          -0.3887450865824849,
          -0.2550030985217202,
          -0.30833260055645917,
          -0.26366347524062667,
          -0.23772583773782416,
          -0.3354259828606137,
          -0.3279943020021651,
          -0.3342614808235963,
          -0.3357627114792302,
          -0.3357469744998666,
          0.6135645230416797,
          -0.3647075722006168,
          -0.34576779849777556,
          -0.2824988343322098,
          -0.3338234992842274,
          -0.3238744920568285,
          -0.38863965176802034,
          -0.4315892046749954,
          -0.03069483936873717,
          -0.27160043515700755,
          -0.2908485090045438,
          -0.27640398396840254,
          -0.2770269664799226,
          -0.34290499741598307,
          -0.3300632025294052,
          -0.3341668266154646,
          0.022819971149395525,
          -0.3437858233481856,
          -0.38901162020034485,
          -0.24482612297137954,
          -0.3055386987100119,
          -0.3889231797584271,
          -0.3109728240031836,
          -0.3344428288160075,
          -0.29272113340474054,
          -0.3888875982497231,
          -0.24529414575804934,
          -0.27680755745427393,
          -0.32686181008012527,
          -0.12815084692705161,
          -0.34135542892515336,
          -0.307543472057252,
          -0.3641284029559801,
          -0.2908286957608967,
          -0.27710248265742327,
          -0.28547757184723777,
          -0.3357488251215741,
          -0.2770546027125307,
          -0.34423128042312817,
          -0.3354829360429517,
          -0.38899312613019904,
          -0.45894574493447304,
          -0.4226295789200501,
          -0.37593668536126745,
          -0.28922854365253864,
          -0.2765757643664102,
          -0.3008829856053869,
          -0.2401693555595093,
          -0.07864778114244268,
          -0.30830347834867533,
          -0.06613929145671119,
          -0.30836721771638487,
          -0.23252522918722615,
          -0.33535872755543306,
          -0.2890977866023498,
          -0.38615995280315973,
          0.8634505283594122,
          -0.30816711991820683,
          -0.11800028499530084,
          -0.34545073807987753,
          -0.3868336645103141,
          -0.30690964666741877,
          -0.30457588298175664,
          -0.35403500455771625,
          -0.3877271605414353,
          -0.34848411556402337,
          -0.3116315505126865,
          -0.33539687955806496,
          -0.33383410806911373,
          -0.23112668239035036,
          -0.33170842473119266,
          -0.3884665270994677,
          -0.3346002528113328,
          -0.30834817735836384,
          -0.38898231323451765,
          -0.33558620719611476,
          -0.33574305105083607,
          -0.289086692330405,
          -0.24898912199541073,
          0.03845247321945524,
          -0.3444066818817441,
          -0.3353567283278162,
          -0.3751319671078966,
          -0.3437343850840336,
          -0.23255847486989234,
          -0.40893011810108765,
          -0.34348379247029576,
          -0.2764271320555866,
          3.7236659229017484,
          -0.3885744304137321,
          0.8565168107726033,
          -0.3889371695390656,
          -0.3448709365938339,
          -0.3352843084127476,
          -0.33543883666881474,
          -0.34545073807987753,
          -0.3885117144848364,
          -0.308210676627587,
          -0.3352850286062306,
          -0.36188411594639913,
          -0.33543258750839317,
          -0.3310170000250208,
          -0.38896620287458333,
          -0.33464265655326,
          0.35312521156237925,
          -0.33563206643890564,
          -0.33570269637627154,
          -0.3522722214232762,
          -0.3487710521997268,
          -0.33192625658799607,
          -0.3083245617374091,
          -0.3888760554831248,
          -0.3354802816349369,
          -0.3356073983362851,
          -0.29073525421724394,
          -0.29598740581946487,
          -0.23232607637443445,
          -0.3164400634878126,
          -0.2904760015771606,
          -0.38814115957277556,
          -0.41687398130161235,
          -0.38687799203301143,
          -0.34369538242092984,
          -0.3880389178699556,
          -0.338089199407717,
          -0.38397605543843144,
          -0.33555061222543453,
          -0.335549823320497,
          -0.32866590429778164,
          0.269437941038022,
          -0.38851781171297384,
          -0.2733616121752662,
          -0.34548510486958667,
          -0.3347605704725838,
          0.895346284150642,
          -0.26235282037863,
          -0.3472611472562883,
          0.5850228414147286,
          -0.35557232286985846,
          -0.3540730187572213,
          -0.4098082484329738,
          -0.27673936530877624,
          0.12960839541633948,
          -0.2768101923612561,
          -0.34486656850720987,
          -0.4093125185323108,
          -0.38879044321549644,
          -0.29080943601556863,
          4.405296886623415,
          -0.3453513076452235,
          -0.33518543596197975,
          -0.3356856074812122,
          -0.3131288642509308,
          0.6545674802171171,
          -0.3887312497999988,
          -0.33789921031620096,
          -0.33564120205664805,
          -0.31149296983223074,
          0.4343563786820108,
          -0.30666901321859463,
          -0.3403237982484762,
          -0.3857791558550758,
          -0.33559149485085904,
          -0.3953182459311068,
          -0.350512503074459,
          -0.3354617144856782,
          -0.08995844046057008,
          -0.3875227527752455,
          3.728526845838476,
          0.20452566593460744,
          -0.2734774787350899,
          -0.33291941462175506,
          -0.3107300520817904,
          -0.3521579983842703,
          0.07904845002632657,
          -0.3345995800119216,
          -0.38810433468654765,
          -0.3513219961204617,
          -0.32215213150300825,
          -0.33570776588429135,
          -0.3442031780118484,
          -0.348766356996316,
          -0.2733896015404709,
          -0.2925741323718298,
          -0.33124816613046737,
          -0.2241139800274363,
          -0.36614539283268993,
          -0.3888077559393785,
          -0.3354540360319385,
          -0.28996869380971824,
          -0.32674408315360187,
          -0.3551709042156957,
          -0.335735151605826,
          -0.3357168458416637,
          -0.28434426193985757,
          -0.3423173899850624,
          -0.344945340110492,
          -0.33543307902880676,
          3.917957461240905,
          -0.3939846195839928,
          -0.34513421962137397,
          -0.3143663504929544,
          -0.28225217383340107,
          -0.32253154159958,
          -0.29050329150713305,
          -0.13863427443451168,
          -0.290755716028024,
          -0.3418013188377254,
          -0.3349066177090244,
          -0.19490691097887305,
          2.2309396267751365,
          -0.3478624769020929,
          -0.2624804082624272,
          1.0193661573968318,
          -0.35830775614654325,
          -0.3522716742925239,
          -0.3970039081239129,
          -0.1713889305285608,
          -0.35602681656191904,
          -0.3509898516379992,
          -0.328605921197553,
          -0.343780161694904,
          -0.3882805126381946,
          -0.2879984148495659,
          -0.344233283856504,
          -0.34402336152455254,
          -0.3436415007846391,
          -0.19509579774424987,
          -0.2762713324796249,
          -0.2908415245209565,
          0.4559339808285665,
          -0.13389503389962457,
          -0.3962978060342763,
          -0.27171881936838893,
          -0.3354370313959574,
          -0.3967543875112782,
          -0.3523887736354847,
          0.571979977100294,
          -0.3442575565997306,
          -0.33491949565339285,
          -0.3299040676631025,
          -0.29647931466689653,
          -0.3858432230960761,
          -0.3885079723904797,
          3.7407822709606586,
          0.09992976458941703,
          -0.38604448571904354,
          -0.334304561540688,
          -0.3351301543279874,
          -0.26369617029051323,
          -0.3356489712671226,
          -0.380126803306365,
          -0.24927552793646937,
          -0.08771850472970871,
          -0.37587135180912157,
          -0.33492644089076035,
          -0.3279832942663299,
          -0.3850728519823853,
          -0.3333641198715605,
          -0.3457266782564009,
          -0.36371009139721555,
          -0.30684606642988405,
          3.7240581206434986,
          -0.097828373666583,
          -0.33055583069370287,
          -0.3425305560840557,
          -0.2772097851149582,
          3.7339388112660328,
          3.7351844863494215,
          -0.2445721699498165,
          -0.3456624643204235,
          -0.32969173675233393,
          2.4771947892908335,
          -0.33381045392461883,
          -0.2911525508229962
         ],
         "y": [
          0.9823215849155886,
          0.9823001446175911,
          1.6266767993722404,
          1.2576597533313538,
          1.704909974880763,
          0.7904607083811569,
          0.5459944968763013,
          1.8207095145146983,
          0.9823170321006696,
          0.9824844732328452,
          0.9823531315711111,
          0.9823213214701756,
          0.9823213025556186,
          0.3894347310878186,
          0.9169212422335181,
          1.45137646372917,
          0.20007822809430117,
          0.9822786186756182,
          1.0136256231761784,
          1.2576619629354167,
          2.555252868894055,
          0.7433060260435385,
          0.7895586254493385,
          0.7378426847539397,
          1.7915815734319098,
          1.7915685175481346,
          0.5445011226291782,
          0.9821481941962361,
          0.9822867670218307,
          0.9898365100756974,
          1.013208340150807,
          1.2576695103508369,
          0.09583193341244796,
          1.4435731928765632,
          1.2576643901916666,
          0.9817253040574786,
          0.982279587964607,
          0.23511840342233864,
          1.2576682743144219,
          0.09589186811458913,
          1.7915731157169197,
          0.9818107760855441,
          0.8261178740466819,
          1.4215878062342888,
          0.7904451643776845,
          0.9169364346670288,
          0.7378543844125204,
          1.791558565780618,
          0.7376178128278315,
          0.9823219612028742,
          1.7915609640653458,
          1.0131850560617608,
          0.9823135848400225,
          1.2576698986296624,
          3.545406141326197,
          1.9004612856192733,
          1.2647181573258819,
          0.7378181758159597,
          1.7915431018766816,
          0.7899347430582401,
          1.8208840653192622,
          0.9848600107064015,
          0.7904613186971017,
          1.2459191776818226,
          0.7904680033619504,
          1.5005533124657935,
          0.9823008444063849,
          0.7377364902594427,
          1.2574614601745842,
          0.6929990325548173,
          0.7904516226139924,
          0.4005027940047302,
          1.451369159767302,
          1.2576628472891003,
          0.7903505375077816,
          0.7901886304297321,
          1.4979440556649448,
          1.257599486661914,
          1.4392360273013918,
          0.9814325267437156,
          0.9822984175140383,
          0.9822923449636822,
          1.5469819957518538,
          1.0130032348854459,
          1.2576460630561581,
          0.9822832631285298,
          0.790461079367989,
          1.2576680329436432,
          0.9823107231491016,
          0.9823220822104387,
          0.7378908916882546,
          0.2430713399634198,
          1.9113849832779208,
          1.451353378852874,
          0.982330178400105,
          1.2569142415354213,
          1.45139118093936,
          1.5470897320933517,
          1.8906661991095703,
          1.4512144031010774,
          1.913499732599487,
          2.094794119036662,
          1.2576577503366353,
          1.8147314497389075,
          1.257668383886494,
          1.4513603877780472,
          0.9823048171237985,
          0.9822991655546447,
          1.451369159767302,
          1.2576381417527545,
          0.7904646584103256,
          0.9823086657975778,
          0.9131533986056138,
          0.9823090605506203,
          0.9819673361181465,
          1.2576669757077683,
          0.9822447132046328,
          0.7286728608601993,
          0.9823153415208743,
          0.9823206153923517,
          1.3829199934636878,
          0.6393257042557943,
          0.9820533555867027,
          0.7904615742820464,
          1.2576658283184055,
          0.9823136404686186,
          0.9823096281098119,
          0.7378179839759869,
          0.22082518077246743,
          1.547086216067342,
          0.9820291852860172,
          0.7378377657972466,
          1.257618010261335,
          1.913186155982719,
          1.2576375082345947,
          1.4513429758139866,
          1.2576201529471474,
          1.4512584122737036,
          1.2574263262705385,
          0.9823113211754171,
          0.9823061851738029,
          0.9817729675692686,
          0.5048681408633391,
          1.2576519625897982,
          0.736825581480762,
          1.4513614652318034,
          0.9822694418784155,
          1.781930702543771,
          0.5458911373444736,
          1.4392152779736782,
          1.9446797720471487,
          1.4979676324562958,
          1.497922336073411,
          1.936286387290539,
          1.7915536218984554,
          0.9572029392205494,
          1.7915598803179151,
          1.4852946017497337,
          1.9362967763333252,
          1.2576675156041728,
          0.7378426486346917,
          2.9638624521600136,
          1.451342230438161,
          0.9823001157515495,
          0.9823203568493717,
          1.7061392410254261,
          1.33164979437267,
          1.2576565561554254,
          0.5443296861986096,
          0.9823132437543947,
          0.6663265580004168,
          0.9810253332195765,
          0.7904411726794432,
          1.4974572540344895,
          1.688862804438734,
          0.9823106123353877,
          1.6272978212800076,
          1.4438114580171166,
          0.9823176643986518,
          0.5433666844614384,
          1.2576002832940993,
          2.0946344531356815,
          1.4887896900752833,
          1.7914964439077117,
          0.982234796858223,
          1.2534860682095648,
          1.3829189000888589,
          0.9561433512569794,
          0.9822414313773143,
          1.2576536535453933,
          1.3828666771558233,
          0.9819792202016435,
          0.9823200319604914,
          1.013184947574914,
          1.439236040512141,
          -0.1078729818497005,
          0.2125209267343877,
          0.9822544778394925,
          1.546710502886303,
          1.030565191879035,
          1.257656347673142,
          1.7554309420780394,
          0.737785926102,
          1.5289981718145085,
          1.4979481477782657,
          0.9823201554670504,
          0.9823191442404005,
          0.7376415636750207,
          1.2982651576905344,
          1.4513323261264839,
          0.9823076553880924,
          2.197872983245262,
          1.627325770171455,
          1.4513339472134807,
          0.6641303461347018,
          0.9798708870942675,
          1.7625035934556623,
          0.7378430707278348,
          0.9793391085809966,
          0.7378252268958996,
          1.9172948545342778,
          0.9822810272051631,
          1.576379234710429,
          0.15078407601008412,
          1.3825695401667037,
          0.5459580824161613,
          1.7552272185633344,
          0.9085922479673809,
          1.3829158203448302,
          1.6273983884552106,
          0.7285848583232983,
          0.9107823533609452,
          1.382887586545723,
          0.9817742246388824,
          1.0131701001055755,
          1.257649961372952,
          0.7377323667665422,
          1.4512621621703632,
          0.7650048542810046,
          1.0131416216426787,
          0.9727158802318661,
          2.28186156688162,
          1.5109638928295326,
          1.9463276659476678,
          1.017607034659837,
          1.6273791174815404,
          -0.1307140881550453,
          0.9823138494357515,
          1.6273939338477412,
          1.3829186876839157,
          0.9491774632237985,
          1.0131847146195263,
          0.982280757321271,
          1.7552403835402512,
          1.9148272594590332,
          1.2574429903883582,
          1.2576591431016193,
          2.094542575426766,
          0.967042425061739,
          1.2577316934726839,
          0.9822127425554222,
          0.9822970868344094,
          0.5459878835218371,
          0.9823240538463988,
          1.257506995290183,
          0.9768111635993523,
          0.7949669635149845,
          1.2572474616295763,
          0.9823287344982757,
          0.9822057315818913,
          1.2576069904449698,
          0.9822603486848583,
          1.4513710486109948,
          0.7505415173118022,
          0.7904339750098709,
          2.0947779851800066,
          0.734918633568542,
          0.9822215618589649,
          0.5444696360134673,
          1.79156460251477,
          2.0950965874623555,
          2.095122693153624,
          0.5457058815988022,
          1.4513726495085515,
          1.571931452759519,
          0.8850159803478462,
          0.9821882260572918,
          0.7378468999307114
         ],
         "z": [
          -0.5813680889341539,
          -0.5817207363499338,
          -0.713183849272852,
          -0.5242749067855212,
          -0.11389481118914437,
          -0.48219746737111246,
          -0.17323983296209922,
          -0.6887705518975453,
          -0.5813742023739391,
          -0.5815782394567348,
          -0.5814087888585715,
          -0.5813681064526888,
          -0.5813684394830125,
          -0.11788500066441313,
          -0.4161060212163482,
          -0.10907833178587638,
          -0.3370877365442849,
          -0.5813984398703083,
          -0.2158657868099901,
          -0.5242777575087746,
          -0.7033067135580434,
          -0.2794494115765594,
          -0.4827473206155914,
          -0.27241244196666536,
          -0.7013541826288165,
          -0.701337338565127,
          -0.3782166002219906,
          -0.5814446323530637,
          -0.5813932254183684,
          -0.5910634783694224,
          -0.21532742862783438,
          -0.5242717684801377,
          0.07312455985456634,
          -0.2836865321554235,
          -0.5242723106451772,
          -0.5817425819367047,
          -0.5813853930811602,
          -0.32198605762587046,
          -0.524274104854027,
          0.07311872162100026,
          -0.7013432708979515,
          -0.581423934219388,
          0.29505670400983863,
          -0.11419262724531941,
          -0.48221029708937174,
          -0.4161224906394268,
          -0.2724159697641952,
          -0.7013330776717331,
          -0.2724681896198544,
          -0.5813685743716149,
          -0.7013347420897269,
          -0.21531168595164807,
          -0.5813720649157753,
          -0.5242722687036508,
          -0.5587925994084423,
          -0.5842845782542917,
          -0.09801367030105797,
          -0.2724407417934325,
          -0.7013402918031143,
          -0.48221803146908354,
          -0.6887643452926024,
          -0.5093408030804984,
          -0.482198254770941,
          -0.5280917526272969,
          -0.4821986580409773,
          -0.5852134172623404,
          -0.5813713548807656,
          -0.272421891478925,
          -0.5242778601021885,
          -0.2853175116403095,
          -0.4821986129446245,
          -0.10510500089546741,
          -0.10908320588941703,
          -0.5243167863526546,
          -0.4821988217527423,
          -0.48220602324406187,
          -0.5819114194888134,
          -0.5242807929846491,
          -0.13555388456211845,
          -0.5816508013130605,
          -0.5813698918430221,
          -0.5814018515384045,
          -0.3923742501041908,
          -0.21553247874207832,
          -0.5242772605068506,
          -0.5813829859389494,
          -0.4821972311342838,
          -0.5242720062844264,
          -0.5813690877678179,
          -0.5813687304896655,
          -0.2724630696685874,
          -0.37327791633179164,
          -0.876573103979842,
          -0.109101448884119,
          -0.5813791757982113,
          -0.5243696557068379,
          -0.1091259137757985,
          -0.3923720603396653,
          -0.6023964851362801,
          -0.10908442372037519,
          -0.8703699154373656,
          -0.028881845891918678,
          -0.5242780415469288,
          -0.7318286585973033,
          -0.5242730690679894,
          -0.10909333467494553,
          -0.5813740068506772,
          -0.5813691889082335,
          -0.10908320588941703,
          -0.5242741894872545,
          -0.4822011337740078,
          -0.5813750118644297,
          -0.25589300121519476,
          -0.5813719468259111,
          -0.5813761889470744,
          -0.5242720720221755,
          -0.5813718534695121,
          -0.28381422253255206,
          -0.5813693272381626,
          -0.5813692084171639,
          -0.2985853177161537,
          -0.42888497648267515,
          -0.581379465484173,
          -0.48219786964823236,
          -0.5242737042426814,
          -0.5813721366850736,
          -0.581368342209557,
          -0.2724083253243119,
          -0.18179009079657654,
          -0.39237612020252205,
          -0.5817057151042632,
          -0.2724191395149746,
          -0.5242768114570444,
          -0.7404762359601841,
          -0.5243091154492341,
          -0.10911396989716482,
          -0.5242795758456457,
          -0.10921197393221915,
          -0.5243154565020031,
          -0.581370010950241,
          -0.5813686660747083,
          -0.5813751555179926,
          -0.17378662519215463,
          -0.5242777231378268,
          -0.27251839030807307,
          -0.10908042743469933,
          -0.5813758774258365,
          -0.7028277524156646,
          -0.17324058109384924,
          -0.13557465337666344,
          -0.7752305171318425,
          -0.5818846478398134,
          -0.5819048439101532,
          -0.773440544461052,
          -0.7013395669030132,
          -0.5847045350196893,
          -0.7013397049028255,
          -0.23952955724669198,
          -0.7734539478967264,
          -0.5242759906645976,
          -0.27241327171521773,
          4.204735652426439,
          -0.10907820138139401,
          -0.581374884147633,
          -0.5813695069499494,
          -0.11297215602665277,
          -0.22769591051613017,
          -0.5242743562748761,
          -0.37827867263587456,
          -0.5813685747689095,
          -0.15257891038888802,
          -0.5975673763521174,
          -0.4822280229047779,
          -0.5820768729722137,
          -0.5920983862144901,
          -0.5813689448013755,
          -0.607554382775825,
          -0.14141734643897255,
          -0.5813736024792054,
          -0.17627441519542214,
          -0.52428539509021,
          -0.028943927464730686,
          -0.591482543810582,
          -0.7013944745177497,
          -0.5814062410345667,
          -0.2729266619504234,
          -0.2985874814269595,
          -0.5833375063719424,
          -0.581371908611708,
          -0.5242870533853959,
          -0.2985915925413043,
          -0.5815697660000033,
          -0.5813689448209971,
          -0.2153122608531395,
          -0.1355478252456317,
          0.13338035538921683,
          -0.23778889636255032,
          -0.5814473595258355,
          -0.3924529028209391,
          -0.3879846493423309,
          -0.5242726575693683,
          -0.4840350701866854,
          -0.2724162915694943,
          -0.11102391212720533,
          -0.581888104296652,
          -0.5813683892972047,
          -0.5813685143938091,
          -0.2724988318030728,
          -0.12945708565066263,
          -0.10908429580752521,
          -0.5813715636856824,
          -0.04668267542867187,
          -0.6075904410707427,
          -0.10908066832741717,
          -0.08593414606798785,
          -0.5818678266387411,
          -0.0577800622594568,
          -0.2724199599147044,
          -0.5848118759997102,
          -0.2724098062607314,
          -0.8699718994013775,
          -0.5813758120642674,
          -0.37980921601685136,
          -0.21329142429346518,
          -0.2985871198474603,
          -0.17325559101357574,
          -0.08576839343369716,
          -0.39490626988128685,
          -0.2985842229575295,
          -0.6075448387239563,
          -0.2725238166504682,
          -0.461536688849688,
          -0.29860427149661656,
          -0.5813767773278212,
          -0.21531741081464334,
          -0.5242822899248115,
          -0.2724444136959382,
          -0.10908098734031477,
          -0.5771537487839246,
          -0.2153128382590578,
          -0.5818428644186568,
          0.009115780200557493,
          -0.17507599752876032,
          -0.1451107685266628,
          -0.2210024094819687,
          -0.6075548967402815,
          0.09019855400984078,
          -0.581373121150188,
          -0.6075490175195638,
          -0.2985824678314019,
          -0.5920791326983283,
          -0.21531103097977394,
          -0.5813754638732492,
          -0.484103761873093,
          -0.8702911717602696,
          -0.5242797664591786,
          -0.5242798384242979,
          -0.029182824293079546,
          -0.5866759703086561,
          -0.5243519933924903,
          -0.5813706389908365,
          -0.5813752685267237,
          -0.17323737709546982,
          -0.5813712741980999,
          -0.5244195317318388,
          -0.5817649046085471,
          -0.4881313151659941,
          -0.5244421270384555,
          -0.5813880359354334,
          -0.5815045669598442,
          -0.5243397997478334,
          -0.581403463457347,
          -0.10907777925815317,
          -0.08178478922519618,
          -0.4822223111525964,
          -0.028885992752187267,
          -0.27578338291569854,
          -0.5814535038179396,
          -0.37821629483999286,
          -0.701332373364174,
          -0.029182717643877438,
          -0.02921639793193227,
          -0.17357340572442773,
          -0.10907958311715758,
          0.1425896583433107,
          -0.11699397888833483,
          -0.5813747522983354,
          -0.27240702851717846
         ]
        },
        {
         "customdata": [
          [
           "SHA-256"
          ],
          [
           "Ethash"
          ],
          [
           "Scrypt"
          ],
          [
           "CryptoNight-V7"
          ],
          [
           "Ethash"
          ],
          [
           "Equihash"
          ],
          [
           "Multiple"
          ],
          [
           "Scrypt"
          ],
          [
           "X11"
          ],
          [
           "Scrypt"
          ],
          [
           "Multiple"
          ],
          [
           "Scrypt"
          ],
          [
           "SHA-256"
          ],
          [
           "Scrypt"
          ],
          [
           "Scrypt"
          ],
          [
           "Quark"
          ],
          [
           "Groestl"
          ],
          [
           "Scrypt"
          ],
          [
           "Scrypt"
          ],
          [
           "Scrypt"
          ],
          [
           "X11"
          ],
          [
           "Multiple"
          ],
          [
           "SHA-256"
          ],
          [
           "Scrypt"
          ],
          [
           "Scrypt"
          ],
          [
           "Scrypt"
          ],
          [
           "Scrypt"
          ],
          [
           "Scrypt"
          ],
          [
           "NeoScrypt"
          ],
          [
           "Scrypt"
          ],
          [
           "Scrypt"
          ],
          [
           "Scrypt"
          ],
          [
           "Scrypt"
          ],
          [
           "SHA-256"
          ],
          [
           "Scrypt"
          ],
          [
           "Scrypt"
          ],
          [
           "Scrypt"
          ],
          [
           "Scrypt"
          ],
          [
           "HybridScryptHash256"
          ],
          [
           "Scrypt"
          ],
          [
           "Scrypt"
          ],
          [
           "SHA-256"
          ],
          [
           "Scrypt"
          ],
          [
           "Scrypt"
          ],
          [
           "Scrypt"
          ],
          [
           "Scrypt"
          ],
          [
           "SHA-256"
          ],
          [
           "SHA-256"
          ],
          [
           "SHA-256"
          ],
          [
           "SHA-256"
          ],
          [
           "SHA-256"
          ],
          [
           "X11"
          ],
          [
           "Scrypt"
          ],
          [
           "Lyra2REv2"
          ],
          [
           "Scrypt"
          ],
          [
           "SHA-256"
          ],
          [
           "CryptoNight"
          ],
          [
           "CryptoNight"
          ],
          [
           "Scrypt"
          ],
          [
           "Scrypt"
          ],
          [
           "Scrypt"
          ],
          [
           "Scrypt"
          ],
          [
           "Scrypt"
          ],
          [
           "Scrypt"
          ],
          [
           "Stanford Folding"
          ],
          [
           "Multiple"
          ],
          [
           "QuBit"
          ],
          [
           "Scrypt"
          ],
          [
           "Scrypt"
          ],
          [
           "M7 POW"
          ],
          [
           "Scrypt"
          ],
          [
           "SHA-256"
          ],
          [
           "Scrypt"
          ],
          [
           "X11"
          ],
          [
           "Lyra2RE"
          ],
          [
           "SHA-256"
          ],
          [
           "X11"
          ],
          [
           "Scrypt"
          ],
          [
           "Scrypt"
          ],
          [
           "Ethash"
          ],
          [
           "Blake2b"
          ],
          [
           "X11"
          ],
          [
           "SHA-256"
          ],
          [
           "Scrypt"
          ],
          [
           "1GB AES Pattern Search"
          ],
          [
           "Scrypt"
          ],
          [
           "SHA-256"
          ],
          [
           "X11"
          ],
          [
           "Dagger"
          ],
          [
           "Scrypt"
          ],
          [
           "X11GOST"
          ],
          [
           "Scrypt"
          ],
          [
           "X11"
          ],
          [
           "Scrypt"
          ],
          [
           "X11"
          ],
          [
           "Equihash"
          ],
          [
           "CryptoNight"
          ],
          [
           "SHA-256"
          ],
          [
           "Multiple"
          ],
          [
           "Scrypt"
          ],
          [
           "SHA-256"
          ],
          [
           "Scrypt"
          ],
          [
           "Lyra2Z"
          ],
          [
           "Ethash"
          ],
          [
           "Equihash"
          ],
          [
           "Scrypt"
          ],
          [
           "X11"
          ],
          [
           "X11"
          ],
          [
           "CryptoNight"
          ],
          [
           "Scrypt"
          ],
          [
           "CryptoNight"
          ],
          [
           "Lyra2RE"
          ],
          [
           "X11"
          ],
          [
           "CryptoNight-V7"
          ],
          [
           "Scrypt"
          ],
          [
           "X11"
          ],
          [
           "Equihash"
          ],
          [
           "Scrypt"
          ],
          [
           "Lyra2RE"
          ],
          [
           "Dagger-Hashimoto"
          ],
          [
           "Scrypt"
          ],
          [
           "NIST5"
          ],
          [
           "Scrypt"
          ],
          [
           "SHA-256"
          ],
          [
           "Scrypt"
          ],
          [
           "CryptoNight-V7"
          ],
          [
           "Argon2d"
          ],
          [
           "Blake2b"
          ],
          [
           "Cloverhash"
          ],
          [
           "CryptoNight"
          ],
          [
           "X11"
          ],
          [
           "Scrypt"
          ],
          [
           "Scrypt"
          ],
          [
           "X11"
          ],
          [
           "X11"
          ],
          [
           "CryptoNight"
          ],
          [
           "Time Travel"
          ],
          [
           "Scrypt"
          ],
          [
           "Keccak"
          ],
          [
           "X11"
          ],
          [
           "SHA-256"
          ],
          [
           "Scrypt"
          ],
          [
           "Scrypt"
          ],
          [
           "Scrypt"
          ],
          [
           "Scrypt"
          ],
          [
           "Scrypt"
          ],
          [
           "Scrypt"
          ],
          [
           "CryptoNight"
          ],
          [
           "Equihash"
          ],
          [
           "X11"
          ],
          [
           "NeoScrypt"
          ],
          [
           "Equihash"
          ],
          [
           "Dagger"
          ],
          [
           "Scrypt"
          ],
          [
           "X11"
          ],
          [
           "NeoScrypt"
          ],
          [
           "Ethash"
          ],
          [
           "NeoScrypt"
          ],
          [
           "Multiple"
          ],
          [
           "CryptoNight"
          ],
          [
           "CryptoNight"
          ],
          [
           "Ethash"
          ],
          [
           "X11"
          ],
          [
           "CryptoNight-V7"
          ],
          [
           "Scrypt"
          ],
          [
           "BLAKE256"
          ],
          [
           "X11"
          ],
          [
           "NeoScrypt"
          ],
          [
           "NeoScrypt"
          ],
          [
           "Scrypt"
          ],
          [
           "X11"
          ],
          [
           "SHA-256"
          ],
          [
           "C11"
          ],
          [
           "CryptoNight"
          ],
          [
           "SkunkHash"
          ],
          [
           "CryptoNight"
          ],
          [
           "Scrypt"
          ],
          [
           "Dagger"
          ],
          [
           "Lyra2REv2"
          ],
          [
           "Scrypt"
          ],
          [
           "Scrypt"
          ],
          [
           "X11"
          ],
          [
           "Ethash"
          ],
          [
           "CryptoNight"
          ],
          [
           "Scrypt"
          ],
          [
           "IMesh"
          ],
          [
           "Equihash"
          ],
          [
           "Lyra2Z"
          ],
          [
           "X11"
          ],
          [
           "CryptoNight"
          ],
          [
           "NIST5"
          ],
          [
           "Lyra2RE"
          ],
          [
           "Tribus"
          ],
          [
           "Lyra2Z"
          ],
          [
           "CryptoNight"
          ],
          [
           "CryptoNight Heavy"
          ],
          [
           "CryptoNight"
          ],
          [
           "Jump Consistent Hash"
          ],
          [
           "CryptoNight"
          ],
          [
           "X16R"
          ],
          [
           "HMQ1725"
          ],
          [
           "X11"
          ],
          [
           "Scrypt"
          ],
          [
           "CryptoNight-V7"
          ],
          [
           "Cryptonight-GPU"
          ],
          [
           "XEVAN"
          ],
          [
           "CryptoNight Heavy"
          ],
          [
           "SHA-256"
          ],
          [
           "X11"
          ],
          [
           "X16R"
          ],
          [
           "Equihash"
          ],
          [
           "Lyra2Z"
          ],
          [
           "SHA-256"
          ],
          [
           "CryptoNight"
          ],
          [
           "Blake"
          ],
          [
           "Blake"
          ],
          [
           "Exosis"
          ],
          [
           "Scrypt"
          ],
          [
           "Equihash"
          ],
          [
           "Equihash"
          ],
          [
           "QuBit"
          ],
          [
           "SHA-256"
          ],
          [
           "X13"
          ],
          [
           "SHA-256"
          ],
          [
           "Scrypt"
          ],
          [
           "NeoScrypt"
          ],
          [
           "Blake"
          ],
          [
           "Scrypt"
          ],
          [
           "SHA-256"
          ],
          [
           "Scrypt"
          ],
          [
           "Groestl"
          ],
          [
           "Scrypt"
          ],
          [
           "Scrypt"
          ],
          [
           "Multiple"
          ],
          [
           "Equihash+Scrypt"
          ],
          [
           "Ethash"
          ],
          [
           "CryptoNight"
          ],
          [
           "Equihash"
          ]
         ],
         "hovertemplate": "<b>%{hovertext}</b><br><br>Class=%{marker.color}<br>PC 1=%{x}<br>PC 2=%{y}<br>PC 3=%{z}<br>Algorithm=%{customdata[0]}<extra></extra>",
         "hovertext": [
          "Bitcoin",
          "Ethereum",
          "Litecoin",
          "Monero",
          "Ethereum Classic",
          "ZCash",
          "DigiByte",
          "ProsperCoin",
          "Spreadcoin",
          "Argentum",
          "MyriadCoin",
          "MoonCoin",
          "ZetaCoin",
          "SexCoin",
          "Quatloo",
          "QuarkCoin",
          "Riecoin",
          "Digitalcoin ",
          "Catcoin",
          "CannaCoin",
          "CryptCoin",
          "Verge",
          "DevCoin",
          "EarthCoin",
          "E-Gulden",
          "Einsteinium",
          "Emerald",
          "Franko",
          "FeatherCoin",
          "GrandCoin",
          "GlobalCoin",
          "GoldCoin",
          "Infinite Coin",
          "IXcoin",
          "KrugerCoin",
          "LuckyCoin",
          "Litebar ",
          "MegaCoin",
          "MediterraneanCoin",
          "MinCoin",
          "NobleCoin",
          "Namecoin",
          "NyanCoin",
          "RonPaulCoin",
          "StableCoin",
          "SmartCoin",
          "SysCoin",
          "TigerCoin",
          "TerraCoin",
          "UnbreakableCoin",
          "Unobtanium",
          "UroCoin",
          "ViaCoin",
          "Vertcoin",
          "WorldCoin",
          "JouleCoin",
          "ByteCoin",
          "DigitalNote ",
          "MonaCoin",
          "Gulden",
          "PesetaCoin",
          "Wild Beast Coin",
          "Flo",
          "ArtByte",
          "Folding Coin",
          "Unitus",
          "CypherPunkCoin",
          "OmniCron",
          "GreenCoin",
          "Cryptonite",
          "MasterCoin",
          "SoonCoin",
          "1Credit",
          "MarsCoin ",
          "Crypto",
          "Anarchists Prime",
          "BowsCoin",
          "Song Coin",
          "BitZeny",
          "Expanse",
          "Siacoin",
          "MindCoin",
          "I0coin",
          "Revolution VR",
          "HOdlcoin",
          "Gamecredits",
          "CarpeDiemCoin",
          "Adzcoin",
          "SoilCoin",
          "YoCoin",
          "SibCoin",
          "Francs",
          "BolivarCoin",
          "Omni",
          "PizzaCoin",
          "Komodo",
          "Karbo",
          "ZayedCoin",
          "Circuits of Value",
          "DopeCoin",
          "DollarCoin",
          "Shilling",
          "ZCoin",
          "Elementrem",
          "ZClassic",
          "KiloCoin",
          "ArtexCoin",
          "Kurrent",
          "Cannabis Industry Coin",
          "OsmiumCoin",
          "Bikercoins",
          "HexxCoin",
          "PacCoin",
          "Citadel",
          "BeaverCoin",
          "VaultCoin",
          "Zero",
          "Canada eCoin",
          "Zoin",
          "DubaiCoin",
          "EB3coin",
          "Coinonat",
          "BenjiRolls",
          "ILCoin",
          "EquiTrader",
          "Quantum Resistant Ledger",
          "Dynamic",
          "Nano",
          "ChanCoin",
          "Dinastycoin",
          "DigitalPrice",
          "Unify",
          "SocialCoin",
          "ArcticCoin",
          "DAS",
          "LeviarCoin",
          "Bitcore",
          "gCn Coin",
          "SmartCash",
          "Onix",
          "Bitcoin Cash",
          "Sojourn Coin",
          "NewYorkCoin",
          "FrazCoin",
          "Kronecoin",
          "AdCoin",
          "Linx",
          "Sumokoin",
          "BitcoinZ",
          "Elements",
          "VIVO Coin",
          "Bitcoin Gold",
          "Pirl",
          "eBoost",
          "Pura",
          "Innova",
          "Ellaism",
          "GoByte",
          "SHIELD",
          "UltraNote",
          "BitCoal",
          "DaxxCoin",
          "AC3",
          "Lethean",
          "PopularCoin",
          "Photon",
          "Sucre",
          "SparksPay",
          "GunCoin",
          "IrishCoin",
          "Pioneer Coin",
          "UnitedBitcoin",
          "Interzone",
          "TurtleCoin",
          "MUNcoin",
          "Niobio Cash",
          "ShareChain",
          "Travelflex",
          "KREDS",
          "BitFlip",
          "LottoCoin",
          "Crypto Improvement Fund",
          "Callisto Network",
          "BitTube",
          "Poseidon",
          "Aidos Kuneen",
          "Bitrolium",
          "Alpenschillling",
          "FuturoCoin",
          "Monero Classic",
          "Jumpcoin",
          "Infinex",
          "KEYCO",
          "GINcoin",
          "PlatinCoin",
          "Loki",
          "Newton Coin",
          "MassGrid",
          "PluraCoin",
          "Motion",
          "PlusOneCoin",
          "Axe",
          "HexCoin",
          "Webchain",
          "Ryo",
          "Urals Coin",
          "Qwertycoin",
          "Project Pai",
          "Azart",
          "Xchange",
          "CrypticCoin",
          "Actinium",
          "Bitcoin SV",
          "FREDEnergy",
          "Universal Molecule",
          "Lithium",
          "Exosis",
          "Block-Logic",
          "Beam",
          "Bithereum",
          "SLICE",
          "BLAST",
          "Bitcoin Rhodium",
          "GlobalToken",
          "SolarCoin",
          "UFO Coin",
          "BlakeCoin",
          "Crypto Escudo",
          "Crown Coin",
          "SmileyCoin",
          "Groestlcoin",
          "Bata",
          "Pakcoin",
          "JoinCoin",
          "Vollar",
          "Reality Clash",
          "Beldex",
          "Horizen"
         ],
         "legendgroup": "2",
         "marker": {
          "color": [
           2,
           2,
           2,
           2,
           2,
           2,
           2,
           2,
           2,
           2,
           2,
           2,
           2,
           2,
           2,
           2,
           2,
           2,
           2,
           2,
           2,
           2,
           2,
           2,
           2,
           2,
           2,
           2,
           2,
           2,
           2,
           2,
           2,
           2,
           2,
           2,
           2,
           2,
           2,
           2,
           2,
           2,
           2,
           2,
           2,
           2,
           2,
           2,
           2,
           2,
           2,
           2,
           2,
           2,
           2,
           2,
           2,
           2,
           2,
           2,
           2,
           2,
           2,
           2,
           2,
           2,
           2,
           2,
           2,
           2,
           2,
           2,
           2,
           2,
           2,
           2,
           2,
           2,
           2,
           2,
           2,
           2,
           2,
           2,
           2,
           2,
           2,
           2,
           2,
           2,
           2,
           2,
           2,
           2,
           2,
           2,
           2,
           2,
           2,
           2,
           2,
           2,
           2,
           2,
           2,
           2,
           2,
           2,
           2,
           2,
           2,
           2,
           2,
           2,
           2,
           2,
           2,
           2,
           2,
           2,
           2,
           2,
           2,
           2,
           2,
           2,
           2,
           2,
           2,
           2,
           2,
           2,
           2,
           2,
           2,
           2,
           2,
           2,
           2,
           2,
           2,
           2,
           2,
           2,
           2,
           2,
           2,
           2,
           2,
           2,
           2,
           2,
           2,
           2,
           2,
           2,
           2,
           2,
           2,
           2,
           2,
           2,
           2,
           2,
           2,
           2,
           2,
           2,
           2,
           2,
           2,
           2,
           2,
           2,
           2,
           2,
           2,
           2,
           2,
           2,
           2,
           2,
           2,
           2,
           2,
           2,
           2,
           2,
           2,
           2,
           2,
           2,
           2,
           2,
           2,
           2,
           2,
           2,
           2,
           2,
           2,
           2,
           2,
           2,
           2,
           2,
           2,
           2,
           2,
           2,
           2,
           2,
           2,
           2,
           2,
           2,
           2,
           2,
           2,
           2,
           2,
           2,
           2,
           2,
           2,
           2,
           2,
           2,
           2,
           2,
           2,
           2,
           2,
           2,
           2,
           2,
           2,
           2
          ],
          "coloraxis": "coloraxis",
          "symbol": "diamond"
         },
         "mode": "markers",
         "name": "2",
         "scene": "scene",
         "showlegend": true,
         "type": "scatter3d",
         "x": [
          -0.14125871947216712,
          -0.14983179174489358,
          -0.1675222698804856,
          -0.15233892840352006,
          -0.1482724700381986,
          -0.15011741450371238,
          0.1642648781906438,
          -0.16866977530486404,
          -0.22185590672133745,
          -0.16828595760631312,
          -0.08940527727546749,
          2.5554982927289123,
          -0.13834040226284572,
          -0.16553843297480855,
          -0.16808984680193287,
          -0.22530810585426594,
          -0.19669957493705,
          -0.16813852360101203,
          -0.16865201882581493,
          -0.16873856018150787,
          -0.2219453563852833,
          0.18805762375176852,
          0.23700396751584266,
          0.08026662103925054,
          -0.1684845569503438,
          -0.16408513602765898,
          -0.16842380682232302,
          -0.1687956297308864,
          -0.1711574118885389,
          -0.14799585093441772,
          -0.16758938393331094,
          -0.16786719032887362,
          1.5820592159872053,
          -0.14122003989645437,
          -0.16515372514392002,
          -0.16851102908229448,
          -0.16886623675509974,
          -0.16812466946054597,
          -0.14598150805420207,
          -0.16874737859368955,
          -0.03352631096444509,
          -0.14129774889408883,
          -0.16240424029067949,
          -0.16872682701765618,
          -0.16681943406144745,
          -0.1682130098025566,
          -0.12843613926047517,
          -0.14076091499098048,
          -0.14104846918163416,
          -0.14103154686437563,
          -0.14162276261557424,
          -0.2221194172103095,
          -0.1684429627920891,
          -0.188463004150459,
          -0.16554319931807235,
          -0.14082828908602585,
          3.864799952828006,
          0.4599790203782894,
          -0.16730936754547668,
          -0.15189346853001218,
          -0.16602674432506678,
          -0.16886845271513642,
          -0.16589159327239664,
          -0.15210028216294993,
          -0.12782388004303802,
          -0.12344898603899124,
          -0.182744796899695,
          -0.16874137156082594,
          -0.041548241341374026,
          -0.11935063196461651,
          -0.1688773504957016,
          -0.14132556167279503,
          0.4838296220499973,
          -0.22150592500256455,
          -0.1512340378276881,
          -0.14106519247058047,
          -0.2217911492515873,
          -0.16699938340979403,
          -0.1661907198213563,
          -0.1509006558973488,
          0.3762649340569876,
          -0.2218265758638795,
          -0.1412211636724273,
          -0.16483071256889698,
          -0.1444625039507597,
          -0.16743913102303393,
          0.27772865696593646,
          -0.2209864376494836,
          -0.15176127963098604,
          -0.16768712581829176,
          -0.14996106417421337,
          -0.16866705394761664,
          -0.22178979984162253,
          -0.16887740905565174,
          -0.2219399613675306,
          -0.26346123330160875,
          0.3047169762954113,
          -0.14148154489106035,
          -0.10349978105134071,
          -0.1660411253087616,
          -0.14144012475277293,
          -0.16854047061488697,
          -0.1524255985541629,
          -0.15064251348842475,
          -0.15013905902769903,
          -0.09554062054145997,
          -0.2085076728739071,
          -0.21976596808693483,
          0.30471129961726323,
          -0.16885913007765266,
          0.30484216952362353,
          -0.15177499971229838,
          0.493910097859488,
          -0.15110262532158805,
          -0.16882737887833207,
          -0.21466775094870608,
          -0.15015143739497427,
          -0.16695856677377002,
          -0.15149305538953897,
          -0.1461827448442898,
          -0.13972626518050188,
          -0.18835067503414324,
          -0.16838929791034735,
          -0.10777146483909975,
          -0.1682112477768263,
          -0.1509599367300508,
          -0.14797005479037692,
          -0.02454788992899842,
          -0.15223540354941878,
          0.3408731877715193,
          -0.22099489060896407,
          -0.1685307542552715,
          -0.16829400401472744,
          -0.22138995033359055,
          -0.22196801099293967,
          0.3051066886128635,
          -0.15512366805862565,
          3.244545466387664,
          -0.1169140165980899,
          -0.21283183290325833,
          -0.1412578826271628,
          -0.09438841401715292,
          1.5803620817568456,
          -0.1686287283605225,
          -0.16807986967199387,
          -0.16778051362624796,
          -0.1677674279408067,
          0.3052904253899686,
          0.0623807282506248,
          -0.17630240428392022,
          -0.17585116594055977,
          -0.14999730519123003,
          -0.15051918368417033,
          -0.1669567736523559,
          -0.21750778636355686,
          -0.1756964363133915,
          -0.149006412538,
          -0.17579672850506467,
          -0.1136704004488973,
          1.1434593014850074,
          0.3046940733404268,
          -0.07382986062838472,
          -0.21724964292343502,
          -0.14006089736181315,
          -0.08492558753631424,
          1.0945378099366327,
          -0.22194197929698029,
          -0.17584870316267304,
          -0.16887918706719504,
          -0.1678789116746357,
          -0.2218673017016284,
          -0.14123725129086123,
          -0.19923383625028154,
          8.049313926200343,
          -0.14915868724522838,
          0.30857244036338305,
          0.024377839043256896,
          -0.15002159566046003,
          -0.17400579959470844,
          -0.16845329243725968,
          0.13895723273228053,
          -0.21600222168389743,
          -0.10200425949319047,
          0.31262426137834914,
          -0.1686905463643962,
          -0.16051364268464738,
          -0.14898726340621035,
          -0.15020714563611193,
          -0.22103571493370788,
          0.3048768062037494,
          -0.1884101286297118,
          -0.15162009124392273,
          -0.1493826958844127,
          -0.15251004898168302,
          0.3088082355191078,
          0.5823637225108627,
          2.1150988614935486,
          -0.14548285852655607,
          0.318496051622881,
          -0.1922115724461848,
          -0.15901045478424683,
          -0.22192412049065185,
          -0.1687151628870458,
          -0.13994292674558567,
          -0.14710917615771602,
          -0.16733711965278056,
          3.1075648372667337,
          -0.10104088982674365,
          -0.22189546194452067,
          -0.19163880602231168,
          -0.044632841226148114,
          -0.15190726060809495,
          -0.1412579202404297,
          0.3847137356314348,
          -0.14555575905301377,
          -0.1459480369657321,
          -0.15423474553195202,
          -0.1676063507058694,
          -0.14805568270012115,
          -0.14982994159127733,
          -0.1819550731395465,
          -0.1405332732974134,
          -0.11030568779336887,
          -0.13940009048545235,
          0.5277862450654969,
          -0.10093126293185753,
          -0.0963718505021588,
          -0.15225105998989952,
          -0.1410478388311601,
          0.5477187267082986,
          -0.19626008067913311,
          -0.1687920465284532,
          -0.16674569951027282,
          -0.12418481564504738,
          -0.12966348008808345,
          -0.1506757089583667,
          0.3264746280099413,
          -0.15011847279732377
         ],
         "y": [
          -1.339584756354776,
          -1.9934210138264439,
          -1.147758628490489,
          -2.167252072049355,
          -1.9935347955020197,
          -2.016245664907861,
          -1.7983095947399446,
          -1.1477387386903453,
          -0.8723888847688953,
          -1.147760684525268,
          -1.7903745899966101,
          -1.3584469778069224,
          -1.3396273716307041,
          -1.147832826616779,
          -1.1477816821294444,
          -0.5027195847719615,
          -1.2131608730460233,
          -1.1477465516214131,
          -1.1477383665666947,
          -1.1477346984128465,
          -0.8723893645094387,
          -1.7947108885341962,
          -1.3462888832148336,
          -1.1519224333886344,
          -1.147734857057611,
          -1.1478370965774227,
          -1.1477412556527187,
          -1.1477345663842298,
          -1.5856787998708233,
          -1.1482816048791775,
          -1.147750270971992,
          -1.1477576591986052,
          -1.1742211899645765,
          -1.339583945744465,
          -1.1478355192121905,
          -1.1477347144048973,
          -1.1477291514291053,
          -1.1477419609206851,
          -2.2336216950681567,
          -1.1477326932879914,
          -1.1553533453176705,
          -1.3395855742968283,
          -1.14782781962719,
          -1.1477399343266876,
          -1.1478596726373245,
          -1.1477502286386407,
          -1.339920705281369,
          -1.339592465383873,
          -1.3395949961740665,
          -1.3396211439043693,
          -1.339577913939705,
          -0.8723804585577897,
          -1.147735380227917,
          -1.2192755103559556,
          -1.1478436814470165,
          -1.339592474138475,
          -2.3529025028038943,
          -2.302578573950377,
          -1.1477688964224155,
          -1.148544194354779,
          -1.1477847452052843,
          -1.1477300891857483,
          -1.1477774590427312,
          -1.1480742755818192,
          -2.0638267531719654,
          -1.789693184443936,
          -1.490687430969908,
          -1.1477279443641422,
          -1.152034307158799,
          -2.1677197082259796,
          -1.147728874851888,
          -1.3395861571709848,
          -1.1982132600057127,
          -0.8723906167810218,
          -2.1301920169457853,
          -1.339603548431906,
          -0.8723882250733699,
          -1.1478357139964923,
          -1.147846496633352,
          -1.9934552051227497,
          -2.1825921808176156,
          -0.8723854803568581,
          -1.3395839692955083,
          -1.1477900976415312,
          -2.3154008269617483,
          -1.1477568861442045,
          -1.345872200324094,
          -0.872415298825255,
          -2.220226272613635,
          -1.1478209125857852,
          -2.0452643409676177,
          -1.1477379842278381,
          -0.8723909865171079,
          -1.1477288739659164,
          -0.8723941334616749,
          -1.4135286891548167,
          -2.29886507618751,
          -1.33958157026001,
          -1.7901120247194267,
          -1.147808490029123,
          -1.3395813315060228,
          -1.1477423057214715,
          -2.1797945559267053,
          -1.9934562807245366,
          -2.016246118513516,
          -1.1531658288541566,
          -0.8724439117994102,
          -0.872490151410353,
          -2.2988728668933827,
          -1.1477299539891657,
          -2.298872913967909,
          -2.1301644448778716,
          -0.9271176680535955,
          -2.1673551874753167,
          -1.1477297389181442,
          -0.8729217243700039,
          -2.016243588204332,
          -1.1477579738225616,
          -2.1301662078929904,
          -2.000507822601104,
          -1.1499072450834404,
          -0.6321021110783056,
          -1.147742987682845,
          -1.3406118929298145,
          -1.147764698273476,
          -2.1672964026733528,
          -2.1536160254503556,
          -2.1912293638640477,
          -2.3842087507002954,
          -2.299495235579113,
          -0.8724266348680905,
          -1.1477346234045993,
          -1.1477685248937277,
          -0.8724070169255729,
          -0.8723904669712466,
          -2.2988875959193837,
          -2.079749833837049,
          -1.2156792959877598,
          -1.3670150354523276,
          -0.8729529920049552,
          -1.3395847388169588,
          -1.1534903974153352,
          -1.1110695217297026,
          -1.147737181036093,
          -1.1477703141444717,
          -1.1477751994145766,
          -1.1477749251770417,
          -2.2989080779230413,
          -2.0264237297736267,
          -0.8726756440623789,
          -1.5855616610372103,
          -2.016243147769427,
          -2.2202883321427542,
          -1.1477579362440034,
          -0.8725279131175219,
          -1.585570972113992,
          -1.9935989969409023,
          -1.5855638678565314,
          -1.7899485583714074,
          -2.3405621484967227,
          -2.298867299743311,
          -1.9988025450829756,
          -0.8726619893595545,
          -2.16769182982381,
          -1.1494562146778449,
          -1.186855135539068,
          -0.8723905491111195,
          -1.5855574248395072,
          -1.5857454336293053,
          -1.1477521540380116,
          -0.8723912158667713,
          -1.3395837247874116,
          -1.0994869243152114,
          -2.8339849471882186,
          -2.1168992443062056,
          -2.2990116394416584,
          -1.150652690135243,
          -2.220238634106603,
          -1.2196811195540396,
          -1.1477474530314253,
          -1.1541147296688423,
          -0.8726009755313856,
          -1.9969519897547876,
          -2.299389819258837,
          -1.1477391739907499,
          -2.0962532543062906,
          -2.0162561543717943,
          -2.179942367904365,
          -0.8724274904260383,
          -2.2988675850411986,
          -0.63208435066548,
          -2.1301725526263002,
          -2.154907554808622,
          -2.179788723763354,
          -2.2991908199738886,
          -2.192987426353054,
          -2.389245091311466,
          -2.290581195853467,
          -2.2992667637804396,
          -1.2214322296189275,
          -2.1799936509922926,
          -0.8723910117600113,
          -1.1477404607252828,
          -2.168212792251845,
          -2.114134699128869,
          -0.374697975760086,
          -2.268617081991741,
          -1.34019186750412,
          -0.8723932008844608,
          -1.2214745729278014,
          -2.019320846481109,
          -2.1798273522570173,
          -1.3395847396052218,
          -2.302816846032944,
          -2.151687944843054,
          -2.151640447247326,
          -2.1275540394226216,
          -1.1477854980883107,
          -2.016371095844447,
          -2.0162465351213115,
          -1.4907406237644627,
          -1.3395995426601774,
          -0.33848649873411774,
          -1.3396483272851352,
          -1.2015463864822262,
          -1.5867624526804989,
          -2.15546589660157,
          -1.1480774354422456,
          -1.3395949829637717,
          -1.1675822362302541,
          -1.2131663085850382,
          -1.1477301422424577,
          -1.1478107020797557,
          -1.7897105580777726,
          -2.2256203248099853,
          -1.9934557785003488,
          -2.299378683847861,
          -2.016245687086588
         ],
         "z": [
          0.11682557106188221,
          0.42341271231248995,
          0.017639016962688697,
          0.5284327073663967,
          0.4234093860300916,
          0.3802685732676729,
          0.3593019714206965,
          0.017658392667014095,
          0.07475294063307622,
          0.017655966876842018,
          0.36264706833648375,
          0.015010370839742895,
          0.11677418231442845,
          0.017616076018632815,
          0.01765732178712986,
          -0.008601857851018689,
          0.1829066694675029,
          0.01764905248147272,
          0.017657912571251502,
          0.017658798944442135,
          0.07475498930274556,
          0.35783667543938275,
          0.11047773594602452,
          0.0134203134821893,
          0.017653384774011873,
          0.017585989981871265,
          0.01765377640379918,
          0.01765998984596624,
          0.22074169428055432,
          0.017358238894878964,
          0.017638242623389925,
          0.017646169178172313,
          -0.012927082396780214,
          0.1168245252520401,
          0.01760852606931321,
          0.017653915596370577,
          0.017660070766132862,
          0.01764753764685465,
          0.23554209706897444,
          0.01765845670927018,
          0.016774409626156124,
          0.11682662633077213,
          0.017547422909830895,
          0.0176599352186366,
          0.017650711443369247,
          0.01765162748632756,
          0.11663920720594398,
          0.1168169218052401,
          0.11682376979229386,
          0.11683033941196772,
          0.11683157678000236,
          0.07475636686545424,
          0.017652630010946427,
          0.13747911300055637,
          0.017619056586099222,
          0.11681837138736229,
          0.4360692544552466,
          0.49586460705001095,
          0.017637166178758115,
          0.0175115896654467,
          0.017613816528804976,
          0.01766036701531007,
          0.01760898141147146,
          0.017391432240062094,
          0.4507415270053001,
          0.3631976840144022,
          0.1701519937270887,
          0.017657068484920227,
          0.016066678289410986,
          0.5541255045172458,
          0.01766023616499624,
          0.11682737832654622,
          0.01702550247288224,
          0.07474588193353801,
          0.41075868835035917,
          0.1168263966744663,
          0.07475137466020146,
          0.0176482242440559,
          0.017633712406467324,
          0.4234447384462116,
          0.4760116684446347,
          0.07475140789060773,
          0.11682455563644664,
          0.017589543818289338,
          0.27287099523108255,
          0.017636769072611014,
          0.10949244579772455,
          0.07474126733961385,
          0.48573499150732175,
          0.017659072990966987,
          0.44561940806284106,
          0.01765813416225333,
          0.07475207787636882,
          0.017660237188003445,
          0.07475613791057435,
          0.34862569638617613,
          0.4982151441528659,
          0.11682951276776014,
          0.36288021217647254,
          0.017620421437839814,
          0.11682855971693198,
          0.017656560883073342,
          0.4779966330117342,
          0.42343947849537855,
          0.38026915848753534,
          0.017526512325171387,
          0.0744807981774546,
          0.07473489779665425,
          0.4982173318159816,
          0.01766013090835963,
          0.4982145330855447,
          0.4107629979419699,
          0.07388904922988702,
          0.5284334916577015,
          0.017659391835295874,
          0.07473981566129093,
          0.3802687534698823,
          0.017626734487337523,
          0.41075740897211005,
          0.25318329597678835,
          0.01761164221130898,
          0.01714165399638681,
          0.017653494370491622,
          0.11637857988860097,
          0.017655426291389043,
          0.528414839650722,
          0.21460227296336976,
          0.48691168396312595,
          0.3770491510101539,
          0.4976055618396733,
          0.07474445469373184,
          0.017654315183265448,
          0.017658218612202004,
          0.07474773921923686,
          0.07475576826580234,
          0.4982127439105921,
          0.42341827694720896,
          -0.03764619055482413,
          0.021103192808425555,
          0.0747086690446667,
          0.11682554843544336,
          0.017587821871423038,
          -0.029635428203617243,
          0.017657097923485757,
          0.01765409322282685,
          0.017648958104977918,
          0.017648604297102022,
          0.49821422791437453,
          0.3784026433239922,
          0.07385044212646802,
          0.22081146104801402,
          0.38026532577858163,
          0.48572476530212244,
          0.01762668600531649,
          0.07469640246456503,
          0.2208106061579679,
          0.4234421749767443,
          0.22081087682210385,
          0.36305534347547397,
          0.4912542158191092,
          0.4982162257111691,
          0.42320704190885533,
          0.07472640790000046,
          0.528285566095404,
          0.016314878884435786,
          0.07911878778853806,
          0.07475523085932433,
          0.22081028490814475,
          0.22071042389037537,
          0.017644961258753124,
          0.0747538035039513,
          0.1168248363822207,
          0.2110436396267932,
          0.4737418954194168,
          0.39649621037143745,
          0.49817118661520077,
          0.014284183474112621,
          0.4857008990872598,
          0.13727610640258525,
          0.01765605303178239,
          0.012740874411838484,
          0.07468343413455775,
          0.42332157652466784,
          0.49818442477449953,
          0.017658954270338867,
          0.3448130269972548,
          0.38024707783155615,
          0.4779881711609334,
          0.07474555849281678,
          0.49821237607962315,
          0.017138221905199567,
          0.4107618201451167,
          0.3721917542932176,
          0.4779969006779458,
          0.4982136316138698,
          0.3369667204952029,
          0.48329084488304863,
          0.4989263083804505,
          0.4980256646054383,
          0.20413220565023643,
          0.5120181035449525,
          0.07475496990722408,
          0.017659824237542966,
          0.5284211662907667,
          0.30803017502841396,
          0.11498769060905008,
          0.30277632196694626,
          0.11612262996484905,
          0.07475493474499334,
          0.20413112949291587,
          0.37881805352930525,
          0.4779941946287502,
          0.11682554945242248,
          0.49754455662843095,
          0.3677123062494996,
          0.367708138668432,
          0.549745175839897,
          0.017647947632445753,
          0.38025754355659436,
          0.38026262881004974,
          0.17014913388071468,
          0.11681390839634008,
          -0.10230419327786702,
          0.11680250188112151,
          0.016965057353275765,
          0.21952050147405638,
          0.3676575203623769,
          0.01739550893767918,
          0.11682375274901677,
          0.007531220187372524,
          0.18289866995011397,
          0.017658739804514344,
          0.017636142904167734,
          0.36321809700378627,
          0.3143632303242705,
          0.423440058400393,
          0.4978839529053491,
          0.3802686018815805
         ]
        },
        {
         "customdata": [
          [
           "Proof-of-BibleHash"
          ],
          [
           "SHA-256 + Hive"
          ],
          [
           "Proof-of-Authority"
          ],
          [
           "ECC 256K1"
          ],
          [
           "SHA3-256"
          ],
          [
           "Leased POS"
          ]
         ],
         "hovertemplate": "<b>%{hovertext}</b><br><br>Class=%{marker.color}<br>PC 1=%{x}<br>PC 2=%{y}<br>PC 3=%{z}<br>Algorithm=%{customdata[0]}<extra></extra>",
         "hovertext": [
          "BiblePay",
          "LitecoinCash",
          "Poa Network",
          "Acute Angle Cloud",
          "Fiii",
          "Waves"
         ],
         "legendgroup": "3",
         "marker": {
          "color": [
           3,
           3,
           3,
           3,
           3,
           3
          ],
          "coloraxis": "coloraxis",
          "symbol": "square"
         },
         "mode": "markers",
         "name": "3",
         "scene": "scene",
         "showlegend": true,
         "type": "scatter3d",
         "x": [
          -0.14142887529511353,
          -0.33834483011955335,
          -0.40858341994507597,
          -0.3468546175758138,
          -0.5767250750856991,
          -0.4160792973787225
         ],
         "y": [
          1.6863418207544232,
          1.1872657698229652,
          2.3180226931290693,
          3.6570874458325493,
          4.094535615252636,
          4.221992281118503
         ],
         "z": [
          6.657961550432589,
          6.555360934497298,
          16.607474202877295,
          15.116210313534252,
          16.31423830161207,
          10.646512730751084
         ]
        },
        {
         "customdata": [
          [
           "TRC10"
          ]
         ],
         "hovertemplate": "<b>%{hovertext}</b><br><br>Class=%{marker.color}<br>PC 1=%{x}<br>PC 2=%{y}<br>PC 3=%{z}<br>Algorithm=%{customdata[0]}<extra></extra>",
         "hovertext": [
          "BitTorrent"
         ],
         "legendgroup": "1",
         "marker": {
          "color": [
           1
          ],
          "coloraxis": "coloraxis",
          "symbol": "x"
         },
         "mode": "markers",
         "name": "1",
         "scene": "scene",
         "showlegend": true,
         "type": "scatter3d",
         "x": [
          34.10077268192604
         ],
         "y": [
          1.505643043013418
         ],
         "z": [
          -0.7448382789737324
         ]
        }
       ],
       "layout": {
        "coloraxis": {
         "colorbar": {
          "title": {
           "text": "Class"
          }
         },
         "colorscale": [
          [
           0,
           "#0d0887"
          ],
          [
           0.1111111111111111,
           "#46039f"
          ],
          [
           0.2222222222222222,
           "#7201a8"
          ],
          [
           0.3333333333333333,
           "#9c179e"
          ],
          [
           0.4444444444444444,
           "#bd3786"
          ],
          [
           0.5555555555555556,
           "#d8576b"
          ],
          [
           0.6666666666666666,
           "#ed7953"
          ],
          [
           0.7777777777777778,
           "#fb9f3a"
          ],
          [
           0.8888888888888888,
           "#fdca26"
          ],
          [
           1,
           "#f0f921"
          ]
         ]
        },
        "legend": {
         "title": {
          "text": "Class"
         },
         "tracegroupgap": 0,
         "x": 0,
         "y": 1
        },
        "margin": {
         "t": 60
        },
        "scene": {
         "domain": {
          "x": [
           0,
           1
          ],
          "y": [
           0,
           1
          ]
         },
         "xaxis": {
          "title": {
           "text": "PC 1"
          }
         },
         "yaxis": {
          "title": {
           "text": "PC 2"
          }
         },
         "zaxis": {
          "title": {
           "text": "PC 3"
          }
         }
        },
        "template": {
         "data": {
          "bar": [
           {
            "error_x": {
             "color": "#2a3f5f"
            },
            "error_y": {
             "color": "#2a3f5f"
            },
            "marker": {
             "line": {
              "color": "#E5ECF6",
              "width": 0.5
             }
            },
            "type": "bar"
           }
          ],
          "barpolar": [
           {
            "marker": {
             "line": {
              "color": "#E5ECF6",
              "width": 0.5
             }
            },
            "type": "barpolar"
           }
          ],
          "carpet": [
           {
            "aaxis": {
             "endlinecolor": "#2a3f5f",
             "gridcolor": "white",
             "linecolor": "white",
             "minorgridcolor": "white",
             "startlinecolor": "#2a3f5f"
            },
            "baxis": {
             "endlinecolor": "#2a3f5f",
             "gridcolor": "white",
             "linecolor": "white",
             "minorgridcolor": "white",
             "startlinecolor": "#2a3f5f"
            },
            "type": "carpet"
           }
          ],
          "choropleth": [
           {
            "colorbar": {
             "outlinewidth": 0,
             "ticks": ""
            },
            "type": "choropleth"
           }
          ],
          "contour": [
           {
            "colorbar": {
             "outlinewidth": 0,
             "ticks": ""
            },
            "colorscale": [
             [
              0,
              "#0d0887"
             ],
             [
              0.1111111111111111,
              "#46039f"
             ],
             [
              0.2222222222222222,
              "#7201a8"
             ],
             [
              0.3333333333333333,
              "#9c179e"
             ],
             [
              0.4444444444444444,
              "#bd3786"
             ],
             [
              0.5555555555555556,
              "#d8576b"
             ],
             [
              0.6666666666666666,
              "#ed7953"
             ],
             [
              0.7777777777777778,
              "#fb9f3a"
             ],
             [
              0.8888888888888888,
              "#fdca26"
             ],
             [
              1,
              "#f0f921"
             ]
            ],
            "type": "contour"
           }
          ],
          "contourcarpet": [
           {
            "colorbar": {
             "outlinewidth": 0,
             "ticks": ""
            },
            "type": "contourcarpet"
           }
          ],
          "heatmap": [
           {
            "colorbar": {
             "outlinewidth": 0,
             "ticks": ""
            },
            "colorscale": [
             [
              0,
              "#0d0887"
             ],
             [
              0.1111111111111111,
              "#46039f"
             ],
             [
              0.2222222222222222,
              "#7201a8"
             ],
             [
              0.3333333333333333,
              "#9c179e"
             ],
             [
              0.4444444444444444,
              "#bd3786"
             ],
             [
              0.5555555555555556,
              "#d8576b"
             ],
             [
              0.6666666666666666,
              "#ed7953"
             ],
             [
              0.7777777777777778,
              "#fb9f3a"
             ],
             [
              0.8888888888888888,
              "#fdca26"
             ],
             [
              1,
              "#f0f921"
             ]
            ],
            "type": "heatmap"
           }
          ],
          "heatmapgl": [
           {
            "colorbar": {
             "outlinewidth": 0,
             "ticks": ""
            },
            "colorscale": [
             [
              0,
              "#0d0887"
             ],
             [
              0.1111111111111111,
              "#46039f"
             ],
             [
              0.2222222222222222,
              "#7201a8"
             ],
             [
              0.3333333333333333,
              "#9c179e"
             ],
             [
              0.4444444444444444,
              "#bd3786"
             ],
             [
              0.5555555555555556,
              "#d8576b"
             ],
             [
              0.6666666666666666,
              "#ed7953"
             ],
             [
              0.7777777777777778,
              "#fb9f3a"
             ],
             [
              0.8888888888888888,
              "#fdca26"
             ],
             [
              1,
              "#f0f921"
             ]
            ],
            "type": "heatmapgl"
           }
          ],
          "histogram": [
           {
            "marker": {
             "colorbar": {
              "outlinewidth": 0,
              "ticks": ""
             }
            },
            "type": "histogram"
           }
          ],
          "histogram2d": [
           {
            "colorbar": {
             "outlinewidth": 0,
             "ticks": ""
            },
            "colorscale": [
             [
              0,
              "#0d0887"
             ],
             [
              0.1111111111111111,
              "#46039f"
             ],
             [
              0.2222222222222222,
              "#7201a8"
             ],
             [
              0.3333333333333333,
              "#9c179e"
             ],
             [
              0.4444444444444444,
              "#bd3786"
             ],
             [
              0.5555555555555556,
              "#d8576b"
             ],
             [
              0.6666666666666666,
              "#ed7953"
             ],
             [
              0.7777777777777778,
              "#fb9f3a"
             ],
             [
              0.8888888888888888,
              "#fdca26"
             ],
             [
              1,
              "#f0f921"
             ]
            ],
            "type": "histogram2d"
           }
          ],
          "histogram2dcontour": [
           {
            "colorbar": {
             "outlinewidth": 0,
             "ticks": ""
            },
            "colorscale": [
             [
              0,
              "#0d0887"
             ],
             [
              0.1111111111111111,
              "#46039f"
             ],
             [
              0.2222222222222222,
              "#7201a8"
             ],
             [
              0.3333333333333333,
              "#9c179e"
             ],
             [
              0.4444444444444444,
              "#bd3786"
             ],
             [
              0.5555555555555556,
              "#d8576b"
             ],
             [
              0.6666666666666666,
              "#ed7953"
             ],
             [
              0.7777777777777778,
              "#fb9f3a"
             ],
             [
              0.8888888888888888,
              "#fdca26"
             ],
             [
              1,
              "#f0f921"
             ]
            ],
            "type": "histogram2dcontour"
           }
          ],
          "mesh3d": [
           {
            "colorbar": {
             "outlinewidth": 0,
             "ticks": ""
            },
            "type": "mesh3d"
           }
          ],
          "parcoords": [
           {
            "line": {
             "colorbar": {
              "outlinewidth": 0,
              "ticks": ""
             }
            },
            "type": "parcoords"
           }
          ],
          "pie": [
           {
            "automargin": true,
            "type": "pie"
           }
          ],
          "scatter": [
           {
            "marker": {
             "colorbar": {
              "outlinewidth": 0,
              "ticks": ""
             }
            },
            "type": "scatter"
           }
          ],
          "scatter3d": [
           {
            "line": {
             "colorbar": {
              "outlinewidth": 0,
              "ticks": ""
             }
            },
            "marker": {
             "colorbar": {
              "outlinewidth": 0,
              "ticks": ""
             }
            },
            "type": "scatter3d"
           }
          ],
          "scattercarpet": [
           {
            "marker": {
             "colorbar": {
              "outlinewidth": 0,
              "ticks": ""
             }
            },
            "type": "scattercarpet"
           }
          ],
          "scattergeo": [
           {
            "marker": {
             "colorbar": {
              "outlinewidth": 0,
              "ticks": ""
             }
            },
            "type": "scattergeo"
           }
          ],
          "scattergl": [
           {
            "marker": {
             "colorbar": {
              "outlinewidth": 0,
              "ticks": ""
             }
            },
            "type": "scattergl"
           }
          ],
          "scattermapbox": [
           {
            "marker": {
             "colorbar": {
              "outlinewidth": 0,
              "ticks": ""
             }
            },
            "type": "scattermapbox"
           }
          ],
          "scatterpolar": [
           {
            "marker": {
             "colorbar": {
              "outlinewidth": 0,
              "ticks": ""
             }
            },
            "type": "scatterpolar"
           }
          ],
          "scatterpolargl": [
           {
            "marker": {
             "colorbar": {
              "outlinewidth": 0,
              "ticks": ""
             }
            },
            "type": "scatterpolargl"
           }
          ],
          "scatterternary": [
           {
            "marker": {
             "colorbar": {
              "outlinewidth": 0,
              "ticks": ""
             }
            },
            "type": "scatterternary"
           }
          ],
          "surface": [
           {
            "colorbar": {
             "outlinewidth": 0,
             "ticks": ""
            },
            "colorscale": [
             [
              0,
              "#0d0887"
             ],
             [
              0.1111111111111111,
              "#46039f"
             ],
             [
              0.2222222222222222,
              "#7201a8"
             ],
             [
              0.3333333333333333,
              "#9c179e"
             ],
             [
              0.4444444444444444,
              "#bd3786"
             ],
             [
              0.5555555555555556,
              "#d8576b"
             ],
             [
              0.6666666666666666,
              "#ed7953"
             ],
             [
              0.7777777777777778,
              "#fb9f3a"
             ],
             [
              0.8888888888888888,
              "#fdca26"
             ],
             [
              1,
              "#f0f921"
             ]
            ],
            "type": "surface"
           }
          ],
          "table": [
           {
            "cells": {
             "fill": {
              "color": "#EBF0F8"
             },
             "line": {
              "color": "white"
             }
            },
            "header": {
             "fill": {
              "color": "#C8D4E3"
             },
             "line": {
              "color": "white"
             }
            },
            "type": "table"
           }
          ]
         },
         "layout": {
          "annotationdefaults": {
           "arrowcolor": "#2a3f5f",
           "arrowhead": 0,
           "arrowwidth": 1
          },
          "coloraxis": {
           "colorbar": {
            "outlinewidth": 0,
            "ticks": ""
           }
          },
          "colorscale": {
           "diverging": [
            [
             0,
             "#8e0152"
            ],
            [
             0.1,
             "#c51b7d"
            ],
            [
             0.2,
             "#de77ae"
            ],
            [
             0.3,
             "#f1b6da"
            ],
            [
             0.4,
             "#fde0ef"
            ],
            [
             0.5,
             "#f7f7f7"
            ],
            [
             0.6,
             "#e6f5d0"
            ],
            [
             0.7,
             "#b8e186"
            ],
            [
             0.8,
             "#7fbc41"
            ],
            [
             0.9,
             "#4d9221"
            ],
            [
             1,
             "#276419"
            ]
           ],
           "sequential": [
            [
             0,
             "#0d0887"
            ],
            [
             0.1111111111111111,
             "#46039f"
            ],
            [
             0.2222222222222222,
             "#7201a8"
            ],
            [
             0.3333333333333333,
             "#9c179e"
            ],
            [
             0.4444444444444444,
             "#bd3786"
            ],
            [
             0.5555555555555556,
             "#d8576b"
            ],
            [
             0.6666666666666666,
             "#ed7953"
            ],
            [
             0.7777777777777778,
             "#fb9f3a"
            ],
            [
             0.8888888888888888,
             "#fdca26"
            ],
            [
             1,
             "#f0f921"
            ]
           ],
           "sequentialminus": [
            [
             0,
             "#0d0887"
            ],
            [
             0.1111111111111111,
             "#46039f"
            ],
            [
             0.2222222222222222,
             "#7201a8"
            ],
            [
             0.3333333333333333,
             "#9c179e"
            ],
            [
             0.4444444444444444,
             "#bd3786"
            ],
            [
             0.5555555555555556,
             "#d8576b"
            ],
            [
             0.6666666666666666,
             "#ed7953"
            ],
            [
             0.7777777777777778,
             "#fb9f3a"
            ],
            [
             0.8888888888888888,
             "#fdca26"
            ],
            [
             1,
             "#f0f921"
            ]
           ]
          },
          "colorway": [
           "#636efa",
           "#EF553B",
           "#00cc96",
           "#ab63fa",
           "#FFA15A",
           "#19d3f3",
           "#FF6692",
           "#B6E880",
           "#FF97FF",
           "#FECB52"
          ],
          "font": {
           "color": "#2a3f5f"
          },
          "geo": {
           "bgcolor": "white",
           "lakecolor": "white",
           "landcolor": "#E5ECF6",
           "showlakes": true,
           "showland": true,
           "subunitcolor": "white"
          },
          "hoverlabel": {
           "align": "left"
          },
          "hovermode": "closest",
          "mapbox": {
           "style": "light"
          },
          "paper_bgcolor": "white",
          "plot_bgcolor": "#E5ECF6",
          "polar": {
           "angularaxis": {
            "gridcolor": "white",
            "linecolor": "white",
            "ticks": ""
           },
           "bgcolor": "#E5ECF6",
           "radialaxis": {
            "gridcolor": "white",
            "linecolor": "white",
            "ticks": ""
           }
          },
          "scene": {
           "xaxis": {
            "backgroundcolor": "#E5ECF6",
            "gridcolor": "white",
            "gridwidth": 2,
            "linecolor": "white",
            "showbackground": true,
            "ticks": "",
            "zerolinecolor": "white"
           },
           "yaxis": {
            "backgroundcolor": "#E5ECF6",
            "gridcolor": "white",
            "gridwidth": 2,
            "linecolor": "white",
            "showbackground": true,
            "ticks": "",
            "zerolinecolor": "white"
           },
           "zaxis": {
            "backgroundcolor": "#E5ECF6",
            "gridcolor": "white",
            "gridwidth": 2,
            "linecolor": "white",
            "showbackground": true,
            "ticks": "",
            "zerolinecolor": "white"
           }
          },
          "shapedefaults": {
           "line": {
            "color": "#2a3f5f"
           }
          },
          "ternary": {
           "aaxis": {
            "gridcolor": "white",
            "linecolor": "white",
            "ticks": ""
           },
           "baxis": {
            "gridcolor": "white",
            "linecolor": "white",
            "ticks": ""
           },
           "bgcolor": "#E5ECF6",
           "caxis": {
            "gridcolor": "white",
            "linecolor": "white",
            "ticks": ""
           }
          },
          "title": {
           "x": 0.05
          },
          "xaxis": {
           "automargin": true,
           "gridcolor": "white",
           "linecolor": "white",
           "ticks": "",
           "title": {
            "standoff": 15
           },
           "zerolinecolor": "white",
           "zerolinewidth": 2
          },
          "yaxis": {
           "automargin": true,
           "gridcolor": "white",
           "linecolor": "white",
           "ticks": "",
           "title": {
            "standoff": 15
           },
           "zerolinecolor": "white",
           "zerolinewidth": 2
          }
         }
        },
        "width": 800
       }
      },
      "text/html": [
       "<div>                            <div id=\"02cf3acd-e0e2-4dc3-b0be-68aaf6384db8\" class=\"plotly-graph-div\" style=\"height:525px; width:800px;\"></div>            <script type=\"text/javascript\">                require([\"plotly\"], function(Plotly) {                    window.PLOTLYENV=window.PLOTLYENV || {};                                    if (document.getElementById(\"02cf3acd-e0e2-4dc3-b0be-68aaf6384db8\")) {                    Plotly.newPlot(                        \"02cf3acd-e0e2-4dc3-b0be-68aaf6384db8\",                        [{\"customdata\": [[\"Scrypt\"], [\"Scrypt\"], [\"X13\"], [\"X11\"], [\"SHA-512\"], [\"SHA-256\"], [\"SHA-256\"], [\"X15\"], [\"Scrypt\"], [\"Scrypt\"], [\"Scrypt\"], [\"Scrypt\"], [\"Scrypt\"], [\"Scrypt\"], [\"Groestl\"], [\"PoS\"], [\"Scrypt\"], [\"Scrypt\"], [\"X11\"], [\"X11\"], [\"SHA3\"], [\"Scrypt\"], [\"SHA-256\"], [\"Scrypt\"], [\"X13\"], [\"X13\"], [\"NeoScrypt\"], [\"Scrypt\"], [\"Scrypt\"], [\"Scrypt\"], [\"X11\"], [\"X11\"], [\"Multiple\"], [\"PHI1612\"], [\"X11\"], [\"Scrypt\"], [\"Scrypt\"], [\"Scrypt\"], [\"X11\"], [\"Multiple\"], [\"X13\"], [\"Scrypt\"], [\"Shabal256\"], [\"Counterparty\"], [\"SHA-256\"], [\"Groestl\"], [\"Scrypt\"], [\"X13\"], [\"Scrypt\"], [\"Scrypt\"], [\"X13\"], [\"X11\"], [\"Scrypt\"], [\"X11\"], [\"SHA3\"], [\"QUAIT\"], [\"X11\"], [\"Scrypt\"], [\"X13\"], [\"SHA-256\"], [\"X15\"], [\"BLAKE256\"], [\"SHA-256\"], [\"X11\"], [\"SHA-256\"], [\"NIST5\"], [\"Scrypt\"], [\"Scrypt\"], [\"X11\"], [\"Scrypt\"], [\"SHA-256\"], [\"Scrypt\"], [\"PoS\"], [\"X11\"], [\"SHA-256\"], [\"SHA-256\"], [\"NIST5\"], [\"X11\"], [\"POS 3.0\"], [\"Scrypt\"], [\"Scrypt\"], [\"Scrypt\"], [\"X13\"], [\"X11\"], [\"X11\"], [\"Scrypt\"], [\"SHA-256\"], [\"X11\"], [\"Scrypt\"], [\"Scrypt\"], [\"Scrypt\"], [\"Scrypt\"], [\"SHA-256D\"], [\"PoS\"], [\"Scrypt\"], [\"X11\"], [\"PoS\"], [\"X13\"], [\"X14\"], [\"PoS\"], [\"SHA-256D\"], [\"DPoS\"], [\"X11\"], [\"X13\"], [\"X11\"], [\"PoS\"], [\"Scrypt\"], [\"Scrypt\"], [\"PoS\"], [\"X11\"], [\"SHA-256\"], [\"Scrypt\"], [\"X11\"], [\"Scrypt\"], [\"Scrypt\"], [\"X11\"], [\"Scrypt\"], [\"Scrypt\"], [\"Scrypt\"], [\"Scrypt\"], [\"Quark\"], [\"QuBit\"], [\"Scrypt\"], [\"SHA-256\"], [\"X11\"], [\"Scrypt\"], [\"Scrypt\"], [\"Scrypt\"], [\"Scrypt\"], [\"X13\"], [\"Scrypt\"], [\"Scrypt\"], [\"X11\"], [\"Blake2S\"], [\"X11\"], [\"PoS\"], [\"X11\"], [\"PoS\"], [\"X11\"], [\"Scrypt\"], [\"Scrypt\"], [\"Scrypt\"], [\"SHA-256\"], [\"X11\"], [\"Scrypt\"], [\"PoS\"], [\"Scrypt\"], [\"X15\"], [\"SHA-256\"], [\"POS 3.0\"], [\"536\"], [\"NIST5\"], [\"NIST5\"], [\"Skein\"], [\"X13\"], [\"Scrypt\"], [\"X13\"], [\"SkunkHash v2 Raptor\"], [\"Skein\"], [\"X11\"], [\"Scrypt\"], [\"VeChainThor Authority\"], [\"PoS\"], [\"Scrypt\"], [\"Scrypt\"], [\"SHA-512\"], [\"Ouroboros\"], [\"X11\"], [\"NeoScrypt\"], [\"Scrypt\"], [\"Lyra2REv2\"], [\"Scrypt\"], [\"SHA-256\"], [\"NIST5\"], [\"PHI1612\"], [\"Scrypt\"], [\"Quark\"], [\"POS 2.0\"], [\"Scrypt\"], [\"SHA-256\"], [\"X11\"], [\"DPoS\"], [\"NIST5\"], [\"X13\"], [\"Scrypt\"], [\"NIST5\"], [\"Quark\"], [\"Scrypt\"], [\"Scrypt\"], [\"X11\"], [\"Quark\"], [\"Scrypt\"], [\"Scrypt\"], [\"X11\"], [\"POS 3.0\"], [\"Ethash\"], [\"Scrypt\"], [\"Scrypt\"], [\"X13\"], [\"C11\"], [\"X11\"], [\"XEVAN\"], [\"Scrypt\"], [\"VBFT\"], [\"NIST5\"], [\"Scrypt\"], [\"Scrypt\"], [\"Scrypt\"], [\"Green Protocol\"], [\"PoS\"], [\"Scrypt\"], [\"Semux BFT consensus\"], [\"Quark\"], [\"PoS\"], [\"X16R\"], [\"Scrypt\"], [\"XEVAN\"], [\"Scrypt\"], [\"Scrypt\"], [\"Scrypt\"], [\"SHA-256D\"], [\"Scrypt\"], [\"X15\"], [\"Scrypt\"], [\"Quark\"], [\"SHA-256\"], [\"DPoS\"], [\"X16R\"], [\"Quark\"], [\"Quark\"], [\"Scrypt\"], [\"Lyra2REv2\"], [\"Quark\"], [\"Scrypt\"], [\"X11\"], [\"X11\"], [\"Scrypt\"], [\"PoS\"], [\"Keccak\"], [\"X11\"], [\"Scrypt\"], [\"SHA-512\"], [\"XEVAN\"], [\"XEVAN\"], [\"X11\"], [\"Quark\"], [\"Equihash\"], [\"Scrypt\"], [\"Quark\"], [\"Quark\"], [\"Scrypt\"], [\"X11\"], [\"Scrypt\"], [\"XEVAN\"], [\"SHA-256D\"], [\"X11\"], [\"X11\"], [\"DPoS\"], [\"Scrypt\"], [\"X11\"], [\"Scrypt\"], [\"Scrypt\"], [\"SHA-256\"], [\"Scrypt\"], [\"X11\"], [\"Scrypt\"], [\"SHA-256\"], [\"X11\"], [\"Scrypt\"], [\"Scrypt\"], [\"X11\"], [\"Scrypt\"], [\"PoS\"], [\"X11\"], [\"SHA-256\"], [\"DPoS\"], [\"Scrypt\"], [\"Scrypt\"], [\"NeoScrypt\"], [\"X13\"], [\"DPoS\"], [\"DPoS\"], [\"SHA-256\"], [\"PoS\"], [\"PoS\"], [\"SHA-256\"], [\"Scrypt\"], [\"Scrypt\"]], \"hovertemplate\": \"<b>%{hovertext}</b><br><br>Class=%{marker.color}<br>PC 1=%{x}<br>PC 2=%{y}<br>PC 3=%{z}<br>Algorithm=%{customdata[0]}<extra></extra>\", \"hovertext\": [\"42 Coin\", \"404Coin\", \"EliteCoin\", \"Dash\", \"Bitshares\", \"BitcoinDark\", \"PayCoin\", \"KoboCoin\", \"Aurora Coin\", \"BlueCoin\", \"EnergyCoin\", \"BitBar\", \"CryptoBullion\", \"CasinoCoin\", \"Diamond\", \"Exclusive Coin\", \"FlutterCoin\", \"HoboNickels\", \"HyperStake\", \"IOCoin\", \"MaxCoin\", \"MintCoin\", \"MazaCoin\", \"Nautilus Coin\", \"NavCoin\", \"OpalCoin\", \"Orbitcoin\", \"PotCoin\", \"PhoenixCoin\", \"Reddcoin\", \"SuperCoin\", \"SyncCoin\", \"TeslaCoin\", \"TittieCoin\", \"TorCoin\", \"UnitaryStatus Dollar\", \"UltraCoin\", \"VeriCoin\", \"X11 Coin\", \"Crypti\", \"StealthCoin\", \"ZCC Coin\", \"BurstCoin\", \"StorjCoin\", \"Neutron\", \"FairCoin\", \"RubyCoin\", \"Kore\", \"Dnotes\", \"8BIT Coin\", \"Sativa Coin\", \"Ucoin\", \"Vtorrent\", \"IslaCoin\", \"Nexus\", \"Droidz\", \"Squall Coin\", \"Diggits\", \"Paycon\", \"Emercoin\", \"EverGreenCoin\", \"Decred\", \"EDRCoin\", \"Hitcoin\", \"DubaiCoin\", \"PWR Coin\", \"BillaryCoin\", \"GPU Coin\", \"EuropeCoin\", \"ZeitCoin\", \"SwingCoin\", \"SafeExchangeCoin\", \"Nebuchadnezzar\", \"Ratecoin\", \"Revenu\", \"Clockcoin\", \"VIP Tokens\", \"BitSend\", \"Let it Ride\", \"PutinCoin\", \"iBankCoin\", \"Frankywillcoin\", \"MudraCoin\", \"Lutetium Coin\", \"GoldBlocks\", \"CarterCoin\", \"BitTokens\", \"MustangCoin\", \"ZoneCoin\", \"RootCoin\", \"BitCurrency\", \"Swiscoin\", \"BuzzCoin\", \"Opair\", \"PesoBit\", \"Halloween Coin\", \"CoffeeCoin\", \"RoyalCoin\", \"GanjaCoin V2\", \"TeamUP\", \"LanaCoin\", \"ARK\", \"InsaneCoin\", \"EmberCoin\", \"XenixCoin\", \"FreeCoin\", \"PLNCoin\", \"AquariusCoin\", \"Creatio\", \"Eternity\", \"Eurocoin\", \"BitcoinFast\", \"Stakenet\", \"BitConnect Coin\", \"MoneyCoin\", \"Enigma\", \"Russiacoin\", \"PandaCoin\", \"GameUnits\", \"GAKHcoin\", \"Allsafe\", \"LiteCreed\", \"Klingon Empire Darsek\", \"Internet of People\", \"KushCoin\", \"Printerium\", \"Impeach\", \"Zilbercoin\", \"FirstCoin\", \"FindCoin\", \"OpenChat\", \"RenosCoin\", \"VirtacoinPlus\", \"TajCoin\", \"Impact\", \"Atmos\", \"HappyCoin\", \"MacronCoin\", \"Condensate\", \"Independent Money System\", \"ArgusCoin\", \"LomoCoin\", \"ProCurrency\", \"GoldReserve\", \"GrowthCoin\", \"Phreak\", \"Degas Coin\", \"HTML5 Coin\", \"Ultimate Secure Cash\", \"QTUM\", \"Espers\", \"Denarius\", \"Virta Unique Coin\", \"Bitcoin Planet\", \"BritCoin\", \"Linda\", \"DeepOnion\", \"Signatum\", \"Cream\", \"Monoeci\", \"Draftcoin\", \"Vechain\", \"Stakecoin\", \"CoinonatX\", \"Ethereum Dark\", \"Obsidian\", \"Cardano\", \"Regalcoin\", \"TrezarCoin\", \"TerraNovaCoin\", \"Rupee\", \"WomenCoin\", \"Theresa May Coin\", \"NamoCoin\", \"LUXCoin\", \"Xios\", \"Bitcloud 2.0\", \"KekCoin\", \"BlackholeCoin\", \"Infinity Economics\", \"Magnet\", \"Lamden Tau\", \"Electra\", \"Bitcoin Diamond\", \"Cash & Back Coin\", \"Bulwark\", \"Kalkulus\", \"GermanCoin\", \"LiteCoin Ultra\", \"PhantomX\", \"Digiwage\", \"Trollcoin\", \"Litecoin Plus\", \"Monkey Project\", \"TokenPay\", \"1717 Masonic Commemorative Token\", \"My Big Coin\", \"Unified Society USDEX\", \"Tokyo Coin\", \"Stipend\", \"Pushi\", \"Ellerium\", \"Velox\", \"Ontology\", \"Bitspace\", \"Briacoin\", \"Ignition\", \"MedicCoin\", \"Bitcoin Green\", \"Deviant Coin\", \"Abjcoin\", \"Semux\", \"Carebit\", \"Zealium\", \"Proton\", \"iDealCash\", \"Bitcoin Incognito\", \"HollyWoodCoin\", \"Swisscoin\", \"Xt3ch\", \"TheVig\", \"EmaratCoin\", \"Dekado\", \"Lynx\", \"Poseidon Quark\", \"BitcoinWSpectrum\", \"Muse\", \"Trivechain\", \"Dystem\", \"Giant\", \"Peony Coin\", \"Absolute Coin\", \"Vitae\", \"TPCash\", \"ARENON\", \"EUNO\", \"MMOCoin\", \"Ketan\", \"XDNA\", \"PAXEX\", \"ThunderStake\", \"Kcash\", \"Bettex coin\", \"BitMoney\", \"Junson Ming Chan Coin\", \"HerbCoin\", \"PirateCash\", \"Oduwa\", \"Galilel\", \"Crypto Sports\", \"Credit\", \"Dash Platinum\", \"Nasdacoin\", \"Beetle Coin\", \"Titan Coin\", \"Award\", \"Insane Coin\", \"ALAX\", \"LiteDoge\", \"TruckCoin\", \"OrangeCoin\", \"BitstarCoin\", \"NeosCoin\", \"HyperCoin\", \"PinkCoin\", \"AudioCoin\", \"IncaKoin\", \"Piggy Coin\", \"Genstake\", \"XiaoMiCoin\", \"CapriCoin\", \" ClubCoin\", \"Radium\", \"Creditbit \", \"OKCash\", \"Lisk\", \"HiCoin\", \"WhiteCoin\", \"FriendshipCoin\", \"Triangles Coin\", \"EOS\", \"Oxycoin\", \"TigerCash\", \"Particl\", \"Nxt\", \"ZEPHYR\", \"Gapcoin\", \"BitcoinPlus\"], \"legendgroup\": \"0\", \"marker\": {\"color\": [0, 0, 0, 0, 0, 0, 0, 0, 0, 0, 0, 0, 0, 0, 0, 0, 0, 0, 0, 0, 0, 0, 0, 0, 0, 0, 0, 0, 0, 0, 0, 0, 0, 0, 0, 0, 0, 0, 0, 0, 0, 0, 0, 0, 0, 0, 0, 0, 0, 0, 0, 0, 0, 0, 0, 0, 0, 0, 0, 0, 0, 0, 0, 0, 0, 0, 0, 0, 0, 0, 0, 0, 0, 0, 0, 0, 0, 0, 0, 0, 0, 0, 0, 0, 0, 0, 0, 0, 0, 0, 0, 0, 0, 0, 0, 0, 0, 0, 0, 0, 0, 0, 0, 0, 0, 0, 0, 0, 0, 0, 0, 0, 0, 0, 0, 0, 0, 0, 0, 0, 0, 0, 0, 0, 0, 0, 0, 0, 0, 0, 0, 0, 0, 0, 0, 0, 0, 0, 0, 0, 0, 0, 0, 0, 0, 0, 0, 0, 0, 0, 0, 0, 0, 0, 0, 0, 0, 0, 0, 0, 0, 0, 0, 0, 0, 0, 0, 0, 0, 0, 0, 0, 0, 0, 0, 0, 0, 0, 0, 0, 0, 0, 0, 0, 0, 0, 0, 0, 0, 0, 0, 0, 0, 0, 0, 0, 0, 0, 0, 0, 0, 0, 0, 0, 0, 0, 0, 0, 0, 0, 0, 0, 0, 0, 0, 0, 0, 0, 0, 0, 0, 0, 0, 0, 0, 0, 0, 0, 0, 0, 0, 0, 0, 0, 0, 0, 0, 0, 0, 0, 0, 0, 0, 0, 0, 0, 0, 0, 0, 0, 0, 0, 0, 0, 0, 0, 0, 0, 0, 0, 0, 0, 0, 0, 0, 0, 0, 0, 0, 0, 0, 0, 0, 0, 0, 0, 0, 0, 0, 0, 0, 0, 0, 0, 0, 0, 0, 0], \"coloraxis\": \"coloraxis\", \"symbol\": \"circle\"}, \"mode\": \"markers\", \"name\": \"0\", \"scene\": \"scene\", \"showlegend\": true, \"type\": \"scatter3d\", \"x\": [-0.3357667788775343, -0.3190853915560137, 2.3098167034099713, -0.3887450865824849, -0.2550030985217202, -0.30833260055645917, -0.26366347524062667, -0.23772583773782416, -0.3354259828606137, -0.3279943020021651, -0.3342614808235963, -0.3357627114792302, -0.3357469744998666, 0.6135645230416797, -0.3647075722006168, -0.34576779849777556, -0.2824988343322098, -0.3338234992842274, -0.3238744920568285, -0.38863965176802034, -0.4315892046749954, -0.03069483936873717, -0.27160043515700755, -0.2908485090045438, -0.27640398396840254, -0.2770269664799226, -0.34290499741598307, -0.3300632025294052, -0.3341668266154646, 0.022819971149395525, -0.3437858233481856, -0.38901162020034485, -0.24482612297137954, -0.3055386987100119, -0.3889231797584271, -0.3109728240031836, -0.3344428288160075, -0.29272113340474054, -0.3888875982497231, -0.24529414575804934, -0.27680755745427393, -0.32686181008012527, -0.12815084692705161, -0.34135542892515336, -0.307543472057252, -0.3641284029559801, -0.2908286957608967, -0.27710248265742327, -0.28547757184723777, -0.3357488251215741, -0.2770546027125307, -0.34423128042312817, -0.3354829360429517, -0.38899312613019904, -0.45894574493447304, -0.4226295789200501, -0.37593668536126745, -0.28922854365253864, -0.2765757643664102, -0.3008829856053869, -0.2401693555595093, -0.07864778114244268, -0.30830347834867533, -0.06613929145671119, -0.30836721771638487, -0.23252522918722615, -0.33535872755543306, -0.2890977866023498, -0.38615995280315973, 0.8634505283594122, -0.30816711991820683, -0.11800028499530084, -0.34545073807987753, -0.3868336645103141, -0.30690964666741877, -0.30457588298175664, -0.35403500455771625, -0.3877271605414353, -0.34848411556402337, -0.3116315505126865, -0.33539687955806496, -0.33383410806911373, -0.23112668239035036, -0.33170842473119266, -0.3884665270994677, -0.3346002528113328, -0.30834817735836384, -0.38898231323451765, -0.33558620719611476, -0.33574305105083607, -0.289086692330405, -0.24898912199541073, 0.03845247321945524, -0.3444066818817441, -0.3353567283278162, -0.3751319671078966, -0.3437343850840336, -0.23255847486989234, -0.40893011810108765, -0.34348379247029576, -0.2764271320555866, 3.7236659229017484, -0.3885744304137321, 0.8565168107726033, -0.3889371695390656, -0.3448709365938339, -0.3352843084127476, -0.33543883666881474, -0.34545073807987753, -0.3885117144848364, -0.308210676627587, -0.3352850286062306, -0.36188411594639913, -0.33543258750839317, -0.3310170000250208, -0.38896620287458333, -0.33464265655326, 0.35312521156237925, -0.33563206643890564, -0.33570269637627154, -0.3522722214232762, -0.3487710521997268, -0.33192625658799607, -0.3083245617374091, -0.3888760554831248, -0.3354802816349369, -0.3356073983362851, -0.29073525421724394, -0.29598740581946487, -0.23232607637443445, -0.3164400634878126, -0.2904760015771606, -0.38814115957277556, -0.41687398130161235, -0.38687799203301143, -0.34369538242092984, -0.3880389178699556, -0.338089199407717, -0.38397605543843144, -0.33555061222543453, -0.335549823320497, -0.32866590429778164, 0.269437941038022, -0.38851781171297384, -0.2733616121752662, -0.34548510486958667, -0.3347605704725838, 0.895346284150642, -0.26235282037863, -0.3472611472562883, 0.5850228414147286, -0.35557232286985846, -0.3540730187572213, -0.4098082484329738, -0.27673936530877624, 0.12960839541633948, -0.2768101923612561, -0.34486656850720987, -0.4093125185323108, -0.38879044321549644, -0.29080943601556863, 4.405296886623415, -0.3453513076452235, -0.33518543596197975, -0.3356856074812122, -0.3131288642509308, 0.6545674802171171, -0.3887312497999988, -0.33789921031620096, -0.33564120205664805, -0.31149296983223074, 0.4343563786820108, -0.30666901321859463, -0.3403237982484762, -0.3857791558550758, -0.33559149485085904, -0.3953182459311068, -0.350512503074459, -0.3354617144856782, -0.08995844046057008, -0.3875227527752455, 3.728526845838476, 0.20452566593460744, -0.2734774787350899, -0.33291941462175506, -0.3107300520817904, -0.3521579983842703, 0.07904845002632657, -0.3345995800119216, -0.38810433468654765, -0.3513219961204617, -0.32215213150300825, -0.33570776588429135, -0.3442031780118484, -0.348766356996316, -0.2733896015404709, -0.2925741323718298, -0.33124816613046737, -0.2241139800274363, -0.36614539283268993, -0.3888077559393785, -0.3354540360319385, -0.28996869380971824, -0.32674408315360187, -0.3551709042156957, -0.335735151605826, -0.3357168458416637, -0.28434426193985757, -0.3423173899850624, -0.344945340110492, -0.33543307902880676, 3.917957461240905, -0.3939846195839928, -0.34513421962137397, -0.3143663504929544, -0.28225217383340107, -0.32253154159958, -0.29050329150713305, -0.13863427443451168, -0.290755716028024, -0.3418013188377254, -0.3349066177090244, -0.19490691097887305, 2.2309396267751365, -0.3478624769020929, -0.2624804082624272, 1.0193661573968318, -0.35830775614654325, -0.3522716742925239, -0.3970039081239129, -0.1713889305285608, -0.35602681656191904, -0.3509898516379992, -0.328605921197553, -0.343780161694904, -0.3882805126381946, -0.2879984148495659, -0.344233283856504, -0.34402336152455254, -0.3436415007846391, -0.19509579774424987, -0.2762713324796249, -0.2908415245209565, 0.4559339808285665, -0.13389503389962457, -0.3962978060342763, -0.27171881936838893, -0.3354370313959574, -0.3967543875112782, -0.3523887736354847, 0.571979977100294, -0.3442575565997306, -0.33491949565339285, -0.3299040676631025, -0.29647931466689653, -0.3858432230960761, -0.3885079723904797, 3.7407822709606586, 0.09992976458941703, -0.38604448571904354, -0.334304561540688, -0.3351301543279874, -0.26369617029051323, -0.3356489712671226, -0.380126803306365, -0.24927552793646937, -0.08771850472970871, -0.37587135180912157, -0.33492644089076035, -0.3279832942663299, -0.3850728519823853, -0.3333641198715605, -0.3457266782564009, -0.36371009139721555, -0.30684606642988405, 3.7240581206434986, -0.097828373666583, -0.33055583069370287, -0.3425305560840557, -0.2772097851149582, 3.7339388112660328, 3.7351844863494215, -0.2445721699498165, -0.3456624643204235, -0.32969173675233393, 2.4771947892908335, -0.33381045392461883, -0.2911525508229962], \"y\": [0.9823215849155886, 0.9823001446175911, 1.6266767993722404, 1.2576597533313538, 1.704909974880763, 0.7904607083811569, 0.5459944968763013, 1.8207095145146983, 0.9823170321006696, 0.9824844732328452, 0.9823531315711111, 0.9823213214701756, 0.9823213025556186, 0.3894347310878186, 0.9169212422335181, 1.45137646372917, 0.20007822809430117, 0.9822786186756182, 1.0136256231761784, 1.2576619629354167, 2.555252868894055, 0.7433060260435385, 0.7895586254493385, 0.7378426847539397, 1.7915815734319098, 1.7915685175481346, 0.5445011226291782, 0.9821481941962361, 0.9822867670218307, 0.9898365100756974, 1.013208340150807, 1.2576695103508369, 0.09583193341244796, 1.4435731928765632, 1.2576643901916666, 0.9817253040574786, 0.982279587964607, 0.23511840342233864, 1.2576682743144219, 0.09589186811458913, 1.7915731157169197, 0.9818107760855441, 0.8261178740466819, 1.4215878062342888, 0.7904451643776845, 0.9169364346670288, 0.7378543844125204, 1.791558565780618, 0.7376178128278315, 0.9823219612028742, 1.7915609640653458, 1.0131850560617608, 0.9823135848400225, 1.2576698986296624, 3.545406141326197, 1.9004612856192733, 1.2647181573258819, 0.7378181758159597, 1.7915431018766816, 0.7899347430582401, 1.8208840653192622, 0.9848600107064015, 0.7904613186971017, 1.2459191776818226, 0.7904680033619504, 1.5005533124657935, 0.9823008444063849, 0.7377364902594427, 1.2574614601745842, 0.6929990325548173, 0.7904516226139924, 0.4005027940047302, 1.451369159767302, 1.2576628472891003, 0.7903505375077816, 0.7901886304297321, 1.4979440556649448, 1.257599486661914, 1.4392360273013918, 0.9814325267437156, 0.9822984175140383, 0.9822923449636822, 1.5469819957518538, 1.0130032348854459, 1.2576460630561581, 0.9822832631285298, 0.790461079367989, 1.2576680329436432, 0.9823107231491016, 0.9823220822104387, 0.7378908916882546, 0.2430713399634198, 1.9113849832779208, 1.451353378852874, 0.982330178400105, 1.2569142415354213, 1.45139118093936, 1.5470897320933517, 1.8906661991095703, 1.4512144031010774, 1.913499732599487, 2.094794119036662, 1.2576577503366353, 1.8147314497389075, 1.257668383886494, 1.4513603877780472, 0.9823048171237985, 0.9822991655546447, 1.451369159767302, 1.2576381417527545, 0.7904646584103256, 0.9823086657975778, 0.9131533986056138, 0.9823090605506203, 0.9819673361181465, 1.2576669757077683, 0.9822447132046328, 0.7286728608601993, 0.9823153415208743, 0.9823206153923517, 1.3829199934636878, 0.6393257042557943, 0.9820533555867027, 0.7904615742820464, 1.2576658283184055, 0.9823136404686186, 0.9823096281098119, 0.7378179839759869, 0.22082518077246743, 1.547086216067342, 0.9820291852860172, 0.7378377657972466, 1.257618010261335, 1.913186155982719, 1.2576375082345947, 1.4513429758139866, 1.2576201529471474, 1.4512584122737036, 1.2574263262705385, 0.9823113211754171, 0.9823061851738029, 0.9817729675692686, 0.5048681408633391, 1.2576519625897982, 0.736825581480762, 1.4513614652318034, 0.9822694418784155, 1.781930702543771, 0.5458911373444736, 1.4392152779736782, 1.9446797720471487, 1.4979676324562958, 1.497922336073411, 1.936286387290539, 1.7915536218984554, 0.9572029392205494, 1.7915598803179151, 1.4852946017497337, 1.9362967763333252, 1.2576675156041728, 0.7378426486346917, 2.9638624521600136, 1.451342230438161, 0.9823001157515495, 0.9823203568493717, 1.7061392410254261, 1.33164979437267, 1.2576565561554254, 0.5443296861986096, 0.9823132437543947, 0.6663265580004168, 0.9810253332195765, 0.7904411726794432, 1.4974572540344895, 1.688862804438734, 0.9823106123353877, 1.6272978212800076, 1.4438114580171166, 0.9823176643986518, 0.5433666844614384, 1.2576002832940993, 2.0946344531356815, 1.4887896900752833, 1.7914964439077117, 0.982234796858223, 1.2534860682095648, 1.3829189000888589, 0.9561433512569794, 0.9822414313773143, 1.2576536535453933, 1.3828666771558233, 0.9819792202016435, 0.9823200319604914, 1.013184947574914, 1.439236040512141, -0.1078729818497005, 0.2125209267343877, 0.9822544778394925, 1.546710502886303, 1.030565191879035, 1.257656347673142, 1.7554309420780394, 0.737785926102, 1.5289981718145085, 1.4979481477782657, 0.9823201554670504, 0.9823191442404005, 0.7376415636750207, 1.2982651576905344, 1.4513323261264839, 0.9823076553880924, 2.197872983245262, 1.627325770171455, 1.4513339472134807, 0.6641303461347018, 0.9798708870942675, 1.7625035934556623, 0.7378430707278348, 0.9793391085809966, 0.7378252268958996, 1.9172948545342778, 0.9822810272051631, 1.576379234710429, 0.15078407601008412, 1.3825695401667037, 0.5459580824161613, 1.7552272185633344, 0.9085922479673809, 1.3829158203448302, 1.6273983884552106, 0.7285848583232983, 0.9107823533609452, 1.382887586545723, 0.9817742246388824, 1.0131701001055755, 1.257649961372952, 0.7377323667665422, 1.4512621621703632, 0.7650048542810046, 1.0131416216426787, 0.9727158802318661, 2.28186156688162, 1.5109638928295326, 1.9463276659476678, 1.017607034659837, 1.6273791174815404, -0.1307140881550453, 0.9823138494357515, 1.6273939338477412, 1.3829186876839157, 0.9491774632237985, 1.0131847146195263, 0.982280757321271, 1.7552403835402512, 1.9148272594590332, 1.2574429903883582, 1.2576591431016193, 2.094542575426766, 0.967042425061739, 1.2577316934726839, 0.9822127425554222, 0.9822970868344094, 0.5459878835218371, 0.9823240538463988, 1.257506995290183, 0.9768111635993523, 0.7949669635149845, 1.2572474616295763, 0.9823287344982757, 0.9822057315818913, 1.2576069904449698, 0.9822603486848583, 1.4513710486109948, 0.7505415173118022, 0.7904339750098709, 2.0947779851800066, 0.734918633568542, 0.9822215618589649, 0.5444696360134673, 1.79156460251477, 2.0950965874623555, 2.095122693153624, 0.5457058815988022, 1.4513726495085515, 1.571931452759519, 0.8850159803478462, 0.9821882260572918, 0.7378468999307114], \"z\": [-0.5813680889341539, -0.5817207363499338, -0.713183849272852, -0.5242749067855212, -0.11389481118914437, -0.48219746737111246, -0.17323983296209922, -0.6887705518975453, -0.5813742023739391, -0.5815782394567348, -0.5814087888585715, -0.5813681064526888, -0.5813684394830125, -0.11788500066441313, -0.4161060212163482, -0.10907833178587638, -0.3370877365442849, -0.5813984398703083, -0.2158657868099901, -0.5242777575087746, -0.7033067135580434, -0.2794494115765594, -0.4827473206155914, -0.27241244196666536, -0.7013541826288165, -0.701337338565127, -0.3782166002219906, -0.5814446323530637, -0.5813932254183684, -0.5910634783694224, -0.21532742862783438, -0.5242717684801377, 0.07312455985456634, -0.2836865321554235, -0.5242723106451772, -0.5817425819367047, -0.5813853930811602, -0.32198605762587046, -0.524274104854027, 0.07311872162100026, -0.7013432708979515, -0.581423934219388, 0.29505670400983863, -0.11419262724531941, -0.48221029708937174, -0.4161224906394268, -0.2724159697641952, -0.7013330776717331, -0.2724681896198544, -0.5813685743716149, -0.7013347420897269, -0.21531168595164807, -0.5813720649157753, -0.5242722687036508, -0.5587925994084423, -0.5842845782542917, -0.09801367030105797, -0.2724407417934325, -0.7013402918031143, -0.48221803146908354, -0.6887643452926024, -0.5093408030804984, -0.482198254770941, -0.5280917526272969, -0.4821986580409773, -0.5852134172623404, -0.5813713548807656, -0.272421891478925, -0.5242778601021885, -0.2853175116403095, -0.4821986129446245, -0.10510500089546741, -0.10908320588941703, -0.5243167863526546, -0.4821988217527423, -0.48220602324406187, -0.5819114194888134, -0.5242807929846491, -0.13555388456211845, -0.5816508013130605, -0.5813698918430221, -0.5814018515384045, -0.3923742501041908, -0.21553247874207832, -0.5242772605068506, -0.5813829859389494, -0.4821972311342838, -0.5242720062844264, -0.5813690877678179, -0.5813687304896655, -0.2724630696685874, -0.37327791633179164, -0.876573103979842, -0.109101448884119, -0.5813791757982113, -0.5243696557068379, -0.1091259137757985, -0.3923720603396653, -0.6023964851362801, -0.10908442372037519, -0.8703699154373656, -0.028881845891918678, -0.5242780415469288, -0.7318286585973033, -0.5242730690679894, -0.10909333467494553, -0.5813740068506772, -0.5813691889082335, -0.10908320588941703, -0.5242741894872545, -0.4822011337740078, -0.5813750118644297, -0.25589300121519476, -0.5813719468259111, -0.5813761889470744, -0.5242720720221755, -0.5813718534695121, -0.28381422253255206, -0.5813693272381626, -0.5813692084171639, -0.2985853177161537, -0.42888497648267515, -0.581379465484173, -0.48219786964823236, -0.5242737042426814, -0.5813721366850736, -0.581368342209557, -0.2724083253243119, -0.18179009079657654, -0.39237612020252205, -0.5817057151042632, -0.2724191395149746, -0.5242768114570444, -0.7404762359601841, -0.5243091154492341, -0.10911396989716482, -0.5242795758456457, -0.10921197393221915, -0.5243154565020031, -0.581370010950241, -0.5813686660747083, -0.5813751555179926, -0.17378662519215463, -0.5242777231378268, -0.27251839030807307, -0.10908042743469933, -0.5813758774258365, -0.7028277524156646, -0.17324058109384924, -0.13557465337666344, -0.7752305171318425, -0.5818846478398134, -0.5819048439101532, -0.773440544461052, -0.7013395669030132, -0.5847045350196893, -0.7013397049028255, -0.23952955724669198, -0.7734539478967264, -0.5242759906645976, -0.27241327171521773, 4.204735652426439, -0.10907820138139401, -0.581374884147633, -0.5813695069499494, -0.11297215602665277, -0.22769591051613017, -0.5242743562748761, -0.37827867263587456, -0.5813685747689095, -0.15257891038888802, -0.5975673763521174, -0.4822280229047779, -0.5820768729722137, -0.5920983862144901, -0.5813689448013755, -0.607554382775825, -0.14141734643897255, -0.5813736024792054, -0.17627441519542214, -0.52428539509021, -0.028943927464730686, -0.591482543810582, -0.7013944745177497, -0.5814062410345667, -0.2729266619504234, -0.2985874814269595, -0.5833375063719424, -0.581371908611708, -0.5242870533853959, -0.2985915925413043, -0.5815697660000033, -0.5813689448209971, -0.2153122608531395, -0.1355478252456317, 0.13338035538921683, -0.23778889636255032, -0.5814473595258355, -0.3924529028209391, -0.3879846493423309, -0.5242726575693683, -0.4840350701866854, -0.2724162915694943, -0.11102391212720533, -0.581888104296652, -0.5813683892972047, -0.5813685143938091, -0.2724988318030728, -0.12945708565066263, -0.10908429580752521, -0.5813715636856824, -0.04668267542867187, -0.6075904410707427, -0.10908066832741717, -0.08593414606798785, -0.5818678266387411, -0.0577800622594568, -0.2724199599147044, -0.5848118759997102, -0.2724098062607314, -0.8699718994013775, -0.5813758120642674, -0.37980921601685136, -0.21329142429346518, -0.2985871198474603, -0.17325559101357574, -0.08576839343369716, -0.39490626988128685, -0.2985842229575295, -0.6075448387239563, -0.2725238166504682, -0.461536688849688, -0.29860427149661656, -0.5813767773278212, -0.21531741081464334, -0.5242822899248115, -0.2724444136959382, -0.10908098734031477, -0.5771537487839246, -0.2153128382590578, -0.5818428644186568, 0.009115780200557493, -0.17507599752876032, -0.1451107685266628, -0.2210024094819687, -0.6075548967402815, 0.09019855400984078, -0.581373121150188, -0.6075490175195638, -0.2985824678314019, -0.5920791326983283, -0.21531103097977394, -0.5813754638732492, -0.484103761873093, -0.8702911717602696, -0.5242797664591786, -0.5242798384242979, -0.029182824293079546, -0.5866759703086561, -0.5243519933924903, -0.5813706389908365, -0.5813752685267237, -0.17323737709546982, -0.5813712741980999, -0.5244195317318388, -0.5817649046085471, -0.4881313151659941, -0.5244421270384555, -0.5813880359354334, -0.5815045669598442, -0.5243397997478334, -0.581403463457347, -0.10907777925815317, -0.08178478922519618, -0.4822223111525964, -0.028885992752187267, -0.27578338291569854, -0.5814535038179396, -0.37821629483999286, -0.701332373364174, -0.029182717643877438, -0.02921639793193227, -0.17357340572442773, -0.10907958311715758, 0.1425896583433107, -0.11699397888833483, -0.5813747522983354, -0.27240702851717846]}, {\"customdata\": [[\"SHA-256\"], [\"Ethash\"], [\"Scrypt\"], [\"CryptoNight-V7\"], [\"Ethash\"], [\"Equihash\"], [\"Multiple\"], [\"Scrypt\"], [\"X11\"], [\"Scrypt\"], [\"Multiple\"], [\"Scrypt\"], [\"SHA-256\"], [\"Scrypt\"], [\"Scrypt\"], [\"Quark\"], [\"Groestl\"], [\"Scrypt\"], [\"Scrypt\"], [\"Scrypt\"], [\"X11\"], [\"Multiple\"], [\"SHA-256\"], [\"Scrypt\"], [\"Scrypt\"], [\"Scrypt\"], [\"Scrypt\"], [\"Scrypt\"], [\"NeoScrypt\"], [\"Scrypt\"], [\"Scrypt\"], [\"Scrypt\"], [\"Scrypt\"], [\"SHA-256\"], [\"Scrypt\"], [\"Scrypt\"], [\"Scrypt\"], [\"Scrypt\"], [\"HybridScryptHash256\"], [\"Scrypt\"], [\"Scrypt\"], [\"SHA-256\"], [\"Scrypt\"], [\"Scrypt\"], [\"Scrypt\"], [\"Scrypt\"], [\"SHA-256\"], [\"SHA-256\"], [\"SHA-256\"], [\"SHA-256\"], [\"SHA-256\"], [\"X11\"], [\"Scrypt\"], [\"Lyra2REv2\"], [\"Scrypt\"], [\"SHA-256\"], [\"CryptoNight\"], [\"CryptoNight\"], [\"Scrypt\"], [\"Scrypt\"], [\"Scrypt\"], [\"Scrypt\"], [\"Scrypt\"], [\"Scrypt\"], [\"Stanford Folding\"], [\"Multiple\"], [\"QuBit\"], [\"Scrypt\"], [\"Scrypt\"], [\"M7 POW\"], [\"Scrypt\"], [\"SHA-256\"], [\"Scrypt\"], [\"X11\"], [\"Lyra2RE\"], [\"SHA-256\"], [\"X11\"], [\"Scrypt\"], [\"Scrypt\"], [\"Ethash\"], [\"Blake2b\"], [\"X11\"], [\"SHA-256\"], [\"Scrypt\"], [\"1GB AES Pattern Search\"], [\"Scrypt\"], [\"SHA-256\"], [\"X11\"], [\"Dagger\"], [\"Scrypt\"], [\"X11GOST\"], [\"Scrypt\"], [\"X11\"], [\"Scrypt\"], [\"X11\"], [\"Equihash\"], [\"CryptoNight\"], [\"SHA-256\"], [\"Multiple\"], [\"Scrypt\"], [\"SHA-256\"], [\"Scrypt\"], [\"Lyra2Z\"], [\"Ethash\"], [\"Equihash\"], [\"Scrypt\"], [\"X11\"], [\"X11\"], [\"CryptoNight\"], [\"Scrypt\"], [\"CryptoNight\"], [\"Lyra2RE\"], [\"X11\"], [\"CryptoNight-V7\"], [\"Scrypt\"], [\"X11\"], [\"Equihash\"], [\"Scrypt\"], [\"Lyra2RE\"], [\"Dagger-Hashimoto\"], [\"Scrypt\"], [\"NIST5\"], [\"Scrypt\"], [\"SHA-256\"], [\"Scrypt\"], [\"CryptoNight-V7\"], [\"Argon2d\"], [\"Blake2b\"], [\"Cloverhash\"], [\"CryptoNight\"], [\"X11\"], [\"Scrypt\"], [\"Scrypt\"], [\"X11\"], [\"X11\"], [\"CryptoNight\"], [\"Time Travel\"], [\"Scrypt\"], [\"Keccak\"], [\"X11\"], [\"SHA-256\"], [\"Scrypt\"], [\"Scrypt\"], [\"Scrypt\"], [\"Scrypt\"], [\"Scrypt\"], [\"Scrypt\"], [\"CryptoNight\"], [\"Equihash\"], [\"X11\"], [\"NeoScrypt\"], [\"Equihash\"], [\"Dagger\"], [\"Scrypt\"], [\"X11\"], [\"NeoScrypt\"], [\"Ethash\"], [\"NeoScrypt\"], [\"Multiple\"], [\"CryptoNight\"], [\"CryptoNight\"], [\"Ethash\"], [\"X11\"], [\"CryptoNight-V7\"], [\"Scrypt\"], [\"BLAKE256\"], [\"X11\"], [\"NeoScrypt\"], [\"NeoScrypt\"], [\"Scrypt\"], [\"X11\"], [\"SHA-256\"], [\"C11\"], [\"CryptoNight\"], [\"SkunkHash\"], [\"CryptoNight\"], [\"Scrypt\"], [\"Dagger\"], [\"Lyra2REv2\"], [\"Scrypt\"], [\"Scrypt\"], [\"X11\"], [\"Ethash\"], [\"CryptoNight\"], [\"Scrypt\"], [\"IMesh\"], [\"Equihash\"], [\"Lyra2Z\"], [\"X11\"], [\"CryptoNight\"], [\"NIST5\"], [\"Lyra2RE\"], [\"Tribus\"], [\"Lyra2Z\"], [\"CryptoNight\"], [\"CryptoNight Heavy\"], [\"CryptoNight\"], [\"Jump Consistent Hash\"], [\"CryptoNight\"], [\"X16R\"], [\"HMQ1725\"], [\"X11\"], [\"Scrypt\"], [\"CryptoNight-V7\"], [\"Cryptonight-GPU\"], [\"XEVAN\"], [\"CryptoNight Heavy\"], [\"SHA-256\"], [\"X11\"], [\"X16R\"], [\"Equihash\"], [\"Lyra2Z\"], [\"SHA-256\"], [\"CryptoNight\"], [\"Blake\"], [\"Blake\"], [\"Exosis\"], [\"Scrypt\"], [\"Equihash\"], [\"Equihash\"], [\"QuBit\"], [\"SHA-256\"], [\"X13\"], [\"SHA-256\"], [\"Scrypt\"], [\"NeoScrypt\"], [\"Blake\"], [\"Scrypt\"], [\"SHA-256\"], [\"Scrypt\"], [\"Groestl\"], [\"Scrypt\"], [\"Scrypt\"], [\"Multiple\"], [\"Equihash+Scrypt\"], [\"Ethash\"], [\"CryptoNight\"], [\"Equihash\"]], \"hovertemplate\": \"<b>%{hovertext}</b><br><br>Class=%{marker.color}<br>PC 1=%{x}<br>PC 2=%{y}<br>PC 3=%{z}<br>Algorithm=%{customdata[0]}<extra></extra>\", \"hovertext\": [\"Bitcoin\", \"Ethereum\", \"Litecoin\", \"Monero\", \"Ethereum Classic\", \"ZCash\", \"DigiByte\", \"ProsperCoin\", \"Spreadcoin\", \"Argentum\", \"MyriadCoin\", \"MoonCoin\", \"ZetaCoin\", \"SexCoin\", \"Quatloo\", \"QuarkCoin\", \"Riecoin\", \"Digitalcoin \", \"Catcoin\", \"CannaCoin\", \"CryptCoin\", \"Verge\", \"DevCoin\", \"EarthCoin\", \"E-Gulden\", \"Einsteinium\", \"Emerald\", \"Franko\", \"FeatherCoin\", \"GrandCoin\", \"GlobalCoin\", \"GoldCoin\", \"Infinite Coin\", \"IXcoin\", \"KrugerCoin\", \"LuckyCoin\", \"Litebar \", \"MegaCoin\", \"MediterraneanCoin\", \"MinCoin\", \"NobleCoin\", \"Namecoin\", \"NyanCoin\", \"RonPaulCoin\", \"StableCoin\", \"SmartCoin\", \"SysCoin\", \"TigerCoin\", \"TerraCoin\", \"UnbreakableCoin\", \"Unobtanium\", \"UroCoin\", \"ViaCoin\", \"Vertcoin\", \"WorldCoin\", \"JouleCoin\", \"ByteCoin\", \"DigitalNote \", \"MonaCoin\", \"Gulden\", \"PesetaCoin\", \"Wild Beast Coin\", \"Flo\", \"ArtByte\", \"Folding Coin\", \"Unitus\", \"CypherPunkCoin\", \"OmniCron\", \"GreenCoin\", \"Cryptonite\", \"MasterCoin\", \"SoonCoin\", \"1Credit\", \"MarsCoin \", \"Crypto\", \"Anarchists Prime\", \"BowsCoin\", \"Song Coin\", \"BitZeny\", \"Expanse\", \"Siacoin\", \"MindCoin\", \"I0coin\", \"Revolution VR\", \"HOdlcoin\", \"Gamecredits\", \"CarpeDiemCoin\", \"Adzcoin\", \"SoilCoin\", \"YoCoin\", \"SibCoin\", \"Francs\", \"BolivarCoin\", \"Omni\", \"PizzaCoin\", \"Komodo\", \"Karbo\", \"ZayedCoin\", \"Circuits of Value\", \"DopeCoin\", \"DollarCoin\", \"Shilling\", \"ZCoin\", \"Elementrem\", \"ZClassic\", \"KiloCoin\", \"ArtexCoin\", \"Kurrent\", \"Cannabis Industry Coin\", \"OsmiumCoin\", \"Bikercoins\", \"HexxCoin\", \"PacCoin\", \"Citadel\", \"BeaverCoin\", \"VaultCoin\", \"Zero\", \"Canada eCoin\", \"Zoin\", \"DubaiCoin\", \"EB3coin\", \"Coinonat\", \"BenjiRolls\", \"ILCoin\", \"EquiTrader\", \"Quantum Resistant Ledger\", \"Dynamic\", \"Nano\", \"ChanCoin\", \"Dinastycoin\", \"DigitalPrice\", \"Unify\", \"SocialCoin\", \"ArcticCoin\", \"DAS\", \"LeviarCoin\", \"Bitcore\", \"gCn Coin\", \"SmartCash\", \"Onix\", \"Bitcoin Cash\", \"Sojourn Coin\", \"NewYorkCoin\", \"FrazCoin\", \"Kronecoin\", \"AdCoin\", \"Linx\", \"Sumokoin\", \"BitcoinZ\", \"Elements\", \"VIVO Coin\", \"Bitcoin Gold\", \"Pirl\", \"eBoost\", \"Pura\", \"Innova\", \"Ellaism\", \"GoByte\", \"SHIELD\", \"UltraNote\", \"BitCoal\", \"DaxxCoin\", \"AC3\", \"Lethean\", \"PopularCoin\", \"Photon\", \"Sucre\", \"SparksPay\", \"GunCoin\", \"IrishCoin\", \"Pioneer Coin\", \"UnitedBitcoin\", \"Interzone\", \"TurtleCoin\", \"MUNcoin\", \"Niobio Cash\", \"ShareChain\", \"Travelflex\", \"KREDS\", \"BitFlip\", \"LottoCoin\", \"Crypto Improvement Fund\", \"Callisto Network\", \"BitTube\", \"Poseidon\", \"Aidos Kuneen\", \"Bitrolium\", \"Alpenschillling\", \"FuturoCoin\", \"Monero Classic\", \"Jumpcoin\", \"Infinex\", \"KEYCO\", \"GINcoin\", \"PlatinCoin\", \"Loki\", \"Newton Coin\", \"MassGrid\", \"PluraCoin\", \"Motion\", \"PlusOneCoin\", \"Axe\", \"HexCoin\", \"Webchain\", \"Ryo\", \"Urals Coin\", \"Qwertycoin\", \"Project Pai\", \"Azart\", \"Xchange\", \"CrypticCoin\", \"Actinium\", \"Bitcoin SV\", \"FREDEnergy\", \"Universal Molecule\", \"Lithium\", \"Exosis\", \"Block-Logic\", \"Beam\", \"Bithereum\", \"SLICE\", \"BLAST\", \"Bitcoin Rhodium\", \"GlobalToken\", \"SolarCoin\", \"UFO Coin\", \"BlakeCoin\", \"Crypto Escudo\", \"Crown Coin\", \"SmileyCoin\", \"Groestlcoin\", \"Bata\", \"Pakcoin\", \"JoinCoin\", \"Vollar\", \"Reality Clash\", \"Beldex\", \"Horizen\"], \"legendgroup\": \"2\", \"marker\": {\"color\": [2, 2, 2, 2, 2, 2, 2, 2, 2, 2, 2, 2, 2, 2, 2, 2, 2, 2, 2, 2, 2, 2, 2, 2, 2, 2, 2, 2, 2, 2, 2, 2, 2, 2, 2, 2, 2, 2, 2, 2, 2, 2, 2, 2, 2, 2, 2, 2, 2, 2, 2, 2, 2, 2, 2, 2, 2, 2, 2, 2, 2, 2, 2, 2, 2, 2, 2, 2, 2, 2, 2, 2, 2, 2, 2, 2, 2, 2, 2, 2, 2, 2, 2, 2, 2, 2, 2, 2, 2, 2, 2, 2, 2, 2, 2, 2, 2, 2, 2, 2, 2, 2, 2, 2, 2, 2, 2, 2, 2, 2, 2, 2, 2, 2, 2, 2, 2, 2, 2, 2, 2, 2, 2, 2, 2, 2, 2, 2, 2, 2, 2, 2, 2, 2, 2, 2, 2, 2, 2, 2, 2, 2, 2, 2, 2, 2, 2, 2, 2, 2, 2, 2, 2, 2, 2, 2, 2, 2, 2, 2, 2, 2, 2, 2, 2, 2, 2, 2, 2, 2, 2, 2, 2, 2, 2, 2, 2, 2, 2, 2, 2, 2, 2, 2, 2, 2, 2, 2, 2, 2, 2, 2, 2, 2, 2, 2, 2, 2, 2, 2, 2, 2, 2, 2, 2, 2, 2, 2, 2, 2, 2, 2, 2, 2, 2, 2, 2, 2, 2, 2, 2, 2, 2, 2, 2, 2, 2, 2, 2, 2, 2, 2, 2, 2, 2, 2, 2, 2], \"coloraxis\": \"coloraxis\", \"symbol\": \"diamond\"}, \"mode\": \"markers\", \"name\": \"2\", \"scene\": \"scene\", \"showlegend\": true, \"type\": \"scatter3d\", \"x\": [-0.14125871947216712, -0.14983179174489358, -0.1675222698804856, -0.15233892840352006, -0.1482724700381986, -0.15011741450371238, 0.1642648781906438, -0.16866977530486404, -0.22185590672133745, -0.16828595760631312, -0.08940527727546749, 2.5554982927289123, -0.13834040226284572, -0.16553843297480855, -0.16808984680193287, -0.22530810585426594, -0.19669957493705, -0.16813852360101203, -0.16865201882581493, -0.16873856018150787, -0.2219453563852833, 0.18805762375176852, 0.23700396751584266, 0.08026662103925054, -0.1684845569503438, -0.16408513602765898, -0.16842380682232302, -0.1687956297308864, -0.1711574118885389, -0.14799585093441772, -0.16758938393331094, -0.16786719032887362, 1.5820592159872053, -0.14122003989645437, -0.16515372514392002, -0.16851102908229448, -0.16886623675509974, -0.16812466946054597, -0.14598150805420207, -0.16874737859368955, -0.03352631096444509, -0.14129774889408883, -0.16240424029067949, -0.16872682701765618, -0.16681943406144745, -0.1682130098025566, -0.12843613926047517, -0.14076091499098048, -0.14104846918163416, -0.14103154686437563, -0.14162276261557424, -0.2221194172103095, -0.1684429627920891, -0.188463004150459, -0.16554319931807235, -0.14082828908602585, 3.864799952828006, 0.4599790203782894, -0.16730936754547668, -0.15189346853001218, -0.16602674432506678, -0.16886845271513642, -0.16589159327239664, -0.15210028216294993, -0.12782388004303802, -0.12344898603899124, -0.182744796899695, -0.16874137156082594, -0.041548241341374026, -0.11935063196461651, -0.1688773504957016, -0.14132556167279503, 0.4838296220499973, -0.22150592500256455, -0.1512340378276881, -0.14106519247058047, -0.2217911492515873, -0.16699938340979403, -0.1661907198213563, -0.1509006558973488, 0.3762649340569876, -0.2218265758638795, -0.1412211636724273, -0.16483071256889698, -0.1444625039507597, -0.16743913102303393, 0.27772865696593646, -0.2209864376494836, -0.15176127963098604, -0.16768712581829176, -0.14996106417421337, -0.16866705394761664, -0.22178979984162253, -0.16887740905565174, -0.2219399613675306, -0.26346123330160875, 0.3047169762954113, -0.14148154489106035, -0.10349978105134071, -0.1660411253087616, -0.14144012475277293, -0.16854047061488697, -0.1524255985541629, -0.15064251348842475, -0.15013905902769903, -0.09554062054145997, -0.2085076728739071, -0.21976596808693483, 0.30471129961726323, -0.16885913007765266, 0.30484216952362353, -0.15177499971229838, 0.493910097859488, -0.15110262532158805, -0.16882737887833207, -0.21466775094870608, -0.15015143739497427, -0.16695856677377002, -0.15149305538953897, -0.1461827448442898, -0.13972626518050188, -0.18835067503414324, -0.16838929791034735, -0.10777146483909975, -0.1682112477768263, -0.1509599367300508, -0.14797005479037692, -0.02454788992899842, -0.15223540354941878, 0.3408731877715193, -0.22099489060896407, -0.1685307542552715, -0.16829400401472744, -0.22138995033359055, -0.22196801099293967, 0.3051066886128635, -0.15512366805862565, 3.244545466387664, -0.1169140165980899, -0.21283183290325833, -0.1412578826271628, -0.09438841401715292, 1.5803620817568456, -0.1686287283605225, -0.16807986967199387, -0.16778051362624796, -0.1677674279408067, 0.3052904253899686, 0.0623807282506248, -0.17630240428392022, -0.17585116594055977, -0.14999730519123003, -0.15051918368417033, -0.1669567736523559, -0.21750778636355686, -0.1756964363133915, -0.149006412538, -0.17579672850506467, -0.1136704004488973, 1.1434593014850074, 0.3046940733404268, -0.07382986062838472, -0.21724964292343502, -0.14006089736181315, -0.08492558753631424, 1.0945378099366327, -0.22194197929698029, -0.17584870316267304, -0.16887918706719504, -0.1678789116746357, -0.2218673017016284, -0.14123725129086123, -0.19923383625028154, 8.049313926200343, -0.14915868724522838, 0.30857244036338305, 0.024377839043256896, -0.15002159566046003, -0.17400579959470844, -0.16845329243725968, 0.13895723273228053, -0.21600222168389743, -0.10200425949319047, 0.31262426137834914, -0.1686905463643962, -0.16051364268464738, -0.14898726340621035, -0.15020714563611193, -0.22103571493370788, 0.3048768062037494, -0.1884101286297118, -0.15162009124392273, -0.1493826958844127, -0.15251004898168302, 0.3088082355191078, 0.5823637225108627, 2.1150988614935486, -0.14548285852655607, 0.318496051622881, -0.1922115724461848, -0.15901045478424683, -0.22192412049065185, -0.1687151628870458, -0.13994292674558567, -0.14710917615771602, -0.16733711965278056, 3.1075648372667337, -0.10104088982674365, -0.22189546194452067, -0.19163880602231168, -0.044632841226148114, -0.15190726060809495, -0.1412579202404297, 0.3847137356314348, -0.14555575905301377, -0.1459480369657321, -0.15423474553195202, -0.1676063507058694, -0.14805568270012115, -0.14982994159127733, -0.1819550731395465, -0.1405332732974134, -0.11030568779336887, -0.13940009048545235, 0.5277862450654969, -0.10093126293185753, -0.0963718505021588, -0.15225105998989952, -0.1410478388311601, 0.5477187267082986, -0.19626008067913311, -0.1687920465284532, -0.16674569951027282, -0.12418481564504738, -0.12966348008808345, -0.1506757089583667, 0.3264746280099413, -0.15011847279732377], \"y\": [-1.339584756354776, -1.9934210138264439, -1.147758628490489, -2.167252072049355, -1.9935347955020197, -2.016245664907861, -1.7983095947399446, -1.1477387386903453, -0.8723888847688953, -1.147760684525268, -1.7903745899966101, -1.3584469778069224, -1.3396273716307041, -1.147832826616779, -1.1477816821294444, -0.5027195847719615, -1.2131608730460233, -1.1477465516214131, -1.1477383665666947, -1.1477346984128465, -0.8723893645094387, -1.7947108885341962, -1.3462888832148336, -1.1519224333886344, -1.147734857057611, -1.1478370965774227, -1.1477412556527187, -1.1477345663842298, -1.5856787998708233, -1.1482816048791775, -1.147750270971992, -1.1477576591986052, -1.1742211899645765, -1.339583945744465, -1.1478355192121905, -1.1477347144048973, -1.1477291514291053, -1.1477419609206851, -2.2336216950681567, -1.1477326932879914, -1.1553533453176705, -1.3395855742968283, -1.14782781962719, -1.1477399343266876, -1.1478596726373245, -1.1477502286386407, -1.339920705281369, -1.339592465383873, -1.3395949961740665, -1.3396211439043693, -1.339577913939705, -0.8723804585577897, -1.147735380227917, -1.2192755103559556, -1.1478436814470165, -1.339592474138475, -2.3529025028038943, -2.302578573950377, -1.1477688964224155, -1.148544194354779, -1.1477847452052843, -1.1477300891857483, -1.1477774590427312, -1.1480742755818192, -2.0638267531719654, -1.789693184443936, -1.490687430969908, -1.1477279443641422, -1.152034307158799, -2.1677197082259796, -1.147728874851888, -1.3395861571709848, -1.1982132600057127, -0.8723906167810218, -2.1301920169457853, -1.339603548431906, -0.8723882250733699, -1.1478357139964923, -1.147846496633352, -1.9934552051227497, -2.1825921808176156, -0.8723854803568581, -1.3395839692955083, -1.1477900976415312, -2.3154008269617483, -1.1477568861442045, -1.345872200324094, -0.872415298825255, -2.220226272613635, -1.1478209125857852, -2.0452643409676177, -1.1477379842278381, -0.8723909865171079, -1.1477288739659164, -0.8723941334616749, -1.4135286891548167, -2.29886507618751, -1.33958157026001, -1.7901120247194267, -1.147808490029123, -1.3395813315060228, -1.1477423057214715, -2.1797945559267053, -1.9934562807245366, -2.016246118513516, -1.1531658288541566, -0.8724439117994102, -0.872490151410353, -2.2988728668933827, -1.1477299539891657, -2.298872913967909, -2.1301644448778716, -0.9271176680535955, -2.1673551874753167, -1.1477297389181442, -0.8729217243700039, -2.016243588204332, -1.1477579738225616, -2.1301662078929904, -2.000507822601104, -1.1499072450834404, -0.6321021110783056, -1.147742987682845, -1.3406118929298145, -1.147764698273476, -2.1672964026733528, -2.1536160254503556, -2.1912293638640477, -2.3842087507002954, -2.299495235579113, -0.8724266348680905, -1.1477346234045993, -1.1477685248937277, -0.8724070169255729, -0.8723904669712466, -2.2988875959193837, -2.079749833837049, -1.2156792959877598, -1.3670150354523276, -0.8729529920049552, -1.3395847388169588, -1.1534903974153352, -1.1110695217297026, -1.147737181036093, -1.1477703141444717, -1.1477751994145766, -1.1477749251770417, -2.2989080779230413, -2.0264237297736267, -0.8726756440623789, -1.5855616610372103, -2.016243147769427, -2.2202883321427542, -1.1477579362440034, -0.8725279131175219, -1.585570972113992, -1.9935989969409023, -1.5855638678565314, -1.7899485583714074, -2.3405621484967227, -2.298867299743311, -1.9988025450829756, -0.8726619893595545, -2.16769182982381, -1.1494562146778449, -1.186855135539068, -0.8723905491111195, -1.5855574248395072, -1.5857454336293053, -1.1477521540380116, -0.8723912158667713, -1.3395837247874116, -1.0994869243152114, -2.8339849471882186, -2.1168992443062056, -2.2990116394416584, -1.150652690135243, -2.220238634106603, -1.2196811195540396, -1.1477474530314253, -1.1541147296688423, -0.8726009755313856, -1.9969519897547876, -2.299389819258837, -1.1477391739907499, -2.0962532543062906, -2.0162561543717943, -2.179942367904365, -0.8724274904260383, -2.2988675850411986, -0.63208435066548, -2.1301725526263002, -2.154907554808622, -2.179788723763354, -2.2991908199738886, -2.192987426353054, -2.389245091311466, -2.290581195853467, -2.2992667637804396, -1.2214322296189275, -2.1799936509922926, -0.8723910117600113, -1.1477404607252828, -2.168212792251845, -2.114134699128869, -0.374697975760086, -2.268617081991741, -1.34019186750412, -0.8723932008844608, -1.2214745729278014, -2.019320846481109, -2.1798273522570173, -1.3395847396052218, -2.302816846032944, -2.151687944843054, -2.151640447247326, -2.1275540394226216, -1.1477854980883107, -2.016371095844447, -2.0162465351213115, -1.4907406237644627, -1.3395995426601774, -0.33848649873411774, -1.3396483272851352, -1.2015463864822262, -1.5867624526804989, -2.15546589660157, -1.1480774354422456, -1.3395949829637717, -1.1675822362302541, -1.2131663085850382, -1.1477301422424577, -1.1478107020797557, -1.7897105580777726, -2.2256203248099853, -1.9934557785003488, -2.299378683847861, -2.016245687086588], \"z\": [0.11682557106188221, 0.42341271231248995, 0.017639016962688697, 0.5284327073663967, 0.4234093860300916, 0.3802685732676729, 0.3593019714206965, 0.017658392667014095, 0.07475294063307622, 0.017655966876842018, 0.36264706833648375, 0.015010370839742895, 0.11677418231442845, 0.017616076018632815, 0.01765732178712986, -0.008601857851018689, 0.1829066694675029, 0.01764905248147272, 0.017657912571251502, 0.017658798944442135, 0.07475498930274556, 0.35783667543938275, 0.11047773594602452, 0.0134203134821893, 0.017653384774011873, 0.017585989981871265, 0.01765377640379918, 0.01765998984596624, 0.22074169428055432, 0.017358238894878964, 0.017638242623389925, 0.017646169178172313, -0.012927082396780214, 0.1168245252520401, 0.01760852606931321, 0.017653915596370577, 0.017660070766132862, 0.01764753764685465, 0.23554209706897444, 0.01765845670927018, 0.016774409626156124, 0.11682662633077213, 0.017547422909830895, 0.0176599352186366, 0.017650711443369247, 0.01765162748632756, 0.11663920720594398, 0.1168169218052401, 0.11682376979229386, 0.11683033941196772, 0.11683157678000236, 0.07475636686545424, 0.017652630010946427, 0.13747911300055637, 0.017619056586099222, 0.11681837138736229, 0.4360692544552466, 0.49586460705001095, 0.017637166178758115, 0.0175115896654467, 0.017613816528804976, 0.01766036701531007, 0.01760898141147146, 0.017391432240062094, 0.4507415270053001, 0.3631976840144022, 0.1701519937270887, 0.017657068484920227, 0.016066678289410986, 0.5541255045172458, 0.01766023616499624, 0.11682737832654622, 0.01702550247288224, 0.07474588193353801, 0.41075868835035917, 0.1168263966744663, 0.07475137466020146, 0.0176482242440559, 0.017633712406467324, 0.4234447384462116, 0.4760116684446347, 0.07475140789060773, 0.11682455563644664, 0.017589543818289338, 0.27287099523108255, 0.017636769072611014, 0.10949244579772455, 0.07474126733961385, 0.48573499150732175, 0.017659072990966987, 0.44561940806284106, 0.01765813416225333, 0.07475207787636882, 0.017660237188003445, 0.07475613791057435, 0.34862569638617613, 0.4982151441528659, 0.11682951276776014, 0.36288021217647254, 0.017620421437839814, 0.11682855971693198, 0.017656560883073342, 0.4779966330117342, 0.42343947849537855, 0.38026915848753534, 0.017526512325171387, 0.0744807981774546, 0.07473489779665425, 0.4982173318159816, 0.01766013090835963, 0.4982145330855447, 0.4107629979419699, 0.07388904922988702, 0.5284334916577015, 0.017659391835295874, 0.07473981566129093, 0.3802687534698823, 0.017626734487337523, 0.41075740897211005, 0.25318329597678835, 0.01761164221130898, 0.01714165399638681, 0.017653494370491622, 0.11637857988860097, 0.017655426291389043, 0.528414839650722, 0.21460227296336976, 0.48691168396312595, 0.3770491510101539, 0.4976055618396733, 0.07474445469373184, 0.017654315183265448, 0.017658218612202004, 0.07474773921923686, 0.07475576826580234, 0.4982127439105921, 0.42341827694720896, -0.03764619055482413, 0.021103192808425555, 0.0747086690446667, 0.11682554843544336, 0.017587821871423038, -0.029635428203617243, 0.017657097923485757, 0.01765409322282685, 0.017648958104977918, 0.017648604297102022, 0.49821422791437453, 0.3784026433239922, 0.07385044212646802, 0.22081146104801402, 0.38026532577858163, 0.48572476530212244, 0.01762668600531649, 0.07469640246456503, 0.2208106061579679, 0.4234421749767443, 0.22081087682210385, 0.36305534347547397, 0.4912542158191092, 0.4982162257111691, 0.42320704190885533, 0.07472640790000046, 0.528285566095404, 0.016314878884435786, 0.07911878778853806, 0.07475523085932433, 0.22081028490814475, 0.22071042389037537, 0.017644961258753124, 0.0747538035039513, 0.1168248363822207, 0.2110436396267932, 0.4737418954194168, 0.39649621037143745, 0.49817118661520077, 0.014284183474112621, 0.4857008990872598, 0.13727610640258525, 0.01765605303178239, 0.012740874411838484, 0.07468343413455775, 0.42332157652466784, 0.49818442477449953, 0.017658954270338867, 0.3448130269972548, 0.38024707783155615, 0.4779881711609334, 0.07474555849281678, 0.49821237607962315, 0.017138221905199567, 0.4107618201451167, 0.3721917542932176, 0.4779969006779458, 0.4982136316138698, 0.3369667204952029, 0.48329084488304863, 0.4989263083804505, 0.4980256646054383, 0.20413220565023643, 0.5120181035449525, 0.07475496990722408, 0.017659824237542966, 0.5284211662907667, 0.30803017502841396, 0.11498769060905008, 0.30277632196694626, 0.11612262996484905, 0.07475493474499334, 0.20413112949291587, 0.37881805352930525, 0.4779941946287502, 0.11682554945242248, 0.49754455662843095, 0.3677123062494996, 0.367708138668432, 0.549745175839897, 0.017647947632445753, 0.38025754355659436, 0.38026262881004974, 0.17014913388071468, 0.11681390839634008, -0.10230419327786702, 0.11680250188112151, 0.016965057353275765, 0.21952050147405638, 0.3676575203623769, 0.01739550893767918, 0.11682375274901677, 0.007531220187372524, 0.18289866995011397, 0.017658739804514344, 0.017636142904167734, 0.36321809700378627, 0.3143632303242705, 0.423440058400393, 0.4978839529053491, 0.3802686018815805]}, {\"customdata\": [[\"Proof-of-BibleHash\"], [\"SHA-256 + Hive\"], [\"Proof-of-Authority\"], [\"ECC 256K1\"], [\"SHA3-256\"], [\"Leased POS\"]], \"hovertemplate\": \"<b>%{hovertext}</b><br><br>Class=%{marker.color}<br>PC 1=%{x}<br>PC 2=%{y}<br>PC 3=%{z}<br>Algorithm=%{customdata[0]}<extra></extra>\", \"hovertext\": [\"BiblePay\", \"LitecoinCash\", \"Poa Network\", \"Acute Angle Cloud\", \"Fiii\", \"Waves\"], \"legendgroup\": \"3\", \"marker\": {\"color\": [3, 3, 3, 3, 3, 3], \"coloraxis\": \"coloraxis\", \"symbol\": \"square\"}, \"mode\": \"markers\", \"name\": \"3\", \"scene\": \"scene\", \"showlegend\": true, \"type\": \"scatter3d\", \"x\": [-0.14142887529511353, -0.33834483011955335, -0.40858341994507597, -0.3468546175758138, -0.5767250750856991, -0.4160792973787225], \"y\": [1.6863418207544232, 1.1872657698229652, 2.3180226931290693, 3.6570874458325493, 4.094535615252636, 4.221992281118503], \"z\": [6.657961550432589, 6.555360934497298, 16.607474202877295, 15.116210313534252, 16.31423830161207, 10.646512730751084]}, {\"customdata\": [[\"TRC10\"]], \"hovertemplate\": \"<b>%{hovertext}</b><br><br>Class=%{marker.color}<br>PC 1=%{x}<br>PC 2=%{y}<br>PC 3=%{z}<br>Algorithm=%{customdata[0]}<extra></extra>\", \"hovertext\": [\"BitTorrent\"], \"legendgroup\": \"1\", \"marker\": {\"color\": [1], \"coloraxis\": \"coloraxis\", \"symbol\": \"x\"}, \"mode\": \"markers\", \"name\": \"1\", \"scene\": \"scene\", \"showlegend\": true, \"type\": \"scatter3d\", \"x\": [34.10077268192604], \"y\": [1.505643043013418], \"z\": [-0.7448382789737324]}],                        {\"coloraxis\": {\"colorbar\": {\"title\": {\"text\": \"Class\"}}, \"colorscale\": [[0.0, \"#0d0887\"], [0.1111111111111111, \"#46039f\"], [0.2222222222222222, \"#7201a8\"], [0.3333333333333333, \"#9c179e\"], [0.4444444444444444, \"#bd3786\"], [0.5555555555555556, \"#d8576b\"], [0.6666666666666666, \"#ed7953\"], [0.7777777777777778, \"#fb9f3a\"], [0.8888888888888888, \"#fdca26\"], [1.0, \"#f0f921\"]]}, \"legend\": {\"title\": {\"text\": \"Class\"}, \"tracegroupgap\": 0, \"x\": 0, \"y\": 1}, \"margin\": {\"t\": 60}, \"scene\": {\"domain\": {\"x\": [0.0, 1.0], \"y\": [0.0, 1.0]}, \"xaxis\": {\"title\": {\"text\": \"PC 1\"}}, \"yaxis\": {\"title\": {\"text\": \"PC 2\"}}, \"zaxis\": {\"title\": {\"text\": \"PC 3\"}}}, \"template\": {\"data\": {\"bar\": [{\"error_x\": {\"color\": \"#2a3f5f\"}, \"error_y\": {\"color\": \"#2a3f5f\"}, \"marker\": {\"line\": {\"color\": \"#E5ECF6\", \"width\": 0.5}}, \"type\": \"bar\"}], \"barpolar\": [{\"marker\": {\"line\": {\"color\": \"#E5ECF6\", \"width\": 0.5}}, \"type\": \"barpolar\"}], \"carpet\": [{\"aaxis\": {\"endlinecolor\": \"#2a3f5f\", \"gridcolor\": \"white\", \"linecolor\": \"white\", \"minorgridcolor\": \"white\", \"startlinecolor\": \"#2a3f5f\"}, \"baxis\": {\"endlinecolor\": \"#2a3f5f\", \"gridcolor\": \"white\", \"linecolor\": \"white\", \"minorgridcolor\": \"white\", \"startlinecolor\": \"#2a3f5f\"}, \"type\": \"carpet\"}], \"choropleth\": [{\"colorbar\": {\"outlinewidth\": 0, \"ticks\": \"\"}, \"type\": \"choropleth\"}], \"contour\": [{\"colorbar\": {\"outlinewidth\": 0, \"ticks\": \"\"}, \"colorscale\": [[0.0, \"#0d0887\"], [0.1111111111111111, \"#46039f\"], [0.2222222222222222, \"#7201a8\"], [0.3333333333333333, \"#9c179e\"], [0.4444444444444444, \"#bd3786\"], [0.5555555555555556, \"#d8576b\"], [0.6666666666666666, \"#ed7953\"], [0.7777777777777778, \"#fb9f3a\"], [0.8888888888888888, \"#fdca26\"], [1.0, \"#f0f921\"]], \"type\": \"contour\"}], \"contourcarpet\": [{\"colorbar\": {\"outlinewidth\": 0, \"ticks\": \"\"}, \"type\": \"contourcarpet\"}], \"heatmap\": [{\"colorbar\": {\"outlinewidth\": 0, \"ticks\": \"\"}, \"colorscale\": [[0.0, \"#0d0887\"], [0.1111111111111111, \"#46039f\"], [0.2222222222222222, \"#7201a8\"], [0.3333333333333333, \"#9c179e\"], [0.4444444444444444, \"#bd3786\"], [0.5555555555555556, \"#d8576b\"], [0.6666666666666666, \"#ed7953\"], [0.7777777777777778, \"#fb9f3a\"], [0.8888888888888888, \"#fdca26\"], [1.0, \"#f0f921\"]], \"type\": \"heatmap\"}], \"heatmapgl\": [{\"colorbar\": {\"outlinewidth\": 0, \"ticks\": \"\"}, \"colorscale\": [[0.0, \"#0d0887\"], [0.1111111111111111, \"#46039f\"], [0.2222222222222222, \"#7201a8\"], [0.3333333333333333, \"#9c179e\"], [0.4444444444444444, \"#bd3786\"], [0.5555555555555556, \"#d8576b\"], [0.6666666666666666, \"#ed7953\"], [0.7777777777777778, \"#fb9f3a\"], [0.8888888888888888, \"#fdca26\"], [1.0, \"#f0f921\"]], \"type\": \"heatmapgl\"}], \"histogram\": [{\"marker\": {\"colorbar\": {\"outlinewidth\": 0, \"ticks\": \"\"}}, \"type\": \"histogram\"}], \"histogram2d\": [{\"colorbar\": {\"outlinewidth\": 0, \"ticks\": \"\"}, \"colorscale\": [[0.0, \"#0d0887\"], [0.1111111111111111, \"#46039f\"], [0.2222222222222222, \"#7201a8\"], [0.3333333333333333, \"#9c179e\"], [0.4444444444444444, \"#bd3786\"], [0.5555555555555556, \"#d8576b\"], [0.6666666666666666, \"#ed7953\"], [0.7777777777777778, \"#fb9f3a\"], [0.8888888888888888, \"#fdca26\"], [1.0, \"#f0f921\"]], \"type\": \"histogram2d\"}], \"histogram2dcontour\": [{\"colorbar\": {\"outlinewidth\": 0, \"ticks\": \"\"}, \"colorscale\": [[0.0, \"#0d0887\"], [0.1111111111111111, \"#46039f\"], [0.2222222222222222, \"#7201a8\"], [0.3333333333333333, \"#9c179e\"], [0.4444444444444444, \"#bd3786\"], [0.5555555555555556, \"#d8576b\"], [0.6666666666666666, \"#ed7953\"], [0.7777777777777778, \"#fb9f3a\"], [0.8888888888888888, \"#fdca26\"], [1.0, \"#f0f921\"]], \"type\": \"histogram2dcontour\"}], \"mesh3d\": [{\"colorbar\": {\"outlinewidth\": 0, \"ticks\": \"\"}, \"type\": \"mesh3d\"}], \"parcoords\": [{\"line\": {\"colorbar\": {\"outlinewidth\": 0, \"ticks\": \"\"}}, \"type\": \"parcoords\"}], \"pie\": [{\"automargin\": true, \"type\": \"pie\"}], \"scatter\": [{\"marker\": {\"colorbar\": {\"outlinewidth\": 0, \"ticks\": \"\"}}, \"type\": \"scatter\"}], \"scatter3d\": [{\"line\": {\"colorbar\": {\"outlinewidth\": 0, \"ticks\": \"\"}}, \"marker\": {\"colorbar\": {\"outlinewidth\": 0, \"ticks\": \"\"}}, \"type\": \"scatter3d\"}], \"scattercarpet\": [{\"marker\": {\"colorbar\": {\"outlinewidth\": 0, \"ticks\": \"\"}}, \"type\": \"scattercarpet\"}], \"scattergeo\": [{\"marker\": {\"colorbar\": {\"outlinewidth\": 0, \"ticks\": \"\"}}, \"type\": \"scattergeo\"}], \"scattergl\": [{\"marker\": {\"colorbar\": {\"outlinewidth\": 0, \"ticks\": \"\"}}, \"type\": \"scattergl\"}], \"scattermapbox\": [{\"marker\": {\"colorbar\": {\"outlinewidth\": 0, \"ticks\": \"\"}}, \"type\": \"scattermapbox\"}], \"scatterpolar\": [{\"marker\": {\"colorbar\": {\"outlinewidth\": 0, \"ticks\": \"\"}}, \"type\": \"scatterpolar\"}], \"scatterpolargl\": [{\"marker\": {\"colorbar\": {\"outlinewidth\": 0, \"ticks\": \"\"}}, \"type\": \"scatterpolargl\"}], \"scatterternary\": [{\"marker\": {\"colorbar\": {\"outlinewidth\": 0, \"ticks\": \"\"}}, \"type\": \"scatterternary\"}], \"surface\": [{\"colorbar\": {\"outlinewidth\": 0, \"ticks\": \"\"}, \"colorscale\": [[0.0, \"#0d0887\"], [0.1111111111111111, \"#46039f\"], [0.2222222222222222, \"#7201a8\"], [0.3333333333333333, \"#9c179e\"], [0.4444444444444444, \"#bd3786\"], [0.5555555555555556, \"#d8576b\"], [0.6666666666666666, \"#ed7953\"], [0.7777777777777778, \"#fb9f3a\"], [0.8888888888888888, \"#fdca26\"], [1.0, \"#f0f921\"]], \"type\": \"surface\"}], \"table\": [{\"cells\": {\"fill\": {\"color\": \"#EBF0F8\"}, \"line\": {\"color\": \"white\"}}, \"header\": {\"fill\": {\"color\": \"#C8D4E3\"}, \"line\": {\"color\": \"white\"}}, \"type\": \"table\"}]}, \"layout\": {\"annotationdefaults\": {\"arrowcolor\": \"#2a3f5f\", \"arrowhead\": 0, \"arrowwidth\": 1}, \"coloraxis\": {\"colorbar\": {\"outlinewidth\": 0, \"ticks\": \"\"}}, \"colorscale\": {\"diverging\": [[0, \"#8e0152\"], [0.1, \"#c51b7d\"], [0.2, \"#de77ae\"], [0.3, \"#f1b6da\"], [0.4, \"#fde0ef\"], [0.5, \"#f7f7f7\"], [0.6, \"#e6f5d0\"], [0.7, \"#b8e186\"], [0.8, \"#7fbc41\"], [0.9, \"#4d9221\"], [1, \"#276419\"]], \"sequential\": [[0.0, \"#0d0887\"], [0.1111111111111111, \"#46039f\"], [0.2222222222222222, \"#7201a8\"], [0.3333333333333333, \"#9c179e\"], [0.4444444444444444, \"#bd3786\"], [0.5555555555555556, \"#d8576b\"], [0.6666666666666666, \"#ed7953\"], [0.7777777777777778, \"#fb9f3a\"], [0.8888888888888888, \"#fdca26\"], [1.0, \"#f0f921\"]], \"sequentialminus\": [[0.0, \"#0d0887\"], [0.1111111111111111, \"#46039f\"], [0.2222222222222222, \"#7201a8\"], [0.3333333333333333, \"#9c179e\"], [0.4444444444444444, \"#bd3786\"], [0.5555555555555556, \"#d8576b\"], [0.6666666666666666, \"#ed7953\"], [0.7777777777777778, \"#fb9f3a\"], [0.8888888888888888, \"#fdca26\"], [1.0, \"#f0f921\"]]}, \"colorway\": [\"#636efa\", \"#EF553B\", \"#00cc96\", \"#ab63fa\", \"#FFA15A\", \"#19d3f3\", \"#FF6692\", \"#B6E880\", \"#FF97FF\", \"#FECB52\"], \"font\": {\"color\": \"#2a3f5f\"}, \"geo\": {\"bgcolor\": \"white\", \"lakecolor\": \"white\", \"landcolor\": \"#E5ECF6\", \"showlakes\": true, \"showland\": true, \"subunitcolor\": \"white\"}, \"hoverlabel\": {\"align\": \"left\"}, \"hovermode\": \"closest\", \"mapbox\": {\"style\": \"light\"}, \"paper_bgcolor\": \"white\", \"plot_bgcolor\": \"#E5ECF6\", \"polar\": {\"angularaxis\": {\"gridcolor\": \"white\", \"linecolor\": \"white\", \"ticks\": \"\"}, \"bgcolor\": \"#E5ECF6\", \"radialaxis\": {\"gridcolor\": \"white\", \"linecolor\": \"white\", \"ticks\": \"\"}}, \"scene\": {\"xaxis\": {\"backgroundcolor\": \"#E5ECF6\", \"gridcolor\": \"white\", \"gridwidth\": 2, \"linecolor\": \"white\", \"showbackground\": true, \"ticks\": \"\", \"zerolinecolor\": \"white\"}, \"yaxis\": {\"backgroundcolor\": \"#E5ECF6\", \"gridcolor\": \"white\", \"gridwidth\": 2, \"linecolor\": \"white\", \"showbackground\": true, \"ticks\": \"\", \"zerolinecolor\": \"white\"}, \"zaxis\": {\"backgroundcolor\": \"#E5ECF6\", \"gridcolor\": \"white\", \"gridwidth\": 2, \"linecolor\": \"white\", \"showbackground\": true, \"ticks\": \"\", \"zerolinecolor\": \"white\"}}, \"shapedefaults\": {\"line\": {\"color\": \"#2a3f5f\"}}, \"ternary\": {\"aaxis\": {\"gridcolor\": \"white\", \"linecolor\": \"white\", \"ticks\": \"\"}, \"baxis\": {\"gridcolor\": \"white\", \"linecolor\": \"white\", \"ticks\": \"\"}, \"bgcolor\": \"#E5ECF6\", \"caxis\": {\"gridcolor\": \"white\", \"linecolor\": \"white\", \"ticks\": \"\"}}, \"title\": {\"x\": 0.05}, \"xaxis\": {\"automargin\": true, \"gridcolor\": \"white\", \"linecolor\": \"white\", \"ticks\": \"\", \"title\": {\"standoff\": 15}, \"zerolinecolor\": \"white\", \"zerolinewidth\": 2}, \"yaxis\": {\"automargin\": true, \"gridcolor\": \"white\", \"linecolor\": \"white\", \"ticks\": \"\", \"title\": {\"standoff\": 15}, \"zerolinecolor\": \"white\", \"zerolinewidth\": 2}}}, \"width\": 800},                        {\"responsive\": true}                    ).then(function(){\n",
       "                            \n",
       "var gd = document.getElementById('02cf3acd-e0e2-4dc3-b0be-68aaf6384db8');\n",
       "var x = new MutationObserver(function (mutations, observer) {{\n",
       "        var display = window.getComputedStyle(gd).display;\n",
       "        if (!display || display === 'none') {{\n",
       "            console.log([gd, 'removed!']);\n",
       "            Plotly.purge(gd);\n",
       "            observer.disconnect();\n",
       "        }}\n",
       "}});\n",
       "\n",
       "// Listen for the removal of the full notebook cells\n",
       "var notebookContainer = gd.closest('#notebook-container');\n",
       "if (notebookContainer) {{\n",
       "    x.observe(notebookContainer, {childList: true});\n",
       "}}\n",
       "\n",
       "// Listen for the clearing of the current output cell\n",
       "var outputEl = gd.closest('.output');\n",
       "if (outputEl) {{\n",
       "    x.observe(outputEl, {childList: true});\n",
       "}}\n",
       "\n",
       "                        })                };                });            </script>        </div>"
      ]
     },
     "metadata": {},
     "output_type": "display_data"
    }
   ],
   "source": [
    "# 3D plot with parameters hover_name=\"CoinName\" and hover_data=\"Algorithm\"\n",
    "fig=px.scatter_3d(\n",
    "    clustered_df,\n",
    "    x=\"PC 1\",\n",
    "    y=\"PC 2\",\n",
    "    z=\"PC 3\",\n",
    "    hover_name=\"CoinName\",\n",
    "    hover_data=[\"Algorithm\"],\n",
    "    color=\"Class\",\n",
    "    symbol=\"Class\",\n",
    "    width=800,\n",
    ")\n",
    "\n",
    "fig.update_layout(legend=dict(x=0, y=1))\n",
    "fig.show()"
   ]
  },
  {
   "cell_type": "code",
   "execution_count": null,
   "metadata": {},
   "outputs": [],
   "source": [
    "# Table with All Current Tradable Cryptocurrencies\n",
    "gender = lustered_df\n",
    "age = [10,16,13,12]\n",
    "weight = [15,18,16,10]\n",
    "height = [0.8,0.6,0.7,0.8]\n",
    "table = hv.Table({'CoinName':clustered_df, 'Age':age, 'Weight':weight, 'Height':height},\n",
    "                 ['Gender', 'Age'],  ['Weight', 'Height'])\n",
    "table.opts(height=140)"
   ]
  },
  {
   "cell_type": "code",
   "execution_count": null,
   "metadata": {},
   "outputs": [],
   "source": []
  }
 ],
 "metadata": {
  "kernelspec": {
   "display_name": "PythonData",
   "language": "python",
   "name": "pythondata"
  },
  "language_info": {
   "codemirror_mode": {
    "name": "ipython",
    "version": 3
   },
   "file_extension": ".py",
   "mimetype": "text/x-python",
   "name": "python",
   "nbconvert_exporter": "python",
   "pygments_lexer": "ipython3",
   "version": "3.7.7"
  }
 },
 "nbformat": 4,
 "nbformat_minor": 4
}
