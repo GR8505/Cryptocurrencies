{
 "cells": [
  {
   "cell_type": "markdown",
   "metadata": {},
   "source": [
    "## Cryptocurrency Unsupervised Learning"
   ]
  },
  {
   "cell_type": "code",
   "execution_count": 379,
   "metadata": {},
   "outputs": [],
   "source": [
    "# Import Dependencies\n",
    "import pandas as pd\n",
    "from sklearn.preprocessing import StandardScaler\n",
    "from sklearn.cluster import KMeans\n",
    "import hvplot.pandas"
   ]
  },
  {
   "cell_type": "code",
   "execution_count": 380,
   "metadata": {},
   "outputs": [
    {
     "data": {
      "text/html": [
       "<div>\n",
       "<style scoped>\n",
       "    .dataframe tbody tr th:only-of-type {\n",
       "        vertical-align: middle;\n",
       "    }\n",
       "\n",
       "    .dataframe tbody tr th {\n",
       "        vertical-align: top;\n",
       "    }\n",
       "\n",
       "    .dataframe thead th {\n",
       "        text-align: right;\n",
       "    }\n",
       "</style>\n",
       "<table border=\"1\" class=\"dataframe\">\n",
       "  <thead>\n",
       "    <tr style=\"text-align: right;\">\n",
       "      <th></th>\n",
       "      <th>Unnamed: 0</th>\n",
       "      <th>CoinName</th>\n",
       "      <th>Algorithm</th>\n",
       "      <th>IsTrading</th>\n",
       "      <th>ProofType</th>\n",
       "      <th>TotalCoinsMined</th>\n",
       "      <th>TotalCoinSupply</th>\n",
       "    </tr>\n",
       "  </thead>\n",
       "  <tbody>\n",
       "    <tr>\n",
       "      <th>0</th>\n",
       "      <td>42</td>\n",
       "      <td>42 Coin</td>\n",
       "      <td>Scrypt</td>\n",
       "      <td>True</td>\n",
       "      <td>PoW/PoS</td>\n",
       "      <td>4.199995e+01</td>\n",
       "      <td>42</td>\n",
       "    </tr>\n",
       "    <tr>\n",
       "      <th>1</th>\n",
       "      <td>365</td>\n",
       "      <td>365Coin</td>\n",
       "      <td>X11</td>\n",
       "      <td>True</td>\n",
       "      <td>PoW/PoS</td>\n",
       "      <td>NaN</td>\n",
       "      <td>2300000000</td>\n",
       "    </tr>\n",
       "    <tr>\n",
       "      <th>2</th>\n",
       "      <td>404</td>\n",
       "      <td>404Coin</td>\n",
       "      <td>Scrypt</td>\n",
       "      <td>True</td>\n",
       "      <td>PoW/PoS</td>\n",
       "      <td>1.055185e+09</td>\n",
       "      <td>532000000</td>\n",
       "    </tr>\n",
       "    <tr>\n",
       "      <th>3</th>\n",
       "      <td>611</td>\n",
       "      <td>SixEleven</td>\n",
       "      <td>SHA-256</td>\n",
       "      <td>True</td>\n",
       "      <td>PoW</td>\n",
       "      <td>NaN</td>\n",
       "      <td>611000</td>\n",
       "    </tr>\n",
       "    <tr>\n",
       "      <th>4</th>\n",
       "      <td>808</td>\n",
       "      <td>808</td>\n",
       "      <td>SHA-256</td>\n",
       "      <td>True</td>\n",
       "      <td>PoW/PoS</td>\n",
       "      <td>0.000000e+00</td>\n",
       "      <td>0</td>\n",
       "    </tr>\n",
       "  </tbody>\n",
       "</table>\n",
       "</div>"
      ],
      "text/plain": [
       "  Unnamed: 0   CoinName Algorithm  IsTrading ProofType  TotalCoinsMined  \\\n",
       "0         42    42 Coin    Scrypt       True   PoW/PoS     4.199995e+01   \n",
       "1        365    365Coin       X11       True   PoW/PoS              NaN   \n",
       "2        404    404Coin    Scrypt       True   PoW/PoS     1.055185e+09   \n",
       "3        611  SixEleven   SHA-256       True       PoW              NaN   \n",
       "4        808        808   SHA-256       True   PoW/PoS     0.000000e+00   \n",
       "\n",
       "  TotalCoinSupply  \n",
       "0              42  \n",
       "1      2300000000  \n",
       "2       532000000  \n",
       "3          611000  \n",
       "4               0  "
      ]
     },
     "execution_count": 380,
     "metadata": {},
     "output_type": "execute_result"
    }
   ],
   "source": [
    "# Loading the dataset\n",
    "file = \"Resources/crypto_data.csv\"\n",
    "crypto_df = pd.read_csv(file)\n",
    "crypto_df.head()"
   ]
  },
  {
   "cell_type": "markdown",
   "metadata": {},
   "source": [
    "#### Data Preprocessing Tasks"
   ]
  },
  {
   "cell_type": "code",
   "execution_count": 381,
   "metadata": {
    "scrolled": true
   },
   "outputs": [
    {
     "data": {
      "text/plain": [
       "Unnamed: 0         1252\n",
       "CoinName           1252\n",
       "Algorithm          1252\n",
       "IsTrading          1252\n",
       "ProofType          1252\n",
       "TotalCoinsMined     744\n",
       "TotalCoinSupply    1252\n",
       "dtype: int64"
      ]
     },
     "execution_count": 381,
     "metadata": {},
     "output_type": "execute_result"
    }
   ],
   "source": [
    "crypto_df.count()"
   ]
  },
  {
   "cell_type": "code",
   "execution_count": 382,
   "metadata": {},
   "outputs": [
    {
     "data": {
      "text/plain": [
       "Unnamed: 0         1144\n",
       "CoinName           1144\n",
       "Algorithm          1144\n",
       "IsTrading          1144\n",
       "ProofType          1144\n",
       "TotalCoinsMined     685\n",
       "TotalCoinSupply    1144\n",
       "dtype: int64"
      ]
     },
     "execution_count": 382,
     "metadata": {},
     "output_type": "execute_result"
    }
   ],
   "source": [
    "# Removing all cryptocurrencies that are not trading\n",
    "crypto_df = crypto_df[crypto_df.IsTrading == True]\n",
    "crypto_df.count()"
   ]
  },
  {
   "cell_type": "code",
   "execution_count": 383,
   "metadata": {},
   "outputs": [
    {
     "data": {
      "text/plain": [
       "1144"
      ]
     },
     "execution_count": 383,
     "metadata": {},
     "output_type": "execute_result"
    }
   ],
   "source": [
    "# Removing all cryptocurrencies that have no defined algorithm\n",
    "crypto_df[\"Algorithm\"].isnull().count()\n",
    "# There are all defined\n",
    "# But the following syntax will remove rows with non-null values in Algorithm column\n",
    "# crypto_df = crypto_df[crypto_df.Algorithm.notnull()]"
   ]
  },
  {
   "cell_type": "code",
   "execution_count": 384,
   "metadata": {},
   "outputs": [],
   "source": [
    "# Removing the IsTrading column\n",
    "crypto_df.drop('IsTrading', axis=1, inplace=True)"
   ]
  },
  {
   "cell_type": "code",
   "execution_count": 385,
   "metadata": {},
   "outputs": [],
   "source": [
    "# Removing all cryptocurrencies with at least one null value\n",
    "crypto_df = crypto_df.dropna()"
   ]
  },
  {
   "cell_type": "code",
   "execution_count": 386,
   "metadata": {},
   "outputs": [
    {
     "data": {
      "text/html": [
       "<div>\n",
       "<style scoped>\n",
       "    .dataframe tbody tr th:only-of-type {\n",
       "        vertical-align: middle;\n",
       "    }\n",
       "\n",
       "    .dataframe tbody tr th {\n",
       "        vertical-align: top;\n",
       "    }\n",
       "\n",
       "    .dataframe thead th {\n",
       "        text-align: right;\n",
       "    }\n",
       "</style>\n",
       "<table border=\"1\" class=\"dataframe\">\n",
       "  <thead>\n",
       "    <tr style=\"text-align: right;\">\n",
       "      <th></th>\n",
       "      <th>Unnamed: 0</th>\n",
       "      <th>CoinName</th>\n",
       "      <th>Algorithm</th>\n",
       "      <th>ProofType</th>\n",
       "      <th>TotalCoinsMined</th>\n",
       "      <th>TotalCoinSupply</th>\n",
       "    </tr>\n",
       "  </thead>\n",
       "  <tbody>\n",
       "    <tr>\n",
       "      <th>0</th>\n",
       "      <td>42</td>\n",
       "      <td>42 Coin</td>\n",
       "      <td>Scrypt</td>\n",
       "      <td>PoW/PoS</td>\n",
       "      <td>4.199995e+01</td>\n",
       "      <td>42</td>\n",
       "    </tr>\n",
       "    <tr>\n",
       "      <th>2</th>\n",
       "      <td>404</td>\n",
       "      <td>404Coin</td>\n",
       "      <td>Scrypt</td>\n",
       "      <td>PoW/PoS</td>\n",
       "      <td>1.055185e+09</td>\n",
       "      <td>532000000</td>\n",
       "    </tr>\n",
       "    <tr>\n",
       "      <th>5</th>\n",
       "      <td>1337</td>\n",
       "      <td>EliteCoin</td>\n",
       "      <td>X13</td>\n",
       "      <td>PoW/PoS</td>\n",
       "      <td>2.927942e+10</td>\n",
       "      <td>314159265359</td>\n",
       "    </tr>\n",
       "    <tr>\n",
       "      <th>7</th>\n",
       "      <td>BTC</td>\n",
       "      <td>Bitcoin</td>\n",
       "      <td>SHA-256</td>\n",
       "      <td>PoW</td>\n",
       "      <td>1.792718e+07</td>\n",
       "      <td>21000000</td>\n",
       "    </tr>\n",
       "    <tr>\n",
       "      <th>8</th>\n",
       "      <td>ETH</td>\n",
       "      <td>Ethereum</td>\n",
       "      <td>Ethash</td>\n",
       "      <td>PoW</td>\n",
       "      <td>1.076842e+08</td>\n",
       "      <td>0</td>\n",
       "    </tr>\n",
       "  </tbody>\n",
       "</table>\n",
       "</div>"
      ],
      "text/plain": [
       "  Unnamed: 0   CoinName Algorithm ProofType  TotalCoinsMined TotalCoinSupply\n",
       "0         42    42 Coin    Scrypt   PoW/PoS     4.199995e+01              42\n",
       "2        404    404Coin    Scrypt   PoW/PoS     1.055185e+09       532000000\n",
       "5       1337  EliteCoin       X13   PoW/PoS     2.927942e+10    314159265359\n",
       "7        BTC    Bitcoin   SHA-256       PoW     1.792718e+07        21000000\n",
       "8        ETH   Ethereum    Ethash       PoW     1.076842e+08               0"
      ]
     },
     "execution_count": 386,
     "metadata": {},
     "output_type": "execute_result"
    }
   ],
   "source": [
    "# Removing all cryptocurrencies without coins mined\n",
    "crypto_df= crypto_df[crypto_df.TotalCoinsMined != 0]\n",
    "crypto_df.head()"
   ]
  },
  {
   "cell_type": "code",
   "execution_count": 387,
   "metadata": {},
   "outputs": [
    {
     "data": {
      "text/html": [
       "<div>\n",
       "<style scoped>\n",
       "    .dataframe tbody tr th:only-of-type {\n",
       "        vertical-align: middle;\n",
       "    }\n",
       "\n",
       "    .dataframe tbody tr th {\n",
       "        vertical-align: top;\n",
       "    }\n",
       "\n",
       "    .dataframe thead th {\n",
       "        text-align: right;\n",
       "    }\n",
       "</style>\n",
       "<table border=\"1\" class=\"dataframe\">\n",
       "  <thead>\n",
       "    <tr style=\"text-align: right;\">\n",
       "      <th></th>\n",
       "      <th>CoinName</th>\n",
       "    </tr>\n",
       "  </thead>\n",
       "  <tbody>\n",
       "    <tr>\n",
       "      <th>42</th>\n",
       "      <td>42 Coin</td>\n",
       "    </tr>\n",
       "    <tr>\n",
       "      <th>404</th>\n",
       "      <td>404Coin</td>\n",
       "    </tr>\n",
       "    <tr>\n",
       "      <th>1337</th>\n",
       "      <td>EliteCoin</td>\n",
       "    </tr>\n",
       "    <tr>\n",
       "      <th>BTC</th>\n",
       "      <td>Bitcoin</td>\n",
       "    </tr>\n",
       "    <tr>\n",
       "      <th>ETH</th>\n",
       "      <td>Ethereum</td>\n",
       "    </tr>\n",
       "  </tbody>\n",
       "</table>\n",
       "</div>"
      ],
      "text/plain": [
       "       CoinName\n",
       "42      42 Coin\n",
       "404     404Coin\n",
       "1337  EliteCoin\n",
       "BTC     Bitcoin\n",
       "ETH    Ethereum"
      ]
     },
     "execution_count": 387,
     "metadata": {},
     "output_type": "execute_result"
    }
   ],
   "source": [
    "# Creating a DataFrame for all the names of cryptocurrencies\n",
    "coins_name = pd.DataFrame(crypto_df, columns = ['Unnamed: 0','CoinName'])\n",
    "# pcs_df.set_index('Unnamed: 0', inplace=True)\n",
    "coins_name.set_index('Unnamed: 0', inplace=True)\n",
    "coins_name.index.name=None\n",
    "# coins_name = crypto_df.filter(['Unnamed: 0','CoinName'], axis=1)\n",
    "# coins_name.set_index('Unnamed: 0')\n",
    "coins_name.head()"
   ]
  },
  {
   "cell_type": "code",
   "execution_count": 388,
   "metadata": {},
   "outputs": [
    {
     "data": {
      "text/html": [
       "<div>\n",
       "<style scoped>\n",
       "    .dataframe tbody tr th:only-of-type {\n",
       "        vertical-align: middle;\n",
       "    }\n",
       "\n",
       "    .dataframe tbody tr th {\n",
       "        vertical-align: top;\n",
       "    }\n",
       "\n",
       "    .dataframe thead th {\n",
       "        text-align: right;\n",
       "    }\n",
       "</style>\n",
       "<table border=\"1\" class=\"dataframe\">\n",
       "  <thead>\n",
       "    <tr style=\"text-align: right;\">\n",
       "      <th></th>\n",
       "      <th>Algorithm</th>\n",
       "      <th>ProofType</th>\n",
       "      <th>TotalCoinsMined</th>\n",
       "      <th>TotalCoinSupply</th>\n",
       "    </tr>\n",
       "  </thead>\n",
       "  <tbody>\n",
       "    <tr>\n",
       "      <th>42</th>\n",
       "      <td>Scrypt</td>\n",
       "      <td>PoW/PoS</td>\n",
       "      <td>4.199995e+01</td>\n",
       "      <td>42</td>\n",
       "    </tr>\n",
       "    <tr>\n",
       "      <th>404</th>\n",
       "      <td>Scrypt</td>\n",
       "      <td>PoW/PoS</td>\n",
       "      <td>1.055185e+09</td>\n",
       "      <td>532000000</td>\n",
       "    </tr>\n",
       "    <tr>\n",
       "      <th>1337</th>\n",
       "      <td>X13</td>\n",
       "      <td>PoW/PoS</td>\n",
       "      <td>2.927942e+10</td>\n",
       "      <td>314159265359</td>\n",
       "    </tr>\n",
       "    <tr>\n",
       "      <th>BTC</th>\n",
       "      <td>SHA-256</td>\n",
       "      <td>PoW</td>\n",
       "      <td>1.792718e+07</td>\n",
       "      <td>21000000</td>\n",
       "    </tr>\n",
       "    <tr>\n",
       "      <th>ETH</th>\n",
       "      <td>Ethash</td>\n",
       "      <td>PoW</td>\n",
       "      <td>1.076842e+08</td>\n",
       "      <td>0</td>\n",
       "    </tr>\n",
       "  </tbody>\n",
       "</table>\n",
       "</div>"
      ],
      "text/plain": [
       "     Algorithm ProofType  TotalCoinsMined TotalCoinSupply\n",
       "42      Scrypt   PoW/PoS     4.199995e+01              42\n",
       "404     Scrypt   PoW/PoS     1.055185e+09       532000000\n",
       "1337       X13   PoW/PoS     2.927942e+10    314159265359\n",
       "BTC    SHA-256       PoW     1.792718e+07        21000000\n",
       "ETH     Ethash       PoW     1.076842e+08               0"
      ]
     },
     "execution_count": 388,
     "metadata": {},
     "output_type": "execute_result"
    }
   ],
   "source": [
    "# Removing the CoinName column in the crypto_df\n",
    "# drop_coin = crypto_df.drop('CoinName', axis=1)\n",
    "crypto_df = pd.DataFrame(crypto_df, columns = ['Unnamed: 0','Algorithm','ProofType',\n",
    "                                               'TotalCoinsMined', 'TotalCoinSupply'])\n",
    "crypto_df.set_index('Unnamed: 0', inplace=True)\n",
    "crypto_df.index.name=None\n",
    "crypto_df.head()"
   ]
  },
  {
   "cell_type": "code",
   "execution_count": 389,
   "metadata": {},
   "outputs": [
    {
     "data": {
      "text/html": [
       "<div>\n",
       "<style scoped>\n",
       "    .dataframe tbody tr th:only-of-type {\n",
       "        vertical-align: middle;\n",
       "    }\n",
       "\n",
       "    .dataframe tbody tr th {\n",
       "        vertical-align: top;\n",
       "    }\n",
       "\n",
       "    .dataframe thead th {\n",
       "        text-align: right;\n",
       "    }\n",
       "</style>\n",
       "<table border=\"1\" class=\"dataframe\">\n",
       "  <thead>\n",
       "    <tr style=\"text-align: right;\">\n",
       "      <th></th>\n",
       "      <th>TotalCoinsMined</th>\n",
       "      <th>TotalCoinSupply</th>\n",
       "      <th>Algorithm_1GB AES Pattern Search</th>\n",
       "      <th>Algorithm_536</th>\n",
       "      <th>Algorithm_Argon2d</th>\n",
       "      <th>Algorithm_BLAKE256</th>\n",
       "      <th>Algorithm_Blake</th>\n",
       "      <th>Algorithm_Blake2S</th>\n",
       "      <th>Algorithm_Blake2b</th>\n",
       "      <th>Algorithm_C11</th>\n",
       "      <th>...</th>\n",
       "      <th>ProofType_PoW/PoS</th>\n",
       "      <th>ProofType_PoW/PoS</th>\n",
       "      <th>ProofType_PoW/PoW</th>\n",
       "      <th>ProofType_PoW/nPoS</th>\n",
       "      <th>ProofType_Pos</th>\n",
       "      <th>ProofType_Proof of Authority</th>\n",
       "      <th>ProofType_Proof of Trust</th>\n",
       "      <th>ProofType_TPoS</th>\n",
       "      <th>ProofType_Zero-Knowledge Proof</th>\n",
       "      <th>ProofType_dPoW/PoW</th>\n",
       "    </tr>\n",
       "  </thead>\n",
       "  <tbody>\n",
       "    <tr>\n",
       "      <th>42</th>\n",
       "      <td>4.199995e+01</td>\n",
       "      <td>42</td>\n",
       "      <td>0</td>\n",
       "      <td>0</td>\n",
       "      <td>0</td>\n",
       "      <td>0</td>\n",
       "      <td>0</td>\n",
       "      <td>0</td>\n",
       "      <td>0</td>\n",
       "      <td>0</td>\n",
       "      <td>...</td>\n",
       "      <td>1</td>\n",
       "      <td>0</td>\n",
       "      <td>0</td>\n",
       "      <td>0</td>\n",
       "      <td>0</td>\n",
       "      <td>0</td>\n",
       "      <td>0</td>\n",
       "      <td>0</td>\n",
       "      <td>0</td>\n",
       "      <td>0</td>\n",
       "    </tr>\n",
       "    <tr>\n",
       "      <th>404</th>\n",
       "      <td>1.055185e+09</td>\n",
       "      <td>532000000</td>\n",
       "      <td>0</td>\n",
       "      <td>0</td>\n",
       "      <td>0</td>\n",
       "      <td>0</td>\n",
       "      <td>0</td>\n",
       "      <td>0</td>\n",
       "      <td>0</td>\n",
       "      <td>0</td>\n",
       "      <td>...</td>\n",
       "      <td>1</td>\n",
       "      <td>0</td>\n",
       "      <td>0</td>\n",
       "      <td>0</td>\n",
       "      <td>0</td>\n",
       "      <td>0</td>\n",
       "      <td>0</td>\n",
       "      <td>0</td>\n",
       "      <td>0</td>\n",
       "      <td>0</td>\n",
       "    </tr>\n",
       "    <tr>\n",
       "      <th>1337</th>\n",
       "      <td>2.927942e+10</td>\n",
       "      <td>314159265359</td>\n",
       "      <td>0</td>\n",
       "      <td>0</td>\n",
       "      <td>0</td>\n",
       "      <td>0</td>\n",
       "      <td>0</td>\n",
       "      <td>0</td>\n",
       "      <td>0</td>\n",
       "      <td>0</td>\n",
       "      <td>...</td>\n",
       "      <td>1</td>\n",
       "      <td>0</td>\n",
       "      <td>0</td>\n",
       "      <td>0</td>\n",
       "      <td>0</td>\n",
       "      <td>0</td>\n",
       "      <td>0</td>\n",
       "      <td>0</td>\n",
       "      <td>0</td>\n",
       "      <td>0</td>\n",
       "    </tr>\n",
       "    <tr>\n",
       "      <th>BTC</th>\n",
       "      <td>1.792718e+07</td>\n",
       "      <td>21000000</td>\n",
       "      <td>0</td>\n",
       "      <td>0</td>\n",
       "      <td>0</td>\n",
       "      <td>0</td>\n",
       "      <td>0</td>\n",
       "      <td>0</td>\n",
       "      <td>0</td>\n",
       "      <td>0</td>\n",
       "      <td>...</td>\n",
       "      <td>0</td>\n",
       "      <td>0</td>\n",
       "      <td>0</td>\n",
       "      <td>0</td>\n",
       "      <td>0</td>\n",
       "      <td>0</td>\n",
       "      <td>0</td>\n",
       "      <td>0</td>\n",
       "      <td>0</td>\n",
       "      <td>0</td>\n",
       "    </tr>\n",
       "    <tr>\n",
       "      <th>ETH</th>\n",
       "      <td>1.076842e+08</td>\n",
       "      <td>0</td>\n",
       "      <td>0</td>\n",
       "      <td>0</td>\n",
       "      <td>0</td>\n",
       "      <td>0</td>\n",
       "      <td>0</td>\n",
       "      <td>0</td>\n",
       "      <td>0</td>\n",
       "      <td>0</td>\n",
       "      <td>...</td>\n",
       "      <td>0</td>\n",
       "      <td>0</td>\n",
       "      <td>0</td>\n",
       "      <td>0</td>\n",
       "      <td>0</td>\n",
       "      <td>0</td>\n",
       "      <td>0</td>\n",
       "      <td>0</td>\n",
       "      <td>0</td>\n",
       "      <td>0</td>\n",
       "    </tr>\n",
       "  </tbody>\n",
       "</table>\n",
       "<p>5 rows × 100 columns</p>\n",
       "</div>"
      ],
      "text/plain": [
       "      TotalCoinsMined TotalCoinSupply  Algorithm_1GB AES Pattern Search  \\\n",
       "42       4.199995e+01              42                                 0   \n",
       "404      1.055185e+09       532000000                                 0   \n",
       "1337     2.927942e+10    314159265359                                 0   \n",
       "BTC      1.792718e+07        21000000                                 0   \n",
       "ETH      1.076842e+08               0                                 0   \n",
       "\n",
       "      Algorithm_536  Algorithm_Argon2d  Algorithm_BLAKE256  Algorithm_Blake  \\\n",
       "42                0                  0                   0                0   \n",
       "404               0                  0                   0                0   \n",
       "1337              0                  0                   0                0   \n",
       "BTC               0                  0                   0                0   \n",
       "ETH               0                  0                   0                0   \n",
       "\n",
       "      Algorithm_Blake2S  Algorithm_Blake2b  Algorithm_C11  ...  \\\n",
       "42                    0                  0              0  ...   \n",
       "404                   0                  0              0  ...   \n",
       "1337                  0                  0              0  ...   \n",
       "BTC                   0                  0              0  ...   \n",
       "ETH                   0                  0              0  ...   \n",
       "\n",
       "      ProofType_PoW/PoS  ProofType_PoW/PoS   ProofType_PoW/PoW  \\\n",
       "42                    1                   0                  0   \n",
       "404                   1                   0                  0   \n",
       "1337                  1                   0                  0   \n",
       "BTC                   0                   0                  0   \n",
       "ETH                   0                   0                  0   \n",
       "\n",
       "      ProofType_PoW/nPoS  ProofType_Pos  ProofType_Proof of Authority  \\\n",
       "42                     0              0                             0   \n",
       "404                    0              0                             0   \n",
       "1337                   0              0                             0   \n",
       "BTC                    0              0                             0   \n",
       "ETH                    0              0                             0   \n",
       "\n",
       "      ProofType_Proof of Trust  ProofType_TPoS  \\\n",
       "42                           0               0   \n",
       "404                          0               0   \n",
       "1337                         0               0   \n",
       "BTC                          0               0   \n",
       "ETH                          0               0   \n",
       "\n",
       "      ProofType_Zero-Knowledge Proof  ProofType_dPoW/PoW  \n",
       "42                                 0                   0  \n",
       "404                                0                   0  \n",
       "1337                               0                   0  \n",
       "BTC                                0                   0  \n",
       "ETH                                0                   0  \n",
       "\n",
       "[5 rows x 100 columns]"
      ]
     },
     "execution_count": 389,
     "metadata": {},
     "output_type": "execute_result"
    }
   ],
   "source": [
    "# Creating dummy variables for all of the text features\n",
    "X = pd.get_dummies(crypto_df, columns=[\"Algorithm\", \"ProofType\"])\n",
    "X.head()"
   ]
  },
  {
   "cell_type": "code",
   "execution_count": 390,
   "metadata": {},
   "outputs": [
    {
     "name": "stdout",
     "output_type": "stream",
     "text": [
      "[[-0.11674788 -0.15286468 -0.0433555  ... -0.0433555  -0.0433555\n",
      "  -0.0433555 ]\n",
      " [-0.09358885 -0.14499604 -0.0433555  ... -0.0433555  -0.0433555\n",
      "  -0.0433555 ]\n",
      " [ 0.52587231  4.4937636  -0.0433555  ... -0.0433555  -0.0433555\n",
      "  -0.0433555 ]\n",
      " ...\n",
      " [ 3.92312182  2.57553368 -0.0433555  ... -0.0433555  -0.0433555\n",
      "  -0.0433555 ]\n",
      " [ 0.03483681 -0.00495791 -0.0433555  ... -0.0433555  -0.0433555\n",
      "  -0.0433555 ]\n",
      " [-0.0769557  -0.12093438 -0.0433555  ... -0.0433555  -0.0433555\n",
      "  -0.0433555 ]]\n"
     ]
    }
   ],
   "source": [
    "# Standardizing Data from X dataframe\n",
    "crypto_scaled = StandardScaler().fit_transform(X)\n",
    "print(crypto_scaled[0:101])\n"
   ]
  },
  {
   "cell_type": "markdown",
   "metadata": {},
   "source": [
    "### Reducing Data Dimensions Using PCA"
   ]
  },
  {
   "cell_type": "code",
   "execution_count": 391,
   "metadata": {},
   "outputs": [],
   "source": [
    "from sklearn.decomposition import PCA\n",
    "\n",
    "# Reducing to three principal components\n",
    "pca = PCA(n_components=3)"
   ]
  },
  {
   "cell_type": "code",
   "execution_count": 392,
   "metadata": {},
   "outputs": [],
   "source": [
    "# Applying Dimensionality Reduction\n",
    "crypto_pca = pca.fit_transform(crypto_scaled)"
   ]
  },
  {
   "cell_type": "code",
   "execution_count": 393,
   "metadata": {},
   "outputs": [
    {
     "data": {
      "text/html": [
       "<div>\n",
       "<style scoped>\n",
       "    .dataframe tbody tr th:only-of-type {\n",
       "        vertical-align: middle;\n",
       "    }\n",
       "\n",
       "    .dataframe tbody tr th {\n",
       "        vertical-align: top;\n",
       "    }\n",
       "\n",
       "    .dataframe thead th {\n",
       "        text-align: right;\n",
       "    }\n",
       "</style>\n",
       "<table border=\"1\" class=\"dataframe\">\n",
       "  <thead>\n",
       "    <tr style=\"text-align: right;\">\n",
       "      <th></th>\n",
       "      <th>PC 1</th>\n",
       "      <th>PC 2</th>\n",
       "      <th>PC 3</th>\n",
       "    </tr>\n",
       "  </thead>\n",
       "  <tbody>\n",
       "    <tr>\n",
       "      <th>42</th>\n",
       "      <td>-0.335286</td>\n",
       "      <td>0.921799</td>\n",
       "      <td>-0.465890</td>\n",
       "    </tr>\n",
       "    <tr>\n",
       "      <th>404</th>\n",
       "      <td>-0.318577</td>\n",
       "      <td>0.921666</td>\n",
       "      <td>-0.466455</td>\n",
       "    </tr>\n",
       "    <tr>\n",
       "      <th>1337</th>\n",
       "      <td>2.335877</td>\n",
       "      <td>1.454619</td>\n",
       "      <td>-0.609352</td>\n",
       "    </tr>\n",
       "    <tr>\n",
       "      <th>BTC</th>\n",
       "      <td>-0.139157</td>\n",
       "      <td>-1.277697</td>\n",
       "      <td>0.132061</td>\n",
       "    </tr>\n",
       "    <tr>\n",
       "      <th>ETH</th>\n",
       "      <td>-0.147730</td>\n",
       "      <td>-1.916692</td>\n",
       "      <td>0.290485</td>\n",
       "    </tr>\n",
       "    <tr>\n",
       "      <th>LTC</th>\n",
       "      <td>-0.171887</td>\n",
       "      <td>-1.095412</td>\n",
       "      <td>-0.006891</td>\n",
       "    </tr>\n",
       "    <tr>\n",
       "      <th>DASH</th>\n",
       "      <td>-0.382309</td>\n",
       "      <td>1.127301</td>\n",
       "      <td>-0.427347</td>\n",
       "    </tr>\n",
       "    <tr>\n",
       "      <th>XMR</th>\n",
       "      <td>-0.141461</td>\n",
       "      <td>-2.134477</td>\n",
       "      <td>0.354761</td>\n",
       "    </tr>\n",
       "    <tr>\n",
       "      <th>ETC</th>\n",
       "      <td>-0.146167</td>\n",
       "      <td>-1.916816</td>\n",
       "      <td>0.290446</td>\n",
       "    </tr>\n",
       "    <tr>\n",
       "      <th>ZEC</th>\n",
       "      <td>-0.148304</td>\n",
       "      <td>-1.914062</td>\n",
       "      <td>0.298958</td>\n",
       "    </tr>\n",
       "  </tbody>\n",
       "</table>\n",
       "</div>"
      ],
      "text/plain": [
       "          PC 1      PC 2      PC 3\n",
       "42   -0.335286  0.921799 -0.465890\n",
       "404  -0.318577  0.921666 -0.466455\n",
       "1337  2.335877  1.454619 -0.609352\n",
       "BTC  -0.139157 -1.277697  0.132061\n",
       "ETH  -0.147730 -1.916692  0.290485\n",
       "LTC  -0.171887 -1.095412 -0.006891\n",
       "DASH -0.382309  1.127301 -0.427347\n",
       "XMR  -0.141461 -2.134477  0.354761\n",
       "ETC  -0.146167 -1.916816  0.290446\n",
       "ZEC  -0.148304 -1.914062  0.298958"
      ]
     },
     "execution_count": 393,
     "metadata": {},
     "output_type": "execute_result"
    }
   ],
   "source": [
    "# Transforming PCA data to a DataFrame\n",
    "pcs_df = pd.DataFrame(\n",
    "    data=crypto_pca, columns=[\"PC 1\", \"PC 2\", \"PC 3\"]\n",
    ")\n",
    "pcs_df.set_index(X.index, inplace=True)\n",
    "pcs_df.index.name=None\n",
    "pcs_df.head(10)"
   ]
  },
  {
   "cell_type": "markdown",
   "metadata": {},
   "source": [
    "### Clustering Using K-means"
   ]
  },
  {
   "cell_type": "code",
   "execution_count": 394,
   "metadata": {},
   "outputs": [
    {
     "data": {
      "text/plain": [
       "array([0.02736965, 0.02083042, 0.02006618])"
      ]
     },
     "execution_count": 394,
     "metadata": {},
     "output_type": "execute_result"
    }
   ],
   "source": [
    "# Attaining the Explained Variance Ratio\n",
    "pca.explained_variance_ratio_"
   ]
  },
  {
   "cell_type": "markdown",
   "metadata": {},
   "source": [
    "### Elbow Curve"
   ]
  },
  {
   "cell_type": "code",
   "execution_count": 395,
   "metadata": {},
   "outputs": [
    {
     "data": {},
     "metadata": {},
     "output_type": "display_data"
    },
    {
     "data": {
      "application/vnd.holoviews_exec.v0+json": "",
      "text/html": [
       "<div id='4876'>\n",
       "\n",
       "\n",
       "\n",
       "\n",
       "\n",
       "  <div class=\"bk-root\" id=\"ca057857-b562-4617-a067-91e69ba9835d\" data-root-id=\"4876\"></div>\n",
       "</div>\n",
       "<script type=\"application/javascript\">(function(root) {\n",
       "  function embed_document(root) {\n",
       "  var docs_json = {\"fa69430e-cca3-47be-a839-af02ecb4bf69\":{\"roots\":{\"references\":[{\"attributes\":{\"margin\":[5,5,5,5],\"name\":\"HSpacer10416\",\"sizing_mode\":\"stretch_width\"},\"id\":\"4940\",\"type\":\"Spacer\"},{\"attributes\":{},\"id\":\"4902\",\"type\":\"ResetTool\"},{\"attributes\":{},\"id\":\"4888\",\"type\":\"LinearScale\"},{\"attributes\":{\"end\":3987.927021340396,\"reset_end\":3987.927021340396,\"reset_start\":-204.1073776157616,\"start\":-204.1073776157616,\"tags\":[[[\"inertia\",\"inertia\",null]]]},\"id\":\"4879\",\"type\":\"Range1d\"},{\"attributes\":{\"line_alpha\":0.2,\"line_color\":\"#1f77b3\",\"line_width\":2,\"x\":{\"field\":\"k\"},\"y\":{\"field\":\"inertia\"}},\"id\":\"4916\",\"type\":\"Line\"},{\"attributes\":{\"end\":10.0,\"reset_end\":10.0,\"reset_start\":1.0,\"start\":1.0,\"tags\":[[[\"k\",\"k\",null]]]},\"id\":\"4878\",\"type\":\"Range1d\"},{\"attributes\":{},\"id\":\"4931\",\"type\":\"UnionRenderers\"},{\"attributes\":{},\"id\":\"4898\",\"type\":\"SaveTool\"},{\"attributes\":{},\"id\":\"4925\",\"type\":\"BasicTickFormatter\"},{\"attributes\":{\"source\":{\"id\":\"4911\"}},\"id\":\"4918\",\"type\":\"CDSView\"},{\"attributes\":{},\"id\":\"4900\",\"type\":\"WheelZoomTool\"},{\"attributes\":{\"overlay\":{\"id\":\"4903\"}},\"id\":\"4901\",\"type\":\"BoxZoomTool\"},{\"attributes\":{\"ticks\":[1,2,3,4,5,6,7,8,9,10]},\"id\":\"4919\",\"type\":\"FixedTicker\"},{\"attributes\":{},\"id\":\"4895\",\"type\":\"BasicTicker\"},{\"attributes\":{},\"id\":\"4899\",\"type\":\"PanTool\"},{\"attributes\":{\"data\":{\"inertia\":{\"__ndarray__\":\"xmglgC5trED98qE/YEijQGoiHnrsiZdAJXpBqLhVg0B73TcZ0Vl8QLw5/Y+kPXVAsT2TNOGacUCLuiRBal5sQBXvl++MGGdAUGkjg1InYkA=\",\"dtype\":\"float64\",\"order\":\"little\",\"shape\":[10]},\"k\":[1,2,3,4,5,6,7,8,9,10]},\"selected\":{\"id\":\"4912\"},\"selection_policy\":{\"id\":\"4931\"}},\"id\":\"4911\",\"type\":\"ColumnDataSource\"},{\"attributes\":{\"children\":[{\"id\":\"4877\"},{\"id\":\"4881\"},{\"id\":\"4940\"}],\"margin\":[0,0,0,0],\"name\":\"Row10411\",\"tags\":[\"embedded\"]},\"id\":\"4876\",\"type\":\"Row\"},{\"attributes\":{\"axis\":{\"id\":\"4890\"},\"grid_line_color\":null,\"ticker\":null},\"id\":\"4893\",\"type\":\"Grid\"},{\"attributes\":{\"text\":\"Elbow Curve\",\"text_color\":{\"value\":\"black\"},\"text_font_size\":{\"value\":\"12pt\"}},\"id\":\"4882\",\"type\":\"Title\"},{\"attributes\":{\"axis_label\":\"k\",\"bounds\":\"auto\",\"formatter\":{\"id\":\"4921\"},\"major_label_orientation\":\"horizontal\",\"ticker\":{\"id\":\"4919\"}},\"id\":\"4890\",\"type\":\"LinearAxis\"},{\"attributes\":{\"line_color\":\"#1f77b3\",\"line_width\":2,\"x\":{\"field\":\"k\"},\"y\":{\"field\":\"inertia\"}},\"id\":\"4914\",\"type\":\"Line\"},{\"attributes\":{},\"id\":\"4912\",\"type\":\"Selection\"},{\"attributes\":{\"line_alpha\":0.1,\"line_color\":\"#1f77b3\",\"line_width\":2,\"x\":{\"field\":\"k\"},\"y\":{\"field\":\"inertia\"}},\"id\":\"4915\",\"type\":\"Line\"},{\"attributes\":{\"callback\":null,\"renderers\":[{\"id\":\"4917\"}],\"tags\":[\"hv_created\"],\"tooltips\":[[\"k\",\"@{k}\"],[\"inertia\",\"@{inertia}\"]]},\"id\":\"4880\",\"type\":\"HoverTool\"},{\"attributes\":{\"bottom_units\":\"screen\",\"fill_alpha\":0.5,\"fill_color\":\"lightgrey\",\"left_units\":\"screen\",\"level\":\"overlay\",\"line_alpha\":1.0,\"line_color\":\"black\",\"line_dash\":[4,4],\"line_width\":2,\"right_units\":\"screen\",\"top_units\":\"screen\"},\"id\":\"4903\",\"type\":\"BoxAnnotation\"},{\"attributes\":{\"align\":null,\"below\":[{\"id\":\"4890\"}],\"center\":[{\"id\":\"4893\"},{\"id\":\"4897\"}],\"left\":[{\"id\":\"4894\"}],\"margin\":null,\"min_border_bottom\":10,\"min_border_left\":10,\"min_border_right\":10,\"min_border_top\":10,\"plot_height\":300,\"plot_width\":700,\"renderers\":[{\"id\":\"4917\"}],\"sizing_mode\":\"fixed\",\"title\":{\"id\":\"4882\"},\"toolbar\":{\"id\":\"4904\"},\"x_range\":{\"id\":\"4878\"},\"x_scale\":{\"id\":\"4886\"},\"y_range\":{\"id\":\"4879\"},\"y_scale\":{\"id\":\"4888\"}},\"id\":\"4881\",\"subtype\":\"Figure\",\"type\":\"Plot\"},{\"attributes\":{\"margin\":[5,5,5,5],\"name\":\"HSpacer10415\",\"sizing_mode\":\"stretch_width\"},\"id\":\"4877\",\"type\":\"Spacer\"},{\"attributes\":{},\"id\":\"4921\",\"type\":\"BasicTickFormatter\"},{\"attributes\":{\"active_drag\":\"auto\",\"active_inspect\":\"auto\",\"active_multi\":null,\"active_scroll\":\"auto\",\"active_tap\":\"auto\",\"tools\":[{\"id\":\"4880\"},{\"id\":\"4898\"},{\"id\":\"4899\"},{\"id\":\"4900\"},{\"id\":\"4901\"},{\"id\":\"4902\"}]},\"id\":\"4904\",\"type\":\"Toolbar\"},{\"attributes\":{},\"id\":\"4886\",\"type\":\"LinearScale\"},{\"attributes\":{\"axis_label\":\"inertia\",\"bounds\":\"auto\",\"formatter\":{\"id\":\"4925\"},\"major_label_orientation\":\"horizontal\",\"ticker\":{\"id\":\"4895\"}},\"id\":\"4894\",\"type\":\"LinearAxis\"},{\"attributes\":{\"axis\":{\"id\":\"4894\"},\"dimension\":1,\"grid_line_color\":null,\"ticker\":null},\"id\":\"4897\",\"type\":\"Grid\"},{\"attributes\":{\"data_source\":{\"id\":\"4911\"},\"glyph\":{\"id\":\"4914\"},\"hover_glyph\":null,\"muted_glyph\":{\"id\":\"4916\"},\"nonselection_glyph\":{\"id\":\"4915\"},\"selection_glyph\":null,\"view\":{\"id\":\"4918\"}},\"id\":\"4917\",\"type\":\"GlyphRenderer\"}],\"root_ids\":[\"4876\"]},\"title\":\"Bokeh Application\",\"version\":\"2.1.0\"}};\n",
       "  var render_items = [{\"docid\":\"fa69430e-cca3-47be-a839-af02ecb4bf69\",\"root_ids\":[\"4876\"],\"roots\":{\"4876\":\"ca057857-b562-4617-a067-91e69ba9835d\"}}];\n",
       "  root.Bokeh.embed.embed_items_notebook(docs_json, render_items);\n",
       "  }\n",
       "if (root.Bokeh !== undefined) {\n",
       "    embed_document(root);\n",
       "  } else {\n",
       "    var attempts = 0;\n",
       "    var timer = setInterval(function(root) {\n",
       "      if (root.Bokeh !== undefined) {\n",
       "        clearInterval(timer);\n",
       "        embed_document(root);\n",
       "      } else if (document.readyState == \"complete\") {\n",
       "        attempts++;\n",
       "        if (attempts > 100) {\n",
       "          clearInterval(timer);\n",
       "          console.log(\"Bokeh: ERROR: Unable to run BokehJS code because BokehJS library is missing\");\n",
       "        }\n",
       "      }\n",
       "    }, 10, root)\n",
       "  }\n",
       "})(window);</script>"
      ],
      "text/plain": [
       ":Curve   [k]   (inertia)"
      ]
     },
     "execution_count": 395,
     "metadata": {
      "application/vnd.holoviews_exec.v0+json": {
       "id": "4876"
      }
     },
     "output_type": "execute_result"
    }
   ],
   "source": [
    "# Finding the best value for K\n",
    "inertia = []\n",
    "k = list(range(1, 11))\n",
    "\n",
    "# Calculating the inertia for the range of K values\n",
    "for i in k:\n",
    "    km = KMeans(n_clusters=i, random_state=0)\n",
    "    km.fit(pcs_df)\n",
    "    inertia.append(km.inertia_)\n",
    "    \n",
    "# Creating Elbow Curve\n",
    "elbow_data = {\"k\": k, \"inertia\": inertia}\n",
    "df_elbow = pd.DataFrame(elbow_data)\n",
    "df_elbow.hvplot.line(x=\"k\", y=\"inertia\", xticks=k, title=\"Elbow Curve\")"
   ]
  },
  {
   "cell_type": "markdown",
   "metadata": {},
   "source": [
    "### Function to Determine Best Value for K"
   ]
  },
  {
   "cell_type": "code",
   "execution_count": 396,
   "metadata": {},
   "outputs": [],
   "source": [
    "def test_k_value(k, data):\n",
    "    data=data.copy()\n",
    "    model=KMeans(n_clusters=k, random_state=0)\n",
    "    \n",
    "    model.fit(data)\n",
    "    predictions=model.predict(data)\n",
    "    \n",
    "    data[\"class\"]=model.labels_\n",
    "    \n",
    "    return data"
   ]
  },
  {
   "cell_type": "markdown",
   "metadata": {},
   "source": [
    "#### Testing K=4"
   ]
  },
  {
   "cell_type": "code",
   "execution_count": 397,
   "metadata": {},
   "outputs": [
    {
     "data": {
      "text/html": [
       "<div>\n",
       "<style scoped>\n",
       "    .dataframe tbody tr th:only-of-type {\n",
       "        vertical-align: middle;\n",
       "    }\n",
       "\n",
       "    .dataframe tbody tr th {\n",
       "        vertical-align: top;\n",
       "    }\n",
       "\n",
       "    .dataframe thead th {\n",
       "        text-align: right;\n",
       "    }\n",
       "</style>\n",
       "<table border=\"1\" class=\"dataframe\">\n",
       "  <thead>\n",
       "    <tr style=\"text-align: right;\">\n",
       "      <th></th>\n",
       "      <th>PC 1</th>\n",
       "      <th>PC 2</th>\n",
       "      <th>PC 3</th>\n",
       "      <th>class</th>\n",
       "    </tr>\n",
       "  </thead>\n",
       "  <tbody>\n",
       "    <tr>\n",
       "      <th>42</th>\n",
       "      <td>-0.335286</td>\n",
       "      <td>0.921799</td>\n",
       "      <td>-0.465890</td>\n",
       "      <td>0</td>\n",
       "    </tr>\n",
       "    <tr>\n",
       "      <th>404</th>\n",
       "      <td>-0.318577</td>\n",
       "      <td>0.921666</td>\n",
       "      <td>-0.466455</td>\n",
       "      <td>0</td>\n",
       "    </tr>\n",
       "    <tr>\n",
       "      <th>1337</th>\n",
       "      <td>2.335877</td>\n",
       "      <td>1.454619</td>\n",
       "      <td>-0.609352</td>\n",
       "      <td>0</td>\n",
       "    </tr>\n",
       "    <tr>\n",
       "      <th>BTC</th>\n",
       "      <td>-0.139157</td>\n",
       "      <td>-1.277697</td>\n",
       "      <td>0.132061</td>\n",
       "      <td>1</td>\n",
       "    </tr>\n",
       "    <tr>\n",
       "      <th>ETH</th>\n",
       "      <td>-0.147730</td>\n",
       "      <td>-1.916692</td>\n",
       "      <td>0.290485</td>\n",
       "      <td>1</td>\n",
       "    </tr>\n",
       "  </tbody>\n",
       "</table>\n",
       "</div>"
      ],
      "text/plain": [
       "          PC 1      PC 2      PC 3  class\n",
       "42   -0.335286  0.921799 -0.465890      0\n",
       "404  -0.318577  0.921666 -0.466455      0\n",
       "1337  2.335877  1.454619 -0.609352      0\n",
       "BTC  -0.139157 -1.277697  0.132061      1\n",
       "ETH  -0.147730 -1.916692  0.290485      1"
      ]
     },
     "execution_count": 397,
     "metadata": {},
     "output_type": "execute_result"
    }
   ],
   "source": [
    "four_clusters=test_k_value(4, pcs_df)\n",
    "four_clusters.head()"
   ]
  },
  {
   "cell_type": "code",
   "execution_count": 398,
   "metadata": {
    "scrolled": true
   },
   "outputs": [
    {
     "data": {
      "application/vnd.plotly.v1+json": {
       "config": {
        "plotlyServerURL": "https://plot.ly"
       },
       "data": [
        {
         "hovertemplate": "class=%{marker.color}<br>PC 1=%{x}<br>PC 2=%{y}<br>PC 3=%{z}<extra></extra>",
         "legendgroup": "0",
         "marker": {
          "color": [
           0,
           0,
           0,
           0,
           0,
           0,
           0,
           0,
           0,
           0,
           0,
           0,
           0,
           0,
           0,
           0,
           0,
           0,
           0,
           0,
           0,
           0,
           0,
           0,
           0,
           0,
           0,
           0,
           0,
           0,
           0,
           0,
           0,
           0,
           0,
           0,
           0,
           0,
           0,
           0,
           0,
           0,
           0,
           0,
           0,
           0,
           0,
           0,
           0,
           0,
           0,
           0,
           0,
           0,
           0,
           0,
           0,
           0,
           0,
           0,
           0,
           0,
           0,
           0,
           0,
           0,
           0,
           0,
           0,
           0,
           0,
           0,
           0,
           0,
           0,
           0,
           0,
           0,
           0,
           0,
           0,
           0,
           0,
           0,
           0,
           0,
           0,
           0,
           0,
           0,
           0,
           0,
           0,
           0,
           0,
           0,
           0,
           0,
           0,
           0,
           0,
           0,
           0,
           0,
           0,
           0,
           0,
           0,
           0,
           0,
           0,
           0,
           0,
           0,
           0,
           0,
           0,
           0,
           0,
           0,
           0,
           0,
           0,
           0,
           0,
           0,
           0,
           0,
           0,
           0,
           0,
           0,
           0,
           0,
           0,
           0,
           0,
           0,
           0,
           0,
           0,
           0,
           0,
           0,
           0,
           0,
           0,
           0,
           0,
           0,
           0,
           0,
           0,
           0,
           0,
           0,
           0,
           0,
           0,
           0,
           0,
           0,
           0,
           0,
           0,
           0,
           0,
           0,
           0,
           0,
           0,
           0,
           0,
           0,
           0,
           0,
           0,
           0,
           0,
           0,
           0,
           0,
           0,
           0,
           0,
           0,
           0,
           0,
           0,
           0,
           0,
           0,
           0,
           0,
           0,
           0,
           0,
           0,
           0,
           0,
           0,
           0,
           0,
           0,
           0,
           0,
           0,
           0,
           0,
           0,
           0,
           0,
           0,
           0,
           0,
           0,
           0,
           0,
           0,
           0,
           0,
           0,
           0,
           0,
           0,
           0,
           0,
           0,
           0,
           0,
           0,
           0,
           0,
           0,
           0,
           0,
           0,
           0,
           0,
           0,
           0,
           0,
           0,
           0,
           0,
           0,
           0,
           0,
           0,
           0,
           0,
           0,
           0,
           0,
           0,
           0,
           0,
           0,
           0,
           0,
           0,
           0,
           0,
           0,
           0,
           0,
           0,
           0,
           0,
           0,
           0,
           0,
           0,
           0,
           0,
           0,
           0,
           0,
           0,
           0,
           0,
           0,
           0,
           0,
           0,
           0,
           0,
           0
          ],
          "coloraxis": "coloraxis",
          "symbol": "circle"
         },
         "mode": "markers",
         "name": "0",
         "scene": "scene",
         "showlegend": true,
         "type": "scatter3d",
         "x": [
          -0.3352856978551655,
          -0.31857736500562367,
          2.3358766092515033,
          -0.3823093294569137,
          -0.2006682391457628,
          -0.30138272408126215,
          -0.272504940998366,
          -0.221873692544902,
          -0.3349443152876122,
          -0.3275021811234952,
          -0.33377826170896857,
          -0.335281621623806,
          -0.3352658592359187,
          0.7587186579374151,
          -0.3639429711587631,
          -0.3761240604106002,
          -0.3160786730823372,
          -0.3333389246153542,
          -0.33320145983968796,
          -0.38220374488514014,
          -0.4943779684556272,
          -0.04563517203933374,
          -0.2645837331330677,
          -0.3061582593765369,
          -0.2559376697971643,
          -0.25656153717944946,
          -0.3296144705023393,
          -0.3295714531800142,
          -0.33368287406795866,
          0.023810380966555238,
          -0.3531410727515274,
          -0.3825763761139148,
          -0.2614852994773593,
          -0.31865915473350137,
          -0.3824877489379998,
          -0.3104467467909315,
          -0.3339592560717578,
          -0.3199497748042375,
          -0.38245214439465336,
          -0.2619545982457361,
          -0.25634181651000865,
          -0.32636196851110594,
          0.28541672568696325,
          -0.3523432859247252,
          -0.3005921935634715,
          -0.36336300604587046,
          -0.30613851688474947,
          -0.25663708727299855,
          -0.3007767362896824,
          -0.3352677185983321,
          -0.25658915154472417,
          -0.35358704030150817,
          -0.3350013296141936,
          -0.3825578557813075,
          -0.6268485928476609,
          -0.3822015901350006,
          -0.4191362931999351,
          -0.30453548074290016,
          -0.25610938858212423,
          -0.2939165502028531,
          -0.22432265959259404,
          -0.07517718836309971,
          -0.30135356050892975,
          -0.05908316968615435,
          -0.301417460700067,
          -0.2198250526418112,
          -0.33487681023693194,
          -0.3044037980796093,
          -0.3797183112212595,
          0.8503853204880636,
          -0.30121689837969834,
          0.02588339195444615,
          -0.37580642740453246,
          -0.380394868499994,
          -0.2999565222035714,
          -0.297617596148753,
          -0.3415068677546629,
          -0.3812892424574746,
          -0.3829421800967508,
          -0.3111039640917803,
          -0.33491500216821657,
          -0.3333496707111979,
          -0.22644956612187617,
          -0.3410425039959163,
          -0.38203020317462705,
          -0.3341169647899261,
          -0.3013983291202397,
          -0.3825470091908544,
          -0.3351047413393258,
          -0.3352619363262301,
          -0.30439403915059726,
          -0.2838179337392024,
          0.07432174244094514,
          -0.3747605581970867,
          -0.3348750648788442,
          -0.3686678404858899,
          -0.37408751429649845,
          -0.22788459943185313,
          -0.4012176400517958,
          -0.37383497048161407,
          -0.24108147582591488,
          3.6748501803934657,
          -0.3821383819948749,
          0.8785974962243093,
          -0.38250179615864355,
          -0.37522561901740425,
          -0.33480230653886767,
          -0.33495703313555025,
          -0.37580642740453246,
          -0.3820753936219364,
          -0.30126063919854895,
          -0.3348030616164621,
          -0.3609077701222811,
          -0.33495086066868696,
          -0.3305251956073855,
          -0.38253086372386935,
          -0.33415909870653226,
          0.33892878370564083,
          -0.3351507146165725,
          -0.33522150406625423,
          -0.3648200633392123,
          -0.34692741033022323,
          -0.33143666451005316,
          -0.3013746799561724,
          -0.3824405616768371,
          -0.3349986714359157,
          -0.3351259568742826,
          -0.3060446064519728,
          -0.3251784673199678,
          -0.22765179734602387,
          -0.3159254190973456,
          -0.30578511132334074,
          -0.38170406789682293,
          -0.4003011524992745,
          -0.38043904506021387,
          -0.374048026612893,
          -0.3816016809721191,
          -0.3684321099565347,
          -0.3775306028900388,
          -0.3350690945138161,
          -0.3350682593327062,
          -0.328168625224822,
          0.2618120137628123,
          -0.38208162175291427,
          -0.28863439918767114,
          -0.3758407818868448,
          -0.3342774184810318,
          0.9133557721357599,
          -0.2711912779729994,
          -0.3817170682553028,
          0.6131029877823033,
          -0.34304685861007295,
          -0.34154475258500144,
          -0.391778726792003,
          -0.2562733441421695,
          0.13105609135787957,
          -0.256344339651498,
          -0.3643661183221848,
          -0.3912822927674065,
          -0.38235482687060063,
          -0.30611912339634234,
          -0.3757066014769336,
          -0.3347032342908845,
          -0.3352043854940944,
          -0.25889801399543566,
          0.6222144346681671,
          -0.3822954424603468,
          -0.3245991514850831,
          -0.33515984650387814,
          -0.3198658524338616,
          0.4360841289207091,
          -0.2997162970746081,
          -0.32776940189004816,
          -0.3831725436110523,
          -0.3351100365045395,
          -0.3920713675194558,
          -0.347894892569113,
          -0.33498010976898424,
          -0.0984982466670385,
          -0.3810845137943362,
          3.6797202997253877,
          0.2180299837406602,
          -0.25300572427373486,
          -0.33243300571963735,
          -0.31399551777459694,
          -0.3647056474996766,
          0.08042433172469925,
          -0.3341159243074732,
          -0.381667496311507,
          -0.3638678465841412,
          -0.32164621162166124,
          -0.3352265765929107,
          -0.35355889186205297,
          -0.383224874371665,
          -0.282233024134571,
          -0.32086159525818364,
          -0.3307592489567428,
          -0.2194232357954281,
          -0.3383961063219641,
          -0.3823720694916245,
          -0.37491269197711596,
          -0.30527653550224726,
          -0.3310670793183846,
          -0.34264462530467166,
          -0.33525400732465,
          -0.3352356633351327,
          -0.29964181665363965,
          -0.3651382609217752,
          -0.3752998959544992,
          -0.3349513406629985,
          3.8624421005602323,
          -0.3907358469185795,
          -0.37548909264270497,
          -0.3305159176121461,
          -0.28166377583541674,
          -0.41162550435958856,
          -0.30581249151867257,
          -0.13781084704463495,
          -0.30606516455962124,
          -0.3065937850633369,
          -0.3344238015143746,
          -0.19485026708749026,
          2.2300321189804726,
          -0.36040017411469083,
          -0.27131965720420764,
          0.9825043938363653,
          -0.35866477597160595,
          -0.36481947875858645,
          -0.3937606149312166,
          -0.18642592937088573,
          -0.3486080486535142,
          -0.36353535257337427,
          -0.3281085569259066,
          -0.35313506688976276,
          -0.38184392450247223,
          -0.3033026267520525,
          -0.3745860826322748,
          -0.3306537833200889,
          -0.35299593398300727,
          -0.19430489250646257,
          -0.09175881151984734,
          -0.3460916061681453,
          0.32222547045498073,
          -0.1429521590056467,
          -0.3930532113384572,
          -0.28084710585778405,
          -0.334955353653117,
          -0.39351065503811933,
          -0.36493679106240134,
          0.574207588647177,
          -0.3536133556338554,
          -0.33443669775029417,
          -0.3693521512199587,
          -0.2611774571014282,
          -0.379400911601764,
          -0.38207182957609676,
          3.6919961882477583,
          0.1012436237983133,
          -0.3796050271856542,
          -0.3338201811922638,
          -0.33464783743814824,
          -0.2725376305345381,
          -0.3351677229136448,
          -0.3736758833642382,
          -0.24860741933171088,
          -0.08045424597005042,
          -0.3694113314547782,
          -0.334444074589049,
          -0.32748871290309817,
          -0.3786307420399429,
          -0.3328786482252523,
          -0.3760828267538202,
          -0.38876906948970213,
          -0.2998935712077975,
          3.675243148629903,
          -0.11280288610453253,
          -0.330065514517431,
          -0.3292391526096851,
          -0.4267221622698696,
          -0.2567446147526304,
          3.685136896128778,
          3.6863843405418706,
          -0.2533804831121195,
          -0.37601852384595114,
          -0.3898578223660414,
          2.456462765827871,
          -0.3333250661503419,
          -0.3064628258313888
         ],
         "y": [
          0.9217985619639767,
          0.9216656021774245,
          1.454619135275007,
          1.1273005078681493,
          2.094693706334641,
          0.7394703945193797,
          0.6927357034267887,
          1.646422974934029,
          0.9217917255706615,
          0.9219097104964944,
          0.9218200881590617,
          0.9217982709964191,
          0.9217981468776695,
          1.0069308931449834,
          0.8319970643982211,
          1.7287601690462466,
          0.24471795599276125,
          0.921742552586859,
          1.0808634322457933,
          1.1273020156142677,
          1.6901289389541057,
          0.8787810668862837,
          0.7383216531258981,
          0.8750495007859934,
          1.6370202985710294,
          1.6370113897540872,
          0.3899592765450862,
          0.9215868287745163,
          0.9217530060320077,
          0.9269264486589814,
          1.080578694869922,
          1.1273120587856682,
          0.2117321126405616,
          1.6847675465010814,
          1.127306340970553,
          0.9210358045202595,
          0.9217476624794471,
          0.2698777526437967,
          1.1273099922516288,
          0.21179525214393294,
          1.6370145273619796,
          0.9212275818875919,
          2.433391001960558,
          1.6086683771568129,
          0.7394495563853273,
          0.8320084053308359,
          0.875061082995681,
          1.6370019299699385,
          0.8747884437288204,
          0.9217988187368301,
          1.6370040113130813,
          1.0805583582433795,
          0.9217886545510013,
          1.1273123239541534,
          1.701241256813287,
          1.5606105363670695,
          1.2997941000393474,
          0.8750141332451429,
          1.6369829258879305,
          0.7388939655815034,
          1.6466140807028669,
          0.8454249861877831,
          0.7394708109747584,
          1.113388730176619,
          0.7394779302055021,
          1.3216984381602181,
          0.9217750676476395,
          0.8749314692026638,
          1.1270846828502739,
          0.8224335542182641,
          0.739460191113027,
          1.022902623734242,
          1.7287507366242885,
          1.1272908305682625,
          0.7393505721475238,
          0.7391728598437564,
          1.3198979666753394,
          1.1272333606284541,
          1.6935099779097589,
          0.9207470551357556,
          0.9217728926423964,
          0.9217563673493313,
          1.5901480057789448,
          1.080292606337812,
          1.127284938284128,
          0.9217523945095776,
          0.7394708700904828,
          1.1273103836108196,
          0.9217864794222764,
          0.9217989013075897,
          0.8750859941117832,
          0.3056926041811198,
          1.6854704056528178,
          1.7287279574363041,
          0.9218044258261057,
          1.1264630569239442,
          1.7287613145325877,
          1.5902654495765556,
          1.84520359028654,
          1.728582635557149,
          1.6896923972718185,
          2.347621198769421,
          1.127297361708744,
          1.6526277946669783,
          1.1273104332795862,
          1.7287380782345785,
          0.9217785480608055,
          0.9217739220658404,
          1.7287507366242885,
          1.1272773088569314,
          0.7394735347113451,
          0.921782406474296,
          0.7345671105628916,
          0.921783787960168,
          0.9214121140218721,
          1.127309217346192,
          0.9217140786531601,
          0.8615638644209348,
          0.9217914102111853,
          0.9217971628967201,
          1.553099352268084,
          0.5654459668470428,
          0.9215043207182155,
          0.7394712078001939,
          1.1273074659773354,
          0.9217886925097477,
          0.9217855246148791,
          0.8750240114397212,
          0.3844154903158168,
          1.5902603757870006,
          0.9213766156580244,
          0.8750420858352477,
          1.1272546749496424,
          1.70752438196234,
          1.1272657553486574,
          1.7287127870268273,
          1.1272561370334049,
          1.7285906456531255,
          1.1270349076366577,
          0.921786840310811,
          0.9217816924624951,
          0.9212017828565857,
          0.6479936596267373,
          1.1272911881358751,
          0.8739142198799982,
          1.728743261934511,
          0.9217396270708335,
          1.6000215040735084,
          0.6926234516788049,
          1.693481028168571,
          1.5395289075765557,
          1.3199318484950682,
          1.3198764733556836,
          1.7912883456617505,
          1.6369945528215328,
          0.8935373744059933,
          1.6370012926326913,
          1.7904363646287478,
          1.7912954347322396,
          1.1273085832229675,
          0.8750492034715227,
          1.7287231082710481,
          0.9217731798450713,
          0.9217967898071391,
          2.0963130364119977,
          1.7611597703728934,
          1.1272972141201174,
          0.38975416390367384,
          0.9217893708186062,
          0.7790418855435497,
          0.9153534409477957,
          0.7394397150276659,
          1.3193189014644666,
          1.7325644368305435,
          0.9217864038073955,
          1.5997346983548961,
          1.58302206170865,
          0.921792597494556,
          0.6889435491171751,
          1.1272327920965786,
          2.34742883994054,
          1.3069986767271262,
          1.636915500435614,
          0.9216926321206939,
          1.2731806277709996,
          1.5530974940704316,
          0.8928143536313465,
          0.9217105047179679,
          1.1272901177327397,
          1.5530396167722413,
          0.9213647639086532,
          0.9217966126007435,
          1.0805580617918484,
          1.6935118775317557,
          0.053717765196698006,
          0.3747664246803585,
          0.9217011683041616,
          1.5898292951746913,
          0.7805524661438292,
          1.1272975167089059,
          1.8713422410776417,
          0.874986789134326,
          1.4904515343086968,
          1.319909655947566,
          0.9217969193011303,
          0.9217957844313717,
          0.8748046503643466,
          1.6354912334918048,
          1.728710477949555,
          0.9217823842842005,
          2.472463911043131,
          1.5997537695692166,
          1.7287133635102858,
          0.7448916048550658,
          0.9189870560495714,
          2.0438493363126446,
          0.8750475799515304,
          0.9174947094802258,
          0.8750314003893579,
          1.693929313062655,
          0.9217522033506833,
          1.5998367555545476,
          0.21740778307017536,
          1.5527189773446715,
          0.6926913351874779,
          2.0073223080021805,
          0.7916171169578805,
          1.5530951701509186,
          1.5998466605784105,
          0.86498140218769,
          0.8257652430087984,
          1.5530583329983316,
          0.9212026406310009,
          1.0805403680379964,
          1.127287598340796,
          0.8749199926493111,
          1.7286354650721594,
          0.8329855580984822,
          1.0805109263665738,
          0.911240370892316,
          2.9404084914810924,
          1.8246070895542361,
          2.64381951947206,
          1.08358018943262,
          1.5998226456206563,
          0.056318410942764394,
          0.9217886126762137,
          1.599840532568318,
          1.5530988238075827,
          0.8825449826617597,
          1.0805581919840732,
          0.9217520191926263,
          1.8711143447526233,
          1.691155644493138,
          1.1270640725223104,
          1.1272983120762947,
          2.347254934032067,
          0.9035878152333428,
          1.1273544903025896,
          0.921679807383853,
          0.921769777569582,
          0.6927293001286597,
          0.9218002466737204,
          1.127089952974165,
          0.9157030128271404,
          0.7425079168823996,
          1.1268016452979903,
          0.9218001041986141,
          0.9216305384912604,
          1.1272231336277472,
          0.9217211888937429,
          1.7287544721647994,
          0.7307732875895794,
          0.7394336915015399,
          2.3476024229613364,
          0.8708316337445691,
          0.9216635828853309,
          0.3899252470038623,
          0.6089257490952595,
          1.6370086915997653,
          2.3478553942706606,
          2.3478732077583286,
          0.692319119708315,
          1.728755645929954,
          1.9642093497331305,
          1.0322441359745411,
          0.9216519570778867,
          0.8750557534579171
         ],
         "z": [
          -0.4658902744492687,
          -0.4664548515510434,
          -0.6093517605935361,
          -0.42734733894114935,
          -0.08358034447413909,
          -0.3269744963280445,
          -0.028473191379649113,
          -0.6204291077896162,
          -0.4659013270461962,
          -0.4661735637326649,
          -0.4659451391771216,
          -0.46589038189014753,
          -0.46589091465754656,
          -0.26996242899831957,
          -0.3545953455675445,
          0.039590542397898554,
          -0.33246989975263863,
          -0.46595130820304487,
          -0.1295833523071357,
          -0.42735118180272025,
          -0.34874162679371784,
          -0.17687929031273816,
          -0.32811764128063997,
          -0.16739595425759196,
          -0.5407315585547403,
          -0.5407088522450333,
          -0.31140967238954087,
          -0.4660638765149464,
          -0.4659405903376674,
          -0.478959954021873,
          -0.1288576291181047,
          -0.4273394199520824,
          0.06397982569316728,
          -0.03661973769636267,
          -0.4273418272874151,
          -0.4666633660774584,
          -0.46593036743871324,
          -0.40135248913896815,
          -0.42734349144384437,
          0.06398872205739764,
          -0.540716849209951,
          -0.46613322038860927,
          -0.19945195361885223,
          -0.010217872377481384,
          -0.32699950375914766,
          -0.3546168124784774,
          -0.1673979970193209,
          -0.5407051204089184,
          -0.16755222337402942,
          -0.4658909288266771,
          -0.540707028765342,
          -0.12883976080831902,
          -0.4658989874823715,
          -0.4273400941009142,
          0.06650377442828626,
          -0.7511318868110552,
          -0.043255851990746635,
          -0.16744815694798568,
          -0.5407212165398265,
          -0.3271661935361728,
          -0.6203664676648811,
          -0.3980622390871157,
          -0.3269755577669403,
          -0.43694037506486083,
          -0.32697417324194766,
          -0.5503262006216326,
          -0.4659017189593097,
          -0.16744304241713517,
          -0.4274120147611245,
          -0.2013884831994935,
          -0.32697905856243764,
          -0.2463880661862323,
          0.03958061866211529,
          -0.42741268010492695,
          -0.32700997659359576,
          -0.32707036530162525,
          -0.5458900971151313,
          -0.42737489049861094,
          -0.016614909202496204,
          -0.46660670892973133,
          -0.4659001379577952,
          -0.46595255393921403,
          -0.2422353208455314,
          -0.12924419867991635,
          -0.42735520644356034,
          -0.46592544588981744,
          -0.32697401020881534,
          -0.42734024334624005,
          -0.46589514186126163,
          -0.4658911392785531,
          -0.16746148912170108,
          -0.1334720338761575,
          -0.6993078128525242,
          0.03954697265143065,
          -0.46590521987188177,
          -0.42772287194789194,
          0.03951969385448098,
          -0.24219925519823607,
          -0.6071246179178416,
          0.03953186317880683,
          -0.6888509221243301,
          -0.10701160440275106,
          -0.42735290601322246,
          -0.5819545932946347,
          -0.4273418190836465,
          0.039561934807285974,
          -0.4659047137751136,
          -0.4658987991625175,
          0.03958061866211529,
          -0.4273527432638726,
          -0.32697910342095104,
          -0.4659051397011722,
          -0.1453790623916154,
          -0.46590016961208536,
          -0.4660102862597255,
          -0.42734066729233305,
          -0.4659194928821888,
          -0.18821479531533536,
          -0.46589412335612396,
          -0.46589233948045916,
          -0.11293902000402213,
          -0.2874764620374869,
          -0.4659894427797984,
          -0.3269748709450212,
          -0.427343597587735,
          -0.46589908422956666,
          -0.465894293313165,
          -0.16739691364632914,
          -0.16303937727666187,
          -0.24220674414032473,
          -0.46651306958410343,
          -0.1674080420391878,
          -0.4273629843510198,
          -0.5713322665879024,
          -0.42740820776218574,
          0.039524009384560306,
          -0.4273667108308586,
          0.03934332280159707,
          -0.4274821449679097,
          -0.46589642190444736,
          -0.4658958476586527,
          -0.4660674652168535,
          -0.04178304847705753,
          -0.4273541534361261,
          -0.16787139263454545,
          0.039582687455457614,
          -0.4659183783702022,
          -0.6544097910114826,
          -0.02850565115227262,
          -0.01665405590514381,
          -0.7814089412183807,
          -0.5458405949343594,
          -0.5458862629794264,
          -0.6097762912548834,
          -0.5407168860563648,
          -0.4787711453962811,
          -0.5407152107010988,
          -0.11714990078340314,
          -0.609794359493473,
          -0.42734670545210957,
          -0.16739727832266296,
          0.03958039004099131,
          -0.4659075247586534,
          -0.465892890162791,
          -0.08174821103684701,
          0.001313407876283302,
          -0.427347435160094,
          -0.3115597817153317,
          -0.4658935672884492,
          -0.048827771546280756,
          -0.491919026263119,
          -0.32702876397071895,
          -0.5462992413719211,
          -0.3340081521694384,
          -0.46589494913815305,
          -0.41148515899011273,
          -0.05410954164646573,
          -0.4659001863419096,
          -0.034070787878050714,
          -0.4273819326007789,
          -0.10715816655124806,
          -0.5638071178594363,
          -0.540821082854424,
          -0.46597691424196375,
          -0.24734337936535344,
          -0.11294277507596316,
          -0.4769283492382173,
          -0.46592057320437297,
          -0.4273684075414227,
          -0.11296508346351485,
          -0.46631303957988857,
          -0.4658920988629202,
          -0.12884070345780474,
          -0.016605315908900305,
          0.12999438921934292,
          0.018607347836621015,
          -0.466036031843399,
          -0.24244194598071042,
          -0.3064623453599207,
          -0.4273448099238397,
          -0.2785355015143575,
          -0.16741922125844722,
          0.06691254708711061,
          -0.5458519609354063,
          -0.4658911823351623,
          -0.46589168629879624,
          -0.16759352996815477,
          -0.10635830742595627,
          0.03956774821265476,
          -0.46589998845702435,
          -0.007332210512695291,
          -0.4115337666673915,
          0.039573979484509844,
          0.011890252819284082,
          -0.4674227070057849,
          0.10555043945330243,
          -0.16740773514838586,
          -0.4722427850651974,
          -0.1673970656807713,
          -0.6870726588681132,
          -0.46591476929991865,
          -0.32188081311129463,
          -0.36967898458963894,
          -0.11304791648288104,
          -0.02850914834486732,
          -0.04877096081534219,
          -0.2866352867080692,
          -0.11293855022495937,
          -0.4114396239986067,
          -0.17037355980551844,
          -0.34733245631215537,
          -0.11297882178446342,
          -0.46606965146578616,
          -0.12885334636577309,
          -0.42736198625180455,
          -0.16747993315292414,
          0.03955175302079593,
          -0.35254302605685606,
          -0.12885472733811387,
          -0.469548252710427,
          -0.15230604502208808,
          0.01996782606967983,
          0.22340941395233763,
          -0.13650767575927988,
          -0.41146137276830647,
          0.1384022365769885,
          -0.4659005789832615,
          -0.41144758516771773,
          -0.11293490497914371,
          -0.4928704143252749,
          -0.12883882758688814,
          -0.46591429992784505,
          -0.27870187250916506,
          -0.6883246052537475,
          -0.4274206205212521,
          -0.42735532825851913,
          -0.1075640391378296,
          -0.4789137280001411,
          -0.4274475654041222,
          -0.46592724495710136,
          -0.4659090495927886,
          -0.028471305947646023,
          -0.46589456827481973,
          -0.427622441540338,
          -0.4681856744808193,
          -0.3350016711589445,
          -0.4277367331027148,
          -0.4659196785781701,
          -0.46614131689006594,
          -0.4274660022800015,
          -0.4659647867432231,
          0.039589778238815855,
          -0.12086140202563955,
          -0.32702190267923525,
          -0.10702304908312828,
          -0.17361550174936058,
          -0.46605571574259763,
          -0.3114187167093047,
          -2.7831852275642657,
          -0.5407021791230442,
          -0.10739623056659124,
          -0.10744163261835651,
          -0.029088426594601396,
          0.03958740792390732,
          0.34824455786091435,
          -0.08789281661271568,
          -0.4659411730608477,
          -0.167386111611443
         ]
        },
        {
         "hovertemplate": "class=%{marker.color}<br>PC 1=%{x}<br>PC 2=%{y}<br>PC 3=%{z}<extra></extra>",
         "legendgroup": "1",
         "marker": {
          "color": [
           1,
           1,
           1,
           1,
           1,
           1,
           1,
           1,
           1,
           1,
           1,
           1,
           1,
           1,
           1,
           1,
           1,
           1,
           1,
           1,
           1,
           1,
           1,
           1,
           1,
           1,
           1,
           1,
           1,
           1,
           1,
           1,
           1,
           1,
           1,
           1,
           1,
           1,
           1,
           1,
           1,
           1,
           1,
           1,
           1,
           1,
           1,
           1,
           1,
           1,
           1,
           1,
           1,
           1,
           1,
           1,
           1,
           1,
           1,
           1,
           1,
           1,
           1,
           1,
           1,
           1,
           1,
           1,
           1,
           1,
           1,
           1,
           1,
           1,
           1,
           1,
           1,
           1,
           1,
           1,
           1,
           1,
           1,
           1,
           1,
           1,
           1,
           1,
           1,
           1,
           1,
           1,
           1,
           1,
           1,
           1,
           1,
           1,
           1,
           1,
           1,
           1,
           1,
           1,
           1,
           1,
           1,
           1,
           1,
           1,
           1,
           1,
           1,
           1,
           1,
           1,
           1,
           1,
           1,
           1,
           1,
           1,
           1,
           1,
           1,
           1,
           1,
           1,
           1,
           1,
           1,
           1,
           1,
           1,
           1,
           1,
           1,
           1,
           1,
           1,
           1,
           1,
           1,
           1,
           1,
           1,
           1,
           1,
           1,
           1,
           1,
           1,
           1,
           1,
           1,
           1,
           1,
           1,
           1,
           1,
           1,
           1,
           1,
           1,
           1,
           1,
           1,
           1,
           1,
           1,
           1,
           1,
           1,
           1,
           1,
           1,
           1,
           1,
           1,
           1,
           1,
           1,
           1,
           1,
           1,
           1,
           1,
           1,
           1,
           1,
           1,
           1,
           1,
           1,
           1,
           1,
           1,
           1,
           1,
           1,
           1,
           1,
           1,
           1,
           1,
           1,
           1,
           1,
           1,
           1,
           1,
           1,
           1,
           1,
           1,
           1,
           1,
           1,
           1,
           1,
           1,
           1,
           1,
           1,
           1,
           1,
           1,
           1,
           1,
           1,
           1,
           1,
           1,
           1,
           1,
           1,
           1,
           1,
           1,
           1
          ],
          "coloraxis": "coloraxis",
          "symbol": "diamond"
         },
         "mode": "markers",
         "name": "1",
         "scene": "scene",
         "showlegend": true,
         "type": "scatter3d",
         "x": [
          -0.1391567105965107,
          -0.1477301637754863,
          -0.17188687419306292,
          -0.1414610800877914,
          -0.14616734369632214,
          -0.14830393279323223,
          0.1590840706340978,
          -0.17303639457288983,
          -0.2202682856530178,
          -0.17265176888674308,
          -0.09506252273269246,
          2.5573479494238587,
          -0.1362333388160897,
          -0.16989920487622798,
          -0.1724551594944084,
          -0.22690463106202452,
          -0.20078102193709962,
          -0.17250422224876225,
          -0.17301861287292544,
          -0.17310532519136249,
          -0.2203578745935616,
          0.1828834425027222,
          0.2397714786977035,
          0.07633597090970246,
          -0.1728509131382606,
          -0.16844353936015247,
          -0.1727900094887247,
          -0.17316248743970986,
          -0.16270607740370327,
          -0.15232455082452978,
          -0.17195416914295444,
          -0.1722323564026636,
          1.5807329240135917,
          -0.1391179760811722,
          -0.16951385636089641,
          -0.17287742898277333,
          -0.17323325517590998,
          -0.172490386117531,
          -0.1811662061664455,
          -0.17311417532109238,
          -0.03760942190624013,
          -0.13919579545497116,
          -0.16676002869845372,
          -0.1730935273206899,
          -0.17118202546885766,
          -0.1725787957046992,
          -0.12631061826058104,
          -0.13865804005633925,
          -0.1389460333164583,
          -0.13892885470241514,
          -0.13952139764541782,
          -0.2205322926690091,
          -0.172809247676324,
          -0.1858912093098134,
          -0.16990388373566725,
          -0.13872552214547607,
          3.8829034856744107,
          0.4721800533179249,
          -0.17167354036817473,
          -0.15622611908502435,
          -0.17038872087236992,
          -0.173235466472154,
          -0.17025341688611467,
          -0.15643738271553753,
          -0.11132849769536472,
          -0.12916681068434963,
          -0.18575098639289356,
          -0.17310820027117746,
          -0.045673307075707735,
          -0.10208853728220704,
          -0.1732443891672672,
          -0.13922364773834145,
          0.4809519856984999,
          -0.2199177273702426,
          -0.16324267341694482,
          -0.1389627084802265,
          -0.22020343009104726,
          -0.17136247343136388,
          -0.17055241821677905,
          -0.14880044278527257,
          0.38109500297335347,
          -0.22023893758314408,
          -0.13911910145333198,
          -0.16919072372463642,
          -0.15552951860571845,
          -0.17180361724699292,
          0.28055784050876964,
          -0.21939719043036077,
          -0.1470127287678801,
          -0.17205144872308034,
          -0.1514907150341548,
          -0.17303367546240941,
          -0.22020205431591588,
          -0.1732444478289142,
          -0.22035242912797876,
          -0.2555979805605068,
          0.31663641830147443,
          -0.13937992135872573,
          -0.1091819357330023,
          -0.17040291682957986,
          -0.13933843687322084,
          -0.17290685121224092,
          -0.14683880758626794,
          -0.14854187687899917,
          -0.14832560806062853,
          -0.0997423758730454,
          -0.20689815844620463,
          -0.21817410719368802,
          0.3166308007936553,
          -0.17322613006560877,
          0.31676188103326924,
          -0.163784744661889,
          0.4971254674531106,
          -0.14022189024508513,
          -0.17319432982089372,
          -0.2130639300997146,
          -0.14833802845836067,
          -0.1713222726207792,
          -0.1635023326382009,
          -0.12836502206122788,
          -0.1440274535787737,
          -0.18067262857615582,
          -0.1727554300439237,
          -0.10560673944344062,
          -0.17257690404405648,
          -0.14007948795166889,
          -0.14696403465522348,
          -0.02028504695384888,
          -0.14364292698874445,
          0.352856148397237,
          -0.21940555760226382,
          -0.17289718659324335,
          -0.17265975949074153,
          -0.21980142294604396,
          -0.2203805558784171,
          0.317026953091234,
          -0.12528513225787022,
          3.2462491999218965,
          -0.10827870323776806,
          -0.21122479314398304,
          -0.13915587256286951,
          -0.09858547671796575,
          1.578479620818489,
          -0.17299529543848785,
          -0.17244526598714832,
          -0.17214538694863074,
          -0.17213228267656738,
          0.3172111640892414,
          0.06462426392581663,
          -0.1746392004348653,
          -0.16740838700773011,
          -0.14818365288010343,
          -0.1457680965727314,
          -0.17132047695245456,
          -0.21591197231919448,
          -0.16725332758775205,
          -0.1469019008233875,
          -0.16735384291229638,
          -0.11937030180312791,
          1.1570895441669107,
          0.3166134980959413,
          -0.07155915993909723,
          -0.21565223979305612,
          -0.1291595006442139,
          -0.08914282612433248,
          1.0951395631107383,
          -0.22035448170669364,
          -0.16740595740450845,
          -0.16042361425327642,
          -0.17224414479590652,
          -0.22027967848211952,
          -0.1391352170197791,
          -0.17633261942241168,
          8.078345687133968,
          -0.12341886821358536,
          0.3204993511387511,
          0.020346413274932997,
          -0.14527014593955642,
          -0.17140726013866955,
          -0.17281948808739708,
          0.13513993753386538,
          -0.21440335234978647,
          -0.4200241089018667,
          -0.0997949695376332,
          0.32456098572189984,
          -0.17305719513518172,
          -0.15075278115786434,
          -0.14717187695971914,
          -0.14461550078848373,
          -0.21944643991298765,
          0.31679652657056434,
          -0.18073233318590465,
          -0.16362951665952769,
          -0.159922997118634,
          -0.146923444587479,
          0.32073709481654916,
          0.5846569671644701,
          2.130714300034418,
          -0.1775058390465967,
          0.33044111612916705,
          -0.1974182120640851,
          -0.13783370707254222,
          -0.2203365901995581,
          -0.17308183986709885,
          -0.12903677520340748,
          -0.1464400661188045,
          -0.21164123876227176,
          3.114571409091551,
          -0.09886904931861851,
          -0.22030786649895928,
          -0.19684415581233392,
          -0.34324867706503615,
          -0.04262320774528065,
          -0.1463193507853587,
          -0.13915591022956145,
          0.3967961281257866,
          -0.13463037806882452,
          -0.13502370146942283,
          -0.1443899686175761,
          -0.17197085440856974,
          -0.1462377946393054,
          -0.14801599113609215,
          -0.1849595297139951,
          -0.13842997119252776,
          -0.0946886079736048,
          -0.13729454317158005,
          0.5250083276957221,
          -0.09235778593680977,
          -0.08533446740918903,
          -0.15658837470402237,
          -0.13894540207064807,
          0.5446751278584475,
          -0.20034077507653483,
          -0.17315893726183346,
          -0.17110860181113577,
          -0.12990366833277583,
          -0.12594250888040467,
          -0.14857512999721506,
          0.33843347132206186,
          -0.1483049925900208
         ],
         "y": [
          -1.2776973943222716,
          -1.916691777909927,
          -1.0954118440568286,
          -2.1344767186420643,
          -1.9168161271363313,
          -1.9140615800115,
          -1.769190321318776,
          -1.0953842593085894,
          -0.8898692239269553,
          -1.0954087985251169,
          -1.7595497251598087,
          -1.324569502822724,
          -1.2777595690665382,
          -1.0954993963659962,
          -1.0954311337357279,
          -0.4174246207261744,
          -1.1852136651759757,
          -1.0953956329242691,
          -1.095384005386178,
          -1.0953797541276873,
          -0.8898691064340378,
          -1.765746030511708,
          -1.2869382661756565,
          -1.101237105189075,
          -1.0953816106364611,
          -1.0955133850758954,
          -1.0953884234523596,
          -1.0953792404989242,
          -1.6273743794255329,
          -1.0960659969973194,
          -1.095403027276117,
          -1.0954085682072456,
          -1.1336018139125306,
          -1.277696841193962,
          -1.0955046636486245,
          -1.0953812908714982,
          -1.0953733467023017,
          -1.0953911289433549,
          -2.141528370473933,
          -1.0953776874974084,
          -1.1039118599461508,
          -1.2776979524534624,
          -1.0955153307188985,
          -1.095385075163378,
          -1.0955177150249826,
          -1.0953988168105637,
          -1.2781194745026554,
          -1.2777084403544765,
          -1.277709052481228,
          -1.2777353467823405,
          -1.2776881100232185,
          -0.8898590257266566,
          -1.09538241247594,
          -1.191418235198791,
          -1.0955102332337368,
          -1.2777079988174695,
          -2.3176588105322358,
          -2.2445139406756525,
          -1.0954235480896675,
          -1.0963028723883363,
          -1.0954479897241647,
          -1.0953742708486176,
          -1.0954415975337053,
          -1.0958309698667625,
          -2.1123013544760876,
          -1.7586399122285103,
          -1.4516824491712477,
          -1.0953729726437693,
          -1.1005349579661985,
          -2.2105149003239264,
          -1.0953729954910576,
          -1.2776983501836554,
          -1.1502844445167588,
          -0.889873297300655,
          -2.1300543717591323,
          -1.2777175039136563,
          -0.8898689962013228,
          -1.0954925230046806,
          -1.0955087242427857,
          -1.9167188690890031,
          -2.1803643573871496,
          -0.8898660111936415,
          -1.27769685726426,
          -1.0954613428325644,
          -2.006082098802513,
          -1.0954106551488747,
          -1.2867932382688962,
          -0.8899014829931247,
          -2.1545924979288147,
          -1.0954731060399479,
          -2.198851691211071,
          -1.0953835220689039,
          -0.8898717701985865,
          -1.0953729942125605,
          -0.889873917548667,
          -1.1688975415463714,
          -2.239757977298454,
          -1.2776927148690629,
          -1.7591926215050502,
          -1.0954716688237969,
          -1.2776927526459203,
          -1.0953886951287777,
          -2.1257973047980427,
          -1.91672167139317,
          -1.9140618895339954,
          -1.1013070634645954,
          -0.8900135359067259,
          -0.889984588541932,
          -2.2397657400354904,
          -1.0953741977879474,
          -2.2397666618549303,
          -2.130023148816224,
          -0.9494519663891503,
          -2.134588229032725,
          -1.095374194654575,
          -0.8904507884482765,
          -1.914059273253778,
          -1.0954149561280189,
          -2.1300267984965324,
          -2.1520735632349504,
          -1.0977489887473857,
          -0.6972612378382806,
          -1.0953903883438814,
          -1.2789496616758411,
          -1.0954133167429008,
          -2.1345303226638497,
          -2.123293932090008,
          -2.186333715421136,
          -2.107156297281809,
          -2.240630597639111,
          -0.889912777049464,
          -1.095381067919171,
          -1.095416595149932,
          -0.8898904935675639,
          -0.8898700588921934,
          -2.2397831305438975,
          -2.286529745714351,
          -1.1862244108483206,
          -1.18656043715461,
          -0.8904943666827025,
          -1.2776973823551567,
          -1.1016397483758908,
          -1.0703579700271575,
          -1.095382974002733,
          -1.0954198178833423,
          -1.0954267101883808,
          -1.0954265230595706,
          -2.239804866790743,
          -1.9256729292903778,
          -0.890460812542495,
          -1.6272257193908855,
          -1.9140598624161291,
          -2.154662938589356,
          -1.095414930485902,
          -0.8900374914105856,
          -1.6272360765395786,
          -1.9168755053591455,
          -1.627228292873988,
          -1.7589609693738784,
          -2.287114255435093,
          -2.239760050625718,
          -1.9225881653883585,
          -0.8901734645995851,
          -2.13499910098375,
          -1.0976636479108466,
          -1.220190288214191,
          -0.8898703151231544,
          -1.6272214942312182,
          -1.6274563252614864,
          -1.0954029776591607,
          -0.8898714818488697,
          -1.277696504919678,
          -1.236620897754638,
          -2.8273247283027625,
          -2.2457246524524694,
          -2.2399304966049254,
          -1.099592197341331,
          -2.1546165026299033,
          -1.1919209900213095,
          -1.0953944316929352,
          -1.1038244732734082,
          -0.8901207099640639,
          -2.6585408690185126,
          -1.9205469344313666,
          -2.240336241313303,
          -1.0953845563403097,
          -2.146345796743172,
          -1.9140796364016062,
          -2.125960133266725,
          -0.8899133608482531,
          -2.239761557605708,
          -0.6972430573273337,
          -2.1300323022916374,
          -2.1941221244223903,
          -2.1257909007351348,
          -2.240111482449125,
          -2.1694996943901996,
          -2.342353580376622,
          -2.0451975411259835,
          -2.2402522731385273,
          -1.2255231233137904,
          -2.0725697266738634,
          -0.8898708977256922,
          -1.0953856801943618,
          -2.1355215187021583,
          -2.1192476568987666,
          -0.14591607893523828,
          -2.2621036376068293,
          -1.2785740832298302,
          -0.8898732811949872,
          -1.2255693489739405,
          -0.2121148733696807,
          -1.9178457164951341,
          -2.1258336074804856,
          -1.2776973828930367,
          -2.2442494732165477,
          -2.1410446706002793,
          -2.1409944903724396,
          -2.0961983615502047,
          -1.0954381860828648,
          -1.9142009513276093,
          -1.9140643726983633,
          -1.4517409882644472,
          -1.2777170481599889,
          -0.3801636061993761,
          -1.2777734689908515,
          -1.1539156266592896,
          -1.6289287841434743,
          -2.1451561845782225,
          -1.095833126030113,
          -1.2777090434670468,
          -1.1200412242161282,
          -1.1852220450847424,
          -1.0953748346431162,
          -1.0954691745999345,
          -1.7586523900950908,
          -2.068778256534634,
          -1.9167209466602582,
          -2.2404176622296768,
          -1.9140615951453812
         ],
         "z": [
          0.13206070335106007,
          0.2904854318921019,
          -0.006890803814410348,
          0.3547605719849131,
          0.2904457383533256,
          0.29895786177762623,
          0.21576981917238736,
          -0.0068541218934999575,
          0.03169451106149145,
          -0.006864601518975903,
          0.22346474275739248,
          -0.0748034998949027,
          0.13196648197468072,
          -0.006949561261740987,
          -0.006868810991710709,
          0.04744693842657748,
          0.10441238789470417,
          -0.006871267529526378,
          -0.006854769077177102,
          -0.006852256373814949,
          0.03169760806006991,
          0.21453982572021993,
          0.11998618877711115,
          -0.014827135325163431,
          -0.006860872685445662,
          -0.006998466596296831,
          -0.006862189069445151,
          -0.006850331737229966,
          0.14748237956097143,
          -0.007493403572162557,
          -0.006889500340058434,
          -0.0068791916281938,
          -0.06327118206345465,
          0.13205929356761703,
          -0.00696232434827284,
          -0.006859989455970751,
          -0.0068485651514784435,
          -0.006872275751437044,
          0.30115649571625247,
          -0.006852191249739236,
          -0.010557209007030392,
          0.132062125885595,
          -0.007056694576642846,
          -0.006852042487038401,
          -0.006902871656704439,
          -0.006868305039751352,
          0.1316641138242581,
          0.1320446825987402,
          0.13205475422402022,
          0.1320572390083913,
          0.13207227828629145,
          0.0317024830229498,
          -0.006862225458602968,
          0.11168753912734337,
          -0.006948128891646881,
          0.13204697401571241,
          0.14789229991272493,
          0.25775030166342844,
          -0.0068968398080802035,
          -0.0073301727119098,
          -0.0069385879976951725,
          -0.006848380074205937,
          -0.006944035175345217,
          -0.007378136505325285,
          0.3313295005889851,
          0.22454231903293725,
          0.17159056832368114,
          -0.006852951224859625,
          -0.010672928330941843,
          0.36474360486858554,
          -0.006848219705956073,
          0.1320631395987497,
          -0.023128918194829054,
          0.03168281607755262,
          0.2979107074629013,
          0.13205632360290817,
          0.031692232417665306,
          -0.006899558124317488,
          -0.00692578687501064,
          0.2905257694858064,
          0.22251470659082342,
          0.031693115537287035,
          0.13205933452672075,
          -0.006978620881862916,
          0.3434369300310768,
          -0.006893834038554491,
          0.11855298260247228,
          0.031668044559667145,
          0.2872401947117927,
          -0.006877910423100347,
          0.4933838680101105,
          -0.006854302700968132,
          0.03169250971520845,
          -0.006848217818886724,
          0.03169798276469248,
          0.33222928247733785,
          0.2625938685062645,
          0.132067905466729,
          0.2239131595823095,
          -0.006935320264359144,
          0.13206646944163375,
          -0.006858100177159938,
          0.3073268361133184,
          0.29051711977341627,
          0.29895865067178695,
          -0.008705027689690116,
          0.031247175655181612,
          0.0316353144902999,
          0.26259497322976916,
          -0.0068487128206753504,
          0.2625905297968746,
          0.297925870792085,
          0.013766832006950617,
          0.35473061124451954,
          -0.006849817377135845,
          0.03151250669190986,
          0.29895877535490256,
          -0.006910043601309368,
          0.2979164923778559,
          0.3893492027233123,
          -0.007584281187026239,
          -0.08680757726748414,
          -0.006863159506093108,
          0.13104250461514888,
          -0.00686667156303262,
          0.354718880956709,
          0.438490873958012,
          0.23715120535984355,
          0.3561614454611072,
          0.2614384800625566,
          0.03166965857299708,
          -0.006859329545507043,
          -0.006863410424139197,
          0.03168079280538204,
          0.03169850722761709,
          0.2625832556553278,
          0.2589900205659429,
          -0.11493582067140788,
          0.10468232543052365,
          0.031453753625738025,
          0.13206067284993667,
          -0.008706212960722012,
          -0.07060410861819841,
          -0.006855699582315726,
          -0.006870480557621808,
          -0.006880085489404945,
          -0.006880562433172692,
          0.2625794064989233,
          0.29292509157070756,
          0.030179472297023873,
          0.1476282357082671,
          0.29895348406365035,
          0.2872052322827391,
          -0.0069101089565472154,
          0.0315629665066632,
          0.1476240653240187,
          0.29047820231345556,
          0.14762664336292344,
          0.22423978088983892,
          0.23896049381925713,
          0.26259490731771173,
          0.2885315338894015,
          0.031569881784452275,
          0.3543946432069658,
          -0.00950002236205501,
          0.031646633133957464,
          0.03169763188902976,
          0.14762765622481203,
          0.1474127290967743,
          -0.006879437426595423,
          0.03169517124323726,
          0.13205985281300256,
          0.15257915098304342,
          0.06194005730069754,
          0.2595455962308783,
          0.2624799536833333,
          -0.013075785507939898,
          0.2871825005572171,
          0.11124353262261569,
          -0.006860461424181125,
          -0.01656576765600548,
          0.031520335083004065,
          4.244383303453658,
          0.28927275684902426,
          0.2623864696939095,
          -0.00685336483515237,
          0.3339582499403799,
          0.2989206697011071,
          0.307268717866664,
          0.03167114652770537,
          0.2625887286750578,
          -0.08680763462943568,
          0.29792155350294486,
          0.5236916764607091,
          0.3073290244818788,
          0.26249290723600904,
          0.23159674839999,
          0.2116268121260955,
          0.39135600304325224,
          0.2621724561616537,
          0.1724306938197616,
          0.4009020771506696,
          0.031697078919903164,
          -0.006852377406630052,
          0.3544516008557232,
          0.16690991694726828,
          0.18047400651575204,
          0.1546030753807602,
          0.1307645422621433,
          0.0316963608609281,
          0.17241617796443698,
          0.31654857836843625,
          0.29573178553616086,
          0.30731305328217395,
          0.13206067422085566,
          0.26033684117035605,
          0.2844493027444067,
          0.284457079661185,
          0.4559812011729525,
          -0.00688480093318165,
          0.2989024520421085,
          0.29894819093385366,
          0.17156994668337738,
          0.13203777213690168,
          -0.08166054798014681,
          0.13200495866806186,
          -0.02423315536258268,
          0.14522185070347166,
          0.28321942099415526,
          -0.007372640993056002,
          0.1320547312491648,
          -0.028885577420684944,
          0.10439808334127439,
          -0.006850971304723219,
          -0.006911109283521585,
          0.22456936690147766,
          0.3451195639217906,
          0.29051818948322805,
          0.2619143212378239,
          0.29895790035004594
         ]
        },
        {
         "hovertemplate": "class=%{marker.color}<br>PC 1=%{x}<br>PC 2=%{y}<br>PC 3=%{z}<extra></extra>",
         "legendgroup": "3",
         "marker": {
          "color": [
           3,
           3,
           3,
           3
          ],
          "coloraxis": "coloraxis",
          "symbol": "square"
         },
         "mode": "markers",
         "name": "3",
         "scene": "scene",
         "showlegend": true,
         "type": "scatter3d",
         "x": [
          4.350750115561104,
          -0.25597678469443286,
          -0.23088940013182685,
          -0.35011188688480516
         ],
         "y": [
          0.6416456441996811,
          -1.919439720173226,
          6.108147832919289,
          5.747767706296859
         ],
         "z": [
          9.853008660291046,
          15.55541259483884,
          10.325026362707924,
          23.39495234417003
         ]
        },
        {
         "hovertemplate": "class=%{marker.color}<br>PC 1=%{x}<br>PC 2=%{y}<br>PC 3=%{z}<extra></extra>",
         "legendgroup": "2",
         "marker": {
          "color": [
           2
          ],
          "coloraxis": "coloraxis",
          "symbol": "x"
         },
         "mode": "markers",
         "name": "2",
         "scene": "scene",
         "showlegend": true,
         "type": "scatter3d",
         "x": [
          34.12245592462859
         ],
         "y": [
          1.4392136660743562
         ],
         "z": [
          -1.3392624474830812
         ]
        }
       ],
       "layout": {
        "coloraxis": {
         "colorbar": {
          "title": {
           "text": "class"
          }
         },
         "colorscale": [
          [
           0,
           "#0d0887"
          ],
          [
           0.1111111111111111,
           "#46039f"
          ],
          [
           0.2222222222222222,
           "#7201a8"
          ],
          [
           0.3333333333333333,
           "#9c179e"
          ],
          [
           0.4444444444444444,
           "#bd3786"
          ],
          [
           0.5555555555555556,
           "#d8576b"
          ],
          [
           0.6666666666666666,
           "#ed7953"
          ],
          [
           0.7777777777777778,
           "#fb9f3a"
          ],
          [
           0.8888888888888888,
           "#fdca26"
          ],
          [
           1,
           "#f0f921"
          ]
         ]
        },
        "legend": {
         "title": {
          "text": "class"
         },
         "tracegroupgap": 0,
         "x": 0,
         "y": 1
        },
        "margin": {
         "t": 60
        },
        "scene": {
         "domain": {
          "x": [
           0,
           1
          ],
          "y": [
           0,
           1
          ]
         },
         "xaxis": {
          "title": {
           "text": "PC 1"
          }
         },
         "yaxis": {
          "title": {
           "text": "PC 2"
          }
         },
         "zaxis": {
          "title": {
           "text": "PC 3"
          }
         }
        },
        "template": {
         "data": {
          "bar": [
           {
            "error_x": {
             "color": "#2a3f5f"
            },
            "error_y": {
             "color": "#2a3f5f"
            },
            "marker": {
             "line": {
              "color": "#E5ECF6",
              "width": 0.5
             }
            },
            "type": "bar"
           }
          ],
          "barpolar": [
           {
            "marker": {
             "line": {
              "color": "#E5ECF6",
              "width": 0.5
             }
            },
            "type": "barpolar"
           }
          ],
          "carpet": [
           {
            "aaxis": {
             "endlinecolor": "#2a3f5f",
             "gridcolor": "white",
             "linecolor": "white",
             "minorgridcolor": "white",
             "startlinecolor": "#2a3f5f"
            },
            "baxis": {
             "endlinecolor": "#2a3f5f",
             "gridcolor": "white",
             "linecolor": "white",
             "minorgridcolor": "white",
             "startlinecolor": "#2a3f5f"
            },
            "type": "carpet"
           }
          ],
          "choropleth": [
           {
            "colorbar": {
             "outlinewidth": 0,
             "ticks": ""
            },
            "type": "choropleth"
           }
          ],
          "contour": [
           {
            "colorbar": {
             "outlinewidth": 0,
             "ticks": ""
            },
            "colorscale": [
             [
              0,
              "#0d0887"
             ],
             [
              0.1111111111111111,
              "#46039f"
             ],
             [
              0.2222222222222222,
              "#7201a8"
             ],
             [
              0.3333333333333333,
              "#9c179e"
             ],
             [
              0.4444444444444444,
              "#bd3786"
             ],
             [
              0.5555555555555556,
              "#d8576b"
             ],
             [
              0.6666666666666666,
              "#ed7953"
             ],
             [
              0.7777777777777778,
              "#fb9f3a"
             ],
             [
              0.8888888888888888,
              "#fdca26"
             ],
             [
              1,
              "#f0f921"
             ]
            ],
            "type": "contour"
           }
          ],
          "contourcarpet": [
           {
            "colorbar": {
             "outlinewidth": 0,
             "ticks": ""
            },
            "type": "contourcarpet"
           }
          ],
          "heatmap": [
           {
            "colorbar": {
             "outlinewidth": 0,
             "ticks": ""
            },
            "colorscale": [
             [
              0,
              "#0d0887"
             ],
             [
              0.1111111111111111,
              "#46039f"
             ],
             [
              0.2222222222222222,
              "#7201a8"
             ],
             [
              0.3333333333333333,
              "#9c179e"
             ],
             [
              0.4444444444444444,
              "#bd3786"
             ],
             [
              0.5555555555555556,
              "#d8576b"
             ],
             [
              0.6666666666666666,
              "#ed7953"
             ],
             [
              0.7777777777777778,
              "#fb9f3a"
             ],
             [
              0.8888888888888888,
              "#fdca26"
             ],
             [
              1,
              "#f0f921"
             ]
            ],
            "type": "heatmap"
           }
          ],
          "heatmapgl": [
           {
            "colorbar": {
             "outlinewidth": 0,
             "ticks": ""
            },
            "colorscale": [
             [
              0,
              "#0d0887"
             ],
             [
              0.1111111111111111,
              "#46039f"
             ],
             [
              0.2222222222222222,
              "#7201a8"
             ],
             [
              0.3333333333333333,
              "#9c179e"
             ],
             [
              0.4444444444444444,
              "#bd3786"
             ],
             [
              0.5555555555555556,
              "#d8576b"
             ],
             [
              0.6666666666666666,
              "#ed7953"
             ],
             [
              0.7777777777777778,
              "#fb9f3a"
             ],
             [
              0.8888888888888888,
              "#fdca26"
             ],
             [
              1,
              "#f0f921"
             ]
            ],
            "type": "heatmapgl"
           }
          ],
          "histogram": [
           {
            "marker": {
             "colorbar": {
              "outlinewidth": 0,
              "ticks": ""
             }
            },
            "type": "histogram"
           }
          ],
          "histogram2d": [
           {
            "colorbar": {
             "outlinewidth": 0,
             "ticks": ""
            },
            "colorscale": [
             [
              0,
              "#0d0887"
             ],
             [
              0.1111111111111111,
              "#46039f"
             ],
             [
              0.2222222222222222,
              "#7201a8"
             ],
             [
              0.3333333333333333,
              "#9c179e"
             ],
             [
              0.4444444444444444,
              "#bd3786"
             ],
             [
              0.5555555555555556,
              "#d8576b"
             ],
             [
              0.6666666666666666,
              "#ed7953"
             ],
             [
              0.7777777777777778,
              "#fb9f3a"
             ],
             [
              0.8888888888888888,
              "#fdca26"
             ],
             [
              1,
              "#f0f921"
             ]
            ],
            "type": "histogram2d"
           }
          ],
          "histogram2dcontour": [
           {
            "colorbar": {
             "outlinewidth": 0,
             "ticks": ""
            },
            "colorscale": [
             [
              0,
              "#0d0887"
             ],
             [
              0.1111111111111111,
              "#46039f"
             ],
             [
              0.2222222222222222,
              "#7201a8"
             ],
             [
              0.3333333333333333,
              "#9c179e"
             ],
             [
              0.4444444444444444,
              "#bd3786"
             ],
             [
              0.5555555555555556,
              "#d8576b"
             ],
             [
              0.6666666666666666,
              "#ed7953"
             ],
             [
              0.7777777777777778,
              "#fb9f3a"
             ],
             [
              0.8888888888888888,
              "#fdca26"
             ],
             [
              1,
              "#f0f921"
             ]
            ],
            "type": "histogram2dcontour"
           }
          ],
          "mesh3d": [
           {
            "colorbar": {
             "outlinewidth": 0,
             "ticks": ""
            },
            "type": "mesh3d"
           }
          ],
          "parcoords": [
           {
            "line": {
             "colorbar": {
              "outlinewidth": 0,
              "ticks": ""
             }
            },
            "type": "parcoords"
           }
          ],
          "pie": [
           {
            "automargin": true,
            "type": "pie"
           }
          ],
          "scatter": [
           {
            "marker": {
             "colorbar": {
              "outlinewidth": 0,
              "ticks": ""
             }
            },
            "type": "scatter"
           }
          ],
          "scatter3d": [
           {
            "line": {
             "colorbar": {
              "outlinewidth": 0,
              "ticks": ""
             }
            },
            "marker": {
             "colorbar": {
              "outlinewidth": 0,
              "ticks": ""
             }
            },
            "type": "scatter3d"
           }
          ],
          "scattercarpet": [
           {
            "marker": {
             "colorbar": {
              "outlinewidth": 0,
              "ticks": ""
             }
            },
            "type": "scattercarpet"
           }
          ],
          "scattergeo": [
           {
            "marker": {
             "colorbar": {
              "outlinewidth": 0,
              "ticks": ""
             }
            },
            "type": "scattergeo"
           }
          ],
          "scattergl": [
           {
            "marker": {
             "colorbar": {
              "outlinewidth": 0,
              "ticks": ""
             }
            },
            "type": "scattergl"
           }
          ],
          "scattermapbox": [
           {
            "marker": {
             "colorbar": {
              "outlinewidth": 0,
              "ticks": ""
             }
            },
            "type": "scattermapbox"
           }
          ],
          "scatterpolar": [
           {
            "marker": {
             "colorbar": {
              "outlinewidth": 0,
              "ticks": ""
             }
            },
            "type": "scatterpolar"
           }
          ],
          "scatterpolargl": [
           {
            "marker": {
             "colorbar": {
              "outlinewidth": 0,
              "ticks": ""
             }
            },
            "type": "scatterpolargl"
           }
          ],
          "scatterternary": [
           {
            "marker": {
             "colorbar": {
              "outlinewidth": 0,
              "ticks": ""
             }
            },
            "type": "scatterternary"
           }
          ],
          "surface": [
           {
            "colorbar": {
             "outlinewidth": 0,
             "ticks": ""
            },
            "colorscale": [
             [
              0,
              "#0d0887"
             ],
             [
              0.1111111111111111,
              "#46039f"
             ],
             [
              0.2222222222222222,
              "#7201a8"
             ],
             [
              0.3333333333333333,
              "#9c179e"
             ],
             [
              0.4444444444444444,
              "#bd3786"
             ],
             [
              0.5555555555555556,
              "#d8576b"
             ],
             [
              0.6666666666666666,
              "#ed7953"
             ],
             [
              0.7777777777777778,
              "#fb9f3a"
             ],
             [
              0.8888888888888888,
              "#fdca26"
             ],
             [
              1,
              "#f0f921"
             ]
            ],
            "type": "surface"
           }
          ],
          "table": [
           {
            "cells": {
             "fill": {
              "color": "#EBF0F8"
             },
             "line": {
              "color": "white"
             }
            },
            "header": {
             "fill": {
              "color": "#C8D4E3"
             },
             "line": {
              "color": "white"
             }
            },
            "type": "table"
           }
          ]
         },
         "layout": {
          "annotationdefaults": {
           "arrowcolor": "#2a3f5f",
           "arrowhead": 0,
           "arrowwidth": 1
          },
          "coloraxis": {
           "colorbar": {
            "outlinewidth": 0,
            "ticks": ""
           }
          },
          "colorscale": {
           "diverging": [
            [
             0,
             "#8e0152"
            ],
            [
             0.1,
             "#c51b7d"
            ],
            [
             0.2,
             "#de77ae"
            ],
            [
             0.3,
             "#f1b6da"
            ],
            [
             0.4,
             "#fde0ef"
            ],
            [
             0.5,
             "#f7f7f7"
            ],
            [
             0.6,
             "#e6f5d0"
            ],
            [
             0.7,
             "#b8e186"
            ],
            [
             0.8,
             "#7fbc41"
            ],
            [
             0.9,
             "#4d9221"
            ],
            [
             1,
             "#276419"
            ]
           ],
           "sequential": [
            [
             0,
             "#0d0887"
            ],
            [
             0.1111111111111111,
             "#46039f"
            ],
            [
             0.2222222222222222,
             "#7201a8"
            ],
            [
             0.3333333333333333,
             "#9c179e"
            ],
            [
             0.4444444444444444,
             "#bd3786"
            ],
            [
             0.5555555555555556,
             "#d8576b"
            ],
            [
             0.6666666666666666,
             "#ed7953"
            ],
            [
             0.7777777777777778,
             "#fb9f3a"
            ],
            [
             0.8888888888888888,
             "#fdca26"
            ],
            [
             1,
             "#f0f921"
            ]
           ],
           "sequentialminus": [
            [
             0,
             "#0d0887"
            ],
            [
             0.1111111111111111,
             "#46039f"
            ],
            [
             0.2222222222222222,
             "#7201a8"
            ],
            [
             0.3333333333333333,
             "#9c179e"
            ],
            [
             0.4444444444444444,
             "#bd3786"
            ],
            [
             0.5555555555555556,
             "#d8576b"
            ],
            [
             0.6666666666666666,
             "#ed7953"
            ],
            [
             0.7777777777777778,
             "#fb9f3a"
            ],
            [
             0.8888888888888888,
             "#fdca26"
            ],
            [
             1,
             "#f0f921"
            ]
           ]
          },
          "colorway": [
           "#636efa",
           "#EF553B",
           "#00cc96",
           "#ab63fa",
           "#FFA15A",
           "#19d3f3",
           "#FF6692",
           "#B6E880",
           "#FF97FF",
           "#FECB52"
          ],
          "font": {
           "color": "#2a3f5f"
          },
          "geo": {
           "bgcolor": "white",
           "lakecolor": "white",
           "landcolor": "#E5ECF6",
           "showlakes": true,
           "showland": true,
           "subunitcolor": "white"
          },
          "hoverlabel": {
           "align": "left"
          },
          "hovermode": "closest",
          "mapbox": {
           "style": "light"
          },
          "paper_bgcolor": "white",
          "plot_bgcolor": "#E5ECF6",
          "polar": {
           "angularaxis": {
            "gridcolor": "white",
            "linecolor": "white",
            "ticks": ""
           },
           "bgcolor": "#E5ECF6",
           "radialaxis": {
            "gridcolor": "white",
            "linecolor": "white",
            "ticks": ""
           }
          },
          "scene": {
           "xaxis": {
            "backgroundcolor": "#E5ECF6",
            "gridcolor": "white",
            "gridwidth": 2,
            "linecolor": "white",
            "showbackground": true,
            "ticks": "",
            "zerolinecolor": "white"
           },
           "yaxis": {
            "backgroundcolor": "#E5ECF6",
            "gridcolor": "white",
            "gridwidth": 2,
            "linecolor": "white",
            "showbackground": true,
            "ticks": "",
            "zerolinecolor": "white"
           },
           "zaxis": {
            "backgroundcolor": "#E5ECF6",
            "gridcolor": "white",
            "gridwidth": 2,
            "linecolor": "white",
            "showbackground": true,
            "ticks": "",
            "zerolinecolor": "white"
           }
          },
          "shapedefaults": {
           "line": {
            "color": "#2a3f5f"
           }
          },
          "ternary": {
           "aaxis": {
            "gridcolor": "white",
            "linecolor": "white",
            "ticks": ""
           },
           "baxis": {
            "gridcolor": "white",
            "linecolor": "white",
            "ticks": ""
           },
           "bgcolor": "#E5ECF6",
           "caxis": {
            "gridcolor": "white",
            "linecolor": "white",
            "ticks": ""
           }
          },
          "title": {
           "x": 0.05
          },
          "xaxis": {
           "automargin": true,
           "gridcolor": "white",
           "linecolor": "white",
           "ticks": "",
           "title": {
            "standoff": 15
           },
           "zerolinecolor": "white",
           "zerolinewidth": 2
          },
          "yaxis": {
           "automargin": true,
           "gridcolor": "white",
           "linecolor": "white",
           "ticks": "",
           "title": {
            "standoff": 15
           },
           "zerolinecolor": "white",
           "zerolinewidth": 2
          }
         }
        },
        "width": 800
       }
      },
      "text/html": [
       "<div>                            <div id=\"6d8779bc-4fcf-4ec4-9b3b-f93ca4fc583c\" class=\"plotly-graph-div\" style=\"height:525px; width:800px;\"></div>            <script type=\"text/javascript\">                require([\"plotly\"], function(Plotly) {                    window.PLOTLYENV=window.PLOTLYENV || {};                                    if (document.getElementById(\"6d8779bc-4fcf-4ec4-9b3b-f93ca4fc583c\")) {                    Plotly.newPlot(                        \"6d8779bc-4fcf-4ec4-9b3b-f93ca4fc583c\",                        [{\"hovertemplate\": \"class=%{marker.color}<br>PC 1=%{x}<br>PC 2=%{y}<br>PC 3=%{z}<extra></extra>\", \"legendgroup\": \"0\", \"marker\": {\"color\": [0, 0, 0, 0, 0, 0, 0, 0, 0, 0, 0, 0, 0, 0, 0, 0, 0, 0, 0, 0, 0, 0, 0, 0, 0, 0, 0, 0, 0, 0, 0, 0, 0, 0, 0, 0, 0, 0, 0, 0, 0, 0, 0, 0, 0, 0, 0, 0, 0, 0, 0, 0, 0, 0, 0, 0, 0, 0, 0, 0, 0, 0, 0, 0, 0, 0, 0, 0, 0, 0, 0, 0, 0, 0, 0, 0, 0, 0, 0, 0, 0, 0, 0, 0, 0, 0, 0, 0, 0, 0, 0, 0, 0, 0, 0, 0, 0, 0, 0, 0, 0, 0, 0, 0, 0, 0, 0, 0, 0, 0, 0, 0, 0, 0, 0, 0, 0, 0, 0, 0, 0, 0, 0, 0, 0, 0, 0, 0, 0, 0, 0, 0, 0, 0, 0, 0, 0, 0, 0, 0, 0, 0, 0, 0, 0, 0, 0, 0, 0, 0, 0, 0, 0, 0, 0, 0, 0, 0, 0, 0, 0, 0, 0, 0, 0, 0, 0, 0, 0, 0, 0, 0, 0, 0, 0, 0, 0, 0, 0, 0, 0, 0, 0, 0, 0, 0, 0, 0, 0, 0, 0, 0, 0, 0, 0, 0, 0, 0, 0, 0, 0, 0, 0, 0, 0, 0, 0, 0, 0, 0, 0, 0, 0, 0, 0, 0, 0, 0, 0, 0, 0, 0, 0, 0, 0, 0, 0, 0, 0, 0, 0, 0, 0, 0, 0, 0, 0, 0, 0, 0, 0, 0, 0, 0, 0, 0, 0, 0, 0, 0, 0, 0, 0, 0, 0, 0, 0, 0, 0, 0, 0, 0, 0, 0, 0, 0, 0, 0, 0, 0, 0, 0, 0, 0, 0, 0, 0, 0, 0, 0, 0, 0, 0, 0, 0, 0, 0, 0], \"coloraxis\": \"coloraxis\", \"symbol\": \"circle\"}, \"mode\": \"markers\", \"name\": \"0\", \"scene\": \"scene\", \"showlegend\": true, \"type\": \"scatter3d\", \"x\": [-0.3352856978551655, -0.31857736500562367, 2.3358766092515033, -0.3823093294569137, -0.2006682391457628, -0.30138272408126215, -0.272504940998366, -0.221873692544902, -0.3349443152876122, -0.3275021811234952, -0.33377826170896857, -0.335281621623806, -0.3352658592359187, 0.7587186579374151, -0.3639429711587631, -0.3761240604106002, -0.3160786730823372, -0.3333389246153542, -0.33320145983968796, -0.38220374488514014, -0.4943779684556272, -0.04563517203933374, -0.2645837331330677, -0.3061582593765369, -0.2559376697971643, -0.25656153717944946, -0.3296144705023393, -0.3295714531800142, -0.33368287406795866, 0.023810380966555238, -0.3531410727515274, -0.3825763761139148, -0.2614852994773593, -0.31865915473350137, -0.3824877489379998, -0.3104467467909315, -0.3339592560717578, -0.3199497748042375, -0.38245214439465336, -0.2619545982457361, -0.25634181651000865, -0.32636196851110594, 0.28541672568696325, -0.3523432859247252, -0.3005921935634715, -0.36336300604587046, -0.30613851688474947, -0.25663708727299855, -0.3007767362896824, -0.3352677185983321, -0.25658915154472417, -0.35358704030150817, -0.3350013296141936, -0.3825578557813075, -0.6268485928476609, -0.3822015901350006, -0.4191362931999351, -0.30453548074290016, -0.25610938858212423, -0.2939165502028531, -0.22432265959259404, -0.07517718836309971, -0.30135356050892975, -0.05908316968615435, -0.301417460700067, -0.2198250526418112, -0.33487681023693194, -0.3044037980796093, -0.3797183112212595, 0.8503853204880636, -0.30121689837969834, 0.02588339195444615, -0.37580642740453246, -0.380394868499994, -0.2999565222035714, -0.297617596148753, -0.3415068677546629, -0.3812892424574746, -0.3829421800967508, -0.3111039640917803, -0.33491500216821657, -0.3333496707111979, -0.22644956612187617, -0.3410425039959163, -0.38203020317462705, -0.3341169647899261, -0.3013983291202397, -0.3825470091908544, -0.3351047413393258, -0.3352619363262301, -0.30439403915059726, -0.2838179337392024, 0.07432174244094514, -0.3747605581970867, -0.3348750648788442, -0.3686678404858899, -0.37408751429649845, -0.22788459943185313, -0.4012176400517958, -0.37383497048161407, -0.24108147582591488, 3.6748501803934657, -0.3821383819948749, 0.8785974962243093, -0.38250179615864355, -0.37522561901740425, -0.33480230653886767, -0.33495703313555025, -0.37580642740453246, -0.3820753936219364, -0.30126063919854895, -0.3348030616164621, -0.3609077701222811, -0.33495086066868696, -0.3305251956073855, -0.38253086372386935, -0.33415909870653226, 0.33892878370564083, -0.3351507146165725, -0.33522150406625423, -0.3648200633392123, -0.34692741033022323, -0.33143666451005316, -0.3013746799561724, -0.3824405616768371, -0.3349986714359157, -0.3351259568742826, -0.3060446064519728, -0.3251784673199678, -0.22765179734602387, -0.3159254190973456, -0.30578511132334074, -0.38170406789682293, -0.4003011524992745, -0.38043904506021387, -0.374048026612893, -0.3816016809721191, -0.3684321099565347, -0.3775306028900388, -0.3350690945138161, -0.3350682593327062, -0.328168625224822, 0.2618120137628123, -0.38208162175291427, -0.28863439918767114, -0.3758407818868448, -0.3342774184810318, 0.9133557721357599, -0.2711912779729994, -0.3817170682553028, 0.6131029877823033, -0.34304685861007295, -0.34154475258500144, -0.391778726792003, -0.2562733441421695, 0.13105609135787957, -0.256344339651498, -0.3643661183221848, -0.3912822927674065, -0.38235482687060063, -0.30611912339634234, -0.3757066014769336, -0.3347032342908845, -0.3352043854940944, -0.25889801399543566, 0.6222144346681671, -0.3822954424603468, -0.3245991514850831, -0.33515984650387814, -0.3198658524338616, 0.4360841289207091, -0.2997162970746081, -0.32776940189004816, -0.3831725436110523, -0.3351100365045395, -0.3920713675194558, -0.347894892569113, -0.33498010976898424, -0.0984982466670385, -0.3810845137943362, 3.6797202997253877, 0.2180299837406602, -0.25300572427373486, -0.33243300571963735, -0.31399551777459694, -0.3647056474996766, 0.08042433172469925, -0.3341159243074732, -0.381667496311507, -0.3638678465841412, -0.32164621162166124, -0.3352265765929107, -0.35355889186205297, -0.383224874371665, -0.282233024134571, -0.32086159525818364, -0.3307592489567428, -0.2194232357954281, -0.3383961063219641, -0.3823720694916245, -0.37491269197711596, -0.30527653550224726, -0.3310670793183846, -0.34264462530467166, -0.33525400732465, -0.3352356633351327, -0.29964181665363965, -0.3651382609217752, -0.3752998959544992, -0.3349513406629985, 3.8624421005602323, -0.3907358469185795, -0.37548909264270497, -0.3305159176121461, -0.28166377583541674, -0.41162550435958856, -0.30581249151867257, -0.13781084704463495, -0.30606516455962124, -0.3065937850633369, -0.3344238015143746, -0.19485026708749026, 2.2300321189804726, -0.36040017411469083, -0.27131965720420764, 0.9825043938363653, -0.35866477597160595, -0.36481947875858645, -0.3937606149312166, -0.18642592937088573, -0.3486080486535142, -0.36353535257337427, -0.3281085569259066, -0.35313506688976276, -0.38184392450247223, -0.3033026267520525, -0.3745860826322748, -0.3306537833200889, -0.35299593398300727, -0.19430489250646257, -0.09175881151984734, -0.3460916061681453, 0.32222547045498073, -0.1429521590056467, -0.3930532113384572, -0.28084710585778405, -0.334955353653117, -0.39351065503811933, -0.36493679106240134, 0.574207588647177, -0.3536133556338554, -0.33443669775029417, -0.3693521512199587, -0.2611774571014282, -0.379400911601764, -0.38207182957609676, 3.6919961882477583, 0.1012436237983133, -0.3796050271856542, -0.3338201811922638, -0.33464783743814824, -0.2725376305345381, -0.3351677229136448, -0.3736758833642382, -0.24860741933171088, -0.08045424597005042, -0.3694113314547782, -0.334444074589049, -0.32748871290309817, -0.3786307420399429, -0.3328786482252523, -0.3760828267538202, -0.38876906948970213, -0.2998935712077975, 3.675243148629903, -0.11280288610453253, -0.330065514517431, -0.3292391526096851, -0.4267221622698696, -0.2567446147526304, 3.685136896128778, 3.6863843405418706, -0.2533804831121195, -0.37601852384595114, -0.3898578223660414, 2.456462765827871, -0.3333250661503419, -0.3064628258313888], \"y\": [0.9217985619639767, 0.9216656021774245, 1.454619135275007, 1.1273005078681493, 2.094693706334641, 0.7394703945193797, 0.6927357034267887, 1.646422974934029, 0.9217917255706615, 0.9219097104964944, 0.9218200881590617, 0.9217982709964191, 0.9217981468776695, 1.0069308931449834, 0.8319970643982211, 1.7287601690462466, 0.24471795599276125, 0.921742552586859, 1.0808634322457933, 1.1273020156142677, 1.6901289389541057, 0.8787810668862837, 0.7383216531258981, 0.8750495007859934, 1.6370202985710294, 1.6370113897540872, 0.3899592765450862, 0.9215868287745163, 0.9217530060320077, 0.9269264486589814, 1.080578694869922, 1.1273120587856682, 0.2117321126405616, 1.6847675465010814, 1.127306340970553, 0.9210358045202595, 0.9217476624794471, 0.2698777526437967, 1.1273099922516288, 0.21179525214393294, 1.6370145273619796, 0.9212275818875919, 2.433391001960558, 1.6086683771568129, 0.7394495563853273, 0.8320084053308359, 0.875061082995681, 1.6370019299699385, 0.8747884437288204, 0.9217988187368301, 1.6370040113130813, 1.0805583582433795, 0.9217886545510013, 1.1273123239541534, 1.701241256813287, 1.5606105363670695, 1.2997941000393474, 0.8750141332451429, 1.6369829258879305, 0.7388939655815034, 1.6466140807028669, 0.8454249861877831, 0.7394708109747584, 1.113388730176619, 0.7394779302055021, 1.3216984381602181, 0.9217750676476395, 0.8749314692026638, 1.1270846828502739, 0.8224335542182641, 0.739460191113027, 1.022902623734242, 1.7287507366242885, 1.1272908305682625, 0.7393505721475238, 0.7391728598437564, 1.3198979666753394, 1.1272333606284541, 1.6935099779097589, 0.9207470551357556, 0.9217728926423964, 0.9217563673493313, 1.5901480057789448, 1.080292606337812, 1.127284938284128, 0.9217523945095776, 0.7394708700904828, 1.1273103836108196, 0.9217864794222764, 0.9217989013075897, 0.8750859941117832, 0.3056926041811198, 1.6854704056528178, 1.7287279574363041, 0.9218044258261057, 1.1264630569239442, 1.7287613145325877, 1.5902654495765556, 1.84520359028654, 1.728582635557149, 1.6896923972718185, 2.347621198769421, 1.127297361708744, 1.6526277946669783, 1.1273104332795862, 1.7287380782345785, 0.9217785480608055, 0.9217739220658404, 1.7287507366242885, 1.1272773088569314, 0.7394735347113451, 0.921782406474296, 0.7345671105628916, 0.921783787960168, 0.9214121140218721, 1.127309217346192, 0.9217140786531601, 0.8615638644209348, 0.9217914102111853, 0.9217971628967201, 1.553099352268084, 0.5654459668470428, 0.9215043207182155, 0.7394712078001939, 1.1273074659773354, 0.9217886925097477, 0.9217855246148791, 0.8750240114397212, 0.3844154903158168, 1.5902603757870006, 0.9213766156580244, 0.8750420858352477, 1.1272546749496424, 1.70752438196234, 1.1272657553486574, 1.7287127870268273, 1.1272561370334049, 1.7285906456531255, 1.1270349076366577, 0.921786840310811, 0.9217816924624951, 0.9212017828565857, 0.6479936596267373, 1.1272911881358751, 0.8739142198799982, 1.728743261934511, 0.9217396270708335, 1.6000215040735084, 0.6926234516788049, 1.693481028168571, 1.5395289075765557, 1.3199318484950682, 1.3198764733556836, 1.7912883456617505, 1.6369945528215328, 0.8935373744059933, 1.6370012926326913, 1.7904363646287478, 1.7912954347322396, 1.1273085832229675, 0.8750492034715227, 1.7287231082710481, 0.9217731798450713, 0.9217967898071391, 2.0963130364119977, 1.7611597703728934, 1.1272972141201174, 0.38975416390367384, 0.9217893708186062, 0.7790418855435497, 0.9153534409477957, 0.7394397150276659, 1.3193189014644666, 1.7325644368305435, 0.9217864038073955, 1.5997346983548961, 1.58302206170865, 0.921792597494556, 0.6889435491171751, 1.1272327920965786, 2.34742883994054, 1.3069986767271262, 1.636915500435614, 0.9216926321206939, 1.2731806277709996, 1.5530974940704316, 0.8928143536313465, 0.9217105047179679, 1.1272901177327397, 1.5530396167722413, 0.9213647639086532, 0.9217966126007435, 1.0805580617918484, 1.6935118775317557, 0.053717765196698006, 0.3747664246803585, 0.9217011683041616, 1.5898292951746913, 0.7805524661438292, 1.1272975167089059, 1.8713422410776417, 0.874986789134326, 1.4904515343086968, 1.319909655947566, 0.9217969193011303, 0.9217957844313717, 0.8748046503643466, 1.6354912334918048, 1.728710477949555, 0.9217823842842005, 2.472463911043131, 1.5997537695692166, 1.7287133635102858, 0.7448916048550658, 0.9189870560495714, 2.0438493363126446, 0.8750475799515304, 0.9174947094802258, 0.8750314003893579, 1.693929313062655, 0.9217522033506833, 1.5998367555545476, 0.21740778307017536, 1.5527189773446715, 0.6926913351874779, 2.0073223080021805, 0.7916171169578805, 1.5530951701509186, 1.5998466605784105, 0.86498140218769, 0.8257652430087984, 1.5530583329983316, 0.9212026406310009, 1.0805403680379964, 1.127287598340796, 0.8749199926493111, 1.7286354650721594, 0.8329855580984822, 1.0805109263665738, 0.911240370892316, 2.9404084914810924, 1.8246070895542361, 2.64381951947206, 1.08358018943262, 1.5998226456206563, 0.056318410942764394, 0.9217886126762137, 1.599840532568318, 1.5530988238075827, 0.8825449826617597, 1.0805581919840732, 0.9217520191926263, 1.8711143447526233, 1.691155644493138, 1.1270640725223104, 1.1272983120762947, 2.347254934032067, 0.9035878152333428, 1.1273544903025896, 0.921679807383853, 0.921769777569582, 0.6927293001286597, 0.9218002466737204, 1.127089952974165, 0.9157030128271404, 0.7425079168823996, 1.1268016452979903, 0.9218001041986141, 0.9216305384912604, 1.1272231336277472, 0.9217211888937429, 1.7287544721647994, 0.7307732875895794, 0.7394336915015399, 2.3476024229613364, 0.8708316337445691, 0.9216635828853309, 0.3899252470038623, 0.6089257490952595, 1.6370086915997653, 2.3478553942706606, 2.3478732077583286, 0.692319119708315, 1.728755645929954, 1.9642093497331305, 1.0322441359745411, 0.9216519570778867, 0.8750557534579171], \"z\": [-0.4658902744492687, -0.4664548515510434, -0.6093517605935361, -0.42734733894114935, -0.08358034447413909, -0.3269744963280445, -0.028473191379649113, -0.6204291077896162, -0.4659013270461962, -0.4661735637326649, -0.4659451391771216, -0.46589038189014753, -0.46589091465754656, -0.26996242899831957, -0.3545953455675445, 0.039590542397898554, -0.33246989975263863, -0.46595130820304487, -0.1295833523071357, -0.42735118180272025, -0.34874162679371784, -0.17687929031273816, -0.32811764128063997, -0.16739595425759196, -0.5407315585547403, -0.5407088522450333, -0.31140967238954087, -0.4660638765149464, -0.4659405903376674, -0.478959954021873, -0.1288576291181047, -0.4273394199520824, 0.06397982569316728, -0.03661973769636267, -0.4273418272874151, -0.4666633660774584, -0.46593036743871324, -0.40135248913896815, -0.42734349144384437, 0.06398872205739764, -0.540716849209951, -0.46613322038860927, -0.19945195361885223, -0.010217872377481384, -0.32699950375914766, -0.3546168124784774, -0.1673979970193209, -0.5407051204089184, -0.16755222337402942, -0.4658909288266771, -0.540707028765342, -0.12883976080831902, -0.4658989874823715, -0.4273400941009142, 0.06650377442828626, -0.7511318868110552, -0.043255851990746635, -0.16744815694798568, -0.5407212165398265, -0.3271661935361728, -0.6203664676648811, -0.3980622390871157, -0.3269755577669403, -0.43694037506486083, -0.32697417324194766, -0.5503262006216326, -0.4659017189593097, -0.16744304241713517, -0.4274120147611245, -0.2013884831994935, -0.32697905856243764, -0.2463880661862323, 0.03958061866211529, -0.42741268010492695, -0.32700997659359576, -0.32707036530162525, -0.5458900971151313, -0.42737489049861094, -0.016614909202496204, -0.46660670892973133, -0.4659001379577952, -0.46595255393921403, -0.2422353208455314, -0.12924419867991635, -0.42735520644356034, -0.46592544588981744, -0.32697401020881534, -0.42734024334624005, -0.46589514186126163, -0.4658911392785531, -0.16746148912170108, -0.1334720338761575, -0.6993078128525242, 0.03954697265143065, -0.46590521987188177, -0.42772287194789194, 0.03951969385448098, -0.24219925519823607, -0.6071246179178416, 0.03953186317880683, -0.6888509221243301, -0.10701160440275106, -0.42735290601322246, -0.5819545932946347, -0.4273418190836465, 0.039561934807285974, -0.4659047137751136, -0.4658987991625175, 0.03958061866211529, -0.4273527432638726, -0.32697910342095104, -0.4659051397011722, -0.1453790623916154, -0.46590016961208536, -0.4660102862597255, -0.42734066729233305, -0.4659194928821888, -0.18821479531533536, -0.46589412335612396, -0.46589233948045916, -0.11293902000402213, -0.2874764620374869, -0.4659894427797984, -0.3269748709450212, -0.427343597587735, -0.46589908422956666, -0.465894293313165, -0.16739691364632914, -0.16303937727666187, -0.24220674414032473, -0.46651306958410343, -0.1674080420391878, -0.4273629843510198, -0.5713322665879024, -0.42740820776218574, 0.039524009384560306, -0.4273667108308586, 0.03934332280159707, -0.4274821449679097, -0.46589642190444736, -0.4658958476586527, -0.4660674652168535, -0.04178304847705753, -0.4273541534361261, -0.16787139263454545, 0.039582687455457614, -0.4659183783702022, -0.6544097910114826, -0.02850565115227262, -0.01665405590514381, -0.7814089412183807, -0.5458405949343594, -0.5458862629794264, -0.6097762912548834, -0.5407168860563648, -0.4787711453962811, -0.5407152107010988, -0.11714990078340314, -0.609794359493473, -0.42734670545210957, -0.16739727832266296, 0.03958039004099131, -0.4659075247586534, -0.465892890162791, -0.08174821103684701, 0.001313407876283302, -0.427347435160094, -0.3115597817153317, -0.4658935672884492, -0.048827771546280756, -0.491919026263119, -0.32702876397071895, -0.5462992413719211, -0.3340081521694384, -0.46589494913815305, -0.41148515899011273, -0.05410954164646573, -0.4659001863419096, -0.034070787878050714, -0.4273819326007789, -0.10715816655124806, -0.5638071178594363, -0.540821082854424, -0.46597691424196375, -0.24734337936535344, -0.11294277507596316, -0.4769283492382173, -0.46592057320437297, -0.4273684075414227, -0.11296508346351485, -0.46631303957988857, -0.4658920988629202, -0.12884070345780474, -0.016605315908900305, 0.12999438921934292, 0.018607347836621015, -0.466036031843399, -0.24244194598071042, -0.3064623453599207, -0.4273448099238397, -0.2785355015143575, -0.16741922125844722, 0.06691254708711061, -0.5458519609354063, -0.4658911823351623, -0.46589168629879624, -0.16759352996815477, -0.10635830742595627, 0.03956774821265476, -0.46589998845702435, -0.007332210512695291, -0.4115337666673915, 0.039573979484509844, 0.011890252819284082, -0.4674227070057849, 0.10555043945330243, -0.16740773514838586, -0.4722427850651974, -0.1673970656807713, -0.6870726588681132, -0.46591476929991865, -0.32188081311129463, -0.36967898458963894, -0.11304791648288104, -0.02850914834486732, -0.04877096081534219, -0.2866352867080692, -0.11293855022495937, -0.4114396239986067, -0.17037355980551844, -0.34733245631215537, -0.11297882178446342, -0.46606965146578616, -0.12885334636577309, -0.42736198625180455, -0.16747993315292414, 0.03955175302079593, -0.35254302605685606, -0.12885472733811387, -0.469548252710427, -0.15230604502208808, 0.01996782606967983, 0.22340941395233763, -0.13650767575927988, -0.41146137276830647, 0.1384022365769885, -0.4659005789832615, -0.41144758516771773, -0.11293490497914371, -0.4928704143252749, -0.12883882758688814, -0.46591429992784505, -0.27870187250916506, -0.6883246052537475, -0.4274206205212521, -0.42735532825851913, -0.1075640391378296, -0.4789137280001411, -0.4274475654041222, -0.46592724495710136, -0.4659090495927886, -0.028471305947646023, -0.46589456827481973, -0.427622441540338, -0.4681856744808193, -0.3350016711589445, -0.4277367331027148, -0.4659196785781701, -0.46614131689006594, -0.4274660022800015, -0.4659647867432231, 0.039589778238815855, -0.12086140202563955, -0.32702190267923525, -0.10702304908312828, -0.17361550174936058, -0.46605571574259763, -0.3114187167093047, -2.7831852275642657, -0.5407021791230442, -0.10739623056659124, -0.10744163261835651, -0.029088426594601396, 0.03958740792390732, 0.34824455786091435, -0.08789281661271568, -0.4659411730608477, -0.167386111611443]}, {\"hovertemplate\": \"class=%{marker.color}<br>PC 1=%{x}<br>PC 2=%{y}<br>PC 3=%{z}<extra></extra>\", \"legendgroup\": \"1\", \"marker\": {\"color\": [1, 1, 1, 1, 1, 1, 1, 1, 1, 1, 1, 1, 1, 1, 1, 1, 1, 1, 1, 1, 1, 1, 1, 1, 1, 1, 1, 1, 1, 1, 1, 1, 1, 1, 1, 1, 1, 1, 1, 1, 1, 1, 1, 1, 1, 1, 1, 1, 1, 1, 1, 1, 1, 1, 1, 1, 1, 1, 1, 1, 1, 1, 1, 1, 1, 1, 1, 1, 1, 1, 1, 1, 1, 1, 1, 1, 1, 1, 1, 1, 1, 1, 1, 1, 1, 1, 1, 1, 1, 1, 1, 1, 1, 1, 1, 1, 1, 1, 1, 1, 1, 1, 1, 1, 1, 1, 1, 1, 1, 1, 1, 1, 1, 1, 1, 1, 1, 1, 1, 1, 1, 1, 1, 1, 1, 1, 1, 1, 1, 1, 1, 1, 1, 1, 1, 1, 1, 1, 1, 1, 1, 1, 1, 1, 1, 1, 1, 1, 1, 1, 1, 1, 1, 1, 1, 1, 1, 1, 1, 1, 1, 1, 1, 1, 1, 1, 1, 1, 1, 1, 1, 1, 1, 1, 1, 1, 1, 1, 1, 1, 1, 1, 1, 1, 1, 1, 1, 1, 1, 1, 1, 1, 1, 1, 1, 1, 1, 1, 1, 1, 1, 1, 1, 1, 1, 1, 1, 1, 1, 1, 1, 1, 1, 1, 1, 1, 1, 1, 1, 1, 1, 1, 1, 1, 1, 1, 1, 1, 1, 1, 1, 1, 1, 1, 1, 1, 1, 1, 1, 1], \"coloraxis\": \"coloraxis\", \"symbol\": \"diamond\"}, \"mode\": \"markers\", \"name\": \"1\", \"scene\": \"scene\", \"showlegend\": true, \"type\": \"scatter3d\", \"x\": [-0.1391567105965107, -0.1477301637754863, -0.17188687419306292, -0.1414610800877914, -0.14616734369632214, -0.14830393279323223, 0.1590840706340978, -0.17303639457288983, -0.2202682856530178, -0.17265176888674308, -0.09506252273269246, 2.5573479494238587, -0.1362333388160897, -0.16989920487622798, -0.1724551594944084, -0.22690463106202452, -0.20078102193709962, -0.17250422224876225, -0.17301861287292544, -0.17310532519136249, -0.2203578745935616, 0.1828834425027222, 0.2397714786977035, 0.07633597090970246, -0.1728509131382606, -0.16844353936015247, -0.1727900094887247, -0.17316248743970986, -0.16270607740370327, -0.15232455082452978, -0.17195416914295444, -0.1722323564026636, 1.5807329240135917, -0.1391179760811722, -0.16951385636089641, -0.17287742898277333, -0.17323325517590998, -0.172490386117531, -0.1811662061664455, -0.17311417532109238, -0.03760942190624013, -0.13919579545497116, -0.16676002869845372, -0.1730935273206899, -0.17118202546885766, -0.1725787957046992, -0.12631061826058104, -0.13865804005633925, -0.1389460333164583, -0.13892885470241514, -0.13952139764541782, -0.2205322926690091, -0.172809247676324, -0.1858912093098134, -0.16990388373566725, -0.13872552214547607, 3.8829034856744107, 0.4721800533179249, -0.17167354036817473, -0.15622611908502435, -0.17038872087236992, -0.173235466472154, -0.17025341688611467, -0.15643738271553753, -0.11132849769536472, -0.12916681068434963, -0.18575098639289356, -0.17310820027117746, -0.045673307075707735, -0.10208853728220704, -0.1732443891672672, -0.13922364773834145, 0.4809519856984999, -0.2199177273702426, -0.16324267341694482, -0.1389627084802265, -0.22020343009104726, -0.17136247343136388, -0.17055241821677905, -0.14880044278527257, 0.38109500297335347, -0.22023893758314408, -0.13911910145333198, -0.16919072372463642, -0.15552951860571845, -0.17180361724699292, 0.28055784050876964, -0.21939719043036077, -0.1470127287678801, -0.17205144872308034, -0.1514907150341548, -0.17303367546240941, -0.22020205431591588, -0.1732444478289142, -0.22035242912797876, -0.2555979805605068, 0.31663641830147443, -0.13937992135872573, -0.1091819357330023, -0.17040291682957986, -0.13933843687322084, -0.17290685121224092, -0.14683880758626794, -0.14854187687899917, -0.14832560806062853, -0.0997423758730454, -0.20689815844620463, -0.21817410719368802, 0.3166308007936553, -0.17322613006560877, 0.31676188103326924, -0.163784744661889, 0.4971254674531106, -0.14022189024508513, -0.17319432982089372, -0.2130639300997146, -0.14833802845836067, -0.1713222726207792, -0.1635023326382009, -0.12836502206122788, -0.1440274535787737, -0.18067262857615582, -0.1727554300439237, -0.10560673944344062, -0.17257690404405648, -0.14007948795166889, -0.14696403465522348, -0.02028504695384888, -0.14364292698874445, 0.352856148397237, -0.21940555760226382, -0.17289718659324335, -0.17265975949074153, -0.21980142294604396, -0.2203805558784171, 0.317026953091234, -0.12528513225787022, 3.2462491999218965, -0.10827870323776806, -0.21122479314398304, -0.13915587256286951, -0.09858547671796575, 1.578479620818489, -0.17299529543848785, -0.17244526598714832, -0.17214538694863074, -0.17213228267656738, 0.3172111640892414, 0.06462426392581663, -0.1746392004348653, -0.16740838700773011, -0.14818365288010343, -0.1457680965727314, -0.17132047695245456, -0.21591197231919448, -0.16725332758775205, -0.1469019008233875, -0.16735384291229638, -0.11937030180312791, 1.1570895441669107, 0.3166134980959413, -0.07155915993909723, -0.21565223979305612, -0.1291595006442139, -0.08914282612433248, 1.0951395631107383, -0.22035448170669364, -0.16740595740450845, -0.16042361425327642, -0.17224414479590652, -0.22027967848211952, -0.1391352170197791, -0.17633261942241168, 8.078345687133968, -0.12341886821358536, 0.3204993511387511, 0.020346413274932997, -0.14527014593955642, -0.17140726013866955, -0.17281948808739708, 0.13513993753386538, -0.21440335234978647, -0.4200241089018667, -0.0997949695376332, 0.32456098572189984, -0.17305719513518172, -0.15075278115786434, -0.14717187695971914, -0.14461550078848373, -0.21944643991298765, 0.31679652657056434, -0.18073233318590465, -0.16362951665952769, -0.159922997118634, -0.146923444587479, 0.32073709481654916, 0.5846569671644701, 2.130714300034418, -0.1775058390465967, 0.33044111612916705, -0.1974182120640851, -0.13783370707254222, -0.2203365901995581, -0.17308183986709885, -0.12903677520340748, -0.1464400661188045, -0.21164123876227176, 3.114571409091551, -0.09886904931861851, -0.22030786649895928, -0.19684415581233392, -0.34324867706503615, -0.04262320774528065, -0.1463193507853587, -0.13915591022956145, 0.3967961281257866, -0.13463037806882452, -0.13502370146942283, -0.1443899686175761, -0.17197085440856974, -0.1462377946393054, -0.14801599113609215, -0.1849595297139951, -0.13842997119252776, -0.0946886079736048, -0.13729454317158005, 0.5250083276957221, -0.09235778593680977, -0.08533446740918903, -0.15658837470402237, -0.13894540207064807, 0.5446751278584475, -0.20034077507653483, -0.17315893726183346, -0.17110860181113577, -0.12990366833277583, -0.12594250888040467, -0.14857512999721506, 0.33843347132206186, -0.1483049925900208], \"y\": [-1.2776973943222716, -1.916691777909927, -1.0954118440568286, -2.1344767186420643, -1.9168161271363313, -1.9140615800115, -1.769190321318776, -1.0953842593085894, -0.8898692239269553, -1.0954087985251169, -1.7595497251598087, -1.324569502822724, -1.2777595690665382, -1.0954993963659962, -1.0954311337357279, -0.4174246207261744, -1.1852136651759757, -1.0953956329242691, -1.095384005386178, -1.0953797541276873, -0.8898691064340378, -1.765746030511708, -1.2869382661756565, -1.101237105189075, -1.0953816106364611, -1.0955133850758954, -1.0953884234523596, -1.0953792404989242, -1.6273743794255329, -1.0960659969973194, -1.095403027276117, -1.0954085682072456, -1.1336018139125306, -1.277696841193962, -1.0955046636486245, -1.0953812908714982, -1.0953733467023017, -1.0953911289433549, -2.141528370473933, -1.0953776874974084, -1.1039118599461508, -1.2776979524534624, -1.0955153307188985, -1.095385075163378, -1.0955177150249826, -1.0953988168105637, -1.2781194745026554, -1.2777084403544765, -1.277709052481228, -1.2777353467823405, -1.2776881100232185, -0.8898590257266566, -1.09538241247594, -1.191418235198791, -1.0955102332337368, -1.2777079988174695, -2.3176588105322358, -2.2445139406756525, -1.0954235480896675, -1.0963028723883363, -1.0954479897241647, -1.0953742708486176, -1.0954415975337053, -1.0958309698667625, -2.1123013544760876, -1.7586399122285103, -1.4516824491712477, -1.0953729726437693, -1.1005349579661985, -2.2105149003239264, -1.0953729954910576, -1.2776983501836554, -1.1502844445167588, -0.889873297300655, -2.1300543717591323, -1.2777175039136563, -0.8898689962013228, -1.0954925230046806, -1.0955087242427857, -1.9167188690890031, -2.1803643573871496, -0.8898660111936415, -1.27769685726426, -1.0954613428325644, -2.006082098802513, -1.0954106551488747, -1.2867932382688962, -0.8899014829931247, -2.1545924979288147, -1.0954731060399479, -2.198851691211071, -1.0953835220689039, -0.8898717701985865, -1.0953729942125605, -0.889873917548667, -1.1688975415463714, -2.239757977298454, -1.2776927148690629, -1.7591926215050502, -1.0954716688237969, -1.2776927526459203, -1.0953886951287777, -2.1257973047980427, -1.91672167139317, -1.9140618895339954, -1.1013070634645954, -0.8900135359067259, -0.889984588541932, -2.2397657400354904, -1.0953741977879474, -2.2397666618549303, -2.130023148816224, -0.9494519663891503, -2.134588229032725, -1.095374194654575, -0.8904507884482765, -1.914059273253778, -1.0954149561280189, -2.1300267984965324, -2.1520735632349504, -1.0977489887473857, -0.6972612378382806, -1.0953903883438814, -1.2789496616758411, -1.0954133167429008, -2.1345303226638497, -2.123293932090008, -2.186333715421136, -2.107156297281809, -2.240630597639111, -0.889912777049464, -1.095381067919171, -1.095416595149932, -0.8898904935675639, -0.8898700588921934, -2.2397831305438975, -2.286529745714351, -1.1862244108483206, -1.18656043715461, -0.8904943666827025, -1.2776973823551567, -1.1016397483758908, -1.0703579700271575, -1.095382974002733, -1.0954198178833423, -1.0954267101883808, -1.0954265230595706, -2.239804866790743, -1.9256729292903778, -0.890460812542495, -1.6272257193908855, -1.9140598624161291, -2.154662938589356, -1.095414930485902, -0.8900374914105856, -1.6272360765395786, -1.9168755053591455, -1.627228292873988, -1.7589609693738784, -2.287114255435093, -2.239760050625718, -1.9225881653883585, -0.8901734645995851, -2.13499910098375, -1.0976636479108466, -1.220190288214191, -0.8898703151231544, -1.6272214942312182, -1.6274563252614864, -1.0954029776591607, -0.8898714818488697, -1.277696504919678, -1.236620897754638, -2.8273247283027625, -2.2457246524524694, -2.2399304966049254, -1.099592197341331, -2.1546165026299033, -1.1919209900213095, -1.0953944316929352, -1.1038244732734082, -0.8901207099640639, -2.6585408690185126, -1.9205469344313666, -2.240336241313303, -1.0953845563403097, -2.146345796743172, -1.9140796364016062, -2.125960133266725, -0.8899133608482531, -2.239761557605708, -0.6972430573273337, -2.1300323022916374, -2.1941221244223903, -2.1257909007351348, -2.240111482449125, -2.1694996943901996, -2.342353580376622, -2.0451975411259835, -2.2402522731385273, -1.2255231233137904, -2.0725697266738634, -0.8898708977256922, -1.0953856801943618, -2.1355215187021583, -2.1192476568987666, -0.14591607893523828, -2.2621036376068293, -1.2785740832298302, -0.8898732811949872, -1.2255693489739405, -0.2121148733696807, -1.9178457164951341, -2.1258336074804856, -1.2776973828930367, -2.2442494732165477, -2.1410446706002793, -2.1409944903724396, -2.0961983615502047, -1.0954381860828648, -1.9142009513276093, -1.9140643726983633, -1.4517409882644472, -1.2777170481599889, -0.3801636061993761, -1.2777734689908515, -1.1539156266592896, -1.6289287841434743, -2.1451561845782225, -1.095833126030113, -1.2777090434670468, -1.1200412242161282, -1.1852220450847424, -1.0953748346431162, -1.0954691745999345, -1.7586523900950908, -2.068778256534634, -1.9167209466602582, -2.2404176622296768, -1.9140615951453812], \"z\": [0.13206070335106007, 0.2904854318921019, -0.006890803814410348, 0.3547605719849131, 0.2904457383533256, 0.29895786177762623, 0.21576981917238736, -0.0068541218934999575, 0.03169451106149145, -0.006864601518975903, 0.22346474275739248, -0.0748034998949027, 0.13196648197468072, -0.006949561261740987, -0.006868810991710709, 0.04744693842657748, 0.10441238789470417, -0.006871267529526378, -0.006854769077177102, -0.006852256373814949, 0.03169760806006991, 0.21453982572021993, 0.11998618877711115, -0.014827135325163431, -0.006860872685445662, -0.006998466596296831, -0.006862189069445151, -0.006850331737229966, 0.14748237956097143, -0.007493403572162557, -0.006889500340058434, -0.0068791916281938, -0.06327118206345465, 0.13205929356761703, -0.00696232434827284, -0.006859989455970751, -0.0068485651514784435, -0.006872275751437044, 0.30115649571625247, -0.006852191249739236, -0.010557209007030392, 0.132062125885595, -0.007056694576642846, -0.006852042487038401, -0.006902871656704439, -0.006868305039751352, 0.1316641138242581, 0.1320446825987402, 0.13205475422402022, 0.1320572390083913, 0.13207227828629145, 0.0317024830229498, -0.006862225458602968, 0.11168753912734337, -0.006948128891646881, 0.13204697401571241, 0.14789229991272493, 0.25775030166342844, -0.0068968398080802035, -0.0073301727119098, -0.0069385879976951725, -0.006848380074205937, -0.006944035175345217, -0.007378136505325285, 0.3313295005889851, 0.22454231903293725, 0.17159056832368114, -0.006852951224859625, -0.010672928330941843, 0.36474360486858554, -0.006848219705956073, 0.1320631395987497, -0.023128918194829054, 0.03168281607755262, 0.2979107074629013, 0.13205632360290817, 0.031692232417665306, -0.006899558124317488, -0.00692578687501064, 0.2905257694858064, 0.22251470659082342, 0.031693115537287035, 0.13205933452672075, -0.006978620881862916, 0.3434369300310768, -0.006893834038554491, 0.11855298260247228, 0.031668044559667145, 0.2872401947117927, -0.006877910423100347, 0.4933838680101105, -0.006854302700968132, 0.03169250971520845, -0.006848217818886724, 0.03169798276469248, 0.33222928247733785, 0.2625938685062645, 0.132067905466729, 0.2239131595823095, -0.006935320264359144, 0.13206646944163375, -0.006858100177159938, 0.3073268361133184, 0.29051711977341627, 0.29895865067178695, -0.008705027689690116, 0.031247175655181612, 0.0316353144902999, 0.26259497322976916, -0.0068487128206753504, 0.2625905297968746, 0.297925870792085, 0.013766832006950617, 0.35473061124451954, -0.006849817377135845, 0.03151250669190986, 0.29895877535490256, -0.006910043601309368, 0.2979164923778559, 0.3893492027233123, -0.007584281187026239, -0.08680757726748414, -0.006863159506093108, 0.13104250461514888, -0.00686667156303262, 0.354718880956709, 0.438490873958012, 0.23715120535984355, 0.3561614454611072, 0.2614384800625566, 0.03166965857299708, -0.006859329545507043, -0.006863410424139197, 0.03168079280538204, 0.03169850722761709, 0.2625832556553278, 0.2589900205659429, -0.11493582067140788, 0.10468232543052365, 0.031453753625738025, 0.13206067284993667, -0.008706212960722012, -0.07060410861819841, -0.006855699582315726, -0.006870480557621808, -0.006880085489404945, -0.006880562433172692, 0.2625794064989233, 0.29292509157070756, 0.030179472297023873, 0.1476282357082671, 0.29895348406365035, 0.2872052322827391, -0.0069101089565472154, 0.0315629665066632, 0.1476240653240187, 0.29047820231345556, 0.14762664336292344, 0.22423978088983892, 0.23896049381925713, 0.26259490731771173, 0.2885315338894015, 0.031569881784452275, 0.3543946432069658, -0.00950002236205501, 0.031646633133957464, 0.03169763188902976, 0.14762765622481203, 0.1474127290967743, -0.006879437426595423, 0.03169517124323726, 0.13205985281300256, 0.15257915098304342, 0.06194005730069754, 0.2595455962308783, 0.2624799536833333, -0.013075785507939898, 0.2871825005572171, 0.11124353262261569, -0.006860461424181125, -0.01656576765600548, 0.031520335083004065, 4.244383303453658, 0.28927275684902426, 0.2623864696939095, -0.00685336483515237, 0.3339582499403799, 0.2989206697011071, 0.307268717866664, 0.03167114652770537, 0.2625887286750578, -0.08680763462943568, 0.29792155350294486, 0.5236916764607091, 0.3073290244818788, 0.26249290723600904, 0.23159674839999, 0.2116268121260955, 0.39135600304325224, 0.2621724561616537, 0.1724306938197616, 0.4009020771506696, 0.031697078919903164, -0.006852377406630052, 0.3544516008557232, 0.16690991694726828, 0.18047400651575204, 0.1546030753807602, 0.1307645422621433, 0.0316963608609281, 0.17241617796443698, 0.31654857836843625, 0.29573178553616086, 0.30731305328217395, 0.13206067422085566, 0.26033684117035605, 0.2844493027444067, 0.284457079661185, 0.4559812011729525, -0.00688480093318165, 0.2989024520421085, 0.29894819093385366, 0.17156994668337738, 0.13203777213690168, -0.08166054798014681, 0.13200495866806186, -0.02423315536258268, 0.14522185070347166, 0.28321942099415526, -0.007372640993056002, 0.1320547312491648, -0.028885577420684944, 0.10439808334127439, -0.006850971304723219, -0.006911109283521585, 0.22456936690147766, 0.3451195639217906, 0.29051818948322805, 0.2619143212378239, 0.29895790035004594]}, {\"hovertemplate\": \"class=%{marker.color}<br>PC 1=%{x}<br>PC 2=%{y}<br>PC 3=%{z}<extra></extra>\", \"legendgroup\": \"3\", \"marker\": {\"color\": [3, 3, 3, 3], \"coloraxis\": \"coloraxis\", \"symbol\": \"square\"}, \"mode\": \"markers\", \"name\": \"3\", \"scene\": \"scene\", \"showlegend\": true, \"type\": \"scatter3d\", \"x\": [4.350750115561104, -0.25597678469443286, -0.23088940013182685, -0.35011188688480516], \"y\": [0.6416456441996811, -1.919439720173226, 6.108147832919289, 5.747767706296859], \"z\": [9.853008660291046, 15.55541259483884, 10.325026362707924, 23.39495234417003]}, {\"hovertemplate\": \"class=%{marker.color}<br>PC 1=%{x}<br>PC 2=%{y}<br>PC 3=%{z}<extra></extra>\", \"legendgroup\": \"2\", \"marker\": {\"color\": [2], \"coloraxis\": \"coloraxis\", \"symbol\": \"x\"}, \"mode\": \"markers\", \"name\": \"2\", \"scene\": \"scene\", \"showlegend\": true, \"type\": \"scatter3d\", \"x\": [34.12245592462859], \"y\": [1.4392136660743562], \"z\": [-1.3392624474830812]}],                        {\"coloraxis\": {\"colorbar\": {\"title\": {\"text\": \"class\"}}, \"colorscale\": [[0.0, \"#0d0887\"], [0.1111111111111111, \"#46039f\"], [0.2222222222222222, \"#7201a8\"], [0.3333333333333333, \"#9c179e\"], [0.4444444444444444, \"#bd3786\"], [0.5555555555555556, \"#d8576b\"], [0.6666666666666666, \"#ed7953\"], [0.7777777777777778, \"#fb9f3a\"], [0.8888888888888888, \"#fdca26\"], [1.0, \"#f0f921\"]]}, \"legend\": {\"title\": {\"text\": \"class\"}, \"tracegroupgap\": 0, \"x\": 0, \"y\": 1}, \"margin\": {\"t\": 60}, \"scene\": {\"domain\": {\"x\": [0.0, 1.0], \"y\": [0.0, 1.0]}, \"xaxis\": {\"title\": {\"text\": \"PC 1\"}}, \"yaxis\": {\"title\": {\"text\": \"PC 2\"}}, \"zaxis\": {\"title\": {\"text\": \"PC 3\"}}}, \"template\": {\"data\": {\"bar\": [{\"error_x\": {\"color\": \"#2a3f5f\"}, \"error_y\": {\"color\": \"#2a3f5f\"}, \"marker\": {\"line\": {\"color\": \"#E5ECF6\", \"width\": 0.5}}, \"type\": \"bar\"}], \"barpolar\": [{\"marker\": {\"line\": {\"color\": \"#E5ECF6\", \"width\": 0.5}}, \"type\": \"barpolar\"}], \"carpet\": [{\"aaxis\": {\"endlinecolor\": \"#2a3f5f\", \"gridcolor\": \"white\", \"linecolor\": \"white\", \"minorgridcolor\": \"white\", \"startlinecolor\": \"#2a3f5f\"}, \"baxis\": {\"endlinecolor\": \"#2a3f5f\", \"gridcolor\": \"white\", \"linecolor\": \"white\", \"minorgridcolor\": \"white\", \"startlinecolor\": \"#2a3f5f\"}, \"type\": \"carpet\"}], \"choropleth\": [{\"colorbar\": {\"outlinewidth\": 0, \"ticks\": \"\"}, \"type\": \"choropleth\"}], \"contour\": [{\"colorbar\": {\"outlinewidth\": 0, \"ticks\": \"\"}, \"colorscale\": [[0.0, \"#0d0887\"], [0.1111111111111111, \"#46039f\"], [0.2222222222222222, \"#7201a8\"], [0.3333333333333333, \"#9c179e\"], [0.4444444444444444, \"#bd3786\"], [0.5555555555555556, \"#d8576b\"], [0.6666666666666666, \"#ed7953\"], [0.7777777777777778, \"#fb9f3a\"], [0.8888888888888888, \"#fdca26\"], [1.0, \"#f0f921\"]], \"type\": \"contour\"}], \"contourcarpet\": [{\"colorbar\": {\"outlinewidth\": 0, \"ticks\": \"\"}, \"type\": \"contourcarpet\"}], \"heatmap\": [{\"colorbar\": {\"outlinewidth\": 0, \"ticks\": \"\"}, \"colorscale\": [[0.0, \"#0d0887\"], [0.1111111111111111, \"#46039f\"], [0.2222222222222222, \"#7201a8\"], [0.3333333333333333, \"#9c179e\"], [0.4444444444444444, \"#bd3786\"], [0.5555555555555556, \"#d8576b\"], [0.6666666666666666, \"#ed7953\"], [0.7777777777777778, \"#fb9f3a\"], [0.8888888888888888, \"#fdca26\"], [1.0, \"#f0f921\"]], \"type\": \"heatmap\"}], \"heatmapgl\": [{\"colorbar\": {\"outlinewidth\": 0, \"ticks\": \"\"}, \"colorscale\": [[0.0, \"#0d0887\"], [0.1111111111111111, \"#46039f\"], [0.2222222222222222, \"#7201a8\"], [0.3333333333333333, \"#9c179e\"], [0.4444444444444444, \"#bd3786\"], [0.5555555555555556, \"#d8576b\"], [0.6666666666666666, \"#ed7953\"], [0.7777777777777778, \"#fb9f3a\"], [0.8888888888888888, \"#fdca26\"], [1.0, \"#f0f921\"]], \"type\": \"heatmapgl\"}], \"histogram\": [{\"marker\": {\"colorbar\": {\"outlinewidth\": 0, \"ticks\": \"\"}}, \"type\": \"histogram\"}], \"histogram2d\": [{\"colorbar\": {\"outlinewidth\": 0, \"ticks\": \"\"}, \"colorscale\": [[0.0, \"#0d0887\"], [0.1111111111111111, \"#46039f\"], [0.2222222222222222, \"#7201a8\"], [0.3333333333333333, \"#9c179e\"], [0.4444444444444444, \"#bd3786\"], [0.5555555555555556, \"#d8576b\"], [0.6666666666666666, \"#ed7953\"], [0.7777777777777778, \"#fb9f3a\"], [0.8888888888888888, \"#fdca26\"], [1.0, \"#f0f921\"]], \"type\": \"histogram2d\"}], \"histogram2dcontour\": [{\"colorbar\": {\"outlinewidth\": 0, \"ticks\": \"\"}, \"colorscale\": [[0.0, \"#0d0887\"], [0.1111111111111111, \"#46039f\"], [0.2222222222222222, \"#7201a8\"], [0.3333333333333333, \"#9c179e\"], [0.4444444444444444, \"#bd3786\"], [0.5555555555555556, \"#d8576b\"], [0.6666666666666666, \"#ed7953\"], [0.7777777777777778, \"#fb9f3a\"], [0.8888888888888888, \"#fdca26\"], [1.0, \"#f0f921\"]], \"type\": \"histogram2dcontour\"}], \"mesh3d\": [{\"colorbar\": {\"outlinewidth\": 0, \"ticks\": \"\"}, \"type\": \"mesh3d\"}], \"parcoords\": [{\"line\": {\"colorbar\": {\"outlinewidth\": 0, \"ticks\": \"\"}}, \"type\": \"parcoords\"}], \"pie\": [{\"automargin\": true, \"type\": \"pie\"}], \"scatter\": [{\"marker\": {\"colorbar\": {\"outlinewidth\": 0, \"ticks\": \"\"}}, \"type\": \"scatter\"}], \"scatter3d\": [{\"line\": {\"colorbar\": {\"outlinewidth\": 0, \"ticks\": \"\"}}, \"marker\": {\"colorbar\": {\"outlinewidth\": 0, \"ticks\": \"\"}}, \"type\": \"scatter3d\"}], \"scattercarpet\": [{\"marker\": {\"colorbar\": {\"outlinewidth\": 0, \"ticks\": \"\"}}, \"type\": \"scattercarpet\"}], \"scattergeo\": [{\"marker\": {\"colorbar\": {\"outlinewidth\": 0, \"ticks\": \"\"}}, \"type\": \"scattergeo\"}], \"scattergl\": [{\"marker\": {\"colorbar\": {\"outlinewidth\": 0, \"ticks\": \"\"}}, \"type\": \"scattergl\"}], \"scattermapbox\": [{\"marker\": {\"colorbar\": {\"outlinewidth\": 0, \"ticks\": \"\"}}, \"type\": \"scattermapbox\"}], \"scatterpolar\": [{\"marker\": {\"colorbar\": {\"outlinewidth\": 0, \"ticks\": \"\"}}, \"type\": \"scatterpolar\"}], \"scatterpolargl\": [{\"marker\": {\"colorbar\": {\"outlinewidth\": 0, \"ticks\": \"\"}}, \"type\": \"scatterpolargl\"}], \"scatterternary\": [{\"marker\": {\"colorbar\": {\"outlinewidth\": 0, \"ticks\": \"\"}}, \"type\": \"scatterternary\"}], \"surface\": [{\"colorbar\": {\"outlinewidth\": 0, \"ticks\": \"\"}, \"colorscale\": [[0.0, \"#0d0887\"], [0.1111111111111111, \"#46039f\"], [0.2222222222222222, \"#7201a8\"], [0.3333333333333333, \"#9c179e\"], [0.4444444444444444, \"#bd3786\"], [0.5555555555555556, \"#d8576b\"], [0.6666666666666666, \"#ed7953\"], [0.7777777777777778, \"#fb9f3a\"], [0.8888888888888888, \"#fdca26\"], [1.0, \"#f0f921\"]], \"type\": \"surface\"}], \"table\": [{\"cells\": {\"fill\": {\"color\": \"#EBF0F8\"}, \"line\": {\"color\": \"white\"}}, \"header\": {\"fill\": {\"color\": \"#C8D4E3\"}, \"line\": {\"color\": \"white\"}}, \"type\": \"table\"}]}, \"layout\": {\"annotationdefaults\": {\"arrowcolor\": \"#2a3f5f\", \"arrowhead\": 0, \"arrowwidth\": 1}, \"coloraxis\": {\"colorbar\": {\"outlinewidth\": 0, \"ticks\": \"\"}}, \"colorscale\": {\"diverging\": [[0, \"#8e0152\"], [0.1, \"#c51b7d\"], [0.2, \"#de77ae\"], [0.3, \"#f1b6da\"], [0.4, \"#fde0ef\"], [0.5, \"#f7f7f7\"], [0.6, \"#e6f5d0\"], [0.7, \"#b8e186\"], [0.8, \"#7fbc41\"], [0.9, \"#4d9221\"], [1, \"#276419\"]], \"sequential\": [[0.0, \"#0d0887\"], [0.1111111111111111, \"#46039f\"], [0.2222222222222222, \"#7201a8\"], [0.3333333333333333, \"#9c179e\"], [0.4444444444444444, \"#bd3786\"], [0.5555555555555556, \"#d8576b\"], [0.6666666666666666, \"#ed7953\"], [0.7777777777777778, \"#fb9f3a\"], [0.8888888888888888, \"#fdca26\"], [1.0, \"#f0f921\"]], \"sequentialminus\": [[0.0, \"#0d0887\"], [0.1111111111111111, \"#46039f\"], [0.2222222222222222, \"#7201a8\"], [0.3333333333333333, \"#9c179e\"], [0.4444444444444444, \"#bd3786\"], [0.5555555555555556, \"#d8576b\"], [0.6666666666666666, \"#ed7953\"], [0.7777777777777778, \"#fb9f3a\"], [0.8888888888888888, \"#fdca26\"], [1.0, \"#f0f921\"]]}, \"colorway\": [\"#636efa\", \"#EF553B\", \"#00cc96\", \"#ab63fa\", \"#FFA15A\", \"#19d3f3\", \"#FF6692\", \"#B6E880\", \"#FF97FF\", \"#FECB52\"], \"font\": {\"color\": \"#2a3f5f\"}, \"geo\": {\"bgcolor\": \"white\", \"lakecolor\": \"white\", \"landcolor\": \"#E5ECF6\", \"showlakes\": true, \"showland\": true, \"subunitcolor\": \"white\"}, \"hoverlabel\": {\"align\": \"left\"}, \"hovermode\": \"closest\", \"mapbox\": {\"style\": \"light\"}, \"paper_bgcolor\": \"white\", \"plot_bgcolor\": \"#E5ECF6\", \"polar\": {\"angularaxis\": {\"gridcolor\": \"white\", \"linecolor\": \"white\", \"ticks\": \"\"}, \"bgcolor\": \"#E5ECF6\", \"radialaxis\": {\"gridcolor\": \"white\", \"linecolor\": \"white\", \"ticks\": \"\"}}, \"scene\": {\"xaxis\": {\"backgroundcolor\": \"#E5ECF6\", \"gridcolor\": \"white\", \"gridwidth\": 2, \"linecolor\": \"white\", \"showbackground\": true, \"ticks\": \"\", \"zerolinecolor\": \"white\"}, \"yaxis\": {\"backgroundcolor\": \"#E5ECF6\", \"gridcolor\": \"white\", \"gridwidth\": 2, \"linecolor\": \"white\", \"showbackground\": true, \"ticks\": \"\", \"zerolinecolor\": \"white\"}, \"zaxis\": {\"backgroundcolor\": \"#E5ECF6\", \"gridcolor\": \"white\", \"gridwidth\": 2, \"linecolor\": \"white\", \"showbackground\": true, \"ticks\": \"\", \"zerolinecolor\": \"white\"}}, \"shapedefaults\": {\"line\": {\"color\": \"#2a3f5f\"}}, \"ternary\": {\"aaxis\": {\"gridcolor\": \"white\", \"linecolor\": \"white\", \"ticks\": \"\"}, \"baxis\": {\"gridcolor\": \"white\", \"linecolor\": \"white\", \"ticks\": \"\"}, \"bgcolor\": \"#E5ECF6\", \"caxis\": {\"gridcolor\": \"white\", \"linecolor\": \"white\", \"ticks\": \"\"}}, \"title\": {\"x\": 0.05}, \"xaxis\": {\"automargin\": true, \"gridcolor\": \"white\", \"linecolor\": \"white\", \"ticks\": \"\", \"title\": {\"standoff\": 15}, \"zerolinecolor\": \"white\", \"zerolinewidth\": 2}, \"yaxis\": {\"automargin\": true, \"gridcolor\": \"white\", \"linecolor\": \"white\", \"ticks\": \"\", \"title\": {\"standoff\": 15}, \"zerolinecolor\": \"white\", \"zerolinewidth\": 2}}}, \"width\": 800},                        {\"responsive\": true}                    ).then(function(){\n",
       "                            \n",
       "var gd = document.getElementById('6d8779bc-4fcf-4ec4-9b3b-f93ca4fc583c');\n",
       "var x = new MutationObserver(function (mutations, observer) {{\n",
       "        var display = window.getComputedStyle(gd).display;\n",
       "        if (!display || display === 'none') {{\n",
       "            console.log([gd, 'removed!']);\n",
       "            Plotly.purge(gd);\n",
       "            observer.disconnect();\n",
       "        }}\n",
       "}});\n",
       "\n",
       "// Listen for the removal of the full notebook cells\n",
       "var notebookContainer = gd.closest('#notebook-container');\n",
       "if (notebookContainer) {{\n",
       "    x.observe(notebookContainer, {childList: true});\n",
       "}}\n",
       "\n",
       "// Listen for the clearing of the current output cell\n",
       "var outputEl = gd.closest('.output');\n",
       "if (outputEl) {{\n",
       "    x.observe(outputEl, {childList: true});\n",
       "}}\n",
       "\n",
       "                        })                };                });            </script>        </div>"
      ]
     },
     "metadata": {},
     "output_type": "display_data"
    }
   ],
   "source": [
    "# Plotting the clusters on 3D plot for K=4\n",
    "import plotly.express as px\n",
    "fig=px.scatter_3d(\n",
    "    four_clusters,\n",
    "    x=\"PC 1\",\n",
    "    y=\"PC 2\",\n",
    "    z=\"PC 3\",\n",
    "    color=\"class\",\n",
    "    symbol=\"class\",\n",
    "    width=800,\n",
    ")\n",
    "\n",
    "fig.update_layout(legend=dict(x=0, y=1))\n",
    "fig.show()"
   ]
  },
  {
   "cell_type": "markdown",
   "metadata": {},
   "source": [
    "#### Testing K=5"
   ]
  },
  {
   "cell_type": "code",
   "execution_count": 399,
   "metadata": {},
   "outputs": [
    {
     "data": {
      "text/html": [
       "<div>\n",
       "<style scoped>\n",
       "    .dataframe tbody tr th:only-of-type {\n",
       "        vertical-align: middle;\n",
       "    }\n",
       "\n",
       "    .dataframe tbody tr th {\n",
       "        vertical-align: top;\n",
       "    }\n",
       "\n",
       "    .dataframe thead th {\n",
       "        text-align: right;\n",
       "    }\n",
       "</style>\n",
       "<table border=\"1\" class=\"dataframe\">\n",
       "  <thead>\n",
       "    <tr style=\"text-align: right;\">\n",
       "      <th></th>\n",
       "      <th>PC 1</th>\n",
       "      <th>PC 2</th>\n",
       "      <th>PC 3</th>\n",
       "      <th>class</th>\n",
       "    </tr>\n",
       "  </thead>\n",
       "  <tbody>\n",
       "    <tr>\n",
       "      <th>42</th>\n",
       "      <td>-0.335286</td>\n",
       "      <td>0.921799</td>\n",
       "      <td>-0.465890</td>\n",
       "      <td>1</td>\n",
       "    </tr>\n",
       "    <tr>\n",
       "      <th>404</th>\n",
       "      <td>-0.318577</td>\n",
       "      <td>0.921666</td>\n",
       "      <td>-0.466455</td>\n",
       "      <td>1</td>\n",
       "    </tr>\n",
       "    <tr>\n",
       "      <th>1337</th>\n",
       "      <td>2.335877</td>\n",
       "      <td>1.454619</td>\n",
       "      <td>-0.609352</td>\n",
       "      <td>4</td>\n",
       "    </tr>\n",
       "    <tr>\n",
       "      <th>BTC</th>\n",
       "      <td>-0.139157</td>\n",
       "      <td>-1.277697</td>\n",
       "      <td>0.132061</td>\n",
       "      <td>0</td>\n",
       "    </tr>\n",
       "    <tr>\n",
       "      <th>ETH</th>\n",
       "      <td>-0.147730</td>\n",
       "      <td>-1.916692</td>\n",
       "      <td>0.290485</td>\n",
       "      <td>0</td>\n",
       "    </tr>\n",
       "  </tbody>\n",
       "</table>\n",
       "</div>"
      ],
      "text/plain": [
       "          PC 1      PC 2      PC 3  class\n",
       "42   -0.335286  0.921799 -0.465890      1\n",
       "404  -0.318577  0.921666 -0.466455      1\n",
       "1337  2.335877  1.454619 -0.609352      4\n",
       "BTC  -0.139157 -1.277697  0.132061      0\n",
       "ETH  -0.147730 -1.916692  0.290485      0"
      ]
     },
     "execution_count": 399,
     "metadata": {},
     "output_type": "execute_result"
    }
   ],
   "source": [
    "five_clusters=test_k_value(5, pcs_df)\n",
    "five_clusters.head()"
   ]
  },
  {
   "cell_type": "code",
   "execution_count": 400,
   "metadata": {},
   "outputs": [
    {
     "data": {
      "application/vnd.plotly.v1+json": {
       "config": {
        "plotlyServerURL": "https://plot.ly"
       },
       "data": [
        {
         "hovertemplate": "class=%{marker.color}<br>PC 1=%{x}<br>PC 2=%{y}<br>PC 3=%{z}<extra></extra>",
         "legendgroup": "1",
         "marker": {
          "color": [
           1,
           1,
           1,
           1,
           1,
           1,
           1,
           1,
           1,
           1,
           1,
           1,
           1,
           1,
           1,
           1,
           1,
           1,
           1,
           1,
           1,
           1,
           1,
           1,
           1,
           1,
           1,
           1,
           1,
           1,
           1,
           1,
           1,
           1,
           1,
           1,
           1,
           1,
           1,
           1,
           1,
           1,
           1,
           1,
           1,
           1,
           1,
           1,
           1,
           1,
           1,
           1,
           1,
           1,
           1,
           1,
           1,
           1,
           1,
           1,
           1,
           1,
           1,
           1,
           1,
           1,
           1,
           1,
           1,
           1,
           1,
           1,
           1,
           1,
           1,
           1,
           1,
           1,
           1,
           1,
           1,
           1,
           1,
           1,
           1,
           1,
           1,
           1,
           1,
           1,
           1,
           1,
           1,
           1,
           1,
           1,
           1,
           1,
           1,
           1,
           1,
           1,
           1,
           1,
           1,
           1,
           1,
           1,
           1,
           1,
           1,
           1,
           1,
           1,
           1,
           1,
           1,
           1,
           1,
           1,
           1,
           1,
           1,
           1,
           1,
           1,
           1,
           1,
           1,
           1,
           1,
           1,
           1,
           1,
           1,
           1,
           1,
           1,
           1,
           1,
           1,
           1,
           1,
           1,
           1,
           1,
           1,
           1,
           1,
           1,
           1,
           1,
           1,
           1,
           1,
           1,
           1,
           1,
           1,
           1,
           1,
           1,
           1,
           1,
           1,
           1,
           1,
           1,
           1,
           1,
           1,
           1,
           1,
           1,
           1,
           1,
           1,
           1,
           1,
           1,
           1,
           1,
           1,
           1,
           1,
           1,
           1,
           1,
           1,
           1,
           1,
           1,
           1,
           1,
           1,
           1,
           1,
           1,
           1,
           1,
           1,
           1,
           1,
           1,
           1,
           1,
           1,
           1,
           1,
           1,
           1,
           1,
           1,
           1,
           1,
           1,
           1,
           1,
           1,
           1,
           1,
           1,
           1,
           1,
           1,
           1,
           1,
           1,
           1,
           1,
           1,
           1,
           1,
           1,
           1,
           1,
           1,
           1,
           1,
           1,
           1,
           1,
           1,
           1,
           1,
           1,
           1,
           1,
           1,
           1,
           1,
           1,
           1,
           1,
           1,
           1,
           1,
           1,
           1,
           1,
           1,
           1,
           1,
           1,
           1,
           1,
           1,
           1,
           1,
           1,
           1,
           1,
           1,
           1,
           1,
           1,
           1,
           1
          ],
          "coloraxis": "coloraxis",
          "symbol": "circle"
         },
         "mode": "markers",
         "name": "1",
         "scene": "scene",
         "showlegend": true,
         "type": "scatter3d",
         "x": [
          -0.3352856978551655,
          -0.31857736500562367,
          -0.3823093294569137,
          -0.2006682391457628,
          -0.30138272408126215,
          -0.272504940998366,
          -0.221873692544902,
          -0.3349443152876122,
          -0.3275021811234952,
          -0.33377826170896857,
          -0.335281621623806,
          -0.3352658592359187,
          0.7587186579374151,
          -0.3639429711587631,
          -0.3761240604106002,
          -0.3160786730823372,
          -0.3333389246153542,
          -0.33320145983968796,
          -0.38220374488514014,
          -0.4943779684556272,
          -0.04563517203933374,
          -0.2645837331330677,
          -0.3061582593765369,
          -0.2559376697971643,
          -0.25656153717944946,
          -0.3296144705023393,
          -0.3295714531800142,
          -0.33368287406795866,
          0.023810380966555238,
          -0.3531410727515274,
          -0.3825763761139148,
          -0.2614852994773593,
          -0.31865915473350137,
          -0.3824877489379998,
          -0.3104467467909315,
          -0.3339592560717578,
          -0.3199497748042375,
          -0.38245214439465336,
          -0.2619545982457361,
          -0.25634181651000865,
          -0.32636196851110594,
          0.28541672568696325,
          -0.3523432859247252,
          -0.3005921935634715,
          -0.36336300604587046,
          -0.30613851688474947,
          -0.25663708727299855,
          -0.3007767362896824,
          -0.3352677185983321,
          -0.25658915154472417,
          -0.35358704030150817,
          -0.3350013296141936,
          -0.3825578557813075,
          -0.6268485928476609,
          -0.3822015901350006,
          -0.4191362931999351,
          -0.30453548074290016,
          -0.25610938858212423,
          -0.2939165502028531,
          -0.22432265959259404,
          -0.07517718836309971,
          -0.30135356050892975,
          -0.05908316968615435,
          -0.301417460700067,
          -0.2198250526418112,
          -0.33487681023693194,
          -0.3044037980796093,
          -0.3797183112212595,
          0.8503853204880636,
          -0.30121689837969834,
          0.02588339195444615,
          -0.37580642740453246,
          -0.380394868499994,
          -0.2999565222035714,
          -0.297617596148753,
          -0.3415068677546629,
          -0.3812892424574746,
          -0.3829421800967508,
          -0.3111039640917803,
          -0.33491500216821657,
          -0.3333496707111979,
          -0.22644956612187617,
          -0.3410425039959163,
          -0.38203020317462705,
          -0.3341169647899261,
          -0.3013983291202397,
          -0.3825470091908544,
          -0.3351047413393258,
          -0.3352619363262301,
          -0.30439403915059726,
          -0.2838179337392024,
          0.07432174244094514,
          -0.3747605581970867,
          -0.3348750648788442,
          -0.3686678404858899,
          -0.37408751429649845,
          -0.22788459943185313,
          -0.4012176400517958,
          -0.37383497048161407,
          -0.24108147582591488,
          -0.3821383819948749,
          0.8785974962243093,
          -0.38250179615864355,
          -0.37522561901740425,
          -0.33480230653886767,
          -0.33495703313555025,
          -0.37580642740453246,
          -0.3820753936219364,
          -0.30126063919854895,
          -0.3348030616164621,
          -0.3609077701222811,
          -0.33495086066868696,
          -0.3305251956073855,
          -0.38253086372386935,
          -0.33415909870653226,
          0.33892878370564083,
          -0.3351507146165725,
          -0.33522150406625423,
          -0.3648200633392123,
          -0.34692741033022323,
          -0.33143666451005316,
          -0.3013746799561724,
          -0.3824405616768371,
          -0.3349986714359157,
          -0.3351259568742826,
          -0.3060446064519728,
          -0.3251784673199678,
          -0.22765179734602387,
          -0.3159254190973456,
          -0.30578511132334074,
          -0.38170406789682293,
          -0.4003011524992745,
          -0.38043904506021387,
          -0.374048026612893,
          -0.3816016809721191,
          -0.3684321099565347,
          -0.3775306028900388,
          -0.3350690945138161,
          -0.3350682593327062,
          -0.328168625224822,
          0.2618120137628123,
          -0.38208162175291427,
          -0.28863439918767114,
          -0.3758407818868448,
          -0.3342774184810318,
          0.9133557721357599,
          -0.2711912779729994,
          -0.3817170682553028,
          0.6131029877823033,
          -0.34304685861007295,
          -0.34154475258500144,
          -0.391778726792003,
          -0.2562733441421695,
          0.13105609135787957,
          -0.256344339651498,
          -0.3643661183221848,
          -0.3912822927674065,
          -0.38235482687060063,
          -0.30611912339634234,
          -0.3757066014769336,
          -0.3347032342908845,
          -0.3352043854940944,
          -0.25889801399543566,
          0.6222144346681671,
          -0.3822954424603468,
          -0.3245991514850831,
          -0.33515984650387814,
          -0.3198658524338616,
          0.4360841289207091,
          -0.2997162970746081,
          -0.32776940189004816,
          -0.3831725436110523,
          -0.3351100365045395,
          -0.3920713675194558,
          -0.347894892569113,
          -0.33498010976898424,
          -0.0984982466670385,
          -0.3810845137943362,
          0.2180299837406602,
          -0.25300572427373486,
          -0.33243300571963735,
          -0.31399551777459694,
          -0.3647056474996766,
          0.08042433172469925,
          -0.3341159243074732,
          -0.381667496311507,
          -0.3638678465841412,
          -0.32164621162166124,
          -0.3352265765929107,
          -0.35355889186205297,
          -0.383224874371665,
          -0.282233024134571,
          -0.32086159525818364,
          -0.3307592489567428,
          -0.2194232357954281,
          -0.3383961063219641,
          -0.3823720694916245,
          -0.37491269197711596,
          -0.30527653550224726,
          -0.3310670793183846,
          -0.34264462530467166,
          -0.33525400732465,
          -0.3352356633351327,
          -0.29964181665363965,
          -0.3651382609217752,
          -0.3752998959544992,
          -0.3349513406629985,
          -0.3907358469185795,
          -0.37548909264270497,
          -0.3305159176121461,
          -0.28166377583541674,
          -0.41162550435958856,
          -0.30581249151867257,
          -0.13781084704463495,
          -0.30606516455962124,
          -0.3065937850633369,
          -0.3344238015143746,
          -0.19485026708749026,
          -0.36040017411469083,
          -0.27131965720420764,
          0.9825043938363653,
          -0.35866477597160595,
          -0.36481947875858645,
          -0.3937606149312166,
          -0.18642592937088573,
          -0.3486080486535142,
          -0.36353535257337427,
          -0.3281085569259066,
          -0.35313506688976276,
          -0.38184392450247223,
          -0.3033026267520525,
          -0.3745860826322748,
          -0.3306537833200889,
          -0.35299593398300727,
          -0.19430489250646257,
          -0.09175881151984734,
          -0.3460916061681453,
          0.32222547045498073,
          -0.1429521590056467,
          -0.3930532113384572,
          -0.28084710585778405,
          -0.334955353653117,
          -0.39351065503811933,
          -0.36493679106240134,
          0.574207588647177,
          -0.3536133556338554,
          -0.33443669775029417,
          -0.3693521512199587,
          -0.2611774571014282,
          -0.379400911601764,
          -0.38207182957609676,
          0.1012436237983133,
          -0.3796050271856542,
          -0.3338201811922638,
          -0.33464783743814824,
          -0.2725376305345381,
          -0.3351677229136448,
          -0.3736758833642382,
          -0.24860741933171088,
          -0.08045424597005042,
          -0.3694113314547782,
          -0.334444074589049,
          -0.32748871290309817,
          -0.3786307420399429,
          -0.3328786482252523,
          -0.3760828267538202,
          -0.38876906948970213,
          -0.2998935712077975,
          -0.11280288610453253,
          -0.330065514517431,
          -0.3292391526096851,
          -0.4267221622698696,
          -0.2567446147526304,
          -0.2533804831121195,
          -0.37601852384595114,
          -0.3898578223660414,
          -0.3333250661503419,
          -0.3064628258313888
         ],
         "y": [
          0.9217985619639767,
          0.9216656021774245,
          1.1273005078681493,
          2.094693706334641,
          0.7394703945193797,
          0.6927357034267887,
          1.646422974934029,
          0.9217917255706615,
          0.9219097104964944,
          0.9218200881590617,
          0.9217982709964191,
          0.9217981468776695,
          1.0069308931449834,
          0.8319970643982211,
          1.7287601690462466,
          0.24471795599276125,
          0.921742552586859,
          1.0808634322457933,
          1.1273020156142677,
          1.6901289389541057,
          0.8787810668862837,
          0.7383216531258981,
          0.8750495007859934,
          1.6370202985710294,
          1.6370113897540872,
          0.3899592765450862,
          0.9215868287745163,
          0.9217530060320077,
          0.9269264486589814,
          1.080578694869922,
          1.1273120587856682,
          0.2117321126405616,
          1.6847675465010814,
          1.127306340970553,
          0.9210358045202595,
          0.9217476624794471,
          0.2698777526437967,
          1.1273099922516288,
          0.21179525214393294,
          1.6370145273619796,
          0.9212275818875919,
          2.433391001960558,
          1.6086683771568129,
          0.7394495563853273,
          0.8320084053308359,
          0.875061082995681,
          1.6370019299699385,
          0.8747884437288204,
          0.9217988187368301,
          1.6370040113130813,
          1.0805583582433795,
          0.9217886545510013,
          1.1273123239541534,
          1.701241256813287,
          1.5606105363670695,
          1.2997941000393474,
          0.8750141332451429,
          1.6369829258879305,
          0.7388939655815034,
          1.6466140807028669,
          0.8454249861877831,
          0.7394708109747584,
          1.113388730176619,
          0.7394779302055021,
          1.3216984381602181,
          0.9217750676476395,
          0.8749314692026638,
          1.1270846828502739,
          0.8224335542182641,
          0.739460191113027,
          1.022902623734242,
          1.7287507366242885,
          1.1272908305682625,
          0.7393505721475238,
          0.7391728598437564,
          1.3198979666753394,
          1.1272333606284541,
          1.6935099779097589,
          0.9207470551357556,
          0.9217728926423964,
          0.9217563673493313,
          1.5901480057789448,
          1.080292606337812,
          1.127284938284128,
          0.9217523945095776,
          0.7394708700904828,
          1.1273103836108196,
          0.9217864794222764,
          0.9217989013075897,
          0.8750859941117832,
          0.3056926041811198,
          1.6854704056528178,
          1.7287279574363041,
          0.9218044258261057,
          1.1264630569239442,
          1.7287613145325877,
          1.5902654495765556,
          1.84520359028654,
          1.728582635557149,
          1.6896923972718185,
          1.127297361708744,
          1.6526277946669783,
          1.1273104332795862,
          1.7287380782345785,
          0.9217785480608055,
          0.9217739220658404,
          1.7287507366242885,
          1.1272773088569314,
          0.7394735347113451,
          0.921782406474296,
          0.7345671105628916,
          0.921783787960168,
          0.9214121140218721,
          1.127309217346192,
          0.9217140786531601,
          0.8615638644209348,
          0.9217914102111853,
          0.9217971628967201,
          1.553099352268084,
          0.5654459668470428,
          0.9215043207182155,
          0.7394712078001939,
          1.1273074659773354,
          0.9217886925097477,
          0.9217855246148791,
          0.8750240114397212,
          0.3844154903158168,
          1.5902603757870006,
          0.9213766156580244,
          0.8750420858352477,
          1.1272546749496424,
          1.70752438196234,
          1.1272657553486574,
          1.7287127870268273,
          1.1272561370334049,
          1.7285906456531255,
          1.1270349076366577,
          0.921786840310811,
          0.9217816924624951,
          0.9212017828565857,
          0.6479936596267373,
          1.1272911881358751,
          0.8739142198799982,
          1.728743261934511,
          0.9217396270708335,
          1.6000215040735084,
          0.6926234516788049,
          1.693481028168571,
          1.5395289075765557,
          1.3199318484950682,
          1.3198764733556836,
          1.7912883456617505,
          1.6369945528215328,
          0.8935373744059933,
          1.6370012926326913,
          1.7904363646287478,
          1.7912954347322396,
          1.1273085832229675,
          0.8750492034715227,
          1.7287231082710481,
          0.9217731798450713,
          0.9217967898071391,
          2.0963130364119977,
          1.7611597703728934,
          1.1272972141201174,
          0.38975416390367384,
          0.9217893708186062,
          0.7790418855435497,
          0.9153534409477957,
          0.7394397150276659,
          1.3193189014644666,
          1.7325644368305435,
          0.9217864038073955,
          1.5997346983548961,
          1.58302206170865,
          0.921792597494556,
          0.6889435491171751,
          1.1272327920965786,
          1.3069986767271262,
          1.636915500435614,
          0.9216926321206939,
          1.2731806277709996,
          1.5530974940704316,
          0.8928143536313465,
          0.9217105047179679,
          1.1272901177327397,
          1.5530396167722413,
          0.9213647639086532,
          0.9217966126007435,
          1.0805580617918484,
          1.6935118775317557,
          0.053717765196698006,
          0.3747664246803585,
          0.9217011683041616,
          1.5898292951746913,
          0.7805524661438292,
          1.1272975167089059,
          1.8713422410776417,
          0.874986789134326,
          1.4904515343086968,
          1.319909655947566,
          0.9217969193011303,
          0.9217957844313717,
          0.8748046503643466,
          1.6354912334918048,
          1.728710477949555,
          0.9217823842842005,
          1.5997537695692166,
          1.7287133635102858,
          0.7448916048550658,
          0.9189870560495714,
          2.0438493363126446,
          0.8750475799515304,
          0.9174947094802258,
          0.8750314003893579,
          1.693929313062655,
          0.9217522033506833,
          1.5998367555545476,
          1.5527189773446715,
          0.6926913351874779,
          2.0073223080021805,
          0.7916171169578805,
          1.5530951701509186,
          1.5998466605784105,
          0.86498140218769,
          0.8257652430087984,
          1.5530583329983316,
          0.9212026406310009,
          1.0805403680379964,
          1.127287598340796,
          0.8749199926493111,
          1.7286354650721594,
          0.8329855580984822,
          1.0805109263665738,
          0.911240370892316,
          2.9404084914810924,
          1.8246070895542361,
          2.64381951947206,
          1.08358018943262,
          1.5998226456206563,
          0.056318410942764394,
          0.9217886126762137,
          1.599840532568318,
          1.5530988238075827,
          0.8825449826617597,
          1.0805581919840732,
          0.9217520191926263,
          1.8711143447526233,
          1.691155644493138,
          1.1270640725223104,
          1.1272983120762947,
          0.9035878152333428,
          1.1273544903025896,
          0.921679807383853,
          0.921769777569582,
          0.6927293001286597,
          0.9218002466737204,
          1.127089952974165,
          0.9157030128271404,
          0.7425079168823996,
          1.1268016452979903,
          0.9218001041986141,
          0.9216305384912604,
          1.1272231336277472,
          0.9217211888937429,
          1.7287544721647994,
          0.7307732875895794,
          0.7394336915015399,
          0.8708316337445691,
          0.9216635828853309,
          0.3899252470038623,
          0.6089257490952595,
          1.6370086915997653,
          0.692319119708315,
          1.728755645929954,
          1.9642093497331305,
          0.9216519570778867,
          0.8750557534579171
         ],
         "z": [
          -0.4658902744492687,
          -0.4664548515510434,
          -0.42734733894114935,
          -0.08358034447413909,
          -0.3269744963280445,
          -0.028473191379649113,
          -0.6204291077896162,
          -0.4659013270461962,
          -0.4661735637326649,
          -0.4659451391771216,
          -0.46589038189014753,
          -0.46589091465754656,
          -0.26996242899831957,
          -0.3545953455675445,
          0.039590542397898554,
          -0.33246989975263863,
          -0.46595130820304487,
          -0.1295833523071357,
          -0.42735118180272025,
          -0.34874162679371784,
          -0.17687929031273816,
          -0.32811764128063997,
          -0.16739595425759196,
          -0.5407315585547403,
          -0.5407088522450333,
          -0.31140967238954087,
          -0.4660638765149464,
          -0.4659405903376674,
          -0.478959954021873,
          -0.1288576291181047,
          -0.4273394199520824,
          0.06397982569316728,
          -0.03661973769636267,
          -0.4273418272874151,
          -0.4666633660774584,
          -0.46593036743871324,
          -0.40135248913896815,
          -0.42734349144384437,
          0.06398872205739764,
          -0.540716849209951,
          -0.46613322038860927,
          -0.19945195361885223,
          -0.010217872377481384,
          -0.32699950375914766,
          -0.3546168124784774,
          -0.1673979970193209,
          -0.5407051204089184,
          -0.16755222337402942,
          -0.4658909288266771,
          -0.540707028765342,
          -0.12883976080831902,
          -0.4658989874823715,
          -0.4273400941009142,
          0.06650377442828626,
          -0.7511318868110552,
          -0.043255851990746635,
          -0.16744815694798568,
          -0.5407212165398265,
          -0.3271661935361728,
          -0.6203664676648811,
          -0.3980622390871157,
          -0.3269755577669403,
          -0.43694037506486083,
          -0.32697417324194766,
          -0.5503262006216326,
          -0.4659017189593097,
          -0.16744304241713517,
          -0.4274120147611245,
          -0.2013884831994935,
          -0.32697905856243764,
          -0.2463880661862323,
          0.03958061866211529,
          -0.42741268010492695,
          -0.32700997659359576,
          -0.32707036530162525,
          -0.5458900971151313,
          -0.42737489049861094,
          -0.016614909202496204,
          -0.46660670892973133,
          -0.4659001379577952,
          -0.46595255393921403,
          -0.2422353208455314,
          -0.12924419867991635,
          -0.42735520644356034,
          -0.46592544588981744,
          -0.32697401020881534,
          -0.42734024334624005,
          -0.46589514186126163,
          -0.4658911392785531,
          -0.16746148912170108,
          -0.1334720338761575,
          -0.6993078128525242,
          0.03954697265143065,
          -0.46590521987188177,
          -0.42772287194789194,
          0.03951969385448098,
          -0.24219925519823607,
          -0.6071246179178416,
          0.03953186317880683,
          -0.6888509221243301,
          -0.42735290601322246,
          -0.5819545932946347,
          -0.4273418190836465,
          0.039561934807285974,
          -0.4659047137751136,
          -0.4658987991625175,
          0.03958061866211529,
          -0.4273527432638726,
          -0.32697910342095104,
          -0.4659051397011722,
          -0.1453790623916154,
          -0.46590016961208536,
          -0.4660102862597255,
          -0.42734066729233305,
          -0.4659194928821888,
          -0.18821479531533536,
          -0.46589412335612396,
          -0.46589233948045916,
          -0.11293902000402213,
          -0.2874764620374869,
          -0.4659894427797984,
          -0.3269748709450212,
          -0.427343597587735,
          -0.46589908422956666,
          -0.465894293313165,
          -0.16739691364632914,
          -0.16303937727666187,
          -0.24220674414032473,
          -0.46651306958410343,
          -0.1674080420391878,
          -0.4273629843510198,
          -0.5713322665879024,
          -0.42740820776218574,
          0.039524009384560306,
          -0.4273667108308586,
          0.03934332280159707,
          -0.4274821449679097,
          -0.46589642190444736,
          -0.4658958476586527,
          -0.4660674652168535,
          -0.04178304847705753,
          -0.4273541534361261,
          -0.16787139263454545,
          0.039582687455457614,
          -0.4659183783702022,
          -0.6544097910114826,
          -0.02850565115227262,
          -0.01665405590514381,
          -0.7814089412183807,
          -0.5458405949343594,
          -0.5458862629794264,
          -0.6097762912548834,
          -0.5407168860563648,
          -0.4787711453962811,
          -0.5407152107010988,
          -0.11714990078340314,
          -0.609794359493473,
          -0.42734670545210957,
          -0.16739727832266296,
          0.03958039004099131,
          -0.4659075247586534,
          -0.465892890162791,
          -0.08174821103684701,
          0.001313407876283302,
          -0.427347435160094,
          -0.3115597817153317,
          -0.4658935672884492,
          -0.048827771546280756,
          -0.491919026263119,
          -0.32702876397071895,
          -0.5462992413719211,
          -0.3340081521694384,
          -0.46589494913815305,
          -0.41148515899011273,
          -0.05410954164646573,
          -0.4659001863419096,
          -0.034070787878050714,
          -0.4273819326007789,
          -0.5638071178594363,
          -0.540821082854424,
          -0.46597691424196375,
          -0.24734337936535344,
          -0.11294277507596316,
          -0.4769283492382173,
          -0.46592057320437297,
          -0.4273684075414227,
          -0.11296508346351485,
          -0.46631303957988857,
          -0.4658920988629202,
          -0.12884070345780474,
          -0.016605315908900305,
          0.12999438921934292,
          0.018607347836621015,
          -0.466036031843399,
          -0.24244194598071042,
          -0.3064623453599207,
          -0.4273448099238397,
          -0.2785355015143575,
          -0.16741922125844722,
          0.06691254708711061,
          -0.5458519609354063,
          -0.4658911823351623,
          -0.46589168629879624,
          -0.16759352996815477,
          -0.10635830742595627,
          0.03956774821265476,
          -0.46589998845702435,
          -0.4115337666673915,
          0.039573979484509844,
          0.011890252819284082,
          -0.4674227070057849,
          0.10555043945330243,
          -0.16740773514838586,
          -0.4722427850651974,
          -0.1673970656807713,
          -0.6870726588681132,
          -0.46591476929991865,
          -0.32188081311129463,
          -0.11304791648288104,
          -0.02850914834486732,
          -0.04877096081534219,
          -0.2866352867080692,
          -0.11293855022495937,
          -0.4114396239986067,
          -0.17037355980551844,
          -0.34733245631215537,
          -0.11297882178446342,
          -0.46606965146578616,
          -0.12885334636577309,
          -0.42736198625180455,
          -0.16747993315292414,
          0.03955175302079593,
          -0.35254302605685606,
          -0.12885472733811387,
          -0.469548252710427,
          -0.15230604502208808,
          0.01996782606967983,
          0.22340941395233763,
          -0.13650767575927988,
          -0.41146137276830647,
          0.1384022365769885,
          -0.4659005789832615,
          -0.41144758516771773,
          -0.11293490497914371,
          -0.4928704143252749,
          -0.12883882758688814,
          -0.46591429992784505,
          -0.27870187250916506,
          -0.6883246052537475,
          -0.4274206205212521,
          -0.42735532825851913,
          -0.4789137280001411,
          -0.4274475654041222,
          -0.46592724495710136,
          -0.4659090495927886,
          -0.028471305947646023,
          -0.46589456827481973,
          -0.427622441540338,
          -0.4681856744808193,
          -0.3350016711589445,
          -0.4277367331027148,
          -0.4659196785781701,
          -0.46614131689006594,
          -0.4274660022800015,
          -0.4659647867432231,
          0.039589778238815855,
          -0.12086140202563955,
          -0.32702190267923525,
          -0.17361550174936058,
          -0.46605571574259763,
          -0.3114187167093047,
          -2.7831852275642657,
          -0.5407021791230442,
          -0.029088426594601396,
          0.03958740792390732,
          0.34824455786091435,
          -0.4659411730608477,
          -0.167386111611443
         ]
        },
        {
         "hovertemplate": "class=%{marker.color}<br>PC 1=%{x}<br>PC 2=%{y}<br>PC 3=%{z}<extra></extra>",
         "legendgroup": "4",
         "marker": {
          "color": [
           4,
           4,
           4,
           4,
           4,
           4,
           4,
           4,
           4,
           4,
           4,
           4,
           4,
           4,
           4
          ],
          "coloraxis": "coloraxis",
          "symbol": "diamond"
         },
         "mode": "markers",
         "name": "4",
         "scene": "scene",
         "showlegend": true,
         "type": "scatter3d",
         "x": [
          2.3358766092515033,
          2.5573479494238587,
          3.8829034856744107,
          3.6748501803934657,
          3.2462491999218965,
          3.6797202997253877,
          8.078345687133968,
          3.8624421005602323,
          2.2300321189804726,
          3.114571409091551,
          3.6919961882477583,
          3.675243148629903,
          3.685136896128778,
          3.6863843405418706,
          2.456462765827871
         ],
         "y": [
          1.454619135275007,
          -1.324569502822724,
          -2.3176588105322358,
          2.347621198769421,
          -1.1862244108483206,
          2.34742883994054,
          -2.8273247283027625,
          2.472463911043131,
          0.21740778307017536,
          -2.2621036376068293,
          2.347254934032067,
          2.3476024229613364,
          2.3478553942706606,
          2.3478732077583286,
          1.0322441359745411
         ],
         "z": [
          -0.6093517605935361,
          -0.0748034998949027,
          0.14789229991272493,
          -0.10701160440275106,
          -0.11493582067140788,
          -0.10715816655124806,
          0.06194005730069754,
          -0.007332210512695291,
          -0.36967898458963894,
          0.1546030753807602,
          -0.1075640391378296,
          -0.10702304908312828,
          -0.10739623056659124,
          -0.10744163261835651,
          -0.08789281661271568
         ]
        },
        {
         "hovertemplate": "class=%{marker.color}<br>PC 1=%{x}<br>PC 2=%{y}<br>PC 3=%{z}<extra></extra>",
         "legendgroup": "0",
         "marker": {
          "color": [
           0,
           0,
           0,
           0,
           0,
           0,
           0,
           0,
           0,
           0,
           0,
           0,
           0,
           0,
           0,
           0,
           0,
           0,
           0,
           0,
           0,
           0,
           0,
           0,
           0,
           0,
           0,
           0,
           0,
           0,
           0,
           0,
           0,
           0,
           0,
           0,
           0,
           0,
           0,
           0,
           0,
           0,
           0,
           0,
           0,
           0,
           0,
           0,
           0,
           0,
           0,
           0,
           0,
           0,
           0,
           0,
           0,
           0,
           0,
           0,
           0,
           0,
           0,
           0,
           0,
           0,
           0,
           0,
           0,
           0,
           0,
           0,
           0,
           0,
           0,
           0,
           0,
           0,
           0,
           0,
           0,
           0,
           0,
           0,
           0,
           0,
           0,
           0,
           0,
           0,
           0,
           0,
           0,
           0,
           0,
           0,
           0,
           0,
           0,
           0,
           0,
           0,
           0,
           0,
           0,
           0,
           0,
           0,
           0,
           0,
           0,
           0,
           0,
           0,
           0,
           0,
           0,
           0,
           0,
           0,
           0,
           0,
           0,
           0,
           0,
           0,
           0,
           0,
           0,
           0,
           0,
           0,
           0,
           0,
           0,
           0,
           0,
           0,
           0,
           0,
           0,
           0,
           0,
           0,
           0,
           0,
           0,
           0,
           0,
           0,
           0,
           0,
           0,
           0,
           0,
           0,
           0,
           0,
           0,
           0,
           0,
           0,
           0,
           0,
           0,
           0,
           0,
           0,
           0,
           0,
           0,
           0,
           0,
           0,
           0,
           0,
           0,
           0,
           0,
           0,
           0,
           0,
           0,
           0,
           0,
           0,
           0,
           0,
           0,
           0,
           0,
           0,
           0,
           0,
           0,
           0,
           0,
           0,
           0,
           0,
           0,
           0,
           0,
           0,
           0,
           0,
           0,
           0,
           0,
           0,
           0,
           0,
           0,
           0,
           0,
           0,
           0,
           0,
           0,
           0,
           0,
           0,
           0,
           0,
           0,
           0,
           0,
           0,
           0,
           0,
           0,
           0,
           0,
           0,
           0
          ],
          "coloraxis": "coloraxis",
          "symbol": "square"
         },
         "mode": "markers",
         "name": "0",
         "scene": "scene",
         "showlegend": true,
         "type": "scatter3d",
         "x": [
          -0.1391567105965107,
          -0.1477301637754863,
          -0.17188687419306292,
          -0.1414610800877914,
          -0.14616734369632214,
          -0.14830393279323223,
          0.1590840706340978,
          -0.17303639457288983,
          -0.2202682856530178,
          -0.17265176888674308,
          -0.09506252273269246,
          -0.1362333388160897,
          -0.16989920487622798,
          -0.1724551594944084,
          -0.22690463106202452,
          -0.20078102193709962,
          -0.17250422224876225,
          -0.17301861287292544,
          -0.17310532519136249,
          -0.2203578745935616,
          0.1828834425027222,
          0.2397714786977035,
          0.07633597090970246,
          -0.1728509131382606,
          -0.16844353936015247,
          -0.1727900094887247,
          -0.17316248743970986,
          -0.16270607740370327,
          -0.15232455082452978,
          -0.17195416914295444,
          -0.1722323564026636,
          1.5807329240135917,
          -0.1391179760811722,
          -0.16951385636089641,
          -0.17287742898277333,
          -0.17323325517590998,
          -0.172490386117531,
          -0.1811662061664455,
          -0.17311417532109238,
          -0.03760942190624013,
          -0.13919579545497116,
          -0.16676002869845372,
          -0.1730935273206899,
          -0.17118202546885766,
          -0.1725787957046992,
          -0.12631061826058104,
          -0.13865804005633925,
          -0.1389460333164583,
          -0.13892885470241514,
          -0.13952139764541782,
          -0.2205322926690091,
          -0.172809247676324,
          -0.1858912093098134,
          -0.16990388373566725,
          -0.13872552214547607,
          0.4721800533179249,
          -0.17167354036817473,
          -0.15622611908502435,
          -0.17038872087236992,
          -0.173235466472154,
          -0.17025341688611467,
          -0.15643738271553753,
          -0.11132849769536472,
          -0.12916681068434963,
          -0.18575098639289356,
          -0.17310820027117746,
          -0.045673307075707735,
          -0.10208853728220704,
          -0.1732443891672672,
          -0.13922364773834145,
          0.4809519856984999,
          -0.2199177273702426,
          -0.16324267341694482,
          -0.1389627084802265,
          -0.22020343009104726,
          -0.17136247343136388,
          -0.17055241821677905,
          -0.14880044278527257,
          0.38109500297335347,
          -0.22023893758314408,
          -0.13911910145333198,
          -0.16919072372463642,
          -0.15552951860571845,
          -0.17180361724699292,
          0.28055784050876964,
          -0.21939719043036077,
          -0.1470127287678801,
          -0.17205144872308034,
          -0.1514907150341548,
          -0.17303367546240941,
          -0.22020205431591588,
          -0.1732444478289142,
          -0.22035242912797876,
          -0.2555979805605068,
          0.31663641830147443,
          -0.13937992135872573,
          -0.1091819357330023,
          -0.17040291682957986,
          -0.13933843687322084,
          -0.17290685121224092,
          -0.14683880758626794,
          -0.14854187687899917,
          -0.14832560806062853,
          -0.0997423758730454,
          -0.20689815844620463,
          -0.21817410719368802,
          0.3166308007936553,
          -0.17322613006560877,
          0.31676188103326924,
          -0.163784744661889,
          0.4971254674531106,
          -0.14022189024508513,
          -0.17319432982089372,
          -0.2130639300997146,
          -0.14833802845836067,
          -0.1713222726207792,
          -0.1635023326382009,
          -0.12836502206122788,
          -0.1440274535787737,
          -0.18067262857615582,
          -0.1727554300439237,
          -0.10560673944344062,
          -0.17257690404405648,
          -0.14007948795166889,
          -0.14696403465522348,
          -0.02028504695384888,
          -0.14364292698874445,
          0.352856148397237,
          -0.21940555760226382,
          -0.17289718659324335,
          -0.17265975949074153,
          -0.21980142294604396,
          -0.2203805558784171,
          0.317026953091234,
          -0.12528513225787022,
          -0.10827870323776806,
          -0.21122479314398304,
          -0.13915587256286951,
          -0.09858547671796575,
          1.578479620818489,
          -0.17299529543848785,
          -0.17244526598714832,
          -0.17214538694863074,
          -0.17213228267656738,
          0.3172111640892414,
          0.06462426392581663,
          -0.1746392004348653,
          -0.16740838700773011,
          -0.14818365288010343,
          -0.1457680965727314,
          -0.17132047695245456,
          -0.21591197231919448,
          -0.16725332758775205,
          -0.1469019008233875,
          -0.16735384291229638,
          -0.11937030180312791,
          1.1570895441669107,
          0.3166134980959413,
          -0.07155915993909723,
          -0.21565223979305612,
          -0.1291595006442139,
          -0.08914282612433248,
          1.0951395631107383,
          -0.22035448170669364,
          -0.16740595740450845,
          -0.16042361425327642,
          -0.17224414479590652,
          -0.22027967848211952,
          -0.1391352170197791,
          -0.17633261942241168,
          -0.12341886821358536,
          0.3204993511387511,
          0.020346413274932997,
          -0.14527014593955642,
          -0.17140726013866955,
          -0.17281948808739708,
          0.13513993753386538,
          -0.21440335234978647,
          -0.4200241089018667,
          -0.0997949695376332,
          0.32456098572189984,
          -0.17305719513518172,
          -0.15075278115786434,
          -0.14717187695971914,
          -0.14461550078848373,
          -0.21944643991298765,
          0.31679652657056434,
          -0.18073233318590465,
          -0.16362951665952769,
          -0.159922997118634,
          -0.146923444587479,
          0.32073709481654916,
          0.5846569671644701,
          2.130714300034418,
          -0.1775058390465967,
          0.33044111612916705,
          -0.1974182120640851,
          -0.13783370707254222,
          -0.2203365901995581,
          -0.17308183986709885,
          -0.12903677520340748,
          -0.1464400661188045,
          -0.21164123876227176,
          -0.09886904931861851,
          -0.22030786649895928,
          -0.19684415581233392,
          -0.34324867706503615,
          -0.04262320774528065,
          -0.1463193507853587,
          -0.13915591022956145,
          0.3967961281257866,
          -0.13463037806882452,
          -0.13502370146942283,
          -0.1443899686175761,
          -0.17197085440856974,
          -0.1462377946393054,
          -0.14801599113609215,
          -0.1849595297139951,
          -0.13842997119252776,
          -0.0946886079736048,
          -0.13729454317158005,
          0.5250083276957221,
          -0.09235778593680977,
          -0.08533446740918903,
          -0.15658837470402237,
          -0.13894540207064807,
          0.5446751278584475,
          -0.20034077507653483,
          -0.17315893726183346,
          -0.17110860181113577,
          -0.12990366833277583,
          -0.12594250888040467,
          -0.14857512999721506,
          0.33843347132206186,
          -0.1483049925900208
         ],
         "y": [
          -1.2776973943222716,
          -1.916691777909927,
          -1.0954118440568286,
          -2.1344767186420643,
          -1.9168161271363313,
          -1.9140615800115,
          -1.769190321318776,
          -1.0953842593085894,
          -0.8898692239269553,
          -1.0954087985251169,
          -1.7595497251598087,
          -1.2777595690665382,
          -1.0954993963659962,
          -1.0954311337357279,
          -0.4174246207261744,
          -1.1852136651759757,
          -1.0953956329242691,
          -1.095384005386178,
          -1.0953797541276873,
          -0.8898691064340378,
          -1.765746030511708,
          -1.2869382661756565,
          -1.101237105189075,
          -1.0953816106364611,
          -1.0955133850758954,
          -1.0953884234523596,
          -1.0953792404989242,
          -1.6273743794255329,
          -1.0960659969973194,
          -1.095403027276117,
          -1.0954085682072456,
          -1.1336018139125306,
          -1.277696841193962,
          -1.0955046636486245,
          -1.0953812908714982,
          -1.0953733467023017,
          -1.0953911289433549,
          -2.141528370473933,
          -1.0953776874974084,
          -1.1039118599461508,
          -1.2776979524534624,
          -1.0955153307188985,
          -1.095385075163378,
          -1.0955177150249826,
          -1.0953988168105637,
          -1.2781194745026554,
          -1.2777084403544765,
          -1.277709052481228,
          -1.2777353467823405,
          -1.2776881100232185,
          -0.8898590257266566,
          -1.09538241247594,
          -1.191418235198791,
          -1.0955102332337368,
          -1.2777079988174695,
          -2.2445139406756525,
          -1.0954235480896675,
          -1.0963028723883363,
          -1.0954479897241647,
          -1.0953742708486176,
          -1.0954415975337053,
          -1.0958309698667625,
          -2.1123013544760876,
          -1.7586399122285103,
          -1.4516824491712477,
          -1.0953729726437693,
          -1.1005349579661985,
          -2.2105149003239264,
          -1.0953729954910576,
          -1.2776983501836554,
          -1.1502844445167588,
          -0.889873297300655,
          -2.1300543717591323,
          -1.2777175039136563,
          -0.8898689962013228,
          -1.0954925230046806,
          -1.0955087242427857,
          -1.9167188690890031,
          -2.1803643573871496,
          -0.8898660111936415,
          -1.27769685726426,
          -1.0954613428325644,
          -2.006082098802513,
          -1.0954106551488747,
          -1.2867932382688962,
          -0.8899014829931247,
          -2.1545924979288147,
          -1.0954731060399479,
          -2.198851691211071,
          -1.0953835220689039,
          -0.8898717701985865,
          -1.0953729942125605,
          -0.889873917548667,
          -1.1688975415463714,
          -2.239757977298454,
          -1.2776927148690629,
          -1.7591926215050502,
          -1.0954716688237969,
          -1.2776927526459203,
          -1.0953886951287777,
          -2.1257973047980427,
          -1.91672167139317,
          -1.9140618895339954,
          -1.1013070634645954,
          -0.8900135359067259,
          -0.889984588541932,
          -2.2397657400354904,
          -1.0953741977879474,
          -2.2397666618549303,
          -2.130023148816224,
          -0.9494519663891503,
          -2.134588229032725,
          -1.095374194654575,
          -0.8904507884482765,
          -1.914059273253778,
          -1.0954149561280189,
          -2.1300267984965324,
          -2.1520735632349504,
          -1.0977489887473857,
          -0.6972612378382806,
          -1.0953903883438814,
          -1.2789496616758411,
          -1.0954133167429008,
          -2.1345303226638497,
          -2.123293932090008,
          -2.186333715421136,
          -2.107156297281809,
          -2.240630597639111,
          -0.889912777049464,
          -1.095381067919171,
          -1.095416595149932,
          -0.8898904935675639,
          -0.8898700588921934,
          -2.2397831305438975,
          -2.286529745714351,
          -1.18656043715461,
          -0.8904943666827025,
          -1.2776973823551567,
          -1.1016397483758908,
          -1.0703579700271575,
          -1.095382974002733,
          -1.0954198178833423,
          -1.0954267101883808,
          -1.0954265230595706,
          -2.239804866790743,
          -1.9256729292903778,
          -0.890460812542495,
          -1.6272257193908855,
          -1.9140598624161291,
          -2.154662938589356,
          -1.095414930485902,
          -0.8900374914105856,
          -1.6272360765395786,
          -1.9168755053591455,
          -1.627228292873988,
          -1.7589609693738784,
          -2.287114255435093,
          -2.239760050625718,
          -1.9225881653883585,
          -0.8901734645995851,
          -2.13499910098375,
          -1.0976636479108466,
          -1.220190288214191,
          -0.8898703151231544,
          -1.6272214942312182,
          -1.6274563252614864,
          -1.0954029776591607,
          -0.8898714818488697,
          -1.277696504919678,
          -1.236620897754638,
          -2.2457246524524694,
          -2.2399304966049254,
          -1.099592197341331,
          -2.1546165026299033,
          -1.1919209900213095,
          -1.0953944316929352,
          -1.1038244732734082,
          -0.8901207099640639,
          -2.6585408690185126,
          -1.9205469344313666,
          -2.240336241313303,
          -1.0953845563403097,
          -2.146345796743172,
          -1.9140796364016062,
          -2.125960133266725,
          -0.8899133608482531,
          -2.239761557605708,
          -0.6972430573273337,
          -2.1300323022916374,
          -2.1941221244223903,
          -2.1257909007351348,
          -2.240111482449125,
          -2.1694996943901996,
          -2.342353580376622,
          -2.0451975411259835,
          -2.2402522731385273,
          -1.2255231233137904,
          -2.0725697266738634,
          -0.8898708977256922,
          -1.0953856801943618,
          -2.1355215187021583,
          -2.1192476568987666,
          -0.14591607893523828,
          -1.2785740832298302,
          -0.8898732811949872,
          -1.2255693489739405,
          -0.2121148733696807,
          -1.9178457164951341,
          -2.1258336074804856,
          -1.2776973828930367,
          -2.2442494732165477,
          -2.1410446706002793,
          -2.1409944903724396,
          -2.0961983615502047,
          -1.0954381860828648,
          -1.9142009513276093,
          -1.9140643726983633,
          -1.4517409882644472,
          -1.2777170481599889,
          -0.3801636061993761,
          -1.2777734689908515,
          -1.1539156266592896,
          -1.6289287841434743,
          -2.1451561845782225,
          -1.095833126030113,
          -1.2777090434670468,
          -1.1200412242161282,
          -1.1852220450847424,
          -1.0953748346431162,
          -1.0954691745999345,
          -1.7586523900950908,
          -2.068778256534634,
          -1.9167209466602582,
          -2.2404176622296768,
          -1.9140615951453812
         ],
         "z": [
          0.13206070335106007,
          0.2904854318921019,
          -0.006890803814410348,
          0.3547605719849131,
          0.2904457383533256,
          0.29895786177762623,
          0.21576981917238736,
          -0.0068541218934999575,
          0.03169451106149145,
          -0.006864601518975903,
          0.22346474275739248,
          0.13196648197468072,
          -0.006949561261740987,
          -0.006868810991710709,
          0.04744693842657748,
          0.10441238789470417,
          -0.006871267529526378,
          -0.006854769077177102,
          -0.006852256373814949,
          0.03169760806006991,
          0.21453982572021993,
          0.11998618877711115,
          -0.014827135325163431,
          -0.006860872685445662,
          -0.006998466596296831,
          -0.006862189069445151,
          -0.006850331737229966,
          0.14748237956097143,
          -0.007493403572162557,
          -0.006889500340058434,
          -0.0068791916281938,
          -0.06327118206345465,
          0.13205929356761703,
          -0.00696232434827284,
          -0.006859989455970751,
          -0.0068485651514784435,
          -0.006872275751437044,
          0.30115649571625247,
          -0.006852191249739236,
          -0.010557209007030392,
          0.132062125885595,
          -0.007056694576642846,
          -0.006852042487038401,
          -0.006902871656704439,
          -0.006868305039751352,
          0.1316641138242581,
          0.1320446825987402,
          0.13205475422402022,
          0.1320572390083913,
          0.13207227828629145,
          0.0317024830229498,
          -0.006862225458602968,
          0.11168753912734337,
          -0.006948128891646881,
          0.13204697401571241,
          0.25775030166342844,
          -0.0068968398080802035,
          -0.0073301727119098,
          -0.0069385879976951725,
          -0.006848380074205937,
          -0.006944035175345217,
          -0.007378136505325285,
          0.3313295005889851,
          0.22454231903293725,
          0.17159056832368114,
          -0.006852951224859625,
          -0.010672928330941843,
          0.36474360486858554,
          -0.006848219705956073,
          0.1320631395987497,
          -0.023128918194829054,
          0.03168281607755262,
          0.2979107074629013,
          0.13205632360290817,
          0.031692232417665306,
          -0.006899558124317488,
          -0.00692578687501064,
          0.2905257694858064,
          0.22251470659082342,
          0.031693115537287035,
          0.13205933452672075,
          -0.006978620881862916,
          0.3434369300310768,
          -0.006893834038554491,
          0.11855298260247228,
          0.031668044559667145,
          0.2872401947117927,
          -0.006877910423100347,
          0.4933838680101105,
          -0.006854302700968132,
          0.03169250971520845,
          -0.006848217818886724,
          0.03169798276469248,
          0.33222928247733785,
          0.2625938685062645,
          0.132067905466729,
          0.2239131595823095,
          -0.006935320264359144,
          0.13206646944163375,
          -0.006858100177159938,
          0.3073268361133184,
          0.29051711977341627,
          0.29895865067178695,
          -0.008705027689690116,
          0.031247175655181612,
          0.0316353144902999,
          0.26259497322976916,
          -0.0068487128206753504,
          0.2625905297968746,
          0.297925870792085,
          0.013766832006950617,
          0.35473061124451954,
          -0.006849817377135845,
          0.03151250669190986,
          0.29895877535490256,
          -0.006910043601309368,
          0.2979164923778559,
          0.3893492027233123,
          -0.007584281187026239,
          -0.08680757726748414,
          -0.006863159506093108,
          0.13104250461514888,
          -0.00686667156303262,
          0.354718880956709,
          0.438490873958012,
          0.23715120535984355,
          0.3561614454611072,
          0.2614384800625566,
          0.03166965857299708,
          -0.006859329545507043,
          -0.006863410424139197,
          0.03168079280538204,
          0.03169850722761709,
          0.2625832556553278,
          0.2589900205659429,
          0.10468232543052365,
          0.031453753625738025,
          0.13206067284993667,
          -0.008706212960722012,
          -0.07060410861819841,
          -0.006855699582315726,
          -0.006870480557621808,
          -0.006880085489404945,
          -0.006880562433172692,
          0.2625794064989233,
          0.29292509157070756,
          0.030179472297023873,
          0.1476282357082671,
          0.29895348406365035,
          0.2872052322827391,
          -0.0069101089565472154,
          0.0315629665066632,
          0.1476240653240187,
          0.29047820231345556,
          0.14762664336292344,
          0.22423978088983892,
          0.23896049381925713,
          0.26259490731771173,
          0.2885315338894015,
          0.031569881784452275,
          0.3543946432069658,
          -0.00950002236205501,
          0.031646633133957464,
          0.03169763188902976,
          0.14762765622481203,
          0.1474127290967743,
          -0.006879437426595423,
          0.03169517124323726,
          0.13205985281300256,
          0.15257915098304342,
          0.2595455962308783,
          0.2624799536833333,
          -0.013075785507939898,
          0.2871825005572171,
          0.11124353262261569,
          -0.006860461424181125,
          -0.01656576765600548,
          0.031520335083004065,
          4.244383303453658,
          0.28927275684902426,
          0.2623864696939095,
          -0.00685336483515237,
          0.3339582499403799,
          0.2989206697011071,
          0.307268717866664,
          0.03167114652770537,
          0.2625887286750578,
          -0.08680763462943568,
          0.29792155350294486,
          0.5236916764607091,
          0.3073290244818788,
          0.26249290723600904,
          0.23159674839999,
          0.2116268121260955,
          0.39135600304325224,
          0.2621724561616537,
          0.1724306938197616,
          0.4009020771506696,
          0.031697078919903164,
          -0.006852377406630052,
          0.3544516008557232,
          0.16690991694726828,
          0.18047400651575204,
          0.1307645422621433,
          0.0316963608609281,
          0.17241617796443698,
          0.31654857836843625,
          0.29573178553616086,
          0.30731305328217395,
          0.13206067422085566,
          0.26033684117035605,
          0.2844493027444067,
          0.284457079661185,
          0.4559812011729525,
          -0.00688480093318165,
          0.2989024520421085,
          0.29894819093385366,
          0.17156994668337738,
          0.13203777213690168,
          -0.08166054798014681,
          0.13200495866806186,
          -0.02423315536258268,
          0.14522185070347166,
          0.28321942099415526,
          -0.007372640993056002,
          0.1320547312491648,
          -0.028885577420684944,
          0.10439808334127439,
          -0.006850971304723219,
          -0.006911109283521585,
          0.22456936690147766,
          0.3451195639217906,
          0.29051818948322805,
          0.2619143212378239,
          0.29895790035004594
         ]
        },
        {
         "hovertemplate": "class=%{marker.color}<br>PC 1=%{x}<br>PC 2=%{y}<br>PC 3=%{z}<extra></extra>",
         "legendgroup": "3",
         "marker": {
          "color": [
           3,
           3,
           3,
           3
          ],
          "coloraxis": "coloraxis",
          "symbol": "x"
         },
         "mode": "markers",
         "name": "3",
         "scene": "scene",
         "showlegend": true,
         "type": "scatter3d",
         "x": [
          4.350750115561104,
          -0.25597678469443286,
          -0.23088940013182685,
          -0.35011188688480516
         ],
         "y": [
          0.6416456441996811,
          -1.919439720173226,
          6.108147832919289,
          5.747767706296859
         ],
         "z": [
          9.853008660291046,
          15.55541259483884,
          10.325026362707924,
          23.39495234417003
         ]
        },
        {
         "hovertemplate": "class=%{marker.color}<br>PC 1=%{x}<br>PC 2=%{y}<br>PC 3=%{z}<extra></extra>",
         "legendgroup": "2",
         "marker": {
          "color": [
           2
          ],
          "coloraxis": "coloraxis",
          "symbol": "cross"
         },
         "mode": "markers",
         "name": "2",
         "scene": "scene",
         "showlegend": true,
         "type": "scatter3d",
         "x": [
          34.12245592462859
         ],
         "y": [
          1.4392136660743562
         ],
         "z": [
          -1.3392624474830812
         ]
        }
       ],
       "layout": {
        "coloraxis": {
         "colorbar": {
          "title": {
           "text": "class"
          }
         },
         "colorscale": [
          [
           0,
           "#0d0887"
          ],
          [
           0.1111111111111111,
           "#46039f"
          ],
          [
           0.2222222222222222,
           "#7201a8"
          ],
          [
           0.3333333333333333,
           "#9c179e"
          ],
          [
           0.4444444444444444,
           "#bd3786"
          ],
          [
           0.5555555555555556,
           "#d8576b"
          ],
          [
           0.6666666666666666,
           "#ed7953"
          ],
          [
           0.7777777777777778,
           "#fb9f3a"
          ],
          [
           0.8888888888888888,
           "#fdca26"
          ],
          [
           1,
           "#f0f921"
          ]
         ]
        },
        "legend": {
         "title": {
          "text": "class"
         },
         "tracegroupgap": 0,
         "x": 0,
         "y": 1
        },
        "margin": {
         "t": 60
        },
        "scene": {
         "domain": {
          "x": [
           0,
           1
          ],
          "y": [
           0,
           1
          ]
         },
         "xaxis": {
          "title": {
           "text": "PC 1"
          }
         },
         "yaxis": {
          "title": {
           "text": "PC 2"
          }
         },
         "zaxis": {
          "title": {
           "text": "PC 3"
          }
         }
        },
        "template": {
         "data": {
          "bar": [
           {
            "error_x": {
             "color": "#2a3f5f"
            },
            "error_y": {
             "color": "#2a3f5f"
            },
            "marker": {
             "line": {
              "color": "#E5ECF6",
              "width": 0.5
             }
            },
            "type": "bar"
           }
          ],
          "barpolar": [
           {
            "marker": {
             "line": {
              "color": "#E5ECF6",
              "width": 0.5
             }
            },
            "type": "barpolar"
           }
          ],
          "carpet": [
           {
            "aaxis": {
             "endlinecolor": "#2a3f5f",
             "gridcolor": "white",
             "linecolor": "white",
             "minorgridcolor": "white",
             "startlinecolor": "#2a3f5f"
            },
            "baxis": {
             "endlinecolor": "#2a3f5f",
             "gridcolor": "white",
             "linecolor": "white",
             "minorgridcolor": "white",
             "startlinecolor": "#2a3f5f"
            },
            "type": "carpet"
           }
          ],
          "choropleth": [
           {
            "colorbar": {
             "outlinewidth": 0,
             "ticks": ""
            },
            "type": "choropleth"
           }
          ],
          "contour": [
           {
            "colorbar": {
             "outlinewidth": 0,
             "ticks": ""
            },
            "colorscale": [
             [
              0,
              "#0d0887"
             ],
             [
              0.1111111111111111,
              "#46039f"
             ],
             [
              0.2222222222222222,
              "#7201a8"
             ],
             [
              0.3333333333333333,
              "#9c179e"
             ],
             [
              0.4444444444444444,
              "#bd3786"
             ],
             [
              0.5555555555555556,
              "#d8576b"
             ],
             [
              0.6666666666666666,
              "#ed7953"
             ],
             [
              0.7777777777777778,
              "#fb9f3a"
             ],
             [
              0.8888888888888888,
              "#fdca26"
             ],
             [
              1,
              "#f0f921"
             ]
            ],
            "type": "contour"
           }
          ],
          "contourcarpet": [
           {
            "colorbar": {
             "outlinewidth": 0,
             "ticks": ""
            },
            "type": "contourcarpet"
           }
          ],
          "heatmap": [
           {
            "colorbar": {
             "outlinewidth": 0,
             "ticks": ""
            },
            "colorscale": [
             [
              0,
              "#0d0887"
             ],
             [
              0.1111111111111111,
              "#46039f"
             ],
             [
              0.2222222222222222,
              "#7201a8"
             ],
             [
              0.3333333333333333,
              "#9c179e"
             ],
             [
              0.4444444444444444,
              "#bd3786"
             ],
             [
              0.5555555555555556,
              "#d8576b"
             ],
             [
              0.6666666666666666,
              "#ed7953"
             ],
             [
              0.7777777777777778,
              "#fb9f3a"
             ],
             [
              0.8888888888888888,
              "#fdca26"
             ],
             [
              1,
              "#f0f921"
             ]
            ],
            "type": "heatmap"
           }
          ],
          "heatmapgl": [
           {
            "colorbar": {
             "outlinewidth": 0,
             "ticks": ""
            },
            "colorscale": [
             [
              0,
              "#0d0887"
             ],
             [
              0.1111111111111111,
              "#46039f"
             ],
             [
              0.2222222222222222,
              "#7201a8"
             ],
             [
              0.3333333333333333,
              "#9c179e"
             ],
             [
              0.4444444444444444,
              "#bd3786"
             ],
             [
              0.5555555555555556,
              "#d8576b"
             ],
             [
              0.6666666666666666,
              "#ed7953"
             ],
             [
              0.7777777777777778,
              "#fb9f3a"
             ],
             [
              0.8888888888888888,
              "#fdca26"
             ],
             [
              1,
              "#f0f921"
             ]
            ],
            "type": "heatmapgl"
           }
          ],
          "histogram": [
           {
            "marker": {
             "colorbar": {
              "outlinewidth": 0,
              "ticks": ""
             }
            },
            "type": "histogram"
           }
          ],
          "histogram2d": [
           {
            "colorbar": {
             "outlinewidth": 0,
             "ticks": ""
            },
            "colorscale": [
             [
              0,
              "#0d0887"
             ],
             [
              0.1111111111111111,
              "#46039f"
             ],
             [
              0.2222222222222222,
              "#7201a8"
             ],
             [
              0.3333333333333333,
              "#9c179e"
             ],
             [
              0.4444444444444444,
              "#bd3786"
             ],
             [
              0.5555555555555556,
              "#d8576b"
             ],
             [
              0.6666666666666666,
              "#ed7953"
             ],
             [
              0.7777777777777778,
              "#fb9f3a"
             ],
             [
              0.8888888888888888,
              "#fdca26"
             ],
             [
              1,
              "#f0f921"
             ]
            ],
            "type": "histogram2d"
           }
          ],
          "histogram2dcontour": [
           {
            "colorbar": {
             "outlinewidth": 0,
             "ticks": ""
            },
            "colorscale": [
             [
              0,
              "#0d0887"
             ],
             [
              0.1111111111111111,
              "#46039f"
             ],
             [
              0.2222222222222222,
              "#7201a8"
             ],
             [
              0.3333333333333333,
              "#9c179e"
             ],
             [
              0.4444444444444444,
              "#bd3786"
             ],
             [
              0.5555555555555556,
              "#d8576b"
             ],
             [
              0.6666666666666666,
              "#ed7953"
             ],
             [
              0.7777777777777778,
              "#fb9f3a"
             ],
             [
              0.8888888888888888,
              "#fdca26"
             ],
             [
              1,
              "#f0f921"
             ]
            ],
            "type": "histogram2dcontour"
           }
          ],
          "mesh3d": [
           {
            "colorbar": {
             "outlinewidth": 0,
             "ticks": ""
            },
            "type": "mesh3d"
           }
          ],
          "parcoords": [
           {
            "line": {
             "colorbar": {
              "outlinewidth": 0,
              "ticks": ""
             }
            },
            "type": "parcoords"
           }
          ],
          "pie": [
           {
            "automargin": true,
            "type": "pie"
           }
          ],
          "scatter": [
           {
            "marker": {
             "colorbar": {
              "outlinewidth": 0,
              "ticks": ""
             }
            },
            "type": "scatter"
           }
          ],
          "scatter3d": [
           {
            "line": {
             "colorbar": {
              "outlinewidth": 0,
              "ticks": ""
             }
            },
            "marker": {
             "colorbar": {
              "outlinewidth": 0,
              "ticks": ""
             }
            },
            "type": "scatter3d"
           }
          ],
          "scattercarpet": [
           {
            "marker": {
             "colorbar": {
              "outlinewidth": 0,
              "ticks": ""
             }
            },
            "type": "scattercarpet"
           }
          ],
          "scattergeo": [
           {
            "marker": {
             "colorbar": {
              "outlinewidth": 0,
              "ticks": ""
             }
            },
            "type": "scattergeo"
           }
          ],
          "scattergl": [
           {
            "marker": {
             "colorbar": {
              "outlinewidth": 0,
              "ticks": ""
             }
            },
            "type": "scattergl"
           }
          ],
          "scattermapbox": [
           {
            "marker": {
             "colorbar": {
              "outlinewidth": 0,
              "ticks": ""
             }
            },
            "type": "scattermapbox"
           }
          ],
          "scatterpolar": [
           {
            "marker": {
             "colorbar": {
              "outlinewidth": 0,
              "ticks": ""
             }
            },
            "type": "scatterpolar"
           }
          ],
          "scatterpolargl": [
           {
            "marker": {
             "colorbar": {
              "outlinewidth": 0,
              "ticks": ""
             }
            },
            "type": "scatterpolargl"
           }
          ],
          "scatterternary": [
           {
            "marker": {
             "colorbar": {
              "outlinewidth": 0,
              "ticks": ""
             }
            },
            "type": "scatterternary"
           }
          ],
          "surface": [
           {
            "colorbar": {
             "outlinewidth": 0,
             "ticks": ""
            },
            "colorscale": [
             [
              0,
              "#0d0887"
             ],
             [
              0.1111111111111111,
              "#46039f"
             ],
             [
              0.2222222222222222,
              "#7201a8"
             ],
             [
              0.3333333333333333,
              "#9c179e"
             ],
             [
              0.4444444444444444,
              "#bd3786"
             ],
             [
              0.5555555555555556,
              "#d8576b"
             ],
             [
              0.6666666666666666,
              "#ed7953"
             ],
             [
              0.7777777777777778,
              "#fb9f3a"
             ],
             [
              0.8888888888888888,
              "#fdca26"
             ],
             [
              1,
              "#f0f921"
             ]
            ],
            "type": "surface"
           }
          ],
          "table": [
           {
            "cells": {
             "fill": {
              "color": "#EBF0F8"
             },
             "line": {
              "color": "white"
             }
            },
            "header": {
             "fill": {
              "color": "#C8D4E3"
             },
             "line": {
              "color": "white"
             }
            },
            "type": "table"
           }
          ]
         },
         "layout": {
          "annotationdefaults": {
           "arrowcolor": "#2a3f5f",
           "arrowhead": 0,
           "arrowwidth": 1
          },
          "coloraxis": {
           "colorbar": {
            "outlinewidth": 0,
            "ticks": ""
           }
          },
          "colorscale": {
           "diverging": [
            [
             0,
             "#8e0152"
            ],
            [
             0.1,
             "#c51b7d"
            ],
            [
             0.2,
             "#de77ae"
            ],
            [
             0.3,
             "#f1b6da"
            ],
            [
             0.4,
             "#fde0ef"
            ],
            [
             0.5,
             "#f7f7f7"
            ],
            [
             0.6,
             "#e6f5d0"
            ],
            [
             0.7,
             "#b8e186"
            ],
            [
             0.8,
             "#7fbc41"
            ],
            [
             0.9,
             "#4d9221"
            ],
            [
             1,
             "#276419"
            ]
           ],
           "sequential": [
            [
             0,
             "#0d0887"
            ],
            [
             0.1111111111111111,
             "#46039f"
            ],
            [
             0.2222222222222222,
             "#7201a8"
            ],
            [
             0.3333333333333333,
             "#9c179e"
            ],
            [
             0.4444444444444444,
             "#bd3786"
            ],
            [
             0.5555555555555556,
             "#d8576b"
            ],
            [
             0.6666666666666666,
             "#ed7953"
            ],
            [
             0.7777777777777778,
             "#fb9f3a"
            ],
            [
             0.8888888888888888,
             "#fdca26"
            ],
            [
             1,
             "#f0f921"
            ]
           ],
           "sequentialminus": [
            [
             0,
             "#0d0887"
            ],
            [
             0.1111111111111111,
             "#46039f"
            ],
            [
             0.2222222222222222,
             "#7201a8"
            ],
            [
             0.3333333333333333,
             "#9c179e"
            ],
            [
             0.4444444444444444,
             "#bd3786"
            ],
            [
             0.5555555555555556,
             "#d8576b"
            ],
            [
             0.6666666666666666,
             "#ed7953"
            ],
            [
             0.7777777777777778,
             "#fb9f3a"
            ],
            [
             0.8888888888888888,
             "#fdca26"
            ],
            [
             1,
             "#f0f921"
            ]
           ]
          },
          "colorway": [
           "#636efa",
           "#EF553B",
           "#00cc96",
           "#ab63fa",
           "#FFA15A",
           "#19d3f3",
           "#FF6692",
           "#B6E880",
           "#FF97FF",
           "#FECB52"
          ],
          "font": {
           "color": "#2a3f5f"
          },
          "geo": {
           "bgcolor": "white",
           "lakecolor": "white",
           "landcolor": "#E5ECF6",
           "showlakes": true,
           "showland": true,
           "subunitcolor": "white"
          },
          "hoverlabel": {
           "align": "left"
          },
          "hovermode": "closest",
          "mapbox": {
           "style": "light"
          },
          "paper_bgcolor": "white",
          "plot_bgcolor": "#E5ECF6",
          "polar": {
           "angularaxis": {
            "gridcolor": "white",
            "linecolor": "white",
            "ticks": ""
           },
           "bgcolor": "#E5ECF6",
           "radialaxis": {
            "gridcolor": "white",
            "linecolor": "white",
            "ticks": ""
           }
          },
          "scene": {
           "xaxis": {
            "backgroundcolor": "#E5ECF6",
            "gridcolor": "white",
            "gridwidth": 2,
            "linecolor": "white",
            "showbackground": true,
            "ticks": "",
            "zerolinecolor": "white"
           },
           "yaxis": {
            "backgroundcolor": "#E5ECF6",
            "gridcolor": "white",
            "gridwidth": 2,
            "linecolor": "white",
            "showbackground": true,
            "ticks": "",
            "zerolinecolor": "white"
           },
           "zaxis": {
            "backgroundcolor": "#E5ECF6",
            "gridcolor": "white",
            "gridwidth": 2,
            "linecolor": "white",
            "showbackground": true,
            "ticks": "",
            "zerolinecolor": "white"
           }
          },
          "shapedefaults": {
           "line": {
            "color": "#2a3f5f"
           }
          },
          "ternary": {
           "aaxis": {
            "gridcolor": "white",
            "linecolor": "white",
            "ticks": ""
           },
           "baxis": {
            "gridcolor": "white",
            "linecolor": "white",
            "ticks": ""
           },
           "bgcolor": "#E5ECF6",
           "caxis": {
            "gridcolor": "white",
            "linecolor": "white",
            "ticks": ""
           }
          },
          "title": {
           "x": 0.05
          },
          "xaxis": {
           "automargin": true,
           "gridcolor": "white",
           "linecolor": "white",
           "ticks": "",
           "title": {
            "standoff": 15
           },
           "zerolinecolor": "white",
           "zerolinewidth": 2
          },
          "yaxis": {
           "automargin": true,
           "gridcolor": "white",
           "linecolor": "white",
           "ticks": "",
           "title": {
            "standoff": 15
           },
           "zerolinecolor": "white",
           "zerolinewidth": 2
          }
         }
        },
        "width": 800
       }
      },
      "text/html": [
       "<div>                            <div id=\"d60fc767-48e6-4eda-a8e1-73d7e7de004e\" class=\"plotly-graph-div\" style=\"height:525px; width:800px;\"></div>            <script type=\"text/javascript\">                require([\"plotly\"], function(Plotly) {                    window.PLOTLYENV=window.PLOTLYENV || {};                                    if (document.getElementById(\"d60fc767-48e6-4eda-a8e1-73d7e7de004e\")) {                    Plotly.newPlot(                        \"d60fc767-48e6-4eda-a8e1-73d7e7de004e\",                        [{\"hovertemplate\": \"class=%{marker.color}<br>PC 1=%{x}<br>PC 2=%{y}<br>PC 3=%{z}<extra></extra>\", \"legendgroup\": \"1\", \"marker\": {\"color\": [1, 1, 1, 1, 1, 1, 1, 1, 1, 1, 1, 1, 1, 1, 1, 1, 1, 1, 1, 1, 1, 1, 1, 1, 1, 1, 1, 1, 1, 1, 1, 1, 1, 1, 1, 1, 1, 1, 1, 1, 1, 1, 1, 1, 1, 1, 1, 1, 1, 1, 1, 1, 1, 1, 1, 1, 1, 1, 1, 1, 1, 1, 1, 1, 1, 1, 1, 1, 1, 1, 1, 1, 1, 1, 1, 1, 1, 1, 1, 1, 1, 1, 1, 1, 1, 1, 1, 1, 1, 1, 1, 1, 1, 1, 1, 1, 1, 1, 1, 1, 1, 1, 1, 1, 1, 1, 1, 1, 1, 1, 1, 1, 1, 1, 1, 1, 1, 1, 1, 1, 1, 1, 1, 1, 1, 1, 1, 1, 1, 1, 1, 1, 1, 1, 1, 1, 1, 1, 1, 1, 1, 1, 1, 1, 1, 1, 1, 1, 1, 1, 1, 1, 1, 1, 1, 1, 1, 1, 1, 1, 1, 1, 1, 1, 1, 1, 1, 1, 1, 1, 1, 1, 1, 1, 1, 1, 1, 1, 1, 1, 1, 1, 1, 1, 1, 1, 1, 1, 1, 1, 1, 1, 1, 1, 1, 1, 1, 1, 1, 1, 1, 1, 1, 1, 1, 1, 1, 1, 1, 1, 1, 1, 1, 1, 1, 1, 1, 1, 1, 1, 1, 1, 1, 1, 1, 1, 1, 1, 1, 1, 1, 1, 1, 1, 1, 1, 1, 1, 1, 1, 1, 1, 1, 1, 1, 1, 1, 1, 1, 1, 1, 1, 1, 1, 1, 1, 1, 1, 1, 1, 1, 1, 1, 1, 1, 1, 1, 1, 1, 1, 1, 1, 1, 1, 1, 1, 1, 1], \"coloraxis\": \"coloraxis\", \"symbol\": \"circle\"}, \"mode\": \"markers\", \"name\": \"1\", \"scene\": \"scene\", \"showlegend\": true, \"type\": \"scatter3d\", \"x\": [-0.3352856978551655, -0.31857736500562367, -0.3823093294569137, -0.2006682391457628, -0.30138272408126215, -0.272504940998366, -0.221873692544902, -0.3349443152876122, -0.3275021811234952, -0.33377826170896857, -0.335281621623806, -0.3352658592359187, 0.7587186579374151, -0.3639429711587631, -0.3761240604106002, -0.3160786730823372, -0.3333389246153542, -0.33320145983968796, -0.38220374488514014, -0.4943779684556272, -0.04563517203933374, -0.2645837331330677, -0.3061582593765369, -0.2559376697971643, -0.25656153717944946, -0.3296144705023393, -0.3295714531800142, -0.33368287406795866, 0.023810380966555238, -0.3531410727515274, -0.3825763761139148, -0.2614852994773593, -0.31865915473350137, -0.3824877489379998, -0.3104467467909315, -0.3339592560717578, -0.3199497748042375, -0.38245214439465336, -0.2619545982457361, -0.25634181651000865, -0.32636196851110594, 0.28541672568696325, -0.3523432859247252, -0.3005921935634715, -0.36336300604587046, -0.30613851688474947, -0.25663708727299855, -0.3007767362896824, -0.3352677185983321, -0.25658915154472417, -0.35358704030150817, -0.3350013296141936, -0.3825578557813075, -0.6268485928476609, -0.3822015901350006, -0.4191362931999351, -0.30453548074290016, -0.25610938858212423, -0.2939165502028531, -0.22432265959259404, -0.07517718836309971, -0.30135356050892975, -0.05908316968615435, -0.301417460700067, -0.2198250526418112, -0.33487681023693194, -0.3044037980796093, -0.3797183112212595, 0.8503853204880636, -0.30121689837969834, 0.02588339195444615, -0.37580642740453246, -0.380394868499994, -0.2999565222035714, -0.297617596148753, -0.3415068677546629, -0.3812892424574746, -0.3829421800967508, -0.3111039640917803, -0.33491500216821657, -0.3333496707111979, -0.22644956612187617, -0.3410425039959163, -0.38203020317462705, -0.3341169647899261, -0.3013983291202397, -0.3825470091908544, -0.3351047413393258, -0.3352619363262301, -0.30439403915059726, -0.2838179337392024, 0.07432174244094514, -0.3747605581970867, -0.3348750648788442, -0.3686678404858899, -0.37408751429649845, -0.22788459943185313, -0.4012176400517958, -0.37383497048161407, -0.24108147582591488, -0.3821383819948749, 0.8785974962243093, -0.38250179615864355, -0.37522561901740425, -0.33480230653886767, -0.33495703313555025, -0.37580642740453246, -0.3820753936219364, -0.30126063919854895, -0.3348030616164621, -0.3609077701222811, -0.33495086066868696, -0.3305251956073855, -0.38253086372386935, -0.33415909870653226, 0.33892878370564083, -0.3351507146165725, -0.33522150406625423, -0.3648200633392123, -0.34692741033022323, -0.33143666451005316, -0.3013746799561724, -0.3824405616768371, -0.3349986714359157, -0.3351259568742826, -0.3060446064519728, -0.3251784673199678, -0.22765179734602387, -0.3159254190973456, -0.30578511132334074, -0.38170406789682293, -0.4003011524992745, -0.38043904506021387, -0.374048026612893, -0.3816016809721191, -0.3684321099565347, -0.3775306028900388, -0.3350690945138161, -0.3350682593327062, -0.328168625224822, 0.2618120137628123, -0.38208162175291427, -0.28863439918767114, -0.3758407818868448, -0.3342774184810318, 0.9133557721357599, -0.2711912779729994, -0.3817170682553028, 0.6131029877823033, -0.34304685861007295, -0.34154475258500144, -0.391778726792003, -0.2562733441421695, 0.13105609135787957, -0.256344339651498, -0.3643661183221848, -0.3912822927674065, -0.38235482687060063, -0.30611912339634234, -0.3757066014769336, -0.3347032342908845, -0.3352043854940944, -0.25889801399543566, 0.6222144346681671, -0.3822954424603468, -0.3245991514850831, -0.33515984650387814, -0.3198658524338616, 0.4360841289207091, -0.2997162970746081, -0.32776940189004816, -0.3831725436110523, -0.3351100365045395, -0.3920713675194558, -0.347894892569113, -0.33498010976898424, -0.0984982466670385, -0.3810845137943362, 0.2180299837406602, -0.25300572427373486, -0.33243300571963735, -0.31399551777459694, -0.3647056474996766, 0.08042433172469925, -0.3341159243074732, -0.381667496311507, -0.3638678465841412, -0.32164621162166124, -0.3352265765929107, -0.35355889186205297, -0.383224874371665, -0.282233024134571, -0.32086159525818364, -0.3307592489567428, -0.2194232357954281, -0.3383961063219641, -0.3823720694916245, -0.37491269197711596, -0.30527653550224726, -0.3310670793183846, -0.34264462530467166, -0.33525400732465, -0.3352356633351327, -0.29964181665363965, -0.3651382609217752, -0.3752998959544992, -0.3349513406629985, -0.3907358469185795, -0.37548909264270497, -0.3305159176121461, -0.28166377583541674, -0.41162550435958856, -0.30581249151867257, -0.13781084704463495, -0.30606516455962124, -0.3065937850633369, -0.3344238015143746, -0.19485026708749026, -0.36040017411469083, -0.27131965720420764, 0.9825043938363653, -0.35866477597160595, -0.36481947875858645, -0.3937606149312166, -0.18642592937088573, -0.3486080486535142, -0.36353535257337427, -0.3281085569259066, -0.35313506688976276, -0.38184392450247223, -0.3033026267520525, -0.3745860826322748, -0.3306537833200889, -0.35299593398300727, -0.19430489250646257, -0.09175881151984734, -0.3460916061681453, 0.32222547045498073, -0.1429521590056467, -0.3930532113384572, -0.28084710585778405, -0.334955353653117, -0.39351065503811933, -0.36493679106240134, 0.574207588647177, -0.3536133556338554, -0.33443669775029417, -0.3693521512199587, -0.2611774571014282, -0.379400911601764, -0.38207182957609676, 0.1012436237983133, -0.3796050271856542, -0.3338201811922638, -0.33464783743814824, -0.2725376305345381, -0.3351677229136448, -0.3736758833642382, -0.24860741933171088, -0.08045424597005042, -0.3694113314547782, -0.334444074589049, -0.32748871290309817, -0.3786307420399429, -0.3328786482252523, -0.3760828267538202, -0.38876906948970213, -0.2998935712077975, -0.11280288610453253, -0.330065514517431, -0.3292391526096851, -0.4267221622698696, -0.2567446147526304, -0.2533804831121195, -0.37601852384595114, -0.3898578223660414, -0.3333250661503419, -0.3064628258313888], \"y\": [0.9217985619639767, 0.9216656021774245, 1.1273005078681493, 2.094693706334641, 0.7394703945193797, 0.6927357034267887, 1.646422974934029, 0.9217917255706615, 0.9219097104964944, 0.9218200881590617, 0.9217982709964191, 0.9217981468776695, 1.0069308931449834, 0.8319970643982211, 1.7287601690462466, 0.24471795599276125, 0.921742552586859, 1.0808634322457933, 1.1273020156142677, 1.6901289389541057, 0.8787810668862837, 0.7383216531258981, 0.8750495007859934, 1.6370202985710294, 1.6370113897540872, 0.3899592765450862, 0.9215868287745163, 0.9217530060320077, 0.9269264486589814, 1.080578694869922, 1.1273120587856682, 0.2117321126405616, 1.6847675465010814, 1.127306340970553, 0.9210358045202595, 0.9217476624794471, 0.2698777526437967, 1.1273099922516288, 0.21179525214393294, 1.6370145273619796, 0.9212275818875919, 2.433391001960558, 1.6086683771568129, 0.7394495563853273, 0.8320084053308359, 0.875061082995681, 1.6370019299699385, 0.8747884437288204, 0.9217988187368301, 1.6370040113130813, 1.0805583582433795, 0.9217886545510013, 1.1273123239541534, 1.701241256813287, 1.5606105363670695, 1.2997941000393474, 0.8750141332451429, 1.6369829258879305, 0.7388939655815034, 1.6466140807028669, 0.8454249861877831, 0.7394708109747584, 1.113388730176619, 0.7394779302055021, 1.3216984381602181, 0.9217750676476395, 0.8749314692026638, 1.1270846828502739, 0.8224335542182641, 0.739460191113027, 1.022902623734242, 1.7287507366242885, 1.1272908305682625, 0.7393505721475238, 0.7391728598437564, 1.3198979666753394, 1.1272333606284541, 1.6935099779097589, 0.9207470551357556, 0.9217728926423964, 0.9217563673493313, 1.5901480057789448, 1.080292606337812, 1.127284938284128, 0.9217523945095776, 0.7394708700904828, 1.1273103836108196, 0.9217864794222764, 0.9217989013075897, 0.8750859941117832, 0.3056926041811198, 1.6854704056528178, 1.7287279574363041, 0.9218044258261057, 1.1264630569239442, 1.7287613145325877, 1.5902654495765556, 1.84520359028654, 1.728582635557149, 1.6896923972718185, 1.127297361708744, 1.6526277946669783, 1.1273104332795862, 1.7287380782345785, 0.9217785480608055, 0.9217739220658404, 1.7287507366242885, 1.1272773088569314, 0.7394735347113451, 0.921782406474296, 0.7345671105628916, 0.921783787960168, 0.9214121140218721, 1.127309217346192, 0.9217140786531601, 0.8615638644209348, 0.9217914102111853, 0.9217971628967201, 1.553099352268084, 0.5654459668470428, 0.9215043207182155, 0.7394712078001939, 1.1273074659773354, 0.9217886925097477, 0.9217855246148791, 0.8750240114397212, 0.3844154903158168, 1.5902603757870006, 0.9213766156580244, 0.8750420858352477, 1.1272546749496424, 1.70752438196234, 1.1272657553486574, 1.7287127870268273, 1.1272561370334049, 1.7285906456531255, 1.1270349076366577, 0.921786840310811, 0.9217816924624951, 0.9212017828565857, 0.6479936596267373, 1.1272911881358751, 0.8739142198799982, 1.728743261934511, 0.9217396270708335, 1.6000215040735084, 0.6926234516788049, 1.693481028168571, 1.5395289075765557, 1.3199318484950682, 1.3198764733556836, 1.7912883456617505, 1.6369945528215328, 0.8935373744059933, 1.6370012926326913, 1.7904363646287478, 1.7912954347322396, 1.1273085832229675, 0.8750492034715227, 1.7287231082710481, 0.9217731798450713, 0.9217967898071391, 2.0963130364119977, 1.7611597703728934, 1.1272972141201174, 0.38975416390367384, 0.9217893708186062, 0.7790418855435497, 0.9153534409477957, 0.7394397150276659, 1.3193189014644666, 1.7325644368305435, 0.9217864038073955, 1.5997346983548961, 1.58302206170865, 0.921792597494556, 0.6889435491171751, 1.1272327920965786, 1.3069986767271262, 1.636915500435614, 0.9216926321206939, 1.2731806277709996, 1.5530974940704316, 0.8928143536313465, 0.9217105047179679, 1.1272901177327397, 1.5530396167722413, 0.9213647639086532, 0.9217966126007435, 1.0805580617918484, 1.6935118775317557, 0.053717765196698006, 0.3747664246803585, 0.9217011683041616, 1.5898292951746913, 0.7805524661438292, 1.1272975167089059, 1.8713422410776417, 0.874986789134326, 1.4904515343086968, 1.319909655947566, 0.9217969193011303, 0.9217957844313717, 0.8748046503643466, 1.6354912334918048, 1.728710477949555, 0.9217823842842005, 1.5997537695692166, 1.7287133635102858, 0.7448916048550658, 0.9189870560495714, 2.0438493363126446, 0.8750475799515304, 0.9174947094802258, 0.8750314003893579, 1.693929313062655, 0.9217522033506833, 1.5998367555545476, 1.5527189773446715, 0.6926913351874779, 2.0073223080021805, 0.7916171169578805, 1.5530951701509186, 1.5998466605784105, 0.86498140218769, 0.8257652430087984, 1.5530583329983316, 0.9212026406310009, 1.0805403680379964, 1.127287598340796, 0.8749199926493111, 1.7286354650721594, 0.8329855580984822, 1.0805109263665738, 0.911240370892316, 2.9404084914810924, 1.8246070895542361, 2.64381951947206, 1.08358018943262, 1.5998226456206563, 0.056318410942764394, 0.9217886126762137, 1.599840532568318, 1.5530988238075827, 0.8825449826617597, 1.0805581919840732, 0.9217520191926263, 1.8711143447526233, 1.691155644493138, 1.1270640725223104, 1.1272983120762947, 0.9035878152333428, 1.1273544903025896, 0.921679807383853, 0.921769777569582, 0.6927293001286597, 0.9218002466737204, 1.127089952974165, 0.9157030128271404, 0.7425079168823996, 1.1268016452979903, 0.9218001041986141, 0.9216305384912604, 1.1272231336277472, 0.9217211888937429, 1.7287544721647994, 0.7307732875895794, 0.7394336915015399, 0.8708316337445691, 0.9216635828853309, 0.3899252470038623, 0.6089257490952595, 1.6370086915997653, 0.692319119708315, 1.728755645929954, 1.9642093497331305, 0.9216519570778867, 0.8750557534579171], \"z\": [-0.4658902744492687, -0.4664548515510434, -0.42734733894114935, -0.08358034447413909, -0.3269744963280445, -0.028473191379649113, -0.6204291077896162, -0.4659013270461962, -0.4661735637326649, -0.4659451391771216, -0.46589038189014753, -0.46589091465754656, -0.26996242899831957, -0.3545953455675445, 0.039590542397898554, -0.33246989975263863, -0.46595130820304487, -0.1295833523071357, -0.42735118180272025, -0.34874162679371784, -0.17687929031273816, -0.32811764128063997, -0.16739595425759196, -0.5407315585547403, -0.5407088522450333, -0.31140967238954087, -0.4660638765149464, -0.4659405903376674, -0.478959954021873, -0.1288576291181047, -0.4273394199520824, 0.06397982569316728, -0.03661973769636267, -0.4273418272874151, -0.4666633660774584, -0.46593036743871324, -0.40135248913896815, -0.42734349144384437, 0.06398872205739764, -0.540716849209951, -0.46613322038860927, -0.19945195361885223, -0.010217872377481384, -0.32699950375914766, -0.3546168124784774, -0.1673979970193209, -0.5407051204089184, -0.16755222337402942, -0.4658909288266771, -0.540707028765342, -0.12883976080831902, -0.4658989874823715, -0.4273400941009142, 0.06650377442828626, -0.7511318868110552, -0.043255851990746635, -0.16744815694798568, -0.5407212165398265, -0.3271661935361728, -0.6203664676648811, -0.3980622390871157, -0.3269755577669403, -0.43694037506486083, -0.32697417324194766, -0.5503262006216326, -0.4659017189593097, -0.16744304241713517, -0.4274120147611245, -0.2013884831994935, -0.32697905856243764, -0.2463880661862323, 0.03958061866211529, -0.42741268010492695, -0.32700997659359576, -0.32707036530162525, -0.5458900971151313, -0.42737489049861094, -0.016614909202496204, -0.46660670892973133, -0.4659001379577952, -0.46595255393921403, -0.2422353208455314, -0.12924419867991635, -0.42735520644356034, -0.46592544588981744, -0.32697401020881534, -0.42734024334624005, -0.46589514186126163, -0.4658911392785531, -0.16746148912170108, -0.1334720338761575, -0.6993078128525242, 0.03954697265143065, -0.46590521987188177, -0.42772287194789194, 0.03951969385448098, -0.24219925519823607, -0.6071246179178416, 0.03953186317880683, -0.6888509221243301, -0.42735290601322246, -0.5819545932946347, -0.4273418190836465, 0.039561934807285974, -0.4659047137751136, -0.4658987991625175, 0.03958061866211529, -0.4273527432638726, -0.32697910342095104, -0.4659051397011722, -0.1453790623916154, -0.46590016961208536, -0.4660102862597255, -0.42734066729233305, -0.4659194928821888, -0.18821479531533536, -0.46589412335612396, -0.46589233948045916, -0.11293902000402213, -0.2874764620374869, -0.4659894427797984, -0.3269748709450212, -0.427343597587735, -0.46589908422956666, -0.465894293313165, -0.16739691364632914, -0.16303937727666187, -0.24220674414032473, -0.46651306958410343, -0.1674080420391878, -0.4273629843510198, -0.5713322665879024, -0.42740820776218574, 0.039524009384560306, -0.4273667108308586, 0.03934332280159707, -0.4274821449679097, -0.46589642190444736, -0.4658958476586527, -0.4660674652168535, -0.04178304847705753, -0.4273541534361261, -0.16787139263454545, 0.039582687455457614, -0.4659183783702022, -0.6544097910114826, -0.02850565115227262, -0.01665405590514381, -0.7814089412183807, -0.5458405949343594, -0.5458862629794264, -0.6097762912548834, -0.5407168860563648, -0.4787711453962811, -0.5407152107010988, -0.11714990078340314, -0.609794359493473, -0.42734670545210957, -0.16739727832266296, 0.03958039004099131, -0.4659075247586534, -0.465892890162791, -0.08174821103684701, 0.001313407876283302, -0.427347435160094, -0.3115597817153317, -0.4658935672884492, -0.048827771546280756, -0.491919026263119, -0.32702876397071895, -0.5462992413719211, -0.3340081521694384, -0.46589494913815305, -0.41148515899011273, -0.05410954164646573, -0.4659001863419096, -0.034070787878050714, -0.4273819326007789, -0.5638071178594363, -0.540821082854424, -0.46597691424196375, -0.24734337936535344, -0.11294277507596316, -0.4769283492382173, -0.46592057320437297, -0.4273684075414227, -0.11296508346351485, -0.46631303957988857, -0.4658920988629202, -0.12884070345780474, -0.016605315908900305, 0.12999438921934292, 0.018607347836621015, -0.466036031843399, -0.24244194598071042, -0.3064623453599207, -0.4273448099238397, -0.2785355015143575, -0.16741922125844722, 0.06691254708711061, -0.5458519609354063, -0.4658911823351623, -0.46589168629879624, -0.16759352996815477, -0.10635830742595627, 0.03956774821265476, -0.46589998845702435, -0.4115337666673915, 0.039573979484509844, 0.011890252819284082, -0.4674227070057849, 0.10555043945330243, -0.16740773514838586, -0.4722427850651974, -0.1673970656807713, -0.6870726588681132, -0.46591476929991865, -0.32188081311129463, -0.11304791648288104, -0.02850914834486732, -0.04877096081534219, -0.2866352867080692, -0.11293855022495937, -0.4114396239986067, -0.17037355980551844, -0.34733245631215537, -0.11297882178446342, -0.46606965146578616, -0.12885334636577309, -0.42736198625180455, -0.16747993315292414, 0.03955175302079593, -0.35254302605685606, -0.12885472733811387, -0.469548252710427, -0.15230604502208808, 0.01996782606967983, 0.22340941395233763, -0.13650767575927988, -0.41146137276830647, 0.1384022365769885, -0.4659005789832615, -0.41144758516771773, -0.11293490497914371, -0.4928704143252749, -0.12883882758688814, -0.46591429992784505, -0.27870187250916506, -0.6883246052537475, -0.4274206205212521, -0.42735532825851913, -0.4789137280001411, -0.4274475654041222, -0.46592724495710136, -0.4659090495927886, -0.028471305947646023, -0.46589456827481973, -0.427622441540338, -0.4681856744808193, -0.3350016711589445, -0.4277367331027148, -0.4659196785781701, -0.46614131689006594, -0.4274660022800015, -0.4659647867432231, 0.039589778238815855, -0.12086140202563955, -0.32702190267923525, -0.17361550174936058, -0.46605571574259763, -0.3114187167093047, -2.7831852275642657, -0.5407021791230442, -0.029088426594601396, 0.03958740792390732, 0.34824455786091435, -0.4659411730608477, -0.167386111611443]}, {\"hovertemplate\": \"class=%{marker.color}<br>PC 1=%{x}<br>PC 2=%{y}<br>PC 3=%{z}<extra></extra>\", \"legendgroup\": \"4\", \"marker\": {\"color\": [4, 4, 4, 4, 4, 4, 4, 4, 4, 4, 4, 4, 4, 4, 4], \"coloraxis\": \"coloraxis\", \"symbol\": \"diamond\"}, \"mode\": \"markers\", \"name\": \"4\", \"scene\": \"scene\", \"showlegend\": true, \"type\": \"scatter3d\", \"x\": [2.3358766092515033, 2.5573479494238587, 3.8829034856744107, 3.6748501803934657, 3.2462491999218965, 3.6797202997253877, 8.078345687133968, 3.8624421005602323, 2.2300321189804726, 3.114571409091551, 3.6919961882477583, 3.675243148629903, 3.685136896128778, 3.6863843405418706, 2.456462765827871], \"y\": [1.454619135275007, -1.324569502822724, -2.3176588105322358, 2.347621198769421, -1.1862244108483206, 2.34742883994054, -2.8273247283027625, 2.472463911043131, 0.21740778307017536, -2.2621036376068293, 2.347254934032067, 2.3476024229613364, 2.3478553942706606, 2.3478732077583286, 1.0322441359745411], \"z\": [-0.6093517605935361, -0.0748034998949027, 0.14789229991272493, -0.10701160440275106, -0.11493582067140788, -0.10715816655124806, 0.06194005730069754, -0.007332210512695291, -0.36967898458963894, 0.1546030753807602, -0.1075640391378296, -0.10702304908312828, -0.10739623056659124, -0.10744163261835651, -0.08789281661271568]}, {\"hovertemplate\": \"class=%{marker.color}<br>PC 1=%{x}<br>PC 2=%{y}<br>PC 3=%{z}<extra></extra>\", \"legendgroup\": \"0\", \"marker\": {\"color\": [0, 0, 0, 0, 0, 0, 0, 0, 0, 0, 0, 0, 0, 0, 0, 0, 0, 0, 0, 0, 0, 0, 0, 0, 0, 0, 0, 0, 0, 0, 0, 0, 0, 0, 0, 0, 0, 0, 0, 0, 0, 0, 0, 0, 0, 0, 0, 0, 0, 0, 0, 0, 0, 0, 0, 0, 0, 0, 0, 0, 0, 0, 0, 0, 0, 0, 0, 0, 0, 0, 0, 0, 0, 0, 0, 0, 0, 0, 0, 0, 0, 0, 0, 0, 0, 0, 0, 0, 0, 0, 0, 0, 0, 0, 0, 0, 0, 0, 0, 0, 0, 0, 0, 0, 0, 0, 0, 0, 0, 0, 0, 0, 0, 0, 0, 0, 0, 0, 0, 0, 0, 0, 0, 0, 0, 0, 0, 0, 0, 0, 0, 0, 0, 0, 0, 0, 0, 0, 0, 0, 0, 0, 0, 0, 0, 0, 0, 0, 0, 0, 0, 0, 0, 0, 0, 0, 0, 0, 0, 0, 0, 0, 0, 0, 0, 0, 0, 0, 0, 0, 0, 0, 0, 0, 0, 0, 0, 0, 0, 0, 0, 0, 0, 0, 0, 0, 0, 0, 0, 0, 0, 0, 0, 0, 0, 0, 0, 0, 0, 0, 0, 0, 0, 0, 0, 0, 0, 0, 0, 0, 0, 0, 0, 0, 0, 0, 0, 0, 0, 0, 0, 0, 0, 0, 0, 0, 0, 0, 0, 0, 0, 0, 0, 0, 0], \"coloraxis\": \"coloraxis\", \"symbol\": \"square\"}, \"mode\": \"markers\", \"name\": \"0\", \"scene\": \"scene\", \"showlegend\": true, \"type\": \"scatter3d\", \"x\": [-0.1391567105965107, -0.1477301637754863, -0.17188687419306292, -0.1414610800877914, -0.14616734369632214, -0.14830393279323223, 0.1590840706340978, -0.17303639457288983, -0.2202682856530178, -0.17265176888674308, -0.09506252273269246, -0.1362333388160897, -0.16989920487622798, -0.1724551594944084, -0.22690463106202452, -0.20078102193709962, -0.17250422224876225, -0.17301861287292544, -0.17310532519136249, -0.2203578745935616, 0.1828834425027222, 0.2397714786977035, 0.07633597090970246, -0.1728509131382606, -0.16844353936015247, -0.1727900094887247, -0.17316248743970986, -0.16270607740370327, -0.15232455082452978, -0.17195416914295444, -0.1722323564026636, 1.5807329240135917, -0.1391179760811722, -0.16951385636089641, -0.17287742898277333, -0.17323325517590998, -0.172490386117531, -0.1811662061664455, -0.17311417532109238, -0.03760942190624013, -0.13919579545497116, -0.16676002869845372, -0.1730935273206899, -0.17118202546885766, -0.1725787957046992, -0.12631061826058104, -0.13865804005633925, -0.1389460333164583, -0.13892885470241514, -0.13952139764541782, -0.2205322926690091, -0.172809247676324, -0.1858912093098134, -0.16990388373566725, -0.13872552214547607, 0.4721800533179249, -0.17167354036817473, -0.15622611908502435, -0.17038872087236992, -0.173235466472154, -0.17025341688611467, -0.15643738271553753, -0.11132849769536472, -0.12916681068434963, -0.18575098639289356, -0.17310820027117746, -0.045673307075707735, -0.10208853728220704, -0.1732443891672672, -0.13922364773834145, 0.4809519856984999, -0.2199177273702426, -0.16324267341694482, -0.1389627084802265, -0.22020343009104726, -0.17136247343136388, -0.17055241821677905, -0.14880044278527257, 0.38109500297335347, -0.22023893758314408, -0.13911910145333198, -0.16919072372463642, -0.15552951860571845, -0.17180361724699292, 0.28055784050876964, -0.21939719043036077, -0.1470127287678801, -0.17205144872308034, -0.1514907150341548, -0.17303367546240941, -0.22020205431591588, -0.1732444478289142, -0.22035242912797876, -0.2555979805605068, 0.31663641830147443, -0.13937992135872573, -0.1091819357330023, -0.17040291682957986, -0.13933843687322084, -0.17290685121224092, -0.14683880758626794, -0.14854187687899917, -0.14832560806062853, -0.0997423758730454, -0.20689815844620463, -0.21817410719368802, 0.3166308007936553, -0.17322613006560877, 0.31676188103326924, -0.163784744661889, 0.4971254674531106, -0.14022189024508513, -0.17319432982089372, -0.2130639300997146, -0.14833802845836067, -0.1713222726207792, -0.1635023326382009, -0.12836502206122788, -0.1440274535787737, -0.18067262857615582, -0.1727554300439237, -0.10560673944344062, -0.17257690404405648, -0.14007948795166889, -0.14696403465522348, -0.02028504695384888, -0.14364292698874445, 0.352856148397237, -0.21940555760226382, -0.17289718659324335, -0.17265975949074153, -0.21980142294604396, -0.2203805558784171, 0.317026953091234, -0.12528513225787022, -0.10827870323776806, -0.21122479314398304, -0.13915587256286951, -0.09858547671796575, 1.578479620818489, -0.17299529543848785, -0.17244526598714832, -0.17214538694863074, -0.17213228267656738, 0.3172111640892414, 0.06462426392581663, -0.1746392004348653, -0.16740838700773011, -0.14818365288010343, -0.1457680965727314, -0.17132047695245456, -0.21591197231919448, -0.16725332758775205, -0.1469019008233875, -0.16735384291229638, -0.11937030180312791, 1.1570895441669107, 0.3166134980959413, -0.07155915993909723, -0.21565223979305612, -0.1291595006442139, -0.08914282612433248, 1.0951395631107383, -0.22035448170669364, -0.16740595740450845, -0.16042361425327642, -0.17224414479590652, -0.22027967848211952, -0.1391352170197791, -0.17633261942241168, -0.12341886821358536, 0.3204993511387511, 0.020346413274932997, -0.14527014593955642, -0.17140726013866955, -0.17281948808739708, 0.13513993753386538, -0.21440335234978647, -0.4200241089018667, -0.0997949695376332, 0.32456098572189984, -0.17305719513518172, -0.15075278115786434, -0.14717187695971914, -0.14461550078848373, -0.21944643991298765, 0.31679652657056434, -0.18073233318590465, -0.16362951665952769, -0.159922997118634, -0.146923444587479, 0.32073709481654916, 0.5846569671644701, 2.130714300034418, -0.1775058390465967, 0.33044111612916705, -0.1974182120640851, -0.13783370707254222, -0.2203365901995581, -0.17308183986709885, -0.12903677520340748, -0.1464400661188045, -0.21164123876227176, -0.09886904931861851, -0.22030786649895928, -0.19684415581233392, -0.34324867706503615, -0.04262320774528065, -0.1463193507853587, -0.13915591022956145, 0.3967961281257866, -0.13463037806882452, -0.13502370146942283, -0.1443899686175761, -0.17197085440856974, -0.1462377946393054, -0.14801599113609215, -0.1849595297139951, -0.13842997119252776, -0.0946886079736048, -0.13729454317158005, 0.5250083276957221, -0.09235778593680977, -0.08533446740918903, -0.15658837470402237, -0.13894540207064807, 0.5446751278584475, -0.20034077507653483, -0.17315893726183346, -0.17110860181113577, -0.12990366833277583, -0.12594250888040467, -0.14857512999721506, 0.33843347132206186, -0.1483049925900208], \"y\": [-1.2776973943222716, -1.916691777909927, -1.0954118440568286, -2.1344767186420643, -1.9168161271363313, -1.9140615800115, -1.769190321318776, -1.0953842593085894, -0.8898692239269553, -1.0954087985251169, -1.7595497251598087, -1.2777595690665382, -1.0954993963659962, -1.0954311337357279, -0.4174246207261744, -1.1852136651759757, -1.0953956329242691, -1.095384005386178, -1.0953797541276873, -0.8898691064340378, -1.765746030511708, -1.2869382661756565, -1.101237105189075, -1.0953816106364611, -1.0955133850758954, -1.0953884234523596, -1.0953792404989242, -1.6273743794255329, -1.0960659969973194, -1.095403027276117, -1.0954085682072456, -1.1336018139125306, -1.277696841193962, -1.0955046636486245, -1.0953812908714982, -1.0953733467023017, -1.0953911289433549, -2.141528370473933, -1.0953776874974084, -1.1039118599461508, -1.2776979524534624, -1.0955153307188985, -1.095385075163378, -1.0955177150249826, -1.0953988168105637, -1.2781194745026554, -1.2777084403544765, -1.277709052481228, -1.2777353467823405, -1.2776881100232185, -0.8898590257266566, -1.09538241247594, -1.191418235198791, -1.0955102332337368, -1.2777079988174695, -2.2445139406756525, -1.0954235480896675, -1.0963028723883363, -1.0954479897241647, -1.0953742708486176, -1.0954415975337053, -1.0958309698667625, -2.1123013544760876, -1.7586399122285103, -1.4516824491712477, -1.0953729726437693, -1.1005349579661985, -2.2105149003239264, -1.0953729954910576, -1.2776983501836554, -1.1502844445167588, -0.889873297300655, -2.1300543717591323, -1.2777175039136563, -0.8898689962013228, -1.0954925230046806, -1.0955087242427857, -1.9167188690890031, -2.1803643573871496, -0.8898660111936415, -1.27769685726426, -1.0954613428325644, -2.006082098802513, -1.0954106551488747, -1.2867932382688962, -0.8899014829931247, -2.1545924979288147, -1.0954731060399479, -2.198851691211071, -1.0953835220689039, -0.8898717701985865, -1.0953729942125605, -0.889873917548667, -1.1688975415463714, -2.239757977298454, -1.2776927148690629, -1.7591926215050502, -1.0954716688237969, -1.2776927526459203, -1.0953886951287777, -2.1257973047980427, -1.91672167139317, -1.9140618895339954, -1.1013070634645954, -0.8900135359067259, -0.889984588541932, -2.2397657400354904, -1.0953741977879474, -2.2397666618549303, -2.130023148816224, -0.9494519663891503, -2.134588229032725, -1.095374194654575, -0.8904507884482765, -1.914059273253778, -1.0954149561280189, -2.1300267984965324, -2.1520735632349504, -1.0977489887473857, -0.6972612378382806, -1.0953903883438814, -1.2789496616758411, -1.0954133167429008, -2.1345303226638497, -2.123293932090008, -2.186333715421136, -2.107156297281809, -2.240630597639111, -0.889912777049464, -1.095381067919171, -1.095416595149932, -0.8898904935675639, -0.8898700588921934, -2.2397831305438975, -2.286529745714351, -1.18656043715461, -0.8904943666827025, -1.2776973823551567, -1.1016397483758908, -1.0703579700271575, -1.095382974002733, -1.0954198178833423, -1.0954267101883808, -1.0954265230595706, -2.239804866790743, -1.9256729292903778, -0.890460812542495, -1.6272257193908855, -1.9140598624161291, -2.154662938589356, -1.095414930485902, -0.8900374914105856, -1.6272360765395786, -1.9168755053591455, -1.627228292873988, -1.7589609693738784, -2.287114255435093, -2.239760050625718, -1.9225881653883585, -0.8901734645995851, -2.13499910098375, -1.0976636479108466, -1.220190288214191, -0.8898703151231544, -1.6272214942312182, -1.6274563252614864, -1.0954029776591607, -0.8898714818488697, -1.277696504919678, -1.236620897754638, -2.2457246524524694, -2.2399304966049254, -1.099592197341331, -2.1546165026299033, -1.1919209900213095, -1.0953944316929352, -1.1038244732734082, -0.8901207099640639, -2.6585408690185126, -1.9205469344313666, -2.240336241313303, -1.0953845563403097, -2.146345796743172, -1.9140796364016062, -2.125960133266725, -0.8899133608482531, -2.239761557605708, -0.6972430573273337, -2.1300323022916374, -2.1941221244223903, -2.1257909007351348, -2.240111482449125, -2.1694996943901996, -2.342353580376622, -2.0451975411259835, -2.2402522731385273, -1.2255231233137904, -2.0725697266738634, -0.8898708977256922, -1.0953856801943618, -2.1355215187021583, -2.1192476568987666, -0.14591607893523828, -1.2785740832298302, -0.8898732811949872, -1.2255693489739405, -0.2121148733696807, -1.9178457164951341, -2.1258336074804856, -1.2776973828930367, -2.2442494732165477, -2.1410446706002793, -2.1409944903724396, -2.0961983615502047, -1.0954381860828648, -1.9142009513276093, -1.9140643726983633, -1.4517409882644472, -1.2777170481599889, -0.3801636061993761, -1.2777734689908515, -1.1539156266592896, -1.6289287841434743, -2.1451561845782225, -1.095833126030113, -1.2777090434670468, -1.1200412242161282, -1.1852220450847424, -1.0953748346431162, -1.0954691745999345, -1.7586523900950908, -2.068778256534634, -1.9167209466602582, -2.2404176622296768, -1.9140615951453812], \"z\": [0.13206070335106007, 0.2904854318921019, -0.006890803814410348, 0.3547605719849131, 0.2904457383533256, 0.29895786177762623, 0.21576981917238736, -0.0068541218934999575, 0.03169451106149145, -0.006864601518975903, 0.22346474275739248, 0.13196648197468072, -0.006949561261740987, -0.006868810991710709, 0.04744693842657748, 0.10441238789470417, -0.006871267529526378, -0.006854769077177102, -0.006852256373814949, 0.03169760806006991, 0.21453982572021993, 0.11998618877711115, -0.014827135325163431, -0.006860872685445662, -0.006998466596296831, -0.006862189069445151, -0.006850331737229966, 0.14748237956097143, -0.007493403572162557, -0.006889500340058434, -0.0068791916281938, -0.06327118206345465, 0.13205929356761703, -0.00696232434827284, -0.006859989455970751, -0.0068485651514784435, -0.006872275751437044, 0.30115649571625247, -0.006852191249739236, -0.010557209007030392, 0.132062125885595, -0.007056694576642846, -0.006852042487038401, -0.006902871656704439, -0.006868305039751352, 0.1316641138242581, 0.1320446825987402, 0.13205475422402022, 0.1320572390083913, 0.13207227828629145, 0.0317024830229498, -0.006862225458602968, 0.11168753912734337, -0.006948128891646881, 0.13204697401571241, 0.25775030166342844, -0.0068968398080802035, -0.0073301727119098, -0.0069385879976951725, -0.006848380074205937, -0.006944035175345217, -0.007378136505325285, 0.3313295005889851, 0.22454231903293725, 0.17159056832368114, -0.006852951224859625, -0.010672928330941843, 0.36474360486858554, -0.006848219705956073, 0.1320631395987497, -0.023128918194829054, 0.03168281607755262, 0.2979107074629013, 0.13205632360290817, 0.031692232417665306, -0.006899558124317488, -0.00692578687501064, 0.2905257694858064, 0.22251470659082342, 0.031693115537287035, 0.13205933452672075, -0.006978620881862916, 0.3434369300310768, -0.006893834038554491, 0.11855298260247228, 0.031668044559667145, 0.2872401947117927, -0.006877910423100347, 0.4933838680101105, -0.006854302700968132, 0.03169250971520845, -0.006848217818886724, 0.03169798276469248, 0.33222928247733785, 0.2625938685062645, 0.132067905466729, 0.2239131595823095, -0.006935320264359144, 0.13206646944163375, -0.006858100177159938, 0.3073268361133184, 0.29051711977341627, 0.29895865067178695, -0.008705027689690116, 0.031247175655181612, 0.0316353144902999, 0.26259497322976916, -0.0068487128206753504, 0.2625905297968746, 0.297925870792085, 0.013766832006950617, 0.35473061124451954, -0.006849817377135845, 0.03151250669190986, 0.29895877535490256, -0.006910043601309368, 0.2979164923778559, 0.3893492027233123, -0.007584281187026239, -0.08680757726748414, -0.006863159506093108, 0.13104250461514888, -0.00686667156303262, 0.354718880956709, 0.438490873958012, 0.23715120535984355, 0.3561614454611072, 0.2614384800625566, 0.03166965857299708, -0.006859329545507043, -0.006863410424139197, 0.03168079280538204, 0.03169850722761709, 0.2625832556553278, 0.2589900205659429, 0.10468232543052365, 0.031453753625738025, 0.13206067284993667, -0.008706212960722012, -0.07060410861819841, -0.006855699582315726, -0.006870480557621808, -0.006880085489404945, -0.006880562433172692, 0.2625794064989233, 0.29292509157070756, 0.030179472297023873, 0.1476282357082671, 0.29895348406365035, 0.2872052322827391, -0.0069101089565472154, 0.0315629665066632, 0.1476240653240187, 0.29047820231345556, 0.14762664336292344, 0.22423978088983892, 0.23896049381925713, 0.26259490731771173, 0.2885315338894015, 0.031569881784452275, 0.3543946432069658, -0.00950002236205501, 0.031646633133957464, 0.03169763188902976, 0.14762765622481203, 0.1474127290967743, -0.006879437426595423, 0.03169517124323726, 0.13205985281300256, 0.15257915098304342, 0.2595455962308783, 0.2624799536833333, -0.013075785507939898, 0.2871825005572171, 0.11124353262261569, -0.006860461424181125, -0.01656576765600548, 0.031520335083004065, 4.244383303453658, 0.28927275684902426, 0.2623864696939095, -0.00685336483515237, 0.3339582499403799, 0.2989206697011071, 0.307268717866664, 0.03167114652770537, 0.2625887286750578, -0.08680763462943568, 0.29792155350294486, 0.5236916764607091, 0.3073290244818788, 0.26249290723600904, 0.23159674839999, 0.2116268121260955, 0.39135600304325224, 0.2621724561616537, 0.1724306938197616, 0.4009020771506696, 0.031697078919903164, -0.006852377406630052, 0.3544516008557232, 0.16690991694726828, 0.18047400651575204, 0.1307645422621433, 0.0316963608609281, 0.17241617796443698, 0.31654857836843625, 0.29573178553616086, 0.30731305328217395, 0.13206067422085566, 0.26033684117035605, 0.2844493027444067, 0.284457079661185, 0.4559812011729525, -0.00688480093318165, 0.2989024520421085, 0.29894819093385366, 0.17156994668337738, 0.13203777213690168, -0.08166054798014681, 0.13200495866806186, -0.02423315536258268, 0.14522185070347166, 0.28321942099415526, -0.007372640993056002, 0.1320547312491648, -0.028885577420684944, 0.10439808334127439, -0.006850971304723219, -0.006911109283521585, 0.22456936690147766, 0.3451195639217906, 0.29051818948322805, 0.2619143212378239, 0.29895790035004594]}, {\"hovertemplate\": \"class=%{marker.color}<br>PC 1=%{x}<br>PC 2=%{y}<br>PC 3=%{z}<extra></extra>\", \"legendgroup\": \"3\", \"marker\": {\"color\": [3, 3, 3, 3], \"coloraxis\": \"coloraxis\", \"symbol\": \"x\"}, \"mode\": \"markers\", \"name\": \"3\", \"scene\": \"scene\", \"showlegend\": true, \"type\": \"scatter3d\", \"x\": [4.350750115561104, -0.25597678469443286, -0.23088940013182685, -0.35011188688480516], \"y\": [0.6416456441996811, -1.919439720173226, 6.108147832919289, 5.747767706296859], \"z\": [9.853008660291046, 15.55541259483884, 10.325026362707924, 23.39495234417003]}, {\"hovertemplate\": \"class=%{marker.color}<br>PC 1=%{x}<br>PC 2=%{y}<br>PC 3=%{z}<extra></extra>\", \"legendgroup\": \"2\", \"marker\": {\"color\": [2], \"coloraxis\": \"coloraxis\", \"symbol\": \"cross\"}, \"mode\": \"markers\", \"name\": \"2\", \"scene\": \"scene\", \"showlegend\": true, \"type\": \"scatter3d\", \"x\": [34.12245592462859], \"y\": [1.4392136660743562], \"z\": [-1.3392624474830812]}],                        {\"coloraxis\": {\"colorbar\": {\"title\": {\"text\": \"class\"}}, \"colorscale\": [[0.0, \"#0d0887\"], [0.1111111111111111, \"#46039f\"], [0.2222222222222222, \"#7201a8\"], [0.3333333333333333, \"#9c179e\"], [0.4444444444444444, \"#bd3786\"], [0.5555555555555556, \"#d8576b\"], [0.6666666666666666, \"#ed7953\"], [0.7777777777777778, \"#fb9f3a\"], [0.8888888888888888, \"#fdca26\"], [1.0, \"#f0f921\"]]}, \"legend\": {\"title\": {\"text\": \"class\"}, \"tracegroupgap\": 0, \"x\": 0, \"y\": 1}, \"margin\": {\"t\": 60}, \"scene\": {\"domain\": {\"x\": [0.0, 1.0], \"y\": [0.0, 1.0]}, \"xaxis\": {\"title\": {\"text\": \"PC 1\"}}, \"yaxis\": {\"title\": {\"text\": \"PC 2\"}}, \"zaxis\": {\"title\": {\"text\": \"PC 3\"}}}, \"template\": {\"data\": {\"bar\": [{\"error_x\": {\"color\": \"#2a3f5f\"}, \"error_y\": {\"color\": \"#2a3f5f\"}, \"marker\": {\"line\": {\"color\": \"#E5ECF6\", \"width\": 0.5}}, \"type\": \"bar\"}], \"barpolar\": [{\"marker\": {\"line\": {\"color\": \"#E5ECF6\", \"width\": 0.5}}, \"type\": \"barpolar\"}], \"carpet\": [{\"aaxis\": {\"endlinecolor\": \"#2a3f5f\", \"gridcolor\": \"white\", \"linecolor\": \"white\", \"minorgridcolor\": \"white\", \"startlinecolor\": \"#2a3f5f\"}, \"baxis\": {\"endlinecolor\": \"#2a3f5f\", \"gridcolor\": \"white\", \"linecolor\": \"white\", \"minorgridcolor\": \"white\", \"startlinecolor\": \"#2a3f5f\"}, \"type\": \"carpet\"}], \"choropleth\": [{\"colorbar\": {\"outlinewidth\": 0, \"ticks\": \"\"}, \"type\": \"choropleth\"}], \"contour\": [{\"colorbar\": {\"outlinewidth\": 0, \"ticks\": \"\"}, \"colorscale\": [[0.0, \"#0d0887\"], [0.1111111111111111, \"#46039f\"], [0.2222222222222222, \"#7201a8\"], [0.3333333333333333, \"#9c179e\"], [0.4444444444444444, \"#bd3786\"], [0.5555555555555556, \"#d8576b\"], [0.6666666666666666, \"#ed7953\"], [0.7777777777777778, \"#fb9f3a\"], [0.8888888888888888, \"#fdca26\"], [1.0, \"#f0f921\"]], \"type\": \"contour\"}], \"contourcarpet\": [{\"colorbar\": {\"outlinewidth\": 0, \"ticks\": \"\"}, \"type\": \"contourcarpet\"}], \"heatmap\": [{\"colorbar\": {\"outlinewidth\": 0, \"ticks\": \"\"}, \"colorscale\": [[0.0, \"#0d0887\"], [0.1111111111111111, \"#46039f\"], [0.2222222222222222, \"#7201a8\"], [0.3333333333333333, \"#9c179e\"], [0.4444444444444444, \"#bd3786\"], [0.5555555555555556, \"#d8576b\"], [0.6666666666666666, \"#ed7953\"], [0.7777777777777778, \"#fb9f3a\"], [0.8888888888888888, \"#fdca26\"], [1.0, \"#f0f921\"]], \"type\": \"heatmap\"}], \"heatmapgl\": [{\"colorbar\": {\"outlinewidth\": 0, \"ticks\": \"\"}, \"colorscale\": [[0.0, \"#0d0887\"], [0.1111111111111111, \"#46039f\"], [0.2222222222222222, \"#7201a8\"], [0.3333333333333333, \"#9c179e\"], [0.4444444444444444, \"#bd3786\"], [0.5555555555555556, \"#d8576b\"], [0.6666666666666666, \"#ed7953\"], [0.7777777777777778, \"#fb9f3a\"], [0.8888888888888888, \"#fdca26\"], [1.0, \"#f0f921\"]], \"type\": \"heatmapgl\"}], \"histogram\": [{\"marker\": {\"colorbar\": {\"outlinewidth\": 0, \"ticks\": \"\"}}, \"type\": \"histogram\"}], \"histogram2d\": [{\"colorbar\": {\"outlinewidth\": 0, \"ticks\": \"\"}, \"colorscale\": [[0.0, \"#0d0887\"], [0.1111111111111111, \"#46039f\"], [0.2222222222222222, \"#7201a8\"], [0.3333333333333333, \"#9c179e\"], [0.4444444444444444, \"#bd3786\"], [0.5555555555555556, \"#d8576b\"], [0.6666666666666666, \"#ed7953\"], [0.7777777777777778, \"#fb9f3a\"], [0.8888888888888888, \"#fdca26\"], [1.0, \"#f0f921\"]], \"type\": \"histogram2d\"}], \"histogram2dcontour\": [{\"colorbar\": {\"outlinewidth\": 0, \"ticks\": \"\"}, \"colorscale\": [[0.0, \"#0d0887\"], [0.1111111111111111, \"#46039f\"], [0.2222222222222222, \"#7201a8\"], [0.3333333333333333, \"#9c179e\"], [0.4444444444444444, \"#bd3786\"], [0.5555555555555556, \"#d8576b\"], [0.6666666666666666, \"#ed7953\"], [0.7777777777777778, \"#fb9f3a\"], [0.8888888888888888, \"#fdca26\"], [1.0, \"#f0f921\"]], \"type\": \"histogram2dcontour\"}], \"mesh3d\": [{\"colorbar\": {\"outlinewidth\": 0, \"ticks\": \"\"}, \"type\": \"mesh3d\"}], \"parcoords\": [{\"line\": {\"colorbar\": {\"outlinewidth\": 0, \"ticks\": \"\"}}, \"type\": \"parcoords\"}], \"pie\": [{\"automargin\": true, \"type\": \"pie\"}], \"scatter\": [{\"marker\": {\"colorbar\": {\"outlinewidth\": 0, \"ticks\": \"\"}}, \"type\": \"scatter\"}], \"scatter3d\": [{\"line\": {\"colorbar\": {\"outlinewidth\": 0, \"ticks\": \"\"}}, \"marker\": {\"colorbar\": {\"outlinewidth\": 0, \"ticks\": \"\"}}, \"type\": \"scatter3d\"}], \"scattercarpet\": [{\"marker\": {\"colorbar\": {\"outlinewidth\": 0, \"ticks\": \"\"}}, \"type\": \"scattercarpet\"}], \"scattergeo\": [{\"marker\": {\"colorbar\": {\"outlinewidth\": 0, \"ticks\": \"\"}}, \"type\": \"scattergeo\"}], \"scattergl\": [{\"marker\": {\"colorbar\": {\"outlinewidth\": 0, \"ticks\": \"\"}}, \"type\": \"scattergl\"}], \"scattermapbox\": [{\"marker\": {\"colorbar\": {\"outlinewidth\": 0, \"ticks\": \"\"}}, \"type\": \"scattermapbox\"}], \"scatterpolar\": [{\"marker\": {\"colorbar\": {\"outlinewidth\": 0, \"ticks\": \"\"}}, \"type\": \"scatterpolar\"}], \"scatterpolargl\": [{\"marker\": {\"colorbar\": {\"outlinewidth\": 0, \"ticks\": \"\"}}, \"type\": \"scatterpolargl\"}], \"scatterternary\": [{\"marker\": {\"colorbar\": {\"outlinewidth\": 0, \"ticks\": \"\"}}, \"type\": \"scatterternary\"}], \"surface\": [{\"colorbar\": {\"outlinewidth\": 0, \"ticks\": \"\"}, \"colorscale\": [[0.0, \"#0d0887\"], [0.1111111111111111, \"#46039f\"], [0.2222222222222222, \"#7201a8\"], [0.3333333333333333, \"#9c179e\"], [0.4444444444444444, \"#bd3786\"], [0.5555555555555556, \"#d8576b\"], [0.6666666666666666, \"#ed7953\"], [0.7777777777777778, \"#fb9f3a\"], [0.8888888888888888, \"#fdca26\"], [1.0, \"#f0f921\"]], \"type\": \"surface\"}], \"table\": [{\"cells\": {\"fill\": {\"color\": \"#EBF0F8\"}, \"line\": {\"color\": \"white\"}}, \"header\": {\"fill\": {\"color\": \"#C8D4E3\"}, \"line\": {\"color\": \"white\"}}, \"type\": \"table\"}]}, \"layout\": {\"annotationdefaults\": {\"arrowcolor\": \"#2a3f5f\", \"arrowhead\": 0, \"arrowwidth\": 1}, \"coloraxis\": {\"colorbar\": {\"outlinewidth\": 0, \"ticks\": \"\"}}, \"colorscale\": {\"diverging\": [[0, \"#8e0152\"], [0.1, \"#c51b7d\"], [0.2, \"#de77ae\"], [0.3, \"#f1b6da\"], [0.4, \"#fde0ef\"], [0.5, \"#f7f7f7\"], [0.6, \"#e6f5d0\"], [0.7, \"#b8e186\"], [0.8, \"#7fbc41\"], [0.9, \"#4d9221\"], [1, \"#276419\"]], \"sequential\": [[0.0, \"#0d0887\"], [0.1111111111111111, \"#46039f\"], [0.2222222222222222, \"#7201a8\"], [0.3333333333333333, \"#9c179e\"], [0.4444444444444444, \"#bd3786\"], [0.5555555555555556, \"#d8576b\"], [0.6666666666666666, \"#ed7953\"], [0.7777777777777778, \"#fb9f3a\"], [0.8888888888888888, \"#fdca26\"], [1.0, \"#f0f921\"]], \"sequentialminus\": [[0.0, \"#0d0887\"], [0.1111111111111111, \"#46039f\"], [0.2222222222222222, \"#7201a8\"], [0.3333333333333333, \"#9c179e\"], [0.4444444444444444, \"#bd3786\"], [0.5555555555555556, \"#d8576b\"], [0.6666666666666666, \"#ed7953\"], [0.7777777777777778, \"#fb9f3a\"], [0.8888888888888888, \"#fdca26\"], [1.0, \"#f0f921\"]]}, \"colorway\": [\"#636efa\", \"#EF553B\", \"#00cc96\", \"#ab63fa\", \"#FFA15A\", \"#19d3f3\", \"#FF6692\", \"#B6E880\", \"#FF97FF\", \"#FECB52\"], \"font\": {\"color\": \"#2a3f5f\"}, \"geo\": {\"bgcolor\": \"white\", \"lakecolor\": \"white\", \"landcolor\": \"#E5ECF6\", \"showlakes\": true, \"showland\": true, \"subunitcolor\": \"white\"}, \"hoverlabel\": {\"align\": \"left\"}, \"hovermode\": \"closest\", \"mapbox\": {\"style\": \"light\"}, \"paper_bgcolor\": \"white\", \"plot_bgcolor\": \"#E5ECF6\", \"polar\": {\"angularaxis\": {\"gridcolor\": \"white\", \"linecolor\": \"white\", \"ticks\": \"\"}, \"bgcolor\": \"#E5ECF6\", \"radialaxis\": {\"gridcolor\": \"white\", \"linecolor\": \"white\", \"ticks\": \"\"}}, \"scene\": {\"xaxis\": {\"backgroundcolor\": \"#E5ECF6\", \"gridcolor\": \"white\", \"gridwidth\": 2, \"linecolor\": \"white\", \"showbackground\": true, \"ticks\": \"\", \"zerolinecolor\": \"white\"}, \"yaxis\": {\"backgroundcolor\": \"#E5ECF6\", \"gridcolor\": \"white\", \"gridwidth\": 2, \"linecolor\": \"white\", \"showbackground\": true, \"ticks\": \"\", \"zerolinecolor\": \"white\"}, \"zaxis\": {\"backgroundcolor\": \"#E5ECF6\", \"gridcolor\": \"white\", \"gridwidth\": 2, \"linecolor\": \"white\", \"showbackground\": true, \"ticks\": \"\", \"zerolinecolor\": \"white\"}}, \"shapedefaults\": {\"line\": {\"color\": \"#2a3f5f\"}}, \"ternary\": {\"aaxis\": {\"gridcolor\": \"white\", \"linecolor\": \"white\", \"ticks\": \"\"}, \"baxis\": {\"gridcolor\": \"white\", \"linecolor\": \"white\", \"ticks\": \"\"}, \"bgcolor\": \"#E5ECF6\", \"caxis\": {\"gridcolor\": \"white\", \"linecolor\": \"white\", \"ticks\": \"\"}}, \"title\": {\"x\": 0.05}, \"xaxis\": {\"automargin\": true, \"gridcolor\": \"white\", \"linecolor\": \"white\", \"ticks\": \"\", \"title\": {\"standoff\": 15}, \"zerolinecolor\": \"white\", \"zerolinewidth\": 2}, \"yaxis\": {\"automargin\": true, \"gridcolor\": \"white\", \"linecolor\": \"white\", \"ticks\": \"\", \"title\": {\"standoff\": 15}, \"zerolinecolor\": \"white\", \"zerolinewidth\": 2}}}, \"width\": 800},                        {\"responsive\": true}                    ).then(function(){\n",
       "                            \n",
       "var gd = document.getElementById('d60fc767-48e6-4eda-a8e1-73d7e7de004e');\n",
       "var x = new MutationObserver(function (mutations, observer) {{\n",
       "        var display = window.getComputedStyle(gd).display;\n",
       "        if (!display || display === 'none') {{\n",
       "            console.log([gd, 'removed!']);\n",
       "            Plotly.purge(gd);\n",
       "            observer.disconnect();\n",
       "        }}\n",
       "}});\n",
       "\n",
       "// Listen for the removal of the full notebook cells\n",
       "var notebookContainer = gd.closest('#notebook-container');\n",
       "if (notebookContainer) {{\n",
       "    x.observe(notebookContainer, {childList: true});\n",
       "}}\n",
       "\n",
       "// Listen for the clearing of the current output cell\n",
       "var outputEl = gd.closest('.output');\n",
       "if (outputEl) {{\n",
       "    x.observe(outputEl, {childList: true});\n",
       "}}\n",
       "\n",
       "                        })                };                });            </script>        </div>"
      ]
     },
     "metadata": {},
     "output_type": "display_data"
    }
   ],
   "source": [
    "# Plotting the clusters on 3D plot for K=5\n",
    "fig=px.scatter_3d(\n",
    "    five_clusters,\n",
    "    x=\"PC 1\",\n",
    "    y=\"PC 2\",\n",
    "    z=\"PC 3\",\n",
    "    color=\"class\",\n",
    "    symbol=\"class\",\n",
    "    width=800,\n",
    ")\n",
    "\n",
    "fig.update_layout(legend=dict(x=0, y=1))\n",
    "fig.show()"
   ]
  },
  {
   "cell_type": "markdown",
   "metadata": {},
   "source": [
    "#### Testing K=6"
   ]
  },
  {
   "cell_type": "code",
   "execution_count": 401,
   "metadata": {},
   "outputs": [
    {
     "data": {
      "text/html": [
       "<div>\n",
       "<style scoped>\n",
       "    .dataframe tbody tr th:only-of-type {\n",
       "        vertical-align: middle;\n",
       "    }\n",
       "\n",
       "    .dataframe tbody tr th {\n",
       "        vertical-align: top;\n",
       "    }\n",
       "\n",
       "    .dataframe thead th {\n",
       "        text-align: right;\n",
       "    }\n",
       "</style>\n",
       "<table border=\"1\" class=\"dataframe\">\n",
       "  <thead>\n",
       "    <tr style=\"text-align: right;\">\n",
       "      <th></th>\n",
       "      <th>PC 1</th>\n",
       "      <th>PC 2</th>\n",
       "      <th>PC 3</th>\n",
       "      <th>class</th>\n",
       "    </tr>\n",
       "  </thead>\n",
       "  <tbody>\n",
       "    <tr>\n",
       "      <th>42</th>\n",
       "      <td>-0.335286</td>\n",
       "      <td>0.921799</td>\n",
       "      <td>-0.465890</td>\n",
       "      <td>0</td>\n",
       "    </tr>\n",
       "    <tr>\n",
       "      <th>404</th>\n",
       "      <td>-0.318577</td>\n",
       "      <td>0.921666</td>\n",
       "      <td>-0.466455</td>\n",
       "      <td>0</td>\n",
       "    </tr>\n",
       "    <tr>\n",
       "      <th>1337</th>\n",
       "      <td>2.335877</td>\n",
       "      <td>1.454619</td>\n",
       "      <td>-0.609352</td>\n",
       "      <td>5</td>\n",
       "    </tr>\n",
       "    <tr>\n",
       "      <th>BTC</th>\n",
       "      <td>-0.139157</td>\n",
       "      <td>-1.277697</td>\n",
       "      <td>0.132061</td>\n",
       "      <td>1</td>\n",
       "    </tr>\n",
       "    <tr>\n",
       "      <th>ETH</th>\n",
       "      <td>-0.147730</td>\n",
       "      <td>-1.916692</td>\n",
       "      <td>0.290485</td>\n",
       "      <td>1</td>\n",
       "    </tr>\n",
       "  </tbody>\n",
       "</table>\n",
       "</div>"
      ],
      "text/plain": [
       "          PC 1      PC 2      PC 3  class\n",
       "42   -0.335286  0.921799 -0.465890      0\n",
       "404  -0.318577  0.921666 -0.466455      0\n",
       "1337  2.335877  1.454619 -0.609352      5\n",
       "BTC  -0.139157 -1.277697  0.132061      1\n",
       "ETH  -0.147730 -1.916692  0.290485      1"
      ]
     },
     "execution_count": 401,
     "metadata": {},
     "output_type": "execute_result"
    }
   ],
   "source": [
    "six_clusters=test_k_value(6, pcs_df)\n",
    "six_clusters.head()"
   ]
  },
  {
   "cell_type": "code",
   "execution_count": 402,
   "metadata": {
    "scrolled": true
   },
   "outputs": [
    {
     "data": {
      "application/vnd.plotly.v1+json": {
       "config": {
        "plotlyServerURL": "https://plot.ly"
       },
       "data": [
        {
         "hovertemplate": "class=%{marker.color}<br>PC 1=%{x}<br>PC 2=%{y}<br>PC 3=%{z}<extra></extra>",
         "legendgroup": "0",
         "marker": {
          "color": [
           0,
           0,
           0,
           0,
           0,
           0,
           0,
           0,
           0,
           0,
           0,
           0,
           0,
           0,
           0,
           0,
           0,
           0,
           0,
           0,
           0,
           0,
           0,
           0,
           0,
           0,
           0,
           0,
           0,
           0,
           0,
           0,
           0,
           0,
           0,
           0,
           0,
           0,
           0,
           0,
           0,
           0,
           0,
           0,
           0,
           0,
           0,
           0,
           0,
           0,
           0,
           0,
           0,
           0,
           0,
           0,
           0,
           0,
           0,
           0,
           0,
           0,
           0,
           0,
           0,
           0,
           0,
           0,
           0,
           0,
           0,
           0,
           0,
           0,
           0,
           0,
           0,
           0,
           0,
           0,
           0,
           0,
           0,
           0,
           0,
           0,
           0,
           0,
           0,
           0,
           0,
           0,
           0,
           0,
           0,
           0,
           0,
           0,
           0,
           0,
           0,
           0,
           0,
           0,
           0,
           0,
           0,
           0,
           0,
           0,
           0,
           0,
           0,
           0,
           0,
           0,
           0,
           0,
           0,
           0,
           0,
           0,
           0,
           0,
           0,
           0,
           0,
           0,
           0,
           0,
           0,
           0,
           0,
           0,
           0,
           0,
           0,
           0,
           0,
           0,
           0,
           0,
           0,
           0,
           0,
           0,
           0,
           0,
           0,
           0,
           0,
           0,
           0,
           0,
           0,
           0,
           0,
           0,
           0,
           0,
           0,
           0,
           0,
           0,
           0,
           0,
           0,
           0,
           0,
           0,
           0,
           0,
           0,
           0,
           0,
           0,
           0,
           0,
           0,
           0,
           0,
           0,
           0,
           0,
           0,
           0,
           0,
           0,
           0,
           0,
           0,
           0,
           0,
           0,
           0,
           0,
           0,
           0,
           0,
           0,
           0,
           0,
           0,
           0,
           0,
           0,
           0,
           0,
           0,
           0,
           0,
           0,
           0,
           0,
           0,
           0,
           0,
           0,
           0,
           0,
           0,
           0,
           0,
           0,
           0,
           0,
           0,
           0,
           0,
           0,
           0,
           0,
           0,
           0,
           0,
           0,
           0,
           0,
           0,
           0,
           0,
           0,
           0,
           0,
           0,
           0,
           0,
           0,
           0,
           0,
           0,
           0,
           0,
           0,
           0,
           0,
           0,
           0,
           0,
           0,
           0,
           0,
           0,
           0,
           0,
           0,
           0,
           0,
           0,
           0,
           0,
           0,
           0,
           0,
           0,
           0,
           0,
           0
          ],
          "coloraxis": "coloraxis",
          "symbol": "circle"
         },
         "mode": "markers",
         "name": "0",
         "scene": "scene",
         "showlegend": true,
         "type": "scatter3d",
         "x": [
          -0.3352856978551655,
          -0.31857736500562367,
          -0.3823093294569137,
          -0.2006682391457628,
          -0.30138272408126215,
          -0.272504940998366,
          -0.221873692544902,
          -0.3349443152876122,
          -0.3275021811234952,
          -0.33377826170896857,
          -0.335281621623806,
          -0.3352658592359187,
          0.7587186579374151,
          -0.3639429711587631,
          -0.3761240604106002,
          -0.3160786730823372,
          -0.3333389246153542,
          -0.33320145983968796,
          -0.38220374488514014,
          -0.4943779684556272,
          -0.04563517203933374,
          -0.2645837331330677,
          -0.3061582593765369,
          -0.2559376697971643,
          -0.25656153717944946,
          -0.3296144705023393,
          -0.3295714531800142,
          -0.33368287406795866,
          0.023810380966555238,
          -0.3531410727515274,
          -0.3825763761139148,
          -0.2614852994773593,
          -0.31865915473350137,
          -0.3824877489379998,
          -0.3104467467909315,
          -0.3339592560717578,
          -0.3199497748042375,
          -0.38245214439465336,
          -0.2619545982457361,
          -0.25634181651000865,
          -0.32636196851110594,
          0.28541672568696325,
          -0.3523432859247252,
          -0.3005921935634715,
          -0.36336300604587046,
          -0.30613851688474947,
          -0.25663708727299855,
          -0.3007767362896824,
          -0.3352677185983321,
          -0.25658915154472417,
          -0.35358704030150817,
          -0.3350013296141936,
          -0.3825578557813075,
          -0.6268485928476609,
          -0.3822015901350006,
          -0.4191362931999351,
          -0.30453548074290016,
          -0.25610938858212423,
          -0.2939165502028531,
          -0.22432265959259404,
          -0.07517718836309971,
          -0.30135356050892975,
          -0.05908316968615435,
          -0.301417460700067,
          -0.2198250526418112,
          -0.33487681023693194,
          -0.3044037980796093,
          -0.3797183112212595,
          0.8503853204880636,
          -0.30121689837969834,
          0.02588339195444615,
          -0.37580642740453246,
          -0.380394868499994,
          -0.2999565222035714,
          -0.297617596148753,
          -0.3415068677546629,
          -0.3812892424574746,
          -0.3829421800967508,
          -0.3111039640917803,
          -0.33491500216821657,
          -0.3333496707111979,
          -0.22644956612187617,
          -0.3410425039959163,
          -0.38203020317462705,
          -0.3341169647899261,
          -0.3013983291202397,
          -0.3825470091908544,
          -0.3351047413393258,
          -0.3352619363262301,
          -0.30439403915059726,
          -0.2838179337392024,
          0.07432174244094514,
          -0.3747605581970867,
          -0.3348750648788442,
          -0.3686678404858899,
          -0.37408751429649845,
          -0.22788459943185313,
          -0.4012176400517958,
          -0.37383497048161407,
          -0.24108147582591488,
          -0.3821383819948749,
          0.8785974962243093,
          -0.38250179615864355,
          -0.37522561901740425,
          -0.33480230653886767,
          -0.33495703313555025,
          -0.37580642740453246,
          -0.3820753936219364,
          -0.30126063919854895,
          -0.3348030616164621,
          -0.3609077701222811,
          -0.33495086066868696,
          -0.3305251956073855,
          -0.38253086372386935,
          -0.33415909870653226,
          0.33892878370564083,
          -0.3351507146165725,
          -0.33522150406625423,
          -0.3648200633392123,
          -0.34692741033022323,
          -0.33143666451005316,
          -0.3013746799561724,
          -0.3824405616768371,
          -0.3349986714359157,
          -0.3351259568742826,
          -0.3060446064519728,
          -0.3251784673199678,
          -0.22765179734602387,
          -0.3159254190973456,
          -0.30578511132334074,
          -0.38170406789682293,
          -0.4003011524992745,
          -0.38043904506021387,
          -0.374048026612893,
          -0.3816016809721191,
          -0.3684321099565347,
          -0.3775306028900388,
          -0.3350690945138161,
          -0.3350682593327062,
          -0.328168625224822,
          0.2618120137628123,
          -0.38208162175291427,
          -0.28863439918767114,
          -0.3758407818868448,
          -0.3342774184810318,
          0.9133557721357599,
          -0.2711912779729994,
          -0.3817170682553028,
          0.6131029877823033,
          -0.34304685861007295,
          -0.34154475258500144,
          -0.391778726792003,
          -0.2562733441421695,
          0.13105609135787957,
          -0.256344339651498,
          -0.3643661183221848,
          -0.3912822927674065,
          -0.38235482687060063,
          -0.30611912339634234,
          -0.3757066014769336,
          -0.3347032342908845,
          -0.3352043854940944,
          -0.25889801399543566,
          0.6222144346681671,
          -0.3822954424603468,
          -0.3245991514850831,
          -0.33515984650387814,
          -0.3198658524338616,
          0.4360841289207091,
          -0.2997162970746081,
          -0.32776940189004816,
          -0.3831725436110523,
          -0.3351100365045395,
          -0.3920713675194558,
          -0.347894892569113,
          -0.33498010976898424,
          -0.0984982466670385,
          -0.3810845137943362,
          0.2180299837406602,
          -0.25300572427373486,
          -0.33243300571963735,
          -0.31399551777459694,
          -0.3647056474996766,
          0.08042433172469925,
          -0.3341159243074732,
          -0.381667496311507,
          -0.3638678465841412,
          -0.32164621162166124,
          -0.3352265765929107,
          -0.35355889186205297,
          -0.383224874371665,
          -0.282233024134571,
          -0.32086159525818364,
          -0.3307592489567428,
          -0.2194232357954281,
          -0.3383961063219641,
          -0.3823720694916245,
          -0.37491269197711596,
          -0.30527653550224726,
          -0.3310670793183846,
          -0.34264462530467166,
          -0.33525400732465,
          -0.3352356633351327,
          -0.29964181665363965,
          -0.3651382609217752,
          -0.3752998959544992,
          -0.3349513406629985,
          -0.3907358469185795,
          -0.37548909264270497,
          -0.3305159176121461,
          -0.28166377583541674,
          -0.41162550435958856,
          -0.30581249151867257,
          -0.13781084704463495,
          -0.30606516455962124,
          -0.3065937850633369,
          -0.3344238015143746,
          -0.19485026708749026,
          -0.36040017411469083,
          -0.27131965720420764,
          0.9825043938363653,
          -0.35866477597160595,
          -0.36481947875858645,
          -0.3937606149312166,
          -0.18642592937088573,
          -0.3486080486535142,
          -0.36353535257337427,
          -0.3281085569259066,
          -0.35313506688976276,
          -0.38184392450247223,
          -0.3033026267520525,
          -0.3745860826322748,
          -0.3306537833200889,
          -0.35299593398300727,
          -0.19430489250646257,
          -0.09175881151984734,
          -0.3460916061681453,
          0.32222547045498073,
          -0.1429521590056467,
          -0.3930532113384572,
          -0.28084710585778405,
          -0.334955353653117,
          -0.39351065503811933,
          -0.36493679106240134,
          0.574207588647177,
          -0.3536133556338554,
          -0.33443669775029417,
          -0.3693521512199587,
          -0.2611774571014282,
          -0.379400911601764,
          -0.38207182957609676,
          0.1012436237983133,
          -0.3796050271856542,
          -0.3338201811922638,
          -0.33464783743814824,
          -0.2725376305345381,
          -0.3351677229136448,
          -0.3736758833642382,
          -0.24860741933171088,
          -0.08045424597005042,
          -0.3694113314547782,
          -0.334444074589049,
          -0.32748871290309817,
          -0.3786307420399429,
          -0.3328786482252523,
          -0.3760828267538202,
          -0.38876906948970213,
          -0.2998935712077975,
          -0.11280288610453253,
          -0.330065514517431,
          -0.3292391526096851,
          -0.4267221622698696,
          -0.2567446147526304,
          -0.2533804831121195,
          -0.37601852384595114,
          -0.3898578223660414,
          -0.3333250661503419,
          -0.3064628258313888
         ],
         "y": [
          0.9217985619639767,
          0.9216656021774245,
          1.1273005078681493,
          2.094693706334641,
          0.7394703945193797,
          0.6927357034267887,
          1.646422974934029,
          0.9217917255706615,
          0.9219097104964944,
          0.9218200881590617,
          0.9217982709964191,
          0.9217981468776695,
          1.0069308931449834,
          0.8319970643982211,
          1.7287601690462466,
          0.24471795599276125,
          0.921742552586859,
          1.0808634322457933,
          1.1273020156142677,
          1.6901289389541057,
          0.8787810668862837,
          0.7383216531258981,
          0.8750495007859934,
          1.6370202985710294,
          1.6370113897540872,
          0.3899592765450862,
          0.9215868287745163,
          0.9217530060320077,
          0.9269264486589814,
          1.080578694869922,
          1.1273120587856682,
          0.2117321126405616,
          1.6847675465010814,
          1.127306340970553,
          0.9210358045202595,
          0.9217476624794471,
          0.2698777526437967,
          1.1273099922516288,
          0.21179525214393294,
          1.6370145273619796,
          0.9212275818875919,
          2.433391001960558,
          1.6086683771568129,
          0.7394495563853273,
          0.8320084053308359,
          0.875061082995681,
          1.6370019299699385,
          0.8747884437288204,
          0.9217988187368301,
          1.6370040113130813,
          1.0805583582433795,
          0.9217886545510013,
          1.1273123239541534,
          1.701241256813287,
          1.5606105363670695,
          1.2997941000393474,
          0.8750141332451429,
          1.6369829258879305,
          0.7388939655815034,
          1.6466140807028669,
          0.8454249861877831,
          0.7394708109747584,
          1.113388730176619,
          0.7394779302055021,
          1.3216984381602181,
          0.9217750676476395,
          0.8749314692026638,
          1.1270846828502739,
          0.8224335542182641,
          0.739460191113027,
          1.022902623734242,
          1.7287507366242885,
          1.1272908305682625,
          0.7393505721475238,
          0.7391728598437564,
          1.3198979666753394,
          1.1272333606284541,
          1.6935099779097589,
          0.9207470551357556,
          0.9217728926423964,
          0.9217563673493313,
          1.5901480057789448,
          1.080292606337812,
          1.127284938284128,
          0.9217523945095776,
          0.7394708700904828,
          1.1273103836108196,
          0.9217864794222764,
          0.9217989013075897,
          0.8750859941117832,
          0.3056926041811198,
          1.6854704056528178,
          1.7287279574363041,
          0.9218044258261057,
          1.1264630569239442,
          1.7287613145325877,
          1.5902654495765556,
          1.84520359028654,
          1.728582635557149,
          1.6896923972718185,
          1.127297361708744,
          1.6526277946669783,
          1.1273104332795862,
          1.7287380782345785,
          0.9217785480608055,
          0.9217739220658404,
          1.7287507366242885,
          1.1272773088569314,
          0.7394735347113451,
          0.921782406474296,
          0.7345671105628916,
          0.921783787960168,
          0.9214121140218721,
          1.127309217346192,
          0.9217140786531601,
          0.8615638644209348,
          0.9217914102111853,
          0.9217971628967201,
          1.553099352268084,
          0.5654459668470428,
          0.9215043207182155,
          0.7394712078001939,
          1.1273074659773354,
          0.9217886925097477,
          0.9217855246148791,
          0.8750240114397212,
          0.3844154903158168,
          1.5902603757870006,
          0.9213766156580244,
          0.8750420858352477,
          1.1272546749496424,
          1.70752438196234,
          1.1272657553486574,
          1.7287127870268273,
          1.1272561370334049,
          1.7285906456531255,
          1.1270349076366577,
          0.921786840310811,
          0.9217816924624951,
          0.9212017828565857,
          0.6479936596267373,
          1.1272911881358751,
          0.8739142198799982,
          1.728743261934511,
          0.9217396270708335,
          1.6000215040735084,
          0.6926234516788049,
          1.693481028168571,
          1.5395289075765557,
          1.3199318484950682,
          1.3198764733556836,
          1.7912883456617505,
          1.6369945528215328,
          0.8935373744059933,
          1.6370012926326913,
          1.7904363646287478,
          1.7912954347322396,
          1.1273085832229675,
          0.8750492034715227,
          1.7287231082710481,
          0.9217731798450713,
          0.9217967898071391,
          2.0963130364119977,
          1.7611597703728934,
          1.1272972141201174,
          0.38975416390367384,
          0.9217893708186062,
          0.7790418855435497,
          0.9153534409477957,
          0.7394397150276659,
          1.3193189014644666,
          1.7325644368305435,
          0.9217864038073955,
          1.5997346983548961,
          1.58302206170865,
          0.921792597494556,
          0.6889435491171751,
          1.1272327920965786,
          1.3069986767271262,
          1.636915500435614,
          0.9216926321206939,
          1.2731806277709996,
          1.5530974940704316,
          0.8928143536313465,
          0.9217105047179679,
          1.1272901177327397,
          1.5530396167722413,
          0.9213647639086532,
          0.9217966126007435,
          1.0805580617918484,
          1.6935118775317557,
          0.053717765196698006,
          0.3747664246803585,
          0.9217011683041616,
          1.5898292951746913,
          0.7805524661438292,
          1.1272975167089059,
          1.8713422410776417,
          0.874986789134326,
          1.4904515343086968,
          1.319909655947566,
          0.9217969193011303,
          0.9217957844313717,
          0.8748046503643466,
          1.6354912334918048,
          1.728710477949555,
          0.9217823842842005,
          1.5997537695692166,
          1.7287133635102858,
          0.7448916048550658,
          0.9189870560495714,
          2.0438493363126446,
          0.8750475799515304,
          0.9174947094802258,
          0.8750314003893579,
          1.693929313062655,
          0.9217522033506833,
          1.5998367555545476,
          1.5527189773446715,
          0.6926913351874779,
          2.0073223080021805,
          0.7916171169578805,
          1.5530951701509186,
          1.5998466605784105,
          0.86498140218769,
          0.8257652430087984,
          1.5530583329983316,
          0.9212026406310009,
          1.0805403680379964,
          1.127287598340796,
          0.8749199926493111,
          1.7286354650721594,
          0.8329855580984822,
          1.0805109263665738,
          0.911240370892316,
          2.9404084914810924,
          1.8246070895542361,
          2.64381951947206,
          1.08358018943262,
          1.5998226456206563,
          0.056318410942764394,
          0.9217886126762137,
          1.599840532568318,
          1.5530988238075827,
          0.8825449826617597,
          1.0805581919840732,
          0.9217520191926263,
          1.8711143447526233,
          1.691155644493138,
          1.1270640725223104,
          1.1272983120762947,
          0.9035878152333428,
          1.1273544903025896,
          0.921679807383853,
          0.921769777569582,
          0.6927293001286597,
          0.9218002466737204,
          1.127089952974165,
          0.9157030128271404,
          0.7425079168823996,
          1.1268016452979903,
          0.9218001041986141,
          0.9216305384912604,
          1.1272231336277472,
          0.9217211888937429,
          1.7287544721647994,
          0.7307732875895794,
          0.7394336915015399,
          0.8708316337445691,
          0.9216635828853309,
          0.3899252470038623,
          0.6089257490952595,
          1.6370086915997653,
          0.692319119708315,
          1.728755645929954,
          1.9642093497331305,
          0.9216519570778867,
          0.8750557534579171
         ],
         "z": [
          -0.4658902744492687,
          -0.4664548515510434,
          -0.42734733894114935,
          -0.08358034447413909,
          -0.3269744963280445,
          -0.028473191379649113,
          -0.6204291077896162,
          -0.4659013270461962,
          -0.4661735637326649,
          -0.4659451391771216,
          -0.46589038189014753,
          -0.46589091465754656,
          -0.26996242899831957,
          -0.3545953455675445,
          0.039590542397898554,
          -0.33246989975263863,
          -0.46595130820304487,
          -0.1295833523071357,
          -0.42735118180272025,
          -0.34874162679371784,
          -0.17687929031273816,
          -0.32811764128063997,
          -0.16739595425759196,
          -0.5407315585547403,
          -0.5407088522450333,
          -0.31140967238954087,
          -0.4660638765149464,
          -0.4659405903376674,
          -0.478959954021873,
          -0.1288576291181047,
          -0.4273394199520824,
          0.06397982569316728,
          -0.03661973769636267,
          -0.4273418272874151,
          -0.4666633660774584,
          -0.46593036743871324,
          -0.40135248913896815,
          -0.42734349144384437,
          0.06398872205739764,
          -0.540716849209951,
          -0.46613322038860927,
          -0.19945195361885223,
          -0.010217872377481384,
          -0.32699950375914766,
          -0.3546168124784774,
          -0.1673979970193209,
          -0.5407051204089184,
          -0.16755222337402942,
          -0.4658909288266771,
          -0.540707028765342,
          -0.12883976080831902,
          -0.4658989874823715,
          -0.4273400941009142,
          0.06650377442828626,
          -0.7511318868110552,
          -0.043255851990746635,
          -0.16744815694798568,
          -0.5407212165398265,
          -0.3271661935361728,
          -0.6203664676648811,
          -0.3980622390871157,
          -0.3269755577669403,
          -0.43694037506486083,
          -0.32697417324194766,
          -0.5503262006216326,
          -0.4659017189593097,
          -0.16744304241713517,
          -0.4274120147611245,
          -0.2013884831994935,
          -0.32697905856243764,
          -0.2463880661862323,
          0.03958061866211529,
          -0.42741268010492695,
          -0.32700997659359576,
          -0.32707036530162525,
          -0.5458900971151313,
          -0.42737489049861094,
          -0.016614909202496204,
          -0.46660670892973133,
          -0.4659001379577952,
          -0.46595255393921403,
          -0.2422353208455314,
          -0.12924419867991635,
          -0.42735520644356034,
          -0.46592544588981744,
          -0.32697401020881534,
          -0.42734024334624005,
          -0.46589514186126163,
          -0.4658911392785531,
          -0.16746148912170108,
          -0.1334720338761575,
          -0.6993078128525242,
          0.03954697265143065,
          -0.46590521987188177,
          -0.42772287194789194,
          0.03951969385448098,
          -0.24219925519823607,
          -0.6071246179178416,
          0.03953186317880683,
          -0.6888509221243301,
          -0.42735290601322246,
          -0.5819545932946347,
          -0.4273418190836465,
          0.039561934807285974,
          -0.4659047137751136,
          -0.4658987991625175,
          0.03958061866211529,
          -0.4273527432638726,
          -0.32697910342095104,
          -0.4659051397011722,
          -0.1453790623916154,
          -0.46590016961208536,
          -0.4660102862597255,
          -0.42734066729233305,
          -0.4659194928821888,
          -0.18821479531533536,
          -0.46589412335612396,
          -0.46589233948045916,
          -0.11293902000402213,
          -0.2874764620374869,
          -0.4659894427797984,
          -0.3269748709450212,
          -0.427343597587735,
          -0.46589908422956666,
          -0.465894293313165,
          -0.16739691364632914,
          -0.16303937727666187,
          -0.24220674414032473,
          -0.46651306958410343,
          -0.1674080420391878,
          -0.4273629843510198,
          -0.5713322665879024,
          -0.42740820776218574,
          0.039524009384560306,
          -0.4273667108308586,
          0.03934332280159707,
          -0.4274821449679097,
          -0.46589642190444736,
          -0.4658958476586527,
          -0.4660674652168535,
          -0.04178304847705753,
          -0.4273541534361261,
          -0.16787139263454545,
          0.039582687455457614,
          -0.4659183783702022,
          -0.6544097910114826,
          -0.02850565115227262,
          -0.01665405590514381,
          -0.7814089412183807,
          -0.5458405949343594,
          -0.5458862629794264,
          -0.6097762912548834,
          -0.5407168860563648,
          -0.4787711453962811,
          -0.5407152107010988,
          -0.11714990078340314,
          -0.609794359493473,
          -0.42734670545210957,
          -0.16739727832266296,
          0.03958039004099131,
          -0.4659075247586534,
          -0.465892890162791,
          -0.08174821103684701,
          0.001313407876283302,
          -0.427347435160094,
          -0.3115597817153317,
          -0.4658935672884492,
          -0.048827771546280756,
          -0.491919026263119,
          -0.32702876397071895,
          -0.5462992413719211,
          -0.3340081521694384,
          -0.46589494913815305,
          -0.41148515899011273,
          -0.05410954164646573,
          -0.4659001863419096,
          -0.034070787878050714,
          -0.4273819326007789,
          -0.5638071178594363,
          -0.540821082854424,
          -0.46597691424196375,
          -0.24734337936535344,
          -0.11294277507596316,
          -0.4769283492382173,
          -0.46592057320437297,
          -0.4273684075414227,
          -0.11296508346351485,
          -0.46631303957988857,
          -0.4658920988629202,
          -0.12884070345780474,
          -0.016605315908900305,
          0.12999438921934292,
          0.018607347836621015,
          -0.466036031843399,
          -0.24244194598071042,
          -0.3064623453599207,
          -0.4273448099238397,
          -0.2785355015143575,
          -0.16741922125844722,
          0.06691254708711061,
          -0.5458519609354063,
          -0.4658911823351623,
          -0.46589168629879624,
          -0.16759352996815477,
          -0.10635830742595627,
          0.03956774821265476,
          -0.46589998845702435,
          -0.4115337666673915,
          0.039573979484509844,
          0.011890252819284082,
          -0.4674227070057849,
          0.10555043945330243,
          -0.16740773514838586,
          -0.4722427850651974,
          -0.1673970656807713,
          -0.6870726588681132,
          -0.46591476929991865,
          -0.32188081311129463,
          -0.11304791648288104,
          -0.02850914834486732,
          -0.04877096081534219,
          -0.2866352867080692,
          -0.11293855022495937,
          -0.4114396239986067,
          -0.17037355980551844,
          -0.34733245631215537,
          -0.11297882178446342,
          -0.46606965146578616,
          -0.12885334636577309,
          -0.42736198625180455,
          -0.16747993315292414,
          0.03955175302079593,
          -0.35254302605685606,
          -0.12885472733811387,
          -0.469548252710427,
          -0.15230604502208808,
          0.01996782606967983,
          0.22340941395233763,
          -0.13650767575927988,
          -0.41146137276830647,
          0.1384022365769885,
          -0.4659005789832615,
          -0.41144758516771773,
          -0.11293490497914371,
          -0.4928704143252749,
          -0.12883882758688814,
          -0.46591429992784505,
          -0.27870187250916506,
          -0.6883246052537475,
          -0.4274206205212521,
          -0.42735532825851913,
          -0.4789137280001411,
          -0.4274475654041222,
          -0.46592724495710136,
          -0.4659090495927886,
          -0.028471305947646023,
          -0.46589456827481973,
          -0.427622441540338,
          -0.4681856744808193,
          -0.3350016711589445,
          -0.4277367331027148,
          -0.4659196785781701,
          -0.46614131689006594,
          -0.4274660022800015,
          -0.4659647867432231,
          0.039589778238815855,
          -0.12086140202563955,
          -0.32702190267923525,
          -0.17361550174936058,
          -0.46605571574259763,
          -0.3114187167093047,
          -2.7831852275642657,
          -0.5407021791230442,
          -0.029088426594601396,
          0.03958740792390732,
          0.34824455786091435,
          -0.4659411730608477,
          -0.167386111611443
         ]
        },
        {
         "hovertemplate": "class=%{marker.color}<br>PC 1=%{x}<br>PC 2=%{y}<br>PC 3=%{z}<extra></extra>",
         "legendgroup": "5",
         "marker": {
          "color": [
           5,
           5,
           5,
           5,
           5,
           5,
           5,
           5,
           5,
           5,
           5,
           5,
           5,
           5,
           5
          ],
          "coloraxis": "coloraxis",
          "symbol": "diamond"
         },
         "mode": "markers",
         "name": "5",
         "scene": "scene",
         "showlegend": true,
         "type": "scatter3d",
         "x": [
          2.3358766092515033,
          2.5573479494238587,
          3.8829034856744107,
          3.6748501803934657,
          3.2462491999218965,
          3.6797202997253877,
          8.078345687133968,
          3.8624421005602323,
          2.2300321189804726,
          3.114571409091551,
          3.6919961882477583,
          3.675243148629903,
          3.685136896128778,
          3.6863843405418706,
          2.456462765827871
         ],
         "y": [
          1.454619135275007,
          -1.324569502822724,
          -2.3176588105322358,
          2.347621198769421,
          -1.1862244108483206,
          2.34742883994054,
          -2.8273247283027625,
          2.472463911043131,
          0.21740778307017536,
          -2.2621036376068293,
          2.347254934032067,
          2.3476024229613364,
          2.3478553942706606,
          2.3478732077583286,
          1.0322441359745411
         ],
         "z": [
          -0.6093517605935361,
          -0.0748034998949027,
          0.14789229991272493,
          -0.10701160440275106,
          -0.11493582067140788,
          -0.10715816655124806,
          0.06194005730069754,
          -0.007332210512695291,
          -0.36967898458963894,
          0.1546030753807602,
          -0.1075640391378296,
          -0.10702304908312828,
          -0.10739623056659124,
          -0.10744163261835651,
          -0.08789281661271568
         ]
        },
        {
         "hovertemplate": "class=%{marker.color}<br>PC 1=%{x}<br>PC 2=%{y}<br>PC 3=%{z}<extra></extra>",
         "legendgroup": "1",
         "marker": {
          "color": [
           1,
           1,
           1,
           1,
           1,
           1,
           1,
           1,
           1,
           1,
           1,
           1,
           1,
           1,
           1,
           1,
           1,
           1,
           1,
           1,
           1,
           1,
           1,
           1,
           1,
           1,
           1,
           1,
           1,
           1,
           1,
           1,
           1,
           1,
           1,
           1,
           1,
           1,
           1,
           1,
           1,
           1,
           1,
           1,
           1,
           1,
           1,
           1,
           1,
           1,
           1,
           1,
           1,
           1,
           1,
           1,
           1,
           1,
           1,
           1,
           1,
           1,
           1,
           1,
           1,
           1,
           1,
           1,
           1,
           1,
           1,
           1,
           1,
           1,
           1,
           1,
           1,
           1,
           1,
           1,
           1,
           1,
           1,
           1,
           1,
           1,
           1,
           1,
           1,
           1,
           1,
           1,
           1,
           1,
           1,
           1,
           1,
           1,
           1,
           1,
           1,
           1,
           1,
           1,
           1,
           1,
           1,
           1,
           1,
           1,
           1,
           1,
           1,
           1,
           1,
           1,
           1,
           1,
           1,
           1,
           1,
           1,
           1,
           1,
           1,
           1,
           1,
           1,
           1,
           1,
           1,
           1,
           1,
           1,
           1,
           1,
           1,
           1,
           1,
           1,
           1,
           1,
           1,
           1,
           1,
           1,
           1,
           1,
           1,
           1,
           1,
           1,
           1,
           1,
           1,
           1,
           1,
           1,
           1,
           1,
           1,
           1,
           1,
           1,
           1,
           1,
           1,
           1,
           1,
           1,
           1,
           1,
           1,
           1,
           1,
           1,
           1,
           1,
           1,
           1,
           1,
           1,
           1,
           1,
           1,
           1,
           1,
           1,
           1,
           1,
           1,
           1,
           1,
           1,
           1,
           1,
           1,
           1,
           1,
           1,
           1,
           1,
           1,
           1,
           1,
           1,
           1,
           1,
           1,
           1,
           1,
           1,
           1,
           1,
           1,
           1,
           1,
           1,
           1,
           1,
           1,
           1,
           1,
           1,
           1,
           1,
           1,
           1,
           1,
           1,
           1,
           1,
           1,
           1,
           1
          ],
          "coloraxis": "coloraxis",
          "symbol": "square"
         },
         "mode": "markers",
         "name": "1",
         "scene": "scene",
         "showlegend": true,
         "type": "scatter3d",
         "x": [
          -0.1391567105965107,
          -0.1477301637754863,
          -0.17188687419306292,
          -0.1414610800877914,
          -0.14616734369632214,
          -0.14830393279323223,
          0.1590840706340978,
          -0.17303639457288983,
          -0.2202682856530178,
          -0.17265176888674308,
          -0.09506252273269246,
          -0.1362333388160897,
          -0.16989920487622798,
          -0.1724551594944084,
          -0.22690463106202452,
          -0.20078102193709962,
          -0.17250422224876225,
          -0.17301861287292544,
          -0.17310532519136249,
          -0.2203578745935616,
          0.1828834425027222,
          0.2397714786977035,
          0.07633597090970246,
          -0.1728509131382606,
          -0.16844353936015247,
          -0.1727900094887247,
          -0.17316248743970986,
          -0.16270607740370327,
          -0.15232455082452978,
          -0.17195416914295444,
          -0.1722323564026636,
          1.5807329240135917,
          -0.1391179760811722,
          -0.16951385636089641,
          -0.17287742898277333,
          -0.17323325517590998,
          -0.172490386117531,
          -0.1811662061664455,
          -0.17311417532109238,
          -0.03760942190624013,
          -0.13919579545497116,
          -0.16676002869845372,
          -0.1730935273206899,
          -0.17118202546885766,
          -0.1725787957046992,
          -0.12631061826058104,
          -0.13865804005633925,
          -0.1389460333164583,
          -0.13892885470241514,
          -0.13952139764541782,
          -0.2205322926690091,
          -0.172809247676324,
          -0.1858912093098134,
          -0.16990388373566725,
          -0.13872552214547607,
          0.4721800533179249,
          -0.17167354036817473,
          -0.15622611908502435,
          -0.17038872087236992,
          -0.173235466472154,
          -0.17025341688611467,
          -0.15643738271553753,
          -0.11132849769536472,
          -0.12916681068434963,
          -0.18575098639289356,
          -0.17310820027117746,
          -0.045673307075707735,
          -0.10208853728220704,
          -0.1732443891672672,
          -0.13922364773834145,
          0.4809519856984999,
          -0.2199177273702426,
          -0.16324267341694482,
          -0.1389627084802265,
          -0.22020343009104726,
          -0.17136247343136388,
          -0.17055241821677905,
          -0.14880044278527257,
          0.38109500297335347,
          -0.22023893758314408,
          -0.13911910145333198,
          -0.16919072372463642,
          -0.15552951860571845,
          -0.17180361724699292,
          0.28055784050876964,
          -0.21939719043036077,
          -0.1470127287678801,
          -0.17205144872308034,
          -0.1514907150341548,
          -0.17303367546240941,
          -0.22020205431591588,
          -0.1732444478289142,
          -0.22035242912797876,
          -0.2555979805605068,
          0.31663641830147443,
          -0.13937992135872573,
          -0.1091819357330023,
          -0.17040291682957986,
          -0.13933843687322084,
          -0.17290685121224092,
          -0.14683880758626794,
          -0.14854187687899917,
          -0.14832560806062853,
          -0.0997423758730454,
          -0.20689815844620463,
          -0.21817410719368802,
          0.3166308007936553,
          -0.17322613006560877,
          0.31676188103326924,
          -0.163784744661889,
          0.4971254674531106,
          -0.14022189024508513,
          -0.17319432982089372,
          -0.2130639300997146,
          -0.14833802845836067,
          -0.1713222726207792,
          -0.1635023326382009,
          -0.12836502206122788,
          -0.1440274535787737,
          -0.18067262857615582,
          -0.1727554300439237,
          -0.10560673944344062,
          -0.17257690404405648,
          -0.14007948795166889,
          -0.14696403465522348,
          -0.02028504695384888,
          -0.14364292698874445,
          0.352856148397237,
          -0.21940555760226382,
          -0.17289718659324335,
          -0.17265975949074153,
          -0.21980142294604396,
          -0.2203805558784171,
          0.317026953091234,
          -0.12528513225787022,
          -0.10827870323776806,
          -0.21122479314398304,
          -0.13915587256286951,
          -0.09858547671796575,
          1.578479620818489,
          -0.17299529543848785,
          -0.17244526598714832,
          -0.17214538694863074,
          -0.17213228267656738,
          0.3172111640892414,
          0.06462426392581663,
          -0.1746392004348653,
          -0.16740838700773011,
          -0.14818365288010343,
          -0.1457680965727314,
          -0.17132047695245456,
          -0.21591197231919448,
          -0.16725332758775205,
          -0.1469019008233875,
          -0.16735384291229638,
          -0.11937030180312791,
          1.1570895441669107,
          0.3166134980959413,
          -0.07155915993909723,
          -0.21565223979305612,
          -0.1291595006442139,
          -0.08914282612433248,
          1.0951395631107383,
          -0.22035448170669364,
          -0.16740595740450845,
          -0.16042361425327642,
          -0.17224414479590652,
          -0.22027967848211952,
          -0.1391352170197791,
          -0.17633261942241168,
          -0.12341886821358536,
          0.3204993511387511,
          0.020346413274932997,
          -0.14527014593955642,
          -0.17140726013866955,
          -0.17281948808739708,
          0.13513993753386538,
          -0.21440335234978647,
          -0.4200241089018667,
          -0.0997949695376332,
          0.32456098572189984,
          -0.17305719513518172,
          -0.15075278115786434,
          -0.14717187695971914,
          -0.14461550078848373,
          -0.21944643991298765,
          0.31679652657056434,
          -0.18073233318590465,
          -0.16362951665952769,
          -0.159922997118634,
          -0.146923444587479,
          0.32073709481654916,
          0.5846569671644701,
          2.130714300034418,
          -0.1775058390465967,
          0.33044111612916705,
          -0.1974182120640851,
          -0.13783370707254222,
          -0.2203365901995581,
          -0.17308183986709885,
          -0.12903677520340748,
          -0.1464400661188045,
          -0.21164123876227176,
          -0.09886904931861851,
          -0.22030786649895928,
          -0.19684415581233392,
          -0.34324867706503615,
          -0.04262320774528065,
          -0.1463193507853587,
          -0.13915591022956145,
          0.3967961281257866,
          -0.13463037806882452,
          -0.13502370146942283,
          -0.1443899686175761,
          -0.17197085440856974,
          -0.1462377946393054,
          -0.14801599113609215,
          -0.1849595297139951,
          -0.13842997119252776,
          -0.0946886079736048,
          -0.13729454317158005,
          0.5250083276957221,
          -0.09235778593680977,
          -0.08533446740918903,
          -0.15658837470402237,
          -0.13894540207064807,
          0.5446751278584475,
          -0.20034077507653483,
          -0.17315893726183346,
          -0.17110860181113577,
          -0.12990366833277583,
          -0.12594250888040467,
          -0.14857512999721506,
          0.33843347132206186,
          -0.1483049925900208
         ],
         "y": [
          -1.2776973943222716,
          -1.916691777909927,
          -1.0954118440568286,
          -2.1344767186420643,
          -1.9168161271363313,
          -1.9140615800115,
          -1.769190321318776,
          -1.0953842593085894,
          -0.8898692239269553,
          -1.0954087985251169,
          -1.7595497251598087,
          -1.2777595690665382,
          -1.0954993963659962,
          -1.0954311337357279,
          -0.4174246207261744,
          -1.1852136651759757,
          -1.0953956329242691,
          -1.095384005386178,
          -1.0953797541276873,
          -0.8898691064340378,
          -1.765746030511708,
          -1.2869382661756565,
          -1.101237105189075,
          -1.0953816106364611,
          -1.0955133850758954,
          -1.0953884234523596,
          -1.0953792404989242,
          -1.6273743794255329,
          -1.0960659969973194,
          -1.095403027276117,
          -1.0954085682072456,
          -1.1336018139125306,
          -1.277696841193962,
          -1.0955046636486245,
          -1.0953812908714982,
          -1.0953733467023017,
          -1.0953911289433549,
          -2.141528370473933,
          -1.0953776874974084,
          -1.1039118599461508,
          -1.2776979524534624,
          -1.0955153307188985,
          -1.095385075163378,
          -1.0955177150249826,
          -1.0953988168105637,
          -1.2781194745026554,
          -1.2777084403544765,
          -1.277709052481228,
          -1.2777353467823405,
          -1.2776881100232185,
          -0.8898590257266566,
          -1.09538241247594,
          -1.191418235198791,
          -1.0955102332337368,
          -1.2777079988174695,
          -2.2445139406756525,
          -1.0954235480896675,
          -1.0963028723883363,
          -1.0954479897241647,
          -1.0953742708486176,
          -1.0954415975337053,
          -1.0958309698667625,
          -2.1123013544760876,
          -1.7586399122285103,
          -1.4516824491712477,
          -1.0953729726437693,
          -1.1005349579661985,
          -2.2105149003239264,
          -1.0953729954910576,
          -1.2776983501836554,
          -1.1502844445167588,
          -0.889873297300655,
          -2.1300543717591323,
          -1.2777175039136563,
          -0.8898689962013228,
          -1.0954925230046806,
          -1.0955087242427857,
          -1.9167188690890031,
          -2.1803643573871496,
          -0.8898660111936415,
          -1.27769685726426,
          -1.0954613428325644,
          -2.006082098802513,
          -1.0954106551488747,
          -1.2867932382688962,
          -0.8899014829931247,
          -2.1545924979288147,
          -1.0954731060399479,
          -2.198851691211071,
          -1.0953835220689039,
          -0.8898717701985865,
          -1.0953729942125605,
          -0.889873917548667,
          -1.1688975415463714,
          -2.239757977298454,
          -1.2776927148690629,
          -1.7591926215050502,
          -1.0954716688237969,
          -1.2776927526459203,
          -1.0953886951287777,
          -2.1257973047980427,
          -1.91672167139317,
          -1.9140618895339954,
          -1.1013070634645954,
          -0.8900135359067259,
          -0.889984588541932,
          -2.2397657400354904,
          -1.0953741977879474,
          -2.2397666618549303,
          -2.130023148816224,
          -0.9494519663891503,
          -2.134588229032725,
          -1.095374194654575,
          -0.8904507884482765,
          -1.914059273253778,
          -1.0954149561280189,
          -2.1300267984965324,
          -2.1520735632349504,
          -1.0977489887473857,
          -0.6972612378382806,
          -1.0953903883438814,
          -1.2789496616758411,
          -1.0954133167429008,
          -2.1345303226638497,
          -2.123293932090008,
          -2.186333715421136,
          -2.107156297281809,
          -2.240630597639111,
          -0.889912777049464,
          -1.095381067919171,
          -1.095416595149932,
          -0.8898904935675639,
          -0.8898700588921934,
          -2.2397831305438975,
          -2.286529745714351,
          -1.18656043715461,
          -0.8904943666827025,
          -1.2776973823551567,
          -1.1016397483758908,
          -1.0703579700271575,
          -1.095382974002733,
          -1.0954198178833423,
          -1.0954267101883808,
          -1.0954265230595706,
          -2.239804866790743,
          -1.9256729292903778,
          -0.890460812542495,
          -1.6272257193908855,
          -1.9140598624161291,
          -2.154662938589356,
          -1.095414930485902,
          -0.8900374914105856,
          -1.6272360765395786,
          -1.9168755053591455,
          -1.627228292873988,
          -1.7589609693738784,
          -2.287114255435093,
          -2.239760050625718,
          -1.9225881653883585,
          -0.8901734645995851,
          -2.13499910098375,
          -1.0976636479108466,
          -1.220190288214191,
          -0.8898703151231544,
          -1.6272214942312182,
          -1.6274563252614864,
          -1.0954029776591607,
          -0.8898714818488697,
          -1.277696504919678,
          -1.236620897754638,
          -2.2457246524524694,
          -2.2399304966049254,
          -1.099592197341331,
          -2.1546165026299033,
          -1.1919209900213095,
          -1.0953944316929352,
          -1.1038244732734082,
          -0.8901207099640639,
          -2.6585408690185126,
          -1.9205469344313666,
          -2.240336241313303,
          -1.0953845563403097,
          -2.146345796743172,
          -1.9140796364016062,
          -2.125960133266725,
          -0.8899133608482531,
          -2.239761557605708,
          -0.6972430573273337,
          -2.1300323022916374,
          -2.1941221244223903,
          -2.1257909007351348,
          -2.240111482449125,
          -2.1694996943901996,
          -2.342353580376622,
          -2.0451975411259835,
          -2.2402522731385273,
          -1.2255231233137904,
          -2.0725697266738634,
          -0.8898708977256922,
          -1.0953856801943618,
          -2.1355215187021583,
          -2.1192476568987666,
          -0.14591607893523828,
          -1.2785740832298302,
          -0.8898732811949872,
          -1.2255693489739405,
          -0.2121148733696807,
          -1.9178457164951341,
          -2.1258336074804856,
          -1.2776973828930367,
          -2.2442494732165477,
          -2.1410446706002793,
          -2.1409944903724396,
          -2.0961983615502047,
          -1.0954381860828648,
          -1.9142009513276093,
          -1.9140643726983633,
          -1.4517409882644472,
          -1.2777170481599889,
          -0.3801636061993761,
          -1.2777734689908515,
          -1.1539156266592896,
          -1.6289287841434743,
          -2.1451561845782225,
          -1.095833126030113,
          -1.2777090434670468,
          -1.1200412242161282,
          -1.1852220450847424,
          -1.0953748346431162,
          -1.0954691745999345,
          -1.7586523900950908,
          -2.068778256534634,
          -1.9167209466602582,
          -2.2404176622296768,
          -1.9140615951453812
         ],
         "z": [
          0.13206070335106007,
          0.2904854318921019,
          -0.006890803814410348,
          0.3547605719849131,
          0.2904457383533256,
          0.29895786177762623,
          0.21576981917238736,
          -0.0068541218934999575,
          0.03169451106149145,
          -0.006864601518975903,
          0.22346474275739248,
          0.13196648197468072,
          -0.006949561261740987,
          -0.006868810991710709,
          0.04744693842657748,
          0.10441238789470417,
          -0.006871267529526378,
          -0.006854769077177102,
          -0.006852256373814949,
          0.03169760806006991,
          0.21453982572021993,
          0.11998618877711115,
          -0.014827135325163431,
          -0.006860872685445662,
          -0.006998466596296831,
          -0.006862189069445151,
          -0.006850331737229966,
          0.14748237956097143,
          -0.007493403572162557,
          -0.006889500340058434,
          -0.0068791916281938,
          -0.06327118206345465,
          0.13205929356761703,
          -0.00696232434827284,
          -0.006859989455970751,
          -0.0068485651514784435,
          -0.006872275751437044,
          0.30115649571625247,
          -0.006852191249739236,
          -0.010557209007030392,
          0.132062125885595,
          -0.007056694576642846,
          -0.006852042487038401,
          -0.006902871656704439,
          -0.006868305039751352,
          0.1316641138242581,
          0.1320446825987402,
          0.13205475422402022,
          0.1320572390083913,
          0.13207227828629145,
          0.0317024830229498,
          -0.006862225458602968,
          0.11168753912734337,
          -0.006948128891646881,
          0.13204697401571241,
          0.25775030166342844,
          -0.0068968398080802035,
          -0.0073301727119098,
          -0.0069385879976951725,
          -0.006848380074205937,
          -0.006944035175345217,
          -0.007378136505325285,
          0.3313295005889851,
          0.22454231903293725,
          0.17159056832368114,
          -0.006852951224859625,
          -0.010672928330941843,
          0.36474360486858554,
          -0.006848219705956073,
          0.1320631395987497,
          -0.023128918194829054,
          0.03168281607755262,
          0.2979107074629013,
          0.13205632360290817,
          0.031692232417665306,
          -0.006899558124317488,
          -0.00692578687501064,
          0.2905257694858064,
          0.22251470659082342,
          0.031693115537287035,
          0.13205933452672075,
          -0.006978620881862916,
          0.3434369300310768,
          -0.006893834038554491,
          0.11855298260247228,
          0.031668044559667145,
          0.2872401947117927,
          -0.006877910423100347,
          0.4933838680101105,
          -0.006854302700968132,
          0.03169250971520845,
          -0.006848217818886724,
          0.03169798276469248,
          0.33222928247733785,
          0.2625938685062645,
          0.132067905466729,
          0.2239131595823095,
          -0.006935320264359144,
          0.13206646944163375,
          -0.006858100177159938,
          0.3073268361133184,
          0.29051711977341627,
          0.29895865067178695,
          -0.008705027689690116,
          0.031247175655181612,
          0.0316353144902999,
          0.26259497322976916,
          -0.0068487128206753504,
          0.2625905297968746,
          0.297925870792085,
          0.013766832006950617,
          0.35473061124451954,
          -0.006849817377135845,
          0.03151250669190986,
          0.29895877535490256,
          -0.006910043601309368,
          0.2979164923778559,
          0.3893492027233123,
          -0.007584281187026239,
          -0.08680757726748414,
          -0.006863159506093108,
          0.13104250461514888,
          -0.00686667156303262,
          0.354718880956709,
          0.438490873958012,
          0.23715120535984355,
          0.3561614454611072,
          0.2614384800625566,
          0.03166965857299708,
          -0.006859329545507043,
          -0.006863410424139197,
          0.03168079280538204,
          0.03169850722761709,
          0.2625832556553278,
          0.2589900205659429,
          0.10468232543052365,
          0.031453753625738025,
          0.13206067284993667,
          -0.008706212960722012,
          -0.07060410861819841,
          -0.006855699582315726,
          -0.006870480557621808,
          -0.006880085489404945,
          -0.006880562433172692,
          0.2625794064989233,
          0.29292509157070756,
          0.030179472297023873,
          0.1476282357082671,
          0.29895348406365035,
          0.2872052322827391,
          -0.0069101089565472154,
          0.0315629665066632,
          0.1476240653240187,
          0.29047820231345556,
          0.14762664336292344,
          0.22423978088983892,
          0.23896049381925713,
          0.26259490731771173,
          0.2885315338894015,
          0.031569881784452275,
          0.3543946432069658,
          -0.00950002236205501,
          0.031646633133957464,
          0.03169763188902976,
          0.14762765622481203,
          0.1474127290967743,
          -0.006879437426595423,
          0.03169517124323726,
          0.13205985281300256,
          0.15257915098304342,
          0.2595455962308783,
          0.2624799536833333,
          -0.013075785507939898,
          0.2871825005572171,
          0.11124353262261569,
          -0.006860461424181125,
          -0.01656576765600548,
          0.031520335083004065,
          4.244383303453658,
          0.28927275684902426,
          0.2623864696939095,
          -0.00685336483515237,
          0.3339582499403799,
          0.2989206697011071,
          0.307268717866664,
          0.03167114652770537,
          0.2625887286750578,
          -0.08680763462943568,
          0.29792155350294486,
          0.5236916764607091,
          0.3073290244818788,
          0.26249290723600904,
          0.23159674839999,
          0.2116268121260955,
          0.39135600304325224,
          0.2621724561616537,
          0.1724306938197616,
          0.4009020771506696,
          0.031697078919903164,
          -0.006852377406630052,
          0.3544516008557232,
          0.16690991694726828,
          0.18047400651575204,
          0.1307645422621433,
          0.0316963608609281,
          0.17241617796443698,
          0.31654857836843625,
          0.29573178553616086,
          0.30731305328217395,
          0.13206067422085566,
          0.26033684117035605,
          0.2844493027444067,
          0.284457079661185,
          0.4559812011729525,
          -0.00688480093318165,
          0.2989024520421085,
          0.29894819093385366,
          0.17156994668337738,
          0.13203777213690168,
          -0.08166054798014681,
          0.13200495866806186,
          -0.02423315536258268,
          0.14522185070347166,
          0.28321942099415526,
          -0.007372640993056002,
          0.1320547312491648,
          -0.028885577420684944,
          0.10439808334127439,
          -0.006850971304723219,
          -0.006911109283521585,
          0.22456936690147766,
          0.3451195639217906,
          0.29051818948322805,
          0.2619143212378239,
          0.29895790035004594
         ]
        },
        {
         "hovertemplate": "class=%{marker.color}<br>PC 1=%{x}<br>PC 2=%{y}<br>PC 3=%{z}<extra></extra>",
         "legendgroup": "4",
         "marker": {
          "color": [
           4,
           4,
           4
          ],
          "coloraxis": "coloraxis",
          "symbol": "x"
         },
         "mode": "markers",
         "name": "4",
         "scene": "scene",
         "showlegend": true,
         "type": "scatter3d",
         "x": [
          4.350750115561104,
          -0.25597678469443286,
          -0.23088940013182685
         ],
         "y": [
          0.6416456441996811,
          -1.919439720173226,
          6.108147832919289
         ],
         "z": [
          9.853008660291046,
          15.55541259483884,
          10.325026362707924
         ]
        },
        {
         "hovertemplate": "class=%{marker.color}<br>PC 1=%{x}<br>PC 2=%{y}<br>PC 3=%{z}<extra></extra>",
         "legendgroup": "3",
         "marker": {
          "color": [
           3
          ],
          "coloraxis": "coloraxis",
          "symbol": "cross"
         },
         "mode": "markers",
         "name": "3",
         "scene": "scene",
         "showlegend": true,
         "type": "scatter3d",
         "x": [
          -0.35011188688480516
         ],
         "y": [
          5.747767706296859
         ],
         "z": [
          23.39495234417003
         ]
        },
        {
         "hovertemplate": "class=%{marker.color}<br>PC 1=%{x}<br>PC 2=%{y}<br>PC 3=%{z}<extra></extra>",
         "legendgroup": "2",
         "marker": {
          "color": [
           2
          ],
          "coloraxis": "coloraxis",
          "symbol": "circle"
         },
         "mode": "markers",
         "name": "2",
         "scene": "scene",
         "showlegend": true,
         "type": "scatter3d",
         "x": [
          34.12245592462859
         ],
         "y": [
          1.4392136660743562
         ],
         "z": [
          -1.3392624474830812
         ]
        }
       ],
       "layout": {
        "coloraxis": {
         "colorbar": {
          "title": {
           "text": "class"
          }
         },
         "colorscale": [
          [
           0,
           "#0d0887"
          ],
          [
           0.1111111111111111,
           "#46039f"
          ],
          [
           0.2222222222222222,
           "#7201a8"
          ],
          [
           0.3333333333333333,
           "#9c179e"
          ],
          [
           0.4444444444444444,
           "#bd3786"
          ],
          [
           0.5555555555555556,
           "#d8576b"
          ],
          [
           0.6666666666666666,
           "#ed7953"
          ],
          [
           0.7777777777777778,
           "#fb9f3a"
          ],
          [
           0.8888888888888888,
           "#fdca26"
          ],
          [
           1,
           "#f0f921"
          ]
         ]
        },
        "legend": {
         "title": {
          "text": "class"
         },
         "tracegroupgap": 0,
         "x": 0,
         "y": 1
        },
        "margin": {
         "t": 60
        },
        "scene": {
         "domain": {
          "x": [
           0,
           1
          ],
          "y": [
           0,
           1
          ]
         },
         "xaxis": {
          "title": {
           "text": "PC 1"
          }
         },
         "yaxis": {
          "title": {
           "text": "PC 2"
          }
         },
         "zaxis": {
          "title": {
           "text": "PC 3"
          }
         }
        },
        "template": {
         "data": {
          "bar": [
           {
            "error_x": {
             "color": "#2a3f5f"
            },
            "error_y": {
             "color": "#2a3f5f"
            },
            "marker": {
             "line": {
              "color": "#E5ECF6",
              "width": 0.5
             }
            },
            "type": "bar"
           }
          ],
          "barpolar": [
           {
            "marker": {
             "line": {
              "color": "#E5ECF6",
              "width": 0.5
             }
            },
            "type": "barpolar"
           }
          ],
          "carpet": [
           {
            "aaxis": {
             "endlinecolor": "#2a3f5f",
             "gridcolor": "white",
             "linecolor": "white",
             "minorgridcolor": "white",
             "startlinecolor": "#2a3f5f"
            },
            "baxis": {
             "endlinecolor": "#2a3f5f",
             "gridcolor": "white",
             "linecolor": "white",
             "minorgridcolor": "white",
             "startlinecolor": "#2a3f5f"
            },
            "type": "carpet"
           }
          ],
          "choropleth": [
           {
            "colorbar": {
             "outlinewidth": 0,
             "ticks": ""
            },
            "type": "choropleth"
           }
          ],
          "contour": [
           {
            "colorbar": {
             "outlinewidth": 0,
             "ticks": ""
            },
            "colorscale": [
             [
              0,
              "#0d0887"
             ],
             [
              0.1111111111111111,
              "#46039f"
             ],
             [
              0.2222222222222222,
              "#7201a8"
             ],
             [
              0.3333333333333333,
              "#9c179e"
             ],
             [
              0.4444444444444444,
              "#bd3786"
             ],
             [
              0.5555555555555556,
              "#d8576b"
             ],
             [
              0.6666666666666666,
              "#ed7953"
             ],
             [
              0.7777777777777778,
              "#fb9f3a"
             ],
             [
              0.8888888888888888,
              "#fdca26"
             ],
             [
              1,
              "#f0f921"
             ]
            ],
            "type": "contour"
           }
          ],
          "contourcarpet": [
           {
            "colorbar": {
             "outlinewidth": 0,
             "ticks": ""
            },
            "type": "contourcarpet"
           }
          ],
          "heatmap": [
           {
            "colorbar": {
             "outlinewidth": 0,
             "ticks": ""
            },
            "colorscale": [
             [
              0,
              "#0d0887"
             ],
             [
              0.1111111111111111,
              "#46039f"
             ],
             [
              0.2222222222222222,
              "#7201a8"
             ],
             [
              0.3333333333333333,
              "#9c179e"
             ],
             [
              0.4444444444444444,
              "#bd3786"
             ],
             [
              0.5555555555555556,
              "#d8576b"
             ],
             [
              0.6666666666666666,
              "#ed7953"
             ],
             [
              0.7777777777777778,
              "#fb9f3a"
             ],
             [
              0.8888888888888888,
              "#fdca26"
             ],
             [
              1,
              "#f0f921"
             ]
            ],
            "type": "heatmap"
           }
          ],
          "heatmapgl": [
           {
            "colorbar": {
             "outlinewidth": 0,
             "ticks": ""
            },
            "colorscale": [
             [
              0,
              "#0d0887"
             ],
             [
              0.1111111111111111,
              "#46039f"
             ],
             [
              0.2222222222222222,
              "#7201a8"
             ],
             [
              0.3333333333333333,
              "#9c179e"
             ],
             [
              0.4444444444444444,
              "#bd3786"
             ],
             [
              0.5555555555555556,
              "#d8576b"
             ],
             [
              0.6666666666666666,
              "#ed7953"
             ],
             [
              0.7777777777777778,
              "#fb9f3a"
             ],
             [
              0.8888888888888888,
              "#fdca26"
             ],
             [
              1,
              "#f0f921"
             ]
            ],
            "type": "heatmapgl"
           }
          ],
          "histogram": [
           {
            "marker": {
             "colorbar": {
              "outlinewidth": 0,
              "ticks": ""
             }
            },
            "type": "histogram"
           }
          ],
          "histogram2d": [
           {
            "colorbar": {
             "outlinewidth": 0,
             "ticks": ""
            },
            "colorscale": [
             [
              0,
              "#0d0887"
             ],
             [
              0.1111111111111111,
              "#46039f"
             ],
             [
              0.2222222222222222,
              "#7201a8"
             ],
             [
              0.3333333333333333,
              "#9c179e"
             ],
             [
              0.4444444444444444,
              "#bd3786"
             ],
             [
              0.5555555555555556,
              "#d8576b"
             ],
             [
              0.6666666666666666,
              "#ed7953"
             ],
             [
              0.7777777777777778,
              "#fb9f3a"
             ],
             [
              0.8888888888888888,
              "#fdca26"
             ],
             [
              1,
              "#f0f921"
             ]
            ],
            "type": "histogram2d"
           }
          ],
          "histogram2dcontour": [
           {
            "colorbar": {
             "outlinewidth": 0,
             "ticks": ""
            },
            "colorscale": [
             [
              0,
              "#0d0887"
             ],
             [
              0.1111111111111111,
              "#46039f"
             ],
             [
              0.2222222222222222,
              "#7201a8"
             ],
             [
              0.3333333333333333,
              "#9c179e"
             ],
             [
              0.4444444444444444,
              "#bd3786"
             ],
             [
              0.5555555555555556,
              "#d8576b"
             ],
             [
              0.6666666666666666,
              "#ed7953"
             ],
             [
              0.7777777777777778,
              "#fb9f3a"
             ],
             [
              0.8888888888888888,
              "#fdca26"
             ],
             [
              1,
              "#f0f921"
             ]
            ],
            "type": "histogram2dcontour"
           }
          ],
          "mesh3d": [
           {
            "colorbar": {
             "outlinewidth": 0,
             "ticks": ""
            },
            "type": "mesh3d"
           }
          ],
          "parcoords": [
           {
            "line": {
             "colorbar": {
              "outlinewidth": 0,
              "ticks": ""
             }
            },
            "type": "parcoords"
           }
          ],
          "pie": [
           {
            "automargin": true,
            "type": "pie"
           }
          ],
          "scatter": [
           {
            "marker": {
             "colorbar": {
              "outlinewidth": 0,
              "ticks": ""
             }
            },
            "type": "scatter"
           }
          ],
          "scatter3d": [
           {
            "line": {
             "colorbar": {
              "outlinewidth": 0,
              "ticks": ""
             }
            },
            "marker": {
             "colorbar": {
              "outlinewidth": 0,
              "ticks": ""
             }
            },
            "type": "scatter3d"
           }
          ],
          "scattercarpet": [
           {
            "marker": {
             "colorbar": {
              "outlinewidth": 0,
              "ticks": ""
             }
            },
            "type": "scattercarpet"
           }
          ],
          "scattergeo": [
           {
            "marker": {
             "colorbar": {
              "outlinewidth": 0,
              "ticks": ""
             }
            },
            "type": "scattergeo"
           }
          ],
          "scattergl": [
           {
            "marker": {
             "colorbar": {
              "outlinewidth": 0,
              "ticks": ""
             }
            },
            "type": "scattergl"
           }
          ],
          "scattermapbox": [
           {
            "marker": {
             "colorbar": {
              "outlinewidth": 0,
              "ticks": ""
             }
            },
            "type": "scattermapbox"
           }
          ],
          "scatterpolar": [
           {
            "marker": {
             "colorbar": {
              "outlinewidth": 0,
              "ticks": ""
             }
            },
            "type": "scatterpolar"
           }
          ],
          "scatterpolargl": [
           {
            "marker": {
             "colorbar": {
              "outlinewidth": 0,
              "ticks": ""
             }
            },
            "type": "scatterpolargl"
           }
          ],
          "scatterternary": [
           {
            "marker": {
             "colorbar": {
              "outlinewidth": 0,
              "ticks": ""
             }
            },
            "type": "scatterternary"
           }
          ],
          "surface": [
           {
            "colorbar": {
             "outlinewidth": 0,
             "ticks": ""
            },
            "colorscale": [
             [
              0,
              "#0d0887"
             ],
             [
              0.1111111111111111,
              "#46039f"
             ],
             [
              0.2222222222222222,
              "#7201a8"
             ],
             [
              0.3333333333333333,
              "#9c179e"
             ],
             [
              0.4444444444444444,
              "#bd3786"
             ],
             [
              0.5555555555555556,
              "#d8576b"
             ],
             [
              0.6666666666666666,
              "#ed7953"
             ],
             [
              0.7777777777777778,
              "#fb9f3a"
             ],
             [
              0.8888888888888888,
              "#fdca26"
             ],
             [
              1,
              "#f0f921"
             ]
            ],
            "type": "surface"
           }
          ],
          "table": [
           {
            "cells": {
             "fill": {
              "color": "#EBF0F8"
             },
             "line": {
              "color": "white"
             }
            },
            "header": {
             "fill": {
              "color": "#C8D4E3"
             },
             "line": {
              "color": "white"
             }
            },
            "type": "table"
           }
          ]
         },
         "layout": {
          "annotationdefaults": {
           "arrowcolor": "#2a3f5f",
           "arrowhead": 0,
           "arrowwidth": 1
          },
          "coloraxis": {
           "colorbar": {
            "outlinewidth": 0,
            "ticks": ""
           }
          },
          "colorscale": {
           "diverging": [
            [
             0,
             "#8e0152"
            ],
            [
             0.1,
             "#c51b7d"
            ],
            [
             0.2,
             "#de77ae"
            ],
            [
             0.3,
             "#f1b6da"
            ],
            [
             0.4,
             "#fde0ef"
            ],
            [
             0.5,
             "#f7f7f7"
            ],
            [
             0.6,
             "#e6f5d0"
            ],
            [
             0.7,
             "#b8e186"
            ],
            [
             0.8,
             "#7fbc41"
            ],
            [
             0.9,
             "#4d9221"
            ],
            [
             1,
             "#276419"
            ]
           ],
           "sequential": [
            [
             0,
             "#0d0887"
            ],
            [
             0.1111111111111111,
             "#46039f"
            ],
            [
             0.2222222222222222,
             "#7201a8"
            ],
            [
             0.3333333333333333,
             "#9c179e"
            ],
            [
             0.4444444444444444,
             "#bd3786"
            ],
            [
             0.5555555555555556,
             "#d8576b"
            ],
            [
             0.6666666666666666,
             "#ed7953"
            ],
            [
             0.7777777777777778,
             "#fb9f3a"
            ],
            [
             0.8888888888888888,
             "#fdca26"
            ],
            [
             1,
             "#f0f921"
            ]
           ],
           "sequentialminus": [
            [
             0,
             "#0d0887"
            ],
            [
             0.1111111111111111,
             "#46039f"
            ],
            [
             0.2222222222222222,
             "#7201a8"
            ],
            [
             0.3333333333333333,
             "#9c179e"
            ],
            [
             0.4444444444444444,
             "#bd3786"
            ],
            [
             0.5555555555555556,
             "#d8576b"
            ],
            [
             0.6666666666666666,
             "#ed7953"
            ],
            [
             0.7777777777777778,
             "#fb9f3a"
            ],
            [
             0.8888888888888888,
             "#fdca26"
            ],
            [
             1,
             "#f0f921"
            ]
           ]
          },
          "colorway": [
           "#636efa",
           "#EF553B",
           "#00cc96",
           "#ab63fa",
           "#FFA15A",
           "#19d3f3",
           "#FF6692",
           "#B6E880",
           "#FF97FF",
           "#FECB52"
          ],
          "font": {
           "color": "#2a3f5f"
          },
          "geo": {
           "bgcolor": "white",
           "lakecolor": "white",
           "landcolor": "#E5ECF6",
           "showlakes": true,
           "showland": true,
           "subunitcolor": "white"
          },
          "hoverlabel": {
           "align": "left"
          },
          "hovermode": "closest",
          "mapbox": {
           "style": "light"
          },
          "paper_bgcolor": "white",
          "plot_bgcolor": "#E5ECF6",
          "polar": {
           "angularaxis": {
            "gridcolor": "white",
            "linecolor": "white",
            "ticks": ""
           },
           "bgcolor": "#E5ECF6",
           "radialaxis": {
            "gridcolor": "white",
            "linecolor": "white",
            "ticks": ""
           }
          },
          "scene": {
           "xaxis": {
            "backgroundcolor": "#E5ECF6",
            "gridcolor": "white",
            "gridwidth": 2,
            "linecolor": "white",
            "showbackground": true,
            "ticks": "",
            "zerolinecolor": "white"
           },
           "yaxis": {
            "backgroundcolor": "#E5ECF6",
            "gridcolor": "white",
            "gridwidth": 2,
            "linecolor": "white",
            "showbackground": true,
            "ticks": "",
            "zerolinecolor": "white"
           },
           "zaxis": {
            "backgroundcolor": "#E5ECF6",
            "gridcolor": "white",
            "gridwidth": 2,
            "linecolor": "white",
            "showbackground": true,
            "ticks": "",
            "zerolinecolor": "white"
           }
          },
          "shapedefaults": {
           "line": {
            "color": "#2a3f5f"
           }
          },
          "ternary": {
           "aaxis": {
            "gridcolor": "white",
            "linecolor": "white",
            "ticks": ""
           },
           "baxis": {
            "gridcolor": "white",
            "linecolor": "white",
            "ticks": ""
           },
           "bgcolor": "#E5ECF6",
           "caxis": {
            "gridcolor": "white",
            "linecolor": "white",
            "ticks": ""
           }
          },
          "title": {
           "x": 0.05
          },
          "xaxis": {
           "automargin": true,
           "gridcolor": "white",
           "linecolor": "white",
           "ticks": "",
           "title": {
            "standoff": 15
           },
           "zerolinecolor": "white",
           "zerolinewidth": 2
          },
          "yaxis": {
           "automargin": true,
           "gridcolor": "white",
           "linecolor": "white",
           "ticks": "",
           "title": {
            "standoff": 15
           },
           "zerolinecolor": "white",
           "zerolinewidth": 2
          }
         }
        },
        "width": 800
       }
      },
      "text/html": [
       "<div>                            <div id=\"e65fdb65-78de-42b6-8266-fc6ce0a9ee8d\" class=\"plotly-graph-div\" style=\"height:525px; width:800px;\"></div>            <script type=\"text/javascript\">                require([\"plotly\"], function(Plotly) {                    window.PLOTLYENV=window.PLOTLYENV || {};                                    if (document.getElementById(\"e65fdb65-78de-42b6-8266-fc6ce0a9ee8d\")) {                    Plotly.newPlot(                        \"e65fdb65-78de-42b6-8266-fc6ce0a9ee8d\",                        [{\"hovertemplate\": \"class=%{marker.color}<br>PC 1=%{x}<br>PC 2=%{y}<br>PC 3=%{z}<extra></extra>\", \"legendgroup\": \"0\", \"marker\": {\"color\": [0, 0, 0, 0, 0, 0, 0, 0, 0, 0, 0, 0, 0, 0, 0, 0, 0, 0, 0, 0, 0, 0, 0, 0, 0, 0, 0, 0, 0, 0, 0, 0, 0, 0, 0, 0, 0, 0, 0, 0, 0, 0, 0, 0, 0, 0, 0, 0, 0, 0, 0, 0, 0, 0, 0, 0, 0, 0, 0, 0, 0, 0, 0, 0, 0, 0, 0, 0, 0, 0, 0, 0, 0, 0, 0, 0, 0, 0, 0, 0, 0, 0, 0, 0, 0, 0, 0, 0, 0, 0, 0, 0, 0, 0, 0, 0, 0, 0, 0, 0, 0, 0, 0, 0, 0, 0, 0, 0, 0, 0, 0, 0, 0, 0, 0, 0, 0, 0, 0, 0, 0, 0, 0, 0, 0, 0, 0, 0, 0, 0, 0, 0, 0, 0, 0, 0, 0, 0, 0, 0, 0, 0, 0, 0, 0, 0, 0, 0, 0, 0, 0, 0, 0, 0, 0, 0, 0, 0, 0, 0, 0, 0, 0, 0, 0, 0, 0, 0, 0, 0, 0, 0, 0, 0, 0, 0, 0, 0, 0, 0, 0, 0, 0, 0, 0, 0, 0, 0, 0, 0, 0, 0, 0, 0, 0, 0, 0, 0, 0, 0, 0, 0, 0, 0, 0, 0, 0, 0, 0, 0, 0, 0, 0, 0, 0, 0, 0, 0, 0, 0, 0, 0, 0, 0, 0, 0, 0, 0, 0, 0, 0, 0, 0, 0, 0, 0, 0, 0, 0, 0, 0, 0, 0, 0, 0, 0, 0, 0, 0, 0, 0, 0, 0, 0, 0, 0, 0, 0, 0, 0, 0, 0, 0, 0, 0, 0, 0, 0, 0, 0, 0, 0, 0, 0, 0, 0, 0, 0], \"coloraxis\": \"coloraxis\", \"symbol\": \"circle\"}, \"mode\": \"markers\", \"name\": \"0\", \"scene\": \"scene\", \"showlegend\": true, \"type\": \"scatter3d\", \"x\": [-0.3352856978551655, -0.31857736500562367, -0.3823093294569137, -0.2006682391457628, -0.30138272408126215, -0.272504940998366, -0.221873692544902, -0.3349443152876122, -0.3275021811234952, -0.33377826170896857, -0.335281621623806, -0.3352658592359187, 0.7587186579374151, -0.3639429711587631, -0.3761240604106002, -0.3160786730823372, -0.3333389246153542, -0.33320145983968796, -0.38220374488514014, -0.4943779684556272, -0.04563517203933374, -0.2645837331330677, -0.3061582593765369, -0.2559376697971643, -0.25656153717944946, -0.3296144705023393, -0.3295714531800142, -0.33368287406795866, 0.023810380966555238, -0.3531410727515274, -0.3825763761139148, -0.2614852994773593, -0.31865915473350137, -0.3824877489379998, -0.3104467467909315, -0.3339592560717578, -0.3199497748042375, -0.38245214439465336, -0.2619545982457361, -0.25634181651000865, -0.32636196851110594, 0.28541672568696325, -0.3523432859247252, -0.3005921935634715, -0.36336300604587046, -0.30613851688474947, -0.25663708727299855, -0.3007767362896824, -0.3352677185983321, -0.25658915154472417, -0.35358704030150817, -0.3350013296141936, -0.3825578557813075, -0.6268485928476609, -0.3822015901350006, -0.4191362931999351, -0.30453548074290016, -0.25610938858212423, -0.2939165502028531, -0.22432265959259404, -0.07517718836309971, -0.30135356050892975, -0.05908316968615435, -0.301417460700067, -0.2198250526418112, -0.33487681023693194, -0.3044037980796093, -0.3797183112212595, 0.8503853204880636, -0.30121689837969834, 0.02588339195444615, -0.37580642740453246, -0.380394868499994, -0.2999565222035714, -0.297617596148753, -0.3415068677546629, -0.3812892424574746, -0.3829421800967508, -0.3111039640917803, -0.33491500216821657, -0.3333496707111979, -0.22644956612187617, -0.3410425039959163, -0.38203020317462705, -0.3341169647899261, -0.3013983291202397, -0.3825470091908544, -0.3351047413393258, -0.3352619363262301, -0.30439403915059726, -0.2838179337392024, 0.07432174244094514, -0.3747605581970867, -0.3348750648788442, -0.3686678404858899, -0.37408751429649845, -0.22788459943185313, -0.4012176400517958, -0.37383497048161407, -0.24108147582591488, -0.3821383819948749, 0.8785974962243093, -0.38250179615864355, -0.37522561901740425, -0.33480230653886767, -0.33495703313555025, -0.37580642740453246, -0.3820753936219364, -0.30126063919854895, -0.3348030616164621, -0.3609077701222811, -0.33495086066868696, -0.3305251956073855, -0.38253086372386935, -0.33415909870653226, 0.33892878370564083, -0.3351507146165725, -0.33522150406625423, -0.3648200633392123, -0.34692741033022323, -0.33143666451005316, -0.3013746799561724, -0.3824405616768371, -0.3349986714359157, -0.3351259568742826, -0.3060446064519728, -0.3251784673199678, -0.22765179734602387, -0.3159254190973456, -0.30578511132334074, -0.38170406789682293, -0.4003011524992745, -0.38043904506021387, -0.374048026612893, -0.3816016809721191, -0.3684321099565347, -0.3775306028900388, -0.3350690945138161, -0.3350682593327062, -0.328168625224822, 0.2618120137628123, -0.38208162175291427, -0.28863439918767114, -0.3758407818868448, -0.3342774184810318, 0.9133557721357599, -0.2711912779729994, -0.3817170682553028, 0.6131029877823033, -0.34304685861007295, -0.34154475258500144, -0.391778726792003, -0.2562733441421695, 0.13105609135787957, -0.256344339651498, -0.3643661183221848, -0.3912822927674065, -0.38235482687060063, -0.30611912339634234, -0.3757066014769336, -0.3347032342908845, -0.3352043854940944, -0.25889801399543566, 0.6222144346681671, -0.3822954424603468, -0.3245991514850831, -0.33515984650387814, -0.3198658524338616, 0.4360841289207091, -0.2997162970746081, -0.32776940189004816, -0.3831725436110523, -0.3351100365045395, -0.3920713675194558, -0.347894892569113, -0.33498010976898424, -0.0984982466670385, -0.3810845137943362, 0.2180299837406602, -0.25300572427373486, -0.33243300571963735, -0.31399551777459694, -0.3647056474996766, 0.08042433172469925, -0.3341159243074732, -0.381667496311507, -0.3638678465841412, -0.32164621162166124, -0.3352265765929107, -0.35355889186205297, -0.383224874371665, -0.282233024134571, -0.32086159525818364, -0.3307592489567428, -0.2194232357954281, -0.3383961063219641, -0.3823720694916245, -0.37491269197711596, -0.30527653550224726, -0.3310670793183846, -0.34264462530467166, -0.33525400732465, -0.3352356633351327, -0.29964181665363965, -0.3651382609217752, -0.3752998959544992, -0.3349513406629985, -0.3907358469185795, -0.37548909264270497, -0.3305159176121461, -0.28166377583541674, -0.41162550435958856, -0.30581249151867257, -0.13781084704463495, -0.30606516455962124, -0.3065937850633369, -0.3344238015143746, -0.19485026708749026, -0.36040017411469083, -0.27131965720420764, 0.9825043938363653, -0.35866477597160595, -0.36481947875858645, -0.3937606149312166, -0.18642592937088573, -0.3486080486535142, -0.36353535257337427, -0.3281085569259066, -0.35313506688976276, -0.38184392450247223, -0.3033026267520525, -0.3745860826322748, -0.3306537833200889, -0.35299593398300727, -0.19430489250646257, -0.09175881151984734, -0.3460916061681453, 0.32222547045498073, -0.1429521590056467, -0.3930532113384572, -0.28084710585778405, -0.334955353653117, -0.39351065503811933, -0.36493679106240134, 0.574207588647177, -0.3536133556338554, -0.33443669775029417, -0.3693521512199587, -0.2611774571014282, -0.379400911601764, -0.38207182957609676, 0.1012436237983133, -0.3796050271856542, -0.3338201811922638, -0.33464783743814824, -0.2725376305345381, -0.3351677229136448, -0.3736758833642382, -0.24860741933171088, -0.08045424597005042, -0.3694113314547782, -0.334444074589049, -0.32748871290309817, -0.3786307420399429, -0.3328786482252523, -0.3760828267538202, -0.38876906948970213, -0.2998935712077975, -0.11280288610453253, -0.330065514517431, -0.3292391526096851, -0.4267221622698696, -0.2567446147526304, -0.2533804831121195, -0.37601852384595114, -0.3898578223660414, -0.3333250661503419, -0.3064628258313888], \"y\": [0.9217985619639767, 0.9216656021774245, 1.1273005078681493, 2.094693706334641, 0.7394703945193797, 0.6927357034267887, 1.646422974934029, 0.9217917255706615, 0.9219097104964944, 0.9218200881590617, 0.9217982709964191, 0.9217981468776695, 1.0069308931449834, 0.8319970643982211, 1.7287601690462466, 0.24471795599276125, 0.921742552586859, 1.0808634322457933, 1.1273020156142677, 1.6901289389541057, 0.8787810668862837, 0.7383216531258981, 0.8750495007859934, 1.6370202985710294, 1.6370113897540872, 0.3899592765450862, 0.9215868287745163, 0.9217530060320077, 0.9269264486589814, 1.080578694869922, 1.1273120587856682, 0.2117321126405616, 1.6847675465010814, 1.127306340970553, 0.9210358045202595, 0.9217476624794471, 0.2698777526437967, 1.1273099922516288, 0.21179525214393294, 1.6370145273619796, 0.9212275818875919, 2.433391001960558, 1.6086683771568129, 0.7394495563853273, 0.8320084053308359, 0.875061082995681, 1.6370019299699385, 0.8747884437288204, 0.9217988187368301, 1.6370040113130813, 1.0805583582433795, 0.9217886545510013, 1.1273123239541534, 1.701241256813287, 1.5606105363670695, 1.2997941000393474, 0.8750141332451429, 1.6369829258879305, 0.7388939655815034, 1.6466140807028669, 0.8454249861877831, 0.7394708109747584, 1.113388730176619, 0.7394779302055021, 1.3216984381602181, 0.9217750676476395, 0.8749314692026638, 1.1270846828502739, 0.8224335542182641, 0.739460191113027, 1.022902623734242, 1.7287507366242885, 1.1272908305682625, 0.7393505721475238, 0.7391728598437564, 1.3198979666753394, 1.1272333606284541, 1.6935099779097589, 0.9207470551357556, 0.9217728926423964, 0.9217563673493313, 1.5901480057789448, 1.080292606337812, 1.127284938284128, 0.9217523945095776, 0.7394708700904828, 1.1273103836108196, 0.9217864794222764, 0.9217989013075897, 0.8750859941117832, 0.3056926041811198, 1.6854704056528178, 1.7287279574363041, 0.9218044258261057, 1.1264630569239442, 1.7287613145325877, 1.5902654495765556, 1.84520359028654, 1.728582635557149, 1.6896923972718185, 1.127297361708744, 1.6526277946669783, 1.1273104332795862, 1.7287380782345785, 0.9217785480608055, 0.9217739220658404, 1.7287507366242885, 1.1272773088569314, 0.7394735347113451, 0.921782406474296, 0.7345671105628916, 0.921783787960168, 0.9214121140218721, 1.127309217346192, 0.9217140786531601, 0.8615638644209348, 0.9217914102111853, 0.9217971628967201, 1.553099352268084, 0.5654459668470428, 0.9215043207182155, 0.7394712078001939, 1.1273074659773354, 0.9217886925097477, 0.9217855246148791, 0.8750240114397212, 0.3844154903158168, 1.5902603757870006, 0.9213766156580244, 0.8750420858352477, 1.1272546749496424, 1.70752438196234, 1.1272657553486574, 1.7287127870268273, 1.1272561370334049, 1.7285906456531255, 1.1270349076366577, 0.921786840310811, 0.9217816924624951, 0.9212017828565857, 0.6479936596267373, 1.1272911881358751, 0.8739142198799982, 1.728743261934511, 0.9217396270708335, 1.6000215040735084, 0.6926234516788049, 1.693481028168571, 1.5395289075765557, 1.3199318484950682, 1.3198764733556836, 1.7912883456617505, 1.6369945528215328, 0.8935373744059933, 1.6370012926326913, 1.7904363646287478, 1.7912954347322396, 1.1273085832229675, 0.8750492034715227, 1.7287231082710481, 0.9217731798450713, 0.9217967898071391, 2.0963130364119977, 1.7611597703728934, 1.1272972141201174, 0.38975416390367384, 0.9217893708186062, 0.7790418855435497, 0.9153534409477957, 0.7394397150276659, 1.3193189014644666, 1.7325644368305435, 0.9217864038073955, 1.5997346983548961, 1.58302206170865, 0.921792597494556, 0.6889435491171751, 1.1272327920965786, 1.3069986767271262, 1.636915500435614, 0.9216926321206939, 1.2731806277709996, 1.5530974940704316, 0.8928143536313465, 0.9217105047179679, 1.1272901177327397, 1.5530396167722413, 0.9213647639086532, 0.9217966126007435, 1.0805580617918484, 1.6935118775317557, 0.053717765196698006, 0.3747664246803585, 0.9217011683041616, 1.5898292951746913, 0.7805524661438292, 1.1272975167089059, 1.8713422410776417, 0.874986789134326, 1.4904515343086968, 1.319909655947566, 0.9217969193011303, 0.9217957844313717, 0.8748046503643466, 1.6354912334918048, 1.728710477949555, 0.9217823842842005, 1.5997537695692166, 1.7287133635102858, 0.7448916048550658, 0.9189870560495714, 2.0438493363126446, 0.8750475799515304, 0.9174947094802258, 0.8750314003893579, 1.693929313062655, 0.9217522033506833, 1.5998367555545476, 1.5527189773446715, 0.6926913351874779, 2.0073223080021805, 0.7916171169578805, 1.5530951701509186, 1.5998466605784105, 0.86498140218769, 0.8257652430087984, 1.5530583329983316, 0.9212026406310009, 1.0805403680379964, 1.127287598340796, 0.8749199926493111, 1.7286354650721594, 0.8329855580984822, 1.0805109263665738, 0.911240370892316, 2.9404084914810924, 1.8246070895542361, 2.64381951947206, 1.08358018943262, 1.5998226456206563, 0.056318410942764394, 0.9217886126762137, 1.599840532568318, 1.5530988238075827, 0.8825449826617597, 1.0805581919840732, 0.9217520191926263, 1.8711143447526233, 1.691155644493138, 1.1270640725223104, 1.1272983120762947, 0.9035878152333428, 1.1273544903025896, 0.921679807383853, 0.921769777569582, 0.6927293001286597, 0.9218002466737204, 1.127089952974165, 0.9157030128271404, 0.7425079168823996, 1.1268016452979903, 0.9218001041986141, 0.9216305384912604, 1.1272231336277472, 0.9217211888937429, 1.7287544721647994, 0.7307732875895794, 0.7394336915015399, 0.8708316337445691, 0.9216635828853309, 0.3899252470038623, 0.6089257490952595, 1.6370086915997653, 0.692319119708315, 1.728755645929954, 1.9642093497331305, 0.9216519570778867, 0.8750557534579171], \"z\": [-0.4658902744492687, -0.4664548515510434, -0.42734733894114935, -0.08358034447413909, -0.3269744963280445, -0.028473191379649113, -0.6204291077896162, -0.4659013270461962, -0.4661735637326649, -0.4659451391771216, -0.46589038189014753, -0.46589091465754656, -0.26996242899831957, -0.3545953455675445, 0.039590542397898554, -0.33246989975263863, -0.46595130820304487, -0.1295833523071357, -0.42735118180272025, -0.34874162679371784, -0.17687929031273816, -0.32811764128063997, -0.16739595425759196, -0.5407315585547403, -0.5407088522450333, -0.31140967238954087, -0.4660638765149464, -0.4659405903376674, -0.478959954021873, -0.1288576291181047, -0.4273394199520824, 0.06397982569316728, -0.03661973769636267, -0.4273418272874151, -0.4666633660774584, -0.46593036743871324, -0.40135248913896815, -0.42734349144384437, 0.06398872205739764, -0.540716849209951, -0.46613322038860927, -0.19945195361885223, -0.010217872377481384, -0.32699950375914766, -0.3546168124784774, -0.1673979970193209, -0.5407051204089184, -0.16755222337402942, -0.4658909288266771, -0.540707028765342, -0.12883976080831902, -0.4658989874823715, -0.4273400941009142, 0.06650377442828626, -0.7511318868110552, -0.043255851990746635, -0.16744815694798568, -0.5407212165398265, -0.3271661935361728, -0.6203664676648811, -0.3980622390871157, -0.3269755577669403, -0.43694037506486083, -0.32697417324194766, -0.5503262006216326, -0.4659017189593097, -0.16744304241713517, -0.4274120147611245, -0.2013884831994935, -0.32697905856243764, -0.2463880661862323, 0.03958061866211529, -0.42741268010492695, -0.32700997659359576, -0.32707036530162525, -0.5458900971151313, -0.42737489049861094, -0.016614909202496204, -0.46660670892973133, -0.4659001379577952, -0.46595255393921403, -0.2422353208455314, -0.12924419867991635, -0.42735520644356034, -0.46592544588981744, -0.32697401020881534, -0.42734024334624005, -0.46589514186126163, -0.4658911392785531, -0.16746148912170108, -0.1334720338761575, -0.6993078128525242, 0.03954697265143065, -0.46590521987188177, -0.42772287194789194, 0.03951969385448098, -0.24219925519823607, -0.6071246179178416, 0.03953186317880683, -0.6888509221243301, -0.42735290601322246, -0.5819545932946347, -0.4273418190836465, 0.039561934807285974, -0.4659047137751136, -0.4658987991625175, 0.03958061866211529, -0.4273527432638726, -0.32697910342095104, -0.4659051397011722, -0.1453790623916154, -0.46590016961208536, -0.4660102862597255, -0.42734066729233305, -0.4659194928821888, -0.18821479531533536, -0.46589412335612396, -0.46589233948045916, -0.11293902000402213, -0.2874764620374869, -0.4659894427797984, -0.3269748709450212, -0.427343597587735, -0.46589908422956666, -0.465894293313165, -0.16739691364632914, -0.16303937727666187, -0.24220674414032473, -0.46651306958410343, -0.1674080420391878, -0.4273629843510198, -0.5713322665879024, -0.42740820776218574, 0.039524009384560306, -0.4273667108308586, 0.03934332280159707, -0.4274821449679097, -0.46589642190444736, -0.4658958476586527, -0.4660674652168535, -0.04178304847705753, -0.4273541534361261, -0.16787139263454545, 0.039582687455457614, -0.4659183783702022, -0.6544097910114826, -0.02850565115227262, -0.01665405590514381, -0.7814089412183807, -0.5458405949343594, -0.5458862629794264, -0.6097762912548834, -0.5407168860563648, -0.4787711453962811, -0.5407152107010988, -0.11714990078340314, -0.609794359493473, -0.42734670545210957, -0.16739727832266296, 0.03958039004099131, -0.4659075247586534, -0.465892890162791, -0.08174821103684701, 0.001313407876283302, -0.427347435160094, -0.3115597817153317, -0.4658935672884492, -0.048827771546280756, -0.491919026263119, -0.32702876397071895, -0.5462992413719211, -0.3340081521694384, -0.46589494913815305, -0.41148515899011273, -0.05410954164646573, -0.4659001863419096, -0.034070787878050714, -0.4273819326007789, -0.5638071178594363, -0.540821082854424, -0.46597691424196375, -0.24734337936535344, -0.11294277507596316, -0.4769283492382173, -0.46592057320437297, -0.4273684075414227, -0.11296508346351485, -0.46631303957988857, -0.4658920988629202, -0.12884070345780474, -0.016605315908900305, 0.12999438921934292, 0.018607347836621015, -0.466036031843399, -0.24244194598071042, -0.3064623453599207, -0.4273448099238397, -0.2785355015143575, -0.16741922125844722, 0.06691254708711061, -0.5458519609354063, -0.4658911823351623, -0.46589168629879624, -0.16759352996815477, -0.10635830742595627, 0.03956774821265476, -0.46589998845702435, -0.4115337666673915, 0.039573979484509844, 0.011890252819284082, -0.4674227070057849, 0.10555043945330243, -0.16740773514838586, -0.4722427850651974, -0.1673970656807713, -0.6870726588681132, -0.46591476929991865, -0.32188081311129463, -0.11304791648288104, -0.02850914834486732, -0.04877096081534219, -0.2866352867080692, -0.11293855022495937, -0.4114396239986067, -0.17037355980551844, -0.34733245631215537, -0.11297882178446342, -0.46606965146578616, -0.12885334636577309, -0.42736198625180455, -0.16747993315292414, 0.03955175302079593, -0.35254302605685606, -0.12885472733811387, -0.469548252710427, -0.15230604502208808, 0.01996782606967983, 0.22340941395233763, -0.13650767575927988, -0.41146137276830647, 0.1384022365769885, -0.4659005789832615, -0.41144758516771773, -0.11293490497914371, -0.4928704143252749, -0.12883882758688814, -0.46591429992784505, -0.27870187250916506, -0.6883246052537475, -0.4274206205212521, -0.42735532825851913, -0.4789137280001411, -0.4274475654041222, -0.46592724495710136, -0.4659090495927886, -0.028471305947646023, -0.46589456827481973, -0.427622441540338, -0.4681856744808193, -0.3350016711589445, -0.4277367331027148, -0.4659196785781701, -0.46614131689006594, -0.4274660022800015, -0.4659647867432231, 0.039589778238815855, -0.12086140202563955, -0.32702190267923525, -0.17361550174936058, -0.46605571574259763, -0.3114187167093047, -2.7831852275642657, -0.5407021791230442, -0.029088426594601396, 0.03958740792390732, 0.34824455786091435, -0.4659411730608477, -0.167386111611443]}, {\"hovertemplate\": \"class=%{marker.color}<br>PC 1=%{x}<br>PC 2=%{y}<br>PC 3=%{z}<extra></extra>\", \"legendgroup\": \"5\", \"marker\": {\"color\": [5, 5, 5, 5, 5, 5, 5, 5, 5, 5, 5, 5, 5, 5, 5], \"coloraxis\": \"coloraxis\", \"symbol\": \"diamond\"}, \"mode\": \"markers\", \"name\": \"5\", \"scene\": \"scene\", \"showlegend\": true, \"type\": \"scatter3d\", \"x\": [2.3358766092515033, 2.5573479494238587, 3.8829034856744107, 3.6748501803934657, 3.2462491999218965, 3.6797202997253877, 8.078345687133968, 3.8624421005602323, 2.2300321189804726, 3.114571409091551, 3.6919961882477583, 3.675243148629903, 3.685136896128778, 3.6863843405418706, 2.456462765827871], \"y\": [1.454619135275007, -1.324569502822724, -2.3176588105322358, 2.347621198769421, -1.1862244108483206, 2.34742883994054, -2.8273247283027625, 2.472463911043131, 0.21740778307017536, -2.2621036376068293, 2.347254934032067, 2.3476024229613364, 2.3478553942706606, 2.3478732077583286, 1.0322441359745411], \"z\": [-0.6093517605935361, -0.0748034998949027, 0.14789229991272493, -0.10701160440275106, -0.11493582067140788, -0.10715816655124806, 0.06194005730069754, -0.007332210512695291, -0.36967898458963894, 0.1546030753807602, -0.1075640391378296, -0.10702304908312828, -0.10739623056659124, -0.10744163261835651, -0.08789281661271568]}, {\"hovertemplate\": \"class=%{marker.color}<br>PC 1=%{x}<br>PC 2=%{y}<br>PC 3=%{z}<extra></extra>\", \"legendgroup\": \"1\", \"marker\": {\"color\": [1, 1, 1, 1, 1, 1, 1, 1, 1, 1, 1, 1, 1, 1, 1, 1, 1, 1, 1, 1, 1, 1, 1, 1, 1, 1, 1, 1, 1, 1, 1, 1, 1, 1, 1, 1, 1, 1, 1, 1, 1, 1, 1, 1, 1, 1, 1, 1, 1, 1, 1, 1, 1, 1, 1, 1, 1, 1, 1, 1, 1, 1, 1, 1, 1, 1, 1, 1, 1, 1, 1, 1, 1, 1, 1, 1, 1, 1, 1, 1, 1, 1, 1, 1, 1, 1, 1, 1, 1, 1, 1, 1, 1, 1, 1, 1, 1, 1, 1, 1, 1, 1, 1, 1, 1, 1, 1, 1, 1, 1, 1, 1, 1, 1, 1, 1, 1, 1, 1, 1, 1, 1, 1, 1, 1, 1, 1, 1, 1, 1, 1, 1, 1, 1, 1, 1, 1, 1, 1, 1, 1, 1, 1, 1, 1, 1, 1, 1, 1, 1, 1, 1, 1, 1, 1, 1, 1, 1, 1, 1, 1, 1, 1, 1, 1, 1, 1, 1, 1, 1, 1, 1, 1, 1, 1, 1, 1, 1, 1, 1, 1, 1, 1, 1, 1, 1, 1, 1, 1, 1, 1, 1, 1, 1, 1, 1, 1, 1, 1, 1, 1, 1, 1, 1, 1, 1, 1, 1, 1, 1, 1, 1, 1, 1, 1, 1, 1, 1, 1, 1, 1, 1, 1, 1, 1, 1, 1, 1, 1, 1, 1, 1, 1, 1, 1], \"coloraxis\": \"coloraxis\", \"symbol\": \"square\"}, \"mode\": \"markers\", \"name\": \"1\", \"scene\": \"scene\", \"showlegend\": true, \"type\": \"scatter3d\", \"x\": [-0.1391567105965107, -0.1477301637754863, -0.17188687419306292, -0.1414610800877914, -0.14616734369632214, -0.14830393279323223, 0.1590840706340978, -0.17303639457288983, -0.2202682856530178, -0.17265176888674308, -0.09506252273269246, -0.1362333388160897, -0.16989920487622798, -0.1724551594944084, -0.22690463106202452, -0.20078102193709962, -0.17250422224876225, -0.17301861287292544, -0.17310532519136249, -0.2203578745935616, 0.1828834425027222, 0.2397714786977035, 0.07633597090970246, -0.1728509131382606, -0.16844353936015247, -0.1727900094887247, -0.17316248743970986, -0.16270607740370327, -0.15232455082452978, -0.17195416914295444, -0.1722323564026636, 1.5807329240135917, -0.1391179760811722, -0.16951385636089641, -0.17287742898277333, -0.17323325517590998, -0.172490386117531, -0.1811662061664455, -0.17311417532109238, -0.03760942190624013, -0.13919579545497116, -0.16676002869845372, -0.1730935273206899, -0.17118202546885766, -0.1725787957046992, -0.12631061826058104, -0.13865804005633925, -0.1389460333164583, -0.13892885470241514, -0.13952139764541782, -0.2205322926690091, -0.172809247676324, -0.1858912093098134, -0.16990388373566725, -0.13872552214547607, 0.4721800533179249, -0.17167354036817473, -0.15622611908502435, -0.17038872087236992, -0.173235466472154, -0.17025341688611467, -0.15643738271553753, -0.11132849769536472, -0.12916681068434963, -0.18575098639289356, -0.17310820027117746, -0.045673307075707735, -0.10208853728220704, -0.1732443891672672, -0.13922364773834145, 0.4809519856984999, -0.2199177273702426, -0.16324267341694482, -0.1389627084802265, -0.22020343009104726, -0.17136247343136388, -0.17055241821677905, -0.14880044278527257, 0.38109500297335347, -0.22023893758314408, -0.13911910145333198, -0.16919072372463642, -0.15552951860571845, -0.17180361724699292, 0.28055784050876964, -0.21939719043036077, -0.1470127287678801, -0.17205144872308034, -0.1514907150341548, -0.17303367546240941, -0.22020205431591588, -0.1732444478289142, -0.22035242912797876, -0.2555979805605068, 0.31663641830147443, -0.13937992135872573, -0.1091819357330023, -0.17040291682957986, -0.13933843687322084, -0.17290685121224092, -0.14683880758626794, -0.14854187687899917, -0.14832560806062853, -0.0997423758730454, -0.20689815844620463, -0.21817410719368802, 0.3166308007936553, -0.17322613006560877, 0.31676188103326924, -0.163784744661889, 0.4971254674531106, -0.14022189024508513, -0.17319432982089372, -0.2130639300997146, -0.14833802845836067, -0.1713222726207792, -0.1635023326382009, -0.12836502206122788, -0.1440274535787737, -0.18067262857615582, -0.1727554300439237, -0.10560673944344062, -0.17257690404405648, -0.14007948795166889, -0.14696403465522348, -0.02028504695384888, -0.14364292698874445, 0.352856148397237, -0.21940555760226382, -0.17289718659324335, -0.17265975949074153, -0.21980142294604396, -0.2203805558784171, 0.317026953091234, -0.12528513225787022, -0.10827870323776806, -0.21122479314398304, -0.13915587256286951, -0.09858547671796575, 1.578479620818489, -0.17299529543848785, -0.17244526598714832, -0.17214538694863074, -0.17213228267656738, 0.3172111640892414, 0.06462426392581663, -0.1746392004348653, -0.16740838700773011, -0.14818365288010343, -0.1457680965727314, -0.17132047695245456, -0.21591197231919448, -0.16725332758775205, -0.1469019008233875, -0.16735384291229638, -0.11937030180312791, 1.1570895441669107, 0.3166134980959413, -0.07155915993909723, -0.21565223979305612, -0.1291595006442139, -0.08914282612433248, 1.0951395631107383, -0.22035448170669364, -0.16740595740450845, -0.16042361425327642, -0.17224414479590652, -0.22027967848211952, -0.1391352170197791, -0.17633261942241168, -0.12341886821358536, 0.3204993511387511, 0.020346413274932997, -0.14527014593955642, -0.17140726013866955, -0.17281948808739708, 0.13513993753386538, -0.21440335234978647, -0.4200241089018667, -0.0997949695376332, 0.32456098572189984, -0.17305719513518172, -0.15075278115786434, -0.14717187695971914, -0.14461550078848373, -0.21944643991298765, 0.31679652657056434, -0.18073233318590465, -0.16362951665952769, -0.159922997118634, -0.146923444587479, 0.32073709481654916, 0.5846569671644701, 2.130714300034418, -0.1775058390465967, 0.33044111612916705, -0.1974182120640851, -0.13783370707254222, -0.2203365901995581, -0.17308183986709885, -0.12903677520340748, -0.1464400661188045, -0.21164123876227176, -0.09886904931861851, -0.22030786649895928, -0.19684415581233392, -0.34324867706503615, -0.04262320774528065, -0.1463193507853587, -0.13915591022956145, 0.3967961281257866, -0.13463037806882452, -0.13502370146942283, -0.1443899686175761, -0.17197085440856974, -0.1462377946393054, -0.14801599113609215, -0.1849595297139951, -0.13842997119252776, -0.0946886079736048, -0.13729454317158005, 0.5250083276957221, -0.09235778593680977, -0.08533446740918903, -0.15658837470402237, -0.13894540207064807, 0.5446751278584475, -0.20034077507653483, -0.17315893726183346, -0.17110860181113577, -0.12990366833277583, -0.12594250888040467, -0.14857512999721506, 0.33843347132206186, -0.1483049925900208], \"y\": [-1.2776973943222716, -1.916691777909927, -1.0954118440568286, -2.1344767186420643, -1.9168161271363313, -1.9140615800115, -1.769190321318776, -1.0953842593085894, -0.8898692239269553, -1.0954087985251169, -1.7595497251598087, -1.2777595690665382, -1.0954993963659962, -1.0954311337357279, -0.4174246207261744, -1.1852136651759757, -1.0953956329242691, -1.095384005386178, -1.0953797541276873, -0.8898691064340378, -1.765746030511708, -1.2869382661756565, -1.101237105189075, -1.0953816106364611, -1.0955133850758954, -1.0953884234523596, -1.0953792404989242, -1.6273743794255329, -1.0960659969973194, -1.095403027276117, -1.0954085682072456, -1.1336018139125306, -1.277696841193962, -1.0955046636486245, -1.0953812908714982, -1.0953733467023017, -1.0953911289433549, -2.141528370473933, -1.0953776874974084, -1.1039118599461508, -1.2776979524534624, -1.0955153307188985, -1.095385075163378, -1.0955177150249826, -1.0953988168105637, -1.2781194745026554, -1.2777084403544765, -1.277709052481228, -1.2777353467823405, -1.2776881100232185, -0.8898590257266566, -1.09538241247594, -1.191418235198791, -1.0955102332337368, -1.2777079988174695, -2.2445139406756525, -1.0954235480896675, -1.0963028723883363, -1.0954479897241647, -1.0953742708486176, -1.0954415975337053, -1.0958309698667625, -2.1123013544760876, -1.7586399122285103, -1.4516824491712477, -1.0953729726437693, -1.1005349579661985, -2.2105149003239264, -1.0953729954910576, -1.2776983501836554, -1.1502844445167588, -0.889873297300655, -2.1300543717591323, -1.2777175039136563, -0.8898689962013228, -1.0954925230046806, -1.0955087242427857, -1.9167188690890031, -2.1803643573871496, -0.8898660111936415, -1.27769685726426, -1.0954613428325644, -2.006082098802513, -1.0954106551488747, -1.2867932382688962, -0.8899014829931247, -2.1545924979288147, -1.0954731060399479, -2.198851691211071, -1.0953835220689039, -0.8898717701985865, -1.0953729942125605, -0.889873917548667, -1.1688975415463714, -2.239757977298454, -1.2776927148690629, -1.7591926215050502, -1.0954716688237969, -1.2776927526459203, -1.0953886951287777, -2.1257973047980427, -1.91672167139317, -1.9140618895339954, -1.1013070634645954, -0.8900135359067259, -0.889984588541932, -2.2397657400354904, -1.0953741977879474, -2.2397666618549303, -2.130023148816224, -0.9494519663891503, -2.134588229032725, -1.095374194654575, -0.8904507884482765, -1.914059273253778, -1.0954149561280189, -2.1300267984965324, -2.1520735632349504, -1.0977489887473857, -0.6972612378382806, -1.0953903883438814, -1.2789496616758411, -1.0954133167429008, -2.1345303226638497, -2.123293932090008, -2.186333715421136, -2.107156297281809, -2.240630597639111, -0.889912777049464, -1.095381067919171, -1.095416595149932, -0.8898904935675639, -0.8898700588921934, -2.2397831305438975, -2.286529745714351, -1.18656043715461, -0.8904943666827025, -1.2776973823551567, -1.1016397483758908, -1.0703579700271575, -1.095382974002733, -1.0954198178833423, -1.0954267101883808, -1.0954265230595706, -2.239804866790743, -1.9256729292903778, -0.890460812542495, -1.6272257193908855, -1.9140598624161291, -2.154662938589356, -1.095414930485902, -0.8900374914105856, -1.6272360765395786, -1.9168755053591455, -1.627228292873988, -1.7589609693738784, -2.287114255435093, -2.239760050625718, -1.9225881653883585, -0.8901734645995851, -2.13499910098375, -1.0976636479108466, -1.220190288214191, -0.8898703151231544, -1.6272214942312182, -1.6274563252614864, -1.0954029776591607, -0.8898714818488697, -1.277696504919678, -1.236620897754638, -2.2457246524524694, -2.2399304966049254, -1.099592197341331, -2.1546165026299033, -1.1919209900213095, -1.0953944316929352, -1.1038244732734082, -0.8901207099640639, -2.6585408690185126, -1.9205469344313666, -2.240336241313303, -1.0953845563403097, -2.146345796743172, -1.9140796364016062, -2.125960133266725, -0.8899133608482531, -2.239761557605708, -0.6972430573273337, -2.1300323022916374, -2.1941221244223903, -2.1257909007351348, -2.240111482449125, -2.1694996943901996, -2.342353580376622, -2.0451975411259835, -2.2402522731385273, -1.2255231233137904, -2.0725697266738634, -0.8898708977256922, -1.0953856801943618, -2.1355215187021583, -2.1192476568987666, -0.14591607893523828, -1.2785740832298302, -0.8898732811949872, -1.2255693489739405, -0.2121148733696807, -1.9178457164951341, -2.1258336074804856, -1.2776973828930367, -2.2442494732165477, -2.1410446706002793, -2.1409944903724396, -2.0961983615502047, -1.0954381860828648, -1.9142009513276093, -1.9140643726983633, -1.4517409882644472, -1.2777170481599889, -0.3801636061993761, -1.2777734689908515, -1.1539156266592896, -1.6289287841434743, -2.1451561845782225, -1.095833126030113, -1.2777090434670468, -1.1200412242161282, -1.1852220450847424, -1.0953748346431162, -1.0954691745999345, -1.7586523900950908, -2.068778256534634, -1.9167209466602582, -2.2404176622296768, -1.9140615951453812], \"z\": [0.13206070335106007, 0.2904854318921019, -0.006890803814410348, 0.3547605719849131, 0.2904457383533256, 0.29895786177762623, 0.21576981917238736, -0.0068541218934999575, 0.03169451106149145, -0.006864601518975903, 0.22346474275739248, 0.13196648197468072, -0.006949561261740987, -0.006868810991710709, 0.04744693842657748, 0.10441238789470417, -0.006871267529526378, -0.006854769077177102, -0.006852256373814949, 0.03169760806006991, 0.21453982572021993, 0.11998618877711115, -0.014827135325163431, -0.006860872685445662, -0.006998466596296831, -0.006862189069445151, -0.006850331737229966, 0.14748237956097143, -0.007493403572162557, -0.006889500340058434, -0.0068791916281938, -0.06327118206345465, 0.13205929356761703, -0.00696232434827284, -0.006859989455970751, -0.0068485651514784435, -0.006872275751437044, 0.30115649571625247, -0.006852191249739236, -0.010557209007030392, 0.132062125885595, -0.007056694576642846, -0.006852042487038401, -0.006902871656704439, -0.006868305039751352, 0.1316641138242581, 0.1320446825987402, 0.13205475422402022, 0.1320572390083913, 0.13207227828629145, 0.0317024830229498, -0.006862225458602968, 0.11168753912734337, -0.006948128891646881, 0.13204697401571241, 0.25775030166342844, -0.0068968398080802035, -0.0073301727119098, -0.0069385879976951725, -0.006848380074205937, -0.006944035175345217, -0.007378136505325285, 0.3313295005889851, 0.22454231903293725, 0.17159056832368114, -0.006852951224859625, -0.010672928330941843, 0.36474360486858554, -0.006848219705956073, 0.1320631395987497, -0.023128918194829054, 0.03168281607755262, 0.2979107074629013, 0.13205632360290817, 0.031692232417665306, -0.006899558124317488, -0.00692578687501064, 0.2905257694858064, 0.22251470659082342, 0.031693115537287035, 0.13205933452672075, -0.006978620881862916, 0.3434369300310768, -0.006893834038554491, 0.11855298260247228, 0.031668044559667145, 0.2872401947117927, -0.006877910423100347, 0.4933838680101105, -0.006854302700968132, 0.03169250971520845, -0.006848217818886724, 0.03169798276469248, 0.33222928247733785, 0.2625938685062645, 0.132067905466729, 0.2239131595823095, -0.006935320264359144, 0.13206646944163375, -0.006858100177159938, 0.3073268361133184, 0.29051711977341627, 0.29895865067178695, -0.008705027689690116, 0.031247175655181612, 0.0316353144902999, 0.26259497322976916, -0.0068487128206753504, 0.2625905297968746, 0.297925870792085, 0.013766832006950617, 0.35473061124451954, -0.006849817377135845, 0.03151250669190986, 0.29895877535490256, -0.006910043601309368, 0.2979164923778559, 0.3893492027233123, -0.007584281187026239, -0.08680757726748414, -0.006863159506093108, 0.13104250461514888, -0.00686667156303262, 0.354718880956709, 0.438490873958012, 0.23715120535984355, 0.3561614454611072, 0.2614384800625566, 0.03166965857299708, -0.006859329545507043, -0.006863410424139197, 0.03168079280538204, 0.03169850722761709, 0.2625832556553278, 0.2589900205659429, 0.10468232543052365, 0.031453753625738025, 0.13206067284993667, -0.008706212960722012, -0.07060410861819841, -0.006855699582315726, -0.006870480557621808, -0.006880085489404945, -0.006880562433172692, 0.2625794064989233, 0.29292509157070756, 0.030179472297023873, 0.1476282357082671, 0.29895348406365035, 0.2872052322827391, -0.0069101089565472154, 0.0315629665066632, 0.1476240653240187, 0.29047820231345556, 0.14762664336292344, 0.22423978088983892, 0.23896049381925713, 0.26259490731771173, 0.2885315338894015, 0.031569881784452275, 0.3543946432069658, -0.00950002236205501, 0.031646633133957464, 0.03169763188902976, 0.14762765622481203, 0.1474127290967743, -0.006879437426595423, 0.03169517124323726, 0.13205985281300256, 0.15257915098304342, 0.2595455962308783, 0.2624799536833333, -0.013075785507939898, 0.2871825005572171, 0.11124353262261569, -0.006860461424181125, -0.01656576765600548, 0.031520335083004065, 4.244383303453658, 0.28927275684902426, 0.2623864696939095, -0.00685336483515237, 0.3339582499403799, 0.2989206697011071, 0.307268717866664, 0.03167114652770537, 0.2625887286750578, -0.08680763462943568, 0.29792155350294486, 0.5236916764607091, 0.3073290244818788, 0.26249290723600904, 0.23159674839999, 0.2116268121260955, 0.39135600304325224, 0.2621724561616537, 0.1724306938197616, 0.4009020771506696, 0.031697078919903164, -0.006852377406630052, 0.3544516008557232, 0.16690991694726828, 0.18047400651575204, 0.1307645422621433, 0.0316963608609281, 0.17241617796443698, 0.31654857836843625, 0.29573178553616086, 0.30731305328217395, 0.13206067422085566, 0.26033684117035605, 0.2844493027444067, 0.284457079661185, 0.4559812011729525, -0.00688480093318165, 0.2989024520421085, 0.29894819093385366, 0.17156994668337738, 0.13203777213690168, -0.08166054798014681, 0.13200495866806186, -0.02423315536258268, 0.14522185070347166, 0.28321942099415526, -0.007372640993056002, 0.1320547312491648, -0.028885577420684944, 0.10439808334127439, -0.006850971304723219, -0.006911109283521585, 0.22456936690147766, 0.3451195639217906, 0.29051818948322805, 0.2619143212378239, 0.29895790035004594]}, {\"hovertemplate\": \"class=%{marker.color}<br>PC 1=%{x}<br>PC 2=%{y}<br>PC 3=%{z}<extra></extra>\", \"legendgroup\": \"4\", \"marker\": {\"color\": [4, 4, 4], \"coloraxis\": \"coloraxis\", \"symbol\": \"x\"}, \"mode\": \"markers\", \"name\": \"4\", \"scene\": \"scene\", \"showlegend\": true, \"type\": \"scatter3d\", \"x\": [4.350750115561104, -0.25597678469443286, -0.23088940013182685], \"y\": [0.6416456441996811, -1.919439720173226, 6.108147832919289], \"z\": [9.853008660291046, 15.55541259483884, 10.325026362707924]}, {\"hovertemplate\": \"class=%{marker.color}<br>PC 1=%{x}<br>PC 2=%{y}<br>PC 3=%{z}<extra></extra>\", \"legendgroup\": \"3\", \"marker\": {\"color\": [3], \"coloraxis\": \"coloraxis\", \"symbol\": \"cross\"}, \"mode\": \"markers\", \"name\": \"3\", \"scene\": \"scene\", \"showlegend\": true, \"type\": \"scatter3d\", \"x\": [-0.35011188688480516], \"y\": [5.747767706296859], \"z\": [23.39495234417003]}, {\"hovertemplate\": \"class=%{marker.color}<br>PC 1=%{x}<br>PC 2=%{y}<br>PC 3=%{z}<extra></extra>\", \"legendgroup\": \"2\", \"marker\": {\"color\": [2], \"coloraxis\": \"coloraxis\", \"symbol\": \"circle\"}, \"mode\": \"markers\", \"name\": \"2\", \"scene\": \"scene\", \"showlegend\": true, \"type\": \"scatter3d\", \"x\": [34.12245592462859], \"y\": [1.4392136660743562], \"z\": [-1.3392624474830812]}],                        {\"coloraxis\": {\"colorbar\": {\"title\": {\"text\": \"class\"}}, \"colorscale\": [[0.0, \"#0d0887\"], [0.1111111111111111, \"#46039f\"], [0.2222222222222222, \"#7201a8\"], [0.3333333333333333, \"#9c179e\"], [0.4444444444444444, \"#bd3786\"], [0.5555555555555556, \"#d8576b\"], [0.6666666666666666, \"#ed7953\"], [0.7777777777777778, \"#fb9f3a\"], [0.8888888888888888, \"#fdca26\"], [1.0, \"#f0f921\"]]}, \"legend\": {\"title\": {\"text\": \"class\"}, \"tracegroupgap\": 0, \"x\": 0, \"y\": 1}, \"margin\": {\"t\": 60}, \"scene\": {\"domain\": {\"x\": [0.0, 1.0], \"y\": [0.0, 1.0]}, \"xaxis\": {\"title\": {\"text\": \"PC 1\"}}, \"yaxis\": {\"title\": {\"text\": \"PC 2\"}}, \"zaxis\": {\"title\": {\"text\": \"PC 3\"}}}, \"template\": {\"data\": {\"bar\": [{\"error_x\": {\"color\": \"#2a3f5f\"}, \"error_y\": {\"color\": \"#2a3f5f\"}, \"marker\": {\"line\": {\"color\": \"#E5ECF6\", \"width\": 0.5}}, \"type\": \"bar\"}], \"barpolar\": [{\"marker\": {\"line\": {\"color\": \"#E5ECF6\", \"width\": 0.5}}, \"type\": \"barpolar\"}], \"carpet\": [{\"aaxis\": {\"endlinecolor\": \"#2a3f5f\", \"gridcolor\": \"white\", \"linecolor\": \"white\", \"minorgridcolor\": \"white\", \"startlinecolor\": \"#2a3f5f\"}, \"baxis\": {\"endlinecolor\": \"#2a3f5f\", \"gridcolor\": \"white\", \"linecolor\": \"white\", \"minorgridcolor\": \"white\", \"startlinecolor\": \"#2a3f5f\"}, \"type\": \"carpet\"}], \"choropleth\": [{\"colorbar\": {\"outlinewidth\": 0, \"ticks\": \"\"}, \"type\": \"choropleth\"}], \"contour\": [{\"colorbar\": {\"outlinewidth\": 0, \"ticks\": \"\"}, \"colorscale\": [[0.0, \"#0d0887\"], [0.1111111111111111, \"#46039f\"], [0.2222222222222222, \"#7201a8\"], [0.3333333333333333, \"#9c179e\"], [0.4444444444444444, \"#bd3786\"], [0.5555555555555556, \"#d8576b\"], [0.6666666666666666, \"#ed7953\"], [0.7777777777777778, \"#fb9f3a\"], [0.8888888888888888, \"#fdca26\"], [1.0, \"#f0f921\"]], \"type\": \"contour\"}], \"contourcarpet\": [{\"colorbar\": {\"outlinewidth\": 0, \"ticks\": \"\"}, \"type\": \"contourcarpet\"}], \"heatmap\": [{\"colorbar\": {\"outlinewidth\": 0, \"ticks\": \"\"}, \"colorscale\": [[0.0, \"#0d0887\"], [0.1111111111111111, \"#46039f\"], [0.2222222222222222, \"#7201a8\"], [0.3333333333333333, \"#9c179e\"], [0.4444444444444444, \"#bd3786\"], [0.5555555555555556, \"#d8576b\"], [0.6666666666666666, \"#ed7953\"], [0.7777777777777778, \"#fb9f3a\"], [0.8888888888888888, \"#fdca26\"], [1.0, \"#f0f921\"]], \"type\": \"heatmap\"}], \"heatmapgl\": [{\"colorbar\": {\"outlinewidth\": 0, \"ticks\": \"\"}, \"colorscale\": [[0.0, \"#0d0887\"], [0.1111111111111111, \"#46039f\"], [0.2222222222222222, \"#7201a8\"], [0.3333333333333333, \"#9c179e\"], [0.4444444444444444, \"#bd3786\"], [0.5555555555555556, \"#d8576b\"], [0.6666666666666666, \"#ed7953\"], [0.7777777777777778, \"#fb9f3a\"], [0.8888888888888888, \"#fdca26\"], [1.0, \"#f0f921\"]], \"type\": \"heatmapgl\"}], \"histogram\": [{\"marker\": {\"colorbar\": {\"outlinewidth\": 0, \"ticks\": \"\"}}, \"type\": \"histogram\"}], \"histogram2d\": [{\"colorbar\": {\"outlinewidth\": 0, \"ticks\": \"\"}, \"colorscale\": [[0.0, \"#0d0887\"], [0.1111111111111111, \"#46039f\"], [0.2222222222222222, \"#7201a8\"], [0.3333333333333333, \"#9c179e\"], [0.4444444444444444, \"#bd3786\"], [0.5555555555555556, \"#d8576b\"], [0.6666666666666666, \"#ed7953\"], [0.7777777777777778, \"#fb9f3a\"], [0.8888888888888888, \"#fdca26\"], [1.0, \"#f0f921\"]], \"type\": \"histogram2d\"}], \"histogram2dcontour\": [{\"colorbar\": {\"outlinewidth\": 0, \"ticks\": \"\"}, \"colorscale\": [[0.0, \"#0d0887\"], [0.1111111111111111, \"#46039f\"], [0.2222222222222222, \"#7201a8\"], [0.3333333333333333, \"#9c179e\"], [0.4444444444444444, \"#bd3786\"], [0.5555555555555556, \"#d8576b\"], [0.6666666666666666, \"#ed7953\"], [0.7777777777777778, \"#fb9f3a\"], [0.8888888888888888, \"#fdca26\"], [1.0, \"#f0f921\"]], \"type\": \"histogram2dcontour\"}], \"mesh3d\": [{\"colorbar\": {\"outlinewidth\": 0, \"ticks\": \"\"}, \"type\": \"mesh3d\"}], \"parcoords\": [{\"line\": {\"colorbar\": {\"outlinewidth\": 0, \"ticks\": \"\"}}, \"type\": \"parcoords\"}], \"pie\": [{\"automargin\": true, \"type\": \"pie\"}], \"scatter\": [{\"marker\": {\"colorbar\": {\"outlinewidth\": 0, \"ticks\": \"\"}}, \"type\": \"scatter\"}], \"scatter3d\": [{\"line\": {\"colorbar\": {\"outlinewidth\": 0, \"ticks\": \"\"}}, \"marker\": {\"colorbar\": {\"outlinewidth\": 0, \"ticks\": \"\"}}, \"type\": \"scatter3d\"}], \"scattercarpet\": [{\"marker\": {\"colorbar\": {\"outlinewidth\": 0, \"ticks\": \"\"}}, \"type\": \"scattercarpet\"}], \"scattergeo\": [{\"marker\": {\"colorbar\": {\"outlinewidth\": 0, \"ticks\": \"\"}}, \"type\": \"scattergeo\"}], \"scattergl\": [{\"marker\": {\"colorbar\": {\"outlinewidth\": 0, \"ticks\": \"\"}}, \"type\": \"scattergl\"}], \"scattermapbox\": [{\"marker\": {\"colorbar\": {\"outlinewidth\": 0, \"ticks\": \"\"}}, \"type\": \"scattermapbox\"}], \"scatterpolar\": [{\"marker\": {\"colorbar\": {\"outlinewidth\": 0, \"ticks\": \"\"}}, \"type\": \"scatterpolar\"}], \"scatterpolargl\": [{\"marker\": {\"colorbar\": {\"outlinewidth\": 0, \"ticks\": \"\"}}, \"type\": \"scatterpolargl\"}], \"scatterternary\": [{\"marker\": {\"colorbar\": {\"outlinewidth\": 0, \"ticks\": \"\"}}, \"type\": \"scatterternary\"}], \"surface\": [{\"colorbar\": {\"outlinewidth\": 0, \"ticks\": \"\"}, \"colorscale\": [[0.0, \"#0d0887\"], [0.1111111111111111, \"#46039f\"], [0.2222222222222222, \"#7201a8\"], [0.3333333333333333, \"#9c179e\"], [0.4444444444444444, \"#bd3786\"], [0.5555555555555556, \"#d8576b\"], [0.6666666666666666, \"#ed7953\"], [0.7777777777777778, \"#fb9f3a\"], [0.8888888888888888, \"#fdca26\"], [1.0, \"#f0f921\"]], \"type\": \"surface\"}], \"table\": [{\"cells\": {\"fill\": {\"color\": \"#EBF0F8\"}, \"line\": {\"color\": \"white\"}}, \"header\": {\"fill\": {\"color\": \"#C8D4E3\"}, \"line\": {\"color\": \"white\"}}, \"type\": \"table\"}]}, \"layout\": {\"annotationdefaults\": {\"arrowcolor\": \"#2a3f5f\", \"arrowhead\": 0, \"arrowwidth\": 1}, \"coloraxis\": {\"colorbar\": {\"outlinewidth\": 0, \"ticks\": \"\"}}, \"colorscale\": {\"diverging\": [[0, \"#8e0152\"], [0.1, \"#c51b7d\"], [0.2, \"#de77ae\"], [0.3, \"#f1b6da\"], [0.4, \"#fde0ef\"], [0.5, \"#f7f7f7\"], [0.6, \"#e6f5d0\"], [0.7, \"#b8e186\"], [0.8, \"#7fbc41\"], [0.9, \"#4d9221\"], [1, \"#276419\"]], \"sequential\": [[0.0, \"#0d0887\"], [0.1111111111111111, \"#46039f\"], [0.2222222222222222, \"#7201a8\"], [0.3333333333333333, \"#9c179e\"], [0.4444444444444444, \"#bd3786\"], [0.5555555555555556, \"#d8576b\"], [0.6666666666666666, \"#ed7953\"], [0.7777777777777778, \"#fb9f3a\"], [0.8888888888888888, \"#fdca26\"], [1.0, \"#f0f921\"]], \"sequentialminus\": [[0.0, \"#0d0887\"], [0.1111111111111111, \"#46039f\"], [0.2222222222222222, \"#7201a8\"], [0.3333333333333333, \"#9c179e\"], [0.4444444444444444, \"#bd3786\"], [0.5555555555555556, \"#d8576b\"], [0.6666666666666666, \"#ed7953\"], [0.7777777777777778, \"#fb9f3a\"], [0.8888888888888888, \"#fdca26\"], [1.0, \"#f0f921\"]]}, \"colorway\": [\"#636efa\", \"#EF553B\", \"#00cc96\", \"#ab63fa\", \"#FFA15A\", \"#19d3f3\", \"#FF6692\", \"#B6E880\", \"#FF97FF\", \"#FECB52\"], \"font\": {\"color\": \"#2a3f5f\"}, \"geo\": {\"bgcolor\": \"white\", \"lakecolor\": \"white\", \"landcolor\": \"#E5ECF6\", \"showlakes\": true, \"showland\": true, \"subunitcolor\": \"white\"}, \"hoverlabel\": {\"align\": \"left\"}, \"hovermode\": \"closest\", \"mapbox\": {\"style\": \"light\"}, \"paper_bgcolor\": \"white\", \"plot_bgcolor\": \"#E5ECF6\", \"polar\": {\"angularaxis\": {\"gridcolor\": \"white\", \"linecolor\": \"white\", \"ticks\": \"\"}, \"bgcolor\": \"#E5ECF6\", \"radialaxis\": {\"gridcolor\": \"white\", \"linecolor\": \"white\", \"ticks\": \"\"}}, \"scene\": {\"xaxis\": {\"backgroundcolor\": \"#E5ECF6\", \"gridcolor\": \"white\", \"gridwidth\": 2, \"linecolor\": \"white\", \"showbackground\": true, \"ticks\": \"\", \"zerolinecolor\": \"white\"}, \"yaxis\": {\"backgroundcolor\": \"#E5ECF6\", \"gridcolor\": \"white\", \"gridwidth\": 2, \"linecolor\": \"white\", \"showbackground\": true, \"ticks\": \"\", \"zerolinecolor\": \"white\"}, \"zaxis\": {\"backgroundcolor\": \"#E5ECF6\", \"gridcolor\": \"white\", \"gridwidth\": 2, \"linecolor\": \"white\", \"showbackground\": true, \"ticks\": \"\", \"zerolinecolor\": \"white\"}}, \"shapedefaults\": {\"line\": {\"color\": \"#2a3f5f\"}}, \"ternary\": {\"aaxis\": {\"gridcolor\": \"white\", \"linecolor\": \"white\", \"ticks\": \"\"}, \"baxis\": {\"gridcolor\": \"white\", \"linecolor\": \"white\", \"ticks\": \"\"}, \"bgcolor\": \"#E5ECF6\", \"caxis\": {\"gridcolor\": \"white\", \"linecolor\": \"white\", \"ticks\": \"\"}}, \"title\": {\"x\": 0.05}, \"xaxis\": {\"automargin\": true, \"gridcolor\": \"white\", \"linecolor\": \"white\", \"ticks\": \"\", \"title\": {\"standoff\": 15}, \"zerolinecolor\": \"white\", \"zerolinewidth\": 2}, \"yaxis\": {\"automargin\": true, \"gridcolor\": \"white\", \"linecolor\": \"white\", \"ticks\": \"\", \"title\": {\"standoff\": 15}, \"zerolinecolor\": \"white\", \"zerolinewidth\": 2}}}, \"width\": 800},                        {\"responsive\": true}                    ).then(function(){\n",
       "                            \n",
       "var gd = document.getElementById('e65fdb65-78de-42b6-8266-fc6ce0a9ee8d');\n",
       "var x = new MutationObserver(function (mutations, observer) {{\n",
       "        var display = window.getComputedStyle(gd).display;\n",
       "        if (!display || display === 'none') {{\n",
       "            console.log([gd, 'removed!']);\n",
       "            Plotly.purge(gd);\n",
       "            observer.disconnect();\n",
       "        }}\n",
       "}});\n",
       "\n",
       "// Listen for the removal of the full notebook cells\n",
       "var notebookContainer = gd.closest('#notebook-container');\n",
       "if (notebookContainer) {{\n",
       "    x.observe(notebookContainer, {childList: true});\n",
       "}}\n",
       "\n",
       "// Listen for the clearing of the current output cell\n",
       "var outputEl = gd.closest('.output');\n",
       "if (outputEl) {{\n",
       "    x.observe(outputEl, {childList: true});\n",
       "}}\n",
       "\n",
       "                        })                };                });            </script>        </div>"
      ]
     },
     "metadata": {},
     "output_type": "display_data"
    }
   ],
   "source": [
    "# Plotting the clusters on 3D plot for K=6\n",
    "fig=px.scatter_3d(\n",
    "    six_clusters,\n",
    "    x=\"PC 1\",\n",
    "    y=\"PC 2\",\n",
    "    z=\"PC 3\",\n",
    "    color=\"class\",\n",
    "    symbol=\"class\",\n",
    "    width=800,\n",
    ")\n",
    "\n",
    "fig.update_layout(legend=dict(x=0, y=1))\n",
    "fig.show()"
   ]
  },
  {
   "cell_type": "markdown",
   "metadata": {},
   "source": [
    "#### Based on the above 3D plots for K=4, K=5 & K=6, it seems that K=4 is the best option."
   ]
  },
  {
   "cell_type": "code",
   "execution_count": 403,
   "metadata": {},
   "outputs": [
    {
     "data": {
      "text/html": [
       "<div>\n",
       "<style scoped>\n",
       "    .dataframe tbody tr th:only-of-type {\n",
       "        vertical-align: middle;\n",
       "    }\n",
       "\n",
       "    .dataframe tbody tr th {\n",
       "        vertical-align: top;\n",
       "    }\n",
       "\n",
       "    .dataframe thead th {\n",
       "        text-align: right;\n",
       "    }\n",
       "</style>\n",
       "<table border=\"1\" class=\"dataframe\">\n",
       "  <thead>\n",
       "    <tr style=\"text-align: right;\">\n",
       "      <th></th>\n",
       "      <th>Algorithm</th>\n",
       "      <th>ProofType</th>\n",
       "      <th>TotalCoinsMined</th>\n",
       "      <th>TotalCoinSupply</th>\n",
       "      <th>PC 1</th>\n",
       "      <th>PC 2</th>\n",
       "      <th>PC 3</th>\n",
       "      <th>CoinName</th>\n",
       "      <th>Class</th>\n",
       "    </tr>\n",
       "  </thead>\n",
       "  <tbody>\n",
       "    <tr>\n",
       "      <th>42</th>\n",
       "      <td>Scrypt</td>\n",
       "      <td>PoW/PoS</td>\n",
       "      <td>4.199995e+01</td>\n",
       "      <td>42</td>\n",
       "      <td>-0.335286</td>\n",
       "      <td>0.921799</td>\n",
       "      <td>-0.465890</td>\n",
       "      <td>42 Coin</td>\n",
       "      <td>0</td>\n",
       "    </tr>\n",
       "    <tr>\n",
       "      <th>404</th>\n",
       "      <td>Scrypt</td>\n",
       "      <td>PoW/PoS</td>\n",
       "      <td>1.055185e+09</td>\n",
       "      <td>532000000</td>\n",
       "      <td>-0.318577</td>\n",
       "      <td>0.921666</td>\n",
       "      <td>-0.466455</td>\n",
       "      <td>404Coin</td>\n",
       "      <td>0</td>\n",
       "    </tr>\n",
       "    <tr>\n",
       "      <th>1337</th>\n",
       "      <td>X13</td>\n",
       "      <td>PoW/PoS</td>\n",
       "      <td>2.927942e+10</td>\n",
       "      <td>314159265359</td>\n",
       "      <td>2.335877</td>\n",
       "      <td>1.454619</td>\n",
       "      <td>-0.609352</td>\n",
       "      <td>EliteCoin</td>\n",
       "      <td>0</td>\n",
       "    </tr>\n",
       "    <tr>\n",
       "      <th>BTC</th>\n",
       "      <td>SHA-256</td>\n",
       "      <td>PoW</td>\n",
       "      <td>1.792718e+07</td>\n",
       "      <td>21000000</td>\n",
       "      <td>-0.139157</td>\n",
       "      <td>-1.277697</td>\n",
       "      <td>0.132061</td>\n",
       "      <td>Bitcoin</td>\n",
       "      <td>1</td>\n",
       "    </tr>\n",
       "    <tr>\n",
       "      <th>ETH</th>\n",
       "      <td>Ethash</td>\n",
       "      <td>PoW</td>\n",
       "      <td>1.076842e+08</td>\n",
       "      <td>0</td>\n",
       "      <td>-0.147730</td>\n",
       "      <td>-1.916692</td>\n",
       "      <td>0.290485</td>\n",
       "      <td>Ethereum</td>\n",
       "      <td>1</td>\n",
       "    </tr>\n",
       "  </tbody>\n",
       "</table>\n",
       "</div>"
      ],
      "text/plain": [
       "     Algorithm ProofType  TotalCoinsMined TotalCoinSupply      PC 1      PC 2  \\\n",
       "42      Scrypt   PoW/PoS     4.199995e+01              42 -0.335286  0.921799   \n",
       "404     Scrypt   PoW/PoS     1.055185e+09       532000000 -0.318577  0.921666   \n",
       "1337       X13   PoW/PoS     2.927942e+10    314159265359  2.335877  1.454619   \n",
       "BTC    SHA-256       PoW     1.792718e+07        21000000 -0.139157 -1.277697   \n",
       "ETH     Ethash       PoW     1.076842e+08               0 -0.147730 -1.916692   \n",
       "\n",
       "          PC 3   CoinName  Class  \n",
       "42   -0.465890    42 Coin      0  \n",
       "404  -0.466455    404Coin      0  \n",
       "1337 -0.609352  EliteCoin      0  \n",
       "BTC   0.132061    Bitcoin      1  \n",
       "ETH   0.290485   Ethereum      1  "
      ]
     },
     "execution_count": 403,
     "metadata": {},
     "output_type": "execute_result"
    }
   ],
   "source": [
    "# Creating DataFrame with results\n",
    "df1 = pd.merge(crypto_df, four_clusters, left_index=True, right_index=True)\n",
    "clustered_df = pd.merge(df1, coins_name, left_index=True, right_index=True)\n",
    "clustered_df =clustered_df[['Algorithm','ProofType','TotalCoinsMined','TotalCoinSupply','PC 1',\n",
    "                           'PC 2', 'PC 3','CoinName','class']]\n",
    "clustered_df.rename(columns = {'class':'Class'}, inplace = True) \n",
    "clustered_df.head()"
   ]
  },
  {
   "cell_type": "markdown",
   "metadata": {},
   "source": [
    "### Visualizing Results"
   ]
  },
  {
   "cell_type": "code",
   "execution_count": 404,
   "metadata": {},
   "outputs": [
    {
     "data": {
      "application/vnd.plotly.v1+json": {
       "config": {
        "plotlyServerURL": "https://plot.ly"
       },
       "data": [
        {
         "customdata": [
          [
           "Scrypt"
          ],
          [
           "Scrypt"
          ],
          [
           "X13"
          ],
          [
           "X11"
          ],
          [
           "SHA-512"
          ],
          [
           "SHA-256"
          ],
          [
           "SHA-256"
          ],
          [
           "X15"
          ],
          [
           "Scrypt"
          ],
          [
           "Scrypt"
          ],
          [
           "Scrypt"
          ],
          [
           "Scrypt"
          ],
          [
           "Scrypt"
          ],
          [
           "Scrypt"
          ],
          [
           "Groestl"
          ],
          [
           "PoS"
          ],
          [
           "Scrypt"
          ],
          [
           "Scrypt"
          ],
          [
           "X11"
          ],
          [
           "X11"
          ],
          [
           "SHA3"
          ],
          [
           "Scrypt"
          ],
          [
           "SHA-256"
          ],
          [
           "Scrypt"
          ],
          [
           "X13"
          ],
          [
           "X13"
          ],
          [
           "NeoScrypt"
          ],
          [
           "Scrypt"
          ],
          [
           "Scrypt"
          ],
          [
           "Scrypt"
          ],
          [
           "X11"
          ],
          [
           "X11"
          ],
          [
           "Multiple"
          ],
          [
           "PHI1612"
          ],
          [
           "X11"
          ],
          [
           "Scrypt"
          ],
          [
           "Scrypt"
          ],
          [
           "Scrypt"
          ],
          [
           "X11"
          ],
          [
           "Multiple"
          ],
          [
           "X13"
          ],
          [
           "Scrypt"
          ],
          [
           "Shabal256"
          ],
          [
           "Counterparty"
          ],
          [
           "SHA-256"
          ],
          [
           "Groestl"
          ],
          [
           "Scrypt"
          ],
          [
           "X13"
          ],
          [
           "Scrypt"
          ],
          [
           "Scrypt"
          ],
          [
           "X13"
          ],
          [
           "X11"
          ],
          [
           "Scrypt"
          ],
          [
           "X11"
          ],
          [
           "SHA3"
          ],
          [
           "QUAIT"
          ],
          [
           "X11"
          ],
          [
           "Scrypt"
          ],
          [
           "X13"
          ],
          [
           "SHA-256"
          ],
          [
           "X15"
          ],
          [
           "BLAKE256"
          ],
          [
           "SHA-256"
          ],
          [
           "X11"
          ],
          [
           "SHA-256"
          ],
          [
           "NIST5"
          ],
          [
           "Scrypt"
          ],
          [
           "Scrypt"
          ],
          [
           "X11"
          ],
          [
           "Scrypt"
          ],
          [
           "SHA-256"
          ],
          [
           "Scrypt"
          ],
          [
           "PoS"
          ],
          [
           "X11"
          ],
          [
           "SHA-256"
          ],
          [
           "SHA-256"
          ],
          [
           "NIST5"
          ],
          [
           "X11"
          ],
          [
           "POS 3.0"
          ],
          [
           "Scrypt"
          ],
          [
           "Scrypt"
          ],
          [
           "Scrypt"
          ],
          [
           "X13"
          ],
          [
           "X11"
          ],
          [
           "X11"
          ],
          [
           "Scrypt"
          ],
          [
           "SHA-256"
          ],
          [
           "X11"
          ],
          [
           "Scrypt"
          ],
          [
           "Scrypt"
          ],
          [
           "Scrypt"
          ],
          [
           "Scrypt"
          ],
          [
           "SHA-256D"
          ],
          [
           "PoS"
          ],
          [
           "Scrypt"
          ],
          [
           "X11"
          ],
          [
           "PoS"
          ],
          [
           "X13"
          ],
          [
           "X14"
          ],
          [
           "PoS"
          ],
          [
           "SHA-256D"
          ],
          [
           "DPoS"
          ],
          [
           "X11"
          ],
          [
           "X13"
          ],
          [
           "X11"
          ],
          [
           "PoS"
          ],
          [
           "Scrypt"
          ],
          [
           "Scrypt"
          ],
          [
           "PoS"
          ],
          [
           "X11"
          ],
          [
           "SHA-256"
          ],
          [
           "Scrypt"
          ],
          [
           "X11"
          ],
          [
           "Scrypt"
          ],
          [
           "Scrypt"
          ],
          [
           "X11"
          ],
          [
           "Scrypt"
          ],
          [
           "Scrypt"
          ],
          [
           "Scrypt"
          ],
          [
           "Scrypt"
          ],
          [
           "Quark"
          ],
          [
           "QuBit"
          ],
          [
           "Scrypt"
          ],
          [
           "SHA-256"
          ],
          [
           "X11"
          ],
          [
           "Scrypt"
          ],
          [
           "Scrypt"
          ],
          [
           "Scrypt"
          ],
          [
           "Scrypt"
          ],
          [
           "X13"
          ],
          [
           "Scrypt"
          ],
          [
           "Scrypt"
          ],
          [
           "X11"
          ],
          [
           "Blake2S"
          ],
          [
           "X11"
          ],
          [
           "PoS"
          ],
          [
           "X11"
          ],
          [
           "PoS"
          ],
          [
           "X11"
          ],
          [
           "Scrypt"
          ],
          [
           "Scrypt"
          ],
          [
           "Scrypt"
          ],
          [
           "SHA-256"
          ],
          [
           "X11"
          ],
          [
           "Scrypt"
          ],
          [
           "PoS"
          ],
          [
           "Scrypt"
          ],
          [
           "X15"
          ],
          [
           "SHA-256"
          ],
          [
           "POS 3.0"
          ],
          [
           "536"
          ],
          [
           "NIST5"
          ],
          [
           "NIST5"
          ],
          [
           "Skein"
          ],
          [
           "X13"
          ],
          [
           "Scrypt"
          ],
          [
           "X13"
          ],
          [
           "SkunkHash v2 Raptor"
          ],
          [
           "Skein"
          ],
          [
           "X11"
          ],
          [
           "Scrypt"
          ],
          [
           "PoS"
          ],
          [
           "Scrypt"
          ],
          [
           "Scrypt"
          ],
          [
           "SHA-512"
          ],
          [
           "Ouroboros"
          ],
          [
           "X11"
          ],
          [
           "NeoScrypt"
          ],
          [
           "Scrypt"
          ],
          [
           "Lyra2REv2"
          ],
          [
           "Scrypt"
          ],
          [
           "SHA-256"
          ],
          [
           "NIST5"
          ],
          [
           "PHI1612"
          ],
          [
           "Scrypt"
          ],
          [
           "Quark"
          ],
          [
           "POS 2.0"
          ],
          [
           "Scrypt"
          ],
          [
           "SHA-256"
          ],
          [
           "X11"
          ],
          [
           "DPoS"
          ],
          [
           "NIST5"
          ],
          [
           "X13"
          ],
          [
           "Scrypt"
          ],
          [
           "NIST5"
          ],
          [
           "Quark"
          ],
          [
           "Scrypt"
          ],
          [
           "Scrypt"
          ],
          [
           "X11"
          ],
          [
           "Quark"
          ],
          [
           "Scrypt"
          ],
          [
           "Scrypt"
          ],
          [
           "X11"
          ],
          [
           "POS 3.0"
          ],
          [
           "Ethash"
          ],
          [
           "Scrypt"
          ],
          [
           "Scrypt"
          ],
          [
           "X13"
          ],
          [
           "C11"
          ],
          [
           "X11"
          ],
          [
           "XEVAN"
          ],
          [
           "Scrypt"
          ],
          [
           "VBFT"
          ],
          [
           "NIST5"
          ],
          [
           "Scrypt"
          ],
          [
           "Scrypt"
          ],
          [
           "Scrypt"
          ],
          [
           "Green Protocol"
          ],
          [
           "PoS"
          ],
          [
           "Scrypt"
          ],
          [
           "Semux BFT consensus"
          ],
          [
           "Quark"
          ],
          [
           "PoS"
          ],
          [
           "X16R"
          ],
          [
           "Scrypt"
          ],
          [
           "XEVAN"
          ],
          [
           "Scrypt"
          ],
          [
           "Scrypt"
          ],
          [
           "Scrypt"
          ],
          [
           "SHA-256D"
          ],
          [
           "Scrypt"
          ],
          [
           "X15"
          ],
          [
           "Scrypt"
          ],
          [
           "Quark"
          ],
          [
           "SHA-256"
          ],
          [
           "DPoS"
          ],
          [
           "X16R"
          ],
          [
           "Quark"
          ],
          [
           "Quark"
          ],
          [
           "Scrypt"
          ],
          [
           "Lyra2REv2"
          ],
          [
           "Quark"
          ],
          [
           "Scrypt"
          ],
          [
           "X11"
          ],
          [
           "X11"
          ],
          [
           "Scrypt"
          ],
          [
           "PoS"
          ],
          [
           "Keccak"
          ],
          [
           "X11"
          ],
          [
           "Scrypt"
          ],
          [
           "SHA-512"
          ],
          [
           "XEVAN"
          ],
          [
           "XEVAN"
          ],
          [
           "X11"
          ],
          [
           "Quark"
          ],
          [
           "Equihash"
          ],
          [
           "Scrypt"
          ],
          [
           "Quark"
          ],
          [
           "Quark"
          ],
          [
           "Scrypt"
          ],
          [
           "X11"
          ],
          [
           "Scrypt"
          ],
          [
           "XEVAN"
          ],
          [
           "SHA-256D"
          ],
          [
           "X11"
          ],
          [
           "X11"
          ],
          [
           "DPoS"
          ],
          [
           "Scrypt"
          ],
          [
           "X11"
          ],
          [
           "Scrypt"
          ],
          [
           "Scrypt"
          ],
          [
           "SHA-256"
          ],
          [
           "Scrypt"
          ],
          [
           "X11"
          ],
          [
           "Scrypt"
          ],
          [
           "SHA-256"
          ],
          [
           "X11"
          ],
          [
           "Scrypt"
          ],
          [
           "Scrypt"
          ],
          [
           "X11"
          ],
          [
           "Scrypt"
          ],
          [
           "PoS"
          ],
          [
           "X11"
          ],
          [
           "SHA-256"
          ],
          [
           "DPoS"
          ],
          [
           "Scrypt"
          ],
          [
           "Scrypt"
          ],
          [
           "NeoScrypt"
          ],
          [
           "SHA3-256"
          ],
          [
           "X13"
          ],
          [
           "DPoS"
          ],
          [
           "DPoS"
          ],
          [
           "SHA-256"
          ],
          [
           "PoS"
          ],
          [
           "PoS"
          ],
          [
           "SHA-256"
          ],
          [
           "Scrypt"
          ],
          [
           "Scrypt"
          ]
         ],
         "hovertemplate": "<b>%{hovertext}</b><br><br>Class=%{marker.color}<br>PC 1=%{x}<br>PC 2=%{y}<br>PC 3=%{z}<br>Algorithm=%{customdata[0]}<extra></extra>",
         "hovertext": [
          "42 Coin",
          "404Coin",
          "EliteCoin",
          "Dash",
          "Bitshares",
          "BitcoinDark",
          "PayCoin",
          "KoboCoin",
          "Aurora Coin",
          "BlueCoin",
          "EnergyCoin",
          "BitBar",
          "CryptoBullion",
          "CasinoCoin",
          "Diamond",
          "Exclusive Coin",
          "FlutterCoin",
          "HoboNickels",
          "HyperStake",
          "IOCoin",
          "MaxCoin",
          "MintCoin",
          "MazaCoin",
          "Nautilus Coin",
          "NavCoin",
          "OpalCoin",
          "Orbitcoin",
          "PotCoin",
          "PhoenixCoin",
          "Reddcoin",
          "SuperCoin",
          "SyncCoin",
          "TeslaCoin",
          "TittieCoin",
          "TorCoin",
          "UnitaryStatus Dollar",
          "UltraCoin",
          "VeriCoin",
          "X11 Coin",
          "Crypti",
          "StealthCoin",
          "ZCC Coin",
          "BurstCoin",
          "StorjCoin",
          "Neutron",
          "FairCoin",
          "RubyCoin",
          "Kore",
          "Dnotes",
          "8BIT Coin",
          "Sativa Coin",
          "Ucoin",
          "Vtorrent",
          "IslaCoin",
          "Nexus",
          "Droidz",
          "Squall Coin",
          "Diggits",
          "Paycon",
          "Emercoin",
          "EverGreenCoin",
          "Decred",
          "EDRCoin",
          "Hitcoin",
          "DubaiCoin",
          "PWR Coin",
          "BillaryCoin",
          "GPU Coin",
          "EuropeCoin",
          "ZeitCoin",
          "SwingCoin",
          "SafeExchangeCoin",
          "Nebuchadnezzar",
          "Ratecoin",
          "Revenu",
          "Clockcoin",
          "VIP Tokens",
          "BitSend",
          "Let it Ride",
          "PutinCoin",
          "iBankCoin",
          "Frankywillcoin",
          "MudraCoin",
          "Lutetium Coin",
          "GoldBlocks",
          "CarterCoin",
          "BitTokens",
          "MustangCoin",
          "ZoneCoin",
          "RootCoin",
          "BitCurrency",
          "Swiscoin",
          "BuzzCoin",
          "Opair",
          "PesoBit",
          "Halloween Coin",
          "CoffeeCoin",
          "RoyalCoin",
          "GanjaCoin V2",
          "TeamUP",
          "LanaCoin",
          "ARK",
          "InsaneCoin",
          "EmberCoin",
          "XenixCoin",
          "FreeCoin",
          "PLNCoin",
          "AquariusCoin",
          "Creatio",
          "Eternity",
          "Eurocoin",
          "BitcoinFast",
          "Stakenet",
          "BitConnect Coin",
          "MoneyCoin",
          "Enigma",
          "Russiacoin",
          "PandaCoin",
          "GameUnits",
          "GAKHcoin",
          "Allsafe",
          "LiteCreed",
          "Klingon Empire Darsek",
          "Internet of People",
          "KushCoin",
          "Printerium",
          "Impeach",
          "Zilbercoin",
          "FirstCoin",
          "FindCoin",
          "OpenChat",
          "RenosCoin",
          "VirtacoinPlus",
          "TajCoin",
          "Impact",
          "Atmos",
          "HappyCoin",
          "MacronCoin",
          "Condensate",
          "Independent Money System",
          "ArgusCoin",
          "LomoCoin",
          "ProCurrency",
          "GoldReserve",
          "GrowthCoin",
          "Phreak",
          "Degas Coin",
          "HTML5 Coin",
          "Ultimate Secure Cash",
          "QTUM",
          "Espers",
          "Denarius",
          "Virta Unique Coin",
          "Bitcoin Planet",
          "BritCoin",
          "Linda",
          "DeepOnion",
          "Signatum",
          "Cream",
          "Monoeci",
          "Draftcoin",
          "Stakecoin",
          "CoinonatX",
          "Ethereum Dark",
          "Obsidian",
          "Cardano",
          "Regalcoin",
          "TrezarCoin",
          "TerraNovaCoin",
          "Rupee",
          "WomenCoin",
          "Theresa May Coin",
          "NamoCoin",
          "LUXCoin",
          "Xios",
          "Bitcloud 2.0",
          "KekCoin",
          "BlackholeCoin",
          "Infinity Economics",
          "Magnet",
          "Lamden Tau",
          "Electra",
          "Bitcoin Diamond",
          "Cash & Back Coin",
          "Bulwark",
          "Kalkulus",
          "GermanCoin",
          "LiteCoin Ultra",
          "PhantomX",
          "Digiwage",
          "Trollcoin",
          "Litecoin Plus",
          "Monkey Project",
          "TokenPay",
          "1717 Masonic Commemorative Token",
          "My Big Coin",
          "Unified Society USDEX",
          "Tokyo Coin",
          "Stipend",
          "Pushi",
          "Ellerium",
          "Velox",
          "Ontology",
          "Bitspace",
          "Briacoin",
          "Ignition",
          "MedicCoin",
          "Bitcoin Green",
          "Deviant Coin",
          "Abjcoin",
          "Semux",
          "Carebit",
          "Zealium",
          "Proton",
          "iDealCash",
          "Bitcoin Incognito",
          "HollyWoodCoin",
          "Swisscoin",
          "Xt3ch",
          "TheVig",
          "EmaratCoin",
          "Dekado",
          "Lynx",
          "Poseidon Quark",
          "BitcoinWSpectrum",
          "Muse",
          "Trivechain",
          "Dystem",
          "Giant",
          "Peony Coin",
          "Absolute Coin",
          "Vitae",
          "TPCash",
          "ARENON",
          "EUNO",
          "MMOCoin",
          "Ketan",
          "XDNA",
          "PAXEX",
          "ThunderStake",
          "Kcash",
          "Bettex coin",
          "BitMoney",
          "Junson Ming Chan Coin",
          "HerbCoin",
          "PirateCash",
          "Oduwa",
          "Galilel",
          "Crypto Sports",
          "Credit",
          "Dash Platinum",
          "Nasdacoin",
          "Beetle Coin",
          "Titan Coin",
          "Award",
          "Insane Coin",
          "ALAX",
          "LiteDoge",
          "TruckCoin",
          "OrangeCoin",
          "BitstarCoin",
          "NeosCoin",
          "HyperCoin",
          "PinkCoin",
          "AudioCoin",
          "IncaKoin",
          "Piggy Coin",
          "Genstake",
          "XiaoMiCoin",
          "CapriCoin",
          " ClubCoin",
          "Radium",
          "Creditbit ",
          "OKCash",
          "Lisk",
          "HiCoin",
          "WhiteCoin",
          "FriendshipCoin",
          "Fiii",
          "Triangles Coin",
          "EOS",
          "Oxycoin",
          "TigerCash",
          "Particl",
          "Nxt",
          "ZEPHYR",
          "Gapcoin",
          "BitcoinPlus"
         ],
         "legendgroup": "0",
         "marker": {
          "color": [
           0,
           0,
           0,
           0,
           0,
           0,
           0,
           0,
           0,
           0,
           0,
           0,
           0,
           0,
           0,
           0,
           0,
           0,
           0,
           0,
           0,
           0,
           0,
           0,
           0,
           0,
           0,
           0,
           0,
           0,
           0,
           0,
           0,
           0,
           0,
           0,
           0,
           0,
           0,
           0,
           0,
           0,
           0,
           0,
           0,
           0,
           0,
           0,
           0,
           0,
           0,
           0,
           0,
           0,
           0,
           0,
           0,
           0,
           0,
           0,
           0,
           0,
           0,
           0,
           0,
           0,
           0,
           0,
           0,
           0,
           0,
           0,
           0,
           0,
           0,
           0,
           0,
           0,
           0,
           0,
           0,
           0,
           0,
           0,
           0,
           0,
           0,
           0,
           0,
           0,
           0,
           0,
           0,
           0,
           0,
           0,
           0,
           0,
           0,
           0,
           0,
           0,
           0,
           0,
           0,
           0,
           0,
           0,
           0,
           0,
           0,
           0,
           0,
           0,
           0,
           0,
           0,
           0,
           0,
           0,
           0,
           0,
           0,
           0,
           0,
           0,
           0,
           0,
           0,
           0,
           0,
           0,
           0,
           0,
           0,
           0,
           0,
           0,
           0,
           0,
           0,
           0,
           0,
           0,
           0,
           0,
           0,
           0,
           0,
           0,
           0,
           0,
           0,
           0,
           0,
           0,
           0,
           0,
           0,
           0,
           0,
           0,
           0,
           0,
           0,
           0,
           0,
           0,
           0,
           0,
           0,
           0,
           0,
           0,
           0,
           0,
           0,
           0,
           0,
           0,
           0,
           0,
           0,
           0,
           0,
           0,
           0,
           0,
           0,
           0,
           0,
           0,
           0,
           0,
           0,
           0,
           0,
           0,
           0,
           0,
           0,
           0,
           0,
           0,
           0,
           0,
           0,
           0,
           0,
           0,
           0,
           0,
           0,
           0,
           0,
           0,
           0,
           0,
           0,
           0,
           0,
           0,
           0,
           0,
           0,
           0,
           0,
           0,
           0,
           0,
           0,
           0,
           0,
           0,
           0,
           0,
           0,
           0,
           0,
           0,
           0,
           0,
           0,
           0,
           0,
           0,
           0,
           0,
           0,
           0,
           0,
           0,
           0,
           0,
           0,
           0,
           0,
           0,
           0,
           0,
           0,
           0,
           0,
           0,
           0,
           0,
           0,
           0,
           0,
           0,
           0,
           0,
           0,
           0,
           0,
           0,
           0,
           0,
           0,
           0,
           0,
           0,
           0,
           0,
           0,
           0,
           0,
           0
          ],
          "coloraxis": "coloraxis",
          "symbol": "circle"
         },
         "mode": "markers",
         "name": "0",
         "scene": "scene",
         "showlegend": true,
         "type": "scatter3d",
         "x": [
          -0.3352856978551655,
          -0.31857736500562367,
          2.3358766092515033,
          -0.3823093294569137,
          -0.2006682391457628,
          -0.30138272408126215,
          -0.272504940998366,
          -0.221873692544902,
          -0.3349443152876122,
          -0.3275021811234952,
          -0.33377826170896857,
          -0.335281621623806,
          -0.3352658592359187,
          0.7587186579374151,
          -0.3639429711587631,
          -0.3761240604106002,
          -0.3160786730823372,
          -0.3333389246153542,
          -0.33320145983968796,
          -0.38220374488514014,
          -0.4943779684556272,
          -0.04563517203933374,
          -0.2645837331330677,
          -0.3061582593765369,
          -0.2559376697971643,
          -0.25656153717944946,
          -0.3296144705023393,
          -0.3295714531800142,
          -0.33368287406795866,
          0.023810380966555238,
          -0.3531410727515274,
          -0.3825763761139148,
          -0.2614852994773593,
          -0.31865915473350137,
          -0.3824877489379998,
          -0.3104467467909315,
          -0.3339592560717578,
          -0.3199497748042375,
          -0.38245214439465336,
          -0.2619545982457361,
          -0.25634181651000865,
          -0.32636196851110594,
          0.28541672568696325,
          -0.3523432859247252,
          -0.3005921935634715,
          -0.36336300604587046,
          -0.30613851688474947,
          -0.25663708727299855,
          -0.3007767362896824,
          -0.3352677185983321,
          -0.25658915154472417,
          -0.35358704030150817,
          -0.3350013296141936,
          -0.3825578557813075,
          -0.6268485928476609,
          -0.3822015901350006,
          -0.4191362931999351,
          -0.30453548074290016,
          -0.25610938858212423,
          -0.2939165502028531,
          -0.22432265959259404,
          -0.07517718836309971,
          -0.30135356050892975,
          -0.05908316968615435,
          -0.301417460700067,
          -0.2198250526418112,
          -0.33487681023693194,
          -0.3044037980796093,
          -0.3797183112212595,
          0.8503853204880636,
          -0.30121689837969834,
          0.02588339195444615,
          -0.37580642740453246,
          -0.380394868499994,
          -0.2999565222035714,
          -0.297617596148753,
          -0.3415068677546629,
          -0.3812892424574746,
          -0.3829421800967508,
          -0.3111039640917803,
          -0.33491500216821657,
          -0.3333496707111979,
          -0.22644956612187617,
          -0.3410425039959163,
          -0.38203020317462705,
          -0.3341169647899261,
          -0.3013983291202397,
          -0.3825470091908544,
          -0.3351047413393258,
          -0.3352619363262301,
          -0.30439403915059726,
          -0.2838179337392024,
          0.07432174244094514,
          -0.3747605581970867,
          -0.3348750648788442,
          -0.3686678404858899,
          -0.37408751429649845,
          -0.22788459943185313,
          -0.4012176400517958,
          -0.37383497048161407,
          -0.24108147582591488,
          3.6748501803934657,
          -0.3821383819948749,
          0.8785974962243093,
          -0.38250179615864355,
          -0.37522561901740425,
          -0.33480230653886767,
          -0.33495703313555025,
          -0.37580642740453246,
          -0.3820753936219364,
          -0.30126063919854895,
          -0.3348030616164621,
          -0.3609077701222811,
          -0.33495086066868696,
          -0.3305251956073855,
          -0.38253086372386935,
          -0.33415909870653226,
          0.33892878370564083,
          -0.3351507146165725,
          -0.33522150406625423,
          -0.3648200633392123,
          -0.34692741033022323,
          -0.33143666451005316,
          -0.3013746799561724,
          -0.3824405616768371,
          -0.3349986714359157,
          -0.3351259568742826,
          -0.3060446064519728,
          -0.3251784673199678,
          -0.22765179734602387,
          -0.3159254190973456,
          -0.30578511132334074,
          -0.38170406789682293,
          -0.4003011524992745,
          -0.38043904506021387,
          -0.374048026612893,
          -0.3816016809721191,
          -0.3684321099565347,
          -0.3775306028900388,
          -0.3350690945138161,
          -0.3350682593327062,
          -0.328168625224822,
          0.2618120137628123,
          -0.38208162175291427,
          -0.28863439918767114,
          -0.3758407818868448,
          -0.3342774184810318,
          0.9133557721357599,
          -0.2711912779729994,
          -0.3817170682553028,
          0.6131029877823033,
          -0.34304685861007295,
          -0.34154475258500144,
          -0.391778726792003,
          -0.2562733441421695,
          0.13105609135787957,
          -0.256344339651498,
          -0.3643661183221848,
          -0.3912822927674065,
          -0.38235482687060063,
          -0.30611912339634234,
          -0.3757066014769336,
          -0.3347032342908845,
          -0.3352043854940944,
          -0.25889801399543566,
          0.6222144346681671,
          -0.3822954424603468,
          -0.3245991514850831,
          -0.33515984650387814,
          -0.3198658524338616,
          0.4360841289207091,
          -0.2997162970746081,
          -0.32776940189004816,
          -0.3831725436110523,
          -0.3351100365045395,
          -0.3920713675194558,
          -0.347894892569113,
          -0.33498010976898424,
          -0.0984982466670385,
          -0.3810845137943362,
          3.6797202997253877,
          0.2180299837406602,
          -0.25300572427373486,
          -0.33243300571963735,
          -0.31399551777459694,
          -0.3647056474996766,
          0.08042433172469925,
          -0.3341159243074732,
          -0.381667496311507,
          -0.3638678465841412,
          -0.32164621162166124,
          -0.3352265765929107,
          -0.35355889186205297,
          -0.383224874371665,
          -0.282233024134571,
          -0.32086159525818364,
          -0.3307592489567428,
          -0.2194232357954281,
          -0.3383961063219641,
          -0.3823720694916245,
          -0.37491269197711596,
          -0.30527653550224726,
          -0.3310670793183846,
          -0.34264462530467166,
          -0.33525400732465,
          -0.3352356633351327,
          -0.29964181665363965,
          -0.3651382609217752,
          -0.3752998959544992,
          -0.3349513406629985,
          3.8624421005602323,
          -0.3907358469185795,
          -0.37548909264270497,
          -0.3305159176121461,
          -0.28166377583541674,
          -0.41162550435958856,
          -0.30581249151867257,
          -0.13781084704463495,
          -0.30606516455962124,
          -0.3065937850633369,
          -0.3344238015143746,
          -0.19485026708749026,
          2.2300321189804726,
          -0.36040017411469083,
          -0.27131965720420764,
          0.9825043938363653,
          -0.35866477597160595,
          -0.36481947875858645,
          -0.3937606149312166,
          -0.18642592937088573,
          -0.3486080486535142,
          -0.36353535257337427,
          -0.3281085569259066,
          -0.35313506688976276,
          -0.38184392450247223,
          -0.3033026267520525,
          -0.3745860826322748,
          -0.3306537833200889,
          -0.35299593398300727,
          -0.19430489250646257,
          -0.09175881151984734,
          -0.3460916061681453,
          0.32222547045498073,
          -0.1429521590056467,
          -0.3930532113384572,
          -0.28084710585778405,
          -0.334955353653117,
          -0.39351065503811933,
          -0.36493679106240134,
          0.574207588647177,
          -0.3536133556338554,
          -0.33443669775029417,
          -0.3693521512199587,
          -0.2611774571014282,
          -0.379400911601764,
          -0.38207182957609676,
          3.6919961882477583,
          0.1012436237983133,
          -0.3796050271856542,
          -0.3338201811922638,
          -0.33464783743814824,
          -0.2725376305345381,
          -0.3351677229136448,
          -0.3736758833642382,
          -0.24860741933171088,
          -0.08045424597005042,
          -0.3694113314547782,
          -0.334444074589049,
          -0.32748871290309817,
          -0.3786307420399429,
          -0.3328786482252523,
          -0.3760828267538202,
          -0.38876906948970213,
          -0.2998935712077975,
          3.675243148629903,
          -0.11280288610453253,
          -0.330065514517431,
          -0.3292391526096851,
          -0.4267221622698696,
          -0.2567446147526304,
          3.685136896128778,
          3.6863843405418706,
          -0.2533804831121195,
          -0.37601852384595114,
          -0.3898578223660414,
          2.456462765827871,
          -0.3333250661503419,
          -0.3064628258313888
         ],
         "y": [
          0.9217985619639767,
          0.9216656021774245,
          1.454619135275007,
          1.1273005078681493,
          2.094693706334641,
          0.7394703945193797,
          0.6927357034267887,
          1.646422974934029,
          0.9217917255706615,
          0.9219097104964944,
          0.9218200881590617,
          0.9217982709964191,
          0.9217981468776695,
          1.0069308931449834,
          0.8319970643982211,
          1.7287601690462466,
          0.24471795599276125,
          0.921742552586859,
          1.0808634322457933,
          1.1273020156142677,
          1.6901289389541057,
          0.8787810668862837,
          0.7383216531258981,
          0.8750495007859934,
          1.6370202985710294,
          1.6370113897540872,
          0.3899592765450862,
          0.9215868287745163,
          0.9217530060320077,
          0.9269264486589814,
          1.080578694869922,
          1.1273120587856682,
          0.2117321126405616,
          1.6847675465010814,
          1.127306340970553,
          0.9210358045202595,
          0.9217476624794471,
          0.2698777526437967,
          1.1273099922516288,
          0.21179525214393294,
          1.6370145273619796,
          0.9212275818875919,
          2.433391001960558,
          1.6086683771568129,
          0.7394495563853273,
          0.8320084053308359,
          0.875061082995681,
          1.6370019299699385,
          0.8747884437288204,
          0.9217988187368301,
          1.6370040113130813,
          1.0805583582433795,
          0.9217886545510013,
          1.1273123239541534,
          1.701241256813287,
          1.5606105363670695,
          1.2997941000393474,
          0.8750141332451429,
          1.6369829258879305,
          0.7388939655815034,
          1.6466140807028669,
          0.8454249861877831,
          0.7394708109747584,
          1.113388730176619,
          0.7394779302055021,
          1.3216984381602181,
          0.9217750676476395,
          0.8749314692026638,
          1.1270846828502739,
          0.8224335542182641,
          0.739460191113027,
          1.022902623734242,
          1.7287507366242885,
          1.1272908305682625,
          0.7393505721475238,
          0.7391728598437564,
          1.3198979666753394,
          1.1272333606284541,
          1.6935099779097589,
          0.9207470551357556,
          0.9217728926423964,
          0.9217563673493313,
          1.5901480057789448,
          1.080292606337812,
          1.127284938284128,
          0.9217523945095776,
          0.7394708700904828,
          1.1273103836108196,
          0.9217864794222764,
          0.9217989013075897,
          0.8750859941117832,
          0.3056926041811198,
          1.6854704056528178,
          1.7287279574363041,
          0.9218044258261057,
          1.1264630569239442,
          1.7287613145325877,
          1.5902654495765556,
          1.84520359028654,
          1.728582635557149,
          1.6896923972718185,
          2.347621198769421,
          1.127297361708744,
          1.6526277946669783,
          1.1273104332795862,
          1.7287380782345785,
          0.9217785480608055,
          0.9217739220658404,
          1.7287507366242885,
          1.1272773088569314,
          0.7394735347113451,
          0.921782406474296,
          0.7345671105628916,
          0.921783787960168,
          0.9214121140218721,
          1.127309217346192,
          0.9217140786531601,
          0.8615638644209348,
          0.9217914102111853,
          0.9217971628967201,
          1.553099352268084,
          0.5654459668470428,
          0.9215043207182155,
          0.7394712078001939,
          1.1273074659773354,
          0.9217886925097477,
          0.9217855246148791,
          0.8750240114397212,
          0.3844154903158168,
          1.5902603757870006,
          0.9213766156580244,
          0.8750420858352477,
          1.1272546749496424,
          1.70752438196234,
          1.1272657553486574,
          1.7287127870268273,
          1.1272561370334049,
          1.7285906456531255,
          1.1270349076366577,
          0.921786840310811,
          0.9217816924624951,
          0.9212017828565857,
          0.6479936596267373,
          1.1272911881358751,
          0.8739142198799982,
          1.728743261934511,
          0.9217396270708335,
          1.6000215040735084,
          0.6926234516788049,
          1.693481028168571,
          1.5395289075765557,
          1.3199318484950682,
          1.3198764733556836,
          1.7912883456617505,
          1.6369945528215328,
          0.8935373744059933,
          1.6370012926326913,
          1.7904363646287478,
          1.7912954347322396,
          1.1273085832229675,
          0.8750492034715227,
          1.7287231082710481,
          0.9217731798450713,
          0.9217967898071391,
          2.0963130364119977,
          1.7611597703728934,
          1.1272972141201174,
          0.38975416390367384,
          0.9217893708186062,
          0.7790418855435497,
          0.9153534409477957,
          0.7394397150276659,
          1.3193189014644666,
          1.7325644368305435,
          0.9217864038073955,
          1.5997346983548961,
          1.58302206170865,
          0.921792597494556,
          0.6889435491171751,
          1.1272327920965786,
          2.34742883994054,
          1.3069986767271262,
          1.636915500435614,
          0.9216926321206939,
          1.2731806277709996,
          1.5530974940704316,
          0.8928143536313465,
          0.9217105047179679,
          1.1272901177327397,
          1.5530396167722413,
          0.9213647639086532,
          0.9217966126007435,
          1.0805580617918484,
          1.6935118775317557,
          0.053717765196698006,
          0.3747664246803585,
          0.9217011683041616,
          1.5898292951746913,
          0.7805524661438292,
          1.1272975167089059,
          1.8713422410776417,
          0.874986789134326,
          1.4904515343086968,
          1.319909655947566,
          0.9217969193011303,
          0.9217957844313717,
          0.8748046503643466,
          1.6354912334918048,
          1.728710477949555,
          0.9217823842842005,
          2.472463911043131,
          1.5997537695692166,
          1.7287133635102858,
          0.7448916048550658,
          0.9189870560495714,
          2.0438493363126446,
          0.8750475799515304,
          0.9174947094802258,
          0.8750314003893579,
          1.693929313062655,
          0.9217522033506833,
          1.5998367555545476,
          0.21740778307017536,
          1.5527189773446715,
          0.6926913351874779,
          2.0073223080021805,
          0.7916171169578805,
          1.5530951701509186,
          1.5998466605784105,
          0.86498140218769,
          0.8257652430087984,
          1.5530583329983316,
          0.9212026406310009,
          1.0805403680379964,
          1.127287598340796,
          0.8749199926493111,
          1.7286354650721594,
          0.8329855580984822,
          1.0805109263665738,
          0.911240370892316,
          2.9404084914810924,
          1.8246070895542361,
          2.64381951947206,
          1.08358018943262,
          1.5998226456206563,
          0.056318410942764394,
          0.9217886126762137,
          1.599840532568318,
          1.5530988238075827,
          0.8825449826617597,
          1.0805581919840732,
          0.9217520191926263,
          1.8711143447526233,
          1.691155644493138,
          1.1270640725223104,
          1.1272983120762947,
          2.347254934032067,
          0.9035878152333428,
          1.1273544903025896,
          0.921679807383853,
          0.921769777569582,
          0.6927293001286597,
          0.9218002466737204,
          1.127089952974165,
          0.9157030128271404,
          0.7425079168823996,
          1.1268016452979903,
          0.9218001041986141,
          0.9216305384912604,
          1.1272231336277472,
          0.9217211888937429,
          1.7287544721647994,
          0.7307732875895794,
          0.7394336915015399,
          2.3476024229613364,
          0.8708316337445691,
          0.9216635828853309,
          0.3899252470038623,
          0.6089257490952595,
          1.6370086915997653,
          2.3478553942706606,
          2.3478732077583286,
          0.692319119708315,
          1.728755645929954,
          1.9642093497331305,
          1.0322441359745411,
          0.9216519570778867,
          0.8750557534579171
         ],
         "z": [
          -0.4658902744492687,
          -0.4664548515510434,
          -0.6093517605935361,
          -0.42734733894114935,
          -0.08358034447413909,
          -0.3269744963280445,
          -0.028473191379649113,
          -0.6204291077896162,
          -0.4659013270461962,
          -0.4661735637326649,
          -0.4659451391771216,
          -0.46589038189014753,
          -0.46589091465754656,
          -0.26996242899831957,
          -0.3545953455675445,
          0.039590542397898554,
          -0.33246989975263863,
          -0.46595130820304487,
          -0.1295833523071357,
          -0.42735118180272025,
          -0.34874162679371784,
          -0.17687929031273816,
          -0.32811764128063997,
          -0.16739595425759196,
          -0.5407315585547403,
          -0.5407088522450333,
          -0.31140967238954087,
          -0.4660638765149464,
          -0.4659405903376674,
          -0.478959954021873,
          -0.1288576291181047,
          -0.4273394199520824,
          0.06397982569316728,
          -0.03661973769636267,
          -0.4273418272874151,
          -0.4666633660774584,
          -0.46593036743871324,
          -0.40135248913896815,
          -0.42734349144384437,
          0.06398872205739764,
          -0.540716849209951,
          -0.46613322038860927,
          -0.19945195361885223,
          -0.010217872377481384,
          -0.32699950375914766,
          -0.3546168124784774,
          -0.1673979970193209,
          -0.5407051204089184,
          -0.16755222337402942,
          -0.4658909288266771,
          -0.540707028765342,
          -0.12883976080831902,
          -0.4658989874823715,
          -0.4273400941009142,
          0.06650377442828626,
          -0.7511318868110552,
          -0.043255851990746635,
          -0.16744815694798568,
          -0.5407212165398265,
          -0.3271661935361728,
          -0.6203664676648811,
          -0.3980622390871157,
          -0.3269755577669403,
          -0.43694037506486083,
          -0.32697417324194766,
          -0.5503262006216326,
          -0.4659017189593097,
          -0.16744304241713517,
          -0.4274120147611245,
          -0.2013884831994935,
          -0.32697905856243764,
          -0.2463880661862323,
          0.03958061866211529,
          -0.42741268010492695,
          -0.32700997659359576,
          -0.32707036530162525,
          -0.5458900971151313,
          -0.42737489049861094,
          -0.016614909202496204,
          -0.46660670892973133,
          -0.4659001379577952,
          -0.46595255393921403,
          -0.2422353208455314,
          -0.12924419867991635,
          -0.42735520644356034,
          -0.46592544588981744,
          -0.32697401020881534,
          -0.42734024334624005,
          -0.46589514186126163,
          -0.4658911392785531,
          -0.16746148912170108,
          -0.1334720338761575,
          -0.6993078128525242,
          0.03954697265143065,
          -0.46590521987188177,
          -0.42772287194789194,
          0.03951969385448098,
          -0.24219925519823607,
          -0.6071246179178416,
          0.03953186317880683,
          -0.6888509221243301,
          -0.10701160440275106,
          -0.42735290601322246,
          -0.5819545932946347,
          -0.4273418190836465,
          0.039561934807285974,
          -0.4659047137751136,
          -0.4658987991625175,
          0.03958061866211529,
          -0.4273527432638726,
          -0.32697910342095104,
          -0.4659051397011722,
          -0.1453790623916154,
          -0.46590016961208536,
          -0.4660102862597255,
          -0.42734066729233305,
          -0.4659194928821888,
          -0.18821479531533536,
          -0.46589412335612396,
          -0.46589233948045916,
          -0.11293902000402213,
          -0.2874764620374869,
          -0.4659894427797984,
          -0.3269748709450212,
          -0.427343597587735,
          -0.46589908422956666,
          -0.465894293313165,
          -0.16739691364632914,
          -0.16303937727666187,
          -0.24220674414032473,
          -0.46651306958410343,
          -0.1674080420391878,
          -0.4273629843510198,
          -0.5713322665879024,
          -0.42740820776218574,
          0.039524009384560306,
          -0.4273667108308586,
          0.03934332280159707,
          -0.4274821449679097,
          -0.46589642190444736,
          -0.4658958476586527,
          -0.4660674652168535,
          -0.04178304847705753,
          -0.4273541534361261,
          -0.16787139263454545,
          0.039582687455457614,
          -0.4659183783702022,
          -0.6544097910114826,
          -0.02850565115227262,
          -0.01665405590514381,
          -0.7814089412183807,
          -0.5458405949343594,
          -0.5458862629794264,
          -0.6097762912548834,
          -0.5407168860563648,
          -0.4787711453962811,
          -0.5407152107010988,
          -0.11714990078340314,
          -0.609794359493473,
          -0.42734670545210957,
          -0.16739727832266296,
          0.03958039004099131,
          -0.4659075247586534,
          -0.465892890162791,
          -0.08174821103684701,
          0.001313407876283302,
          -0.427347435160094,
          -0.3115597817153317,
          -0.4658935672884492,
          -0.048827771546280756,
          -0.491919026263119,
          -0.32702876397071895,
          -0.5462992413719211,
          -0.3340081521694384,
          -0.46589494913815305,
          -0.41148515899011273,
          -0.05410954164646573,
          -0.4659001863419096,
          -0.034070787878050714,
          -0.4273819326007789,
          -0.10715816655124806,
          -0.5638071178594363,
          -0.540821082854424,
          -0.46597691424196375,
          -0.24734337936535344,
          -0.11294277507596316,
          -0.4769283492382173,
          -0.46592057320437297,
          -0.4273684075414227,
          -0.11296508346351485,
          -0.46631303957988857,
          -0.4658920988629202,
          -0.12884070345780474,
          -0.016605315908900305,
          0.12999438921934292,
          0.018607347836621015,
          -0.466036031843399,
          -0.24244194598071042,
          -0.3064623453599207,
          -0.4273448099238397,
          -0.2785355015143575,
          -0.16741922125844722,
          0.06691254708711061,
          -0.5458519609354063,
          -0.4658911823351623,
          -0.46589168629879624,
          -0.16759352996815477,
          -0.10635830742595627,
          0.03956774821265476,
          -0.46589998845702435,
          -0.007332210512695291,
          -0.4115337666673915,
          0.039573979484509844,
          0.011890252819284082,
          -0.4674227070057849,
          0.10555043945330243,
          -0.16740773514838586,
          -0.4722427850651974,
          -0.1673970656807713,
          -0.6870726588681132,
          -0.46591476929991865,
          -0.32188081311129463,
          -0.36967898458963894,
          -0.11304791648288104,
          -0.02850914834486732,
          -0.04877096081534219,
          -0.2866352867080692,
          -0.11293855022495937,
          -0.4114396239986067,
          -0.17037355980551844,
          -0.34733245631215537,
          -0.11297882178446342,
          -0.46606965146578616,
          -0.12885334636577309,
          -0.42736198625180455,
          -0.16747993315292414,
          0.03955175302079593,
          -0.35254302605685606,
          -0.12885472733811387,
          -0.469548252710427,
          -0.15230604502208808,
          0.01996782606967983,
          0.22340941395233763,
          -0.13650767575927988,
          -0.41146137276830647,
          0.1384022365769885,
          -0.4659005789832615,
          -0.41144758516771773,
          -0.11293490497914371,
          -0.4928704143252749,
          -0.12883882758688814,
          -0.46591429992784505,
          -0.27870187250916506,
          -0.6883246052537475,
          -0.4274206205212521,
          -0.42735532825851913,
          -0.1075640391378296,
          -0.4789137280001411,
          -0.4274475654041222,
          -0.46592724495710136,
          -0.4659090495927886,
          -0.028471305947646023,
          -0.46589456827481973,
          -0.427622441540338,
          -0.4681856744808193,
          -0.3350016711589445,
          -0.4277367331027148,
          -0.4659196785781701,
          -0.46614131689006594,
          -0.4274660022800015,
          -0.4659647867432231,
          0.039589778238815855,
          -0.12086140202563955,
          -0.32702190267923525,
          -0.10702304908312828,
          -0.17361550174936058,
          -0.46605571574259763,
          -0.3114187167093047,
          -2.7831852275642657,
          -0.5407021791230442,
          -0.10739623056659124,
          -0.10744163261835651,
          -0.029088426594601396,
          0.03958740792390732,
          0.34824455786091435,
          -0.08789281661271568,
          -0.4659411730608477,
          -0.167386111611443
         ]
        },
        {
         "customdata": [
          [
           "SHA-256"
          ],
          [
           "Ethash"
          ],
          [
           "Scrypt"
          ],
          [
           "CryptoNight-V7"
          ],
          [
           "Ethash"
          ],
          [
           "Equihash"
          ],
          [
           "Multiple"
          ],
          [
           "Scrypt"
          ],
          [
           "X11"
          ],
          [
           "Scrypt"
          ],
          [
           "Multiple"
          ],
          [
           "Scrypt"
          ],
          [
           "SHA-256"
          ],
          [
           "Scrypt"
          ],
          [
           "Scrypt"
          ],
          [
           "Quark"
          ],
          [
           "Groestl"
          ],
          [
           "Scrypt"
          ],
          [
           "Scrypt"
          ],
          [
           "Scrypt"
          ],
          [
           "X11"
          ],
          [
           "Multiple"
          ],
          [
           "SHA-256"
          ],
          [
           "Scrypt"
          ],
          [
           "Scrypt"
          ],
          [
           "Scrypt"
          ],
          [
           "Scrypt"
          ],
          [
           "Scrypt"
          ],
          [
           "NeoScrypt"
          ],
          [
           "Scrypt"
          ],
          [
           "Scrypt"
          ],
          [
           "Scrypt"
          ],
          [
           "Scrypt"
          ],
          [
           "SHA-256"
          ],
          [
           "Scrypt"
          ],
          [
           "Scrypt"
          ],
          [
           "Scrypt"
          ],
          [
           "Scrypt"
          ],
          [
           "HybridScryptHash256"
          ],
          [
           "Scrypt"
          ],
          [
           "Scrypt"
          ],
          [
           "SHA-256"
          ],
          [
           "Scrypt"
          ],
          [
           "Scrypt"
          ],
          [
           "Scrypt"
          ],
          [
           "Scrypt"
          ],
          [
           "SHA-256"
          ],
          [
           "SHA-256"
          ],
          [
           "SHA-256"
          ],
          [
           "SHA-256"
          ],
          [
           "SHA-256"
          ],
          [
           "X11"
          ],
          [
           "Scrypt"
          ],
          [
           "Lyra2REv2"
          ],
          [
           "Scrypt"
          ],
          [
           "SHA-256"
          ],
          [
           "CryptoNight"
          ],
          [
           "CryptoNight"
          ],
          [
           "Scrypt"
          ],
          [
           "Scrypt"
          ],
          [
           "Scrypt"
          ],
          [
           "Scrypt"
          ],
          [
           "Scrypt"
          ],
          [
           "Scrypt"
          ],
          [
           "Stanford Folding"
          ],
          [
           "Multiple"
          ],
          [
           "QuBit"
          ],
          [
           "Scrypt"
          ],
          [
           "Scrypt"
          ],
          [
           "M7 POW"
          ],
          [
           "Scrypt"
          ],
          [
           "SHA-256"
          ],
          [
           "Scrypt"
          ],
          [
           "X11"
          ],
          [
           "Lyra2RE"
          ],
          [
           "SHA-256"
          ],
          [
           "X11"
          ],
          [
           "Scrypt"
          ],
          [
           "Scrypt"
          ],
          [
           "Ethash"
          ],
          [
           "Blake2b"
          ],
          [
           "X11"
          ],
          [
           "SHA-256"
          ],
          [
           "Scrypt"
          ],
          [
           "1GB AES Pattern Search"
          ],
          [
           "Scrypt"
          ],
          [
           "SHA-256"
          ],
          [
           "X11"
          ],
          [
           "Dagger"
          ],
          [
           "Scrypt"
          ],
          [
           "X11GOST"
          ],
          [
           "Scrypt"
          ],
          [
           "X11"
          ],
          [
           "Scrypt"
          ],
          [
           "X11"
          ],
          [
           "Equihash"
          ],
          [
           "CryptoNight"
          ],
          [
           "SHA-256"
          ],
          [
           "Multiple"
          ],
          [
           "Scrypt"
          ],
          [
           "SHA-256"
          ],
          [
           "Scrypt"
          ],
          [
           "Lyra2Z"
          ],
          [
           "Ethash"
          ],
          [
           "Equihash"
          ],
          [
           "Scrypt"
          ],
          [
           "X11"
          ],
          [
           "X11"
          ],
          [
           "CryptoNight"
          ],
          [
           "Scrypt"
          ],
          [
           "CryptoNight"
          ],
          [
           "Lyra2RE"
          ],
          [
           "X11"
          ],
          [
           "CryptoNight-V7"
          ],
          [
           "Scrypt"
          ],
          [
           "X11"
          ],
          [
           "Equihash"
          ],
          [
           "Scrypt"
          ],
          [
           "Lyra2RE"
          ],
          [
           "Dagger-Hashimoto"
          ],
          [
           "Scrypt"
          ],
          [
           "NIST5"
          ],
          [
           "Scrypt"
          ],
          [
           "SHA-256"
          ],
          [
           "Scrypt"
          ],
          [
           "CryptoNight-V7"
          ],
          [
           "Argon2d"
          ],
          [
           "Blake2b"
          ],
          [
           "Cloverhash"
          ],
          [
           "CryptoNight"
          ],
          [
           "X11"
          ],
          [
           "Scrypt"
          ],
          [
           "Scrypt"
          ],
          [
           "X11"
          ],
          [
           "X11"
          ],
          [
           "CryptoNight"
          ],
          [
           "Time Travel"
          ],
          [
           "Scrypt"
          ],
          [
           "Keccak"
          ],
          [
           "X11"
          ],
          [
           "SHA-256"
          ],
          [
           "Scrypt"
          ],
          [
           "Scrypt"
          ],
          [
           "Scrypt"
          ],
          [
           "Scrypt"
          ],
          [
           "Scrypt"
          ],
          [
           "Scrypt"
          ],
          [
           "CryptoNight"
          ],
          [
           "Equihash"
          ],
          [
           "X11"
          ],
          [
           "NeoScrypt"
          ],
          [
           "Equihash"
          ],
          [
           "Dagger"
          ],
          [
           "Scrypt"
          ],
          [
           "X11"
          ],
          [
           "NeoScrypt"
          ],
          [
           "Ethash"
          ],
          [
           "NeoScrypt"
          ],
          [
           "Multiple"
          ],
          [
           "CryptoNight"
          ],
          [
           "CryptoNight"
          ],
          [
           "Ethash"
          ],
          [
           "X11"
          ],
          [
           "CryptoNight-V7"
          ],
          [
           "Scrypt"
          ],
          [
           "BLAKE256"
          ],
          [
           "X11"
          ],
          [
           "NeoScrypt"
          ],
          [
           "NeoScrypt"
          ],
          [
           "Scrypt"
          ],
          [
           "X11"
          ],
          [
           "SHA-256"
          ],
          [
           "C11"
          ],
          [
           "CryptoNight"
          ],
          [
           "SkunkHash"
          ],
          [
           "CryptoNight"
          ],
          [
           "Scrypt"
          ],
          [
           "Dagger"
          ],
          [
           "Lyra2REv2"
          ],
          [
           "Scrypt"
          ],
          [
           "Scrypt"
          ],
          [
           "X11"
          ],
          [
           "Proof-of-Authority"
          ],
          [
           "Ethash"
          ],
          [
           "CryptoNight"
          ],
          [
           "Scrypt"
          ],
          [
           "IMesh"
          ],
          [
           "Equihash"
          ],
          [
           "Lyra2Z"
          ],
          [
           "X11"
          ],
          [
           "CryptoNight"
          ],
          [
           "NIST5"
          ],
          [
           "Lyra2RE"
          ],
          [
           "Tribus"
          ],
          [
           "Lyra2Z"
          ],
          [
           "CryptoNight"
          ],
          [
           "CryptoNight Heavy"
          ],
          [
           "CryptoNight"
          ],
          [
           "Jump Consistent Hash"
          ],
          [
           "CryptoNight"
          ],
          [
           "X16R"
          ],
          [
           "HMQ1725"
          ],
          [
           "X11"
          ],
          [
           "Scrypt"
          ],
          [
           "CryptoNight-V7"
          ],
          [
           "Cryptonight-GPU"
          ],
          [
           "XEVAN"
          ],
          [
           "CryptoNight Heavy"
          ],
          [
           "SHA-256"
          ],
          [
           "X11"
          ],
          [
           "X16R"
          ],
          [
           "ECC 256K1"
          ],
          [
           "Equihash"
          ],
          [
           "Lyra2Z"
          ],
          [
           "SHA-256"
          ],
          [
           "CryptoNight"
          ],
          [
           "Blake"
          ],
          [
           "Blake"
          ],
          [
           "Exosis"
          ],
          [
           "Scrypt"
          ],
          [
           "Equihash"
          ],
          [
           "Equihash"
          ],
          [
           "QuBit"
          ],
          [
           "SHA-256"
          ],
          [
           "X13"
          ],
          [
           "SHA-256"
          ],
          [
           "Scrypt"
          ],
          [
           "NeoScrypt"
          ],
          [
           "Blake"
          ],
          [
           "Scrypt"
          ],
          [
           "SHA-256"
          ],
          [
           "Scrypt"
          ],
          [
           "Groestl"
          ],
          [
           "Scrypt"
          ],
          [
           "Scrypt"
          ],
          [
           "Multiple"
          ],
          [
           "Equihash+Scrypt"
          ],
          [
           "Ethash"
          ],
          [
           "CryptoNight"
          ],
          [
           "Equihash"
          ]
         ],
         "hovertemplate": "<b>%{hovertext}</b><br><br>Class=%{marker.color}<br>PC 1=%{x}<br>PC 2=%{y}<br>PC 3=%{z}<br>Algorithm=%{customdata[0]}<extra></extra>",
         "hovertext": [
          "Bitcoin",
          "Ethereum",
          "Litecoin",
          "Monero",
          "Ethereum Classic",
          "ZCash",
          "DigiByte",
          "ProsperCoin",
          "Spreadcoin",
          "Argentum",
          "MyriadCoin",
          "MoonCoin",
          "ZetaCoin",
          "SexCoin",
          "Quatloo",
          "QuarkCoin",
          "Riecoin",
          "Digitalcoin ",
          "Catcoin",
          "CannaCoin",
          "CryptCoin",
          "Verge",
          "DevCoin",
          "EarthCoin",
          "E-Gulden",
          "Einsteinium",
          "Emerald",
          "Franko",
          "FeatherCoin",
          "GrandCoin",
          "GlobalCoin",
          "GoldCoin",
          "Infinite Coin",
          "IXcoin",
          "KrugerCoin",
          "LuckyCoin",
          "Litebar ",
          "MegaCoin",
          "MediterraneanCoin",
          "MinCoin",
          "NobleCoin",
          "Namecoin",
          "NyanCoin",
          "RonPaulCoin",
          "StableCoin",
          "SmartCoin",
          "SysCoin",
          "TigerCoin",
          "TerraCoin",
          "UnbreakableCoin",
          "Unobtanium",
          "UroCoin",
          "ViaCoin",
          "Vertcoin",
          "WorldCoin",
          "JouleCoin",
          "ByteCoin",
          "DigitalNote ",
          "MonaCoin",
          "Gulden",
          "PesetaCoin",
          "Wild Beast Coin",
          "Flo",
          "ArtByte",
          "Folding Coin",
          "Unitus",
          "CypherPunkCoin",
          "OmniCron",
          "GreenCoin",
          "Cryptonite",
          "MasterCoin",
          "SoonCoin",
          "1Credit",
          "MarsCoin ",
          "Crypto",
          "Anarchists Prime",
          "BowsCoin",
          "Song Coin",
          "BitZeny",
          "Expanse",
          "Siacoin",
          "MindCoin",
          "I0coin",
          "Revolution VR",
          "HOdlcoin",
          "Gamecredits",
          "CarpeDiemCoin",
          "Adzcoin",
          "SoilCoin",
          "YoCoin",
          "SibCoin",
          "Francs",
          "BolivarCoin",
          "Omni",
          "PizzaCoin",
          "Komodo",
          "Karbo",
          "ZayedCoin",
          "Circuits of Value",
          "DopeCoin",
          "DollarCoin",
          "Shilling",
          "ZCoin",
          "Elementrem",
          "ZClassic",
          "KiloCoin",
          "ArtexCoin",
          "Kurrent",
          "Cannabis Industry Coin",
          "OsmiumCoin",
          "Bikercoins",
          "HexxCoin",
          "PacCoin",
          "Citadel",
          "BeaverCoin",
          "VaultCoin",
          "Zero",
          "Canada eCoin",
          "Zoin",
          "DubaiCoin",
          "EB3coin",
          "Coinonat",
          "BenjiRolls",
          "ILCoin",
          "EquiTrader",
          "Quantum Resistant Ledger",
          "Dynamic",
          "Nano",
          "ChanCoin",
          "Dinastycoin",
          "DigitalPrice",
          "Unify",
          "SocialCoin",
          "ArcticCoin",
          "DAS",
          "LeviarCoin",
          "Bitcore",
          "gCn Coin",
          "SmartCash",
          "Onix",
          "Bitcoin Cash",
          "Sojourn Coin",
          "NewYorkCoin",
          "FrazCoin",
          "Kronecoin",
          "AdCoin",
          "Linx",
          "Sumokoin",
          "BitcoinZ",
          "Elements",
          "VIVO Coin",
          "Bitcoin Gold",
          "Pirl",
          "eBoost",
          "Pura",
          "Innova",
          "Ellaism",
          "GoByte",
          "SHIELD",
          "UltraNote",
          "BitCoal",
          "DaxxCoin",
          "AC3",
          "Lethean",
          "PopularCoin",
          "Photon",
          "Sucre",
          "SparksPay",
          "GunCoin",
          "IrishCoin",
          "Pioneer Coin",
          "UnitedBitcoin",
          "Interzone",
          "TurtleCoin",
          "MUNcoin",
          "Niobio Cash",
          "ShareChain",
          "Travelflex",
          "KREDS",
          "BitFlip",
          "LottoCoin",
          "Crypto Improvement Fund",
          "Poa Network",
          "Callisto Network",
          "BitTube",
          "Poseidon",
          "Aidos Kuneen",
          "Bitrolium",
          "Alpenschillling",
          "FuturoCoin",
          "Monero Classic",
          "Jumpcoin",
          "Infinex",
          "KEYCO",
          "GINcoin",
          "PlatinCoin",
          "Loki",
          "Newton Coin",
          "MassGrid",
          "PluraCoin",
          "Motion",
          "PlusOneCoin",
          "Axe",
          "HexCoin",
          "Webchain",
          "Ryo",
          "Urals Coin",
          "Qwertycoin",
          "Project Pai",
          "Azart",
          "Xchange",
          "Acute Angle Cloud",
          "CrypticCoin",
          "Actinium",
          "Bitcoin SV",
          "FREDEnergy",
          "Universal Molecule",
          "Lithium",
          "Exosis",
          "Block-Logic",
          "Beam",
          "Bithereum",
          "SLICE",
          "BLAST",
          "Bitcoin Rhodium",
          "GlobalToken",
          "SolarCoin",
          "UFO Coin",
          "BlakeCoin",
          "Crypto Escudo",
          "Crown Coin",
          "SmileyCoin",
          "Groestlcoin",
          "Bata",
          "Pakcoin",
          "JoinCoin",
          "Vollar",
          "Reality Clash",
          "Beldex",
          "Horizen"
         ],
         "legendgroup": "1",
         "marker": {
          "color": [
           1,
           1,
           1,
           1,
           1,
           1,
           1,
           1,
           1,
           1,
           1,
           1,
           1,
           1,
           1,
           1,
           1,
           1,
           1,
           1,
           1,
           1,
           1,
           1,
           1,
           1,
           1,
           1,
           1,
           1,
           1,
           1,
           1,
           1,
           1,
           1,
           1,
           1,
           1,
           1,
           1,
           1,
           1,
           1,
           1,
           1,
           1,
           1,
           1,
           1,
           1,
           1,
           1,
           1,
           1,
           1,
           1,
           1,
           1,
           1,
           1,
           1,
           1,
           1,
           1,
           1,
           1,
           1,
           1,
           1,
           1,
           1,
           1,
           1,
           1,
           1,
           1,
           1,
           1,
           1,
           1,
           1,
           1,
           1,
           1,
           1,
           1,
           1,
           1,
           1,
           1,
           1,
           1,
           1,
           1,
           1,
           1,
           1,
           1,
           1,
           1,
           1,
           1,
           1,
           1,
           1,
           1,
           1,
           1,
           1,
           1,
           1,
           1,
           1,
           1,
           1,
           1,
           1,
           1,
           1,
           1,
           1,
           1,
           1,
           1,
           1,
           1,
           1,
           1,
           1,
           1,
           1,
           1,
           1,
           1,
           1,
           1,
           1,
           1,
           1,
           1,
           1,
           1,
           1,
           1,
           1,
           1,
           1,
           1,
           1,
           1,
           1,
           1,
           1,
           1,
           1,
           1,
           1,
           1,
           1,
           1,
           1,
           1,
           1,
           1,
           1,
           1,
           1,
           1,
           1,
           1,
           1,
           1,
           1,
           1,
           1,
           1,
           1,
           1,
           1,
           1,
           1,
           1,
           1,
           1,
           1,
           1,
           1,
           1,
           1,
           1,
           1,
           1,
           1,
           1,
           1,
           1,
           1,
           1,
           1,
           1,
           1,
           1,
           1,
           1,
           1,
           1,
           1,
           1,
           1,
           1,
           1,
           1,
           1,
           1,
           1,
           1,
           1,
           1,
           1,
           1,
           1,
           1,
           1,
           1,
           1,
           1,
           1,
           1,
           1,
           1,
           1,
           1,
           1,
           1,
           1,
           1,
           1,
           1,
           1
          ],
          "coloraxis": "coloraxis",
          "symbol": "diamond"
         },
         "mode": "markers",
         "name": "1",
         "scene": "scene",
         "showlegend": true,
         "type": "scatter3d",
         "x": [
          -0.1391567105965107,
          -0.1477301637754863,
          -0.17188687419306292,
          -0.1414610800877914,
          -0.14616734369632214,
          -0.14830393279323223,
          0.1590840706340978,
          -0.17303639457288983,
          -0.2202682856530178,
          -0.17265176888674308,
          -0.09506252273269246,
          2.5573479494238587,
          -0.1362333388160897,
          -0.16989920487622798,
          -0.1724551594944084,
          -0.22690463106202452,
          -0.20078102193709962,
          -0.17250422224876225,
          -0.17301861287292544,
          -0.17310532519136249,
          -0.2203578745935616,
          0.1828834425027222,
          0.2397714786977035,
          0.07633597090970246,
          -0.1728509131382606,
          -0.16844353936015247,
          -0.1727900094887247,
          -0.17316248743970986,
          -0.16270607740370327,
          -0.15232455082452978,
          -0.17195416914295444,
          -0.1722323564026636,
          1.5807329240135917,
          -0.1391179760811722,
          -0.16951385636089641,
          -0.17287742898277333,
          -0.17323325517590998,
          -0.172490386117531,
          -0.1811662061664455,
          -0.17311417532109238,
          -0.03760942190624013,
          -0.13919579545497116,
          -0.16676002869845372,
          -0.1730935273206899,
          -0.17118202546885766,
          -0.1725787957046992,
          -0.12631061826058104,
          -0.13865804005633925,
          -0.1389460333164583,
          -0.13892885470241514,
          -0.13952139764541782,
          -0.2205322926690091,
          -0.172809247676324,
          -0.1858912093098134,
          -0.16990388373566725,
          -0.13872552214547607,
          3.8829034856744107,
          0.4721800533179249,
          -0.17167354036817473,
          -0.15622611908502435,
          -0.17038872087236992,
          -0.173235466472154,
          -0.17025341688611467,
          -0.15643738271553753,
          -0.11132849769536472,
          -0.12916681068434963,
          -0.18575098639289356,
          -0.17310820027117746,
          -0.045673307075707735,
          -0.10208853728220704,
          -0.1732443891672672,
          -0.13922364773834145,
          0.4809519856984999,
          -0.2199177273702426,
          -0.16324267341694482,
          -0.1389627084802265,
          -0.22020343009104726,
          -0.17136247343136388,
          -0.17055241821677905,
          -0.14880044278527257,
          0.38109500297335347,
          -0.22023893758314408,
          -0.13911910145333198,
          -0.16919072372463642,
          -0.15552951860571845,
          -0.17180361724699292,
          0.28055784050876964,
          -0.21939719043036077,
          -0.1470127287678801,
          -0.17205144872308034,
          -0.1514907150341548,
          -0.17303367546240941,
          -0.22020205431591588,
          -0.1732444478289142,
          -0.22035242912797876,
          -0.2555979805605068,
          0.31663641830147443,
          -0.13937992135872573,
          -0.1091819357330023,
          -0.17040291682957986,
          -0.13933843687322084,
          -0.17290685121224092,
          -0.14683880758626794,
          -0.14854187687899917,
          -0.14832560806062853,
          -0.0997423758730454,
          -0.20689815844620463,
          -0.21817410719368802,
          0.3166308007936553,
          -0.17322613006560877,
          0.31676188103326924,
          -0.163784744661889,
          0.4971254674531106,
          -0.14022189024508513,
          -0.17319432982089372,
          -0.2130639300997146,
          -0.14833802845836067,
          -0.1713222726207792,
          -0.1635023326382009,
          -0.12836502206122788,
          -0.1440274535787737,
          -0.18067262857615582,
          -0.1727554300439237,
          -0.10560673944344062,
          -0.17257690404405648,
          -0.14007948795166889,
          -0.14696403465522348,
          -0.02028504695384888,
          -0.14364292698874445,
          0.352856148397237,
          -0.21940555760226382,
          -0.17289718659324335,
          -0.17265975949074153,
          -0.21980142294604396,
          -0.2203805558784171,
          0.317026953091234,
          -0.12528513225787022,
          3.2462491999218965,
          -0.10827870323776806,
          -0.21122479314398304,
          -0.13915587256286951,
          -0.09858547671796575,
          1.578479620818489,
          -0.17299529543848785,
          -0.17244526598714832,
          -0.17214538694863074,
          -0.17213228267656738,
          0.3172111640892414,
          0.06462426392581663,
          -0.1746392004348653,
          -0.16740838700773011,
          -0.14818365288010343,
          -0.1457680965727314,
          -0.17132047695245456,
          -0.21591197231919448,
          -0.16725332758775205,
          -0.1469019008233875,
          -0.16735384291229638,
          -0.11937030180312791,
          1.1570895441669107,
          0.3166134980959413,
          -0.07155915993909723,
          -0.21565223979305612,
          -0.1291595006442139,
          -0.08914282612433248,
          1.0951395631107383,
          -0.22035448170669364,
          -0.16740595740450845,
          -0.16042361425327642,
          -0.17224414479590652,
          -0.22027967848211952,
          -0.1391352170197791,
          -0.17633261942241168,
          8.078345687133968,
          -0.12341886821358536,
          0.3204993511387511,
          0.020346413274932997,
          -0.14527014593955642,
          -0.17140726013866955,
          -0.17281948808739708,
          0.13513993753386538,
          -0.21440335234978647,
          -0.4200241089018667,
          -0.0997949695376332,
          0.32456098572189984,
          -0.17305719513518172,
          -0.15075278115786434,
          -0.14717187695971914,
          -0.14461550078848373,
          -0.21944643991298765,
          0.31679652657056434,
          -0.18073233318590465,
          -0.16362951665952769,
          -0.159922997118634,
          -0.146923444587479,
          0.32073709481654916,
          0.5846569671644701,
          2.130714300034418,
          -0.1775058390465967,
          0.33044111612916705,
          -0.1974182120640851,
          -0.13783370707254222,
          -0.2203365901995581,
          -0.17308183986709885,
          -0.12903677520340748,
          -0.1464400661188045,
          -0.21164123876227176,
          3.114571409091551,
          -0.09886904931861851,
          -0.22030786649895928,
          -0.19684415581233392,
          -0.34324867706503615,
          -0.04262320774528065,
          -0.1463193507853587,
          -0.13915591022956145,
          0.3967961281257866,
          -0.13463037806882452,
          -0.13502370146942283,
          -0.1443899686175761,
          -0.17197085440856974,
          -0.1462377946393054,
          -0.14801599113609215,
          -0.1849595297139951,
          -0.13842997119252776,
          -0.0946886079736048,
          -0.13729454317158005,
          0.5250083276957221,
          -0.09235778593680977,
          -0.08533446740918903,
          -0.15658837470402237,
          -0.13894540207064807,
          0.5446751278584475,
          -0.20034077507653483,
          -0.17315893726183346,
          -0.17110860181113577,
          -0.12990366833277583,
          -0.12594250888040467,
          -0.14857512999721506,
          0.33843347132206186,
          -0.1483049925900208
         ],
         "y": [
          -1.2776973943222716,
          -1.916691777909927,
          -1.0954118440568286,
          -2.1344767186420643,
          -1.9168161271363313,
          -1.9140615800115,
          -1.769190321318776,
          -1.0953842593085894,
          -0.8898692239269553,
          -1.0954087985251169,
          -1.7595497251598087,
          -1.324569502822724,
          -1.2777595690665382,
          -1.0954993963659962,
          -1.0954311337357279,
          -0.4174246207261744,
          -1.1852136651759757,
          -1.0953956329242691,
          -1.095384005386178,
          -1.0953797541276873,
          -0.8898691064340378,
          -1.765746030511708,
          -1.2869382661756565,
          -1.101237105189075,
          -1.0953816106364611,
          -1.0955133850758954,
          -1.0953884234523596,
          -1.0953792404989242,
          -1.6273743794255329,
          -1.0960659969973194,
          -1.095403027276117,
          -1.0954085682072456,
          -1.1336018139125306,
          -1.277696841193962,
          -1.0955046636486245,
          -1.0953812908714982,
          -1.0953733467023017,
          -1.0953911289433549,
          -2.141528370473933,
          -1.0953776874974084,
          -1.1039118599461508,
          -1.2776979524534624,
          -1.0955153307188985,
          -1.095385075163378,
          -1.0955177150249826,
          -1.0953988168105637,
          -1.2781194745026554,
          -1.2777084403544765,
          -1.277709052481228,
          -1.2777353467823405,
          -1.2776881100232185,
          -0.8898590257266566,
          -1.09538241247594,
          -1.191418235198791,
          -1.0955102332337368,
          -1.2777079988174695,
          -2.3176588105322358,
          -2.2445139406756525,
          -1.0954235480896675,
          -1.0963028723883363,
          -1.0954479897241647,
          -1.0953742708486176,
          -1.0954415975337053,
          -1.0958309698667625,
          -2.1123013544760876,
          -1.7586399122285103,
          -1.4516824491712477,
          -1.0953729726437693,
          -1.1005349579661985,
          -2.2105149003239264,
          -1.0953729954910576,
          -1.2776983501836554,
          -1.1502844445167588,
          -0.889873297300655,
          -2.1300543717591323,
          -1.2777175039136563,
          -0.8898689962013228,
          -1.0954925230046806,
          -1.0955087242427857,
          -1.9167188690890031,
          -2.1803643573871496,
          -0.8898660111936415,
          -1.27769685726426,
          -1.0954613428325644,
          -2.006082098802513,
          -1.0954106551488747,
          -1.2867932382688962,
          -0.8899014829931247,
          -2.1545924979288147,
          -1.0954731060399479,
          -2.198851691211071,
          -1.0953835220689039,
          -0.8898717701985865,
          -1.0953729942125605,
          -0.889873917548667,
          -1.1688975415463714,
          -2.239757977298454,
          -1.2776927148690629,
          -1.7591926215050502,
          -1.0954716688237969,
          -1.2776927526459203,
          -1.0953886951287777,
          -2.1257973047980427,
          -1.91672167139317,
          -1.9140618895339954,
          -1.1013070634645954,
          -0.8900135359067259,
          -0.889984588541932,
          -2.2397657400354904,
          -1.0953741977879474,
          -2.2397666618549303,
          -2.130023148816224,
          -0.9494519663891503,
          -2.134588229032725,
          -1.095374194654575,
          -0.8904507884482765,
          -1.914059273253778,
          -1.0954149561280189,
          -2.1300267984965324,
          -2.1520735632349504,
          -1.0977489887473857,
          -0.6972612378382806,
          -1.0953903883438814,
          -1.2789496616758411,
          -1.0954133167429008,
          -2.1345303226638497,
          -2.123293932090008,
          -2.186333715421136,
          -2.107156297281809,
          -2.240630597639111,
          -0.889912777049464,
          -1.095381067919171,
          -1.095416595149932,
          -0.8898904935675639,
          -0.8898700588921934,
          -2.2397831305438975,
          -2.286529745714351,
          -1.1862244108483206,
          -1.18656043715461,
          -0.8904943666827025,
          -1.2776973823551567,
          -1.1016397483758908,
          -1.0703579700271575,
          -1.095382974002733,
          -1.0954198178833423,
          -1.0954267101883808,
          -1.0954265230595706,
          -2.239804866790743,
          -1.9256729292903778,
          -0.890460812542495,
          -1.6272257193908855,
          -1.9140598624161291,
          -2.154662938589356,
          -1.095414930485902,
          -0.8900374914105856,
          -1.6272360765395786,
          -1.9168755053591455,
          -1.627228292873988,
          -1.7589609693738784,
          -2.287114255435093,
          -2.239760050625718,
          -1.9225881653883585,
          -0.8901734645995851,
          -2.13499910098375,
          -1.0976636479108466,
          -1.220190288214191,
          -0.8898703151231544,
          -1.6272214942312182,
          -1.6274563252614864,
          -1.0954029776591607,
          -0.8898714818488697,
          -1.277696504919678,
          -1.236620897754638,
          -2.8273247283027625,
          -2.2457246524524694,
          -2.2399304966049254,
          -1.099592197341331,
          -2.1546165026299033,
          -1.1919209900213095,
          -1.0953944316929352,
          -1.1038244732734082,
          -0.8901207099640639,
          -2.6585408690185126,
          -1.9205469344313666,
          -2.240336241313303,
          -1.0953845563403097,
          -2.146345796743172,
          -1.9140796364016062,
          -2.125960133266725,
          -0.8899133608482531,
          -2.239761557605708,
          -0.6972430573273337,
          -2.1300323022916374,
          -2.1941221244223903,
          -2.1257909007351348,
          -2.240111482449125,
          -2.1694996943901996,
          -2.342353580376622,
          -2.0451975411259835,
          -2.2402522731385273,
          -1.2255231233137904,
          -2.0725697266738634,
          -0.8898708977256922,
          -1.0953856801943618,
          -2.1355215187021583,
          -2.1192476568987666,
          -0.14591607893523828,
          -2.2621036376068293,
          -1.2785740832298302,
          -0.8898732811949872,
          -1.2255693489739405,
          -0.2121148733696807,
          -1.9178457164951341,
          -2.1258336074804856,
          -1.2776973828930367,
          -2.2442494732165477,
          -2.1410446706002793,
          -2.1409944903724396,
          -2.0961983615502047,
          -1.0954381860828648,
          -1.9142009513276093,
          -1.9140643726983633,
          -1.4517409882644472,
          -1.2777170481599889,
          -0.3801636061993761,
          -1.2777734689908515,
          -1.1539156266592896,
          -1.6289287841434743,
          -2.1451561845782225,
          -1.095833126030113,
          -1.2777090434670468,
          -1.1200412242161282,
          -1.1852220450847424,
          -1.0953748346431162,
          -1.0954691745999345,
          -1.7586523900950908,
          -2.068778256534634,
          -1.9167209466602582,
          -2.2404176622296768,
          -1.9140615951453812
         ],
         "z": [
          0.13206070335106007,
          0.2904854318921019,
          -0.006890803814410348,
          0.3547605719849131,
          0.2904457383533256,
          0.29895786177762623,
          0.21576981917238736,
          -0.0068541218934999575,
          0.03169451106149145,
          -0.006864601518975903,
          0.22346474275739248,
          -0.0748034998949027,
          0.13196648197468072,
          -0.006949561261740987,
          -0.006868810991710709,
          0.04744693842657748,
          0.10441238789470417,
          -0.006871267529526378,
          -0.006854769077177102,
          -0.006852256373814949,
          0.03169760806006991,
          0.21453982572021993,
          0.11998618877711115,
          -0.014827135325163431,
          -0.006860872685445662,
          -0.006998466596296831,
          -0.006862189069445151,
          -0.006850331737229966,
          0.14748237956097143,
          -0.007493403572162557,
          -0.006889500340058434,
          -0.0068791916281938,
          -0.06327118206345465,
          0.13205929356761703,
          -0.00696232434827284,
          -0.006859989455970751,
          -0.0068485651514784435,
          -0.006872275751437044,
          0.30115649571625247,
          -0.006852191249739236,
          -0.010557209007030392,
          0.132062125885595,
          -0.007056694576642846,
          -0.006852042487038401,
          -0.006902871656704439,
          -0.006868305039751352,
          0.1316641138242581,
          0.1320446825987402,
          0.13205475422402022,
          0.1320572390083913,
          0.13207227828629145,
          0.0317024830229498,
          -0.006862225458602968,
          0.11168753912734337,
          -0.006948128891646881,
          0.13204697401571241,
          0.14789229991272493,
          0.25775030166342844,
          -0.0068968398080802035,
          -0.0073301727119098,
          -0.0069385879976951725,
          -0.006848380074205937,
          -0.006944035175345217,
          -0.007378136505325285,
          0.3313295005889851,
          0.22454231903293725,
          0.17159056832368114,
          -0.006852951224859625,
          -0.010672928330941843,
          0.36474360486858554,
          -0.006848219705956073,
          0.1320631395987497,
          -0.023128918194829054,
          0.03168281607755262,
          0.2979107074629013,
          0.13205632360290817,
          0.031692232417665306,
          -0.006899558124317488,
          -0.00692578687501064,
          0.2905257694858064,
          0.22251470659082342,
          0.031693115537287035,
          0.13205933452672075,
          -0.006978620881862916,
          0.3434369300310768,
          -0.006893834038554491,
          0.11855298260247228,
          0.031668044559667145,
          0.2872401947117927,
          -0.006877910423100347,
          0.4933838680101105,
          -0.006854302700968132,
          0.03169250971520845,
          -0.006848217818886724,
          0.03169798276469248,
          0.33222928247733785,
          0.2625938685062645,
          0.132067905466729,
          0.2239131595823095,
          -0.006935320264359144,
          0.13206646944163375,
          -0.006858100177159938,
          0.3073268361133184,
          0.29051711977341627,
          0.29895865067178695,
          -0.008705027689690116,
          0.031247175655181612,
          0.0316353144902999,
          0.26259497322976916,
          -0.0068487128206753504,
          0.2625905297968746,
          0.297925870792085,
          0.013766832006950617,
          0.35473061124451954,
          -0.006849817377135845,
          0.03151250669190986,
          0.29895877535490256,
          -0.006910043601309368,
          0.2979164923778559,
          0.3893492027233123,
          -0.007584281187026239,
          -0.08680757726748414,
          -0.006863159506093108,
          0.13104250461514888,
          -0.00686667156303262,
          0.354718880956709,
          0.438490873958012,
          0.23715120535984355,
          0.3561614454611072,
          0.2614384800625566,
          0.03166965857299708,
          -0.006859329545507043,
          -0.006863410424139197,
          0.03168079280538204,
          0.03169850722761709,
          0.2625832556553278,
          0.2589900205659429,
          -0.11493582067140788,
          0.10468232543052365,
          0.031453753625738025,
          0.13206067284993667,
          -0.008706212960722012,
          -0.07060410861819841,
          -0.006855699582315726,
          -0.006870480557621808,
          -0.006880085489404945,
          -0.006880562433172692,
          0.2625794064989233,
          0.29292509157070756,
          0.030179472297023873,
          0.1476282357082671,
          0.29895348406365035,
          0.2872052322827391,
          -0.0069101089565472154,
          0.0315629665066632,
          0.1476240653240187,
          0.29047820231345556,
          0.14762664336292344,
          0.22423978088983892,
          0.23896049381925713,
          0.26259490731771173,
          0.2885315338894015,
          0.031569881784452275,
          0.3543946432069658,
          -0.00950002236205501,
          0.031646633133957464,
          0.03169763188902976,
          0.14762765622481203,
          0.1474127290967743,
          -0.006879437426595423,
          0.03169517124323726,
          0.13205985281300256,
          0.15257915098304342,
          0.06194005730069754,
          0.2595455962308783,
          0.2624799536833333,
          -0.013075785507939898,
          0.2871825005572171,
          0.11124353262261569,
          -0.006860461424181125,
          -0.01656576765600548,
          0.031520335083004065,
          4.244383303453658,
          0.28927275684902426,
          0.2623864696939095,
          -0.00685336483515237,
          0.3339582499403799,
          0.2989206697011071,
          0.307268717866664,
          0.03167114652770537,
          0.2625887286750578,
          -0.08680763462943568,
          0.29792155350294486,
          0.5236916764607091,
          0.3073290244818788,
          0.26249290723600904,
          0.23159674839999,
          0.2116268121260955,
          0.39135600304325224,
          0.2621724561616537,
          0.1724306938197616,
          0.4009020771506696,
          0.031697078919903164,
          -0.006852377406630052,
          0.3544516008557232,
          0.16690991694726828,
          0.18047400651575204,
          0.1546030753807602,
          0.1307645422621433,
          0.0316963608609281,
          0.17241617796443698,
          0.31654857836843625,
          0.29573178553616086,
          0.30731305328217395,
          0.13206067422085566,
          0.26033684117035605,
          0.2844493027444067,
          0.284457079661185,
          0.4559812011729525,
          -0.00688480093318165,
          0.2989024520421085,
          0.29894819093385366,
          0.17156994668337738,
          0.13203777213690168,
          -0.08166054798014681,
          0.13200495866806186,
          -0.02423315536258268,
          0.14522185070347166,
          0.28321942099415526,
          -0.007372640993056002,
          0.1320547312491648,
          -0.028885577420684944,
          0.10439808334127439,
          -0.006850971304723219,
          -0.006911109283521585,
          0.22456936690147766,
          0.3451195639217906,
          0.29051818948322805,
          0.2619143212378239,
          0.29895790035004594
         ]
        },
        {
         "customdata": [
          [
           "VeChainThor Authority"
          ],
          [
           "Proof-of-BibleHash"
          ],
          [
           "SHA-256 + Hive"
          ],
          [
           "Leased POS"
          ]
         ],
         "hovertemplate": "<b>%{hovertext}</b><br><br>Class=%{marker.color}<br>PC 1=%{x}<br>PC 2=%{y}<br>PC 3=%{z}<br>Algorithm=%{customdata[0]}<extra></extra>",
         "hovertext": [
          "Vechain",
          "BiblePay",
          "LitecoinCash",
          "Waves"
         ],
         "legendgroup": "3",
         "marker": {
          "color": [
           3,
           3,
           3,
           3
          ],
          "coloraxis": "coloraxis",
          "symbol": "square"
         },
         "mode": "markers",
         "name": "3",
         "scene": "scene",
         "showlegend": true,
         "type": "scatter3d",
         "x": [
          4.350750115561104,
          -0.25597678469443286,
          -0.23088940013182685,
          -0.35011188688480516
         ],
         "y": [
          0.6416456441996811,
          -1.919439720173226,
          6.108147832919289,
          5.747767706296859
         ],
         "z": [
          9.853008660291046,
          15.55541259483884,
          10.325026362707924,
          23.39495234417003
         ]
        },
        {
         "customdata": [
          [
           "TRC10"
          ]
         ],
         "hovertemplate": "<b>%{hovertext}</b><br><br>Class=%{marker.color}<br>PC 1=%{x}<br>PC 2=%{y}<br>PC 3=%{z}<br>Algorithm=%{customdata[0]}<extra></extra>",
         "hovertext": [
          "BitTorrent"
         ],
         "legendgroup": "2",
         "marker": {
          "color": [
           2
          ],
          "coloraxis": "coloraxis",
          "symbol": "x"
         },
         "mode": "markers",
         "name": "2",
         "scene": "scene",
         "showlegend": true,
         "type": "scatter3d",
         "x": [
          34.12245592462859
         ],
         "y": [
          1.4392136660743562
         ],
         "z": [
          -1.3392624474830812
         ]
        }
       ],
       "layout": {
        "coloraxis": {
         "colorbar": {
          "title": {
           "text": "Class"
          }
         },
         "colorscale": [
          [
           0,
           "#0d0887"
          ],
          [
           0.1111111111111111,
           "#46039f"
          ],
          [
           0.2222222222222222,
           "#7201a8"
          ],
          [
           0.3333333333333333,
           "#9c179e"
          ],
          [
           0.4444444444444444,
           "#bd3786"
          ],
          [
           0.5555555555555556,
           "#d8576b"
          ],
          [
           0.6666666666666666,
           "#ed7953"
          ],
          [
           0.7777777777777778,
           "#fb9f3a"
          ],
          [
           0.8888888888888888,
           "#fdca26"
          ],
          [
           1,
           "#f0f921"
          ]
         ]
        },
        "legend": {
         "title": {
          "text": "Class"
         },
         "tracegroupgap": 0,
         "x": 0,
         "y": 1
        },
        "margin": {
         "t": 60
        },
        "scene": {
         "domain": {
          "x": [
           0,
           1
          ],
          "y": [
           0,
           1
          ]
         },
         "xaxis": {
          "title": {
           "text": "PC 1"
          }
         },
         "yaxis": {
          "title": {
           "text": "PC 2"
          }
         },
         "zaxis": {
          "title": {
           "text": "PC 3"
          }
         }
        },
        "template": {
         "data": {
          "bar": [
           {
            "error_x": {
             "color": "#2a3f5f"
            },
            "error_y": {
             "color": "#2a3f5f"
            },
            "marker": {
             "line": {
              "color": "#E5ECF6",
              "width": 0.5
             }
            },
            "type": "bar"
           }
          ],
          "barpolar": [
           {
            "marker": {
             "line": {
              "color": "#E5ECF6",
              "width": 0.5
             }
            },
            "type": "barpolar"
           }
          ],
          "carpet": [
           {
            "aaxis": {
             "endlinecolor": "#2a3f5f",
             "gridcolor": "white",
             "linecolor": "white",
             "minorgridcolor": "white",
             "startlinecolor": "#2a3f5f"
            },
            "baxis": {
             "endlinecolor": "#2a3f5f",
             "gridcolor": "white",
             "linecolor": "white",
             "minorgridcolor": "white",
             "startlinecolor": "#2a3f5f"
            },
            "type": "carpet"
           }
          ],
          "choropleth": [
           {
            "colorbar": {
             "outlinewidth": 0,
             "ticks": ""
            },
            "type": "choropleth"
           }
          ],
          "contour": [
           {
            "colorbar": {
             "outlinewidth": 0,
             "ticks": ""
            },
            "colorscale": [
             [
              0,
              "#0d0887"
             ],
             [
              0.1111111111111111,
              "#46039f"
             ],
             [
              0.2222222222222222,
              "#7201a8"
             ],
             [
              0.3333333333333333,
              "#9c179e"
             ],
             [
              0.4444444444444444,
              "#bd3786"
             ],
             [
              0.5555555555555556,
              "#d8576b"
             ],
             [
              0.6666666666666666,
              "#ed7953"
             ],
             [
              0.7777777777777778,
              "#fb9f3a"
             ],
             [
              0.8888888888888888,
              "#fdca26"
             ],
             [
              1,
              "#f0f921"
             ]
            ],
            "type": "contour"
           }
          ],
          "contourcarpet": [
           {
            "colorbar": {
             "outlinewidth": 0,
             "ticks": ""
            },
            "type": "contourcarpet"
           }
          ],
          "heatmap": [
           {
            "colorbar": {
             "outlinewidth": 0,
             "ticks": ""
            },
            "colorscale": [
             [
              0,
              "#0d0887"
             ],
             [
              0.1111111111111111,
              "#46039f"
             ],
             [
              0.2222222222222222,
              "#7201a8"
             ],
             [
              0.3333333333333333,
              "#9c179e"
             ],
             [
              0.4444444444444444,
              "#bd3786"
             ],
             [
              0.5555555555555556,
              "#d8576b"
             ],
             [
              0.6666666666666666,
              "#ed7953"
             ],
             [
              0.7777777777777778,
              "#fb9f3a"
             ],
             [
              0.8888888888888888,
              "#fdca26"
             ],
             [
              1,
              "#f0f921"
             ]
            ],
            "type": "heatmap"
           }
          ],
          "heatmapgl": [
           {
            "colorbar": {
             "outlinewidth": 0,
             "ticks": ""
            },
            "colorscale": [
             [
              0,
              "#0d0887"
             ],
             [
              0.1111111111111111,
              "#46039f"
             ],
             [
              0.2222222222222222,
              "#7201a8"
             ],
             [
              0.3333333333333333,
              "#9c179e"
             ],
             [
              0.4444444444444444,
              "#bd3786"
             ],
             [
              0.5555555555555556,
              "#d8576b"
             ],
             [
              0.6666666666666666,
              "#ed7953"
             ],
             [
              0.7777777777777778,
              "#fb9f3a"
             ],
             [
              0.8888888888888888,
              "#fdca26"
             ],
             [
              1,
              "#f0f921"
             ]
            ],
            "type": "heatmapgl"
           }
          ],
          "histogram": [
           {
            "marker": {
             "colorbar": {
              "outlinewidth": 0,
              "ticks": ""
             }
            },
            "type": "histogram"
           }
          ],
          "histogram2d": [
           {
            "colorbar": {
             "outlinewidth": 0,
             "ticks": ""
            },
            "colorscale": [
             [
              0,
              "#0d0887"
             ],
             [
              0.1111111111111111,
              "#46039f"
             ],
             [
              0.2222222222222222,
              "#7201a8"
             ],
             [
              0.3333333333333333,
              "#9c179e"
             ],
             [
              0.4444444444444444,
              "#bd3786"
             ],
             [
              0.5555555555555556,
              "#d8576b"
             ],
             [
              0.6666666666666666,
              "#ed7953"
             ],
             [
              0.7777777777777778,
              "#fb9f3a"
             ],
             [
              0.8888888888888888,
              "#fdca26"
             ],
             [
              1,
              "#f0f921"
             ]
            ],
            "type": "histogram2d"
           }
          ],
          "histogram2dcontour": [
           {
            "colorbar": {
             "outlinewidth": 0,
             "ticks": ""
            },
            "colorscale": [
             [
              0,
              "#0d0887"
             ],
             [
              0.1111111111111111,
              "#46039f"
             ],
             [
              0.2222222222222222,
              "#7201a8"
             ],
             [
              0.3333333333333333,
              "#9c179e"
             ],
             [
              0.4444444444444444,
              "#bd3786"
             ],
             [
              0.5555555555555556,
              "#d8576b"
             ],
             [
              0.6666666666666666,
              "#ed7953"
             ],
             [
              0.7777777777777778,
              "#fb9f3a"
             ],
             [
              0.8888888888888888,
              "#fdca26"
             ],
             [
              1,
              "#f0f921"
             ]
            ],
            "type": "histogram2dcontour"
           }
          ],
          "mesh3d": [
           {
            "colorbar": {
             "outlinewidth": 0,
             "ticks": ""
            },
            "type": "mesh3d"
           }
          ],
          "parcoords": [
           {
            "line": {
             "colorbar": {
              "outlinewidth": 0,
              "ticks": ""
             }
            },
            "type": "parcoords"
           }
          ],
          "pie": [
           {
            "automargin": true,
            "type": "pie"
           }
          ],
          "scatter": [
           {
            "marker": {
             "colorbar": {
              "outlinewidth": 0,
              "ticks": ""
             }
            },
            "type": "scatter"
           }
          ],
          "scatter3d": [
           {
            "line": {
             "colorbar": {
              "outlinewidth": 0,
              "ticks": ""
             }
            },
            "marker": {
             "colorbar": {
              "outlinewidth": 0,
              "ticks": ""
             }
            },
            "type": "scatter3d"
           }
          ],
          "scattercarpet": [
           {
            "marker": {
             "colorbar": {
              "outlinewidth": 0,
              "ticks": ""
             }
            },
            "type": "scattercarpet"
           }
          ],
          "scattergeo": [
           {
            "marker": {
             "colorbar": {
              "outlinewidth": 0,
              "ticks": ""
             }
            },
            "type": "scattergeo"
           }
          ],
          "scattergl": [
           {
            "marker": {
             "colorbar": {
              "outlinewidth": 0,
              "ticks": ""
             }
            },
            "type": "scattergl"
           }
          ],
          "scattermapbox": [
           {
            "marker": {
             "colorbar": {
              "outlinewidth": 0,
              "ticks": ""
             }
            },
            "type": "scattermapbox"
           }
          ],
          "scatterpolar": [
           {
            "marker": {
             "colorbar": {
              "outlinewidth": 0,
              "ticks": ""
             }
            },
            "type": "scatterpolar"
           }
          ],
          "scatterpolargl": [
           {
            "marker": {
             "colorbar": {
              "outlinewidth": 0,
              "ticks": ""
             }
            },
            "type": "scatterpolargl"
           }
          ],
          "scatterternary": [
           {
            "marker": {
             "colorbar": {
              "outlinewidth": 0,
              "ticks": ""
             }
            },
            "type": "scatterternary"
           }
          ],
          "surface": [
           {
            "colorbar": {
             "outlinewidth": 0,
             "ticks": ""
            },
            "colorscale": [
             [
              0,
              "#0d0887"
             ],
             [
              0.1111111111111111,
              "#46039f"
             ],
             [
              0.2222222222222222,
              "#7201a8"
             ],
             [
              0.3333333333333333,
              "#9c179e"
             ],
             [
              0.4444444444444444,
              "#bd3786"
             ],
             [
              0.5555555555555556,
              "#d8576b"
             ],
             [
              0.6666666666666666,
              "#ed7953"
             ],
             [
              0.7777777777777778,
              "#fb9f3a"
             ],
             [
              0.8888888888888888,
              "#fdca26"
             ],
             [
              1,
              "#f0f921"
             ]
            ],
            "type": "surface"
           }
          ],
          "table": [
           {
            "cells": {
             "fill": {
              "color": "#EBF0F8"
             },
             "line": {
              "color": "white"
             }
            },
            "header": {
             "fill": {
              "color": "#C8D4E3"
             },
             "line": {
              "color": "white"
             }
            },
            "type": "table"
           }
          ]
         },
         "layout": {
          "annotationdefaults": {
           "arrowcolor": "#2a3f5f",
           "arrowhead": 0,
           "arrowwidth": 1
          },
          "coloraxis": {
           "colorbar": {
            "outlinewidth": 0,
            "ticks": ""
           }
          },
          "colorscale": {
           "diverging": [
            [
             0,
             "#8e0152"
            ],
            [
             0.1,
             "#c51b7d"
            ],
            [
             0.2,
             "#de77ae"
            ],
            [
             0.3,
             "#f1b6da"
            ],
            [
             0.4,
             "#fde0ef"
            ],
            [
             0.5,
             "#f7f7f7"
            ],
            [
             0.6,
             "#e6f5d0"
            ],
            [
             0.7,
             "#b8e186"
            ],
            [
             0.8,
             "#7fbc41"
            ],
            [
             0.9,
             "#4d9221"
            ],
            [
             1,
             "#276419"
            ]
           ],
           "sequential": [
            [
             0,
             "#0d0887"
            ],
            [
             0.1111111111111111,
             "#46039f"
            ],
            [
             0.2222222222222222,
             "#7201a8"
            ],
            [
             0.3333333333333333,
             "#9c179e"
            ],
            [
             0.4444444444444444,
             "#bd3786"
            ],
            [
             0.5555555555555556,
             "#d8576b"
            ],
            [
             0.6666666666666666,
             "#ed7953"
            ],
            [
             0.7777777777777778,
             "#fb9f3a"
            ],
            [
             0.8888888888888888,
             "#fdca26"
            ],
            [
             1,
             "#f0f921"
            ]
           ],
           "sequentialminus": [
            [
             0,
             "#0d0887"
            ],
            [
             0.1111111111111111,
             "#46039f"
            ],
            [
             0.2222222222222222,
             "#7201a8"
            ],
            [
             0.3333333333333333,
             "#9c179e"
            ],
            [
             0.4444444444444444,
             "#bd3786"
            ],
            [
             0.5555555555555556,
             "#d8576b"
            ],
            [
             0.6666666666666666,
             "#ed7953"
            ],
            [
             0.7777777777777778,
             "#fb9f3a"
            ],
            [
             0.8888888888888888,
             "#fdca26"
            ],
            [
             1,
             "#f0f921"
            ]
           ]
          },
          "colorway": [
           "#636efa",
           "#EF553B",
           "#00cc96",
           "#ab63fa",
           "#FFA15A",
           "#19d3f3",
           "#FF6692",
           "#B6E880",
           "#FF97FF",
           "#FECB52"
          ],
          "font": {
           "color": "#2a3f5f"
          },
          "geo": {
           "bgcolor": "white",
           "lakecolor": "white",
           "landcolor": "#E5ECF6",
           "showlakes": true,
           "showland": true,
           "subunitcolor": "white"
          },
          "hoverlabel": {
           "align": "left"
          },
          "hovermode": "closest",
          "mapbox": {
           "style": "light"
          },
          "paper_bgcolor": "white",
          "plot_bgcolor": "#E5ECF6",
          "polar": {
           "angularaxis": {
            "gridcolor": "white",
            "linecolor": "white",
            "ticks": ""
           },
           "bgcolor": "#E5ECF6",
           "radialaxis": {
            "gridcolor": "white",
            "linecolor": "white",
            "ticks": ""
           }
          },
          "scene": {
           "xaxis": {
            "backgroundcolor": "#E5ECF6",
            "gridcolor": "white",
            "gridwidth": 2,
            "linecolor": "white",
            "showbackground": true,
            "ticks": "",
            "zerolinecolor": "white"
           },
           "yaxis": {
            "backgroundcolor": "#E5ECF6",
            "gridcolor": "white",
            "gridwidth": 2,
            "linecolor": "white",
            "showbackground": true,
            "ticks": "",
            "zerolinecolor": "white"
           },
           "zaxis": {
            "backgroundcolor": "#E5ECF6",
            "gridcolor": "white",
            "gridwidth": 2,
            "linecolor": "white",
            "showbackground": true,
            "ticks": "",
            "zerolinecolor": "white"
           }
          },
          "shapedefaults": {
           "line": {
            "color": "#2a3f5f"
           }
          },
          "ternary": {
           "aaxis": {
            "gridcolor": "white",
            "linecolor": "white",
            "ticks": ""
           },
           "baxis": {
            "gridcolor": "white",
            "linecolor": "white",
            "ticks": ""
           },
           "bgcolor": "#E5ECF6",
           "caxis": {
            "gridcolor": "white",
            "linecolor": "white",
            "ticks": ""
           }
          },
          "title": {
           "x": 0.05
          },
          "xaxis": {
           "automargin": true,
           "gridcolor": "white",
           "linecolor": "white",
           "ticks": "",
           "title": {
            "standoff": 15
           },
           "zerolinecolor": "white",
           "zerolinewidth": 2
          },
          "yaxis": {
           "automargin": true,
           "gridcolor": "white",
           "linecolor": "white",
           "ticks": "",
           "title": {
            "standoff": 15
           },
           "zerolinecolor": "white",
           "zerolinewidth": 2
          }
         }
        },
        "width": 800
       }
      },
      "text/html": [
       "<div>                            <div id=\"efaa4f03-40c6-4b05-999a-b99c2dbd1c2a\" class=\"plotly-graph-div\" style=\"height:525px; width:800px;\"></div>            <script type=\"text/javascript\">                require([\"plotly\"], function(Plotly) {                    window.PLOTLYENV=window.PLOTLYENV || {};                                    if (document.getElementById(\"efaa4f03-40c6-4b05-999a-b99c2dbd1c2a\")) {                    Plotly.newPlot(                        \"efaa4f03-40c6-4b05-999a-b99c2dbd1c2a\",                        [{\"customdata\": [[\"Scrypt\"], [\"Scrypt\"], [\"X13\"], [\"X11\"], [\"SHA-512\"], [\"SHA-256\"], [\"SHA-256\"], [\"X15\"], [\"Scrypt\"], [\"Scrypt\"], [\"Scrypt\"], [\"Scrypt\"], [\"Scrypt\"], [\"Scrypt\"], [\"Groestl\"], [\"PoS\"], [\"Scrypt\"], [\"Scrypt\"], [\"X11\"], [\"X11\"], [\"SHA3\"], [\"Scrypt\"], [\"SHA-256\"], [\"Scrypt\"], [\"X13\"], [\"X13\"], [\"NeoScrypt\"], [\"Scrypt\"], [\"Scrypt\"], [\"Scrypt\"], [\"X11\"], [\"X11\"], [\"Multiple\"], [\"PHI1612\"], [\"X11\"], [\"Scrypt\"], [\"Scrypt\"], [\"Scrypt\"], [\"X11\"], [\"Multiple\"], [\"X13\"], [\"Scrypt\"], [\"Shabal256\"], [\"Counterparty\"], [\"SHA-256\"], [\"Groestl\"], [\"Scrypt\"], [\"X13\"], [\"Scrypt\"], [\"Scrypt\"], [\"X13\"], [\"X11\"], [\"Scrypt\"], [\"X11\"], [\"SHA3\"], [\"QUAIT\"], [\"X11\"], [\"Scrypt\"], [\"X13\"], [\"SHA-256\"], [\"X15\"], [\"BLAKE256\"], [\"SHA-256\"], [\"X11\"], [\"SHA-256\"], [\"NIST5\"], [\"Scrypt\"], [\"Scrypt\"], [\"X11\"], [\"Scrypt\"], [\"SHA-256\"], [\"Scrypt\"], [\"PoS\"], [\"X11\"], [\"SHA-256\"], [\"SHA-256\"], [\"NIST5\"], [\"X11\"], [\"POS 3.0\"], [\"Scrypt\"], [\"Scrypt\"], [\"Scrypt\"], [\"X13\"], [\"X11\"], [\"X11\"], [\"Scrypt\"], [\"SHA-256\"], [\"X11\"], [\"Scrypt\"], [\"Scrypt\"], [\"Scrypt\"], [\"Scrypt\"], [\"SHA-256D\"], [\"PoS\"], [\"Scrypt\"], [\"X11\"], [\"PoS\"], [\"X13\"], [\"X14\"], [\"PoS\"], [\"SHA-256D\"], [\"DPoS\"], [\"X11\"], [\"X13\"], [\"X11\"], [\"PoS\"], [\"Scrypt\"], [\"Scrypt\"], [\"PoS\"], [\"X11\"], [\"SHA-256\"], [\"Scrypt\"], [\"X11\"], [\"Scrypt\"], [\"Scrypt\"], [\"X11\"], [\"Scrypt\"], [\"Scrypt\"], [\"Scrypt\"], [\"Scrypt\"], [\"Quark\"], [\"QuBit\"], [\"Scrypt\"], [\"SHA-256\"], [\"X11\"], [\"Scrypt\"], [\"Scrypt\"], [\"Scrypt\"], [\"Scrypt\"], [\"X13\"], [\"Scrypt\"], [\"Scrypt\"], [\"X11\"], [\"Blake2S\"], [\"X11\"], [\"PoS\"], [\"X11\"], [\"PoS\"], [\"X11\"], [\"Scrypt\"], [\"Scrypt\"], [\"Scrypt\"], [\"SHA-256\"], [\"X11\"], [\"Scrypt\"], [\"PoS\"], [\"Scrypt\"], [\"X15\"], [\"SHA-256\"], [\"POS 3.0\"], [\"536\"], [\"NIST5\"], [\"NIST5\"], [\"Skein\"], [\"X13\"], [\"Scrypt\"], [\"X13\"], [\"SkunkHash v2 Raptor\"], [\"Skein\"], [\"X11\"], [\"Scrypt\"], [\"PoS\"], [\"Scrypt\"], [\"Scrypt\"], [\"SHA-512\"], [\"Ouroboros\"], [\"X11\"], [\"NeoScrypt\"], [\"Scrypt\"], [\"Lyra2REv2\"], [\"Scrypt\"], [\"SHA-256\"], [\"NIST5\"], [\"PHI1612\"], [\"Scrypt\"], [\"Quark\"], [\"POS 2.0\"], [\"Scrypt\"], [\"SHA-256\"], [\"X11\"], [\"DPoS\"], [\"NIST5\"], [\"X13\"], [\"Scrypt\"], [\"NIST5\"], [\"Quark\"], [\"Scrypt\"], [\"Scrypt\"], [\"X11\"], [\"Quark\"], [\"Scrypt\"], [\"Scrypt\"], [\"X11\"], [\"POS 3.0\"], [\"Ethash\"], [\"Scrypt\"], [\"Scrypt\"], [\"X13\"], [\"C11\"], [\"X11\"], [\"XEVAN\"], [\"Scrypt\"], [\"VBFT\"], [\"NIST5\"], [\"Scrypt\"], [\"Scrypt\"], [\"Scrypt\"], [\"Green Protocol\"], [\"PoS\"], [\"Scrypt\"], [\"Semux BFT consensus\"], [\"Quark\"], [\"PoS\"], [\"X16R\"], [\"Scrypt\"], [\"XEVAN\"], [\"Scrypt\"], [\"Scrypt\"], [\"Scrypt\"], [\"SHA-256D\"], [\"Scrypt\"], [\"X15\"], [\"Scrypt\"], [\"Quark\"], [\"SHA-256\"], [\"DPoS\"], [\"X16R\"], [\"Quark\"], [\"Quark\"], [\"Scrypt\"], [\"Lyra2REv2\"], [\"Quark\"], [\"Scrypt\"], [\"X11\"], [\"X11\"], [\"Scrypt\"], [\"PoS\"], [\"Keccak\"], [\"X11\"], [\"Scrypt\"], [\"SHA-512\"], [\"XEVAN\"], [\"XEVAN\"], [\"X11\"], [\"Quark\"], [\"Equihash\"], [\"Scrypt\"], [\"Quark\"], [\"Quark\"], [\"Scrypt\"], [\"X11\"], [\"Scrypt\"], [\"XEVAN\"], [\"SHA-256D\"], [\"X11\"], [\"X11\"], [\"DPoS\"], [\"Scrypt\"], [\"X11\"], [\"Scrypt\"], [\"Scrypt\"], [\"SHA-256\"], [\"Scrypt\"], [\"X11\"], [\"Scrypt\"], [\"SHA-256\"], [\"X11\"], [\"Scrypt\"], [\"Scrypt\"], [\"X11\"], [\"Scrypt\"], [\"PoS\"], [\"X11\"], [\"SHA-256\"], [\"DPoS\"], [\"Scrypt\"], [\"Scrypt\"], [\"NeoScrypt\"], [\"SHA3-256\"], [\"X13\"], [\"DPoS\"], [\"DPoS\"], [\"SHA-256\"], [\"PoS\"], [\"PoS\"], [\"SHA-256\"], [\"Scrypt\"], [\"Scrypt\"]], \"hovertemplate\": \"<b>%{hovertext}</b><br><br>Class=%{marker.color}<br>PC 1=%{x}<br>PC 2=%{y}<br>PC 3=%{z}<br>Algorithm=%{customdata[0]}<extra></extra>\", \"hovertext\": [\"42 Coin\", \"404Coin\", \"EliteCoin\", \"Dash\", \"Bitshares\", \"BitcoinDark\", \"PayCoin\", \"KoboCoin\", \"Aurora Coin\", \"BlueCoin\", \"EnergyCoin\", \"BitBar\", \"CryptoBullion\", \"CasinoCoin\", \"Diamond\", \"Exclusive Coin\", \"FlutterCoin\", \"HoboNickels\", \"HyperStake\", \"IOCoin\", \"MaxCoin\", \"MintCoin\", \"MazaCoin\", \"Nautilus Coin\", \"NavCoin\", \"OpalCoin\", \"Orbitcoin\", \"PotCoin\", \"PhoenixCoin\", \"Reddcoin\", \"SuperCoin\", \"SyncCoin\", \"TeslaCoin\", \"TittieCoin\", \"TorCoin\", \"UnitaryStatus Dollar\", \"UltraCoin\", \"VeriCoin\", \"X11 Coin\", \"Crypti\", \"StealthCoin\", \"ZCC Coin\", \"BurstCoin\", \"StorjCoin\", \"Neutron\", \"FairCoin\", \"RubyCoin\", \"Kore\", \"Dnotes\", \"8BIT Coin\", \"Sativa Coin\", \"Ucoin\", \"Vtorrent\", \"IslaCoin\", \"Nexus\", \"Droidz\", \"Squall Coin\", \"Diggits\", \"Paycon\", \"Emercoin\", \"EverGreenCoin\", \"Decred\", \"EDRCoin\", \"Hitcoin\", \"DubaiCoin\", \"PWR Coin\", \"BillaryCoin\", \"GPU Coin\", \"EuropeCoin\", \"ZeitCoin\", \"SwingCoin\", \"SafeExchangeCoin\", \"Nebuchadnezzar\", \"Ratecoin\", \"Revenu\", \"Clockcoin\", \"VIP Tokens\", \"BitSend\", \"Let it Ride\", \"PutinCoin\", \"iBankCoin\", \"Frankywillcoin\", \"MudraCoin\", \"Lutetium Coin\", \"GoldBlocks\", \"CarterCoin\", \"BitTokens\", \"MustangCoin\", \"ZoneCoin\", \"RootCoin\", \"BitCurrency\", \"Swiscoin\", \"BuzzCoin\", \"Opair\", \"PesoBit\", \"Halloween Coin\", \"CoffeeCoin\", \"RoyalCoin\", \"GanjaCoin V2\", \"TeamUP\", \"LanaCoin\", \"ARK\", \"InsaneCoin\", \"EmberCoin\", \"XenixCoin\", \"FreeCoin\", \"PLNCoin\", \"AquariusCoin\", \"Creatio\", \"Eternity\", \"Eurocoin\", \"BitcoinFast\", \"Stakenet\", \"BitConnect Coin\", \"MoneyCoin\", \"Enigma\", \"Russiacoin\", \"PandaCoin\", \"GameUnits\", \"GAKHcoin\", \"Allsafe\", \"LiteCreed\", \"Klingon Empire Darsek\", \"Internet of People\", \"KushCoin\", \"Printerium\", \"Impeach\", \"Zilbercoin\", \"FirstCoin\", \"FindCoin\", \"OpenChat\", \"RenosCoin\", \"VirtacoinPlus\", \"TajCoin\", \"Impact\", \"Atmos\", \"HappyCoin\", \"MacronCoin\", \"Condensate\", \"Independent Money System\", \"ArgusCoin\", \"LomoCoin\", \"ProCurrency\", \"GoldReserve\", \"GrowthCoin\", \"Phreak\", \"Degas Coin\", \"HTML5 Coin\", \"Ultimate Secure Cash\", \"QTUM\", \"Espers\", \"Denarius\", \"Virta Unique Coin\", \"Bitcoin Planet\", \"BritCoin\", \"Linda\", \"DeepOnion\", \"Signatum\", \"Cream\", \"Monoeci\", \"Draftcoin\", \"Stakecoin\", \"CoinonatX\", \"Ethereum Dark\", \"Obsidian\", \"Cardano\", \"Regalcoin\", \"TrezarCoin\", \"TerraNovaCoin\", \"Rupee\", \"WomenCoin\", \"Theresa May Coin\", \"NamoCoin\", \"LUXCoin\", \"Xios\", \"Bitcloud 2.0\", \"KekCoin\", \"BlackholeCoin\", \"Infinity Economics\", \"Magnet\", \"Lamden Tau\", \"Electra\", \"Bitcoin Diamond\", \"Cash & Back Coin\", \"Bulwark\", \"Kalkulus\", \"GermanCoin\", \"LiteCoin Ultra\", \"PhantomX\", \"Digiwage\", \"Trollcoin\", \"Litecoin Plus\", \"Monkey Project\", \"TokenPay\", \"1717 Masonic Commemorative Token\", \"My Big Coin\", \"Unified Society USDEX\", \"Tokyo Coin\", \"Stipend\", \"Pushi\", \"Ellerium\", \"Velox\", \"Ontology\", \"Bitspace\", \"Briacoin\", \"Ignition\", \"MedicCoin\", \"Bitcoin Green\", \"Deviant Coin\", \"Abjcoin\", \"Semux\", \"Carebit\", \"Zealium\", \"Proton\", \"iDealCash\", \"Bitcoin Incognito\", \"HollyWoodCoin\", \"Swisscoin\", \"Xt3ch\", \"TheVig\", \"EmaratCoin\", \"Dekado\", \"Lynx\", \"Poseidon Quark\", \"BitcoinWSpectrum\", \"Muse\", \"Trivechain\", \"Dystem\", \"Giant\", \"Peony Coin\", \"Absolute Coin\", \"Vitae\", \"TPCash\", \"ARENON\", \"EUNO\", \"MMOCoin\", \"Ketan\", \"XDNA\", \"PAXEX\", \"ThunderStake\", \"Kcash\", \"Bettex coin\", \"BitMoney\", \"Junson Ming Chan Coin\", \"HerbCoin\", \"PirateCash\", \"Oduwa\", \"Galilel\", \"Crypto Sports\", \"Credit\", \"Dash Platinum\", \"Nasdacoin\", \"Beetle Coin\", \"Titan Coin\", \"Award\", \"Insane Coin\", \"ALAX\", \"LiteDoge\", \"TruckCoin\", \"OrangeCoin\", \"BitstarCoin\", \"NeosCoin\", \"HyperCoin\", \"PinkCoin\", \"AudioCoin\", \"IncaKoin\", \"Piggy Coin\", \"Genstake\", \"XiaoMiCoin\", \"CapriCoin\", \" ClubCoin\", \"Radium\", \"Creditbit \", \"OKCash\", \"Lisk\", \"HiCoin\", \"WhiteCoin\", \"FriendshipCoin\", \"Fiii\", \"Triangles Coin\", \"EOS\", \"Oxycoin\", \"TigerCash\", \"Particl\", \"Nxt\", \"ZEPHYR\", \"Gapcoin\", \"BitcoinPlus\"], \"legendgroup\": \"0\", \"marker\": {\"color\": [0, 0, 0, 0, 0, 0, 0, 0, 0, 0, 0, 0, 0, 0, 0, 0, 0, 0, 0, 0, 0, 0, 0, 0, 0, 0, 0, 0, 0, 0, 0, 0, 0, 0, 0, 0, 0, 0, 0, 0, 0, 0, 0, 0, 0, 0, 0, 0, 0, 0, 0, 0, 0, 0, 0, 0, 0, 0, 0, 0, 0, 0, 0, 0, 0, 0, 0, 0, 0, 0, 0, 0, 0, 0, 0, 0, 0, 0, 0, 0, 0, 0, 0, 0, 0, 0, 0, 0, 0, 0, 0, 0, 0, 0, 0, 0, 0, 0, 0, 0, 0, 0, 0, 0, 0, 0, 0, 0, 0, 0, 0, 0, 0, 0, 0, 0, 0, 0, 0, 0, 0, 0, 0, 0, 0, 0, 0, 0, 0, 0, 0, 0, 0, 0, 0, 0, 0, 0, 0, 0, 0, 0, 0, 0, 0, 0, 0, 0, 0, 0, 0, 0, 0, 0, 0, 0, 0, 0, 0, 0, 0, 0, 0, 0, 0, 0, 0, 0, 0, 0, 0, 0, 0, 0, 0, 0, 0, 0, 0, 0, 0, 0, 0, 0, 0, 0, 0, 0, 0, 0, 0, 0, 0, 0, 0, 0, 0, 0, 0, 0, 0, 0, 0, 0, 0, 0, 0, 0, 0, 0, 0, 0, 0, 0, 0, 0, 0, 0, 0, 0, 0, 0, 0, 0, 0, 0, 0, 0, 0, 0, 0, 0, 0, 0, 0, 0, 0, 0, 0, 0, 0, 0, 0, 0, 0, 0, 0, 0, 0, 0, 0, 0, 0, 0, 0, 0, 0, 0, 0, 0, 0, 0, 0, 0, 0, 0, 0, 0, 0, 0, 0, 0, 0, 0, 0, 0, 0, 0, 0, 0, 0, 0, 0, 0, 0, 0, 0, 0], \"coloraxis\": \"coloraxis\", \"symbol\": \"circle\"}, \"mode\": \"markers\", \"name\": \"0\", \"scene\": \"scene\", \"showlegend\": true, \"type\": \"scatter3d\", \"x\": [-0.3352856978551655, -0.31857736500562367, 2.3358766092515033, -0.3823093294569137, -0.2006682391457628, -0.30138272408126215, -0.272504940998366, -0.221873692544902, -0.3349443152876122, -0.3275021811234952, -0.33377826170896857, -0.335281621623806, -0.3352658592359187, 0.7587186579374151, -0.3639429711587631, -0.3761240604106002, -0.3160786730823372, -0.3333389246153542, -0.33320145983968796, -0.38220374488514014, -0.4943779684556272, -0.04563517203933374, -0.2645837331330677, -0.3061582593765369, -0.2559376697971643, -0.25656153717944946, -0.3296144705023393, -0.3295714531800142, -0.33368287406795866, 0.023810380966555238, -0.3531410727515274, -0.3825763761139148, -0.2614852994773593, -0.31865915473350137, -0.3824877489379998, -0.3104467467909315, -0.3339592560717578, -0.3199497748042375, -0.38245214439465336, -0.2619545982457361, -0.25634181651000865, -0.32636196851110594, 0.28541672568696325, -0.3523432859247252, -0.3005921935634715, -0.36336300604587046, -0.30613851688474947, -0.25663708727299855, -0.3007767362896824, -0.3352677185983321, -0.25658915154472417, -0.35358704030150817, -0.3350013296141936, -0.3825578557813075, -0.6268485928476609, -0.3822015901350006, -0.4191362931999351, -0.30453548074290016, -0.25610938858212423, -0.2939165502028531, -0.22432265959259404, -0.07517718836309971, -0.30135356050892975, -0.05908316968615435, -0.301417460700067, -0.2198250526418112, -0.33487681023693194, -0.3044037980796093, -0.3797183112212595, 0.8503853204880636, -0.30121689837969834, 0.02588339195444615, -0.37580642740453246, -0.380394868499994, -0.2999565222035714, -0.297617596148753, -0.3415068677546629, -0.3812892424574746, -0.3829421800967508, -0.3111039640917803, -0.33491500216821657, -0.3333496707111979, -0.22644956612187617, -0.3410425039959163, -0.38203020317462705, -0.3341169647899261, -0.3013983291202397, -0.3825470091908544, -0.3351047413393258, -0.3352619363262301, -0.30439403915059726, -0.2838179337392024, 0.07432174244094514, -0.3747605581970867, -0.3348750648788442, -0.3686678404858899, -0.37408751429649845, -0.22788459943185313, -0.4012176400517958, -0.37383497048161407, -0.24108147582591488, 3.6748501803934657, -0.3821383819948749, 0.8785974962243093, -0.38250179615864355, -0.37522561901740425, -0.33480230653886767, -0.33495703313555025, -0.37580642740453246, -0.3820753936219364, -0.30126063919854895, -0.3348030616164621, -0.3609077701222811, -0.33495086066868696, -0.3305251956073855, -0.38253086372386935, -0.33415909870653226, 0.33892878370564083, -0.3351507146165725, -0.33522150406625423, -0.3648200633392123, -0.34692741033022323, -0.33143666451005316, -0.3013746799561724, -0.3824405616768371, -0.3349986714359157, -0.3351259568742826, -0.3060446064519728, -0.3251784673199678, -0.22765179734602387, -0.3159254190973456, -0.30578511132334074, -0.38170406789682293, -0.4003011524992745, -0.38043904506021387, -0.374048026612893, -0.3816016809721191, -0.3684321099565347, -0.3775306028900388, -0.3350690945138161, -0.3350682593327062, -0.328168625224822, 0.2618120137628123, -0.38208162175291427, -0.28863439918767114, -0.3758407818868448, -0.3342774184810318, 0.9133557721357599, -0.2711912779729994, -0.3817170682553028, 0.6131029877823033, -0.34304685861007295, -0.34154475258500144, -0.391778726792003, -0.2562733441421695, 0.13105609135787957, -0.256344339651498, -0.3643661183221848, -0.3912822927674065, -0.38235482687060063, -0.30611912339634234, -0.3757066014769336, -0.3347032342908845, -0.3352043854940944, -0.25889801399543566, 0.6222144346681671, -0.3822954424603468, -0.3245991514850831, -0.33515984650387814, -0.3198658524338616, 0.4360841289207091, -0.2997162970746081, -0.32776940189004816, -0.3831725436110523, -0.3351100365045395, -0.3920713675194558, -0.347894892569113, -0.33498010976898424, -0.0984982466670385, -0.3810845137943362, 3.6797202997253877, 0.2180299837406602, -0.25300572427373486, -0.33243300571963735, -0.31399551777459694, -0.3647056474996766, 0.08042433172469925, -0.3341159243074732, -0.381667496311507, -0.3638678465841412, -0.32164621162166124, -0.3352265765929107, -0.35355889186205297, -0.383224874371665, -0.282233024134571, -0.32086159525818364, -0.3307592489567428, -0.2194232357954281, -0.3383961063219641, -0.3823720694916245, -0.37491269197711596, -0.30527653550224726, -0.3310670793183846, -0.34264462530467166, -0.33525400732465, -0.3352356633351327, -0.29964181665363965, -0.3651382609217752, -0.3752998959544992, -0.3349513406629985, 3.8624421005602323, -0.3907358469185795, -0.37548909264270497, -0.3305159176121461, -0.28166377583541674, -0.41162550435958856, -0.30581249151867257, -0.13781084704463495, -0.30606516455962124, -0.3065937850633369, -0.3344238015143746, -0.19485026708749026, 2.2300321189804726, -0.36040017411469083, -0.27131965720420764, 0.9825043938363653, -0.35866477597160595, -0.36481947875858645, -0.3937606149312166, -0.18642592937088573, -0.3486080486535142, -0.36353535257337427, -0.3281085569259066, -0.35313506688976276, -0.38184392450247223, -0.3033026267520525, -0.3745860826322748, -0.3306537833200889, -0.35299593398300727, -0.19430489250646257, -0.09175881151984734, -0.3460916061681453, 0.32222547045498073, -0.1429521590056467, -0.3930532113384572, -0.28084710585778405, -0.334955353653117, -0.39351065503811933, -0.36493679106240134, 0.574207588647177, -0.3536133556338554, -0.33443669775029417, -0.3693521512199587, -0.2611774571014282, -0.379400911601764, -0.38207182957609676, 3.6919961882477583, 0.1012436237983133, -0.3796050271856542, -0.3338201811922638, -0.33464783743814824, -0.2725376305345381, -0.3351677229136448, -0.3736758833642382, -0.24860741933171088, -0.08045424597005042, -0.3694113314547782, -0.334444074589049, -0.32748871290309817, -0.3786307420399429, -0.3328786482252523, -0.3760828267538202, -0.38876906948970213, -0.2998935712077975, 3.675243148629903, -0.11280288610453253, -0.330065514517431, -0.3292391526096851, -0.4267221622698696, -0.2567446147526304, 3.685136896128778, 3.6863843405418706, -0.2533804831121195, -0.37601852384595114, -0.3898578223660414, 2.456462765827871, -0.3333250661503419, -0.3064628258313888], \"y\": [0.9217985619639767, 0.9216656021774245, 1.454619135275007, 1.1273005078681493, 2.094693706334641, 0.7394703945193797, 0.6927357034267887, 1.646422974934029, 0.9217917255706615, 0.9219097104964944, 0.9218200881590617, 0.9217982709964191, 0.9217981468776695, 1.0069308931449834, 0.8319970643982211, 1.7287601690462466, 0.24471795599276125, 0.921742552586859, 1.0808634322457933, 1.1273020156142677, 1.6901289389541057, 0.8787810668862837, 0.7383216531258981, 0.8750495007859934, 1.6370202985710294, 1.6370113897540872, 0.3899592765450862, 0.9215868287745163, 0.9217530060320077, 0.9269264486589814, 1.080578694869922, 1.1273120587856682, 0.2117321126405616, 1.6847675465010814, 1.127306340970553, 0.9210358045202595, 0.9217476624794471, 0.2698777526437967, 1.1273099922516288, 0.21179525214393294, 1.6370145273619796, 0.9212275818875919, 2.433391001960558, 1.6086683771568129, 0.7394495563853273, 0.8320084053308359, 0.875061082995681, 1.6370019299699385, 0.8747884437288204, 0.9217988187368301, 1.6370040113130813, 1.0805583582433795, 0.9217886545510013, 1.1273123239541534, 1.701241256813287, 1.5606105363670695, 1.2997941000393474, 0.8750141332451429, 1.6369829258879305, 0.7388939655815034, 1.6466140807028669, 0.8454249861877831, 0.7394708109747584, 1.113388730176619, 0.7394779302055021, 1.3216984381602181, 0.9217750676476395, 0.8749314692026638, 1.1270846828502739, 0.8224335542182641, 0.739460191113027, 1.022902623734242, 1.7287507366242885, 1.1272908305682625, 0.7393505721475238, 0.7391728598437564, 1.3198979666753394, 1.1272333606284541, 1.6935099779097589, 0.9207470551357556, 0.9217728926423964, 0.9217563673493313, 1.5901480057789448, 1.080292606337812, 1.127284938284128, 0.9217523945095776, 0.7394708700904828, 1.1273103836108196, 0.9217864794222764, 0.9217989013075897, 0.8750859941117832, 0.3056926041811198, 1.6854704056528178, 1.7287279574363041, 0.9218044258261057, 1.1264630569239442, 1.7287613145325877, 1.5902654495765556, 1.84520359028654, 1.728582635557149, 1.6896923972718185, 2.347621198769421, 1.127297361708744, 1.6526277946669783, 1.1273104332795862, 1.7287380782345785, 0.9217785480608055, 0.9217739220658404, 1.7287507366242885, 1.1272773088569314, 0.7394735347113451, 0.921782406474296, 0.7345671105628916, 0.921783787960168, 0.9214121140218721, 1.127309217346192, 0.9217140786531601, 0.8615638644209348, 0.9217914102111853, 0.9217971628967201, 1.553099352268084, 0.5654459668470428, 0.9215043207182155, 0.7394712078001939, 1.1273074659773354, 0.9217886925097477, 0.9217855246148791, 0.8750240114397212, 0.3844154903158168, 1.5902603757870006, 0.9213766156580244, 0.8750420858352477, 1.1272546749496424, 1.70752438196234, 1.1272657553486574, 1.7287127870268273, 1.1272561370334049, 1.7285906456531255, 1.1270349076366577, 0.921786840310811, 0.9217816924624951, 0.9212017828565857, 0.6479936596267373, 1.1272911881358751, 0.8739142198799982, 1.728743261934511, 0.9217396270708335, 1.6000215040735084, 0.6926234516788049, 1.693481028168571, 1.5395289075765557, 1.3199318484950682, 1.3198764733556836, 1.7912883456617505, 1.6369945528215328, 0.8935373744059933, 1.6370012926326913, 1.7904363646287478, 1.7912954347322396, 1.1273085832229675, 0.8750492034715227, 1.7287231082710481, 0.9217731798450713, 0.9217967898071391, 2.0963130364119977, 1.7611597703728934, 1.1272972141201174, 0.38975416390367384, 0.9217893708186062, 0.7790418855435497, 0.9153534409477957, 0.7394397150276659, 1.3193189014644666, 1.7325644368305435, 0.9217864038073955, 1.5997346983548961, 1.58302206170865, 0.921792597494556, 0.6889435491171751, 1.1272327920965786, 2.34742883994054, 1.3069986767271262, 1.636915500435614, 0.9216926321206939, 1.2731806277709996, 1.5530974940704316, 0.8928143536313465, 0.9217105047179679, 1.1272901177327397, 1.5530396167722413, 0.9213647639086532, 0.9217966126007435, 1.0805580617918484, 1.6935118775317557, 0.053717765196698006, 0.3747664246803585, 0.9217011683041616, 1.5898292951746913, 0.7805524661438292, 1.1272975167089059, 1.8713422410776417, 0.874986789134326, 1.4904515343086968, 1.319909655947566, 0.9217969193011303, 0.9217957844313717, 0.8748046503643466, 1.6354912334918048, 1.728710477949555, 0.9217823842842005, 2.472463911043131, 1.5997537695692166, 1.7287133635102858, 0.7448916048550658, 0.9189870560495714, 2.0438493363126446, 0.8750475799515304, 0.9174947094802258, 0.8750314003893579, 1.693929313062655, 0.9217522033506833, 1.5998367555545476, 0.21740778307017536, 1.5527189773446715, 0.6926913351874779, 2.0073223080021805, 0.7916171169578805, 1.5530951701509186, 1.5998466605784105, 0.86498140218769, 0.8257652430087984, 1.5530583329983316, 0.9212026406310009, 1.0805403680379964, 1.127287598340796, 0.8749199926493111, 1.7286354650721594, 0.8329855580984822, 1.0805109263665738, 0.911240370892316, 2.9404084914810924, 1.8246070895542361, 2.64381951947206, 1.08358018943262, 1.5998226456206563, 0.056318410942764394, 0.9217886126762137, 1.599840532568318, 1.5530988238075827, 0.8825449826617597, 1.0805581919840732, 0.9217520191926263, 1.8711143447526233, 1.691155644493138, 1.1270640725223104, 1.1272983120762947, 2.347254934032067, 0.9035878152333428, 1.1273544903025896, 0.921679807383853, 0.921769777569582, 0.6927293001286597, 0.9218002466737204, 1.127089952974165, 0.9157030128271404, 0.7425079168823996, 1.1268016452979903, 0.9218001041986141, 0.9216305384912604, 1.1272231336277472, 0.9217211888937429, 1.7287544721647994, 0.7307732875895794, 0.7394336915015399, 2.3476024229613364, 0.8708316337445691, 0.9216635828853309, 0.3899252470038623, 0.6089257490952595, 1.6370086915997653, 2.3478553942706606, 2.3478732077583286, 0.692319119708315, 1.728755645929954, 1.9642093497331305, 1.0322441359745411, 0.9216519570778867, 0.8750557534579171], \"z\": [-0.4658902744492687, -0.4664548515510434, -0.6093517605935361, -0.42734733894114935, -0.08358034447413909, -0.3269744963280445, -0.028473191379649113, -0.6204291077896162, -0.4659013270461962, -0.4661735637326649, -0.4659451391771216, -0.46589038189014753, -0.46589091465754656, -0.26996242899831957, -0.3545953455675445, 0.039590542397898554, -0.33246989975263863, -0.46595130820304487, -0.1295833523071357, -0.42735118180272025, -0.34874162679371784, -0.17687929031273816, -0.32811764128063997, -0.16739595425759196, -0.5407315585547403, -0.5407088522450333, -0.31140967238954087, -0.4660638765149464, -0.4659405903376674, -0.478959954021873, -0.1288576291181047, -0.4273394199520824, 0.06397982569316728, -0.03661973769636267, -0.4273418272874151, -0.4666633660774584, -0.46593036743871324, -0.40135248913896815, -0.42734349144384437, 0.06398872205739764, -0.540716849209951, -0.46613322038860927, -0.19945195361885223, -0.010217872377481384, -0.32699950375914766, -0.3546168124784774, -0.1673979970193209, -0.5407051204089184, -0.16755222337402942, -0.4658909288266771, -0.540707028765342, -0.12883976080831902, -0.4658989874823715, -0.4273400941009142, 0.06650377442828626, -0.7511318868110552, -0.043255851990746635, -0.16744815694798568, -0.5407212165398265, -0.3271661935361728, -0.6203664676648811, -0.3980622390871157, -0.3269755577669403, -0.43694037506486083, -0.32697417324194766, -0.5503262006216326, -0.4659017189593097, -0.16744304241713517, -0.4274120147611245, -0.2013884831994935, -0.32697905856243764, -0.2463880661862323, 0.03958061866211529, -0.42741268010492695, -0.32700997659359576, -0.32707036530162525, -0.5458900971151313, -0.42737489049861094, -0.016614909202496204, -0.46660670892973133, -0.4659001379577952, -0.46595255393921403, -0.2422353208455314, -0.12924419867991635, -0.42735520644356034, -0.46592544588981744, -0.32697401020881534, -0.42734024334624005, -0.46589514186126163, -0.4658911392785531, -0.16746148912170108, -0.1334720338761575, -0.6993078128525242, 0.03954697265143065, -0.46590521987188177, -0.42772287194789194, 0.03951969385448098, -0.24219925519823607, -0.6071246179178416, 0.03953186317880683, -0.6888509221243301, -0.10701160440275106, -0.42735290601322246, -0.5819545932946347, -0.4273418190836465, 0.039561934807285974, -0.4659047137751136, -0.4658987991625175, 0.03958061866211529, -0.4273527432638726, -0.32697910342095104, -0.4659051397011722, -0.1453790623916154, -0.46590016961208536, -0.4660102862597255, -0.42734066729233305, -0.4659194928821888, -0.18821479531533536, -0.46589412335612396, -0.46589233948045916, -0.11293902000402213, -0.2874764620374869, -0.4659894427797984, -0.3269748709450212, -0.427343597587735, -0.46589908422956666, -0.465894293313165, -0.16739691364632914, -0.16303937727666187, -0.24220674414032473, -0.46651306958410343, -0.1674080420391878, -0.4273629843510198, -0.5713322665879024, -0.42740820776218574, 0.039524009384560306, -0.4273667108308586, 0.03934332280159707, -0.4274821449679097, -0.46589642190444736, -0.4658958476586527, -0.4660674652168535, -0.04178304847705753, -0.4273541534361261, -0.16787139263454545, 0.039582687455457614, -0.4659183783702022, -0.6544097910114826, -0.02850565115227262, -0.01665405590514381, -0.7814089412183807, -0.5458405949343594, -0.5458862629794264, -0.6097762912548834, -0.5407168860563648, -0.4787711453962811, -0.5407152107010988, -0.11714990078340314, -0.609794359493473, -0.42734670545210957, -0.16739727832266296, 0.03958039004099131, -0.4659075247586534, -0.465892890162791, -0.08174821103684701, 0.001313407876283302, -0.427347435160094, -0.3115597817153317, -0.4658935672884492, -0.048827771546280756, -0.491919026263119, -0.32702876397071895, -0.5462992413719211, -0.3340081521694384, -0.46589494913815305, -0.41148515899011273, -0.05410954164646573, -0.4659001863419096, -0.034070787878050714, -0.4273819326007789, -0.10715816655124806, -0.5638071178594363, -0.540821082854424, -0.46597691424196375, -0.24734337936535344, -0.11294277507596316, -0.4769283492382173, -0.46592057320437297, -0.4273684075414227, -0.11296508346351485, -0.46631303957988857, -0.4658920988629202, -0.12884070345780474, -0.016605315908900305, 0.12999438921934292, 0.018607347836621015, -0.466036031843399, -0.24244194598071042, -0.3064623453599207, -0.4273448099238397, -0.2785355015143575, -0.16741922125844722, 0.06691254708711061, -0.5458519609354063, -0.4658911823351623, -0.46589168629879624, -0.16759352996815477, -0.10635830742595627, 0.03956774821265476, -0.46589998845702435, -0.007332210512695291, -0.4115337666673915, 0.039573979484509844, 0.011890252819284082, -0.4674227070057849, 0.10555043945330243, -0.16740773514838586, -0.4722427850651974, -0.1673970656807713, -0.6870726588681132, -0.46591476929991865, -0.32188081311129463, -0.36967898458963894, -0.11304791648288104, -0.02850914834486732, -0.04877096081534219, -0.2866352867080692, -0.11293855022495937, -0.4114396239986067, -0.17037355980551844, -0.34733245631215537, -0.11297882178446342, -0.46606965146578616, -0.12885334636577309, -0.42736198625180455, -0.16747993315292414, 0.03955175302079593, -0.35254302605685606, -0.12885472733811387, -0.469548252710427, -0.15230604502208808, 0.01996782606967983, 0.22340941395233763, -0.13650767575927988, -0.41146137276830647, 0.1384022365769885, -0.4659005789832615, -0.41144758516771773, -0.11293490497914371, -0.4928704143252749, -0.12883882758688814, -0.46591429992784505, -0.27870187250916506, -0.6883246052537475, -0.4274206205212521, -0.42735532825851913, -0.1075640391378296, -0.4789137280001411, -0.4274475654041222, -0.46592724495710136, -0.4659090495927886, -0.028471305947646023, -0.46589456827481973, -0.427622441540338, -0.4681856744808193, -0.3350016711589445, -0.4277367331027148, -0.4659196785781701, -0.46614131689006594, -0.4274660022800015, -0.4659647867432231, 0.039589778238815855, -0.12086140202563955, -0.32702190267923525, -0.10702304908312828, -0.17361550174936058, -0.46605571574259763, -0.3114187167093047, -2.7831852275642657, -0.5407021791230442, -0.10739623056659124, -0.10744163261835651, -0.029088426594601396, 0.03958740792390732, 0.34824455786091435, -0.08789281661271568, -0.4659411730608477, -0.167386111611443]}, {\"customdata\": [[\"SHA-256\"], [\"Ethash\"], [\"Scrypt\"], [\"CryptoNight-V7\"], [\"Ethash\"], [\"Equihash\"], [\"Multiple\"], [\"Scrypt\"], [\"X11\"], [\"Scrypt\"], [\"Multiple\"], [\"Scrypt\"], [\"SHA-256\"], [\"Scrypt\"], [\"Scrypt\"], [\"Quark\"], [\"Groestl\"], [\"Scrypt\"], [\"Scrypt\"], [\"Scrypt\"], [\"X11\"], [\"Multiple\"], [\"SHA-256\"], [\"Scrypt\"], [\"Scrypt\"], [\"Scrypt\"], [\"Scrypt\"], [\"Scrypt\"], [\"NeoScrypt\"], [\"Scrypt\"], [\"Scrypt\"], [\"Scrypt\"], [\"Scrypt\"], [\"SHA-256\"], [\"Scrypt\"], [\"Scrypt\"], [\"Scrypt\"], [\"Scrypt\"], [\"HybridScryptHash256\"], [\"Scrypt\"], [\"Scrypt\"], [\"SHA-256\"], [\"Scrypt\"], [\"Scrypt\"], [\"Scrypt\"], [\"Scrypt\"], [\"SHA-256\"], [\"SHA-256\"], [\"SHA-256\"], [\"SHA-256\"], [\"SHA-256\"], [\"X11\"], [\"Scrypt\"], [\"Lyra2REv2\"], [\"Scrypt\"], [\"SHA-256\"], [\"CryptoNight\"], [\"CryptoNight\"], [\"Scrypt\"], [\"Scrypt\"], [\"Scrypt\"], [\"Scrypt\"], [\"Scrypt\"], [\"Scrypt\"], [\"Stanford Folding\"], [\"Multiple\"], [\"QuBit\"], [\"Scrypt\"], [\"Scrypt\"], [\"M7 POW\"], [\"Scrypt\"], [\"SHA-256\"], [\"Scrypt\"], [\"X11\"], [\"Lyra2RE\"], [\"SHA-256\"], [\"X11\"], [\"Scrypt\"], [\"Scrypt\"], [\"Ethash\"], [\"Blake2b\"], [\"X11\"], [\"SHA-256\"], [\"Scrypt\"], [\"1GB AES Pattern Search\"], [\"Scrypt\"], [\"SHA-256\"], [\"X11\"], [\"Dagger\"], [\"Scrypt\"], [\"X11GOST\"], [\"Scrypt\"], [\"X11\"], [\"Scrypt\"], [\"X11\"], [\"Equihash\"], [\"CryptoNight\"], [\"SHA-256\"], [\"Multiple\"], [\"Scrypt\"], [\"SHA-256\"], [\"Scrypt\"], [\"Lyra2Z\"], [\"Ethash\"], [\"Equihash\"], [\"Scrypt\"], [\"X11\"], [\"X11\"], [\"CryptoNight\"], [\"Scrypt\"], [\"CryptoNight\"], [\"Lyra2RE\"], [\"X11\"], [\"CryptoNight-V7\"], [\"Scrypt\"], [\"X11\"], [\"Equihash\"], [\"Scrypt\"], [\"Lyra2RE\"], [\"Dagger-Hashimoto\"], [\"Scrypt\"], [\"NIST5\"], [\"Scrypt\"], [\"SHA-256\"], [\"Scrypt\"], [\"CryptoNight-V7\"], [\"Argon2d\"], [\"Blake2b\"], [\"Cloverhash\"], [\"CryptoNight\"], [\"X11\"], [\"Scrypt\"], [\"Scrypt\"], [\"X11\"], [\"X11\"], [\"CryptoNight\"], [\"Time Travel\"], [\"Scrypt\"], [\"Keccak\"], [\"X11\"], [\"SHA-256\"], [\"Scrypt\"], [\"Scrypt\"], [\"Scrypt\"], [\"Scrypt\"], [\"Scrypt\"], [\"Scrypt\"], [\"CryptoNight\"], [\"Equihash\"], [\"X11\"], [\"NeoScrypt\"], [\"Equihash\"], [\"Dagger\"], [\"Scrypt\"], [\"X11\"], [\"NeoScrypt\"], [\"Ethash\"], [\"NeoScrypt\"], [\"Multiple\"], [\"CryptoNight\"], [\"CryptoNight\"], [\"Ethash\"], [\"X11\"], [\"CryptoNight-V7\"], [\"Scrypt\"], [\"BLAKE256\"], [\"X11\"], [\"NeoScrypt\"], [\"NeoScrypt\"], [\"Scrypt\"], [\"X11\"], [\"SHA-256\"], [\"C11\"], [\"CryptoNight\"], [\"SkunkHash\"], [\"CryptoNight\"], [\"Scrypt\"], [\"Dagger\"], [\"Lyra2REv2\"], [\"Scrypt\"], [\"Scrypt\"], [\"X11\"], [\"Proof-of-Authority\"], [\"Ethash\"], [\"CryptoNight\"], [\"Scrypt\"], [\"IMesh\"], [\"Equihash\"], [\"Lyra2Z\"], [\"X11\"], [\"CryptoNight\"], [\"NIST5\"], [\"Lyra2RE\"], [\"Tribus\"], [\"Lyra2Z\"], [\"CryptoNight\"], [\"CryptoNight Heavy\"], [\"CryptoNight\"], [\"Jump Consistent Hash\"], [\"CryptoNight\"], [\"X16R\"], [\"HMQ1725\"], [\"X11\"], [\"Scrypt\"], [\"CryptoNight-V7\"], [\"Cryptonight-GPU\"], [\"XEVAN\"], [\"CryptoNight Heavy\"], [\"SHA-256\"], [\"X11\"], [\"X16R\"], [\"ECC 256K1\"], [\"Equihash\"], [\"Lyra2Z\"], [\"SHA-256\"], [\"CryptoNight\"], [\"Blake\"], [\"Blake\"], [\"Exosis\"], [\"Scrypt\"], [\"Equihash\"], [\"Equihash\"], [\"QuBit\"], [\"SHA-256\"], [\"X13\"], [\"SHA-256\"], [\"Scrypt\"], [\"NeoScrypt\"], [\"Blake\"], [\"Scrypt\"], [\"SHA-256\"], [\"Scrypt\"], [\"Groestl\"], [\"Scrypt\"], [\"Scrypt\"], [\"Multiple\"], [\"Equihash+Scrypt\"], [\"Ethash\"], [\"CryptoNight\"], [\"Equihash\"]], \"hovertemplate\": \"<b>%{hovertext}</b><br><br>Class=%{marker.color}<br>PC 1=%{x}<br>PC 2=%{y}<br>PC 3=%{z}<br>Algorithm=%{customdata[0]}<extra></extra>\", \"hovertext\": [\"Bitcoin\", \"Ethereum\", \"Litecoin\", \"Monero\", \"Ethereum Classic\", \"ZCash\", \"DigiByte\", \"ProsperCoin\", \"Spreadcoin\", \"Argentum\", \"MyriadCoin\", \"MoonCoin\", \"ZetaCoin\", \"SexCoin\", \"Quatloo\", \"QuarkCoin\", \"Riecoin\", \"Digitalcoin \", \"Catcoin\", \"CannaCoin\", \"CryptCoin\", \"Verge\", \"DevCoin\", \"EarthCoin\", \"E-Gulden\", \"Einsteinium\", \"Emerald\", \"Franko\", \"FeatherCoin\", \"GrandCoin\", \"GlobalCoin\", \"GoldCoin\", \"Infinite Coin\", \"IXcoin\", \"KrugerCoin\", \"LuckyCoin\", \"Litebar \", \"MegaCoin\", \"MediterraneanCoin\", \"MinCoin\", \"NobleCoin\", \"Namecoin\", \"NyanCoin\", \"RonPaulCoin\", \"StableCoin\", \"SmartCoin\", \"SysCoin\", \"TigerCoin\", \"TerraCoin\", \"UnbreakableCoin\", \"Unobtanium\", \"UroCoin\", \"ViaCoin\", \"Vertcoin\", \"WorldCoin\", \"JouleCoin\", \"ByteCoin\", \"DigitalNote \", \"MonaCoin\", \"Gulden\", \"PesetaCoin\", \"Wild Beast Coin\", \"Flo\", \"ArtByte\", \"Folding Coin\", \"Unitus\", \"CypherPunkCoin\", \"OmniCron\", \"GreenCoin\", \"Cryptonite\", \"MasterCoin\", \"SoonCoin\", \"1Credit\", \"MarsCoin \", \"Crypto\", \"Anarchists Prime\", \"BowsCoin\", \"Song Coin\", \"BitZeny\", \"Expanse\", \"Siacoin\", \"MindCoin\", \"I0coin\", \"Revolution VR\", \"HOdlcoin\", \"Gamecredits\", \"CarpeDiemCoin\", \"Adzcoin\", \"SoilCoin\", \"YoCoin\", \"SibCoin\", \"Francs\", \"BolivarCoin\", \"Omni\", \"PizzaCoin\", \"Komodo\", \"Karbo\", \"ZayedCoin\", \"Circuits of Value\", \"DopeCoin\", \"DollarCoin\", \"Shilling\", \"ZCoin\", \"Elementrem\", \"ZClassic\", \"KiloCoin\", \"ArtexCoin\", \"Kurrent\", \"Cannabis Industry Coin\", \"OsmiumCoin\", \"Bikercoins\", \"HexxCoin\", \"PacCoin\", \"Citadel\", \"BeaverCoin\", \"VaultCoin\", \"Zero\", \"Canada eCoin\", \"Zoin\", \"DubaiCoin\", \"EB3coin\", \"Coinonat\", \"BenjiRolls\", \"ILCoin\", \"EquiTrader\", \"Quantum Resistant Ledger\", \"Dynamic\", \"Nano\", \"ChanCoin\", \"Dinastycoin\", \"DigitalPrice\", \"Unify\", \"SocialCoin\", \"ArcticCoin\", \"DAS\", \"LeviarCoin\", \"Bitcore\", \"gCn Coin\", \"SmartCash\", \"Onix\", \"Bitcoin Cash\", \"Sojourn Coin\", \"NewYorkCoin\", \"FrazCoin\", \"Kronecoin\", \"AdCoin\", \"Linx\", \"Sumokoin\", \"BitcoinZ\", \"Elements\", \"VIVO Coin\", \"Bitcoin Gold\", \"Pirl\", \"eBoost\", \"Pura\", \"Innova\", \"Ellaism\", \"GoByte\", \"SHIELD\", \"UltraNote\", \"BitCoal\", \"DaxxCoin\", \"AC3\", \"Lethean\", \"PopularCoin\", \"Photon\", \"Sucre\", \"SparksPay\", \"GunCoin\", \"IrishCoin\", \"Pioneer Coin\", \"UnitedBitcoin\", \"Interzone\", \"TurtleCoin\", \"MUNcoin\", \"Niobio Cash\", \"ShareChain\", \"Travelflex\", \"KREDS\", \"BitFlip\", \"LottoCoin\", \"Crypto Improvement Fund\", \"Poa Network\", \"Callisto Network\", \"BitTube\", \"Poseidon\", \"Aidos Kuneen\", \"Bitrolium\", \"Alpenschillling\", \"FuturoCoin\", \"Monero Classic\", \"Jumpcoin\", \"Infinex\", \"KEYCO\", \"GINcoin\", \"PlatinCoin\", \"Loki\", \"Newton Coin\", \"MassGrid\", \"PluraCoin\", \"Motion\", \"PlusOneCoin\", \"Axe\", \"HexCoin\", \"Webchain\", \"Ryo\", \"Urals Coin\", \"Qwertycoin\", \"Project Pai\", \"Azart\", \"Xchange\", \"Acute Angle Cloud\", \"CrypticCoin\", \"Actinium\", \"Bitcoin SV\", \"FREDEnergy\", \"Universal Molecule\", \"Lithium\", \"Exosis\", \"Block-Logic\", \"Beam\", \"Bithereum\", \"SLICE\", \"BLAST\", \"Bitcoin Rhodium\", \"GlobalToken\", \"SolarCoin\", \"UFO Coin\", \"BlakeCoin\", \"Crypto Escudo\", \"Crown Coin\", \"SmileyCoin\", \"Groestlcoin\", \"Bata\", \"Pakcoin\", \"JoinCoin\", \"Vollar\", \"Reality Clash\", \"Beldex\", \"Horizen\"], \"legendgroup\": \"1\", \"marker\": {\"color\": [1, 1, 1, 1, 1, 1, 1, 1, 1, 1, 1, 1, 1, 1, 1, 1, 1, 1, 1, 1, 1, 1, 1, 1, 1, 1, 1, 1, 1, 1, 1, 1, 1, 1, 1, 1, 1, 1, 1, 1, 1, 1, 1, 1, 1, 1, 1, 1, 1, 1, 1, 1, 1, 1, 1, 1, 1, 1, 1, 1, 1, 1, 1, 1, 1, 1, 1, 1, 1, 1, 1, 1, 1, 1, 1, 1, 1, 1, 1, 1, 1, 1, 1, 1, 1, 1, 1, 1, 1, 1, 1, 1, 1, 1, 1, 1, 1, 1, 1, 1, 1, 1, 1, 1, 1, 1, 1, 1, 1, 1, 1, 1, 1, 1, 1, 1, 1, 1, 1, 1, 1, 1, 1, 1, 1, 1, 1, 1, 1, 1, 1, 1, 1, 1, 1, 1, 1, 1, 1, 1, 1, 1, 1, 1, 1, 1, 1, 1, 1, 1, 1, 1, 1, 1, 1, 1, 1, 1, 1, 1, 1, 1, 1, 1, 1, 1, 1, 1, 1, 1, 1, 1, 1, 1, 1, 1, 1, 1, 1, 1, 1, 1, 1, 1, 1, 1, 1, 1, 1, 1, 1, 1, 1, 1, 1, 1, 1, 1, 1, 1, 1, 1, 1, 1, 1, 1, 1, 1, 1, 1, 1, 1, 1, 1, 1, 1, 1, 1, 1, 1, 1, 1, 1, 1, 1, 1, 1, 1, 1, 1, 1, 1, 1, 1, 1, 1, 1, 1, 1, 1], \"coloraxis\": \"coloraxis\", \"symbol\": \"diamond\"}, \"mode\": \"markers\", \"name\": \"1\", \"scene\": \"scene\", \"showlegend\": true, \"type\": \"scatter3d\", \"x\": [-0.1391567105965107, -0.1477301637754863, -0.17188687419306292, -0.1414610800877914, -0.14616734369632214, -0.14830393279323223, 0.1590840706340978, -0.17303639457288983, -0.2202682856530178, -0.17265176888674308, -0.09506252273269246, 2.5573479494238587, -0.1362333388160897, -0.16989920487622798, -0.1724551594944084, -0.22690463106202452, -0.20078102193709962, -0.17250422224876225, -0.17301861287292544, -0.17310532519136249, -0.2203578745935616, 0.1828834425027222, 0.2397714786977035, 0.07633597090970246, -0.1728509131382606, -0.16844353936015247, -0.1727900094887247, -0.17316248743970986, -0.16270607740370327, -0.15232455082452978, -0.17195416914295444, -0.1722323564026636, 1.5807329240135917, -0.1391179760811722, -0.16951385636089641, -0.17287742898277333, -0.17323325517590998, -0.172490386117531, -0.1811662061664455, -0.17311417532109238, -0.03760942190624013, -0.13919579545497116, -0.16676002869845372, -0.1730935273206899, -0.17118202546885766, -0.1725787957046992, -0.12631061826058104, -0.13865804005633925, -0.1389460333164583, -0.13892885470241514, -0.13952139764541782, -0.2205322926690091, -0.172809247676324, -0.1858912093098134, -0.16990388373566725, -0.13872552214547607, 3.8829034856744107, 0.4721800533179249, -0.17167354036817473, -0.15622611908502435, -0.17038872087236992, -0.173235466472154, -0.17025341688611467, -0.15643738271553753, -0.11132849769536472, -0.12916681068434963, -0.18575098639289356, -0.17310820027117746, -0.045673307075707735, -0.10208853728220704, -0.1732443891672672, -0.13922364773834145, 0.4809519856984999, -0.2199177273702426, -0.16324267341694482, -0.1389627084802265, -0.22020343009104726, -0.17136247343136388, -0.17055241821677905, -0.14880044278527257, 0.38109500297335347, -0.22023893758314408, -0.13911910145333198, -0.16919072372463642, -0.15552951860571845, -0.17180361724699292, 0.28055784050876964, -0.21939719043036077, -0.1470127287678801, -0.17205144872308034, -0.1514907150341548, -0.17303367546240941, -0.22020205431591588, -0.1732444478289142, -0.22035242912797876, -0.2555979805605068, 0.31663641830147443, -0.13937992135872573, -0.1091819357330023, -0.17040291682957986, -0.13933843687322084, -0.17290685121224092, -0.14683880758626794, -0.14854187687899917, -0.14832560806062853, -0.0997423758730454, -0.20689815844620463, -0.21817410719368802, 0.3166308007936553, -0.17322613006560877, 0.31676188103326924, -0.163784744661889, 0.4971254674531106, -0.14022189024508513, -0.17319432982089372, -0.2130639300997146, -0.14833802845836067, -0.1713222726207792, -0.1635023326382009, -0.12836502206122788, -0.1440274535787737, -0.18067262857615582, -0.1727554300439237, -0.10560673944344062, -0.17257690404405648, -0.14007948795166889, -0.14696403465522348, -0.02028504695384888, -0.14364292698874445, 0.352856148397237, -0.21940555760226382, -0.17289718659324335, -0.17265975949074153, -0.21980142294604396, -0.2203805558784171, 0.317026953091234, -0.12528513225787022, 3.2462491999218965, -0.10827870323776806, -0.21122479314398304, -0.13915587256286951, -0.09858547671796575, 1.578479620818489, -0.17299529543848785, -0.17244526598714832, -0.17214538694863074, -0.17213228267656738, 0.3172111640892414, 0.06462426392581663, -0.1746392004348653, -0.16740838700773011, -0.14818365288010343, -0.1457680965727314, -0.17132047695245456, -0.21591197231919448, -0.16725332758775205, -0.1469019008233875, -0.16735384291229638, -0.11937030180312791, 1.1570895441669107, 0.3166134980959413, -0.07155915993909723, -0.21565223979305612, -0.1291595006442139, -0.08914282612433248, 1.0951395631107383, -0.22035448170669364, -0.16740595740450845, -0.16042361425327642, -0.17224414479590652, -0.22027967848211952, -0.1391352170197791, -0.17633261942241168, 8.078345687133968, -0.12341886821358536, 0.3204993511387511, 0.020346413274932997, -0.14527014593955642, -0.17140726013866955, -0.17281948808739708, 0.13513993753386538, -0.21440335234978647, -0.4200241089018667, -0.0997949695376332, 0.32456098572189984, -0.17305719513518172, -0.15075278115786434, -0.14717187695971914, -0.14461550078848373, -0.21944643991298765, 0.31679652657056434, -0.18073233318590465, -0.16362951665952769, -0.159922997118634, -0.146923444587479, 0.32073709481654916, 0.5846569671644701, 2.130714300034418, -0.1775058390465967, 0.33044111612916705, -0.1974182120640851, -0.13783370707254222, -0.2203365901995581, -0.17308183986709885, -0.12903677520340748, -0.1464400661188045, -0.21164123876227176, 3.114571409091551, -0.09886904931861851, -0.22030786649895928, -0.19684415581233392, -0.34324867706503615, -0.04262320774528065, -0.1463193507853587, -0.13915591022956145, 0.3967961281257866, -0.13463037806882452, -0.13502370146942283, -0.1443899686175761, -0.17197085440856974, -0.1462377946393054, -0.14801599113609215, -0.1849595297139951, -0.13842997119252776, -0.0946886079736048, -0.13729454317158005, 0.5250083276957221, -0.09235778593680977, -0.08533446740918903, -0.15658837470402237, -0.13894540207064807, 0.5446751278584475, -0.20034077507653483, -0.17315893726183346, -0.17110860181113577, -0.12990366833277583, -0.12594250888040467, -0.14857512999721506, 0.33843347132206186, -0.1483049925900208], \"y\": [-1.2776973943222716, -1.916691777909927, -1.0954118440568286, -2.1344767186420643, -1.9168161271363313, -1.9140615800115, -1.769190321318776, -1.0953842593085894, -0.8898692239269553, -1.0954087985251169, -1.7595497251598087, -1.324569502822724, -1.2777595690665382, -1.0954993963659962, -1.0954311337357279, -0.4174246207261744, -1.1852136651759757, -1.0953956329242691, -1.095384005386178, -1.0953797541276873, -0.8898691064340378, -1.765746030511708, -1.2869382661756565, -1.101237105189075, -1.0953816106364611, -1.0955133850758954, -1.0953884234523596, -1.0953792404989242, -1.6273743794255329, -1.0960659969973194, -1.095403027276117, -1.0954085682072456, -1.1336018139125306, -1.277696841193962, -1.0955046636486245, -1.0953812908714982, -1.0953733467023017, -1.0953911289433549, -2.141528370473933, -1.0953776874974084, -1.1039118599461508, -1.2776979524534624, -1.0955153307188985, -1.095385075163378, -1.0955177150249826, -1.0953988168105637, -1.2781194745026554, -1.2777084403544765, -1.277709052481228, -1.2777353467823405, -1.2776881100232185, -0.8898590257266566, -1.09538241247594, -1.191418235198791, -1.0955102332337368, -1.2777079988174695, -2.3176588105322358, -2.2445139406756525, -1.0954235480896675, -1.0963028723883363, -1.0954479897241647, -1.0953742708486176, -1.0954415975337053, -1.0958309698667625, -2.1123013544760876, -1.7586399122285103, -1.4516824491712477, -1.0953729726437693, -1.1005349579661985, -2.2105149003239264, -1.0953729954910576, -1.2776983501836554, -1.1502844445167588, -0.889873297300655, -2.1300543717591323, -1.2777175039136563, -0.8898689962013228, -1.0954925230046806, -1.0955087242427857, -1.9167188690890031, -2.1803643573871496, -0.8898660111936415, -1.27769685726426, -1.0954613428325644, -2.006082098802513, -1.0954106551488747, -1.2867932382688962, -0.8899014829931247, -2.1545924979288147, -1.0954731060399479, -2.198851691211071, -1.0953835220689039, -0.8898717701985865, -1.0953729942125605, -0.889873917548667, -1.1688975415463714, -2.239757977298454, -1.2776927148690629, -1.7591926215050502, -1.0954716688237969, -1.2776927526459203, -1.0953886951287777, -2.1257973047980427, -1.91672167139317, -1.9140618895339954, -1.1013070634645954, -0.8900135359067259, -0.889984588541932, -2.2397657400354904, -1.0953741977879474, -2.2397666618549303, -2.130023148816224, -0.9494519663891503, -2.134588229032725, -1.095374194654575, -0.8904507884482765, -1.914059273253778, -1.0954149561280189, -2.1300267984965324, -2.1520735632349504, -1.0977489887473857, -0.6972612378382806, -1.0953903883438814, -1.2789496616758411, -1.0954133167429008, -2.1345303226638497, -2.123293932090008, -2.186333715421136, -2.107156297281809, -2.240630597639111, -0.889912777049464, -1.095381067919171, -1.095416595149932, -0.8898904935675639, -0.8898700588921934, -2.2397831305438975, -2.286529745714351, -1.1862244108483206, -1.18656043715461, -0.8904943666827025, -1.2776973823551567, -1.1016397483758908, -1.0703579700271575, -1.095382974002733, -1.0954198178833423, -1.0954267101883808, -1.0954265230595706, -2.239804866790743, -1.9256729292903778, -0.890460812542495, -1.6272257193908855, -1.9140598624161291, -2.154662938589356, -1.095414930485902, -0.8900374914105856, -1.6272360765395786, -1.9168755053591455, -1.627228292873988, -1.7589609693738784, -2.287114255435093, -2.239760050625718, -1.9225881653883585, -0.8901734645995851, -2.13499910098375, -1.0976636479108466, -1.220190288214191, -0.8898703151231544, -1.6272214942312182, -1.6274563252614864, -1.0954029776591607, -0.8898714818488697, -1.277696504919678, -1.236620897754638, -2.8273247283027625, -2.2457246524524694, -2.2399304966049254, -1.099592197341331, -2.1546165026299033, -1.1919209900213095, -1.0953944316929352, -1.1038244732734082, -0.8901207099640639, -2.6585408690185126, -1.9205469344313666, -2.240336241313303, -1.0953845563403097, -2.146345796743172, -1.9140796364016062, -2.125960133266725, -0.8899133608482531, -2.239761557605708, -0.6972430573273337, -2.1300323022916374, -2.1941221244223903, -2.1257909007351348, -2.240111482449125, -2.1694996943901996, -2.342353580376622, -2.0451975411259835, -2.2402522731385273, -1.2255231233137904, -2.0725697266738634, -0.8898708977256922, -1.0953856801943618, -2.1355215187021583, -2.1192476568987666, -0.14591607893523828, -2.2621036376068293, -1.2785740832298302, -0.8898732811949872, -1.2255693489739405, -0.2121148733696807, -1.9178457164951341, -2.1258336074804856, -1.2776973828930367, -2.2442494732165477, -2.1410446706002793, -2.1409944903724396, -2.0961983615502047, -1.0954381860828648, -1.9142009513276093, -1.9140643726983633, -1.4517409882644472, -1.2777170481599889, -0.3801636061993761, -1.2777734689908515, -1.1539156266592896, -1.6289287841434743, -2.1451561845782225, -1.095833126030113, -1.2777090434670468, -1.1200412242161282, -1.1852220450847424, -1.0953748346431162, -1.0954691745999345, -1.7586523900950908, -2.068778256534634, -1.9167209466602582, -2.2404176622296768, -1.9140615951453812], \"z\": [0.13206070335106007, 0.2904854318921019, -0.006890803814410348, 0.3547605719849131, 0.2904457383533256, 0.29895786177762623, 0.21576981917238736, -0.0068541218934999575, 0.03169451106149145, -0.006864601518975903, 0.22346474275739248, -0.0748034998949027, 0.13196648197468072, -0.006949561261740987, -0.006868810991710709, 0.04744693842657748, 0.10441238789470417, -0.006871267529526378, -0.006854769077177102, -0.006852256373814949, 0.03169760806006991, 0.21453982572021993, 0.11998618877711115, -0.014827135325163431, -0.006860872685445662, -0.006998466596296831, -0.006862189069445151, -0.006850331737229966, 0.14748237956097143, -0.007493403572162557, -0.006889500340058434, -0.0068791916281938, -0.06327118206345465, 0.13205929356761703, -0.00696232434827284, -0.006859989455970751, -0.0068485651514784435, -0.006872275751437044, 0.30115649571625247, -0.006852191249739236, -0.010557209007030392, 0.132062125885595, -0.007056694576642846, -0.006852042487038401, -0.006902871656704439, -0.006868305039751352, 0.1316641138242581, 0.1320446825987402, 0.13205475422402022, 0.1320572390083913, 0.13207227828629145, 0.0317024830229498, -0.006862225458602968, 0.11168753912734337, -0.006948128891646881, 0.13204697401571241, 0.14789229991272493, 0.25775030166342844, -0.0068968398080802035, -0.0073301727119098, -0.0069385879976951725, -0.006848380074205937, -0.006944035175345217, -0.007378136505325285, 0.3313295005889851, 0.22454231903293725, 0.17159056832368114, -0.006852951224859625, -0.010672928330941843, 0.36474360486858554, -0.006848219705956073, 0.1320631395987497, -0.023128918194829054, 0.03168281607755262, 0.2979107074629013, 0.13205632360290817, 0.031692232417665306, -0.006899558124317488, -0.00692578687501064, 0.2905257694858064, 0.22251470659082342, 0.031693115537287035, 0.13205933452672075, -0.006978620881862916, 0.3434369300310768, -0.006893834038554491, 0.11855298260247228, 0.031668044559667145, 0.2872401947117927, -0.006877910423100347, 0.4933838680101105, -0.006854302700968132, 0.03169250971520845, -0.006848217818886724, 0.03169798276469248, 0.33222928247733785, 0.2625938685062645, 0.132067905466729, 0.2239131595823095, -0.006935320264359144, 0.13206646944163375, -0.006858100177159938, 0.3073268361133184, 0.29051711977341627, 0.29895865067178695, -0.008705027689690116, 0.031247175655181612, 0.0316353144902999, 0.26259497322976916, -0.0068487128206753504, 0.2625905297968746, 0.297925870792085, 0.013766832006950617, 0.35473061124451954, -0.006849817377135845, 0.03151250669190986, 0.29895877535490256, -0.006910043601309368, 0.2979164923778559, 0.3893492027233123, -0.007584281187026239, -0.08680757726748414, -0.006863159506093108, 0.13104250461514888, -0.00686667156303262, 0.354718880956709, 0.438490873958012, 0.23715120535984355, 0.3561614454611072, 0.2614384800625566, 0.03166965857299708, -0.006859329545507043, -0.006863410424139197, 0.03168079280538204, 0.03169850722761709, 0.2625832556553278, 0.2589900205659429, -0.11493582067140788, 0.10468232543052365, 0.031453753625738025, 0.13206067284993667, -0.008706212960722012, -0.07060410861819841, -0.006855699582315726, -0.006870480557621808, -0.006880085489404945, -0.006880562433172692, 0.2625794064989233, 0.29292509157070756, 0.030179472297023873, 0.1476282357082671, 0.29895348406365035, 0.2872052322827391, -0.0069101089565472154, 0.0315629665066632, 0.1476240653240187, 0.29047820231345556, 0.14762664336292344, 0.22423978088983892, 0.23896049381925713, 0.26259490731771173, 0.2885315338894015, 0.031569881784452275, 0.3543946432069658, -0.00950002236205501, 0.031646633133957464, 0.03169763188902976, 0.14762765622481203, 0.1474127290967743, -0.006879437426595423, 0.03169517124323726, 0.13205985281300256, 0.15257915098304342, 0.06194005730069754, 0.2595455962308783, 0.2624799536833333, -0.013075785507939898, 0.2871825005572171, 0.11124353262261569, -0.006860461424181125, -0.01656576765600548, 0.031520335083004065, 4.244383303453658, 0.28927275684902426, 0.2623864696939095, -0.00685336483515237, 0.3339582499403799, 0.2989206697011071, 0.307268717866664, 0.03167114652770537, 0.2625887286750578, -0.08680763462943568, 0.29792155350294486, 0.5236916764607091, 0.3073290244818788, 0.26249290723600904, 0.23159674839999, 0.2116268121260955, 0.39135600304325224, 0.2621724561616537, 0.1724306938197616, 0.4009020771506696, 0.031697078919903164, -0.006852377406630052, 0.3544516008557232, 0.16690991694726828, 0.18047400651575204, 0.1546030753807602, 0.1307645422621433, 0.0316963608609281, 0.17241617796443698, 0.31654857836843625, 0.29573178553616086, 0.30731305328217395, 0.13206067422085566, 0.26033684117035605, 0.2844493027444067, 0.284457079661185, 0.4559812011729525, -0.00688480093318165, 0.2989024520421085, 0.29894819093385366, 0.17156994668337738, 0.13203777213690168, -0.08166054798014681, 0.13200495866806186, -0.02423315536258268, 0.14522185070347166, 0.28321942099415526, -0.007372640993056002, 0.1320547312491648, -0.028885577420684944, 0.10439808334127439, -0.006850971304723219, -0.006911109283521585, 0.22456936690147766, 0.3451195639217906, 0.29051818948322805, 0.2619143212378239, 0.29895790035004594]}, {\"customdata\": [[\"VeChainThor Authority\"], [\"Proof-of-BibleHash\"], [\"SHA-256 + Hive\"], [\"Leased POS\"]], \"hovertemplate\": \"<b>%{hovertext}</b><br><br>Class=%{marker.color}<br>PC 1=%{x}<br>PC 2=%{y}<br>PC 3=%{z}<br>Algorithm=%{customdata[0]}<extra></extra>\", \"hovertext\": [\"Vechain\", \"BiblePay\", \"LitecoinCash\", \"Waves\"], \"legendgroup\": \"3\", \"marker\": {\"color\": [3, 3, 3, 3], \"coloraxis\": \"coloraxis\", \"symbol\": \"square\"}, \"mode\": \"markers\", \"name\": \"3\", \"scene\": \"scene\", \"showlegend\": true, \"type\": \"scatter3d\", \"x\": [4.350750115561104, -0.25597678469443286, -0.23088940013182685, -0.35011188688480516], \"y\": [0.6416456441996811, -1.919439720173226, 6.108147832919289, 5.747767706296859], \"z\": [9.853008660291046, 15.55541259483884, 10.325026362707924, 23.39495234417003]}, {\"customdata\": [[\"TRC10\"]], \"hovertemplate\": \"<b>%{hovertext}</b><br><br>Class=%{marker.color}<br>PC 1=%{x}<br>PC 2=%{y}<br>PC 3=%{z}<br>Algorithm=%{customdata[0]}<extra></extra>\", \"hovertext\": [\"BitTorrent\"], \"legendgroup\": \"2\", \"marker\": {\"color\": [2], \"coloraxis\": \"coloraxis\", \"symbol\": \"x\"}, \"mode\": \"markers\", \"name\": \"2\", \"scene\": \"scene\", \"showlegend\": true, \"type\": \"scatter3d\", \"x\": [34.12245592462859], \"y\": [1.4392136660743562], \"z\": [-1.3392624474830812]}],                        {\"coloraxis\": {\"colorbar\": {\"title\": {\"text\": \"Class\"}}, \"colorscale\": [[0.0, \"#0d0887\"], [0.1111111111111111, \"#46039f\"], [0.2222222222222222, \"#7201a8\"], [0.3333333333333333, \"#9c179e\"], [0.4444444444444444, \"#bd3786\"], [0.5555555555555556, \"#d8576b\"], [0.6666666666666666, \"#ed7953\"], [0.7777777777777778, \"#fb9f3a\"], [0.8888888888888888, \"#fdca26\"], [1.0, \"#f0f921\"]]}, \"legend\": {\"title\": {\"text\": \"Class\"}, \"tracegroupgap\": 0, \"x\": 0, \"y\": 1}, \"margin\": {\"t\": 60}, \"scene\": {\"domain\": {\"x\": [0.0, 1.0], \"y\": [0.0, 1.0]}, \"xaxis\": {\"title\": {\"text\": \"PC 1\"}}, \"yaxis\": {\"title\": {\"text\": \"PC 2\"}}, \"zaxis\": {\"title\": {\"text\": \"PC 3\"}}}, \"template\": {\"data\": {\"bar\": [{\"error_x\": {\"color\": \"#2a3f5f\"}, \"error_y\": {\"color\": \"#2a3f5f\"}, \"marker\": {\"line\": {\"color\": \"#E5ECF6\", \"width\": 0.5}}, \"type\": \"bar\"}], \"barpolar\": [{\"marker\": {\"line\": {\"color\": \"#E5ECF6\", \"width\": 0.5}}, \"type\": \"barpolar\"}], \"carpet\": [{\"aaxis\": {\"endlinecolor\": \"#2a3f5f\", \"gridcolor\": \"white\", \"linecolor\": \"white\", \"minorgridcolor\": \"white\", \"startlinecolor\": \"#2a3f5f\"}, \"baxis\": {\"endlinecolor\": \"#2a3f5f\", \"gridcolor\": \"white\", \"linecolor\": \"white\", \"minorgridcolor\": \"white\", \"startlinecolor\": \"#2a3f5f\"}, \"type\": \"carpet\"}], \"choropleth\": [{\"colorbar\": {\"outlinewidth\": 0, \"ticks\": \"\"}, \"type\": \"choropleth\"}], \"contour\": [{\"colorbar\": {\"outlinewidth\": 0, \"ticks\": \"\"}, \"colorscale\": [[0.0, \"#0d0887\"], [0.1111111111111111, \"#46039f\"], [0.2222222222222222, \"#7201a8\"], [0.3333333333333333, \"#9c179e\"], [0.4444444444444444, \"#bd3786\"], [0.5555555555555556, \"#d8576b\"], [0.6666666666666666, \"#ed7953\"], [0.7777777777777778, \"#fb9f3a\"], [0.8888888888888888, \"#fdca26\"], [1.0, \"#f0f921\"]], \"type\": \"contour\"}], \"contourcarpet\": [{\"colorbar\": {\"outlinewidth\": 0, \"ticks\": \"\"}, \"type\": \"contourcarpet\"}], \"heatmap\": [{\"colorbar\": {\"outlinewidth\": 0, \"ticks\": \"\"}, \"colorscale\": [[0.0, \"#0d0887\"], [0.1111111111111111, \"#46039f\"], [0.2222222222222222, \"#7201a8\"], [0.3333333333333333, \"#9c179e\"], [0.4444444444444444, \"#bd3786\"], [0.5555555555555556, \"#d8576b\"], [0.6666666666666666, \"#ed7953\"], [0.7777777777777778, \"#fb9f3a\"], [0.8888888888888888, \"#fdca26\"], [1.0, \"#f0f921\"]], \"type\": \"heatmap\"}], \"heatmapgl\": [{\"colorbar\": {\"outlinewidth\": 0, \"ticks\": \"\"}, \"colorscale\": [[0.0, \"#0d0887\"], [0.1111111111111111, \"#46039f\"], [0.2222222222222222, \"#7201a8\"], [0.3333333333333333, \"#9c179e\"], [0.4444444444444444, \"#bd3786\"], [0.5555555555555556, \"#d8576b\"], [0.6666666666666666, \"#ed7953\"], [0.7777777777777778, \"#fb9f3a\"], [0.8888888888888888, \"#fdca26\"], [1.0, \"#f0f921\"]], \"type\": \"heatmapgl\"}], \"histogram\": [{\"marker\": {\"colorbar\": {\"outlinewidth\": 0, \"ticks\": \"\"}}, \"type\": \"histogram\"}], \"histogram2d\": [{\"colorbar\": {\"outlinewidth\": 0, \"ticks\": \"\"}, \"colorscale\": [[0.0, \"#0d0887\"], [0.1111111111111111, \"#46039f\"], [0.2222222222222222, \"#7201a8\"], [0.3333333333333333, \"#9c179e\"], [0.4444444444444444, \"#bd3786\"], [0.5555555555555556, \"#d8576b\"], [0.6666666666666666, \"#ed7953\"], [0.7777777777777778, \"#fb9f3a\"], [0.8888888888888888, \"#fdca26\"], [1.0, \"#f0f921\"]], \"type\": \"histogram2d\"}], \"histogram2dcontour\": [{\"colorbar\": {\"outlinewidth\": 0, \"ticks\": \"\"}, \"colorscale\": [[0.0, \"#0d0887\"], [0.1111111111111111, \"#46039f\"], [0.2222222222222222, \"#7201a8\"], [0.3333333333333333, \"#9c179e\"], [0.4444444444444444, \"#bd3786\"], [0.5555555555555556, \"#d8576b\"], [0.6666666666666666, \"#ed7953\"], [0.7777777777777778, \"#fb9f3a\"], [0.8888888888888888, \"#fdca26\"], [1.0, \"#f0f921\"]], \"type\": \"histogram2dcontour\"}], \"mesh3d\": [{\"colorbar\": {\"outlinewidth\": 0, \"ticks\": \"\"}, \"type\": \"mesh3d\"}], \"parcoords\": [{\"line\": {\"colorbar\": {\"outlinewidth\": 0, \"ticks\": \"\"}}, \"type\": \"parcoords\"}], \"pie\": [{\"automargin\": true, \"type\": \"pie\"}], \"scatter\": [{\"marker\": {\"colorbar\": {\"outlinewidth\": 0, \"ticks\": \"\"}}, \"type\": \"scatter\"}], \"scatter3d\": [{\"line\": {\"colorbar\": {\"outlinewidth\": 0, \"ticks\": \"\"}}, \"marker\": {\"colorbar\": {\"outlinewidth\": 0, \"ticks\": \"\"}}, \"type\": \"scatter3d\"}], \"scattercarpet\": [{\"marker\": {\"colorbar\": {\"outlinewidth\": 0, \"ticks\": \"\"}}, \"type\": \"scattercarpet\"}], \"scattergeo\": [{\"marker\": {\"colorbar\": {\"outlinewidth\": 0, \"ticks\": \"\"}}, \"type\": \"scattergeo\"}], \"scattergl\": [{\"marker\": {\"colorbar\": {\"outlinewidth\": 0, \"ticks\": \"\"}}, \"type\": \"scattergl\"}], \"scattermapbox\": [{\"marker\": {\"colorbar\": {\"outlinewidth\": 0, \"ticks\": \"\"}}, \"type\": \"scattermapbox\"}], \"scatterpolar\": [{\"marker\": {\"colorbar\": {\"outlinewidth\": 0, \"ticks\": \"\"}}, \"type\": \"scatterpolar\"}], \"scatterpolargl\": [{\"marker\": {\"colorbar\": {\"outlinewidth\": 0, \"ticks\": \"\"}}, \"type\": \"scatterpolargl\"}], \"scatterternary\": [{\"marker\": {\"colorbar\": {\"outlinewidth\": 0, \"ticks\": \"\"}}, \"type\": \"scatterternary\"}], \"surface\": [{\"colorbar\": {\"outlinewidth\": 0, \"ticks\": \"\"}, \"colorscale\": [[0.0, \"#0d0887\"], [0.1111111111111111, \"#46039f\"], [0.2222222222222222, \"#7201a8\"], [0.3333333333333333, \"#9c179e\"], [0.4444444444444444, \"#bd3786\"], [0.5555555555555556, \"#d8576b\"], [0.6666666666666666, \"#ed7953\"], [0.7777777777777778, \"#fb9f3a\"], [0.8888888888888888, \"#fdca26\"], [1.0, \"#f0f921\"]], \"type\": \"surface\"}], \"table\": [{\"cells\": {\"fill\": {\"color\": \"#EBF0F8\"}, \"line\": {\"color\": \"white\"}}, \"header\": {\"fill\": {\"color\": \"#C8D4E3\"}, \"line\": {\"color\": \"white\"}}, \"type\": \"table\"}]}, \"layout\": {\"annotationdefaults\": {\"arrowcolor\": \"#2a3f5f\", \"arrowhead\": 0, \"arrowwidth\": 1}, \"coloraxis\": {\"colorbar\": {\"outlinewidth\": 0, \"ticks\": \"\"}}, \"colorscale\": {\"diverging\": [[0, \"#8e0152\"], [0.1, \"#c51b7d\"], [0.2, \"#de77ae\"], [0.3, \"#f1b6da\"], [0.4, \"#fde0ef\"], [0.5, \"#f7f7f7\"], [0.6, \"#e6f5d0\"], [0.7, \"#b8e186\"], [0.8, \"#7fbc41\"], [0.9, \"#4d9221\"], [1, \"#276419\"]], \"sequential\": [[0.0, \"#0d0887\"], [0.1111111111111111, \"#46039f\"], [0.2222222222222222, \"#7201a8\"], [0.3333333333333333, \"#9c179e\"], [0.4444444444444444, \"#bd3786\"], [0.5555555555555556, \"#d8576b\"], [0.6666666666666666, \"#ed7953\"], [0.7777777777777778, \"#fb9f3a\"], [0.8888888888888888, \"#fdca26\"], [1.0, \"#f0f921\"]], \"sequentialminus\": [[0.0, \"#0d0887\"], [0.1111111111111111, \"#46039f\"], [0.2222222222222222, \"#7201a8\"], [0.3333333333333333, \"#9c179e\"], [0.4444444444444444, \"#bd3786\"], [0.5555555555555556, \"#d8576b\"], [0.6666666666666666, \"#ed7953\"], [0.7777777777777778, \"#fb9f3a\"], [0.8888888888888888, \"#fdca26\"], [1.0, \"#f0f921\"]]}, \"colorway\": [\"#636efa\", \"#EF553B\", \"#00cc96\", \"#ab63fa\", \"#FFA15A\", \"#19d3f3\", \"#FF6692\", \"#B6E880\", \"#FF97FF\", \"#FECB52\"], \"font\": {\"color\": \"#2a3f5f\"}, \"geo\": {\"bgcolor\": \"white\", \"lakecolor\": \"white\", \"landcolor\": \"#E5ECF6\", \"showlakes\": true, \"showland\": true, \"subunitcolor\": \"white\"}, \"hoverlabel\": {\"align\": \"left\"}, \"hovermode\": \"closest\", \"mapbox\": {\"style\": \"light\"}, \"paper_bgcolor\": \"white\", \"plot_bgcolor\": \"#E5ECF6\", \"polar\": {\"angularaxis\": {\"gridcolor\": \"white\", \"linecolor\": \"white\", \"ticks\": \"\"}, \"bgcolor\": \"#E5ECF6\", \"radialaxis\": {\"gridcolor\": \"white\", \"linecolor\": \"white\", \"ticks\": \"\"}}, \"scene\": {\"xaxis\": {\"backgroundcolor\": \"#E5ECF6\", \"gridcolor\": \"white\", \"gridwidth\": 2, \"linecolor\": \"white\", \"showbackground\": true, \"ticks\": \"\", \"zerolinecolor\": \"white\"}, \"yaxis\": {\"backgroundcolor\": \"#E5ECF6\", \"gridcolor\": \"white\", \"gridwidth\": 2, \"linecolor\": \"white\", \"showbackground\": true, \"ticks\": \"\", \"zerolinecolor\": \"white\"}, \"zaxis\": {\"backgroundcolor\": \"#E5ECF6\", \"gridcolor\": \"white\", \"gridwidth\": 2, \"linecolor\": \"white\", \"showbackground\": true, \"ticks\": \"\", \"zerolinecolor\": \"white\"}}, \"shapedefaults\": {\"line\": {\"color\": \"#2a3f5f\"}}, \"ternary\": {\"aaxis\": {\"gridcolor\": \"white\", \"linecolor\": \"white\", \"ticks\": \"\"}, \"baxis\": {\"gridcolor\": \"white\", \"linecolor\": \"white\", \"ticks\": \"\"}, \"bgcolor\": \"#E5ECF6\", \"caxis\": {\"gridcolor\": \"white\", \"linecolor\": \"white\", \"ticks\": \"\"}}, \"title\": {\"x\": 0.05}, \"xaxis\": {\"automargin\": true, \"gridcolor\": \"white\", \"linecolor\": \"white\", \"ticks\": \"\", \"title\": {\"standoff\": 15}, \"zerolinecolor\": \"white\", \"zerolinewidth\": 2}, \"yaxis\": {\"automargin\": true, \"gridcolor\": \"white\", \"linecolor\": \"white\", \"ticks\": \"\", \"title\": {\"standoff\": 15}, \"zerolinecolor\": \"white\", \"zerolinewidth\": 2}}}, \"width\": 800},                        {\"responsive\": true}                    ).then(function(){\n",
       "                            \n",
       "var gd = document.getElementById('efaa4f03-40c6-4b05-999a-b99c2dbd1c2a');\n",
       "var x = new MutationObserver(function (mutations, observer) {{\n",
       "        var display = window.getComputedStyle(gd).display;\n",
       "        if (!display || display === 'none') {{\n",
       "            console.log([gd, 'removed!']);\n",
       "            Plotly.purge(gd);\n",
       "            observer.disconnect();\n",
       "        }}\n",
       "}});\n",
       "\n",
       "// Listen for the removal of the full notebook cells\n",
       "var notebookContainer = gd.closest('#notebook-container');\n",
       "if (notebookContainer) {{\n",
       "    x.observe(notebookContainer, {childList: true});\n",
       "}}\n",
       "\n",
       "// Listen for the clearing of the current output cell\n",
       "var outputEl = gd.closest('.output');\n",
       "if (outputEl) {{\n",
       "    x.observe(outputEl, {childList: true});\n",
       "}}\n",
       "\n",
       "                        })                };                });            </script>        </div>"
      ]
     },
     "metadata": {},
     "output_type": "display_data"
    }
   ],
   "source": [
    "# 3D plot with parameters hover_name=\"CoinName\" and hover_data=\"Algorithm\"\n",
    "fig=px.scatter_3d(\n",
    "    clustered_df,\n",
    "    x=\"PC 1\",\n",
    "    y=\"PC 2\",\n",
    "    z=\"PC 3\",\n",
    "    hover_name=\"CoinName\",\n",
    "    hover_data=[\"Algorithm\"],\n",
    "    color=\"Class\",\n",
    "    symbol=\"Class\",\n",
    "    width=800,\n",
    ")\n",
    "\n",
    "fig.update_layout(legend=dict(x=0, y=1))\n",
    "fig.show()"
   ]
  },
  {
   "cell_type": "code",
   "execution_count": 405,
   "metadata": {},
   "outputs": [
    {
     "data": {},
     "metadata": {},
     "output_type": "display_data"
    },
    {
     "data": {
      "application/vnd.holoviews_exec.v0+json": "",
      "text/html": [
       "<div id='4977'>\n",
       "\n",
       "\n",
       "\n",
       "\n",
       "\n",
       "  <div class=\"bk-root\" id=\"84f33693-15cb-40a8-8c3e-671938dd82ba\" data-root-id=\"4977\"></div>\n",
       "</div>\n",
       "<script type=\"application/javascript\">(function(root) {\n",
       "  function embed_document(root) {\n",
       "  var docs_json = {\"7e59adbf-5c00-4e5b-b708-b62a525d24fe\":{\"roots\":{\"references\":[{\"attributes\":{\"editor\":{\"id\":\"4992\"},\"field\":\"ProofType\",\"formatter\":{\"id\":\"4991\"},\"title\":\"ProofType\"},\"id\":\"4993\",\"type\":\"TableColumn\"},{\"attributes\":{\"children\":[{\"id\":\"4978\"},{\"id\":\"5011\"},{\"id\":\"5017\"}],\"margin\":[0,0,0,0],\"name\":\"Row10579\",\"tags\":[\"embedded\"]},\"id\":\"4977\",\"type\":\"Row\"},{\"attributes\":{\"source\":{\"id\":\"4979\"}},\"id\":\"5012\",\"type\":\"CDSView\"},{\"attributes\":{},\"id\":\"4987\",\"type\":\"StringEditor\"},{\"attributes\":{},\"id\":\"4992\",\"type\":\"StringEditor\"},{\"attributes\":{},\"id\":\"5006\",\"type\":\"NumberFormatter\"},{\"attributes\":{\"format\":\"0,0.0[00000]\"},\"id\":\"5001\",\"type\":\"NumberFormatter\"},{\"attributes\":{},\"id\":\"4980\",\"type\":\"Selection\"},{\"attributes\":{},\"id\":\"4997\",\"type\":\"StringEditor\"},{\"attributes\":{\"data\":{\"Algorithm\":[\"Scrypt\",\"Scrypt\",\"X13\",\"SHA-256\",\"Ethash\",\"Scrypt\",\"X11\",\"CryptoNight-V7\",\"Ethash\",\"Equihash\",\"SHA-512\",\"Multiple\",\"SHA-256\",\"SHA-256\",\"Scrypt\",\"X15\",\"X11\",\"Scrypt\",\"Scrypt\",\"Scrypt\",\"Multiple\",\"Scrypt\",\"SHA-256\",\"Scrypt\",\"Scrypt\",\"Scrypt\",\"Quark\",\"Groestl\",\"Scrypt\",\"Scrypt\",\"Scrypt\",\"Scrypt\",\"Scrypt\",\"X11\",\"Scrypt\",\"Groestl\",\"Multiple\",\"SHA-256\",\"Scrypt\",\"Scrypt\",\"Scrypt\",\"Scrypt\",\"PoS\",\"Scrypt\",\"Scrypt\",\"NeoScrypt\",\"Scrypt\",\"Scrypt\",\"Scrypt\",\"Scrypt\",\"X11\",\"Scrypt\",\"X11\",\"SHA-256\",\"Scrypt\",\"Scrypt\",\"Scrypt\",\"SHA3\",\"Scrypt\",\"HybridScryptHash256\",\"Scrypt\",\"Scrypt\",\"SHA-256\",\"Scrypt\",\"X13\",\"Scrypt\",\"SHA-256\",\"Scrypt\",\"X13\",\"NeoScrypt\",\"Scrypt\",\"Scrypt\",\"Scrypt\",\"Scrypt\",\"Scrypt\",\"Scrypt\",\"X11\",\"X11\",\"SHA-256\",\"Multiple\",\"SHA-256\",\"PHI1612\",\"X11\",\"SHA-256\",\"SHA-256\",\"SHA-256\",\"X11\",\"Scrypt\",\"Scrypt\",\"Scrypt\",\"Scrypt\",\"Lyra2REv2\",\"Scrypt\",\"X11\",\"Multiple\",\"SHA-256\",\"X13\",\"Scrypt\",\"CryptoNight\",\"CryptoNight\",\"Shabal256\",\"Counterparty\",\"Scrypt\",\"SHA-256\",\"Groestl\",\"Scrypt\",\"Scrypt\",\"Scrypt\",\"X13\",\"Scrypt\",\"Scrypt\",\"Scrypt\",\"Scrypt\",\"X13\",\"Scrypt\",\"Stanford Folding\",\"X11\",\"Multiple\",\"QuBit\",\"Scrypt\",\"Scrypt\",\"Scrypt\",\"M7 POW\",\"Scrypt\",\"SHA-256\",\"Scrypt\",\"X11\",\"SHA3\",\"X11\",\"Lyra2RE\",\"SHA-256\",\"QUAIT\",\"X11\",\"X11\",\"Scrypt\",\"Scrypt\",\"Scrypt\",\"Ethash\",\"X13\",\"Blake2b\",\"SHA-256\",\"X15\",\"X11\",\"SHA-256\",\"BLAKE256\",\"Scrypt\",\"1GB AES Pattern Search\",\"SHA-256\",\"X11\",\"Scrypt\",\"SHA-256\",\"SHA-256\",\"NIST5\",\"Scrypt\",\"Scrypt\",\"X11\",\"Dagger\",\"Scrypt\",\"X11GOST\",\"X11\",\"Scrypt\",\"SHA-256\",\"Scrypt\",\"PoS\",\"Scrypt\",\"X11\",\"X11\",\"SHA-256\",\"SHA-256\",\"NIST5\",\"X11\",\"Scrypt\",\"POS 3.0\",\"Scrypt\",\"Scrypt\",\"Scrypt\",\"X13\",\"X11\",\"X11\",\"Equihash\",\"X11\",\"Scrypt\",\"CryptoNight\",\"SHA-256\",\"SHA-256\",\"X11\",\"Scrypt\",\"Multiple\",\"Scrypt\",\"Scrypt\",\"Scrypt\",\"SHA-256\",\"Scrypt\",\"Scrypt\",\"SHA-256D\",\"PoS\",\"Scrypt\",\"X11\",\"Lyra2Z\",\"PoS\",\"X13\",\"X14\",\"PoS\",\"SHA-256D\",\"Ethash\",\"Equihash\",\"DPoS\",\"X11\",\"Scrypt\",\"X11\",\"X13\",\"X11\",\"PoS\",\"Scrypt\",\"Scrypt\",\"X11\",\"PoS\",\"X11\",\"SHA-256\",\"Scrypt\",\"X11\",\"Scrypt\",\"Scrypt\",\"X11\",\"CryptoNight\",\"Scrypt\",\"Scrypt\",\"Scrypt\",\"Scrypt\",\"Quark\",\"QuBit\",\"Scrypt\",\"CryptoNight\",\"Lyra2RE\",\"Scrypt\",\"SHA-256\",\"X11\",\"Scrypt\",\"X11\",\"Scrypt\",\"CryptoNight-V7\",\"Scrypt\",\"Scrypt\",\"Scrypt\",\"X13\",\"X11\",\"Equihash\",\"Scrypt\",\"Scrypt\",\"Lyra2RE\",\"Scrypt\",\"Dagger-Hashimoto\",\"X11\",\"Blake2S\",\"X11\",\"Scrypt\",\"PoS\",\"X11\",\"NIST5\",\"PoS\",\"X11\",\"Scrypt\",\"Scrypt\",\"Scrypt\",\"SHA-256\",\"X11\",\"Scrypt\",\"Scrypt\",\"SHA-256\",\"PoS\",\"Scrypt\",\"X15\",\"SHA-256\",\"Scrypt\",\"POS 3.0\",\"CryptoNight-V7\",\"536\",\"Argon2d\",\"Blake2b\",\"Cloverhash\",\"CryptoNight\",\"NIST5\",\"X11\",\"NIST5\",\"Skein\",\"Scrypt\",\"X13\",\"Scrypt\",\"X11\",\"X11\",\"Scrypt\",\"CryptoNight\",\"X13\",\"Time Travel\",\"Scrypt\",\"Keccak\",\"SkunkHash v2 Raptor\",\"X11\",\"Skein\",\"SHA-256\",\"X11\",\"Scrypt\",\"VeChainThor Authority\",\"Scrypt\",\"PoS\",\"Scrypt\",\"Scrypt\",\"Scrypt\",\"Scrypt\",\"Scrypt\",\"Scrypt\",\"Scrypt\",\"CryptoNight\",\"SHA-512\",\"Ouroboros\",\"X11\",\"Equihash\",\"NeoScrypt\",\"X11\",\"Scrypt\",\"NeoScrypt\",\"Lyra2REv2\",\"Equihash\",\"Scrypt\",\"SHA-256\",\"NIST5\",\"PHI1612\",\"Dagger\",\"Scrypt\",\"Quark\",\"Scrypt\",\"POS 2.0\",\"Scrypt\",\"SHA-256\",\"X11\",\"NeoScrypt\",\"Ethash\",\"NeoScrypt\",\"X11\",\"DPoS\",\"NIST5\",\"X13\",\"Multiple\",\"Scrypt\",\"CryptoNight\",\"CryptoNight\",\"Ethash\",\"NIST5\",\"Quark\",\"X11\",\"CryptoNight-V7\",\"Scrypt\",\"Scrypt\",\"Scrypt\",\"X11\",\"BLAKE256\",\"X11\",\"NeoScrypt\",\"Quark\",\"NeoScrypt\",\"Scrypt\",\"Scrypt\",\"Scrypt\",\"X11\",\"X11\",\"SHA-256\",\"C11\",\"POS 3.0\",\"Ethash\",\"Scrypt\",\"CryptoNight\",\"SkunkHash\",\"Scrypt\",\"CryptoNight\",\"Scrypt\",\"Dagger\",\"Lyra2REv2\",\"X13\",\"Proof-of-BibleHash\",\"SHA-256 + Hive\",\"Scrypt\",\"Scrypt\",\"X11\",\"C11\",\"Proof-of-Authority\",\"X11\",\"XEVAN\",\"Scrypt\",\"VBFT\",\"Ethash\",\"CryptoNight\",\"Scrypt\",\"IMesh\",\"NIST5\",\"Scrypt\",\"Scrypt\",\"Equihash\",\"Scrypt\",\"Lyra2Z\",\"Green Protocol\",\"PoS\",\"Scrypt\",\"Semux BFT consensus\",\"X11\",\"Quark\",\"PoS\",\"CryptoNight\",\"X16R\",\"Scrypt\",\"NIST5\",\"Lyra2RE\",\"XEVAN\",\"Tribus\",\"Scrypt\",\"Lyra2Z\",\"CryptoNight\",\"CryptoNight Heavy\",\"CryptoNight\",\"Scrypt\",\"Scrypt\",\"Jump Consistent Hash\",\"SHA-256D\",\"CryptoNight\",\"Scrypt\",\"X15\",\"Scrypt\",\"Quark\",\"SHA-256\",\"DPoS\",\"X16R\",\"HMQ1725\",\"X11\",\"X16R\",\"Quark\",\"Quark\",\"Scrypt\",\"Lyra2REv2\",\"Quark\",\"Scrypt\",\"Scrypt\",\"CryptoNight-V7\",\"Cryptonight-GPU\",\"XEVAN\",\"CryptoNight Heavy\",\"X11\",\"X11\",\"Scrypt\",\"PoS\",\"SHA-256\",\"Keccak\",\"X11\",\"X11\",\"Scrypt\",\"SHA-512\",\"X16R\",\"ECC 256K1\",\"Equihash\",\"XEVAN\",\"Lyra2Z\",\"SHA-256\",\"XEVAN\",\"X11\",\"CryptoNight\",\"Quark\",\"Blake\",\"Blake\",\"Equihash\",\"Exosis\",\"Scrypt\",\"Scrypt\",\"Equihash\",\"Quark\",\"Equihash\",\"Quark\",\"Scrypt\",\"QuBit\",\"X11\",\"Scrypt\",\"XEVAN\",\"SHA-256D\",\"X11\",\"SHA-256\",\"X13\",\"SHA-256\",\"X11\",\"DPoS\",\"Scrypt\",\"Scrypt\",\"X11\",\"NeoScrypt\",\"Scrypt\",\"Blake\",\"Scrypt\",\"SHA-256\",\"Scrypt\",\"X11\",\"Scrypt\",\"Scrypt\",\"SHA-256\",\"X11\",\"SHA-256\",\"Scrypt\",\"Scrypt\",\"Scrypt\",\"Groestl\",\"X11\",\"Scrypt\",\"PoS\",\"Scrypt\",\"Scrypt\",\"X11\",\"SHA-256\",\"DPoS\",\"Scrypt\",\"Scrypt\",\"NeoScrypt\",\"SHA3-256\",\"Multiple\",\"X13\",\"Equihash+Scrypt\",\"DPoS\",\"Ethash\",\"DPoS\",\"SHA-256\",\"Leased POS\",\"PoS\",\"TRC10\",\"PoS\",\"SHA-256\",\"Scrypt\",\"CryptoNight\",\"Equihash\",\"Scrypt\"],\"Class\":{\"__ndarray__\":\"AAAAAAAAAAAAAAAAAQAAAAEAAAABAAAAAAAAAAEAAAABAAAAAQAAAAAAAAABAAAAAAAAAAAAAAABAAAAAAAAAAEAAAABAAAAAAAAAAAAAAABAAAAAQAAAAEAAAABAAAAAQAAAAAAAAABAAAAAQAAAAEAAAAAAAAAAQAAAAAAAAABAAAAAQAAAAAAAAAAAAAAAQAAAAEAAAABAAAAAQAAAAEAAAABAAAAAAAAAAAAAAABAAAAAQAAAAEAAAABAAAAAQAAAAAAAAAAAAAAAQAAAAAAAAABAAAAAQAAAAEAAAABAAAAAAAAAAEAAAABAAAAAAAAAAEAAAAAAAAAAAAAAAAAAAABAAAAAQAAAAEAAAAAAAAAAAAAAAAAAAAAAAAAAAAAAAEAAAABAAAAAQAAAAAAAAAAAAAAAQAAAAAAAAABAAAAAAAAAAAAAAABAAAAAQAAAAEAAAABAAAAAAAAAAAAAAABAAAAAAAAAAEAAAABAAAAAAAAAAAAAAABAAAAAAAAAAAAAAABAAAAAQAAAAAAAAAAAAAAAQAAAAAAAAAAAAAAAQAAAAAAAAABAAAAAAAAAAEAAAAAAAAAAQAAAAAAAAAAAAAAAQAAAAEAAAAAAAAAAQAAAAEAAAABAAAAAAAAAAEAAAABAAAAAQAAAAEAAAABAAAAAAAAAAAAAAABAAAAAQAAAAEAAAAAAAAAAQAAAAAAAAABAAAAAQAAAAAAAAABAAAAAAAAAAEAAAAAAAAAAAAAAAEAAAABAAAAAAAAAAEAAAABAAAAAAAAAAAAAAABAAAAAAAAAAEAAAAAAAAAAAAAAAAAAAABAAAAAQAAAAEAAAABAAAAAAAAAAAAAAAAAAAAAAAAAAAAAAABAAAAAQAAAAAAAAAAAAAAAAAAAAAAAAAAAAAAAQAAAAAAAAAAAAAAAAAAAAAAAAAAAAAAAQAAAAAAAAABAAAAAAAAAAAAAAABAAAAAAAAAAEAAAAAAAAAAAAAAAEAAAAAAAAAAQAAAAAAAAABAAAAAAAAAAEAAAAAAAAAAAAAAAAAAAAAAAAAAQAAAAAAAAAAAAAAAAAAAAAAAAAAAAAAAQAAAAEAAAAAAAAAAAAAAAEAAAABAAAAAAAAAAAAAAAAAAAAAAAAAAAAAAABAAAAAAAAAAAAAAAAAAAAAAAAAAAAAAAAAAAAAAAAAAAAAAABAAAAAAAAAAAAAAAAAAAAAAAAAAAAAAAAAAAAAQAAAAEAAAABAAAAAAAAAAAAAAAAAAAAAAAAAAEAAAAAAAAAAQAAAAAAAAAAAAAAAQAAAAAAAAABAAAAAQAAAAAAAAABAAAAAQAAAAAAAAABAAAAAAAAAAAAAAAAAAAAAQAAAAAAAAAAAAAAAQAAAAAAAAAAAAAAAAAAAAAAAAAAAAAAAAAAAAAAAAABAAAAAAAAAAEAAAAAAAAAAAAAAAAAAAAAAAAAAQAAAAAAAAABAAAAAAAAAAEAAAABAAAAAQAAAAEAAAAAAAAAAQAAAAAAAAAAAAAAAQAAAAAAAAABAAAAAQAAAAEAAAAAAAAAAQAAAAAAAAABAAAAAQAAAAEAAAAAAAAAAQAAAAAAAAABAAAAAAAAAAAAAAADAAAAAQAAAAAAAAABAAAAAQAAAAEAAAABAAAAAQAAAAAAAAAAAAAAAQAAAAAAAAAAAAAAAAAAAAEAAAAAAAAAAQAAAAAAAAABAAAAAAAAAAEAAAAAAAAAAAAAAAAAAAAAAAAAAQAAAAAAAAAAAAAAAQAAAAAAAAAAAAAAAAAAAAEAAAABAAAAAQAAAAEAAAAAAAAAAAAAAAAAAAAAAAAAAQAAAAAAAAABAAAAAQAAAAEAAAAAAAAAAAAAAAEAAAABAAAAAAAAAAAAAAABAAAAAAAAAAEAAAABAAAAAQAAAAAAAAABAAAAAQAAAAAAAAAAAAAAAAAAAAEAAAABAAAAAQAAAAAAAAAAAAAAAAAAAAEAAAABAAAAAAAAAAEAAAABAAAAAQAAAAEAAAAAAAAAAwAAAAMAAAABAAAAAQAAAAEAAAAAAAAAAQAAAAAAAAAAAAAAAAAAAAAAAAABAAAAAQAAAAEAAAABAAAAAAAAAAAAAAAAAAAAAQAAAAAAAAABAAAAAAAAAAAAAAAAAAAAAAAAAAEAAAAAAAAAAAAAAAEAAAAAAAAAAAAAAAEAAAABAAAAAAAAAAEAAAAAAAAAAQAAAAEAAAABAAAAAQAAAAAAAAAAAAAAAQAAAAAAAAABAAAAAAAAAAAAAAAAAAAAAAAAAAAAAAAAAAAAAQAAAAEAAAABAAAAAAAAAAAAAAAAAAAAAAAAAAAAAAAAAAAAAQAAAAAAAAABAAAAAQAAAAEAAAABAAAAAAAAAAAAAAAAAAAAAAAAAAEAAAAAAAAAAAAAAAEAAAAAAAAAAAAAAAEAAAABAAAAAQAAAAAAAAABAAAAAQAAAAAAAAAAAAAAAQAAAAAAAAABAAAAAQAAAAAAAAABAAAAAQAAAAAAAAABAAAAAAAAAAEAAAAAAAAAAAAAAAEAAAAAAAAAAAAAAAAAAAAAAAAAAAAAAAEAAAABAAAAAQAAAAAAAAAAAAAAAAAAAAEAAAAAAAAAAQAAAAAAAAABAAAAAAAAAAAAAAAAAAAAAAAAAAEAAAAAAAAAAAAAAAAAAAABAAAAAAAAAAEAAAAAAAAAAQAAAAAAAAAAAAAAAAAAAAEAAAABAAAAAAAAAAAAAAAAAAAAAAAAAAAAAAAAAAAAAAAAAAEAAAAAAAAAAQAAAAAAAAABAAAAAAAAAAAAAAADAAAAAAAAAAIAAAAAAAAAAAAAAAAAAAABAAAAAQAAAAAAAAA=\",\"dtype\":\"int32\",\"order\":\"little\",\"shape\":[533]},\"CoinName\":[\"42 Coin\",\"404Coin\",\"EliteCoin\",\"Bitcoin\",\"Ethereum\",\"Litecoin\",\"Dash\",\"Monero\",\"Ethereum Classic\",\"ZCash\",\"Bitshares\",\"DigiByte\",\"BitcoinDark\",\"PayCoin\",\"ProsperCoin\",\"KoboCoin\",\"Spreadcoin\",\"Argentum\",\"Aurora Coin\",\"BlueCoin\",\"MyriadCoin\",\"MoonCoin\",\"ZetaCoin\",\"SexCoin\",\"Quatloo\",\"EnergyCoin\",\"QuarkCoin\",\"Riecoin\",\"Digitalcoin \",\"BitBar\",\"Catcoin\",\"CryptoBullion\",\"CannaCoin\",\"CryptCoin\",\"CasinoCoin\",\"Diamond\",\"Verge\",\"DevCoin\",\"EarthCoin\",\"E-Gulden\",\"Einsteinium\",\"Emerald\",\"Exclusive Coin\",\"FlutterCoin\",\"Franko\",\"FeatherCoin\",\"GrandCoin\",\"GlobalCoin\",\"GoldCoin\",\"HoboNickels\",\"HyperStake\",\"Infinite Coin\",\"IOCoin\",\"IXcoin\",\"KrugerCoin\",\"LuckyCoin\",\"Litebar \",\"MaxCoin\",\"MegaCoin\",\"MediterraneanCoin\",\"MintCoin\",\"MinCoin\",\"MazaCoin\",\"Nautilus Coin\",\"NavCoin\",\"NobleCoin\",\"Namecoin\",\"NyanCoin\",\"OpalCoin\",\"Orbitcoin\",\"PotCoin\",\"PhoenixCoin\",\"Reddcoin\",\"RonPaulCoin\",\"StableCoin\",\"SmartCoin\",\"SuperCoin\",\"SyncCoin\",\"SysCoin\",\"TeslaCoin\",\"TigerCoin\",\"TittieCoin\",\"TorCoin\",\"TerraCoin\",\"UnbreakableCoin\",\"Unobtanium\",\"UroCoin\",\"UnitaryStatus Dollar\",\"UltraCoin\",\"ViaCoin\",\"VeriCoin\",\"Vertcoin\",\"WorldCoin\",\"X11 Coin\",\"Crypti\",\"JouleCoin\",\"StealthCoin\",\"ZCC Coin\",\"ByteCoin\",\"DigitalNote \",\"BurstCoin\",\"StorjCoin\",\"MonaCoin\",\"Neutron\",\"FairCoin\",\"Gulden\",\"RubyCoin\",\"PesetaCoin\",\"Kore\",\"Wild Beast Coin\",\"Dnotes\",\"Flo\",\"8BIT Coin\",\"Sativa Coin\",\"ArtByte\",\"Folding Coin\",\"Ucoin\",\"Unitus\",\"CypherPunkCoin\",\"OmniCron\",\"Vtorrent\",\"GreenCoin\",\"Cryptonite\",\"MasterCoin\",\"SoonCoin\",\"1Credit\",\"IslaCoin\",\"Nexus\",\"MarsCoin \",\"Crypto\",\"Anarchists Prime\",\"Droidz\",\"BowsCoin\",\"Squall Coin\",\"Song Coin\",\"BitZeny\",\"Diggits\",\"Expanse\",\"Paycon\",\"Siacoin\",\"Emercoin\",\"EverGreenCoin\",\"MindCoin\",\"I0coin\",\"Decred\",\"Revolution VR\",\"HOdlcoin\",\"EDRCoin\",\"Hitcoin\",\"Gamecredits\",\"DubaiCoin\",\"CarpeDiemCoin\",\"PWR Coin\",\"BillaryCoin\",\"GPU Coin\",\"Adzcoin\",\"SoilCoin\",\"YoCoin\",\"SibCoin\",\"EuropeCoin\",\"ZeitCoin\",\"SwingCoin\",\"SafeExchangeCoin\",\"Nebuchadnezzar\",\"Francs\",\"BolivarCoin\",\"Ratecoin\",\"Revenu\",\"Clockcoin\",\"VIP Tokens\",\"BitSend\",\"Omni\",\"Let it Ride\",\"PutinCoin\",\"iBankCoin\",\"Frankywillcoin\",\"MudraCoin\",\"PizzaCoin\",\"Lutetium Coin\",\"Komodo\",\"GoldBlocks\",\"CarterCoin\",\"Karbo\",\"BitTokens\",\"ZayedCoin\",\"MustangCoin\",\"ZoneCoin\",\"Circuits of Value\",\"RootCoin\",\"DopeCoin\",\"BitCurrency\",\"DollarCoin\",\"Swiscoin\",\"Shilling\",\"BuzzCoin\",\"Opair\",\"PesoBit\",\"Halloween Coin\",\"ZCoin\",\"CoffeeCoin\",\"RoyalCoin\",\"GanjaCoin V2\",\"TeamUP\",\"LanaCoin\",\"Elementrem\",\"ZClassic\",\"ARK\",\"InsaneCoin\",\"KiloCoin\",\"ArtexCoin\",\"EmberCoin\",\"XenixCoin\",\"FreeCoin\",\"PLNCoin\",\"AquariusCoin\",\"Kurrent\",\"Creatio\",\"Eternity\",\"Eurocoin\",\"BitcoinFast\",\"Stakenet\",\"BitConnect Coin\",\"MoneyCoin\",\"Enigma\",\"Cannabis Industry Coin\",\"Russiacoin\",\"PandaCoin\",\"GameUnits\",\"GAKHcoin\",\"Allsafe\",\"LiteCreed\",\"OsmiumCoin\",\"Bikercoins\",\"HexxCoin\",\"Klingon Empire Darsek\",\"Internet of People\",\"KushCoin\",\"Printerium\",\"PacCoin\",\"Impeach\",\"Citadel\",\"Zilbercoin\",\"FirstCoin\",\"BeaverCoin\",\"FindCoin\",\"VaultCoin\",\"Zero\",\"OpenChat\",\"Canada eCoin\",\"Zoin\",\"RenosCoin\",\"DubaiCoin\",\"VirtacoinPlus\",\"TajCoin\",\"Impact\",\"EB3coin\",\"Atmos\",\"HappyCoin\",\"Coinonat\",\"MacronCoin\",\"Condensate\",\"Independent Money System\",\"ArgusCoin\",\"LomoCoin\",\"ProCurrency\",\"GoldReserve\",\"BenjiRolls\",\"GrowthCoin\",\"ILCoin\",\"Phreak\",\"Degas Coin\",\"HTML5 Coin\",\"Ultimate Secure Cash\",\"EquiTrader\",\"QTUM\",\"Quantum Resistant Ledger\",\"Espers\",\"Dynamic\",\"Nano\",\"ChanCoin\",\"Dinastycoin\",\"Denarius\",\"DigitalPrice\",\"Virta Unique Coin\",\"Bitcoin Planet\",\"Unify\",\"BritCoin\",\"SocialCoin\",\"ArcticCoin\",\"DAS\",\"Linda\",\"LeviarCoin\",\"DeepOnion\",\"Bitcore\",\"gCn Coin\",\"SmartCash\",\"Signatum\",\"Onix\",\"Cream\",\"Bitcoin Cash\",\"Monoeci\",\"Draftcoin\",\"Vechain\",\"Sojourn Coin\",\"Stakecoin\",\"NewYorkCoin\",\"FrazCoin\",\"Kronecoin\",\"AdCoin\",\"Linx\",\"CoinonatX\",\"Ethereum Dark\",\"Sumokoin\",\"Obsidian\",\"Cardano\",\"Regalcoin\",\"BitcoinZ\",\"TrezarCoin\",\"Elements\",\"TerraNovaCoin\",\"VIVO Coin\",\"Rupee\",\"Bitcoin Gold\",\"WomenCoin\",\"Theresa May Coin\",\"NamoCoin\",\"LUXCoin\",\"Pirl\",\"Xios\",\"Bitcloud 2.0\",\"eBoost\",\"KekCoin\",\"BlackholeCoin\",\"Infinity Economics\",\"Pura\",\"Innova\",\"Ellaism\",\"GoByte\",\"Magnet\",\"Lamden Tau\",\"Electra\",\"Bitcoin Diamond\",\"SHIELD\",\"Cash & Back Coin\",\"UltraNote\",\"BitCoal\",\"DaxxCoin\",\"Bulwark\",\"Kalkulus\",\"AC3\",\"Lethean\",\"GermanCoin\",\"LiteCoin Ultra\",\"PopularCoin\",\"PhantomX\",\"Photon\",\"Sucre\",\"SparksPay\",\"Digiwage\",\"GunCoin\",\"IrishCoin\",\"Trollcoin\",\"Litecoin Plus\",\"Monkey Project\",\"Pioneer Coin\",\"UnitedBitcoin\",\"Interzone\",\"TokenPay\",\"1717 Masonic Commemorative Token\",\"My Big Coin\",\"TurtleCoin\",\"MUNcoin\",\"Unified Society USDEX\",\"Niobio Cash\",\"ShareChain\",\"Travelflex\",\"KREDS\",\"Tokyo Coin\",\"BiblePay\",\"LitecoinCash\",\"BitFlip\",\"LottoCoin\",\"Crypto Improvement Fund\",\"Stipend\",\"Poa Network\",\"Pushi\",\"Ellerium\",\"Velox\",\"Ontology\",\"Callisto Network\",\"BitTube\",\"Poseidon\",\"Aidos Kuneen\",\"Bitspace\",\"Briacoin\",\"Ignition\",\"Bitrolium\",\"MedicCoin\",\"Alpenschillling\",\"Bitcoin Green\",\"Deviant Coin\",\"Abjcoin\",\"Semux\",\"FuturoCoin\",\"Carebit\",\"Zealium\",\"Monero Classic\",\"Proton\",\"iDealCash\",\"Jumpcoin\",\"Infinex\",\"Bitcoin Incognito\",\"KEYCO\",\"HollyWoodCoin\",\"GINcoin\",\"PlatinCoin\",\"Loki\",\"Newton Coin\",\"Swisscoin\",\"Xt3ch\",\"MassGrid\",\"TheVig\",\"PluraCoin\",\"EmaratCoin\",\"Dekado\",\"Lynx\",\"Poseidon Quark\",\"BitcoinWSpectrum\",\"Muse\",\"Motion\",\"PlusOneCoin\",\"Axe\",\"Trivechain\",\"Dystem\",\"Giant\",\"Peony Coin\",\"Absolute Coin\",\"Vitae\",\"HexCoin\",\"TPCash\",\"Webchain\",\"Ryo\",\"Urals Coin\",\"Qwertycoin\",\"ARENON\",\"EUNO\",\"MMOCoin\",\"Ketan\",\"Project Pai\",\"XDNA\",\"PAXEX\",\"Azart\",\"ThunderStake\",\"Kcash\",\"Xchange\",\"Acute Angle Cloud\",\"CrypticCoin\",\"Bettex coin\",\"Actinium\",\"Bitcoin SV\",\"BitMoney\",\"Junson Ming Chan Coin\",\"FREDEnergy\",\"HerbCoin\",\"Universal Molecule\",\"Lithium\",\"PirateCash\",\"Exosis\",\"Block-Logic\",\"Oduwa\",\"Beam\",\"Galilel\",\"Bithereum\",\"Crypto Sports\",\"Credit\",\"SLICE\",\"Dash Platinum\",\"Nasdacoin\",\"Beetle Coin\",\"Titan Coin\",\"Award\",\"BLAST\",\"Bitcoin Rhodium\",\"GlobalToken\",\"Insane Coin\",\"ALAX\",\"LiteDoge\",\"SolarCoin\",\"TruckCoin\",\"UFO Coin\",\"OrangeCoin\",\"BlakeCoin\",\"BitstarCoin\",\"NeosCoin\",\"HyperCoin\",\"PinkCoin\",\"Crypto Escudo\",\"AudioCoin\",\"IncaKoin\",\"Piggy Coin\",\"Crown Coin\",\"Genstake\",\"SmileyCoin\",\"XiaoMiCoin\",\"Groestlcoin\",\"CapriCoin\",\" ClubCoin\",\"Radium\",\"Bata\",\"Pakcoin\",\"Creditbit \",\"OKCash\",\"Lisk\",\"HiCoin\",\"WhiteCoin\",\"FriendshipCoin\",\"Fiii\",\"JoinCoin\",\"Triangles Coin\",\"Vollar\",\"EOS\",\"Reality Clash\",\"Oxycoin\",\"TigerCash\",\"Waves\",\"Particl\",\"BitTorrent\",\"Nxt\",\"ZEPHYR\",\"Gapcoin\",\"Beldex\",\"Horizen\",\"BitcoinPlus\"],\"ProofType\":[\"PoW/PoS\",\"PoW/PoS\",\"PoW/PoS\",\"PoW\",\"PoW\",\"PoW\",\"PoW/PoS\",\"PoW\",\"PoW\",\"PoW\",\"PoS\",\"PoW\",\"PoW/PoS\",\"PoS\",\"PoW\",\"PoW/PoS\",\"PoW\",\"PoW\",\"PoW/PoS\",\"PoW/PoS\",\"PoW\",\"PoW\",\"PoW\",\"PoW\",\"PoW\",\"PoW/PoS\",\"PoW\",\"PoW\",\"PoW\",\"PoW/PoS\",\"PoW\",\"PoW/PoS\",\"PoW\",\"PoW\",\"PoC\",\"PoW/PoS\",\"PoW\",\"PoW\",\"PoW\",\"PoW\",\"PoW\",\"PoW\",\"PoS\",\"PoS/PoW/PoT\",\"PoW\",\"PoW\",\"PoW\",\"PoW\",\"PoW\",\"PoW/PoS\",\"PoS\",\"PoW\",\"PoW/PoS\",\"PoW\",\"PoW\",\"PoW\",\"PoW\",\"PoW/PoS\",\"PoW\",\"PoW\",\"PoS\",\"PoW\",\"PoW/PoS\",\"PoS\",\"PoW/PoS\",\"PoW\",\"PoW\",\"PoW\",\"PoW/PoS\",\"PoW/PoS\",\"PoW/PoS\",\"PoW/PoS\",\"PoW/PoS\",\"PoW\",\"PoW\",\"PoW\",\"PoS\",\"PoW/PoS\",\"PoW\",\"PoS\",\"PoW\",\"PoS\",\"PoW/PoS\",\"PoW\",\"PoW\",\"PoW\",\"PoW\",\"PoW/PoS\",\"PoW/PoS\",\"PoW\",\"PoST\",\"PoW\",\"PoW\",\"PoW/PoS\",\"PoS\",\"PoW\",\"PoW/PoS\",\"PoW/PoS\",\"PoW\",\"PoW\",\"PoC\",\"PoS\",\"PoW\",\"PoW/PoS\",\"PoW/PoS\",\"PoW\",\"PoS\",\"PoW\",\"PoW/PoS\",\"PoW\",\"PoS\",\"PoW\",\"PoW/PoS\",\"PoW/PoS\",\"PoW\",\"PoW\",\"PoS\",\"PoW\",\"PoW\",\"PoW\",\"PoW/PoS\",\"PoW\",\"PoW\",\"PoW\",\"PoW\",\"PoW\",\"PoW/PoS\",\"PoW/nPoS\",\"PoW\",\"PoW\",\"PoW\",\"PoW/PoS\",\"PoW\",\"PoS/PoW\",\"PoW\",\"PoW\",\"PoS\",\"PoW\",\"PoW/PoS\",\"PoW\",\"PoW/PoS\",\"PoW/PoS\",\"PoW\",\"PoW\",\"PoW/PoS\",\"PoW\",\"PoW\",\"PoW/PoS\",\"PoW/PoS\",\"PoW\",\"PoW/PoS\",\"PoW\",\"PoW/PoS\",\"PoW/PoS\",\"PoS\",\"PoW\",\"PoW\",\"PoW\",\"PoW\",\"PoW/PoS\",\"PoS\",\"PoW/PoS\",\"PoC\",\"PoS\",\"PoW\",\"PoW\",\"PoW/PoS\",\"PoW/PoS\",\"PoW/PoS\",\"PoW/PoS\",\"PoW/PoS\",\"PoW\",\"PoS\",\"PoW/PoS\",\"PoW/PoS\",\"PoW/PoS\",\"PoS\",\"PoW\",\"PoS\",\"dPoW/PoW\",\"PoW/PoS\",\"PoW/PoS\",\"PoW\",\"PoW/PoS\",\"PoW\",\"PoW/PoS\",\"PoW/PoS\",\"PoW\",\"PoW/PoS\",\"PoW\",\"PoS\",\"PoW\",\"PoW/PoW\",\"PoW\",\"PoW/PoS\",\"PoS\",\"PoW/PoS\",\"PoW/PoS\",\"PoW\",\"PoS\",\"PoS\",\"PoW/PoS\",\"PoS\",\"PoW/PoS\",\"PoW\",\"PoW\",\"DPoS\",\"PoW/PoS\",\"PoW\",\"PoW\",\"PoW/PoS\",\"PoW/PoS\",\"PoS\",\"PoW/PoS\",\"PoW/PoS\",\"PoW\",\"PoS\",\"PoW/PoS\",\"PoW/PoS\",\"PoW/PoS\",\"TPoS\",\"PoW/PoS\",\"PoW/PoS\",\"PoW/PoS\",\"PoW\",\"PoW/PoS\",\"PoS\",\"PoW/PoS\",\"PoW/PoS\",\"PoS\",\"PoW/PoS\",\"PoW\",\"PoW\",\"PoW\",\"PoW/PoS\",\"PoW/PoS\",\"PoW/PoS\",\"PoW/PoS\",\"PoW\",\"PoW/PoS\",\"PoW\",\"PoS\",\"PoW/PoS \",\"PoW\",\"PoS\",\"PoW\",\"PoW\",\"PoW/PoS\",\"PoW\",\"PoW\",\"PoS\",\"PoW\",\"PoW/PoS\",\"PoW/PoS\",\"PoW/PoS\",\"PoW\",\"PoS\",\"PoW/PoS\",\"PoW\",\"PoS\",\"PoW/PoS\",\"PoW/PoS\",\"PoW/PoS\",\"PoW/PoS\",\"PoS\",\"PoW/PoS\",\"PoW\",\"PoS\",\"PoW\",\"PoS\",\"PoW/PoS\",\"PoW/PoS\",\"PoS\",\"PoW\",\"PoS\",\"PoW\",\"PoW/PoS\",\"PoW\",\"PoW\",\"PoW\",\"PoW\",\"PoW/PoS\",\"PoW\",\"PoW/PoS\",\"PoW/PoS\",\"PoW\",\"PoW/PoS\",\"PoW\",\"PoW\",\"PoW\",\"PoW/PoS\",\"PoW\",\"PoW/PoS\",\"PoW\",\"PoW\",\"PoW\",\"PoS\",\"PoW\",\"PoW/PoS\",\"PoW\",\"PoW/PoS\",\"PoS\",\"Proof of Authority\",\"PoW\",\"PoS\",\"PoW\",\"PoW\",\"PoW\",\"PoW\",\"PoW\",\"PoW/PoS\",\"PoW/PoS\",\"PoW\",\"PoS\",\"PoS\",\"PoW/PoS\",\"PoW\",\"PoW/PoS\",\"PoW\",\"PoW/PoS\",\"PoW\",\"PoS\",\"PoW\",\"PoW/PoS\",\"PoW/PoS\",\"PoW/PoS\",\"PoW/PoS\",\"PoW\",\"PoW/PoS\",\"PoW/PoS\",\"PoW\",\"PoS\",\"PoW/PoS\",\"PoS\",\"PoW\",\"PoW\",\"PoW\",\"PoW\",\"PoW/PoS\",\"DPoS\",\"PoW/PoS\",\"PoW/PoS\",\"PoW\",\"PoW/PoS\",\"PoW\",\"PoW\",\"PoW\",\"PoS\",\"PoS\",\"PoW\",\"PoW\",\"PoW/PoS\",\"PoW/PoS\",\"PoW\",\"PoW/PoS\",\"PoW\",\"PoW\",\"PoW\",\"PoS\",\"PoW\",\"PoW\",\"PoW/PoS\",\"PoW/PoS\",\"PoS\",\"PoW\",\"PoW\",\"PoW\",\"PoS\",\"PoS\",\"PoW and PoS\",\"PoW\",\"PoW\",\"PoW/PoS\",\"PoW\",\"PoW\",\"PoW\",\"PoW\",\"PoS\",\"POBh\",\"PoW + Hive\",\"PoW\",\"PoW\",\"PoW\",\"PoW/PoS\",\"PoA\",\"PoW/PoS\",\"PoW/PoS\",\"PoS\",\"PoS\",\"PoW\",\"PoW\",\"PoW\",\"PoW\",\"PoW/PoS\",\"PoW/PoS\",\"PoW/PoS\",\"PoW\",\"PoS\",\"PoW\",\"PoS\",\"PoS\",\"PoW/PoS\",\"DPoS\",\"PoW\",\"PoW/PoS\",\"PoS\",\"PoW\",\"PoS\",\"PoW/PoS\",\"PoW\",\"PoW\",\"PoS/PoW\",\"PoW\",\"PoS\",\"PoW\",\"PoW\",\"PoW\",\"PoW\",\"PoW/PoS\",\"PoS\",\"PoW\",\"PoW/PoS\",\"PoW\",\"PoW/PoS\",\"PoS\",\"HPoW\",\"PoS\",\"PoS\",\"PoS\",\"PoW\",\"PoW\",\"PoW\",\"PoW/PoS\",\"PoS\",\"PoW/PoS\",\"PoS\",\"PoW/PoS\",\"PoS\",\"PoW\",\"PoW/PoS\",\"PoW\",\"PoW\",\"PoW\",\"PoW\",\"PoS\",\"PoW/PoS\",\"PoS\",\"PoS\",\"PoW\",\"PoW/PoS\",\"PoS\",\"PoW\",\"PoW/PoS\",\"Zero-Knowledge Proof\",\"PoW\",\"DPOS\",\"PoW\",\"PoS\",\"PoW\",\"PoW\",\"Pos\",\"PoS\",\"PoW\",\"PoW/PoS\",\"PoW\",\"PoW\",\"PoS\",\"PoW\",\"PoW\",\"PoW/PoS\",\"PoW\",\"PoW/PoS\",\"PoW\",\"PoS\",\"PoW/PoS\",\"PoW\",\"PoS\",\"PoW/PoS\",\"PoW/PoS\",\"PoW/PoS\",\"PoW/PoS\",\"PoW\",\"PoW\",\"PoW\",\"PoW/PoS\",\"DPoS\",\"PoW/PoS\",\"PoW\",\"PoW/PoS\",\"PoW\",\"PoW/PoS\",\"PoW\",\"PoW/PoS\",\"PoS\",\"PoW/PoS\",\"PoW/PoS\",\"PoW\",\"PoW/PoS\",\"PoW/PoS\",\"PoW/PoS\",\"PoW\",\"PoW/PoS\",\"PoW\",\"PoW/PoS\",\"PoW\",\"PoW/PoS\",\"PoW/PoS\",\"PoS\",\"PoW\",\"PoW\",\"Proof of Trust\",\"PoW/PoS\",\"DPoS\",\"PoS\",\"PoW/PoS\",\"PoW/PoS\",\"DPoC\",\"PoW\",\"PoW/PoS\",\"PoW\",\"DPoS\",\"PoW\",\"DPoS\",\"PoS\",\"LPoS\",\"PoS\",\"DPoS\",\"PoS/LPoS\",\"DPoS\",\"PoW/PoS\",\"PoW\",\"PoW\",\"PoS\"],\"TotalCoinSupply\":[\"42\",\"532000000\",\"314159265359\",\"21000000\",\"0\",\"84000000\",\"22000000\",\"0\",\"210000000\",\"21000000\",\"3600570502\",\"21000000000\",\"22000000\",\"12500000\",\"21000000\",\"350000000\",\"20000000\",\"64000000\",\"16768584\",\"0\",\"2000000000\",\"384000000000\",\"169795588\",\"250000000\",\"100000000\",\"0\",\"247000000\",\"84000000\",\"48166000\",\"500000\",\"21000000 \",\"1000000\",\"13140000\",\"18000000\",\"40000000000\",\"4380000\",\"16555000000\",\"21000000000\",\"13500000000\",\"21000000 \",\"299792458\",\"32000000\",\"0\",\"0\",\"11235813\",\"336000000\",\"1420609614\",\"70000000\",\"72245700\",\"120000000\",\"0\",\"90600000000\",\"22000000\",\"21000000\",\"265420800\",\"20000000\",\"1350000\",\"100000000\",\"42000000\",\"200000000\",\"0\",\"10000000\",\"2419200000\",\"16180000\",\"0\",\"15000000000\",\"21000000\",\"337000000\",\"0\",\"3770000\",\"420000000\",\"98000000\",\"0\",\"21000000\",\"250000000\",\"51200000\",\"0\",\"1000\",\"888000000\",\"100000000\",\"47011968\",\"2300000000\",\"10000000\",\"42000000\",\"80000000\",\"250000\",\"0\",\"1600000000\",\"100000000\",\"23000000\",\"0\",\"84000000\",\"265420800\",\"5500000\",\"0\",\"45000000\",\"0\",\"1000000000\",\"184467440735\",\"10000000000\",\"2158812800\",\"500000000\",\"105120000\",\"68000000\",\"0\",\"1680000000\",\"0\",\"166386000\",\"12000000\",\"2628000\",\"500000000\",\"160000000\",\"0\",\"10000000\",\"1000000000\",\"1000000000\",\"20000000\",\"0\",\"0\",\"3371337\",\"20000000\",\"10000000000\",\"1840000000\",\"619478\",\"21000000\",\"92000000000\",\"0\",\"78000000\",\"33000000\",\"65789100\",\"53760000\",\"5060000\",\"21000000\",\"0\",\"210240000\",\"250000000\",\"100000000\",\"16906397\",\"50000000\",\"0\",\"1000000000\",\"26298000\",\"16000000\",\"21000000\",\"21000000\",\"210000000\",\"81962100\",\"22000000\",\"26550000000\",\"84000000\",\"10500000\",\"21626280000 \",\"0\",\"42000000\",\"221052632\",\"84000000\",\"30000000\",\"168351300\",\"24000000\",\"384000000\",\" 99000000000\",\"40000000\",\"2147483647\",\"20000000\",\"20000000\",\"25000000\",\"75000000\",\"222725000\",\"525000000\",\"90000000\",\"139000000\",\"616448\",\"33500000\",\"2000000000\",\"44333333\",\"100000000\",\"200000000\",\"25000000\",\"657000000\",\"200000000\",\"50000000\",\"90000000\",\"10000000\",\"21000000\",\"9736000\",\"3000000\",\"21000000\",\"1200000000\",\"0\",\"200000000\",\"0\",\"10638298\",\"3100000000\",\"30000000\",\"20000000000\",\"74000000\",\"0\",\"1500000000\",\"21400000\",\"39999898\",\"2500124\",\"100000000\",\"301000000\",\"7506000000\",\"26205539\",\"21000000\",\"125000000\",\"30000000\",\"10000000000\",\"500000000\",\"850000000\",\"3853326.77707314\",\"50000000\",\"38540000 \",\"42000000\",\"228000000\",\"20000000\",\"60000000\",\"20000000\",\"33000000\",\"76500000\",\"28000000\",\"650659833\",\"5000000\",\"21000000\",\"144000000\",\"32514916898\",\"13000000\",\"3315789\",\"15000000\",\"78835200\",\"2714286\",\"25000000\",\"9999999\",\"500000000\",\"21000000\",\"9354000\",\"20000000\",\"100000000000\",\"21933333\",\"185000000\",\"55000000\",\"110000000\",\"3360000\",\"14524851.4827\",\"1000000000\",\"17000000\",\"1000000000\",\"100000000 \",\"21000000\",\"34426423\",\"2232901\",\"100000000\",\"36900000\",\"110000000\",\"4000000000\",\"110290030\",\"100000000\",\"48252000\",\"400000000\",\"500000000\",\"21212121\",\"28600000\",\"1000000000\",\"75000000000\",\"40000000\",\"35520400\",\"2000000000\",\"2500000000\",\"30000000\",\"105000000\",\"90000000000\",\"200084200\",\"72000000\",\"100000000\",\"105000000\",\"50000000000\",\"0\",\"340282367\",\"30000000\",\"2000000000\",\"10000000\",\"100000000\",\"120000000\",\"100000000\",\"19276800\",\"30000000\",\" 75000000\",\"60000000\",\"18900000\",\"50000000000\",\"54000000\",\"18898187.6216583\",\"21000000\",\"200000000000\",\"5000000000\",\"137500000\",\"1100000000\",\"100000000\",\"21000000\",\"9507271\",\"17405891.19707116\",\"86712634466\",\"10500000000\",\"61599965\",\"0\",\"20000000\",\"84000000\",\"100000000\",\"100000000\",\"48252000\",\"4200000\",\"88888888\",\"91388946\",\"45000000000\",\"27000000\",\"21000000000\",\"400000000\",\"1800000000\",\"15733333\",\"27000000\",\"24000000\",\"21000000\",\"25000000000\",\"100000000\",\"1200000000\",\"60000000\",\"156306732.71\",\"21000000\",\"200000000\",\"100000000\",\"21000000\",\"14788275.991\",\"9000000000\",\"350000000\",\"45000000\",\"280000000\",\"31800000\",\"144000000\",\"500000000\",\"30000000000\",\"210000000\",\"660000000\",\"210000000\",\"85000000000\",\"12500000\",\"10000000000\",\"27716121\",\"20000000\",\"550000000\",\"999481516\",\"50000000000\",\"150000000\",\"4999999999\",\"50000000\",\" 90000000000\",\"19800000\",\"21000000\",\"120000000\",\"500000000\",\"64000000\",\"900000000\",\"4000000\",\"21000000\",\"23000000\",\"20166000\",\"23000000\",\"25000000\",\"1618033\",\"30000000\",\"1000000000000\",\"16600000\",\"232000000\",\"336000000\",\"10000000000\",\"100000000\",\"1100000000\",\"800000000\",\"5200000000\",\"840000000\",\"40000000\",\"18406979840\",\"500000000\",\"19340594\",\"252460800\",\"25000000\",\"60000000\",\"124000000\",\"1000000000\",\"6500000000\",\"1000000000\",\"21000000\",\"25000000\",\"50000000\",\"3000000\",\"5000000\",\"70000000\",\"500000000\",\"300000000\",\"21000000\",\"88000000\",\"30000000\",\"100000000\",\"100000000\",\"200000000\",\"80000000\",\"18400000\",\"45000000\",\"5121951220\",\"21000000\",\"26280000\",\"21000000\",\"18000000\",\"26000000\",\"10500000\",\"600000518\",\"150000000\",\"184000000000\",\"10200000000\",\"44000000\",\"168000000\",\"100000000\",\"1000000000\",\"84000000\",\"90000000\",\"92000000000\",\"650000000 \",\"100262205\",\"18081806 \",\"22075700\",\"21000000\",\"21000000\",\"82546564\",\"21000000\",\"5151000\",\"16880000000\",\"52500000\",\"100000000\",\"22105263\",\"1000000000\",\"1750000000\",\"88188888\",\"210000000\",\"184470000000\",\"55000000\",\"50000000\",\"260000000\",\"210000000\",\"2100000000\",\"366000000\",\"100000000\",\"25000000\",\"18000000000\",\"1000000000\",\"100000000\",\"1000000000\",\"7600000000\",\"50000000\",\"84000000\",\"21000000\",\"70000000000\",\"0\",\"8080000000\",\"54000000\",\"105120001.44\",\"25228800\",\"105000000\",\"21000000\",\"120000000\",\"21000000\",\"262800000\",\"19035999\",\"30886000\",\"13370000\",\"74800000000\",\"100000000\",\"19700000\",\"84000000\",\"500000000\",\"5000000000\",\"420000000\",\"64000000\",\"2100000\",\"168000000\",\"30000000\",\"1000000000\",\"35000000000\",\"98100000000\",\"0\",\"4000000000\",\"200000000\",\"7000000000\",\"54256119\",\"21000000\",\"0\",\"500000000\",\"1000000000\",\"10500000000\",\"190000000\",\"1000000000\",\"42000000\",\"15000000\",\"50000000000\",\"400000000\",\"105000000\",\"208000000\",\"160000000\",\"9000000\",\"5000000\",\"182000000\",\"16504333\",\"105000000\",\"159918400\",\"10008835635\",\"300000000\",\"60168145\",\"5000000000\",\"2800000\",\"120000\",\"2100000000\",\"0\",\"24487944\",\"0\",\"1000000000\",\"100000000\",\"8634140\",\"990000000000\",\"1000000000\",\"2000000000\",\"250000000\",\"1400222610\",\"21000000\",\"1000000\"],\"TotalCoinsMined\":{\"__ndarray__\":\"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\",\"dtype\":\"float64\",\"order\":\"little\",\"shape\":[533]}},\"selected\":{\"id\":\"4980\"},\"selection_policy\":{\"id\":\"5014\"}},\"id\":\"4979\",\"type\":\"ColumnDataSource\"},{\"attributes\":{},\"id\":\"4981\",\"type\":\"StringFormatter\"},{\"attributes\":{\"editor\":{\"id\":\"5007\"},\"field\":\"Class\",\"formatter\":{\"id\":\"5006\"},\"title\":\"Class\"},\"id\":\"5008\",\"type\":\"TableColumn\"},{\"attributes\":{\"margin\":[5,5,5,5],\"name\":\"HSpacer10584\",\"sizing_mode\":\"stretch_width\"},\"id\":\"5017\",\"type\":\"Spacer\"},{\"attributes\":{},\"id\":\"5007\",\"type\":\"IntEditor\"},{\"attributes\":{},\"id\":\"4996\",\"type\":\"StringFormatter\"},{\"attributes\":{},\"id\":\"4991\",\"type\":\"StringFormatter\"},{\"attributes\":{\"margin\":[5,5,5,5],\"name\":\"HSpacer10583\",\"sizing_mode\":\"stretch_width\"},\"id\":\"4978\",\"type\":\"Spacer\"},{\"attributes\":{\"columns\":[{\"id\":\"4983\"},{\"id\":\"4988\"},{\"id\":\"4993\"},{\"id\":\"4998\"},{\"id\":\"5003\"},{\"id\":\"5008\"}],\"height\":300,\"reorderable\":false,\"source\":{\"id\":\"4979\"},\"view\":{\"id\":\"5012\"}},\"id\":\"5011\",\"type\":\"DataTable\"},{\"attributes\":{\"editor\":{\"id\":\"4987\"},\"field\":\"Algorithm\",\"formatter\":{\"id\":\"4986\"},\"title\":\"Algorithm\"},\"id\":\"4988\",\"type\":\"TableColumn\"},{\"attributes\":{},\"id\":\"4986\",\"type\":\"StringFormatter\"},{\"attributes\":{\"editor\":{\"id\":\"4997\"},\"field\":\"TotalCoinSupply\",\"formatter\":{\"id\":\"4996\"},\"title\":\"TotalCoinSupply\"},\"id\":\"4998\",\"type\":\"TableColumn\"},{\"attributes\":{\"editor\":{\"id\":\"5002\"},\"field\":\"TotalCoinsMined\",\"formatter\":{\"id\":\"5001\"},\"title\":\"TotalCoinsMined\"},\"id\":\"5003\",\"type\":\"TableColumn\"},{\"attributes\":{\"editor\":{\"id\":\"4982\"},\"field\":\"CoinName\",\"formatter\":{\"id\":\"4981\"},\"title\":\"CoinName\"},\"id\":\"4983\",\"type\":\"TableColumn\"},{\"attributes\":{},\"id\":\"5014\",\"type\":\"UnionRenderers\"},{\"attributes\":{},\"id\":\"4982\",\"type\":\"StringEditor\"},{\"attributes\":{},\"id\":\"5002\",\"type\":\"NumberEditor\"}],\"root_ids\":[\"4977\"]},\"title\":\"Bokeh Application\",\"version\":\"2.1.0\"}};\n",
       "  var render_items = [{\"docid\":\"7e59adbf-5c00-4e5b-b708-b62a525d24fe\",\"root_ids\":[\"4977\"],\"roots\":{\"4977\":\"84f33693-15cb-40a8-8c3e-671938dd82ba\"}}];\n",
       "  root.Bokeh.embed.embed_items_notebook(docs_json, render_items);\n",
       "  }\n",
       "if (root.Bokeh !== undefined) {\n",
       "    embed_document(root);\n",
       "  } else {\n",
       "    var attempts = 0;\n",
       "    var timer = setInterval(function(root) {\n",
       "      if (root.Bokeh !== undefined) {\n",
       "        clearInterval(timer);\n",
       "        embed_document(root);\n",
       "      } else if (document.readyState == \"complete\") {\n",
       "        attempts++;\n",
       "        if (attempts > 100) {\n",
       "          clearInterval(timer);\n",
       "          console.log(\"Bokeh: ERROR: Unable to run BokehJS code because BokehJS library is missing\");\n",
       "        }\n",
       "      }\n",
       "    }, 10, root)\n",
       "  }\n",
       "})(window);</script>"
      ],
      "text/plain": [
       ":Table   [CoinName,Algorithm,ProofType,TotalCoinSupply,TotalCoinsMined,Class]"
      ]
     },
     "execution_count": 405,
     "metadata": {
      "application/vnd.holoviews_exec.v0+json": {
       "id": "4977"
      }
     },
     "output_type": "execute_result"
    }
   ],
   "source": [
    "# Table with All Current Tradable Cryptocurrencies\n",
    "clustered_df.hvplot.table(columns=['CoinName', 'Algorithm', 'ProofType', 'TotalCoinSupply',\n",
    "                 'TotalCoinsMined', 'Class'], width=600)"
   ]
  },
  {
   "cell_type": "code",
   "execution_count": 406,
   "metadata": {},
   "outputs": [
    {
     "data": {},
     "metadata": {},
     "output_type": "display_data"
    },
    {
     "data": {
      "application/vnd.holoviews_exec.v0+json": "",
      "text/html": [
       "<div id='5029'>\n",
       "\n",
       "\n",
       "\n",
       "\n",
       "\n",
       "  <div class=\"bk-root\" id=\"567d65a3-5427-4b13-baf0-107d515fb860\" data-root-id=\"5029\"></div>\n",
       "</div>\n",
       "<script type=\"application/javascript\">(function(root) {\n",
       "  function embed_document(root) {\n",
       "  var docs_json = {\"7675b3f0-838c-4c8c-8453-b949a0640028\":{\"roots\":{\"references\":[{\"attributes\":{\"text\":\"\",\"text_color\":{\"value\":\"black\"},\"text_font_size\":{\"value\":\"12pt\"}},\"id\":\"5038\",\"type\":\"Title\"},{\"attributes\":{\"data_source\":{\"id\":\"5107\"},\"glyph\":{\"id\":\"5110\"},\"hover_glyph\":null,\"muted_glyph\":{\"id\":\"5112\"},\"nonselection_glyph\":{\"id\":\"5111\"},\"selection_glyph\":null,\"view\":{\"id\":\"5114\"}},\"id\":\"5113\",\"type\":\"GlyphRenderer\"},{\"attributes\":{},\"id\":\"5053\",\"type\":\"SaveTool\"},{\"attributes\":{},\"id\":\"5148\",\"type\":\"UnionRenderers\"},{\"attributes\":{\"fill_alpha\":{\"value\":0.2},\"fill_color\":{\"value\":\"#d62628\"},\"line_alpha\":{\"value\":0.2},\"line_color\":{\"value\":\"#d62628\"},\"size\":{\"units\":\"screen\",\"value\":5.477225575051661},\"x\":{\"field\":\"TotalCoinsMined\"},\"y\":{\"field\":\"TotalCoinSupply\"}},\"id\":\"5133\",\"type\":\"Scatter\"},{\"attributes\":{},\"id\":\"5071\",\"type\":\"Selection\"},{\"attributes\":{\"data_source\":{\"id\":\"5088\"},\"glyph\":{\"id\":\"5091\"},\"hover_glyph\":null,\"muted_glyph\":{\"id\":\"5093\"},\"nonselection_glyph\":{\"id\":\"5092\"},\"selection_glyph\":null,\"view\":{\"id\":\"5095\"}},\"id\":\"5094\",\"type\":\"GlyphRenderer\"},{\"attributes\":{},\"id\":\"5068\",\"type\":\"CategoricalTickFormatter\"},{\"attributes\":{\"data\":{\"Class\":[1,1,1,1,1,1,1,1,1,1,1,1,1,1,1,1,1,1,1,1,1,1,1,1,1,1,1,1,1,1,1,1,1,1,1,1,1,1,1,1,1,1,1,1,1,1,1,1,1,1,1,1,1,1,1,1,1,1,1,1,1,1,1,1,1,1,1,1,1,1,1,1,1,1,1,1,1,1,1,1,1,1,1,1,1,1,1,1,1,1,1,1,1,1,1,1,1,1,1,1,1,1,1,1,1,1,1,1,1,1,1,1,1,1,1,1,1,1,1,1,1,1,1,1,1,1,1,1,1,1,1,1,1,1,1,1,1,1,1,1,1,1,1,1,1,1,1,1,1,1,1,1,1,1,1,1,1,1,1,1,1,1,1,1,1,1,1,1,1,1,1,1,1,1,1,1,1,1,1,1,1,1,1,1,1,1,1,1,1,1,1,1,1,1,1,1,1,1,1,1,1,1,1,1,1,1,1,1,1,1,1,1,1,1,1,1,1,1,1,1,1,1,1,1,1,1,1,1,1,1,1,1,1,1,1,1,1,1,1,1],\"CoinName\":[\"Bitcoin\",\"Ethereum\",\"Litecoin\",\"Monero\",\"Ethereum Classic\",\"ZCash\",\"DigiByte\",\"ProsperCoin\",\"Spreadcoin\",\"Argentum\",\"MyriadCoin\",\"MoonCoin\",\"ZetaCoin\",\"SexCoin\",\"Quatloo\",\"QuarkCoin\",\"Riecoin\",\"Digitalcoin \",\"Catcoin\",\"CannaCoin\",\"CryptCoin\",\"Verge\",\"DevCoin\",\"EarthCoin\",\"E-Gulden\",\"Einsteinium\",\"Emerald\",\"Franko\",\"FeatherCoin\",\"GrandCoin\",\"GlobalCoin\",\"GoldCoin\",\"Infinite Coin\",\"IXcoin\",\"KrugerCoin\",\"LuckyCoin\",\"Litebar \",\"MegaCoin\",\"MediterraneanCoin\",\"MinCoin\",\"NobleCoin\",\"Namecoin\",\"NyanCoin\",\"RonPaulCoin\",\"StableCoin\",\"SmartCoin\",\"SysCoin\",\"TigerCoin\",\"TerraCoin\",\"UnbreakableCoin\",\"Unobtanium\",\"UroCoin\",\"ViaCoin\",\"Vertcoin\",\"WorldCoin\",\"JouleCoin\",\"ByteCoin\",\"DigitalNote \",\"MonaCoin\",\"Gulden\",\"PesetaCoin\",\"Wild Beast Coin\",\"Flo\",\"ArtByte\",\"Folding Coin\",\"Unitus\",\"CypherPunkCoin\",\"OmniCron\",\"GreenCoin\",\"Cryptonite\",\"MasterCoin\",\"SoonCoin\",\"1Credit\",\"MarsCoin \",\"Crypto\",\"Anarchists Prime\",\"BowsCoin\",\"Song Coin\",\"BitZeny\",\"Expanse\",\"Siacoin\",\"MindCoin\",\"I0coin\",\"Revolution VR\",\"HOdlcoin\",\"Gamecredits\",\"CarpeDiemCoin\",\"Adzcoin\",\"SoilCoin\",\"YoCoin\",\"SibCoin\",\"Francs\",\"BolivarCoin\",\"Omni\",\"PizzaCoin\",\"Komodo\",\"Karbo\",\"ZayedCoin\",\"Circuits of Value\",\"DopeCoin\",\"DollarCoin\",\"Shilling\",\"ZCoin\",\"Elementrem\",\"ZClassic\",\"KiloCoin\",\"ArtexCoin\",\"Kurrent\",\"Cannabis Industry Coin\",\"OsmiumCoin\",\"Bikercoins\",\"HexxCoin\",\"PacCoin\",\"Citadel\",\"BeaverCoin\",\"VaultCoin\",\"Zero\",\"Canada eCoin\",\"Zoin\",\"DubaiCoin\",\"EB3coin\",\"Coinonat\",\"BenjiRolls\",\"ILCoin\",\"EquiTrader\",\"Quantum Resistant Ledger\",\"Dynamic\",\"Nano\",\"ChanCoin\",\"Dinastycoin\",\"DigitalPrice\",\"Unify\",\"SocialCoin\",\"ArcticCoin\",\"DAS\",\"LeviarCoin\",\"Bitcore\",\"gCn Coin\",\"SmartCash\",\"Onix\",\"Bitcoin Cash\",\"Sojourn Coin\",\"NewYorkCoin\",\"FrazCoin\",\"Kronecoin\",\"AdCoin\",\"Linx\",\"Sumokoin\",\"BitcoinZ\",\"Elements\",\"VIVO Coin\",\"Bitcoin Gold\",\"Pirl\",\"eBoost\",\"Pura\",\"Innova\",\"Ellaism\",\"GoByte\",\"SHIELD\",\"UltraNote\",\"BitCoal\",\"DaxxCoin\",\"AC3\",\"Lethean\",\"PopularCoin\",\"Photon\",\"Sucre\",\"SparksPay\",\"GunCoin\",\"IrishCoin\",\"Pioneer Coin\",\"UnitedBitcoin\",\"Interzone\",\"TurtleCoin\",\"MUNcoin\",\"Niobio Cash\",\"ShareChain\",\"Travelflex\",\"KREDS\",\"BitFlip\",\"LottoCoin\",\"Crypto Improvement Fund\",\"Poa Network\",\"Callisto Network\",\"BitTube\",\"Poseidon\",\"Aidos Kuneen\",\"Bitrolium\",\"Alpenschillling\",\"FuturoCoin\",\"Monero Classic\",\"Jumpcoin\",\"Infinex\",\"KEYCO\",\"GINcoin\",\"PlatinCoin\",\"Loki\",\"Newton Coin\",\"MassGrid\",\"PluraCoin\",\"Motion\",\"PlusOneCoin\",\"Axe\",\"HexCoin\",\"Webchain\",\"Ryo\",\"Urals Coin\",\"Qwertycoin\",\"Project Pai\",\"Azart\",\"Xchange\",\"Acute Angle Cloud\",\"CrypticCoin\",\"Actinium\",\"Bitcoin SV\",\"FREDEnergy\",\"Universal Molecule\",\"Lithium\",\"Exosis\",\"Block-Logic\",\"Beam\",\"Bithereum\",\"SLICE\",\"BLAST\",\"Bitcoin Rhodium\",\"GlobalToken\",\"SolarCoin\",\"UFO Coin\",\"BlakeCoin\",\"Crypto Escudo\",\"Crown Coin\",\"SmileyCoin\",\"Groestlcoin\",\"Bata\",\"Pakcoin\",\"JoinCoin\",\"Vollar\",\"Reality Clash\",\"Beldex\",\"Horizen\"],\"TotalCoinSupply\":[\"21000000\",\"0\",\"84000000\",\"0\",\"210000000\",\"21000000\",\"21000000000\",\"21000000\",\"20000000\",\"64000000\",\"2000000000\",\"384000000000\",\"169795588\",\"250000000\",\"100000000\",\"247000000\",\"84000000\",\"48166000\",\"21000000 \",\"13140000\",\"18000000\",\"16555000000\",\"21000000000\",\"13500000000\",\"21000000 \",\"299792458\",\"32000000\",\"11235813\",\"336000000\",\"1420609614\",\"70000000\",\"72245700\",\"90600000000\",\"21000000\",\"265420800\",\"20000000\",\"1350000\",\"42000000\",\"200000000\",\"10000000\",\"15000000000\",\"21000000\",\"337000000\",\"21000000\",\"250000000\",\"51200000\",\"888000000\",\"47011968\",\"42000000\",\"80000000\",\"250000\",\"0\",\"23000000\",\"84000000\",\"265420800\",\"45000000\",\"184467440735\",\"10000000000\",\"105120000\",\"1680000000\",\"166386000\",\"2628000\",\"160000000\",\"1000000000\",\"1000000000\",\"0\",\"0\",\"3371337\",\"10000000000\",\"1840000000\",\"619478\",\"21000000\",\"92000000000\",\"33000000\",\"65789100\",\"53760000\",\"21000000\",\"210240000\",\"250000000\",\"16906397\",\"0\",\"16000000\",\"21000000\",\"210000000\",\"81962100\",\"84000000\",\"21626280000 \",\"84000000\",\"30000000\",\"168351300\",\"24000000\",\"20000000\",\"25000000\",\"616448\",\"25000000\",\"200000000\",\"10000000\",\"9736000\",\"1200000000\",\"200000000\",\"10638298\",\"30000000\",\"21400000\",\"26205539\",\"21000000\",\"10000000000\",\"500000000\",\"228000000\",\"21000000\",\"2714286\",\"25000000\",\"9999999\",\"100000000000\",\"185000000\",\"3360000\",\"1000000000\",\"17000000\",\"100000000 \",\"21000000\",\"2232901\",\"4000000000\",\"48252000\",\"35520400\",\"2500000000\",\"72000000\",\"105000000\",\"0\",\"340282367\",\"30000000\",\"2000000000\",\"100000000\",\"19276800\",\" 75000000\",\"60000000\",\"18900000\",\"54000000\",\"21000000\",\"200000000000\",\"5000000000\",\"1100000000\",\"21000000\",\"10500000000\",\"0\",\"20000000\",\"84000000\",\"100000000\",\"100000000\",\"88888888\",\"21000000000\",\"1800000000\",\"27000000\",\"21000000\",\"156306732.71\",\"100000000\",\"350000000\",\"45000000\",\"280000000\",\"31800000\",\"660000000\",\"85000000000\",\"12500000\",\"10000000000\",\"550000000\",\"999481516\",\"4999999999\",\" 90000000000\",\"19800000\",\"21000000\",\"500000000\",\"64000000\",\"23000000\",\"20166000\",\"23000000\",\"1000000000000\",\"16600000\",\"336000000\",\"10000000000\",\"100000000\",\"1100000000\",\"40000000\",\"18406979840\",\"500000000\",\"252460800\",\"6500000000\",\"1000000000\",\"21000000\",\"25000000\",\"70000000\",\"300000000\",\"100000000\",\"18400000\",\"21000000\",\"26280000\",\"18000000\",\"10500000\",\"600000518\",\"150000000\",\"184000000000\",\"168000000\",\"1000000000\",\"22075700\",\"21000000\",\"21000000\",\"22105263\",\"1750000000\",\"88188888\",\"210000000\",\"184470000000\",\"2100000000\",\"25000000\",\"100000000\",\"1000000000\",\"7600000000\",\"84000000\",\"21000000\",\"8080000000\",\"105120001.44\",\"25228800\",\"21000000\",\"120000000\",\"262800000\",\"30886000\",\"100000000\",\"64000000\",\"2100000\",\"168000000\",\"98100000000\",\"4000000000\",\"7000000000\",\"1000000000\",\"42000000\",\"50000000000\",\"105000000\",\"5000000\",\"182000000\",\"2800000\",\"2100000000\",\"24487944\",\"1400222610\",\"21000000\"],\"TotalCoinsMined\":{\"__ndarray__\":\"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\",\"dtype\":\"float64\",\"order\":\"little\",\"shape\":[240]}},\"selected\":{\"id\":\"5089\"},\"selection_policy\":{\"id\":\"5104\"}},\"id\":\"5088\",\"type\":\"ColumnDataSource\"},{\"attributes\":{},\"id\":\"5051\",\"type\":\"CategoricalTicker\"},{\"attributes\":{\"click_policy\":\"mute\",\"items\":[{\"id\":\"5087\"},{\"id\":\"5106\"},{\"id\":\"5127\"},{\"id\":\"5150\"}],\"location\":[0,0],\"title\":\"Class\"},\"id\":\"5086\",\"type\":\"Legend\"},{\"attributes\":{\"fill_color\":{\"value\":\"#1f77b3\"},\"line_color\":{\"value\":\"#1f77b3\"},\"size\":{\"units\":\"screen\",\"value\":5.477225575051661},\"x\":{\"field\":\"TotalCoinsMined\"},\"y\":{\"field\":\"TotalCoinSupply\"}},\"id\":\"5073\",\"type\":\"Scatter\"},{\"attributes\":{},\"id\":\"5055\",\"type\":\"WheelZoomTool\"},{\"attributes\":{\"children\":[{\"id\":\"5030\"},{\"id\":\"5037\"},{\"id\":\"5277\"}],\"margin\":[0,0,0,0],\"name\":\"Row10775\",\"tags\":[\"embedded\"]},\"id\":\"5029\",\"type\":\"Row\"},{\"attributes\":{\"axis_label\":\"TotalCoinSupply\",\"bounds\":\"auto\",\"formatter\":{\"id\":\"5068\"},\"major_label_orientation\":\"horizontal\",\"ticker\":{\"id\":\"5051\"}},\"id\":\"5050\",\"type\":\"CategoricalAxis\"},{\"attributes\":{\"fill_alpha\":{\"value\":0.2},\"fill_color\":{\"value\":\"#2ba02b\"},\"line_alpha\":{\"value\":0.2},\"line_color\":{\"value\":\"#2ba02b\"},\"size\":{\"units\":\"screen\",\"value\":5.477225575051661},\"x\":{\"field\":\"TotalCoinsMined\"},\"y\":{\"field\":\"TotalCoinSupply\"}},\"id\":\"5112\",\"type\":\"Scatter\"},{\"attributes\":{\"fill_color\":{\"value\":\"#2ba02b\"},\"line_color\":{\"value\":\"#2ba02b\"},\"size\":{\"units\":\"screen\",\"value\":5.477225575051661},\"x\":{\"field\":\"TotalCoinsMined\"},\"y\":{\"field\":\"TotalCoinSupply\"}},\"id\":\"5110\",\"type\":\"Scatter\"},{\"attributes\":{\"data_source\":{\"id\":\"5070\"},\"glyph\":{\"id\":\"5073\"},\"hover_glyph\":null,\"muted_glyph\":{\"id\":\"5075\"},\"nonselection_glyph\":{\"id\":\"5074\"},\"selection_glyph\":null,\"view\":{\"id\":\"5077\"}},\"id\":\"5076\",\"type\":\"GlyphRenderer\"},{\"attributes\":{},\"id\":\"5042\",\"type\":\"LinearScale\"},{\"attributes\":{\"label\":{\"value\":\"2\"},\"renderers\":[{\"id\":\"5113\"}]},\"id\":\"5127\",\"type\":\"LegendItem\"},{\"attributes\":{\"margin\":[5,5,5,5],\"name\":\"HSpacer10779\",\"sizing_mode\":\"stretch_width\"},\"id\":\"5030\",\"type\":\"Spacer\"},{\"attributes\":{\"axis_label\":\"TotalCoinsMined\",\"bounds\":\"auto\",\"formatter\":{\"id\":\"5067\"},\"major_label_orientation\":\"horizontal\",\"ticker\":{\"id\":\"5047\"}},\"id\":\"5046\",\"type\":\"LinearAxis\"},{\"attributes\":{\"data\":{\"Class\":[3,3,3,3],\"CoinName\":[\"Vechain\",\"BiblePay\",\"LitecoinCash\",\"Waves\"],\"TotalCoinSupply\":[\"86712634466\",\"5200000000\",\"840000000\",\"100000000\"],\"TotalCoinsMined\":{\"__ndarray__\":\"AACgM7jSKULx13gn/mfaQZawGn54BsNBAAAAAITXl0E=\",\"dtype\":\"float64\",\"order\":\"little\",\"shape\":[4]}},\"selected\":{\"id\":\"5129\"},\"selection_policy\":{\"id\":\"5148\"}},\"id\":\"5128\",\"type\":\"ColumnDataSource\"},{\"attributes\":{\"align\":null,\"below\":[{\"id\":\"5046\"}],\"center\":[{\"id\":\"5049\"},{\"id\":\"5052\"}],\"left\":[{\"id\":\"5050\"}],\"margin\":null,\"min_border_bottom\":10,\"min_border_left\":10,\"min_border_right\":10,\"min_border_top\":10,\"plot_height\":300,\"plot_width\":700,\"renderers\":[{\"id\":\"5076\"},{\"id\":\"5094\"},{\"id\":\"5113\"},{\"id\":\"5134\"}],\"right\":[{\"id\":\"5086\"}],\"sizing_mode\":\"fixed\",\"title\":{\"id\":\"5038\"},\"toolbar\":{\"id\":\"5059\"},\"x_range\":{\"id\":\"5031\"},\"x_scale\":{\"id\":\"5042\"},\"y_range\":{\"id\":\"5032\"},\"y_scale\":{\"id\":\"5044\"}},\"id\":\"5037\",\"subtype\":\"Figure\",\"type\":\"Plot\"},{\"attributes\":{\"data\":{\"Class\":[0,0,0,0,0,0,0,0,0,0,0,0,0,0,0,0,0,0,0,0,0,0,0,0,0,0,0,0,0,0,0,0,0,0,0,0,0,0,0,0,0,0,0,0,0,0,0,0,0,0,0,0,0,0,0,0,0,0,0,0,0,0,0,0,0,0,0,0,0,0,0,0,0,0,0,0,0,0,0,0,0,0,0,0,0,0,0,0,0,0,0,0,0,0,0,0,0,0,0,0,0,0,0,0,0,0,0,0,0,0,0,0,0,0,0,0,0,0,0,0,0,0,0,0,0,0,0,0,0,0,0,0,0,0,0,0,0,0,0,0,0,0,0,0,0,0,0,0,0,0,0,0,0,0,0,0,0,0,0,0,0,0,0,0,0,0,0,0,0,0,0,0,0,0,0,0,0,0,0,0,0,0,0,0,0,0,0,0,0,0,0,0,0,0,0,0,0,0,0,0,0,0,0,0,0,0,0,0,0,0,0,0,0,0,0,0,0,0,0,0,0,0,0,0,0,0,0,0,0,0,0,0,0,0,0,0,0,0,0,0,0,0,0,0,0,0,0,0,0,0,0,0,0,0,0,0,0,0,0,0,0,0,0,0,0,0,0,0,0,0,0,0,0,0,0,0,0,0,0,0,0,0,0,0,0,0,0,0],\"CoinName\":[\"42 Coin\",\"404Coin\",\"EliteCoin\",\"Dash\",\"Bitshares\",\"BitcoinDark\",\"PayCoin\",\"KoboCoin\",\"Aurora Coin\",\"BlueCoin\",\"EnergyCoin\",\"BitBar\",\"CryptoBullion\",\"CasinoCoin\",\"Diamond\",\"Exclusive Coin\",\"FlutterCoin\",\"HoboNickels\",\"HyperStake\",\"IOCoin\",\"MaxCoin\",\"MintCoin\",\"MazaCoin\",\"Nautilus Coin\",\"NavCoin\",\"OpalCoin\",\"Orbitcoin\",\"PotCoin\",\"PhoenixCoin\",\"Reddcoin\",\"SuperCoin\",\"SyncCoin\",\"TeslaCoin\",\"TittieCoin\",\"TorCoin\",\"UnitaryStatus Dollar\",\"UltraCoin\",\"VeriCoin\",\"X11 Coin\",\"Crypti\",\"StealthCoin\",\"ZCC Coin\",\"BurstCoin\",\"StorjCoin\",\"Neutron\",\"FairCoin\",\"RubyCoin\",\"Kore\",\"Dnotes\",\"8BIT Coin\",\"Sativa Coin\",\"Ucoin\",\"Vtorrent\",\"IslaCoin\",\"Nexus\",\"Droidz\",\"Squall Coin\",\"Diggits\",\"Paycon\",\"Emercoin\",\"EverGreenCoin\",\"Decred\",\"EDRCoin\",\"Hitcoin\",\"DubaiCoin\",\"PWR Coin\",\"BillaryCoin\",\"GPU Coin\",\"EuropeCoin\",\"ZeitCoin\",\"SwingCoin\",\"SafeExchangeCoin\",\"Nebuchadnezzar\",\"Ratecoin\",\"Revenu\",\"Clockcoin\",\"VIP Tokens\",\"BitSend\",\"Let it Ride\",\"PutinCoin\",\"iBankCoin\",\"Frankywillcoin\",\"MudraCoin\",\"Lutetium Coin\",\"GoldBlocks\",\"CarterCoin\",\"BitTokens\",\"MustangCoin\",\"ZoneCoin\",\"RootCoin\",\"BitCurrency\",\"Swiscoin\",\"BuzzCoin\",\"Opair\",\"PesoBit\",\"Halloween Coin\",\"CoffeeCoin\",\"RoyalCoin\",\"GanjaCoin V2\",\"TeamUP\",\"LanaCoin\",\"ARK\",\"InsaneCoin\",\"EmberCoin\",\"XenixCoin\",\"FreeCoin\",\"PLNCoin\",\"AquariusCoin\",\"Creatio\",\"Eternity\",\"Eurocoin\",\"BitcoinFast\",\"Stakenet\",\"BitConnect Coin\",\"MoneyCoin\",\"Enigma\",\"Russiacoin\",\"PandaCoin\",\"GameUnits\",\"GAKHcoin\",\"Allsafe\",\"LiteCreed\",\"Klingon Empire Darsek\",\"Internet of People\",\"KushCoin\",\"Printerium\",\"Impeach\",\"Zilbercoin\",\"FirstCoin\",\"FindCoin\",\"OpenChat\",\"RenosCoin\",\"VirtacoinPlus\",\"TajCoin\",\"Impact\",\"Atmos\",\"HappyCoin\",\"MacronCoin\",\"Condensate\",\"Independent Money System\",\"ArgusCoin\",\"LomoCoin\",\"ProCurrency\",\"GoldReserve\",\"GrowthCoin\",\"Phreak\",\"Degas Coin\",\"HTML5 Coin\",\"Ultimate Secure Cash\",\"QTUM\",\"Espers\",\"Denarius\",\"Virta Unique Coin\",\"Bitcoin Planet\",\"BritCoin\",\"Linda\",\"DeepOnion\",\"Signatum\",\"Cream\",\"Monoeci\",\"Draftcoin\",\"Stakecoin\",\"CoinonatX\",\"Ethereum Dark\",\"Obsidian\",\"Cardano\",\"Regalcoin\",\"TrezarCoin\",\"TerraNovaCoin\",\"Rupee\",\"WomenCoin\",\"Theresa May Coin\",\"NamoCoin\",\"LUXCoin\",\"Xios\",\"Bitcloud 2.0\",\"KekCoin\",\"BlackholeCoin\",\"Infinity Economics\",\"Magnet\",\"Lamden Tau\",\"Electra\",\"Bitcoin Diamond\",\"Cash & Back Coin\",\"Bulwark\",\"Kalkulus\",\"GermanCoin\",\"LiteCoin Ultra\",\"PhantomX\",\"Digiwage\",\"Trollcoin\",\"Litecoin Plus\",\"Monkey Project\",\"TokenPay\",\"1717 Masonic Commemorative Token\",\"My Big Coin\",\"Unified Society USDEX\",\"Tokyo Coin\",\"Stipend\",\"Pushi\",\"Ellerium\",\"Velox\",\"Ontology\",\"Bitspace\",\"Briacoin\",\"Ignition\",\"MedicCoin\",\"Bitcoin Green\",\"Deviant Coin\",\"Abjcoin\",\"Semux\",\"Carebit\",\"Zealium\",\"Proton\",\"iDealCash\",\"Bitcoin Incognito\",\"HollyWoodCoin\",\"Swisscoin\",\"Xt3ch\",\"TheVig\",\"EmaratCoin\",\"Dekado\",\"Lynx\",\"Poseidon Quark\",\"BitcoinWSpectrum\",\"Muse\",\"Trivechain\",\"Dystem\",\"Giant\",\"Peony Coin\",\"Absolute Coin\",\"Vitae\",\"TPCash\",\"ARENON\",\"EUNO\",\"MMOCoin\",\"Ketan\",\"XDNA\",\"PAXEX\",\"ThunderStake\",\"Kcash\",\"Bettex coin\",\"BitMoney\",\"Junson Ming Chan Coin\",\"HerbCoin\",\"PirateCash\",\"Oduwa\",\"Galilel\",\"Crypto Sports\",\"Credit\",\"Dash Platinum\",\"Nasdacoin\",\"Beetle Coin\",\"Titan Coin\",\"Award\",\"Insane Coin\",\"ALAX\",\"LiteDoge\",\"TruckCoin\",\"OrangeCoin\",\"BitstarCoin\",\"NeosCoin\",\"HyperCoin\",\"PinkCoin\",\"AudioCoin\",\"IncaKoin\",\"Piggy Coin\",\"Genstake\",\"XiaoMiCoin\",\"CapriCoin\",\" ClubCoin\",\"Radium\",\"Creditbit \",\"OKCash\",\"Lisk\",\"HiCoin\",\"WhiteCoin\",\"FriendshipCoin\",\"Fiii\",\"Triangles Coin\",\"EOS\",\"Oxycoin\",\"TigerCash\",\"Particl\",\"Nxt\",\"ZEPHYR\",\"Gapcoin\",\"BitcoinPlus\"],\"TotalCoinSupply\":[\"42\",\"532000000\",\"314159265359\",\"22000000\",\"3600570502\",\"22000000\",\"12500000\",\"350000000\",\"16768584\",\"0\",\"0\",\"500000\",\"1000000\",\"40000000000\",\"4380000\",\"0\",\"0\",\"120000000\",\"0\",\"22000000\",\"100000000\",\"0\",\"2419200000\",\"16180000\",\"0\",\"0\",\"3770000\",\"420000000\",\"98000000\",\"0\",\"0\",\"1000\",\"100000000\",\"2300000000\",\"10000000\",\"1600000000\",\"100000000\",\"0\",\"5500000\",\"0\",\"0\",\"1000000000\",\"2158812800\",\"500000000\",\"68000000\",\"0\",\"0\",\"12000000\",\"500000000\",\"0\",\"10000000\",\"20000000\",\"20000000\",\"0\",\"78000000\",\"5060000\",\"0\",\"100000000\",\"50000000\",\"1000000000\",\"26298000\",\"21000000\",\"22000000\",\"26550000000\",\"10500000\",\"0\",\"42000000\",\"221052632\",\"384000000\",\" 99000000000\",\"40000000\",\"2147483647\",\"20000000\",\"75000000\",\"222725000\",\"525000000\",\"90000000\",\"139000000\",\"33500000\",\"2000000000\",\"44333333\",\"100000000\",\"200000000\",\"657000000\",\"50000000\",\"90000000\",\"21000000\",\"3000000\",\"21000000\",\"0\",\"0\",\"3100000000\",\"20000000000\",\"74000000\",\"0\",\"1500000000\",\"39999898\",\"2500124\",\"100000000\",\"301000000\",\"7506000000\",\"125000000\",\"30000000\",\"850000000\",\"3853326.77707314\",\"50000000\",\"38540000 \",\"42000000\",\"20000000\",\"60000000\",\"20000000\",\"33000000\",\"76500000\",\"28000000\",\"650659833\",\"5000000\",\"144000000\",\"32514916898\",\"13000000\",\"3315789\",\"15000000\",\"78835200\",\"500000000\",\"21000000\",\"9354000\",\"20000000\",\"21933333\",\"55000000\",\"110000000\",\"14524851.4827\",\"1000000000\",\"34426423\",\"100000000\",\"36900000\",\"110000000\",\"110290030\",\"100000000\",\"400000000\",\"500000000\",\"21212121\",\"28600000\",\"1000000000\",\"75000000000\",\"40000000\",\"2000000000\",\"30000000\",\"105000000\",\"90000000000\",\"200084200\",\"100000000\",\"50000000000\",\"10000000\",\"120000000\",\"100000000\",\"30000000\",\"50000000000\",\"18898187.6216583\",\"137500000\",\"100000000\",\"9507271\",\"17405891.19707116\",\"61599965\",\"48252000\",\"4200000\",\"91388946\",\"45000000000\",\"27000000\",\"400000000\",\"15733333\",\"24000000\",\"25000000000\",\"100000000\",\"1200000000\",\"60000000\",\"21000000\",\"200000000\",\"21000000\",\"14788275.991\",\"9000000000\",\"144000000\",\"500000000\",\"30000000000\",\"210000000\",\"210000000\",\"27716121\",\"20000000\",\"50000000000\",\"150000000\",\"50000000\",\"120000000\",\"900000000\",\"4000000\",\"21000000\",\"25000000\",\"1618033\",\"30000000\",\"232000000\",\"800000000\",\"19340594\",\"25000000\",\"60000000\",\"124000000\",\"1000000000\",\"50000000\",\"3000000\",\"5000000\",\"500000000\",\"21000000\",\"88000000\",\"30000000\",\"100000000\",\"200000000\",\"80000000\",\"45000000\",\"5121951220\",\"21000000\",\"26000000\",\"10200000000\",\"44000000\",\"100000000\",\"84000000\",\"90000000\",\"92000000000\",\"650000000 \",\"100262205\",\"18081806 \",\"82546564\",\"21000000\",\"5151000\",\"16880000000\",\"52500000\",\"100000000\",\"1000000000\",\"55000000\",\"50000000\",\"260000000\",\"210000000\",\"366000000\",\"100000000\",\"18000000000\",\"1000000000\",\"50000000\",\"70000000000\",\"0\",\"54000000\",\"105000000\",\"21000000\",\"19035999\",\"13370000\",\"74800000000\",\"19700000\",\"84000000\",\"500000000\",\"5000000000\",\"420000000\",\"30000000\",\"1000000000\",\"35000000000\",\"0\",\"200000000\",\"54256119\",\"21000000\",\"0\",\"500000000\",\"10500000000\",\"190000000\",\"1000000000\",\"15000000\",\"400000000\",\"208000000\",\"160000000\",\"9000000\",\"16504333\",\"105000000\",\"159918400\",\"10008835635\",\"300000000\",\"60168145\",\"5000000000\",\"120000\",\"0\",\"0\",\"1000000000\",\"8634140\",\"1000000000\",\"2000000000\",\"250000000\",\"1000000\"],\"TotalCoinsMined\":{\"__ndarray__\":\"E66yfP7/REC4HgUDbHLPQcQCukHCRBtCczEFzM85YUEAAAA6IW3kQQAAAACeqjNBKbtP3BjhZkG7M2l5+Ft4Qfoo47+DS3FBAAAATubvwkES3YNEKFedQc7ixUJvyuRAwkeKTRm2L0GutucKX6AiQqBfqd8TNklBAAAAQJaqVUHBNFQR94a7QQwjvdZrSJVB+1yxxgsD2UFq65YfTtVwQQAAAGi1TI1B0/wVEd7UE0LW///QSwzYQQAAAABk3G5BRmSpwUWDj0FguZSKkehsQRKlvSNEkkhBAkYH1JGLqkEAAICqHaKRQe5aBDlgTRtCJ6z+beYtiEEAAAAAAGSSQCa87r61IpNBsaedNq8s2EHonwEAK9k1QWZmJuQrYNBB6rAiWTr0h0EFZJ5Gp4l+Qao9Nsbrg1pBAAAAAITXl0GG/JjWhY9/Qc3n9LtNpKFBAAAA8CwE20EAAADAuGaIQQAAAPCYp4JBAAAAOGNdiUGF80Sm1ux5QZupEONA3D5BGovew8bRpEEAAAAAwWU2QQAAAICAEltBAAAAAIqFREEAAABAXiJmQQAAAADoGDdBAAAAIKhajkG/zH/LnFdgQUiKyBDAFxRBAAAAAITXl0EAAADAovl1QXMvcJZSiIRBdN9gjbfOaUFkibPdDsVjQdE2J+xd/0tBAACY/HN7BEIAAACAzZBTQc9mP8p8wQJCZta35+opYUEAAACQC02DQYfTOLms2WNBVp2dlVA3IULEswJnfrJQQQAAwP///99BAAAAANASc0HGaE16SgqgQQAAAAAFPjJBAAAAgCTIb0EAAACMaOWTQWZvBMgIQndB/JNThatmgkGfr0n5ZjvIQQAAAAA9RFFBAAAAAITXl0EAAAAA0BJTQQAAACCDlMNBAAAAIIyvbUEAAADgOZWEQQAAAADKKyJBdRnlsMgRJEEAAAAA6bJDQQAAAACxmT1BAAAAML03pEEAAIDcEtPDQQAA7E21OxJCKwwuO6qmkUEAAADQUPh/Qd7Fk3RYja9BAAAAIHq6oUEAAAAADhNDQQAAAACE15dBeHqlokP+cEFtW+JyHyDQQQAAAJAhzJlBAAAA0Dl+cUEAAMPVHnc1QvUhd2MHZk1BAAAAAITXh0EAAAAARExwQaeWKbVUsEJBAAAAANASc0H6EPGEOidXQQAAAEDFrmdBAWxAemNOc0EAAACEqwWSQW8KEEyCImVBAAAAQE7RZEEAAAAAntwoQQAAAECE9V9BtVU3hK59H0IAAACAK39KQQAAAIAmTElBt0Cnl6EPZEEAAABg0tN8QQAAAMDr2nZBiCPVPL9FQ0GsM0Q9dpZVQQAAAABUjGZBAAAAAEzPEkGMg2z7OkxGQQAAAADeOZpBRUdybza0a0EAAAAAZc3NQQAAAOitMIFBTeW+oh8baUEhj6B9UD1nQd7hZs9XYJpBBFaOczF/mkHLmyigOoZ0QQAAAFk07bdBO1STrt4BnUEAAACAGXtUQQAAAACkhTFBAAAAAICEHkEAAABE0/iXQQAAAGA7YHBBCaRc6miXsUFgRy0/orllQQAAAMCKXnRBAADA0e7uIkIAAAAgWbpjQQAAAACE15dBAADce2Q8FUIAAAAAO9NPQQAAANhbA45BAAAAgOL0WUEAAADAZ0h0QX/w+Yv12ABCmt3JoNXmdEEAAAB4Ir6ZQZHD0dPOkYZBI1gm0VX5Z0Hya5UVeMxxQQAAAACAhE5BAAAAQGiickEAAAAAkAVQQQAAAACE13dBAAAozX4lGELOvrqCMLRbQQAAAICuxaVBi6az6v5nMUEAAAAAYON2QQAAjLzRkCZCAAAAwFXylUEAAAAKwrTAQdlvVtQbr19BAAAAAJxmQEGKcHjo70l9QeDzw8nmhGdByXa+H4Y1b0EAALDPiMMAQo52rBbqNoJBYW9+x+krsUEAAACS4nIaQsmUx5ED4aVBz2ssRX91mkG+7S5cWURpQarabk6XK3BBXI/WvvhL8kHLoUVKCQ9gQQTn3DBuioVBAAAAAPYIekEAAABOJZ3BQQndJR2TG0NBAAAAAPXPUEFWAY1Yqn9zQQAAAABxsDhB6KPo0IXtYUHhdpBz8P6rQQAAAFoqdKtBREsDxtF1ZUHNzMyMCYpAQVK4HoUtlxlBWiYo0q1ieEEAAIC4lGXDQRnCFtRZTGpBGbZ/oIvOKUEAAACAyQkyQQAAoBhH3a9BfQaUa/WyYkFNBaat9tx0Qeux5ct22GJBAAAAACvJMkFybgOZg6igQUza+cLWH2VBAAAAAJbMUEHmdF2Wb+zUQY1+9GKwzGRBs3a7y/N0gkEAAAAwvf8CQkhQ/AAsG11BnLOPe8qyf0HvycO6Rpl0Qc/z50Wa4XxBWeaLVYkhMkLo1Px5NLlEQRjSAcgBkYtBAAAAgB9acUGs+faEN5uBQU0j1g9mBFtBqyApccCUVkGW5ZDnuMwvQai1Hz4RbmlBIUABrTd/j0EZ8ryfJp1UQXE9Cl94YHJBFw2eX3tYfUH/sqtvYrGZQQdWG3NDymFBe2YJdgDTUUEAAADADy9RQRiaN9DOls9BAAAAAGXNzUFyYIdLU+RZQWEUvDBm26hBcE5BYioHEEKEJfPNkdaAQQAAAAAKtGlBHUacrJkvbEGgRPozO2txQfT+3KxthT1BTx7ABmy1HELVjX/iFtclQSbCSwM+mHNBbw+6QBy3p0EAAABosbbKQa3xPlFpaW1BOMwhha2sdkEAAAAAZc3NQecdSFWdiAxCKJtyMsbqrEEAAAAAf/xKQQAAAECRn3NBXkvGj1DBUEFveMf/u15iQReFfVg6ArpBH2h9OGU6zUEEVtXrKbUQQm5QB5qDdb1BAAAAADicjEGYo4s7YRm4Qazh2s4mAahBrg+r0JO0mEEGieneXidNQQxbk4o5HnBBKqLLg93NkUEAAACw9ZycQQKaLf58oAJCiphieJkKrkGg/UgBgRgxQdJ7v7zSC/bBqDrkBk4vAUHZPYkFI2rOQRSu13KMudBBAAAAAGXNzUHZqskxyLRhQQAAAABlzc1B847T/mTN3UGU+vLEjHpsQUfYAfFvVP9A\",\"dtype\":\"float64\",\"order\":\"little\",\"shape\":[288]}},\"selected\":{\"id\":\"5071\"},\"selection_policy\":{\"id\":\"5084\"}},\"id\":\"5070\",\"type\":\"ColumnDataSource\"},{\"attributes\":{\"callback\":null,\"renderers\":[{\"id\":\"5076\"},{\"id\":\"5094\"},{\"id\":\"5113\"},{\"id\":\"5134\"}],\"tags\":[\"hv_created\"],\"tooltips\":[[\"Class\",\"@{Class}\"],[\"TotalCoinsMined\",\"@{TotalCoinsMined}\"],[\"TotalCoinSupply\",\"@{TotalCoinSupply}\"],[\"CoinName\",\"@{CoinName}\"]]},\"id\":\"5033\",\"type\":\"HoverTool\"},{\"attributes\":{},\"id\":\"5084\",\"type\":\"UnionRenderers\"},{\"attributes\":{},\"id\":\"5057\",\"type\":\"ResetTool\"},{\"attributes\":{},\"id\":\"5104\",\"type\":\"UnionRenderers\"},{\"attributes\":{},\"id\":\"5108\",\"type\":\"Selection\"},{\"attributes\":{\"active_drag\":\"auto\",\"active_inspect\":\"auto\",\"active_multi\":null,\"active_scroll\":\"auto\",\"active_tap\":\"auto\",\"tools\":[{\"id\":\"5033\"},{\"id\":\"5053\"},{\"id\":\"5054\"},{\"id\":\"5055\"},{\"id\":\"5056\"},{\"id\":\"5057\"}]},\"id\":\"5059\",\"type\":\"Toolbar\"},{\"attributes\":{\"source\":{\"id\":\"5070\"}},\"id\":\"5077\",\"type\":\"CDSView\"},{\"attributes\":{\"fill_alpha\":{\"value\":0.1},\"fill_color\":{\"value\":\"#d62628\"},\"line_alpha\":{\"value\":0.1},\"line_color\":{\"value\":\"#d62628\"},\"size\":{\"units\":\"screen\",\"value\":5.477225575051661},\"x\":{\"field\":\"TotalCoinsMined\"},\"y\":{\"field\":\"TotalCoinSupply\"}},\"id\":\"5132\",\"type\":\"Scatter\"},{\"attributes\":{\"label\":{\"value\":\"1\"},\"renderers\":[{\"id\":\"5094\"}]},\"id\":\"5106\",\"type\":\"LegendItem\"},{\"attributes\":{\"fill_color\":{\"value\":\"#ff7e0e\"},\"line_color\":{\"value\":\"#ff7e0e\"},\"size\":{\"units\":\"screen\",\"value\":5.477225575051661},\"x\":{\"field\":\"TotalCoinsMined\"},\"y\":{\"field\":\"TotalCoinSupply\"}},\"id\":\"5091\",\"type\":\"Scatter\"},{\"attributes\":{\"axis\":{\"id\":\"5046\"},\"grid_line_color\":null,\"ticker\":null},\"id\":\"5049\",\"type\":\"Grid\"},{\"attributes\":{\"source\":{\"id\":\"5088\"}},\"id\":\"5095\",\"type\":\"CDSView\"},{\"attributes\":{},\"id\":\"5089\",\"type\":\"Selection\"},{\"attributes\":{\"data_source\":{\"id\":\"5128\"},\"glyph\":{\"id\":\"5131\"},\"hover_glyph\":null,\"muted_glyph\":{\"id\":\"5133\"},\"nonselection_glyph\":{\"id\":\"5132\"},\"selection_glyph\":null,\"view\":{\"id\":\"5135\"}},\"id\":\"5134\",\"type\":\"GlyphRenderer\"},{\"attributes\":{\"bottom_units\":\"screen\",\"fill_alpha\":0.5,\"fill_color\":\"lightgrey\",\"left_units\":\"screen\",\"level\":\"overlay\",\"line_alpha\":1.0,\"line_color\":\"black\",\"line_dash\":[4,4],\"line_width\":2,\"right_units\":\"screen\",\"top_units\":\"screen\"},\"id\":\"5058\",\"type\":\"BoxAnnotation\"},{\"attributes\":{\"data\":{\"Class\":[2],\"CoinName\":[\"BitTorrent\"],\"TotalCoinSupply\":[\"990000000000\"],\"TotalCoinsMined\":{\"__ndarray__\":\"xfR7nv3PbEI=\",\"dtype\":\"float64\",\"order\":\"little\",\"shape\":[1]}},\"selected\":{\"id\":\"5108\"},\"selection_policy\":{\"id\":\"5125\"}},\"id\":\"5107\",\"type\":\"ColumnDataSource\"},{\"attributes\":{\"source\":{\"id\":\"5107\"}},\"id\":\"5114\",\"type\":\"CDSView\"},{\"attributes\":{},\"id\":\"5047\",\"type\":\"BasicTicker\"},{\"attributes\":{\"overlay\":{\"id\":\"5058\"}},\"id\":\"5056\",\"type\":\"BoxZoomTool\"},{\"attributes\":{\"end\":1032670428767.6898,\"reset_end\":1032670428767.6898,\"reset_start\":-48599692876.008446,\"start\":-48599692876.008446,\"tags\":[[[\"TotalCoinsMined\",\"TotalCoinsMined\",null]]]},\"id\":\"5031\",\"type\":\"Range1d\"},{\"attributes\":{},\"id\":\"5044\",\"type\":\"CategoricalScale\"},{\"attributes\":{\"fill_alpha\":{\"value\":0.1},\"fill_color\":{\"value\":\"#ff7e0e\"},\"line_alpha\":{\"value\":0.1},\"line_color\":{\"value\":\"#ff7e0e\"},\"size\":{\"units\":\"screen\",\"value\":5.477225575051661},\"x\":{\"field\":\"TotalCoinsMined\"},\"y\":{\"field\":\"TotalCoinSupply\"}},\"id\":\"5092\",\"type\":\"Scatter\"},{\"attributes\":{\"fill_alpha\":{\"value\":0.1},\"fill_color\":{\"value\":\"#2ba02b\"},\"line_alpha\":{\"value\":0.1},\"line_color\":{\"value\":\"#2ba02b\"},\"size\":{\"units\":\"screen\",\"value\":5.477225575051661},\"x\":{\"field\":\"TotalCoinsMined\"},\"y\":{\"field\":\"TotalCoinSupply\"}},\"id\":\"5111\",\"type\":\"Scatter\"},{\"attributes\":{\"fill_alpha\":{\"value\":0.1},\"fill_color\":{\"value\":\"#1f77b3\"},\"line_alpha\":{\"value\":0.1},\"line_color\":{\"value\":\"#1f77b3\"},\"size\":{\"units\":\"screen\",\"value\":5.477225575051661},\"x\":{\"field\":\"TotalCoinsMined\"},\"y\":{\"field\":\"TotalCoinSupply\"}},\"id\":\"5074\",\"type\":\"Scatter\"},{\"attributes\":{\"factors\":[\"42\",\"532000000\",\"314159265359\",\"22000000\",\"3600570502\",\"12500000\",\"350000000\",\"16768584\",\"0\",\"500000\",\"1000000\",\"40000000000\",\"4380000\",\"120000000\",\"100000000\",\"2419200000\",\"16180000\",\"3770000\",\"420000000\",\"98000000\",\"1000\",\"2300000000\",\"10000000\",\"1600000000\",\"5500000\",\"1000000000\",\"2158812800\",\"500000000\",\"68000000\",\"12000000\",\"20000000\",\"78000000\",\"5060000\",\"50000000\",\"26298000\",\"21000000\",\"26550000000\",\"10500000\",\"42000000\",\"221052632\",\"384000000\",\" 99000000000\",\"40000000\",\"2147483647\",\"75000000\",\"222725000\",\"525000000\",\"90000000\",\"139000000\",\"33500000\",\"2000000000\",\"44333333\",\"200000000\",\"657000000\",\"3000000\",\"3100000000\",\"20000000000\",\"74000000\",\"1500000000\",\"39999898\",\"2500124\",\"301000000\",\"7506000000\",\"125000000\",\"30000000\",\"850000000\",\"3853326.77707314\",\"38540000 \",\"60000000\",\"33000000\",\"76500000\",\"28000000\",\"650659833\",\"5000000\",\"144000000\",\"32514916898\",\"13000000\",\"3315789\",\"15000000\",\"78835200\",\"9354000\",\"21933333\",\"55000000\",\"110000000\",\"14524851.4827\",\"34426423\",\"36900000\",\"110290030\",\"400000000\",\"21212121\",\"28600000\",\"75000000000\",\"105000000\",\"90000000000\",\"200084200\",\"50000000000\",\"18898187.6216583\",\"137500000\",\"9507271\",\"17405891.19707116\",\"61599965\",\"48252000\",\"4200000\",\"91388946\",\"45000000000\",\"27000000\",\"15733333\",\"24000000\",\"25000000000\",\"1200000000\",\"14788275.991\",\"9000000000\",\"30000000000\",\"210000000\",\"27716121\",\"150000000\",\"900000000\",\"4000000\",\"25000000\",\"1618033\",\"232000000\",\"800000000\",\"19340594\",\"124000000\",\"88000000\",\"80000000\",\"45000000\",\"5121951220\",\"26000000\",\"10200000000\",\"44000000\",\"84000000\",\"92000000000\",\"650000000 \",\"100262205\",\"18081806 \",\"82546564\",\"5151000\",\"16880000000\",\"52500000\",\"260000000\",\"366000000\",\"18000000000\",\"70000000000\",\"54000000\",\"19035999\",\"13370000\",\"74800000000\",\"19700000\",\"5000000000\",\"35000000000\",\"54256119\",\"10500000000\",\"190000000\",\"208000000\",\"160000000\",\"9000000\",\"16504333\",\"159918400\",\"10008835635\",\"300000000\",\"60168145\",\"120000\",\"8634140\",\"250000000\",\"21000000000\",\"64000000\",\"384000000000\",\"169795588\",\"247000000\",\"48166000\",\"21000000 \",\"13140000\",\"18000000\",\"16555000000\",\"13500000000\",\"299792458\",\"32000000\",\"11235813\",\"336000000\",\"1420609614\",\"70000000\",\"72245700\",\"90600000000\",\"265420800\",\"1350000\",\"15000000000\",\"337000000\",\"51200000\",\"888000000\",\"47011968\",\"250000\",\"23000000\",\"184467440735\",\"10000000000\",\"105120000\",\"1680000000\",\"166386000\",\"2628000\",\"3371337\",\"1840000000\",\"619478\",\"65789100\",\"53760000\",\"210240000\",\"16906397\",\"16000000\",\"81962100\",\"21626280000 \",\"168351300\",\"616448\",\"9736000\",\"10638298\",\"21400000\",\"26205539\",\"228000000\",\"2714286\",\"9999999\",\"100000000000\",\"185000000\",\"3360000\",\"17000000\",\"100000000 \",\"2232901\",\"4000000000\",\"35520400\",\"2500000000\",\"72000000\",\"340282367\",\"19276800\",\" 75000000\",\"18900000\",\"200000000000\",\"1100000000\",\"88888888\",\"1800000000\",\"156306732.71\",\"280000000\",\"31800000\",\"660000000\",\"85000000000\",\"550000000\",\"999481516\",\"4999999999\",\" 90000000000\",\"19800000\",\"20166000\",\"1000000000000\",\"16600000\",\"18406979840\",\"252460800\",\"6500000000\",\"18400000\",\"26280000\",\"600000518\",\"184000000000\",\"168000000\",\"22075700\",\"22105263\",\"1750000000\",\"88188888\",\"184470000000\",\"2100000000\",\"7600000000\",\"8080000000\",\"105120001.44\",\"25228800\",\"262800000\",\"30886000\",\"2100000\",\"98100000000\",\"7000000000\",\"182000000\",\"2800000\",\"24487944\",\"1400222610\",\"990000000000\",\"86712634466\",\"5200000000\",\"840000000\"],\"tags\":[[[\"TotalCoinSupply\",\"TotalCoinSupply\",null]]]},\"id\":\"5032\",\"type\":\"FactorRange\"},{\"attributes\":{},\"id\":\"5054\",\"type\":\"PanTool\"},{\"attributes\":{},\"id\":\"5129\",\"type\":\"Selection\"},{\"attributes\":{\"source\":{\"id\":\"5128\"}},\"id\":\"5135\",\"type\":\"CDSView\"},{\"attributes\":{\"margin\":[5,5,5,5],\"name\":\"HSpacer10780\",\"sizing_mode\":\"stretch_width\"},\"id\":\"5277\",\"type\":\"Spacer\"},{\"attributes\":{},\"id\":\"5067\",\"type\":\"BasicTickFormatter\"},{\"attributes\":{\"label\":{\"value\":\"0\"},\"renderers\":[{\"id\":\"5076\"}]},\"id\":\"5087\",\"type\":\"LegendItem\"},{\"attributes\":{\"fill_alpha\":{\"value\":0.2},\"fill_color\":{\"value\":\"#1f77b3\"},\"line_alpha\":{\"value\":0.2},\"line_color\":{\"value\":\"#1f77b3\"},\"size\":{\"units\":\"screen\",\"value\":5.477225575051661},\"x\":{\"field\":\"TotalCoinsMined\"},\"y\":{\"field\":\"TotalCoinSupply\"}},\"id\":\"5075\",\"type\":\"Scatter\"},{\"attributes\":{},\"id\":\"5125\",\"type\":\"UnionRenderers\"},{\"attributes\":{\"fill_alpha\":{\"value\":0.2},\"fill_color\":{\"value\":\"#ff7e0e\"},\"line_alpha\":{\"value\":0.2},\"line_color\":{\"value\":\"#ff7e0e\"},\"size\":{\"units\":\"screen\",\"value\":5.477225575051661},\"x\":{\"field\":\"TotalCoinsMined\"},\"y\":{\"field\":\"TotalCoinSupply\"}},\"id\":\"5093\",\"type\":\"Scatter\"},{\"attributes\":{\"fill_color\":{\"value\":\"#d62628\"},\"line_color\":{\"value\":\"#d62628\"},\"size\":{\"units\":\"screen\",\"value\":5.477225575051661},\"x\":{\"field\":\"TotalCoinsMined\"},\"y\":{\"field\":\"TotalCoinSupply\"}},\"id\":\"5131\",\"type\":\"Scatter\"},{\"attributes\":{\"label\":{\"value\":\"3\"},\"renderers\":[{\"id\":\"5134\"}]},\"id\":\"5150\",\"type\":\"LegendItem\"},{\"attributes\":{\"axis\":{\"id\":\"5050\"},\"dimension\":1,\"grid_line_color\":null,\"ticker\":null},\"id\":\"5052\",\"type\":\"Grid\"}],\"root_ids\":[\"5029\"]},\"title\":\"Bokeh Application\",\"version\":\"2.1.0\"}};\n",
       "  var render_items = [{\"docid\":\"7675b3f0-838c-4c8c-8453-b949a0640028\",\"root_ids\":[\"5029\"],\"roots\":{\"5029\":\"567d65a3-5427-4b13-baf0-107d515fb860\"}}];\n",
       "  root.Bokeh.embed.embed_items_notebook(docs_json, render_items);\n",
       "  }\n",
       "if (root.Bokeh !== undefined) {\n",
       "    embed_document(root);\n",
       "  } else {\n",
       "    var attempts = 0;\n",
       "    var timer = setInterval(function(root) {\n",
       "      if (root.Bokeh !== undefined) {\n",
       "        clearInterval(timer);\n",
       "        embed_document(root);\n",
       "      } else if (document.readyState == \"complete\") {\n",
       "        attempts++;\n",
       "        if (attempts > 100) {\n",
       "          clearInterval(timer);\n",
       "          console.log(\"Bokeh: ERROR: Unable to run BokehJS code because BokehJS library is missing\");\n",
       "        }\n",
       "      }\n",
       "    }, 10, root)\n",
       "  }\n",
       "})(window);</script>"
      ],
      "text/plain": [
       ":NdOverlay   [Class]\n",
       "   :Scatter   [TotalCoinsMined]   (TotalCoinSupply,CoinName)"
      ]
     },
     "execution_count": 406,
     "metadata": {
      "application/vnd.holoviews_exec.v0+json": {
       "id": "5029"
      }
     },
     "output_type": "execute_result"
    }
   ],
   "source": [
    "# Plotting the clusters on 2D plot for x=\"TotalCoinsMined\" and y=\"TotalCoinSupply\"\n",
    "clustered_df.hvplot.scatter(\n",
    "    x=\"TotalCoinsMined\",\n",
    "    y=\"TotalCoinSupply\",\n",
    "    hover_cols=[\"CoinName\"],\n",
    "    by=\"Class\",\n",
    ")"
   ]
  },
  {
   "cell_type": "code",
   "execution_count": null,
   "metadata": {},
   "outputs": [],
   "source": []
  }
 ],
 "metadata": {
  "kernelspec": {
   "display_name": "PythonData",
   "language": "python",
   "name": "pythondata"
  },
  "language_info": {
   "codemirror_mode": {
    "name": "ipython",
    "version": 3
   },
   "file_extension": ".py",
   "mimetype": "text/x-python",
   "name": "python",
   "nbconvert_exporter": "python",
   "pygments_lexer": "ipython3",
   "version": "3.7.7"
  }
 },
 "nbformat": 4,
 "nbformat_minor": 4
}
